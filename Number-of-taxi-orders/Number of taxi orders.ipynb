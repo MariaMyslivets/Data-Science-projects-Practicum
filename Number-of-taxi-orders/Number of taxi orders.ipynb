{
 "cells": [
  {
   "cell_type": "markdown",
   "metadata": {},
   "source": [
    "#  Прогнозирование заказов такси"
   ]
  },
  {
   "cell_type": "markdown",
   "metadata": {},
   "source": [
    "Построение модели для прогнозирования количества заказов такси в аэропортах в зависимости от времени для привлечения водителей в период пиковой нагрузки. Метрика – RMSE."
   ]
  },
  {
   "cell_type": "markdown",
   "metadata": {},
   "source": [
    "## Подготовка"
   ]
  },
  {
   "cell_type": "code",
   "execution_count": 1,
   "metadata": {},
   "outputs": [],
   "source": [
    "import pandas as pd\n",
    "import numpy as np\n",
    "import matplotlib.pyplot as plt\n",
    "from statsmodels.tsa.seasonal import seasonal_decompose\n",
    "from sklearn.model_selection import train_test_split\n",
    "from sklearn.linear_model import LinearRegression\n",
    "from sklearn.metrics import mean_squared_error\n",
    "from catboost import CatBoostRegressor\n",
    "from sklearn.metrics import make_scorer\n",
    "from datetime import datetime\n",
    "import time\n",
    "from sklearn.model_selection import TimeSeriesSplit, GridSearchCV"
   ]
  },
  {
   "cell_type": "code",
   "execution_count": 2,
   "metadata": {},
   "outputs": [],
   "source": [
    "df = pd.read_csv('/datasets/taxi.csv',index_col=[0], parse_dates=[0])"
   ]
  },
  {
   "cell_type": "code",
   "execution_count": 3,
   "metadata": {},
   "outputs": [
    {
     "name": "stdout",
     "output_type": "stream",
     "text": [
      "<class 'pandas.core.frame.DataFrame'>\n",
      "DatetimeIndex: 26496 entries, 2018-03-01 00:00:00 to 2018-08-31 23:50:00\n",
      "Data columns (total 1 columns):\n",
      "num_orders    26496 non-null int64\n",
      "dtypes: int64(1)\n",
      "memory usage: 414.0 KB\n"
     ]
    }
   ],
   "source": [
    "df.info()"
   ]
  },
  {
   "cell_type": "code",
   "execution_count": 4,
   "metadata": {},
   "outputs": [
    {
     "data": {
      "text/html": [
       "<div>\n",
       "<style scoped>\n",
       "    .dataframe tbody tr th:only-of-type {\n",
       "        vertical-align: middle;\n",
       "    }\n",
       "\n",
       "    .dataframe tbody tr th {\n",
       "        vertical-align: top;\n",
       "    }\n",
       "\n",
       "    .dataframe thead th {\n",
       "        text-align: right;\n",
       "    }\n",
       "</style>\n",
       "<table border=\"1\" class=\"dataframe\">\n",
       "  <thead>\n",
       "    <tr style=\"text-align: right;\">\n",
       "      <th></th>\n",
       "      <th>num_orders</th>\n",
       "    </tr>\n",
       "    <tr>\n",
       "      <th>datetime</th>\n",
       "      <th></th>\n",
       "    </tr>\n",
       "  </thead>\n",
       "  <tbody>\n",
       "    <tr>\n",
       "      <td>2018-03-01 00:00:00</td>\n",
       "      <td>9</td>\n",
       "    </tr>\n",
       "    <tr>\n",
       "      <td>2018-03-01 00:10:00</td>\n",
       "      <td>14</td>\n",
       "    </tr>\n",
       "    <tr>\n",
       "      <td>2018-03-01 00:20:00</td>\n",
       "      <td>28</td>\n",
       "    </tr>\n",
       "    <tr>\n",
       "      <td>2018-03-01 00:30:00</td>\n",
       "      <td>20</td>\n",
       "    </tr>\n",
       "    <tr>\n",
       "      <td>2018-03-01 00:40:00</td>\n",
       "      <td>32</td>\n",
       "    </tr>\n",
       "    <tr>\n",
       "      <td>2018-03-01 00:50:00</td>\n",
       "      <td>21</td>\n",
       "    </tr>\n",
       "    <tr>\n",
       "      <td>2018-03-01 01:00:00</td>\n",
       "      <td>7</td>\n",
       "    </tr>\n",
       "    <tr>\n",
       "      <td>2018-03-01 01:10:00</td>\n",
       "      <td>5</td>\n",
       "    </tr>\n",
       "    <tr>\n",
       "      <td>2018-03-01 01:20:00</td>\n",
       "      <td>17</td>\n",
       "    </tr>\n",
       "    <tr>\n",
       "      <td>2018-03-01 01:30:00</td>\n",
       "      <td>12</td>\n",
       "    </tr>\n",
       "  </tbody>\n",
       "</table>\n",
       "</div>"
      ],
      "text/plain": [
       "                     num_orders\n",
       "datetime                       \n",
       "2018-03-01 00:00:00           9\n",
       "2018-03-01 00:10:00          14\n",
       "2018-03-01 00:20:00          28\n",
       "2018-03-01 00:30:00          20\n",
       "2018-03-01 00:40:00          32\n",
       "2018-03-01 00:50:00          21\n",
       "2018-03-01 01:00:00           7\n",
       "2018-03-01 01:10:00           5\n",
       "2018-03-01 01:20:00          17\n",
       "2018-03-01 01:30:00          12"
      ]
     },
     "execution_count": 4,
     "metadata": {},
     "output_type": "execute_result"
    }
   ],
   "source": [
    "df.head(10)"
   ]
  },
  {
   "cell_type": "code",
   "execution_count": 5,
   "metadata": {},
   "outputs": [
    {
     "name": "stdout",
     "output_type": "stream",
     "text": [
      "True\n"
     ]
    }
   ],
   "source": [
    "print(df.index.is_monotonic)"
   ]
  },
  {
   "cell_type": "code",
   "execution_count": 6,
   "metadata": {},
   "outputs": [],
   "source": [
    "df = df.resample('1H').sum()"
   ]
  },
  {
   "cell_type": "markdown",
   "metadata": {},
   "source": [
    "### Промежуточные комментарии\n",
    "Данные загружены, проверены на монотонность, и выполнено ресемплирование медианой по одному часу ."
   ]
  },
  {
   "cell_type": "markdown",
   "metadata": {},
   "source": [
    "## Анализ"
   ]
  },
  {
   "cell_type": "code",
   "execution_count": 7,
   "metadata": {},
   "outputs": [
    {
     "data": {
      "image/png": "[encoded data removed]",
      "text/plain": [
       "<Figure size 432x288 with 1 Axes>"
      ]
     },
     "metadata": {
      "needs_background": "light"
     },
     "output_type": "display_data"
    }
   ],
   "source": [
    "df['2018-03-01':'2018-03-01'].plot()\n",
    "plt.title('Number of orders', fontsize=16)\n",
    "plt.xlabel('Datetime')\n",
    "plt.ylabel('Order')\n",
    "plt.show()"
   ]
  },
  {
   "cell_type": "markdown",
   "metadata": {},
   "source": [
    "### Промежуточные комментарии\n",
    "Как видно из графика чаще всего такси заказывают в ночное время."
   ]
  },
  {
   "cell_type": "code",
   "execution_count": 8,
   "metadata": {
    "scrolled": true
   },
   "outputs": [
    {
     "data": {
      "image/png": "[encoded data removed]",
      "text/plain": [
       "<Figure size 432x288 with 1 Axes>"
      ]
     },
     "metadata": {
      "needs_background": "light"
     },
     "output_type": "display_data"
    }
   ],
   "source": [
    "decomposed = seasonal_decompose(df)\n",
    "decomposed.seasonal['2018-03-01':'2018-03-05'].plot(ax=plt.gca())\n",
    "plt.title('Seasonality', fontsize=16)\n",
    "plt.xlabel('Datetime')\n",
    "plt.ylabel('Order')\n",
    "plt.show()"
   ]
  },
  {
   "cell_type": "code",
   "execution_count": 9,
   "metadata": {},
   "outputs": [
    {
     "data": {
      "image/png": "[encoded data removed]",
      "text/plain": [
       "<Figure size 432x288 with 1 Axes>"
      ]
     },
     "metadata": {
      "needs_background": "light"
     },
     "output_type": "display_data"
    }
   ],
   "source": [
    "decomposed.trend.plot(ax=plt.gca())\n",
    "plt.title('Trend', fontsize=16)\n",
    "plt.xlabel('Datetime')\n",
    "plt.ylabel('Order')\n",
    "plt.show()"
   ]
  },
  {
   "cell_type": "markdown",
   "metadata": {},
   "source": [
    "### Промежуточные комментарии\n",
    "Из представленных графиков видно, что в летнее время (сезоны отпусков) повышается спрос на такси.\n",
    "Также подтвердился вывод о том, что чаще вызывают такси в вечернее/ночное время, так как количество общественного транспорта в это время уменьшается, либо у родственников или близких людей нет возможности забрать приезжающих пассажиров."
   ]
  },
  {
   "cell_type": "code",
   "execution_count": 10,
   "metadata": {
    "scrolled": true
   },
   "outputs": [
    {
     "data": {
      "image/png": "[encoded data removed]",
      "text/plain": [
       "<Figure size 720x504 with 1 Axes>"
      ]
     },
     "metadata": {
      "needs_background": "light"
     },
     "output_type": "display_data"
    }
   ],
   "source": [
    "plt.figure(figsize=(10, 7))\n",
    "df.plot(ax=plt.gca())\n",
    "df['num_orders'].rolling(24).mean().plot(ax=plt.gca())\n",
    "df['num_orders'].rolling(24).std().plot(ax=plt.gca())\n",
    "plt.title('Number of orders', fontsize=16)\n",
    "plt.xlabel('Datetime')\n",
    "plt.ylabel('Order')\n",
    "plt.legend(['Num_order', 'Mean','STD'])\n",
    "plt.show()"
   ]
  },
  {
   "cell_type": "markdown",
   "metadata": {},
   "source": [
    "### Промежуточные комментарии\n",
    "Усреднение по 24 часам сделала временной ряд более стационарным. В следующем действии перед усреднение находится разность временного ряда."
   ]
  },
  {
   "cell_type": "code",
   "execution_count": 11,
   "metadata": {},
   "outputs": [
    {
     "data": {
      "image/png": "[encoded data removed]",
      "text/plain": [
       "<Figure size 720x504 with 1 Axes>"
      ]
     },
     "metadata": {
      "needs_background": "light"
     },
     "output_type": "display_data"
    }
   ],
   "source": [
    "plt.figure(figsize=(10, 7))\n",
    "(df['num_orders'] - df['num_orders'].shift(24)).plot(ax=plt.gca())\n",
    "(df['num_orders'] - df['num_orders'].shift(24)).rolling(24).mean().plot(ax=plt.gca())\n",
    "(df['num_orders'] - df['num_orders'].shift(24)).rolling(24).std().plot(ax=plt.gca())\n",
    "plt.title('Difference in the number of orders', fontsize=16)\n",
    "plt.xlabel('Datetime')\n",
    "plt.ylabel('Difference')\n",
    "plt.legend(['Difference in orders', 'Mean','STD'])\n",
    "plt.show()"
   ]
  },
  {
   "cell_type": "markdown",
   "metadata": {},
   "source": [
    "### Промежуточные комментарии\n",
    "Из графика видно, что временной ряд стал еще более стационарным. Следовательно, с выбранными параметрами будет произведено прогнозирование."
   ]
  },
  {
   "cell_type": "markdown",
   "metadata": {},
   "source": [
    "## Обучение"
   ]
  },
  {
   "cell_type": "code",
   "execution_count": 12,
   "metadata": {},
   "outputs": [],
   "source": [
    "ROLLING_MEAN_SIZE = 24"
   ]
  },
  {
   "cell_type": "code",
   "execution_count": 13,
   "metadata": {},
   "outputs": [],
   "source": [
    "df['month'] = df.index.month\n",
    "df['day'] = df.index.day\n",
    "df['dayofweek'] = df.index.dayofweek"
   ]
  },
  {
   "cell_type": "markdown",
   "metadata": {},
   "source": [
    "### Промежуточные комментарии\n",
    "Добавлены следующие признаки: месяц, день и день недели, так как они могут повлиять на предсказание и его точность."
   ]
  },
  {
   "cell_type": "code",
   "execution_count": 14,
   "metadata": {},
   "outputs": [],
   "source": [
    "def make_features(data, max_lag, max_rol):\n",
    "    ''' Добавление разностей временного ряда '''\n",
    "    for lag in range(1, max_lag + 1):\n",
    "        data['lag_{}'.format(lag)] = data['num_orders'].shift(lag)\n",
    "    data['rolling_mean'] = data['num_orders'].shift().rolling(max_rol).mean()\n",
    "    data = data.dropna()\n",
    "    return data"
   ]
  },
  {
   "cell_type": "code",
   "execution_count": 15,
   "metadata": {},
   "outputs": [],
   "source": [
    "df = make_features(df, 24,ROLLING_MEAN_SIZE)"
   ]
  },
  {
   "cell_type": "code",
   "execution_count": 16,
   "metadata": {},
   "outputs": [],
   "source": [
    "train, test = train_test_split(df, shuffle=False, test_size=0.1)\n",
    "feauters_train = train.drop('num_orders',axis=1)\n",
    "target_train = train['num_orders']\n",
    "feauters_test = test.drop('num_orders',axis=1)\n",
    "target_test = test['num_orders']"
   ]
  },
  {
   "cell_type": "code",
   "execution_count": 17,
   "metadata": {},
   "outputs": [],
   "source": [
    "time_split = TimeSeriesSplit(n_splits=3)"
   ]
  },
  {
   "cell_type": "code",
   "execution_count": 18,
   "metadata": {},
   "outputs": [],
   "source": [
    "def rmse(target, pred):\n",
    "    \"\"\"Создание метрики для применения ее в GridSearchCV \"\"\"\n",
    "    return (mean_squared_error(target, pred)**0.5)\n",
    "my_score = make_scorer(rmse, greater_is_better=False)"
   ]
  },
  {
   "cell_type": "code",
   "execution_count": 19,
   "metadata": {},
   "outputs": [],
   "source": [
    "def predict_data(model,features_test, target_test,name_model):\n",
    "    \"\"\"Предсказание и измерение времени \"\"\"\n",
    "    start_time = datetime.now()\n",
    "    pred_test = model.predict(features_test)\n",
    "    end_time = datetime.now()\n",
    "    time_predict = end_time - start_time\n",
    "    rmse_test = rmse(target_test,pred_test)\n",
    "    print('rmse_test:',round(rmse_test,2))\n",
    "    print('time_predict:',time_predict)\n",
    "    plt.figure(figsize=(10, 7))\n",
    "    target_test.plot(ax=plt.gca())\n",
    "    ax=plt.gca()\n",
    "    pd.DataFrame(pred_test,index=target_test.index,columns=[\"predict\"]).plot(ax=plt.gca())\n",
    "    name = 'Target and predictions of {}'.format(name_model)\n",
    "    plt.title(name, fontsize=16)\n",
    "    plt.xlabel('Datetime')\n",
    "    plt.ylabel('Number of orders')\n",
    "    plt.legend(['Target', 'Predictions'])\n",
    "    ax.set_xlim('2018-08-15', '2018-08-17')\n",
    "    plt.show()\n",
    "    return rmse_test, time_predict"
   ]
  },
  {
   "cell_type": "markdown",
   "metadata": {},
   "source": [
    "### Промежуточные комментарии\n",
    "Данные разделены на обучающую и тестовую выборки. Первые строки с пропущенными значениями в обучающей выборке из-за расчета разностей и скользящего среднего были удалены.\n",
    " Также подготовлены функции для повторяющихся действий."
   ]
  },
  {
   "cell_type": "code",
   "execution_count": 20,
   "metadata": {},
   "outputs": [
    {
     "name": "stdout",
     "output_type": "stream",
     "text": [
      "CPU times: user 1.38 ms, sys: 0 ns, total: 1.38 ms\n",
      "Wall time: 1 ms\n"
     ]
    }
   ],
   "source": [
    "%%time\n",
    "start_time = datetime.now()\n",
    "pred_dum = target_test.shift(fill_value=target_train[-1])\n",
    "end_time = datetime.now()\n",
    "time_predict_dum = end_time - start_time"
   ]
  },
  {
   "cell_type": "code",
   "execution_count": 21,
   "metadata": {},
   "outputs": [],
   "source": [
    "lr =  LinearRegression()\n",
    "param_lr = {'normalize':[True,False]}   "
   ]
  },
  {
   "cell_type": "code",
   "execution_count": 22,
   "metadata": {},
   "outputs": [
    {
     "name": "stdout",
     "output_type": "stream",
     "text": [
      "{'normalize': True}\n",
      "CPU times: user 289 ms, sys: 300 ms, total: 589 ms\n",
      "Wall time: 573 ms\n"
     ]
    }
   ],
   "source": [
    "%%time\n",
    "start_time = datetime.now()\n",
    "model_lr = GridSearchCV(lr, param_lr, refit=True, scoring = my_score, cv=time_split)\n",
    "best_model_lr = model_lr.fit(feauters_train, target_train)\n",
    "end_time = datetime.now()\n",
    "time_gs_lr = end_time - start_time\n",
    "best_params_lr = best_model_lr.best_params_\n",
    "print(best_params_lr)"
   ]
  },
  {
   "cell_type": "code",
   "execution_count": 23,
   "metadata": {},
   "outputs": [
    {
     "name": "stdout",
     "output_type": "stream",
     "text": [
      "CPU times: user 36.2 ms, sys: 36.7 ms, total: 72.9 ms\n",
      "Wall time: 97.6 ms\n"
     ]
    }
   ],
   "source": [
    "%%time\n",
    "start_time = datetime.now()\n",
    "lr_best =  LinearRegression(normalize = True)\n",
    "model_lr = lr_best.fit(feauters_train, target_train)\n",
    "end_time = datetime.now()\n",
    "time_fit_lr = end_time - start_time"
   ]
  },
  {
   "cell_type": "code",
   "execution_count": 24,
   "metadata": {},
   "outputs": [],
   "source": [
    "cbr = CatBoostRegressor()\n",
    "params_cbr = {'depth': [4, 7, 10],\n",
    "          'learning_rate' : [0.03, 0.1],\n",
    "          'iterations': [500]}"
   ]
  },
  {
   "cell_type": "code",
   "execution_count": 25,
   "metadata": {},
   "outputs": [
    {
     "name": "stdout",
     "output_type": "stream",
     "text": [
      "0:\tlearn: 28.9492418\ttotal: 48.4ms\tremaining: 24.2s\n",
      "100:\tlearn: 18.2745670\ttotal: 744ms\tremaining: 2.94s\n",
      "200:\tlearn: 16.5346606\ttotal: 1.5s\tremaining: 2.23s\n",
      "300:\tlearn: 15.3702623\ttotal: 2.27s\tremaining: 1.5s\n",
      "400:\tlearn: 14.0701813\ttotal: 3.03s\tremaining: 747ms\n",
      "499:\tlearn: 13.0351078\ttotal: 3.88s\tremaining: 0us\n",
      "0:\tlearn: 31.6078788\ttotal: 2.51ms\tremaining: 1.25s\n",
      "100:\tlearn: 20.3531863\ttotal: 1.17s\tremaining: 4.64s\n",
      "200:\tlearn: 18.6874219\ttotal: 2.44s\tremaining: 3.62s\n",
      "300:\tlearn: 17.6548419\ttotal: 3.61s\tremaining: 2.39s\n",
      "400:\tlearn: 16.7581304\ttotal: 4.87s\tremaining: 1.2s\n",
      "499:\tlearn: 16.0300514\ttotal: 6.12s\tremaining: 0us\n",
      "0:\tlearn: 33.5110065\ttotal: 2.16ms\tremaining: 1.08s\n",
      "100:\tlearn: 22.0766928\ttotal: 1.51s\tremaining: 5.96s\n",
      "200:\tlearn: 20.6323688\ttotal: 2.98s\tremaining: 4.43s\n",
      "300:\tlearn: 19.7115765\ttotal: 4.53s\tremaining: 2.99s\n",
      "400:\tlearn: 18.9569696\ttotal: 5.99s\tremaining: 1.48s\n",
      "499:\tlearn: 18.2219900\ttotal: 7.47s\tremaining: 0us\n",
      "0:\tlearn: 28.1396965\ttotal: 1.24ms\tremaining: 620ms\n",
      "100:\tlearn: 14.8656096\ttotal: 776ms\tremaining: 3.07s\n",
      "200:\tlearn: 11.4731495\ttotal: 1.61s\tremaining: 2.39s\n",
      "300:\tlearn: 9.1786718\ttotal: 2.21s\tremaining: 1.46s\n",
      "400:\tlearn: 7.6122705\ttotal: 3.06s\tremaining: 756ms\n",
      "499:\tlearn: 6.3620634\ttotal: 3.82s\tremaining: 0us\n",
      "0:\tlearn: 30.6817506\ttotal: 1.89ms\tremaining: 941ms\n",
      "100:\tlearn: 17.4382550\ttotal: 1.16s\tremaining: 4.58s\n",
      "200:\tlearn: 14.9692262\ttotal: 2.33s\tremaining: 3.46s\n",
      "300:\tlearn: 13.2416469\ttotal: 3.59s\tremaining: 2.37s\n",
      "400:\tlearn: 11.7241292\ttotal: 4.75s\tremaining: 1.17s\n",
      "499:\tlearn: 10.5384016\ttotal: 5.92s\tremaining: 0us\n",
      "0:\tlearn: 32.5446921\ttotal: 1.87ms\tremaining: 934ms\n",
      "100:\tlearn: 19.3495500\ttotal: 1.49s\tremaining: 5.88s\n",
      "200:\tlearn: 17.1297379\ttotal: 3.15s\tremaining: 4.68s\n",
      "300:\tlearn: 15.4524337\ttotal: 4.72s\tremaining: 3.12s\n",
      "400:\tlearn: 14.1795078\ttotal: 6.55s\tremaining: 1.62s\n",
      "499:\tlearn: 13.1559844\ttotal: 8.32s\tremaining: 0us\n",
      "0:\tlearn: 28.9414324\ttotal: 4.92ms\tremaining: 2.45s\n",
      "100:\tlearn: 16.0294328\ttotal: 2.33s\tremaining: 9.21s\n",
      "200:\tlearn: 13.3256471\ttotal: 4.69s\tremaining: 6.97s\n",
      "300:\tlearn: 11.2928451\ttotal: 7.04s\tremaining: 4.65s\n",
      "400:\tlearn: 9.4696770\ttotal: 9.48s\tremaining: 2.34s\n",
      "499:\tlearn: 8.1145545\ttotal: 11.8s\tremaining: 0us\n",
      "0:\tlearn: 31.5502019\ttotal: 6.27ms\tremaining: 3.13s\n",
      "100:\tlearn: 18.3380217\ttotal: 3.18s\tremaining: 12.5s\n",
      "200:\tlearn: 15.7304979\ttotal: 6.33s\tremaining: 9.41s\n",
      "300:\tlearn: 14.1200703\ttotal: 9.48s\tremaining: 6.27s\n",
      "400:\tlearn: 12.8040600\ttotal: 12.7s\tremaining: 3.14s\n",
      "499:\tlearn: 11.6567899\ttotal: 15.8s\tremaining: 0us\n",
      "0:\tlearn: 33.4854852\ttotal: 5.31ms\tremaining: 2.65s\n",
      "100:\tlearn: 20.2851043\ttotal: 3.81s\tremaining: 15s\n",
      "200:\tlearn: 18.0534367\ttotal: 7.86s\tremaining: 11.7s\n",
      "300:\tlearn: 16.5858942\ttotal: 12.4s\tremaining: 8.21s\n",
      "400:\tlearn: 15.3825466\ttotal: 17s\tremaining: 4.19s\n",
      "499:\tlearn: 14.1437666\ttotal: 20.7s\tremaining: 0us\n",
      "0:\tlearn: 28.1116570\ttotal: 4.65ms\tremaining: 2.32s\n",
      "100:\tlearn: 11.0178880\ttotal: 2.35s\tremaining: 9.28s\n",
      "200:\tlearn: 6.4742179\ttotal: 4.71s\tremaining: 7.01s\n",
      "300:\tlearn: 4.0418917\ttotal: 7.17s\tremaining: 4.74s\n",
      "400:\tlearn: 2.4178805\ttotal: 9.62s\tremaining: 2.38s\n",
      "499:\tlearn: 1.5598757\ttotal: 12.1s\tremaining: 0us\n",
      "0:\tlearn: 30.4882153\ttotal: 5.72ms\tremaining: 2.85s\n",
      "100:\tlearn: 13.8554875\ttotal: 3.07s\tremaining: 12.1s\n",
      "200:\tlearn: 10.1490613\ttotal: 6.23s\tremaining: 9.27s\n",
      "300:\tlearn: 7.5263590\ttotal: 9.38s\tremaining: 6.2s\n",
      "400:\tlearn: 5.7092220\ttotal: 12.5s\tremaining: 3.09s\n",
      "499:\tlearn: 4.3263591\ttotal: 15.6s\tremaining: 0us\n",
      "0:\tlearn: 32.4586793\ttotal: 4.63ms\tremaining: 2.31s\n",
      "100:\tlearn: 16.1208789\ttotal: 3.9s\tremaining: 15.4s\n",
      "200:\tlearn: 12.2543981\ttotal: 7.86s\tremaining: 11.7s\n",
      "300:\tlearn: 9.9687397\ttotal: 11.7s\tremaining: 7.74s\n",
      "400:\tlearn: 7.9253122\ttotal: 15.8s\tremaining: 3.89s\n",
      "499:\tlearn: 6.4730293\ttotal: 19.6s\tremaining: 0us\n",
      "0:\tlearn: 28.9522153\ttotal: 24.7ms\tremaining: 12.3s\n",
      "100:\tlearn: 13.7987700\ttotal: 9.96s\tremaining: 39.3s\n",
      "200:\tlearn: 9.3898015\ttotal: 19.9s\tremaining: 29.6s\n",
      "300:\tlearn: 6.9199312\ttotal: 29.8s\tremaining: 19.7s\n",
      "400:\tlearn: 4.9319989\ttotal: 39.8s\tremaining: 9.84s\n",
      "499:\tlearn: 3.6961983\ttotal: 49.6s\tremaining: 0us\n",
      "0:\tlearn: 31.5647108\ttotal: 130ms\tremaining: 1m 4s\n",
      "100:\tlearn: 15.8143599\ttotal: 12.9s\tremaining: 50.9s\n",
      "200:\tlearn: 11.9771247\ttotal: 25.6s\tremaining: 38.1s\n",
      "300:\tlearn: 9.6612467\ttotal: 38.7s\tremaining: 25.6s\n",
      "400:\tlearn: 7.9099022\ttotal: 51.7s\tremaining: 12.8s\n",
      "499:\tlearn: 6.5294844\ttotal: 1m 4s\tremaining: 0us\n",
      "0:\tlearn: 33.4780441\ttotal: 108ms\tremaining: 54s\n",
      "100:\tlearn: 17.9012483\ttotal: 14s\tremaining: 55.1s\n",
      "200:\tlearn: 14.2335708\ttotal: 27.8s\tremaining: 41.3s\n",
      "300:\tlearn: 12.0330892\ttotal: 41.5s\tremaining: 27.5s\n",
      "400:\tlearn: 10.2271895\ttotal: 55.3s\tremaining: 13.6s\n",
      "499:\tlearn: 8.8388624\ttotal: 1m 9s\tremaining: 0us\n",
      "0:\tlearn: 28.1434549\ttotal: 33.5ms\tremaining: 16.7s\n",
      "100:\tlearn: 6.2585641\ttotal: 9.79s\tremaining: 38.7s\n",
      "200:\tlearn: 2.5738717\ttotal: 19.6s\tremaining: 29.2s\n",
      "300:\tlearn: 1.0425829\ttotal: 29.5s\tremaining: 19.5s\n",
      "400:\tlearn: 0.4155477\ttotal: 39.2s\tremaining: 9.68s\n",
      "499:\tlearn: 0.1569946\ttotal: 48.9s\tremaining: 0us\n",
      "0:\tlearn: 30.5339954\ttotal: 50.2ms\tremaining: 25s\n",
      "100:\tlearn: 8.9617495\ttotal: 13.3s\tremaining: 52.5s\n",
      "200:\tlearn: 4.9319154\ttotal: 26.4s\tremaining: 39.3s\n",
      "300:\tlearn: 2.6299385\ttotal: 39.6s\tremaining: 26.2s\n",
      "400:\tlearn: 1.4448498\ttotal: 52.5s\tremaining: 13s\n",
      "499:\tlearn: 0.8023022\ttotal: 1m 5s\tremaining: 0us\n",
      "0:\tlearn: 32.4309803\ttotal: 30ms\tremaining: 15s\n",
      "100:\tlearn: 11.6921568\ttotal: 13.6s\tremaining: 53.6s\n",
      "200:\tlearn: 6.8654966\ttotal: 27.3s\tremaining: 40.6s\n",
      "300:\tlearn: 4.1688394\ttotal: 40.9s\tremaining: 27s\n",
      "400:\tlearn: 2.5708502\ttotal: 54.4s\tremaining: 13.4s\n",
      "499:\tlearn: 1.6204911\ttotal: 1m 8s\tremaining: 0us\n",
      "0:\tlearn: 38.1636260\ttotal: 5.78ms\tremaining: 2.88s\n",
      "100:\tlearn: 23.1828021\ttotal: 4.14s\tremaining: 16.4s\n",
      "200:\tlearn: 21.3148204\ttotal: 8.29s\tremaining: 12.3s\n",
      "300:\tlearn: 19.8876712\ttotal: 12.5s\tremaining: 8.29s\n",
      "400:\tlearn: 18.3829499\ttotal: 16.7s\tremaining: 4.12s\n",
      "499:\tlearn: 17.0479505\ttotal: 21.1s\tremaining: 0us\n",
      "{'depth': 7, 'iterations': 500, 'learning_rate': 0.03}\n",
      "CPU times: user 8min 6s, sys: 37.1 s, total: 8min 43s\n",
      "Wall time: 9min 9s\n"
     ]
    }
   ],
   "source": [
    "%%time\n",
    "start_time = datetime.now()\n",
    "cbr_model = GridSearchCV(cbr, params_cbr, n_jobs=-1, refit=True,  scoring=my_score, cv = time_split)\n",
    "best_model_cbr = cbr_model.fit(feauters_train, target_train, verbose=100)\n",
    "end_time = datetime.now()\n",
    "time_gs_cbr = end_time - start_time\n",
    "best_params_cbr = best_model_cbr.best_params_\n",
    "print(best_params_cbr)"
   ]
  },
  {
   "cell_type": "code",
   "execution_count": 26,
   "metadata": {},
   "outputs": [
    {
     "name": "stdout",
     "output_type": "stream",
     "text": [
      "0:\tlearn: 38.1951922\ttotal: 5.41ms\tremaining: 2.7s\n",
      "100:\tlearn: 23.2794129\ttotal: 4.31s\tremaining: 17s\n",
      "200:\tlearn: 21.3853825\ttotal: 8.46s\tremaining: 12.6s\n",
      "300:\tlearn: 19.6690249\ttotal: 12.7s\tremaining: 8.41s\n",
      "400:\tlearn: 18.2202626\ttotal: 16.9s\tremaining: 4.16s\n",
      "499:\tlearn: 16.8721310\ttotal: 21.4s\tremaining: 0us\n",
      "CPU times: user 19.4 s, sys: 2.36 s, total: 21.7 s\n",
      "Wall time: 22.7 s\n"
     ]
    }
   ],
   "source": [
    "%%time\n",
    "start_time = datetime.now()\n",
    "model_cbr = CatBoostRegressor(loss_function=\"RMSE\", iterations=best_params_cbr['iterations'], \n",
    "                        depth = best_params_cbr['depth'], learning_rate = best_params_cbr['learning_rate'],  random_seed=12345)\n",
    "model_cbr.fit(feauters_train, target_train, verbose=100) \n",
    "end_time = datetime.now()\n",
    "time_fit_cbr = end_time - start_time"
   ]
  },
  {
   "cell_type": "markdown",
   "metadata": {},
   "source": [
    "### Промежуточные комментарии\n",
    "Были обучены 3 модели с разными гиперпараметрами для дальнейшего выбора наилучшей:\n",
    "- модель заглушка, где в предсказаниях новых значений используются предыдущие значения ряда;\n",
    "- линейная регрессия - {'normalize':[True,False]};\n",
    "- CatBoost - {'depth': [4, 7, 10], 'learning_rate' : [0.03, 0.1], 'iterations': [500]}.\n",
    "\n",
    "Также в процессе исследования замерялись промежутки времени подбора гиперпараметров, обучения моделей и предсказания."
   ]
  },
  {
   "cell_type": "markdown",
   "metadata": {},
   "source": [
    "## Тестирование"
   ]
  },
  {
   "cell_type": "code",
   "execution_count": 27,
   "metadata": {},
   "outputs": [
    {
     "name": "stdout",
     "output_type": "stream",
     "text": [
      "3467.0636363636363\n"
     ]
    }
   ],
   "source": [
    "rmse_test_dum = mean_squared_error(target_test, pred_dum)\n",
    "print(rmse_test_dum)"
   ]
  },
  {
   "cell_type": "code",
   "execution_count": 28,
   "metadata": {},
   "outputs": [
    {
     "data": {
      "image/png": "[encoded data removed]",
      "text/plain": [
       "<Figure size 720x504 with 1 Axes>"
      ]
     },
     "metadata": {
      "needs_background": "light"
     },
     "output_type": "display_data"
    }
   ],
   "source": [
    "plt.figure(figsize=(10, 7))\n",
    "target_test.plot(ax=plt.gca())\n",
    "ax=plt.gca()\n",
    "pred_dum.plot(ax=plt.gca())\n",
    "name = 'Target and predictions of {}'.format('Dummy model')\n",
    "plt.title(name, fontsize=16)\n",
    "plt.xlabel('Datetime')\n",
    "plt.ylabel('Number of orders')\n",
    "plt.legend(['Target', 'Predictions'])\n",
    "ax.set_xlim('2018-08-15', '2018-08-17')\n",
    "plt.show()"
   ]
  },
  {
   "cell_type": "code",
   "execution_count": 29,
   "metadata": {},
   "outputs": [
    {
     "name": "stdout",
     "output_type": "stream",
     "text": [
      "rmse_test: 45.54\n",
      "time_predict: 0:00:00.009625\n"
     ]
    },
    {
     "data": {
      "image/png": "[encoded data removed]",
      "text/plain": [
       "<Figure size 720x504 with 1 Axes>"
      ]
     },
     "metadata": {
      "needs_background": "light"
     },
     "output_type": "display_data"
    }
   ],
   "source": [
    "rmse_test_lr, time_predict_lr = predict_data(model_lr,feauters_test, target_test,'LinearRegression')"
   ]
  },
  {
   "cell_type": "code",
   "execution_count": 30,
   "metadata": {},
   "outputs": [
    {
     "name": "stdout",
     "output_type": "stream",
     "text": [
      "rmse_test: 42.18\n",
      "time_predict: 0:00:00.006570\n"
     ]
    },
    {
     "data": {
      "image/png": "[encoded data removed]",
      "text/plain": [
       "<Figure size 720x504 with 1 Axes>"
      ]
     },
     "metadata": {
      "needs_background": "light"
     },
     "output_type": "display_data"
    }
   ],
   "source": [
    "rmse_test_cbr, time_predict_cbr = predict_data(model_cbr,feauters_test, target_test,'CatBoost')"
   ]
  },
  {
   "cell_type": "code",
   "execution_count": 31,
   "metadata": {},
   "outputs": [],
   "source": [
    "res_all = np.array([['Dummy', 'None', round(rmse_test_dum,2),'-','-',time_predict_dum],\n",
    "                    ['LinearRegression', best_params_lr, round(rmse_test_lr,2),time_gs_lr,time_fit_lr,time_predict_lr],\n",
    "                   ['CatBoost', best_params_cbr, round(rmse_test_cbr,2),time_gs_cbr,time_fit_cbr,time_predict_cbr]])\n",
    "result_all = pd.DataFrame(res_all,columns = ['model', 'parameters', 'rmse','time_gs','time_fit','time_predict'])"
   ]
  },
  {
   "cell_type": "code",
   "execution_count": 32,
   "metadata": {},
   "outputs": [
    {
     "data": {
      "text/html": [
       "<div>\n",
       "<style scoped>\n",
       "    .dataframe tbody tr th:only-of-type {\n",
       "        vertical-align: middle;\n",
       "    }\n",
       "\n",
       "    .dataframe tbody tr th {\n",
       "        vertical-align: top;\n",
       "    }\n",
       "\n",
       "    .dataframe thead th {\n",
       "        text-align: right;\n",
       "    }\n",
       "</style>\n",
       "<table border=\"1\" class=\"dataframe\">\n",
       "  <thead>\n",
       "    <tr style=\"text-align: right;\">\n",
       "      <th></th>\n",
       "      <th>model</th>\n",
       "      <th>parameters</th>\n",
       "      <th>rmse</th>\n",
       "      <th>time_gs</th>\n",
       "      <th>time_fit</th>\n",
       "      <th>time_predict</th>\n",
       "    </tr>\n",
       "  </thead>\n",
       "  <tbody>\n",
       "    <tr>\n",
       "      <td>0</td>\n",
       "      <td>Dummy</td>\n",
       "      <td>None</td>\n",
       "      <td>3467.06</td>\n",
       "      <td>00:00:00</td>\n",
       "      <td>00:00:00</td>\n",
       "      <td>00:00:00.000961</td>\n",
       "    </tr>\n",
       "    <tr>\n",
       "      <td>1</td>\n",
       "      <td>LinearRegression</td>\n",
       "      <td>{'normalize': True}</td>\n",
       "      <td>45.54</td>\n",
       "      <td>00:00:00.573111</td>\n",
       "      <td>00:00:00.097531</td>\n",
       "      <td>00:00:00.009625</td>\n",
       "    </tr>\n",
       "    <tr>\n",
       "      <td>2</td>\n",
       "      <td>CatBoost</td>\n",
       "      <td>{'depth': 7, 'iterations': 500, 'learning_rate...</td>\n",
       "      <td>42.18</td>\n",
       "      <td>00:09:09.966533</td>\n",
       "      <td>00:00:22.743014</td>\n",
       "      <td>00:00:00.006570</td>\n",
       "    </tr>\n",
       "  </tbody>\n",
       "</table>\n",
       "</div>"
      ],
      "text/plain": [
       "              model                                         parameters  \\\n",
       "0             Dummy                                               None   \n",
       "1  LinearRegression                                {'normalize': True}   \n",
       "2          CatBoost  {'depth': 7, 'iterations': 500, 'learning_rate...   \n",
       "\n",
       "      rmse         time_gs        time_fit    time_predict  \n",
       "0  3467.06        00:00:00        00:00:00 00:00:00.000961  \n",
       "1    45.54 00:00:00.573111 00:00:00.097531 00:00:00.009625  \n",
       "2    42.18 00:09:09.966533 00:00:22.743014 00:00:00.006570  "
      ]
     },
     "execution_count": 32,
     "metadata": {},
     "output_type": "execute_result"
    }
   ],
   "source": [
    "result_all"
   ]
  },
  {
   "cell_type": "markdown",
   "metadata": {},
   "source": [
    "## Выводы\n",
    "В результате предсказания с помощью моделей с подобранными гиперпараметрами RMSE на тестовой выборке получилось:\n",
    "- model_dummy: 3467;\n",
    "- LinearRegression: 45.54;\n",
    "- CatBoost: 42.18.\n",
    "\n",
    "Согласно произведенным исследованиям компании «Чётенькое такси» для предсказания количества заказов такси предлагается использовать модель LinearRegression, хотя RMSE на 3.3 хуже чем у модели CatBoost, но модель линейной регрессии обучается и предсказывает быстрее."
   ]
  }
 ],
 "metadata": {
  "ExecuteTimeLog": [
   {
    "duration": 765,
    "start_time": "2021-08-10T16:37:42.320Z"
   },
   {
    "duration": 1921,
    "start_time": "2021-08-10T16:38:04.034Z"
   },
   {
    "duration": 43,
    "start_time": "2021-08-10T16:38:18.024Z"
   },
   {
    "duration": 22,
    "start_time": "2021-08-10T16:38:28.865Z"
   },
   {
    "duration": 11,
    "start_time": "2021-08-10T16:38:44.672Z"
   },
   {
    "duration": 48,
    "start_time": "2021-08-10T16:39:23.749Z"
   },
   {
    "duration": 9,
    "start_time": "2021-08-10T16:39:25.251Z"
   },
   {
    "duration": 12,
    "start_time": "2021-08-10T16:39:33.701Z"
   },
   {
    "duration": 46,
    "start_time": "2021-08-10T16:39:47.792Z"
   },
   {
    "duration": 14,
    "start_time": "2021-08-10T16:39:51.740Z"
   },
   {
    "duration": 47,
    "start_time": "2021-08-10T16:42:26.531Z"
   },
   {
    "duration": 9,
    "start_time": "2021-08-10T16:42:27.318Z"
   },
   {
    "duration": 262,
    "start_time": "2021-08-10T16:42:29.243Z"
   },
   {
    "duration": 5,
    "start_time": "2021-08-10T16:42:35.813Z"
   },
   {
    "duration": 273,
    "start_time": "2021-08-10T16:45:13.275Z"
   },
   {
    "duration": 10,
    "start_time": "2021-08-10T16:45:20.176Z"
   },
   {
    "duration": 581,
    "start_time": "2021-08-10T16:46:04.680Z"
   },
   {
    "duration": 9,
    "start_time": "2021-08-10T16:46:28.434Z"
   },
   {
    "duration": 485,
    "start_time": "2021-08-10T16:46:29.134Z"
   },
   {
    "duration": 254,
    "start_time": "2021-08-10T17:48:50.572Z"
   },
   {
    "duration": 617,
    "start_time": "2021-08-10T17:48:55.496Z"
   },
   {
    "duration": 14,
    "start_time": "2021-08-10T17:48:59.456Z"
   },
   {
    "duration": 1052,
    "start_time": "2021-08-10T17:49:04.953Z"
   },
   {
    "duration": 358,
    "start_time": "2021-08-10T17:49:37.412Z"
   },
   {
    "duration": 745,
    "start_time": "2021-08-10T17:49:38.798Z"
   },
   {
    "duration": 298,
    "start_time": "2021-08-10T17:49:49.572Z"
   },
   {
    "duration": 8,
    "start_time": "2021-08-10T17:52:09.015Z"
   },
   {
    "duration": 413,
    "start_time": "2021-08-10T17:52:26.917Z"
   },
   {
    "duration": 8,
    "start_time": "2021-08-10T17:52:35.035Z"
   },
   {
    "duration": 443,
    "start_time": "2021-08-10T17:52:35.751Z"
   },
   {
    "duration": 434,
    "start_time": "2021-08-10T17:55:44.105Z"
   },
   {
    "duration": 668,
    "start_time": "2021-08-10T17:56:19.314Z"
   },
   {
    "duration": 578,
    "start_time": "2021-08-10T17:56:45.530Z"
   },
   {
    "duration": 593,
    "start_time": "2021-08-10T17:57:22.158Z"
   },
   {
    "duration": 746,
    "start_time": "2021-08-10T17:57:31.334Z"
   },
   {
    "duration": 603,
    "start_time": "2021-08-10T17:57:38.445Z"
   },
   {
    "duration": 16,
    "start_time": "2021-08-10T17:58:07.608Z"
   },
   {
    "duration": 46,
    "start_time": "2021-08-10T17:58:31.071Z"
   },
   {
    "duration": 11,
    "start_time": "2021-08-10T17:58:31.750Z"
   },
   {
    "duration": 13,
    "start_time": "2021-08-10T17:58:32.445Z"
   },
   {
    "duration": 1580,
    "start_time": "2021-08-11T17:43:20.805Z"
   },
   {
    "duration": 48,
    "start_time": "2021-08-11T17:43:22.389Z"
   },
   {
    "duration": 9,
    "start_time": "2021-08-11T17:43:22.440Z"
   },
   {
    "duration": 41,
    "start_time": "2021-08-11T17:43:22.452Z"
   },
   {
    "duration": 5,
    "start_time": "2021-08-11T17:43:22.496Z"
   },
   {
    "duration": 14,
    "start_time": "2021-08-11T17:43:22.504Z"
   },
   {
    "duration": 552,
    "start_time": "2021-08-11T17:43:22.521Z"
   },
   {
    "duration": 587,
    "start_time": "2021-08-11T17:43:23.077Z"
   },
   {
    "duration": 9661,
    "start_time": "2021-08-11T17:43:23.668Z"
   },
   {
    "duration": -154,
    "start_time": "2021-08-11T17:43:33.487Z"
   },
   {
    "duration": -156,
    "start_time": "2021-08-11T17:43:33.491Z"
   },
   {
    "duration": -195,
    "start_time": "2021-08-11T17:43:33.532Z"
   },
   {
    "duration": -206,
    "start_time": "2021-08-11T17:43:33.545Z"
   },
   {
    "duration": 49,
    "start_time": "2021-08-11T20:00:48.932Z"
   },
   {
    "duration": 8,
    "start_time": "2021-08-11T20:00:49.630Z"
   },
   {
    "duration": 13,
    "start_time": "2021-08-11T20:00:50.731Z"
   },
   {
    "duration": 5,
    "start_time": "2021-08-11T20:00:59.770Z"
   },
   {
    "duration": 10,
    "start_time": "2021-08-11T20:01:01.220Z"
   },
   {
    "duration": 326,
    "start_time": "2021-08-11T20:01:40.452Z"
   },
   {
    "duration": 461,
    "start_time": "2021-08-11T20:02:23.428Z"
   },
   {
    "duration": 338,
    "start_time": "2021-08-11T20:02:36.817Z"
   },
   {
    "duration": 381,
    "start_time": "2021-08-11T20:06:56.036Z"
   },
   {
    "duration": 342,
    "start_time": "2021-08-11T20:07:17.248Z"
   },
   {
    "duration": 499,
    "start_time": "2021-08-11T20:07:56.606Z"
   },
   {
    "duration": 396,
    "start_time": "2021-08-11T21:00:53.394Z"
   },
   {
    "duration": 9717,
    "start_time": "2021-08-11T21:01:04.054Z"
   },
   {
    "duration": 510,
    "start_time": "2021-08-11T21:01:44.341Z"
   },
   {
    "duration": 527,
    "start_time": "2021-08-11T21:01:58.848Z"
   },
   {
    "duration": 537,
    "start_time": "2021-08-11T21:02:55.010Z"
   },
   {
    "duration": 584,
    "start_time": "2021-08-11T21:04:37.307Z"
   },
   {
    "duration": 450,
    "start_time": "2021-08-11T21:06:36.458Z"
   },
   {
    "duration": 6,
    "start_time": "2021-08-11T21:06:42.055Z"
   },
   {
    "duration": 550,
    "start_time": "2021-08-11T21:07:41.178Z"
   },
   {
    "duration": 6,
    "start_time": "2021-08-11T21:08:06.998Z"
   },
   {
    "duration": 516,
    "start_time": "2021-08-11T21:08:07.714Z"
   },
   {
    "duration": 6,
    "start_time": "2021-08-11T21:08:57.059Z"
   },
   {
    "duration": 685,
    "start_time": "2021-08-11T21:08:58.649Z"
   },
   {
    "duration": 7,
    "start_time": "2021-08-11T21:09:08.465Z"
   },
   {
    "duration": 546,
    "start_time": "2021-08-11T21:09:09.239Z"
   },
   {
    "duration": 5,
    "start_time": "2021-08-11T21:10:00.423Z"
   },
   {
    "duration": 6,
    "start_time": "2021-08-11T21:10:15.881Z"
   },
   {
    "duration": 521,
    "start_time": "2021-08-11T21:10:17.119Z"
   },
   {
    "duration": 5,
    "start_time": "2021-08-11T21:10:23.516Z"
   },
   {
    "duration": 527,
    "start_time": "2021-08-11T21:10:30.504Z"
   },
   {
    "duration": 5,
    "start_time": "2021-08-11T21:10:38.724Z"
   },
   {
    "duration": 615,
    "start_time": "2021-08-11T21:10:41.848Z"
   },
   {
    "duration": 6,
    "start_time": "2021-08-11T21:10:44.340Z"
   },
   {
    "duration": 515,
    "start_time": "2021-08-11T21:10:45.596Z"
   },
   {
    "duration": 9,
    "start_time": "2021-08-11T21:10:59.249Z"
   },
   {
    "duration": 51,
    "start_time": "2021-08-11T21:38:31.217Z"
   },
   {
    "duration": 8,
    "start_time": "2021-08-11T21:38:31.812Z"
   },
   {
    "duration": 11,
    "start_time": "2021-08-11T21:38:32.508Z"
   },
   {
    "duration": 5,
    "start_time": "2021-08-11T21:38:33.187Z"
   },
   {
    "duration": 10,
    "start_time": "2021-08-11T21:38:33.809Z"
   },
   {
    "duration": 339,
    "start_time": "2021-08-11T21:38:35.279Z"
   },
   {
    "duration": 356,
    "start_time": "2021-08-11T21:38:37.155Z"
   },
   {
    "duration": 436,
    "start_time": "2021-08-11T21:38:38.595Z"
   },
   {
    "duration": 1529,
    "start_time": "2021-08-11T21:38:41.761Z"
   },
   {
    "duration": 603,
    "start_time": "2021-08-11T21:39:30.559Z"
   },
   {
    "duration": 763,
    "start_time": "2021-08-11T21:39:56.694Z"
   },
   {
    "duration": 737,
    "start_time": "2021-08-11T21:42:39.962Z"
   },
   {
    "duration": 659,
    "start_time": "2021-08-11T21:43:04.702Z"
   },
   {
    "duration": 636,
    "start_time": "2021-08-11T21:43:20.326Z"
   },
   {
    "duration": 9,
    "start_time": "2021-08-11T21:43:56.930Z"
   },
   {
    "duration": 399,
    "start_time": "2021-08-11T21:44:00.087Z"
   },
   {
    "duration": 4,
    "start_time": "2021-08-11T21:44:19.706Z"
   },
   {
    "duration": 428,
    "start_time": "2021-08-11T21:44:48.307Z"
   },
   {
    "duration": 4,
    "start_time": "2021-08-11T21:44:53.899Z"
   },
   {
    "duration": 15,
    "start_time": "2021-08-11T21:44:55.875Z"
   },
   {
    "duration": 39,
    "start_time": "2021-08-11T21:45:07.653Z"
   },
   {
    "duration": 28,
    "start_time": "2021-08-11T21:51:13.527Z"
   },
   {
    "duration": 396,
    "start_time": "2021-08-11T21:51:41.524Z"
   },
   {
    "duration": 104,
    "start_time": "2021-08-11T21:51:48.642Z"
   },
   {
    "duration": 14,
    "start_time": "2021-08-11T21:52:08.423Z"
   },
   {
    "duration": 85,
    "start_time": "2021-08-11T21:58:28.697Z"
   },
   {
    "duration": 5,
    "start_time": "2021-08-11T21:59:50.877Z"
   },
   {
    "duration": 4,
    "start_time": "2021-08-11T21:59:54.283Z"
   },
   {
    "duration": 294,
    "start_time": "2021-08-11T22:00:27.899Z"
   },
   {
    "duration": 6,
    "start_time": "2021-08-11T22:00:52.500Z"
   },
   {
    "duration": 722,
    "start_time": "2021-08-11T22:01:04.168Z"
   },
   {
    "duration": 269,
    "start_time": "2021-08-11T22:03:07.654Z"
   },
   {
    "duration": 250,
    "start_time": "2021-08-11T22:03:22.607Z"
   },
   {
    "duration": 10,
    "start_time": "2021-08-11T22:03:39.287Z"
   },
   {
    "duration": 5,
    "start_time": "2021-08-11T22:05:01.252Z"
   },
   {
    "duration": 710,
    "start_time": "2021-08-11T22:06:29.048Z"
   },
   {
    "duration": 555,
    "start_time": "2021-08-11T22:07:22.136Z"
   },
   {
    "duration": 403,
    "start_time": "2021-08-11T22:08:43.747Z"
   },
   {
    "duration": 379,
    "start_time": "2021-08-11T22:08:58.991Z"
   },
   {
    "duration": 8,
    "start_time": "2021-08-11T22:09:06.771Z"
   },
   {
    "duration": 4,
    "start_time": "2021-08-11T22:10:36.048Z"
   },
   {
    "duration": 280,
    "start_time": "2021-08-11T22:10:37.238Z"
   },
   {
    "duration": 314692,
    "start_time": "2021-08-11T22:10:53.211Z"
   },
   {
    "duration": 15470,
    "start_time": "2021-08-11T22:17:13.259Z"
   },
   {
    "duration": 10,
    "start_time": "2021-08-11T22:19:33.559Z"
   },
   {
    "duration": 34328,
    "start_time": "2021-08-11T22:19:49.364Z"
   },
   {
    "duration": 9,
    "start_time": "2021-08-11T22:20:32.068Z"
   },
   {
    "duration": 13638,
    "start_time": "2021-08-11T22:23:09.368Z"
   },
   {
    "duration": 4,
    "start_time": "2021-08-11T22:24:05.989Z"
   },
   {
    "duration": 7,
    "start_time": "2021-08-11T22:25:22.783Z"
   },
   {
    "duration": 1610,
    "start_time": "2021-08-11T22:26:09.107Z"
   },
   {
    "duration": 49,
    "start_time": "2021-08-11T22:26:10.720Z"
   },
   {
    "duration": 19,
    "start_time": "2021-08-11T22:26:10.773Z"
   },
   {
    "duration": 19,
    "start_time": "2021-08-11T22:26:10.795Z"
   },
   {
    "duration": 6,
    "start_time": "2021-08-11T22:26:10.817Z"
   },
   {
    "duration": 60,
    "start_time": "2021-08-11T22:26:10.826Z"
   },
   {
    "duration": 358,
    "start_time": "2021-08-11T22:26:10.889Z"
   },
   {
    "duration": 357,
    "start_time": "2021-08-11T22:26:11.252Z"
   },
   {
    "duration": 434,
    "start_time": "2021-08-11T22:26:11.612Z"
   },
   {
    "duration": 722,
    "start_time": "2021-08-11T22:26:12.048Z"
   },
   {
    "duration": 719,
    "start_time": "2021-08-11T22:26:12.772Z"
   },
   {
    "duration": 4,
    "start_time": "2021-08-11T22:26:13.493Z"
   },
   {
    "duration": 13,
    "start_time": "2021-08-11T22:26:13.499Z"
   },
   {
    "duration": 5,
    "start_time": "2021-08-11T22:26:13.514Z"
   },
   {
    "duration": 63,
    "start_time": "2021-08-11T22:26:13.522Z"
   },
   {
    "duration": 26,
    "start_time": "2021-08-11T22:26:13.588Z"
   },
   {
    "duration": 15,
    "start_time": "2021-08-11T22:26:13.616Z"
   },
   {
    "duration": 4,
    "start_time": "2021-08-11T22:26:13.633Z"
   },
   {
    "duration": 48,
    "start_time": "2021-08-11T22:26:13.640Z"
   },
   {
    "duration": 7,
    "start_time": "2021-08-11T22:26:13.690Z"
   },
   {
    "duration": 10,
    "start_time": "2021-08-11T22:26:13.699Z"
   },
   {
    "duration": 581,
    "start_time": "2021-08-11T22:26:13.711Z"
   },
   {
    "duration": 100,
    "start_time": "2021-08-11T22:26:14.297Z"
   },
   {
    "duration": 85,
    "start_time": "2021-08-11T22:26:14.401Z"
   },
   {
    "duration": 324469,
    "start_time": "2021-08-11T22:26:14.490Z"
   },
   {
    "duration": 14716,
    "start_time": "2021-08-11T22:31:38.962Z"
   },
   {
    "duration": 5,
    "start_time": "2021-08-11T22:31:53.680Z"
   },
   {
    "duration": 11,
    "start_time": "2021-08-11T22:31:53.687Z"
   },
   {
    "duration": 12,
    "start_time": "2021-08-11T22:31:53.700Z"
   },
   {
    "duration": 1573,
    "start_time": "2021-08-12T09:16:44.287Z"
   },
   {
    "duration": 66,
    "start_time": "2021-08-12T09:16:45.863Z"
   },
   {
    "duration": 11,
    "start_time": "2021-08-12T09:16:46.285Z"
   },
   {
    "duration": 16,
    "start_time": "2021-08-12T09:16:46.979Z"
   },
   {
    "duration": 5,
    "start_time": "2021-08-12T09:16:47.895Z"
   },
   {
    "duration": 14,
    "start_time": "2021-08-12T09:16:50.581Z"
   },
   {
    "duration": 315,
    "start_time": "2021-08-12T09:17:08.477Z"
   },
   {
    "duration": 345,
    "start_time": "2021-08-12T09:17:09.795Z"
   },
   {
    "duration": 438,
    "start_time": "2021-08-12T09:17:11.357Z"
   },
   {
    "duration": 710,
    "start_time": "2021-08-12T09:17:23.335Z"
   },
   {
    "duration": 636,
    "start_time": "2021-08-12T09:17:33.312Z"
   },
   {
    "duration": 669,
    "start_time": "2021-08-12T09:18:02.182Z"
   },
   {
    "duration": 664,
    "start_time": "2021-08-12T09:18:13.961Z"
   },
   {
    "duration": 763,
    "start_time": "2021-08-12T09:18:26.096Z"
   },
   {
    "duration": 640,
    "start_time": "2021-08-12T09:18:30.145Z"
   },
   {
    "duration": 669,
    "start_time": "2021-08-12T09:24:37.596Z"
   },
   {
    "duration": 629,
    "start_time": "2021-08-12T09:24:44.075Z"
   },
   {
    "duration": 768,
    "start_time": "2021-08-12T09:28:42.782Z"
   },
   {
    "duration": 688,
    "start_time": "2021-08-12T09:28:53.746Z"
   },
   {
    "duration": 1533,
    "start_time": "2021-08-12T09:34:08.053Z"
   },
   {
    "duration": 69,
    "start_time": "2021-08-12T09:34:09.588Z"
   },
   {
    "duration": 12,
    "start_time": "2021-08-12T09:34:09.661Z"
   },
   {
    "duration": 17,
    "start_time": "2021-08-12T09:34:09.676Z"
   },
   {
    "duration": 8,
    "start_time": "2021-08-12T09:34:09.696Z"
   },
   {
    "duration": 56,
    "start_time": "2021-08-12T09:34:09.706Z"
   },
   {
    "duration": 345,
    "start_time": "2021-08-12T09:34:09.765Z"
   },
   {
    "duration": 431,
    "start_time": "2021-08-12T09:34:10.114Z"
   },
   {
    "duration": 464,
    "start_time": "2021-08-12T09:34:10.555Z"
   },
   {
    "duration": 742,
    "start_time": "2021-08-12T09:34:11.022Z"
   },
   {
    "duration": 693,
    "start_time": "2021-08-12T09:34:11.766Z"
   },
   {
    "duration": 4,
    "start_time": "2021-08-12T09:34:12.461Z"
   },
   {
    "duration": 24,
    "start_time": "2021-08-12T09:34:12.467Z"
   },
   {
    "duration": 17,
    "start_time": "2021-08-12T09:34:12.493Z"
   },
   {
    "duration": 31,
    "start_time": "2021-08-12T09:34:12.513Z"
   },
   {
    "duration": 34,
    "start_time": "2021-08-12T09:34:12.547Z"
   },
   {
    "duration": 18,
    "start_time": "2021-08-12T09:34:12.584Z"
   },
   {
    "duration": 15,
    "start_time": "2021-08-12T09:34:12.604Z"
   },
   {
    "duration": 39,
    "start_time": "2021-08-12T09:34:12.621Z"
   },
   {
    "duration": 17,
    "start_time": "2021-08-12T09:34:12.663Z"
   },
   {
    "duration": 13,
    "start_time": "2021-08-12T09:34:12.683Z"
   },
   {
    "duration": 462,
    "start_time": "2021-08-12T09:34:12.698Z"
   },
   {
    "duration": 103,
    "start_time": "2021-08-12T09:34:13.167Z"
   },
   {
    "duration": 98,
    "start_time": "2021-08-12T09:34:13.276Z"
   },
   {
    "duration": 407739,
    "start_time": "2021-08-12T09:34:13.457Z"
   },
   {
    "duration": 21777,
    "start_time": "2021-08-12T09:41:01.198Z"
   },
   {
    "duration": 7,
    "start_time": "2021-08-12T09:41:22.978Z"
   },
   {
    "duration": 25,
    "start_time": "2021-08-12T09:41:22.988Z"
   },
   {
    "duration": 40,
    "start_time": "2021-08-12T09:41:23.016Z"
   },
   {
    "duration": 505,
    "start_time": "2021-08-12T09:41:23.059Z"
   },
   {
    "duration": 120,
    "start_time": "2021-08-12T09:44:51.471Z"
   },
   {
    "duration": 155,
    "start_time": "2021-08-12T09:45:03.819Z"
   },
   {
    "duration": 394,
    "start_time": "2021-08-12T09:45:21.870Z"
   },
   {
    "duration": 365,
    "start_time": "2021-08-12T09:46:32.871Z"
   },
   {
    "duration": 357,
    "start_time": "2021-08-12T09:47:34.216Z"
   },
   {
    "duration": 389,
    "start_time": "2021-08-12T09:48:06.885Z"
   },
   {
    "duration": 360,
    "start_time": "2021-08-12T09:48:14.106Z"
   },
   {
    "duration": 402,
    "start_time": "2021-08-12T09:48:40.009Z"
   },
   {
    "duration": 404,
    "start_time": "2021-08-12T09:49:10.665Z"
   },
   {
    "duration": 5,
    "start_time": "2021-08-12T09:49:23.428Z"
   },
   {
    "duration": 396,
    "start_time": "2021-08-12T09:49:56.321Z"
   },
   {
    "duration": 443,
    "start_time": "2021-08-12T09:50:38.506Z"
   },
   {
    "duration": 360,
    "start_time": "2021-08-12T09:50:57.039Z"
   },
   {
    "duration": 392,
    "start_time": "2021-08-12T09:51:12.001Z"
   },
   {
    "duration": 6,
    "start_time": "2021-08-12T09:52:24.239Z"
   },
   {
    "duration": 387,
    "start_time": "2021-08-12T09:52:32.236Z"
   },
   {
    "duration": 481,
    "start_time": "2021-08-12T09:53:51.196Z"
   },
   {
    "duration": 985,
    "start_time": "2021-08-12T09:53:55.965Z"
   },
   {
    "duration": 467,
    "start_time": "2021-08-12T09:54:14.985Z"
   },
   {
    "duration": 6,
    "start_time": "2021-08-12T09:54:42.396Z"
   },
   {
    "duration": 6,
    "start_time": "2021-08-12T09:55:15.215Z"
   },
   {
    "duration": 12,
    "start_time": "2021-08-12T09:55:26.305Z"
   },
   {
    "duration": 8,
    "start_time": "2021-08-12T09:56:44.516Z"
   },
   {
    "duration": 20,
    "start_time": "2021-08-12T09:56:45.706Z"
   },
   {
    "duration": 363,
    "start_time": "2021-08-12T09:57:26.687Z"
   },
   {
    "duration": 8,
    "start_time": "2021-08-12T09:57:34.125Z"
   },
   {
    "duration": 15,
    "start_time": "2021-08-12T09:57:35.235Z"
   },
   {
    "duration": 1534,
    "start_time": "2021-08-12T09:57:51.001Z"
   },
   {
    "duration": 48,
    "start_time": "2021-08-12T09:57:52.537Z"
   },
   {
    "duration": 7,
    "start_time": "2021-08-12T09:57:52.588Z"
   },
   {
    "duration": 17,
    "start_time": "2021-08-12T09:57:52.598Z"
   },
   {
    "duration": 39,
    "start_time": "2021-08-12T09:57:52.617Z"
   },
   {
    "duration": 13,
    "start_time": "2021-08-12T09:57:52.659Z"
   },
   {
    "duration": 351,
    "start_time": "2021-08-12T09:57:52.674Z"
   },
   {
    "duration": 352,
    "start_time": "2021-08-12T09:57:53.028Z"
   },
   {
    "duration": 429,
    "start_time": "2021-08-12T09:57:53.383Z"
   },
   {
    "duration": 746,
    "start_time": "2021-08-12T09:57:53.815Z"
   },
   {
    "duration": 715,
    "start_time": "2021-08-12T09:57:54.564Z"
   },
   {
    "duration": 4,
    "start_time": "2021-08-12T09:57:55.282Z"
   },
   {
    "duration": 18,
    "start_time": "2021-08-12T09:57:55.289Z"
   },
   {
    "duration": 18,
    "start_time": "2021-08-12T09:57:55.311Z"
   },
   {
    "duration": 45,
    "start_time": "2021-08-12T09:57:55.332Z"
   },
   {
    "duration": 28,
    "start_time": "2021-08-12T09:57:55.380Z"
   },
   {
    "duration": 51,
    "start_time": "2021-08-12T09:57:55.410Z"
   },
   {
    "duration": 5,
    "start_time": "2021-08-12T09:57:55.463Z"
   },
   {
    "duration": 14,
    "start_time": "2021-08-12T09:57:55.470Z"
   },
   {
    "duration": 11,
    "start_time": "2021-08-12T09:57:55.486Z"
   },
   {
    "duration": 13,
    "start_time": "2021-08-12T09:57:55.499Z"
   },
   {
    "duration": 1052,
    "start_time": "2021-08-12T09:57:55.514Z"
   },
   {
    "duration": 13,
    "start_time": "2021-08-12T09:57:56.662Z"
   },
   {
    "duration": 6,
    "start_time": "2021-08-12T09:57:56.755Z"
   },
   {
    "duration": 405719,
    "start_time": "2021-08-12T09:57:56.766Z"
   },
   {
    "duration": 20983,
    "start_time": "2021-08-12T10:04:42.488Z"
   },
   {
    "duration": 5,
    "start_time": "2021-08-12T10:05:03.473Z"
   },
   {
    "duration": 14,
    "start_time": "2021-08-12T10:05:03.481Z"
   },
   {
    "duration": 19,
    "start_time": "2021-08-12T10:05:03.498Z"
   },
   {
    "duration": 37,
    "start_time": "2021-08-12T10:05:03.520Z"
   },
   {
    "duration": 22,
    "start_time": "2021-08-12T10:05:03.559Z"
   },
   {
    "duration": 22,
    "start_time": "2021-08-12T10:45:16.677Z"
   },
   {
    "duration": 27,
    "start_time": "2021-08-12T10:45:20.465Z"
   },
   {
    "duration": 51,
    "start_time": "2021-08-12T10:45:25.727Z"
   },
   {
    "duration": 8,
    "start_time": "2021-08-12T10:45:26.263Z"
   },
   {
    "duration": 9,
    "start_time": "2021-08-12T10:45:27.215Z"
   },
   {
    "duration": 4,
    "start_time": "2021-08-12T10:46:17.352Z"
   },
   {
    "duration": 11,
    "start_time": "2021-08-12T10:46:17.784Z"
   },
   {
    "duration": 13,
    "start_time": "2021-08-12T10:46:23.178Z"
   },
   {
    "duration": 337,
    "start_time": "2021-08-12T10:47:29.126Z"
   },
   {
    "duration": 318,
    "start_time": "2021-08-12T10:47:47.071Z"
   },
   {
    "duration": 286,
    "start_time": "2021-08-12T10:50:40.331Z"
   },
   {
    "duration": 302,
    "start_time": "2021-08-12T10:51:48.190Z"
   },
   {
    "duration": 440,
    "start_time": "2021-08-12T10:52:06.363Z"
   },
   {
    "duration": 122,
    "start_time": "2021-08-12T11:52:10.977Z"
   },
   {
    "duration": 1494,
    "start_time": "2021-08-12T12:02:11.094Z"
   },
   {
    "duration": 48,
    "start_time": "2021-08-12T12:02:12.592Z"
   },
   {
    "duration": 17,
    "start_time": "2021-08-12T12:02:12.643Z"
   },
   {
    "duration": 14,
    "start_time": "2021-08-12T12:02:12.663Z"
   },
   {
    "duration": 16,
    "start_time": "2021-08-12T12:02:12.679Z"
   },
   {
    "duration": 24,
    "start_time": "2021-08-12T12:02:12.697Z"
   },
   {
    "duration": 339,
    "start_time": "2021-08-12T12:02:12.724Z"
   },
   {
    "duration": 312,
    "start_time": "2021-08-12T12:02:13.067Z"
   },
   {
    "duration": 450,
    "start_time": "2021-08-12T12:02:13.383Z"
   },
   {
    "duration": 773,
    "start_time": "2021-08-12T12:02:13.835Z"
   },
   {
    "duration": 704,
    "start_time": "2021-08-12T12:02:14.610Z"
   },
   {
    "duration": 3,
    "start_time": "2021-08-12T12:02:15.316Z"
   },
   {
    "duration": 38,
    "start_time": "2021-08-12T12:02:15.322Z"
   },
   {
    "duration": 5,
    "start_time": "2021-08-12T12:02:15.362Z"
   },
   {
    "duration": 26,
    "start_time": "2021-08-12T12:02:15.369Z"
   },
   {
    "duration": 26,
    "start_time": "2021-08-12T12:02:15.397Z"
   },
   {
    "duration": 43,
    "start_time": "2021-08-12T12:02:15.426Z"
   },
   {
    "duration": 4,
    "start_time": "2021-08-12T12:02:15.472Z"
   },
   {
    "duration": 6,
    "start_time": "2021-08-12T12:02:15.478Z"
   },
   {
    "duration": 20,
    "start_time": "2021-08-12T12:02:15.487Z"
   },
   {
    "duration": 6,
    "start_time": "2021-08-12T12:02:15.509Z"
   },
   {
    "duration": 843,
    "start_time": "2021-08-12T12:02:15.517Z"
   },
   {
    "duration": 103,
    "start_time": "2021-08-12T12:02:16.366Z"
   },
   {
    "duration": 87,
    "start_time": "2021-08-12T12:02:16.473Z"
   },
   {
    "duration": 322302,
    "start_time": "2021-08-12T12:02:16.564Z"
   },
   {
    "duration": 14078,
    "start_time": "2021-08-12T12:07:38.868Z"
   },
   {
    "duration": 492,
    "start_time": "2021-08-12T12:07:52.948Z"
   },
   {
    "duration": -160,
    "start_time": "2021-08-12T12:07:53.602Z"
   },
   {
    "duration": -202,
    "start_time": "2021-08-12T12:07:53.646Z"
   },
   {
    "duration": -212,
    "start_time": "2021-08-12T12:07:53.657Z"
   },
   {
    "duration": -223,
    "start_time": "2021-08-12T12:07:53.670Z"
   },
   {
    "duration": 361,
    "start_time": "2021-08-12T12:09:48.849Z"
   },
   {
    "duration": 5,
    "start_time": "2021-08-12T12:09:58.487Z"
   },
   {
    "duration": 791,
    "start_time": "2021-08-12T12:10:01.845Z"
   },
   {
    "duration": 6,
    "start_time": "2021-08-12T12:10:42.237Z"
   },
   {
    "duration": 1566,
    "start_time": "2021-08-12T12:10:46.617Z"
   },
   {
    "duration": 51,
    "start_time": "2021-08-12T12:10:48.186Z"
   },
   {
    "duration": 19,
    "start_time": "2021-08-12T12:10:48.240Z"
   },
   {
    "duration": 18,
    "start_time": "2021-08-12T12:10:48.263Z"
   },
   {
    "duration": 28,
    "start_time": "2021-08-12T12:10:48.283Z"
   },
   {
    "duration": 43,
    "start_time": "2021-08-12T12:10:48.313Z"
   },
   {
    "duration": 349,
    "start_time": "2021-08-12T12:10:48.358Z"
   },
   {
    "duration": 325,
    "start_time": "2021-08-12T12:10:48.712Z"
   },
   {
    "duration": 449,
    "start_time": "2021-08-12T12:10:49.040Z"
   },
   {
    "duration": 788,
    "start_time": "2021-08-12T12:10:49.491Z"
   },
   {
    "duration": 778,
    "start_time": "2021-08-12T12:10:50.281Z"
   },
   {
    "duration": 3,
    "start_time": "2021-08-12T12:10:51.062Z"
   },
   {
    "duration": 25,
    "start_time": "2021-08-12T12:10:51.067Z"
   },
   {
    "duration": 8,
    "start_time": "2021-08-12T12:10:51.095Z"
   },
   {
    "duration": 26,
    "start_time": "2021-08-12T12:10:51.105Z"
   },
   {
    "duration": 27,
    "start_time": "2021-08-12T12:10:51.156Z"
   },
   {
    "duration": 13,
    "start_time": "2021-08-12T12:10:51.186Z"
   },
   {
    "duration": 4,
    "start_time": "2021-08-12T12:10:51.202Z"
   },
   {
    "duration": 47,
    "start_time": "2021-08-12T12:10:51.209Z"
   },
   {
    "duration": 21,
    "start_time": "2021-08-12T12:10:51.259Z"
   },
   {
    "duration": 8,
    "start_time": "2021-08-12T12:10:51.283Z"
   },
   {
    "duration": 1066,
    "start_time": "2021-08-12T12:10:51.294Z"
   },
   {
    "duration": 10,
    "start_time": "2021-08-12T12:10:52.364Z"
   },
   {
    "duration": 80,
    "start_time": "2021-08-12T12:10:52.378Z"
   },
   {
    "duration": 232863,
    "start_time": "2021-08-12T12:10:52.462Z"
   },
   {
    "duration": 222,
    "start_time": "2021-08-12T12:14:45.329Z"
   },
   {
    "duration": 6,
    "start_time": "2021-08-12T12:14:45.555Z"
   },
   {
    "duration": 14,
    "start_time": "2021-08-12T12:14:45.564Z"
   },
   {
    "duration": 352,
    "start_time": "2021-08-12T12:14:45.581Z"
   },
   {
    "duration": -117,
    "start_time": "2021-08-12T12:14:46.054Z"
   },
   {
    "duration": -125,
    "start_time": "2021-08-12T12:14:46.064Z"
   },
   {
    "duration": 1530,
    "start_time": "2021-08-12T12:15:12.362Z"
   },
   {
    "duration": 50,
    "start_time": "2021-08-12T12:15:13.895Z"
   },
   {
    "duration": 17,
    "start_time": "2021-08-12T12:15:13.948Z"
   },
   {
    "duration": 18,
    "start_time": "2021-08-12T12:15:13.969Z"
   },
   {
    "duration": 6,
    "start_time": "2021-08-12T12:15:13.990Z"
   },
   {
    "duration": 66,
    "start_time": "2021-08-12T12:15:13.999Z"
   },
   {
    "duration": 362,
    "start_time": "2021-08-12T12:15:14.068Z"
   },
   {
    "duration": 327,
    "start_time": "2021-08-12T12:15:14.435Z"
   },
   {
    "duration": 463,
    "start_time": "2021-08-12T12:15:14.766Z"
   },
   {
    "duration": 783,
    "start_time": "2021-08-12T12:15:15.233Z"
   },
   {
    "duration": 719,
    "start_time": "2021-08-12T12:15:16.019Z"
   },
   {
    "duration": 3,
    "start_time": "2021-08-12T12:15:16.740Z"
   },
   {
    "duration": 9,
    "start_time": "2021-08-12T12:15:16.756Z"
   },
   {
    "duration": 5,
    "start_time": "2021-08-12T12:15:16.767Z"
   },
   {
    "duration": 25,
    "start_time": "2021-08-12T12:15:16.775Z"
   },
   {
    "duration": 76,
    "start_time": "2021-08-12T12:15:16.802Z"
   },
   {
    "duration": 14,
    "start_time": "2021-08-12T12:15:16.881Z"
   },
   {
    "duration": 4,
    "start_time": "2021-08-12T12:15:16.898Z"
   },
   {
    "duration": 51,
    "start_time": "2021-08-12T12:15:16.905Z"
   },
   {
    "duration": 17,
    "start_time": "2021-08-12T12:15:16.959Z"
   },
   {
    "duration": 10,
    "start_time": "2021-08-12T12:15:16.980Z"
   },
   {
    "duration": 477,
    "start_time": "2021-08-12T12:15:16.993Z"
   },
   {
    "duration": 13,
    "start_time": "2021-08-12T12:15:17.561Z"
   },
   {
    "duration": 5,
    "start_time": "2021-08-12T12:15:17.658Z"
   },
   {
    "duration": 322739,
    "start_time": "2021-08-12T12:15:17.667Z"
   },
   {
    "duration": 15589,
    "start_time": "2021-08-12T12:20:40.408Z"
   },
   {
    "duration": 5,
    "start_time": "2021-08-12T12:20:56.000Z"
   },
   {
    "duration": 13,
    "start_time": "2021-08-12T12:20:56.007Z"
   },
   {
    "duration": 15,
    "start_time": "2021-08-12T12:20:56.023Z"
   },
   {
    "duration": 17,
    "start_time": "2021-08-12T12:20:56.040Z"
   },
   {
    "duration": 17,
    "start_time": "2021-08-12T12:20:56.060Z"
   },
   {
    "duration": 85,
    "start_time": "2021-08-13T08:21:26.812Z"
   },
   {
    "duration": 1577,
    "start_time": "2021-08-13T08:21:50.429Z"
   },
   {
    "duration": 46,
    "start_time": "2021-08-13T08:21:52.008Z"
   },
   {
    "duration": 13,
    "start_time": "2021-08-13T08:21:52.056Z"
   },
   {
    "duration": 15,
    "start_time": "2021-08-13T08:21:52.071Z"
   },
   {
    "duration": 10,
    "start_time": "2021-08-13T08:21:52.088Z"
   },
   {
    "duration": 68,
    "start_time": "2021-08-13T08:21:52.100Z"
   },
   {
    "duration": 325,
    "start_time": "2021-08-13T08:21:52.171Z"
   },
   {
    "duration": 301,
    "start_time": "2021-08-13T08:21:52.500Z"
   },
   {
    "duration": 457,
    "start_time": "2021-08-13T08:21:52.804Z"
   },
   {
    "duration": 850,
    "start_time": "2021-08-13T08:21:53.268Z"
   },
   {
    "duration": 703,
    "start_time": "2021-08-13T08:21:54.120Z"
   },
   {
    "duration": 4,
    "start_time": "2021-08-13T08:21:54.826Z"
   },
   {
    "duration": 13,
    "start_time": "2021-08-13T08:21:54.832Z"
   },
   {
    "duration": 22,
    "start_time": "2021-08-13T08:21:54.848Z"
   },
   {
    "duration": 32,
    "start_time": "2021-08-13T08:21:54.873Z"
   },
   {
    "duration": 78,
    "start_time": "2021-08-13T08:21:54.909Z"
   },
   {
    "duration": 15,
    "start_time": "2021-08-13T08:21:54.989Z"
   },
   {
    "duration": 13,
    "start_time": "2021-08-13T08:21:55.006Z"
   },
   {
    "duration": 9,
    "start_time": "2021-08-13T08:21:55.021Z"
   },
   {
    "duration": 21,
    "start_time": "2021-08-13T08:21:55.032Z"
   },
   {
    "duration": 4,
    "start_time": "2021-08-13T08:21:55.073Z"
   },
   {
    "duration": 391,
    "start_time": "2021-08-13T08:21:55.081Z"
   },
   {
    "duration": 92,
    "start_time": "2021-08-13T08:21:55.479Z"
   },
   {
    "duration": 7,
    "start_time": "2021-08-13T08:21:55.575Z"
   },
   {
    "duration": 532292,
    "start_time": "2021-08-13T08:21:55.587Z"
   },
   {
    "duration": 22370,
    "start_time": "2021-08-13T08:30:47.883Z"
   },
   {
    "duration": 5,
    "start_time": "2021-08-13T08:31:10.255Z"
   },
   {
    "duration": 10,
    "start_time": "2021-08-13T08:31:10.263Z"
   },
   {
    "duration": 18,
    "start_time": "2021-08-13T08:31:10.276Z"
   },
   {
    "duration": 7,
    "start_time": "2021-08-13T08:31:10.297Z"
   },
   {
    "duration": 62,
    "start_time": "2021-08-13T08:31:10.307Z"
   },
   {
    "duration": 377,
    "start_time": "2021-08-13T09:32:19.839Z"
   },
   {
    "duration": 4,
    "start_time": "2021-08-13T09:32:24.237Z"
   },
   {
    "duration": 5,
    "start_time": "2021-08-13T09:32:33.765Z"
   },
   {
    "duration": 1481,
    "start_time": "2021-08-13T09:36:13.624Z"
   },
   {
    "duration": 47,
    "start_time": "2021-08-13T09:36:15.108Z"
   },
   {
    "duration": 14,
    "start_time": "2021-08-13T09:36:15.158Z"
   },
   {
    "duration": 15,
    "start_time": "2021-08-13T09:36:15.176Z"
   },
   {
    "duration": 5,
    "start_time": "2021-08-13T09:36:15.193Z"
   },
   {
    "duration": 15,
    "start_time": "2021-08-13T09:36:15.200Z"
   },
   {
    "duration": 373,
    "start_time": "2021-08-13T09:36:15.217Z"
   },
   {
    "duration": 301,
    "start_time": "2021-08-13T09:36:15.594Z"
   },
   {
    "duration": 476,
    "start_time": "2021-08-13T09:36:15.898Z"
   },
   {
    "duration": 897,
    "start_time": "2021-08-13T09:36:16.376Z"
   },
   {
    "duration": 731,
    "start_time": "2021-08-13T09:36:17.275Z"
   },
   {
    "duration": 4,
    "start_time": "2021-08-13T09:36:18.008Z"
   },
   {
    "duration": 13,
    "start_time": "2021-08-13T09:36:18.014Z"
   },
   {
    "duration": 5,
    "start_time": "2021-08-13T09:36:18.030Z"
   },
   {
    "duration": 53,
    "start_time": "2021-08-13T09:36:18.037Z"
   },
   {
    "duration": 31,
    "start_time": "2021-08-13T09:36:18.093Z"
   },
   {
    "duration": 52,
    "start_time": "2021-08-13T09:36:18.127Z"
   },
   {
    "duration": 3,
    "start_time": "2021-08-13T09:36:18.181Z"
   },
   {
    "duration": 8,
    "start_time": "2021-08-13T09:36:18.186Z"
   },
   {
    "duration": 13,
    "start_time": "2021-08-13T09:36:18.196Z"
   },
   {
    "duration": 12,
    "start_time": "2021-08-13T09:36:18.211Z"
   },
   {
    "duration": 46,
    "start_time": "2021-08-13T09:36:18.225Z"
   },
   {
    "duration": 592,
    "start_time": "2021-08-13T09:36:18.276Z"
   },
   {
    "duration": 101,
    "start_time": "2021-08-13T09:36:18.871Z"
   },
   {
    "duration": 6,
    "start_time": "2021-08-13T09:36:18.975Z"
   },
   {
    "duration": 365529,
    "start_time": "2021-08-13T09:36:18.984Z"
   },
   {
    "duration": 15256,
    "start_time": "2021-08-13T09:42:24.516Z"
   },
   {
    "duration": 5,
    "start_time": "2021-08-13T09:42:39.775Z"
   },
   {
    "duration": 10,
    "start_time": "2021-08-13T09:42:39.783Z"
   },
   {
    "duration": 21,
    "start_time": "2021-08-13T09:42:39.795Z"
   },
   {
    "duration": 9,
    "start_time": "2021-08-13T09:42:39.819Z"
   },
   {
    "duration": 17,
    "start_time": "2021-08-13T09:42:39.868Z"
   },
   {
    "duration": 17,
    "start_time": "2021-08-13T09:53:25.495Z"
   },
   {
    "duration": 1598,
    "start_time": "2021-08-13T09:53:31.403Z"
   },
   {
    "duration": 45,
    "start_time": "2021-08-13T09:53:33.004Z"
   },
   {
    "duration": 16,
    "start_time": "2021-08-13T09:53:33.052Z"
   },
   {
    "duration": 14,
    "start_time": "2021-08-13T09:53:33.071Z"
   },
   {
    "duration": 6,
    "start_time": "2021-08-13T09:53:33.088Z"
   },
   {
    "duration": 19,
    "start_time": "2021-08-13T09:53:33.097Z"
   },
   {
    "duration": 368,
    "start_time": "2021-08-13T09:53:33.118Z"
   },
   {
    "duration": 302,
    "start_time": "2021-08-13T09:53:33.490Z"
   },
   {
    "duration": 579,
    "start_time": "2021-08-13T09:53:33.795Z"
   },
   {
    "duration": 761,
    "start_time": "2021-08-13T09:53:34.377Z"
   },
   {
    "duration": 721,
    "start_time": "2021-08-13T09:53:35.141Z"
   },
   {
    "duration": 3,
    "start_time": "2021-08-13T09:53:35.868Z"
   },
   {
    "duration": 12,
    "start_time": "2021-08-13T09:53:35.874Z"
   },
   {
    "duration": 6,
    "start_time": "2021-08-13T09:53:35.889Z"
   },
   {
    "duration": 29,
    "start_time": "2021-08-13T09:53:35.898Z"
   },
   {
    "duration": 70,
    "start_time": "2021-08-13T09:53:35.929Z"
   },
   {
    "duration": 14,
    "start_time": "2021-08-13T09:53:36.001Z"
   },
   {
    "duration": 5,
    "start_time": "2021-08-13T09:53:36.017Z"
   },
   {
    "duration": 42,
    "start_time": "2021-08-13T09:53:36.024Z"
   },
   {
    "duration": 6,
    "start_time": "2021-08-13T09:53:36.069Z"
   },
   {
    "duration": 20,
    "start_time": "2021-08-13T09:53:36.077Z"
   },
   {
    "duration": 9,
    "start_time": "2021-08-13T09:53:36.100Z"
   },
   {
    "duration": 659,
    "start_time": "2021-08-13T09:53:36.113Z"
   },
   {
    "duration": 101,
    "start_time": "2021-08-13T09:53:36.776Z"
   },
   {
    "duration": 87,
    "start_time": "2021-08-13T09:53:36.881Z"
   },
   {
    "duration": 84519,
    "start_time": "2021-08-13T09:53:36.971Z"
   },
   {
    "duration": 214,
    "start_time": "2021-08-13T09:55:01.492Z"
   },
   {
    "duration": 7,
    "start_time": "2021-08-13T09:55:01.709Z"
   },
   {
    "duration": 43,
    "start_time": "2021-08-13T09:55:01.720Z"
   },
   {
    "duration": 407,
    "start_time": "2021-08-13T09:55:01.767Z"
   },
   {
    "duration": 834,
    "start_time": "2021-08-13T09:55:01.343Z"
   },
   {
    "duration": 829,
    "start_time": "2021-08-13T09:55:01.350Z"
   },
   {
    "duration": 898,
    "start_time": "2021-08-13T09:57:09.409Z"
   },
   {
    "duration": 311,
    "start_time": "2021-08-13T09:57:17.114Z"
   },
   {
    "duration": 19,
    "start_time": "2021-08-13T09:57:32.600Z"
   },
   {
    "duration": 7,
    "start_time": "2021-08-13T09:57:48.913Z"
   },
   {
    "duration": 1545,
    "start_time": "2021-08-13T09:58:38.226Z"
   },
   {
    "duration": 46,
    "start_time": "2021-08-13T09:58:39.774Z"
   },
   {
    "duration": 9,
    "start_time": "2021-08-13T09:58:39.823Z"
   },
   {
    "duration": 34,
    "start_time": "2021-08-13T09:58:39.834Z"
   },
   {
    "duration": 5,
    "start_time": "2021-08-13T09:58:39.870Z"
   },
   {
    "duration": 19,
    "start_time": "2021-08-13T09:58:39.877Z"
   },
   {
    "duration": 361,
    "start_time": "2021-08-13T09:58:39.899Z"
   },
   {
    "duration": 299,
    "start_time": "2021-08-13T09:58:40.263Z"
   },
   {
    "duration": 471,
    "start_time": "2021-08-13T09:58:40.568Z"
   },
   {
    "duration": 761,
    "start_time": "2021-08-13T09:58:41.042Z"
   },
   {
    "duration": 726,
    "start_time": "2021-08-13T09:58:41.806Z"
   },
   {
    "duration": 3,
    "start_time": "2021-08-13T09:58:42.536Z"
   },
   {
    "duration": 32,
    "start_time": "2021-08-13T09:58:42.542Z"
   },
   {
    "duration": 5,
    "start_time": "2021-08-13T09:58:42.577Z"
   },
   {
    "duration": 83,
    "start_time": "2021-08-13T09:58:42.584Z"
   },
   {
    "duration": 43,
    "start_time": "2021-08-13T09:58:42.670Z"
   },
   {
    "duration": 9,
    "start_time": "2021-08-13T09:58:42.716Z"
   },
   {
    "duration": 7,
    "start_time": "2021-08-13T09:58:42.728Z"
   },
   {
    "duration": 4,
    "start_time": "2021-08-13T09:58:42.768Z"
   },
   {
    "duration": 9,
    "start_time": "2021-08-13T09:58:42.774Z"
   },
   {
    "duration": 11,
    "start_time": "2021-08-13T09:58:42.785Z"
   },
   {
    "duration": 6,
    "start_time": "2021-08-13T09:58:42.799Z"
   },
   {
    "duration": 963,
    "start_time": "2021-08-13T09:58:42.809Z"
   },
   {
    "duration": 98,
    "start_time": "2021-08-13T09:58:43.777Z"
   },
   {
    "duration": 202,
    "start_time": "2021-08-13T09:58:43.879Z"
   },
   {
    "duration": 397,
    "start_time": "2021-08-13T09:58:44.167Z"
   },
   {
    "duration": 766,
    "start_time": "2021-08-13T09:58:43.801Z"
   },
   {
    "duration": 752,
    "start_time": "2021-08-13T09:58:43.816Z"
   },
   {
    "duration": 745,
    "start_time": "2021-08-13T09:58:43.825Z"
   },
   {
    "duration": 741,
    "start_time": "2021-08-13T09:58:43.831Z"
   },
   {
    "duration": 737,
    "start_time": "2021-08-13T09:58:43.837Z"
   },
   {
    "duration": 731,
    "start_time": "2021-08-13T09:58:43.844Z"
   },
   {
    "duration": 727,
    "start_time": "2021-08-13T09:58:43.850Z"
   },
   {
    "duration": 722,
    "start_time": "2021-08-13T09:58:43.857Z"
   },
   {
    "duration": 31,
    "start_time": "2021-08-13T09:59:01.937Z"
   },
   {
    "duration": 1484,
    "start_time": "2021-08-13T09:59:55.115Z"
   },
   {
    "duration": 53,
    "start_time": "2021-08-13T09:59:56.601Z"
   },
   {
    "duration": 15,
    "start_time": "2021-08-13T09:59:56.658Z"
   },
   {
    "duration": 16,
    "start_time": "2021-08-13T09:59:56.676Z"
   },
   {
    "duration": 5,
    "start_time": "2021-08-13T09:59:56.695Z"
   },
   {
    "duration": 16,
    "start_time": "2021-08-13T09:59:56.702Z"
   },
   {
    "duration": 326,
    "start_time": "2021-08-13T09:59:56.767Z"
   },
   {
    "duration": 311,
    "start_time": "2021-08-13T09:59:57.096Z"
   },
   {
    "duration": 480,
    "start_time": "2021-08-13T09:59:57.411Z"
   },
   {
    "duration": 784,
    "start_time": "2021-08-13T09:59:57.894Z"
   },
   {
    "duration": 713,
    "start_time": "2021-08-13T09:59:58.681Z"
   },
   {
    "duration": 4,
    "start_time": "2021-08-13T09:59:59.397Z"
   },
   {
    "duration": 12,
    "start_time": "2021-08-13T09:59:59.403Z"
   },
   {
    "duration": 5,
    "start_time": "2021-08-13T09:59:59.417Z"
   },
   {
    "duration": 75,
    "start_time": "2021-08-13T09:59:59.424Z"
   },
   {
    "duration": 9,
    "start_time": "2021-08-13T09:59:59.502Z"
   },
   {
    "duration": 5,
    "start_time": "2021-08-13T09:59:59.514Z"
   },
   {
    "duration": 7,
    "start_time": "2021-08-13T09:59:59.521Z"
   },
   {
    "duration": 42,
    "start_time": "2021-08-13T09:59:59.530Z"
   },
   {
    "duration": 16,
    "start_time": "2021-08-13T09:59:59.575Z"
   },
   {
    "duration": 13,
    "start_time": "2021-08-13T09:59:59.593Z"
   },
   {
    "duration": 1163,
    "start_time": "2021-08-13T09:59:59.609Z"
   },
   {
    "duration": 190,
    "start_time": "2021-08-13T10:00:00.779Z"
   },
   {
    "duration": 95,
    "start_time": "2021-08-13T10:00:00.972Z"
   },
   {
    "duration": 545348,
    "start_time": "2021-08-13T10:00:01.070Z"
   },
   {
    "duration": 22328,
    "start_time": "2021-08-13T10:09:06.420Z"
   },
   {
    "duration": 6,
    "start_time": "2021-08-13T10:09:28.751Z"
   },
   {
    "duration": 10,
    "start_time": "2021-08-13T10:09:28.760Z"
   },
   {
    "duration": 198,
    "start_time": "2021-08-13T10:09:28.774Z"
   },
   {
    "duration": 9,
    "start_time": "2021-08-13T10:09:28.974Z"
   },
   {
    "duration": 20,
    "start_time": "2021-08-13T10:09:28.986Z"
   },
   {
    "duration": 764,
    "start_time": "2021-08-13T11:20:23.579Z"
   },
   {
    "duration": 6,
    "start_time": "2021-08-13T11:27:41.979Z"
   },
   {
    "duration": 212,
    "start_time": "2021-08-13T11:29:15.364Z"
   },
   {
    "duration": 81,
    "start_time": "2021-08-13T11:29:29.854Z"
   },
   {
    "duration": 6,
    "start_time": "2021-08-13T11:31:00.141Z"
   },
   {
    "duration": 94,
    "start_time": "2021-08-13T11:31:07.465Z"
   },
   {
    "duration": 70,
    "start_time": "2021-08-13T11:31:42.990Z"
   },
   {
    "duration": 106,
    "start_time": "2021-08-13T11:32:52.873Z"
   },
   {
    "duration": 90,
    "start_time": "2021-08-13T11:32:57.855Z"
   },
   {
    "duration": 427,
    "start_time": "2021-08-13T11:33:12.503Z"
   },
   {
    "duration": 9,
    "start_time": "2021-08-13T11:33:17.823Z"
   },
   {
    "duration": 7,
    "start_time": "2021-08-13T11:35:05.023Z"
   },
   {
    "duration": 9,
    "start_time": "2021-08-13T11:37:10.864Z"
   },
   {
    "duration": 556,
    "start_time": "2021-08-13T11:37:31.832Z"
   },
   {
    "duration": 7,
    "start_time": "2021-08-13T11:37:51.926Z"
   },
   {
    "duration": 1136,
    "start_time": "2021-08-13T11:37:58.508Z"
   },
   {
    "duration": 8,
    "start_time": "2021-08-13T11:40:47.738Z"
   },
   {
    "duration": 1148,
    "start_time": "2021-08-13T11:40:58.628Z"
   },
   {
    "duration": 8,
    "start_time": "2021-08-13T11:41:41.829Z"
   },
   {
    "duration": 1169,
    "start_time": "2021-08-13T11:41:47.041Z"
   },
   {
    "duration": 89,
    "start_time": "2021-08-13T11:42:38.397Z"
   },
   {
    "duration": 8,
    "start_time": "2021-08-13T11:44:57.813Z"
   },
   {
    "duration": 8,
    "start_time": "2021-08-13T11:45:27.275Z"
   },
   {
    "duration": 642,
    "start_time": "2021-08-13T11:45:33.676Z"
   },
   {
    "duration": 706,
    "start_time": "2021-08-13T11:46:11.966Z"
   },
   {
    "duration": 445,
    "start_time": "2021-08-13T11:46:27.140Z"
   },
   {
    "duration": 440,
    "start_time": "2021-08-13T11:49:28.980Z"
   },
   {
    "duration": 1523,
    "start_time": "2021-08-13T11:51:21.204Z"
   },
   {
    "duration": 57,
    "start_time": "2021-08-13T11:51:22.731Z"
   },
   {
    "duration": 12,
    "start_time": "2021-08-13T11:51:22.792Z"
   },
   {
    "duration": 16,
    "start_time": "2021-08-13T11:51:22.808Z"
   },
   {
    "duration": 43,
    "start_time": "2021-08-13T11:51:22.827Z"
   },
   {
    "duration": 20,
    "start_time": "2021-08-13T11:51:22.873Z"
   },
   {
    "duration": 414,
    "start_time": "2021-08-13T11:51:22.896Z"
   },
   {
    "duration": 320,
    "start_time": "2021-08-13T11:51:23.315Z"
   },
   {
    "duration": 486,
    "start_time": "2021-08-13T11:51:23.637Z"
   },
   {
    "duration": 795,
    "start_time": "2021-08-13T11:51:24.126Z"
   },
   {
    "duration": 731,
    "start_time": "2021-08-13T11:51:24.924Z"
   },
   {
    "duration": 10,
    "start_time": "2021-08-13T11:51:25.657Z"
   },
   {
    "duration": 15,
    "start_time": "2021-08-13T11:51:25.671Z"
   },
   {
    "duration": 7,
    "start_time": "2021-08-13T11:51:25.689Z"
   },
   {
    "duration": 89,
    "start_time": "2021-08-13T11:51:25.699Z"
   },
   {
    "duration": 10,
    "start_time": "2021-08-13T11:51:25.790Z"
   },
   {
    "duration": 7,
    "start_time": "2021-08-13T11:51:25.803Z"
   },
   {
    "duration": 6,
    "start_time": "2021-08-13T11:51:25.812Z"
   },
   {
    "duration": 48,
    "start_time": "2021-08-13T11:51:25.820Z"
   },
   {
    "duration": 14,
    "start_time": "2021-08-13T11:51:25.871Z"
   },
   {
    "duration": 4,
    "start_time": "2021-08-13T11:51:25.888Z"
   },
   {
    "duration": 585,
    "start_time": "2021-08-13T11:51:25.895Z"
   },
   {
    "duration": 104,
    "start_time": "2021-08-13T11:51:26.568Z"
   },
   {
    "duration": 5,
    "start_time": "2021-08-13T11:51:26.676Z"
   },
   {
    "duration": 549974,
    "start_time": "2021-08-13T11:51:26.770Z"
   },
   {
    "duration": 22751,
    "start_time": "2021-08-13T12:00:36.747Z"
   },
   {
    "duration": 5,
    "start_time": "2021-08-13T12:00:59.500Z"
   },
   {
    "duration": 448,
    "start_time": "2021-08-13T12:00:59.508Z"
   },
   {
    "duration": 656,
    "start_time": "2021-08-13T12:00:59.959Z"
   },
   {
    "duration": 477,
    "start_time": "2021-08-13T12:01:00.617Z"
   },
   {
    "duration": 9,
    "start_time": "2021-08-13T12:01:01.096Z"
   },
   {
    "duration": 33,
    "start_time": "2021-08-13T12:01:01.108Z"
   }
  ],
  "kernelspec": {
   "display_name": "Python 3",
   "language": "python",
   "name": "python3"
  },
  "language_info": {
   "codemirror_mode": {
    "name": "ipython",
    "version": 3
   },
   "file_extension": ".py",
   "mimetype": "text/x-python",
   "name": "python",
   "nbconvert_exporter": "python",
   "pygments_lexer": "ipython3",
   "version": "3.8.8"
  },
  "toc": {
   "base_numbering": 1,
   "nav_menu": {},
   "number_sections": true,
   "sideBar": true,
   "skip_h1_title": true,
   "title_cell": "Содержание",
   "title_sidebar": "Contents",
   "toc_cell": true,
   "toc_position": {},
   "toc_section_display": true,
   "toc_window_display": true
  }
 },
 "nbformat": 4,
 "nbformat_minor": 2
}
