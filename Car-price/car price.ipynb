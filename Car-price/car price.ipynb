{
 "cells": [
  {
   "cell_type": "markdown",
   "metadata": {},
   "source": [
    "# Определение стоимости автомобилей"
   ]
  },
  {
   "cell_type": "markdown",
   "metadata": {},
   "source": [
    "Разработка модели для предсказания стоимости подержанных автомобилей по его техническим характеристикам и комплектации для дальнейшего ее использования в специальном приложении. Указанное приложение будет применяться заказчиком – сервис по продаже подержанных автомобилей. \n",
    "Приоритетными критериями для выбора модели являются ее время обучения, скорость и качество предсказания."
   ]
  },
  {
   "cell_type": "markdown",
   "metadata": {},
   "source": [
    "## Подготовка данных"
   ]
  },
  {
   "cell_type": "code",
   "execution_count": 1,
   "metadata": {},
   "outputs": [],
   "source": [
    "import pandas as pd\n",
    "import numpy as np\n",
    "import matplotlib.pyplot as plt\n",
    "import warnings\n",
    "warnings.filterwarnings(\"ignore\")\n",
    "from sklearn.preprocessing import OrdinalEncoder\n",
    "from sklearn.model_selection import train_test_split\n",
    "from sklearn.preprocessing import StandardScaler\n",
    "from sklearn.linear_model import LinearRegression\n",
    "from datetime import datetime\n",
    "import time\n",
    "from sklearn.metrics import mean_squared_error\n",
    "from catboost import CatBoostRegressor\n",
    "import lightgbm as lgb\n",
    "from sklearn.metrics import make_scorer\n",
    "from sklearn.model_selection import GridSearchCV"
   ]
  },
  {
   "cell_type": "code",
   "execution_count": 2,
   "metadata": {},
   "outputs": [
    {
     "data": {
      "text/html": [
       "<div>\n",
       "<style scoped>\n",
       "    .dataframe tbody tr th:only-of-type {\n",
       "        vertical-align: middle;\n",
       "    }\n",
       "\n",
       "    .dataframe tbody tr th {\n",
       "        vertical-align: top;\n",
       "    }\n",
       "\n",
       "    .dataframe thead th {\n",
       "        text-align: right;\n",
       "    }\n",
       "</style>\n",
       "<table border=\"1\" class=\"dataframe\">\n",
       "  <thead>\n",
       "    <tr style=\"text-align: right;\">\n",
       "      <th></th>\n",
       "      <th>DateCrawled</th>\n",
       "      <th>Price</th>\n",
       "      <th>VehicleType</th>\n",
       "      <th>RegistrationYear</th>\n",
       "      <th>Gearbox</th>\n",
       "      <th>Power</th>\n",
       "      <th>Model</th>\n",
       "      <th>Kilometer</th>\n",
       "      <th>RegistrationMonth</th>\n",
       "      <th>FuelType</th>\n",
       "      <th>Brand</th>\n",
       "      <th>NotRepaired</th>\n",
       "      <th>DateCreated</th>\n",
       "      <th>NumberOfPictures</th>\n",
       "      <th>PostalCode</th>\n",
       "      <th>LastSeen</th>\n",
       "    </tr>\n",
       "  </thead>\n",
       "  <tbody>\n",
       "    <tr>\n",
       "      <td>354364</td>\n",
       "      <td>2016-03-21 09:50:58</td>\n",
       "      <td>0</td>\n",
       "      <td>NaN</td>\n",
       "      <td>2005</td>\n",
       "      <td>manual</td>\n",
       "      <td>0</td>\n",
       "      <td>colt</td>\n",
       "      <td>150000</td>\n",
       "      <td>7</td>\n",
       "      <td>petrol</td>\n",
       "      <td>mitsubishi</td>\n",
       "      <td>yes</td>\n",
       "      <td>2016-03-21 00:00:00</td>\n",
       "      <td>0</td>\n",
       "      <td>2694</td>\n",
       "      <td>2016-03-21 10:42:49</td>\n",
       "    </tr>\n",
       "    <tr>\n",
       "      <td>354365</td>\n",
       "      <td>2016-03-14 17:48:27</td>\n",
       "      <td>2200</td>\n",
       "      <td>NaN</td>\n",
       "      <td>2005</td>\n",
       "      <td>NaN</td>\n",
       "      <td>0</td>\n",
       "      <td>NaN</td>\n",
       "      <td>20000</td>\n",
       "      <td>1</td>\n",
       "      <td>NaN</td>\n",
       "      <td>sonstige_autos</td>\n",
       "      <td>NaN</td>\n",
       "      <td>2016-03-14 00:00:00</td>\n",
       "      <td>0</td>\n",
       "      <td>39576</td>\n",
       "      <td>2016-04-06 00:46:52</td>\n",
       "    </tr>\n",
       "    <tr>\n",
       "      <td>354366</td>\n",
       "      <td>2016-03-05 19:56:21</td>\n",
       "      <td>1199</td>\n",
       "      <td>convertible</td>\n",
       "      <td>2000</td>\n",
       "      <td>auto</td>\n",
       "      <td>101</td>\n",
       "      <td>fortwo</td>\n",
       "      <td>125000</td>\n",
       "      <td>3</td>\n",
       "      <td>petrol</td>\n",
       "      <td>smart</td>\n",
       "      <td>no</td>\n",
       "      <td>2016-03-05 00:00:00</td>\n",
       "      <td>0</td>\n",
       "      <td>26135</td>\n",
       "      <td>2016-03-11 18:17:12</td>\n",
       "    </tr>\n",
       "    <tr>\n",
       "      <td>354367</td>\n",
       "      <td>2016-03-19 18:57:12</td>\n",
       "      <td>9200</td>\n",
       "      <td>bus</td>\n",
       "      <td>1996</td>\n",
       "      <td>manual</td>\n",
       "      <td>102</td>\n",
       "      <td>transporter</td>\n",
       "      <td>150000</td>\n",
       "      <td>3</td>\n",
       "      <td>gasoline</td>\n",
       "      <td>volkswagen</td>\n",
       "      <td>no</td>\n",
       "      <td>2016-03-19 00:00:00</td>\n",
       "      <td>0</td>\n",
       "      <td>87439</td>\n",
       "      <td>2016-04-07 07:15:26</td>\n",
       "    </tr>\n",
       "    <tr>\n",
       "      <td>354368</td>\n",
       "      <td>2016-03-20 19:41:08</td>\n",
       "      <td>3400</td>\n",
       "      <td>wagon</td>\n",
       "      <td>2002</td>\n",
       "      <td>manual</td>\n",
       "      <td>100</td>\n",
       "      <td>golf</td>\n",
       "      <td>150000</td>\n",
       "      <td>6</td>\n",
       "      <td>gasoline</td>\n",
       "      <td>volkswagen</td>\n",
       "      <td>NaN</td>\n",
       "      <td>2016-03-20 00:00:00</td>\n",
       "      <td>0</td>\n",
       "      <td>40764</td>\n",
       "      <td>2016-03-24 12:45:21</td>\n",
       "    </tr>\n",
       "  </tbody>\n",
       "</table>\n",
       "</div>"
      ],
      "text/plain": [
       "                DateCrawled  Price  VehicleType  RegistrationYear Gearbox  \\\n",
       "354364  2016-03-21 09:50:58      0          NaN              2005  manual   \n",
       "354365  2016-03-14 17:48:27   2200          NaN              2005     NaN   \n",
       "354366  2016-03-05 19:56:21   1199  convertible              2000    auto   \n",
       "354367  2016-03-19 18:57:12   9200          bus              1996  manual   \n",
       "354368  2016-03-20 19:41:08   3400        wagon              2002  manual   \n",
       "\n",
       "        Power        Model  Kilometer  RegistrationMonth  FuelType  \\\n",
       "354364      0         colt     150000                  7    petrol   \n",
       "354365      0          NaN      20000                  1       NaN   \n",
       "354366    101       fortwo     125000                  3    petrol   \n",
       "354367    102  transporter     150000                  3  gasoline   \n",
       "354368    100         golf     150000                  6  gasoline   \n",
       "\n",
       "                 Brand NotRepaired          DateCreated  NumberOfPictures  \\\n",
       "354364      mitsubishi         yes  2016-03-21 00:00:00                 0   \n",
       "354365  sonstige_autos         NaN  2016-03-14 00:00:00                 0   \n",
       "354366           smart          no  2016-03-05 00:00:00                 0   \n",
       "354367      volkswagen          no  2016-03-19 00:00:00                 0   \n",
       "354368      volkswagen         NaN  2016-03-20 00:00:00                 0   \n",
       "\n",
       "        PostalCode             LastSeen  \n",
       "354364        2694  2016-03-21 10:42:49  \n",
       "354365       39576  2016-04-06 00:46:52  \n",
       "354366       26135  2016-03-11 18:17:12  \n",
       "354367       87439  2016-04-07 07:15:26  \n",
       "354368       40764  2016-03-24 12:45:21  "
      ]
     },
     "metadata": {},
     "output_type": "display_data"
    }
   ],
   "source": [
    "df = pd.read_csv('autos.csv')\n",
    "display(df.tail())"
   ]
  },
  {
   "cell_type": "code",
   "execution_count": 3,
   "metadata": {},
   "outputs": [
    {
     "data": {
      "text/plain": [
       "DateCrawled          0.000000\n",
       "Price                0.000000\n",
       "VehicleType          0.105794\n",
       "RegistrationYear     0.000000\n",
       "Gearbox              0.055967\n",
       "Power                0.000000\n",
       "Model                0.055606\n",
       "Kilometer            0.000000\n",
       "RegistrationMonth    0.000000\n",
       "FuelType             0.092827\n",
       "Brand                0.000000\n",
       "NotRepaired          0.200791\n",
       "DateCreated          0.000000\n",
       "NumberOfPictures     0.000000\n",
       "PostalCode           0.000000\n",
       "LastSeen             0.000000\n",
       "dtype: float64"
      ]
     },
     "execution_count": 3,
     "metadata": {},
     "output_type": "execute_result"
    }
   ],
   "source": [
    "df.isna().mean()"
   ]
  },
  {
   "cell_type": "code",
   "execution_count": 4,
   "metadata": {
    "scrolled": true
   },
   "outputs": [
    {
     "name": "stdout",
     "output_type": "stream",
     "text": [
      "<class 'pandas.core.frame.DataFrame'>\n",
      "RangeIndex: 354369 entries, 0 to 354368\n",
      "Data columns (total 16 columns):\n",
      "DateCrawled          354369 non-null object\n",
      "Price                354369 non-null int64\n",
      "VehicleType          316879 non-null object\n",
      "RegistrationYear     354369 non-null int64\n",
      "Gearbox              334536 non-null object\n",
      "Power                354369 non-null int64\n",
      "Model                334664 non-null object\n",
      "Kilometer            354369 non-null int64\n",
      "RegistrationMonth    354369 non-null int64\n",
      "FuelType             321474 non-null object\n",
      "Brand                354369 non-null object\n",
      "NotRepaired          283215 non-null object\n",
      "DateCreated          354369 non-null object\n",
      "NumberOfPictures     354369 non-null int64\n",
      "PostalCode           354369 non-null int64\n",
      "LastSeen             354369 non-null object\n",
      "dtypes: int64(7), object(9)\n",
      "memory usage: 43.3+ MB\n"
     ]
    }
   ],
   "source": [
    "df.info()"
   ]
  },
  {
   "cell_type": "code",
   "execution_count": 5,
   "metadata": {},
   "outputs": [],
   "source": [
    "column_date = ['DateCrawled','DateCreated','LastSeen']\n",
    "df[column_date] = df[column_date].apply(pd.to_datetime, format='%Y-%m-%d %H:%M:%S')"
   ]
  },
  {
   "cell_type": "code",
   "execution_count": 6,
   "metadata": {},
   "outputs": [],
   "source": [
    "df['DateCreated_month'], df['DateCreated_year'] = df['DateCreated'].dt.month, df['DateCreated'].dt.year"
   ]
  },
  {
   "cell_type": "code",
   "execution_count": 7,
   "metadata": {
    "scrolled": true
   },
   "outputs": [
    {
     "data": {
      "text/html": [
       "<div>\n",
       "<style scoped>\n",
       "    .dataframe tbody tr th:only-of-type {\n",
       "        vertical-align: middle;\n",
       "    }\n",
       "\n",
       "    .dataframe tbody tr th {\n",
       "        vertical-align: top;\n",
       "    }\n",
       "\n",
       "    .dataframe thead th {\n",
       "        text-align: right;\n",
       "    }\n",
       "</style>\n",
       "<table border=\"1\" class=\"dataframe\">\n",
       "  <thead>\n",
       "    <tr style=\"text-align: right;\">\n",
       "      <th></th>\n",
       "      <th>DateCrawled</th>\n",
       "      <th>Price</th>\n",
       "      <th>VehicleType</th>\n",
       "      <th>RegistrationYear</th>\n",
       "      <th>Gearbox</th>\n",
       "      <th>Power</th>\n",
       "      <th>Model</th>\n",
       "      <th>Kilometer</th>\n",
       "      <th>RegistrationMonth</th>\n",
       "      <th>FuelType</th>\n",
       "      <th>Brand</th>\n",
       "      <th>NotRepaired</th>\n",
       "      <th>DateCreated</th>\n",
       "      <th>NumberOfPictures</th>\n",
       "      <th>PostalCode</th>\n",
       "      <th>LastSeen</th>\n",
       "      <th>DateCreated_month</th>\n",
       "      <th>DateCreated_year</th>\n",
       "    </tr>\n",
       "  </thead>\n",
       "  <tbody>\n",
       "    <tr>\n",
       "      <td>15</td>\n",
       "      <td>2016-03-11 21:39:15</td>\n",
       "      <td>450</td>\n",
       "      <td>small</td>\n",
       "      <td>1910</td>\n",
       "      <td>NaN</td>\n",
       "      <td>0</td>\n",
       "      <td>ka</td>\n",
       "      <td>5000</td>\n",
       "      <td>0</td>\n",
       "      <td>petrol</td>\n",
       "      <td>ford</td>\n",
       "      <td>NaN</td>\n",
       "      <td>2016-03-11</td>\n",
       "      <td>0</td>\n",
       "      <td>24148</td>\n",
       "      <td>2016-03-19 08:46:47</td>\n",
       "      <td>3</td>\n",
       "      <td>2016</td>\n",
       "    </tr>\n",
       "    <tr>\n",
       "      <td>16</td>\n",
       "      <td>2016-04-01 12:46:46</td>\n",
       "      <td>300</td>\n",
       "      <td>NaN</td>\n",
       "      <td>2016</td>\n",
       "      <td>NaN</td>\n",
       "      <td>60</td>\n",
       "      <td>polo</td>\n",
       "      <td>150000</td>\n",
       "      <td>0</td>\n",
       "      <td>petrol</td>\n",
       "      <td>volkswagen</td>\n",
       "      <td>NaN</td>\n",
       "      <td>2016-04-01</td>\n",
       "      <td>0</td>\n",
       "      <td>38871</td>\n",
       "      <td>2016-04-01 12:46:46</td>\n",
       "      <td>4</td>\n",
       "      <td>2016</td>\n",
       "    </tr>\n",
       "    <tr>\n",
       "      <td>32</td>\n",
       "      <td>2016-03-15 20:59:01</td>\n",
       "      <td>245</td>\n",
       "      <td>sedan</td>\n",
       "      <td>1994</td>\n",
       "      <td>NaN</td>\n",
       "      <td>0</td>\n",
       "      <td>golf</td>\n",
       "      <td>150000</td>\n",
       "      <td>2</td>\n",
       "      <td>petrol</td>\n",
       "      <td>volkswagen</td>\n",
       "      <td>no</td>\n",
       "      <td>2016-03-15</td>\n",
       "      <td>0</td>\n",
       "      <td>44145</td>\n",
       "      <td>2016-03-17 18:17:43</td>\n",
       "      <td>3</td>\n",
       "      <td>2016</td>\n",
       "    </tr>\n",
       "    <tr>\n",
       "      <td>37</td>\n",
       "      <td>2016-03-28 17:50:15</td>\n",
       "      <td>1500</td>\n",
       "      <td>NaN</td>\n",
       "      <td>2016</td>\n",
       "      <td>NaN</td>\n",
       "      <td>0</td>\n",
       "      <td>kangoo</td>\n",
       "      <td>150000</td>\n",
       "      <td>1</td>\n",
       "      <td>gasoline</td>\n",
       "      <td>renault</td>\n",
       "      <td>no</td>\n",
       "      <td>2016-03-28</td>\n",
       "      <td>0</td>\n",
       "      <td>46483</td>\n",
       "      <td>2016-03-30 09:18:02</td>\n",
       "      <td>3</td>\n",
       "      <td>2016</td>\n",
       "    </tr>\n",
       "    <tr>\n",
       "      <td>40</td>\n",
       "      <td>2016-03-26 22:06:17</td>\n",
       "      <td>0</td>\n",
       "      <td>NaN</td>\n",
       "      <td>1990</td>\n",
       "      <td>NaN</td>\n",
       "      <td>0</td>\n",
       "      <td>corsa</td>\n",
       "      <td>150000</td>\n",
       "      <td>1</td>\n",
       "      <td>petrol</td>\n",
       "      <td>opel</td>\n",
       "      <td>NaN</td>\n",
       "      <td>2016-03-26</td>\n",
       "      <td>0</td>\n",
       "      <td>56412</td>\n",
       "      <td>2016-03-27 17:43:34</td>\n",
       "      <td>3</td>\n",
       "      <td>2016</td>\n",
       "    </tr>\n",
       "  </tbody>\n",
       "</table>\n",
       "</div>"
      ],
      "text/plain": [
       "           DateCrawled  Price VehicleType  RegistrationYear Gearbox  Power  \\\n",
       "15 2016-03-11 21:39:15    450       small              1910     NaN      0   \n",
       "16 2016-04-01 12:46:46    300         NaN              2016     NaN     60   \n",
       "32 2016-03-15 20:59:01    245       sedan              1994     NaN      0   \n",
       "37 2016-03-28 17:50:15   1500         NaN              2016     NaN      0   \n",
       "40 2016-03-26 22:06:17      0         NaN              1990     NaN      0   \n",
       "\n",
       "     Model  Kilometer  RegistrationMonth  FuelType       Brand NotRepaired  \\\n",
       "15      ka       5000                  0    petrol        ford         NaN   \n",
       "16    polo     150000                  0    petrol  volkswagen         NaN   \n",
       "32    golf     150000                  2    petrol  volkswagen          no   \n",
       "37  kangoo     150000                  1  gasoline     renault          no   \n",
       "40   corsa     150000                  1    petrol        opel         NaN   \n",
       "\n",
       "   DateCreated  NumberOfPictures  PostalCode            LastSeen  \\\n",
       "15  2016-03-11                 0       24148 2016-03-19 08:46:47   \n",
       "16  2016-04-01                 0       38871 2016-04-01 12:46:46   \n",
       "32  2016-03-15                 0       44145 2016-03-17 18:17:43   \n",
       "37  2016-03-28                 0       46483 2016-03-30 09:18:02   \n",
       "40  2016-03-26                 0       56412 2016-03-27 17:43:34   \n",
       "\n",
       "    DateCreated_month  DateCreated_year  \n",
       "15                  3              2016  \n",
       "16                  4              2016  \n",
       "32                  3              2016  \n",
       "37                  3              2016  \n",
       "40                  3              2016  "
      ]
     },
     "execution_count": 7,
     "metadata": {},
     "output_type": "execute_result"
    }
   ],
   "source": [
    "df[df['Gearbox'].isna()].head()"
   ]
  },
  {
   "cell_type": "markdown",
   "metadata": {},
   "source": [
    "### Промежуточные комментарии\n",
    "\n",
    "Категориальные признаки DateCrawled, DateCreated, LastSeen были преобразованы в тип данных  datetime, так как предполагалось, что в дальнейшем они будут использоваться для вычисления периода времени нахождения объявления до его снятия либо скачивания с базы. Но непонятно несколько моментов: время создания анкеты представлено с одинаковым временем для всех, а время скачивания из базы – это для исследований? Также непонятно с последним временем активности клиента, он же, наверное, мог заходить просто на сайт и это засчиталось бы активностью. В общем из-за некоторого непонимания данных признаков (ожидания отличаются от реального понимания) в дальнейшем они не используются в обучении моделей, кроме фильтрации по году и месяцу регистрации, что реализовано далее.  "
   ]
  },
  {
   "cell_type": "code",
   "execution_count": 8,
   "metadata": {},
   "outputs": [],
   "source": [
    "column_num = ['Price','RegistrationYear','Kilometer','Power']"
   ]
  },
  {
   "cell_type": "code",
   "execution_count": 9,
   "metadata": {},
   "outputs": [
    {
     "data": {
      "text/html": [
       "<div>\n",
       "<style scoped>\n",
       "    .dataframe tbody tr th:only-of-type {\n",
       "        vertical-align: middle;\n",
       "    }\n",
       "\n",
       "    .dataframe tbody tr th {\n",
       "        vertical-align: top;\n",
       "    }\n",
       "\n",
       "    .dataframe thead th {\n",
       "        text-align: right;\n",
       "    }\n",
       "</style>\n",
       "<table border=\"1\" class=\"dataframe\">\n",
       "  <thead>\n",
       "    <tr style=\"text-align: right;\">\n",
       "      <th></th>\n",
       "      <th>Price</th>\n",
       "      <th>RegistrationYear</th>\n",
       "      <th>Kilometer</th>\n",
       "      <th>Power</th>\n",
       "    </tr>\n",
       "  </thead>\n",
       "  <tbody>\n",
       "    <tr>\n",
       "      <td>count</td>\n",
       "      <td>354369.000000</td>\n",
       "      <td>354369.000000</td>\n",
       "      <td>354369.000000</td>\n",
       "      <td>354369.000000</td>\n",
       "    </tr>\n",
       "    <tr>\n",
       "      <td>mean</td>\n",
       "      <td>4416.656776</td>\n",
       "      <td>2004.234448</td>\n",
       "      <td>128211.172535</td>\n",
       "      <td>110.094337</td>\n",
       "    </tr>\n",
       "    <tr>\n",
       "      <td>std</td>\n",
       "      <td>4514.158514</td>\n",
       "      <td>90.227958</td>\n",
       "      <td>37905.341530</td>\n",
       "      <td>189.850405</td>\n",
       "    </tr>\n",
       "    <tr>\n",
       "      <td>min</td>\n",
       "      <td>0.000000</td>\n",
       "      <td>1000.000000</td>\n",
       "      <td>5000.000000</td>\n",
       "      <td>0.000000</td>\n",
       "    </tr>\n",
       "    <tr>\n",
       "      <td>25%</td>\n",
       "      <td>1050.000000</td>\n",
       "      <td>1999.000000</td>\n",
       "      <td>125000.000000</td>\n",
       "      <td>69.000000</td>\n",
       "    </tr>\n",
       "    <tr>\n",
       "      <td>50%</td>\n",
       "      <td>2700.000000</td>\n",
       "      <td>2003.000000</td>\n",
       "      <td>150000.000000</td>\n",
       "      <td>105.000000</td>\n",
       "    </tr>\n",
       "    <tr>\n",
       "      <td>75%</td>\n",
       "      <td>6400.000000</td>\n",
       "      <td>2008.000000</td>\n",
       "      <td>150000.000000</td>\n",
       "      <td>143.000000</td>\n",
       "    </tr>\n",
       "    <tr>\n",
       "      <td>max</td>\n",
       "      <td>20000.000000</td>\n",
       "      <td>9999.000000</td>\n",
       "      <td>150000.000000</td>\n",
       "      <td>20000.000000</td>\n",
       "    </tr>\n",
       "  </tbody>\n",
       "</table>\n",
       "</div>"
      ],
      "text/plain": [
       "               Price  RegistrationYear      Kilometer          Power\n",
       "count  354369.000000     354369.000000  354369.000000  354369.000000\n",
       "mean     4416.656776       2004.234448  128211.172535     110.094337\n",
       "std      4514.158514         90.227958   37905.341530     189.850405\n",
       "min         0.000000       1000.000000    5000.000000       0.000000\n",
       "25%      1050.000000       1999.000000  125000.000000      69.000000\n",
       "50%      2700.000000       2003.000000  150000.000000     105.000000\n",
       "75%      6400.000000       2008.000000  150000.000000     143.000000\n",
       "max     20000.000000       9999.000000  150000.000000   20000.000000"
      ]
     },
     "execution_count": 9,
     "metadata": {},
     "output_type": "execute_result"
    }
   ],
   "source": [
    "df[column_num].describe()"
   ]
  },
  {
   "cell_type": "code",
   "execution_count": 10,
   "metadata": {},
   "outputs": [
    {
     "data": {
      "text/plain": [
       "2016"
      ]
     },
     "execution_count": 10,
     "metadata": {},
     "output_type": "execute_result"
    }
   ],
   "source": [
    "max(df['DateCreated_year'])"
   ]
  },
  {
   "cell_type": "code",
   "execution_count": 11,
   "metadata": {},
   "outputs": [
    {
     "data": {
      "image/png": "[encoded data removed]",
      "text/plain": [
       "<Figure size 576x360 with 1 Axes>"
      ]
     },
     "metadata": {
      "needs_background": "light"
     },
     "output_type": "display_data"
    }
   ],
   "source": [
    "df['Power'].hist(bins = 50, range = (0, 600), figsize = (8,5))\n",
    "plt.title('Car power', fontsize=16)\n",
    "plt.xlabel('Power')\n",
    "plt.ylabel('Count')\n",
    "plt.show()    "
   ]
  },
  {
   "cell_type": "code",
   "execution_count": 12,
   "metadata": {},
   "outputs": [
    {
     "data": {
      "image/png": "[encoded data removed]",
      "text/plain": [
       "<Figure size 576x360 with 1 Axes>"
      ]
     },
     "metadata": {
      "needs_background": "light"
     },
     "output_type": "display_data"
    }
   ],
   "source": [
    "df['RegistrationYear'].hist(bins = 50, range = (1900, 2020),figsize = (8,5))\n",
    "plt.title('Registration year', fontsize=16)\n",
    "plt.xlabel('Year')\n",
    "plt.ylabel('Count')\n",
    "plt.show() "
   ]
  },
  {
   "cell_type": "code",
   "execution_count": 13,
   "metadata": {},
   "outputs": [
    {
     "data": {
      "text/plain": [
       "(334422, 18)"
      ]
     },
     "metadata": {},
     "output_type": "display_data"
    }
   ],
   "source": [
    "df = df.drop(df[((df['RegistrationYear'] == df['DateCreated_year']) & \n",
    "                (df['RegistrationMonth'] > df['DateCreated_month'])) | (df['RegistrationYear'] < 1932) | (df['RegistrationYear'] > df['DateCreated_year']) ].index)\n",
    "display(df.shape)"
   ]
  },
  {
   "cell_type": "markdown",
   "metadata": {},
   "source": [
    "### Промежуточные комментарии\n",
    "В процессе изучения данных был рассмотрен год регистрации автомобиля (данные месяца регистрации были также изучены. Считаю, что они не должны влиять на стоимость автомобиля. Даже специально не очищались объявления с месяцем – 0. Возможно, продавцы не придали значения данному параметру и поэтому автоматом проставилcя 0). Диапазон года регистрации автомобиля составляет от 1000г.до 9999г.\n",
    "С учетом того, что крайняя дата создания объявления не превышает 2016 год, были удалены следующие объявления, в которых: \n",
    "\n",
    "- год регистрации автомобиля превышает 100-летний возраст владельца (с добавлением 18 лет, когда можно производить подобные продажи);\n",
    "- год регистрации превышает год создания объявления;\n",
    "- год регистрации превышает год соответствует году создания объявления, но месяц регистрации превышает месяц создания объявления."
   ]
  },
  {
   "cell_type": "code",
   "execution_count": 14,
   "metadata": {},
   "outputs": [],
   "source": [
    "df['NotRepaired'] = df[(df['Kilometer'] > 50000) &  \n",
    "                                (df['DateCreated_year'] - df['RegistrationYear'] > 5)]['NotRepaired'].fillna('yes')"
   ]
  },
  {
   "cell_type": "code",
   "execution_count": 15,
   "metadata": {
    "scrolled": true
   },
   "outputs": [
    {
     "data": {
      "text/html": [
       "<div>\n",
       "<style scoped>\n",
       "    .dataframe tbody tr th:only-of-type {\n",
       "        vertical-align: middle;\n",
       "    }\n",
       "\n",
       "    .dataframe tbody tr th {\n",
       "        vertical-align: top;\n",
       "    }\n",
       "\n",
       "    .dataframe thead th {\n",
       "        text-align: right;\n",
       "    }\n",
       "</style>\n",
       "<table border=\"1\" class=\"dataframe\">\n",
       "  <thead>\n",
       "    <tr style=\"text-align: right;\">\n",
       "      <th></th>\n",
       "      <th>DateCrawled</th>\n",
       "      <th>Price</th>\n",
       "      <th>VehicleType</th>\n",
       "      <th>RegistrationYear</th>\n",
       "      <th>Gearbox</th>\n",
       "      <th>Power</th>\n",
       "      <th>Model</th>\n",
       "      <th>Kilometer</th>\n",
       "      <th>RegistrationMonth</th>\n",
       "      <th>FuelType</th>\n",
       "      <th>Brand</th>\n",
       "      <th>NotRepaired</th>\n",
       "      <th>DateCreated</th>\n",
       "      <th>NumberOfPictures</th>\n",
       "      <th>PostalCode</th>\n",
       "      <th>LastSeen</th>\n",
       "      <th>DateCreated_month</th>\n",
       "      <th>DateCreated_year</th>\n",
       "    </tr>\n",
       "  </thead>\n",
       "  <tbody>\n",
       "    <tr>\n",
       "      <td>0</td>\n",
       "      <td>2016-03-24 11:52:17</td>\n",
       "      <td>480</td>\n",
       "      <td>unknown</td>\n",
       "      <td>1993</td>\n",
       "      <td>manual</td>\n",
       "      <td>0</td>\n",
       "      <td>golf</td>\n",
       "      <td>150000</td>\n",
       "      <td>0</td>\n",
       "      <td>petrol</td>\n",
       "      <td>volkswagen</td>\n",
       "      <td>yes</td>\n",
       "      <td>2016-03-24</td>\n",
       "      <td>0</td>\n",
       "      <td>70435</td>\n",
       "      <td>2016-04-07 03:16:57</td>\n",
       "      <td>3</td>\n",
       "      <td>2016</td>\n",
       "    </tr>\n",
       "    <tr>\n",
       "      <td>1</td>\n",
       "      <td>2016-03-24 10:58:45</td>\n",
       "      <td>18300</td>\n",
       "      <td>coupe</td>\n",
       "      <td>2011</td>\n",
       "      <td>manual</td>\n",
       "      <td>190</td>\n",
       "      <td>unknown</td>\n",
       "      <td>125000</td>\n",
       "      <td>5</td>\n",
       "      <td>gasoline</td>\n",
       "      <td>audi</td>\n",
       "      <td>unknown</td>\n",
       "      <td>2016-03-24</td>\n",
       "      <td>0</td>\n",
       "      <td>66954</td>\n",
       "      <td>2016-04-07 01:46:50</td>\n",
       "      <td>3</td>\n",
       "      <td>2016</td>\n",
       "    </tr>\n",
       "    <tr>\n",
       "      <td>2</td>\n",
       "      <td>2016-03-14 12:52:21</td>\n",
       "      <td>9800</td>\n",
       "      <td>suv</td>\n",
       "      <td>2004</td>\n",
       "      <td>auto</td>\n",
       "      <td>163</td>\n",
       "      <td>grand</td>\n",
       "      <td>125000</td>\n",
       "      <td>8</td>\n",
       "      <td>gasoline</td>\n",
       "      <td>jeep</td>\n",
       "      <td>yes</td>\n",
       "      <td>2016-03-14</td>\n",
       "      <td>0</td>\n",
       "      <td>90480</td>\n",
       "      <td>2016-04-05 12:47:46</td>\n",
       "      <td>3</td>\n",
       "      <td>2016</td>\n",
       "    </tr>\n",
       "    <tr>\n",
       "      <td>3</td>\n",
       "      <td>2016-03-17 16:54:04</td>\n",
       "      <td>1500</td>\n",
       "      <td>small</td>\n",
       "      <td>2001</td>\n",
       "      <td>manual</td>\n",
       "      <td>75</td>\n",
       "      <td>golf</td>\n",
       "      <td>150000</td>\n",
       "      <td>6</td>\n",
       "      <td>petrol</td>\n",
       "      <td>volkswagen</td>\n",
       "      <td>no</td>\n",
       "      <td>2016-03-17</td>\n",
       "      <td>0</td>\n",
       "      <td>91074</td>\n",
       "      <td>2016-03-17 17:40:17</td>\n",
       "      <td>3</td>\n",
       "      <td>2016</td>\n",
       "    </tr>\n",
       "    <tr>\n",
       "      <td>4</td>\n",
       "      <td>2016-03-31 17:25:20</td>\n",
       "      <td>3600</td>\n",
       "      <td>small</td>\n",
       "      <td>2008</td>\n",
       "      <td>manual</td>\n",
       "      <td>69</td>\n",
       "      <td>fabia</td>\n",
       "      <td>90000</td>\n",
       "      <td>7</td>\n",
       "      <td>gasoline</td>\n",
       "      <td>skoda</td>\n",
       "      <td>no</td>\n",
       "      <td>2016-03-31</td>\n",
       "      <td>0</td>\n",
       "      <td>60437</td>\n",
       "      <td>2016-04-06 10:17:21</td>\n",
       "      <td>3</td>\n",
       "      <td>2016</td>\n",
       "    </tr>\n",
       "    <tr>\n",
       "      <td>...</td>\n",
       "      <td>...</td>\n",
       "      <td>...</td>\n",
       "      <td>...</td>\n",
       "      <td>...</td>\n",
       "      <td>...</td>\n",
       "      <td>...</td>\n",
       "      <td>...</td>\n",
       "      <td>...</td>\n",
       "      <td>...</td>\n",
       "      <td>...</td>\n",
       "      <td>...</td>\n",
       "      <td>...</td>\n",
       "      <td>...</td>\n",
       "      <td>...</td>\n",
       "      <td>...</td>\n",
       "      <td>...</td>\n",
       "      <td>...</td>\n",
       "      <td>...</td>\n",
       "    </tr>\n",
       "    <tr>\n",
       "      <td>354364</td>\n",
       "      <td>2016-03-21 09:50:58</td>\n",
       "      <td>0</td>\n",
       "      <td>unknown</td>\n",
       "      <td>2005</td>\n",
       "      <td>manual</td>\n",
       "      <td>0</td>\n",
       "      <td>colt</td>\n",
       "      <td>150000</td>\n",
       "      <td>7</td>\n",
       "      <td>petrol</td>\n",
       "      <td>mitsubishi</td>\n",
       "      <td>yes</td>\n",
       "      <td>2016-03-21</td>\n",
       "      <td>0</td>\n",
       "      <td>2694</td>\n",
       "      <td>2016-03-21 10:42:49</td>\n",
       "      <td>3</td>\n",
       "      <td>2016</td>\n",
       "    </tr>\n",
       "    <tr>\n",
       "      <td>354365</td>\n",
       "      <td>2016-03-14 17:48:27</td>\n",
       "      <td>2200</td>\n",
       "      <td>unknown</td>\n",
       "      <td>2005</td>\n",
       "      <td>unknown</td>\n",
       "      <td>0</td>\n",
       "      <td>unknown</td>\n",
       "      <td>20000</td>\n",
       "      <td>1</td>\n",
       "      <td>unknown</td>\n",
       "      <td>sonstige_autos</td>\n",
       "      <td>unknown</td>\n",
       "      <td>2016-03-14</td>\n",
       "      <td>0</td>\n",
       "      <td>39576</td>\n",
       "      <td>2016-04-06 00:46:52</td>\n",
       "      <td>3</td>\n",
       "      <td>2016</td>\n",
       "    </tr>\n",
       "    <tr>\n",
       "      <td>354366</td>\n",
       "      <td>2016-03-05 19:56:21</td>\n",
       "      <td>1199</td>\n",
       "      <td>convertible</td>\n",
       "      <td>2000</td>\n",
       "      <td>auto</td>\n",
       "      <td>101</td>\n",
       "      <td>fortwo</td>\n",
       "      <td>125000</td>\n",
       "      <td>3</td>\n",
       "      <td>petrol</td>\n",
       "      <td>smart</td>\n",
       "      <td>no</td>\n",
       "      <td>2016-03-05</td>\n",
       "      <td>0</td>\n",
       "      <td>26135</td>\n",
       "      <td>2016-03-11 18:17:12</td>\n",
       "      <td>3</td>\n",
       "      <td>2016</td>\n",
       "    </tr>\n",
       "    <tr>\n",
       "      <td>354367</td>\n",
       "      <td>2016-03-19 18:57:12</td>\n",
       "      <td>9200</td>\n",
       "      <td>bus</td>\n",
       "      <td>1996</td>\n",
       "      <td>manual</td>\n",
       "      <td>102</td>\n",
       "      <td>transporter</td>\n",
       "      <td>150000</td>\n",
       "      <td>3</td>\n",
       "      <td>gasoline</td>\n",
       "      <td>volkswagen</td>\n",
       "      <td>no</td>\n",
       "      <td>2016-03-19</td>\n",
       "      <td>0</td>\n",
       "      <td>87439</td>\n",
       "      <td>2016-04-07 07:15:26</td>\n",
       "      <td>3</td>\n",
       "      <td>2016</td>\n",
       "    </tr>\n",
       "    <tr>\n",
       "      <td>354368</td>\n",
       "      <td>2016-03-20 19:41:08</td>\n",
       "      <td>3400</td>\n",
       "      <td>wagon</td>\n",
       "      <td>2002</td>\n",
       "      <td>manual</td>\n",
       "      <td>100</td>\n",
       "      <td>golf</td>\n",
       "      <td>150000</td>\n",
       "      <td>6</td>\n",
       "      <td>gasoline</td>\n",
       "      <td>volkswagen</td>\n",
       "      <td>yes</td>\n",
       "      <td>2016-03-20</td>\n",
       "      <td>0</td>\n",
       "      <td>40764</td>\n",
       "      <td>2016-03-24 12:45:21</td>\n",
       "      <td>3</td>\n",
       "      <td>2016</td>\n",
       "    </tr>\n",
       "  </tbody>\n",
       "</table>\n",
       "<p>334422 rows × 18 columns</p>\n",
       "</div>"
      ],
      "text/plain": [
       "               DateCrawled  Price  VehicleType  RegistrationYear  Gearbox  \\\n",
       "0      2016-03-24 11:52:17    480      unknown              1993   manual   \n",
       "1      2016-03-24 10:58:45  18300        coupe              2011   manual   \n",
       "2      2016-03-14 12:52:21   9800          suv              2004     auto   \n",
       "3      2016-03-17 16:54:04   1500        small              2001   manual   \n",
       "4      2016-03-31 17:25:20   3600        small              2008   manual   \n",
       "...                    ...    ...          ...               ...      ...   \n",
       "354364 2016-03-21 09:50:58      0      unknown              2005   manual   \n",
       "354365 2016-03-14 17:48:27   2200      unknown              2005  unknown   \n",
       "354366 2016-03-05 19:56:21   1199  convertible              2000     auto   \n",
       "354367 2016-03-19 18:57:12   9200          bus              1996   manual   \n",
       "354368 2016-03-20 19:41:08   3400        wagon              2002   manual   \n",
       "\n",
       "        Power        Model  Kilometer  RegistrationMonth  FuelType  \\\n",
       "0           0         golf     150000                  0    petrol   \n",
       "1         190      unknown     125000                  5  gasoline   \n",
       "2         163        grand     125000                  8  gasoline   \n",
       "3          75         golf     150000                  6    petrol   \n",
       "4          69        fabia      90000                  7  gasoline   \n",
       "...       ...          ...        ...                ...       ...   \n",
       "354364      0         colt     150000                  7    petrol   \n",
       "354365      0      unknown      20000                  1   unknown   \n",
       "354366    101       fortwo     125000                  3    petrol   \n",
       "354367    102  transporter     150000                  3  gasoline   \n",
       "354368    100         golf     150000                  6  gasoline   \n",
       "\n",
       "                 Brand NotRepaired DateCreated  NumberOfPictures  PostalCode  \\\n",
       "0           volkswagen         yes  2016-03-24                 0       70435   \n",
       "1                 audi     unknown  2016-03-24                 0       66954   \n",
       "2                 jeep         yes  2016-03-14                 0       90480   \n",
       "3           volkswagen          no  2016-03-17                 0       91074   \n",
       "4                skoda          no  2016-03-31                 0       60437   \n",
       "...                ...         ...         ...               ...         ...   \n",
       "354364      mitsubishi         yes  2016-03-21                 0        2694   \n",
       "354365  sonstige_autos     unknown  2016-03-14                 0       39576   \n",
       "354366           smart          no  2016-03-05                 0       26135   \n",
       "354367      volkswagen          no  2016-03-19                 0       87439   \n",
       "354368      volkswagen         yes  2016-03-20                 0       40764   \n",
       "\n",
       "                  LastSeen  DateCreated_month  DateCreated_year  \n",
       "0      2016-04-07 03:16:57                  3              2016  \n",
       "1      2016-04-07 01:46:50                  3              2016  \n",
       "2      2016-04-05 12:47:46                  3              2016  \n",
       "3      2016-03-17 17:40:17                  3              2016  \n",
       "4      2016-04-06 10:17:21                  3              2016  \n",
       "...                    ...                ...               ...  \n",
       "354364 2016-03-21 10:42:49                  3              2016  \n",
       "354365 2016-04-06 00:46:52                  3              2016  \n",
       "354366 2016-03-11 18:17:12                  3              2016  \n",
       "354367 2016-04-07 07:15:26                  3              2016  \n",
       "354368 2016-03-24 12:45:21                  3              2016  \n",
       "\n",
       "[334422 rows x 18 columns]"
      ]
     },
     "metadata": {},
     "output_type": "display_data"
    }
   ],
   "source": [
    "df = df.fillna('unknown')\n",
    "display(df)"
   ]
  },
  {
   "cell_type": "markdown",
   "metadata": {},
   "source": [
    "### Промежуточные комментарии\n",
    "\n",
    "Помимо аномальных значений в данных присутствуют пропуски. Одна часть из них в признаке NotRepaired, где их насчитывалось около 20% (до предыдущих фильтраций) от всех данных, была заполнена ответом да для тех объявлений, где разница между годом подачи объявления и регистрации автомобиля превышала 5 лет и вместе с этим пробег превышал 50000 км.\n",
    "Остальные пропуски во всех признаках заполнялись значением «unknown», так как их труднее предсказать, а удалять не стоит, так как продавцы заполняют не все параметры автомобиля. "
   ]
  },
  {
   "cell_type": "code",
   "execution_count": 16,
   "metadata": {},
   "outputs": [
    {
     "data": {
      "text/html": [
       "<div>\n",
       "<style scoped>\n",
       "    .dataframe tbody tr th:only-of-type {\n",
       "        vertical-align: middle;\n",
       "    }\n",
       "\n",
       "    .dataframe tbody tr th {\n",
       "        vertical-align: top;\n",
       "    }\n",
       "\n",
       "    .dataframe thead th {\n",
       "        text-align: right;\n",
       "    }\n",
       "</style>\n",
       "<table border=\"1\" class=\"dataframe\">\n",
       "  <thead>\n",
       "    <tr style=\"text-align: right;\">\n",
       "      <th></th>\n",
       "      <th>DateCrawled</th>\n",
       "      <th>Price</th>\n",
       "      <th>VehicleType</th>\n",
       "      <th>RegistrationYear</th>\n",
       "      <th>Gearbox</th>\n",
       "      <th>Power</th>\n",
       "      <th>Model</th>\n",
       "      <th>Kilometer</th>\n",
       "      <th>RegistrationMonth</th>\n",
       "      <th>FuelType</th>\n",
       "      <th>Brand</th>\n",
       "      <th>NotRepaired</th>\n",
       "      <th>DateCreated</th>\n",
       "      <th>NumberOfPictures</th>\n",
       "      <th>PostalCode</th>\n",
       "      <th>LastSeen</th>\n",
       "      <th>DateCreated_month</th>\n",
       "      <th>DateCreated_year</th>\n",
       "    </tr>\n",
       "  </thead>\n",
       "  <tbody>\n",
       "    <tr>\n",
       "      <td>59</td>\n",
       "      <td>2016-03-29 15:48:15</td>\n",
       "      <td>1</td>\n",
       "      <td>suv</td>\n",
       "      <td>1994</td>\n",
       "      <td>manual</td>\n",
       "      <td>286</td>\n",
       "      <td>unknown</td>\n",
       "      <td>150000</td>\n",
       "      <td>11</td>\n",
       "      <td>unknown</td>\n",
       "      <td>sonstige_autos</td>\n",
       "      <td>yes</td>\n",
       "      <td>2016-03-29</td>\n",
       "      <td>0</td>\n",
       "      <td>53721</td>\n",
       "      <td>2016-04-06 01:44:38</td>\n",
       "      <td>3</td>\n",
       "      <td>2016</td>\n",
       "    </tr>\n",
       "    <tr>\n",
       "      <td>306</td>\n",
       "      <td>2016-03-21 14:38:37</td>\n",
       "      <td>200</td>\n",
       "      <td>unknown</td>\n",
       "      <td>2009</td>\n",
       "      <td>unknown</td>\n",
       "      <td>0</td>\n",
       "      <td>unknown</td>\n",
       "      <td>10000</td>\n",
       "      <td>0</td>\n",
       "      <td>unknown</td>\n",
       "      <td>sonstige_autos</td>\n",
       "      <td>unknown</td>\n",
       "      <td>2016-03-21</td>\n",
       "      <td>0</td>\n",
       "      <td>6493</td>\n",
       "      <td>2016-03-24 02:47:34</td>\n",
       "      <td>3</td>\n",
       "      <td>2016</td>\n",
       "    </tr>\n",
       "    <tr>\n",
       "      <td>431</td>\n",
       "      <td>2016-03-20 20:45:27</td>\n",
       "      <td>3950</td>\n",
       "      <td>small</td>\n",
       "      <td>2004</td>\n",
       "      <td>auto</td>\n",
       "      <td>5</td>\n",
       "      <td>unknown</td>\n",
       "      <td>70000</td>\n",
       "      <td>5</td>\n",
       "      <td>gasoline</td>\n",
       "      <td>sonstige_autos</td>\n",
       "      <td>no</td>\n",
       "      <td>2016-03-20</td>\n",
       "      <td>0</td>\n",
       "      <td>90562</td>\n",
       "      <td>2016-04-03 04:17:08</td>\n",
       "      <td>3</td>\n",
       "      <td>2016</td>\n",
       "    </tr>\n",
       "    <tr>\n",
       "      <td>650</td>\n",
       "      <td>2016-03-30 11:55:46</td>\n",
       "      <td>15000</td>\n",
       "      <td>coupe</td>\n",
       "      <td>1971</td>\n",
       "      <td>unknown</td>\n",
       "      <td>0</td>\n",
       "      <td>unknown</td>\n",
       "      <td>5000</td>\n",
       "      <td>4</td>\n",
       "      <td>unknown</td>\n",
       "      <td>sonstige_autos</td>\n",
       "      <td>unknown</td>\n",
       "      <td>2016-03-30</td>\n",
       "      <td>0</td>\n",
       "      <td>51145</td>\n",
       "      <td>2016-04-07 02:45:10</td>\n",
       "      <td>3</td>\n",
       "      <td>2016</td>\n",
       "    </tr>\n",
       "    <tr>\n",
       "      <td>661</td>\n",
       "      <td>2016-04-01 15:56:27</td>\n",
       "      <td>9900</td>\n",
       "      <td>suv</td>\n",
       "      <td>2000</td>\n",
       "      <td>auto</td>\n",
       "      <td>250</td>\n",
       "      <td>unknown</td>\n",
       "      <td>150000</td>\n",
       "      <td>4</td>\n",
       "      <td>lpg</td>\n",
       "      <td>sonstige_autos</td>\n",
       "      <td>no</td>\n",
       "      <td>2016-04-01</td>\n",
       "      <td>0</td>\n",
       "      <td>17309</td>\n",
       "      <td>2016-04-07 14:56:03</td>\n",
       "      <td>4</td>\n",
       "      <td>2016</td>\n",
       "    </tr>\n",
       "    <tr>\n",
       "      <td>...</td>\n",
       "      <td>...</td>\n",
       "      <td>...</td>\n",
       "      <td>...</td>\n",
       "      <td>...</td>\n",
       "      <td>...</td>\n",
       "      <td>...</td>\n",
       "      <td>...</td>\n",
       "      <td>...</td>\n",
       "      <td>...</td>\n",
       "      <td>...</td>\n",
       "      <td>...</td>\n",
       "      <td>...</td>\n",
       "      <td>...</td>\n",
       "      <td>...</td>\n",
       "      <td>...</td>\n",
       "      <td>...</td>\n",
       "      <td>...</td>\n",
       "      <td>...</td>\n",
       "    </tr>\n",
       "    <tr>\n",
       "      <td>354062</td>\n",
       "      <td>2016-03-19 11:25:16</td>\n",
       "      <td>6000</td>\n",
       "      <td>small</td>\n",
       "      <td>2008</td>\n",
       "      <td>manual</td>\n",
       "      <td>155</td>\n",
       "      <td>unknown</td>\n",
       "      <td>150000</td>\n",
       "      <td>5</td>\n",
       "      <td>petrol</td>\n",
       "      <td>sonstige_autos</td>\n",
       "      <td>no</td>\n",
       "      <td>2016-03-19</td>\n",
       "      <td>0</td>\n",
       "      <td>63069</td>\n",
       "      <td>2016-04-07 00:46:42</td>\n",
       "      <td>3</td>\n",
       "      <td>2016</td>\n",
       "    </tr>\n",
       "    <tr>\n",
       "      <td>354073</td>\n",
       "      <td>2016-03-19 14:53:26</td>\n",
       "      <td>1750</td>\n",
       "      <td>unknown</td>\n",
       "      <td>1995</td>\n",
       "      <td>unknown</td>\n",
       "      <td>0</td>\n",
       "      <td>unknown</td>\n",
       "      <td>100000</td>\n",
       "      <td>12</td>\n",
       "      <td>unknown</td>\n",
       "      <td>sonstige_autos</td>\n",
       "      <td>yes</td>\n",
       "      <td>2016-03-19</td>\n",
       "      <td>0</td>\n",
       "      <td>6188</td>\n",
       "      <td>2016-04-01 01:47:17</td>\n",
       "      <td>3</td>\n",
       "      <td>2016</td>\n",
       "    </tr>\n",
       "    <tr>\n",
       "      <td>354083</td>\n",
       "      <td>2016-03-30 07:54:17</td>\n",
       "      <td>0</td>\n",
       "      <td>unknown</td>\n",
       "      <td>2000</td>\n",
       "      <td>unknown</td>\n",
       "      <td>0</td>\n",
       "      <td>unknown</td>\n",
       "      <td>150000</td>\n",
       "      <td>0</td>\n",
       "      <td>unknown</td>\n",
       "      <td>sonstige_autos</td>\n",
       "      <td>yes</td>\n",
       "      <td>2016-03-30</td>\n",
       "      <td>0</td>\n",
       "      <td>6686</td>\n",
       "      <td>2016-04-06 23:46:19</td>\n",
       "      <td>3</td>\n",
       "      <td>2016</td>\n",
       "    </tr>\n",
       "    <tr>\n",
       "      <td>354321</td>\n",
       "      <td>2016-03-15 13:52:34</td>\n",
       "      <td>9400</td>\n",
       "      <td>wagon</td>\n",
       "      <td>2007</td>\n",
       "      <td>manual</td>\n",
       "      <td>200</td>\n",
       "      <td>unknown</td>\n",
       "      <td>150000</td>\n",
       "      <td>4</td>\n",
       "      <td>gasoline</td>\n",
       "      <td>sonstige_autos</td>\n",
       "      <td>yes</td>\n",
       "      <td>2016-03-15</td>\n",
       "      <td>0</td>\n",
       "      <td>91186</td>\n",
       "      <td>2016-03-17 08:16:25</td>\n",
       "      <td>3</td>\n",
       "      <td>2016</td>\n",
       "    </tr>\n",
       "    <tr>\n",
       "      <td>354365</td>\n",
       "      <td>2016-03-14 17:48:27</td>\n",
       "      <td>2200</td>\n",
       "      <td>unknown</td>\n",
       "      <td>2005</td>\n",
       "      <td>unknown</td>\n",
       "      <td>0</td>\n",
       "      <td>unknown</td>\n",
       "      <td>20000</td>\n",
       "      <td>1</td>\n",
       "      <td>unknown</td>\n",
       "      <td>sonstige_autos</td>\n",
       "      <td>unknown</td>\n",
       "      <td>2016-03-14</td>\n",
       "      <td>0</td>\n",
       "      <td>39576</td>\n",
       "      <td>2016-04-06 00:46:52</td>\n",
       "      <td>3</td>\n",
       "      <td>2016</td>\n",
       "    </tr>\n",
       "  </tbody>\n",
       "</table>\n",
       "<p>3129 rows × 18 columns</p>\n",
       "</div>"
      ],
      "text/plain": [
       "               DateCrawled  Price VehicleType  RegistrationYear  Gearbox  \\\n",
       "59     2016-03-29 15:48:15      1         suv              1994   manual   \n",
       "306    2016-03-21 14:38:37    200     unknown              2009  unknown   \n",
       "431    2016-03-20 20:45:27   3950       small              2004     auto   \n",
       "650    2016-03-30 11:55:46  15000       coupe              1971  unknown   \n",
       "661    2016-04-01 15:56:27   9900         suv              2000     auto   \n",
       "...                    ...    ...         ...               ...      ...   \n",
       "354062 2016-03-19 11:25:16   6000       small              2008   manual   \n",
       "354073 2016-03-19 14:53:26   1750     unknown              1995  unknown   \n",
       "354083 2016-03-30 07:54:17      0     unknown              2000  unknown   \n",
       "354321 2016-03-15 13:52:34   9400       wagon              2007   manual   \n",
       "354365 2016-03-14 17:48:27   2200     unknown              2005  unknown   \n",
       "\n",
       "        Power    Model  Kilometer  RegistrationMonth  FuelType  \\\n",
       "59        286  unknown     150000                 11   unknown   \n",
       "306         0  unknown      10000                  0   unknown   \n",
       "431         5  unknown      70000                  5  gasoline   \n",
       "650         0  unknown       5000                  4   unknown   \n",
       "661       250  unknown     150000                  4       lpg   \n",
       "...       ...      ...        ...                ...       ...   \n",
       "354062    155  unknown     150000                  5    petrol   \n",
       "354073      0  unknown     100000                 12   unknown   \n",
       "354083      0  unknown     150000                  0   unknown   \n",
       "354321    200  unknown     150000                  4  gasoline   \n",
       "354365      0  unknown      20000                  1   unknown   \n",
       "\n",
       "                 Brand NotRepaired DateCreated  NumberOfPictures  PostalCode  \\\n",
       "59      sonstige_autos         yes  2016-03-29                 0       53721   \n",
       "306     sonstige_autos     unknown  2016-03-21                 0        6493   \n",
       "431     sonstige_autos          no  2016-03-20                 0       90562   \n",
       "650     sonstige_autos     unknown  2016-03-30                 0       51145   \n",
       "661     sonstige_autos          no  2016-04-01                 0       17309   \n",
       "...                ...         ...         ...               ...         ...   \n",
       "354062  sonstige_autos          no  2016-03-19                 0       63069   \n",
       "354073  sonstige_autos         yes  2016-03-19                 0        6188   \n",
       "354083  sonstige_autos         yes  2016-03-30                 0        6686   \n",
       "354321  sonstige_autos         yes  2016-03-15                 0       91186   \n",
       "354365  sonstige_autos     unknown  2016-03-14                 0       39576   \n",
       "\n",
       "                  LastSeen  DateCreated_month  DateCreated_year  \n",
       "59     2016-04-06 01:44:38                  3              2016  \n",
       "306    2016-03-24 02:47:34                  3              2016  \n",
       "431    2016-04-03 04:17:08                  3              2016  \n",
       "650    2016-04-07 02:45:10                  3              2016  \n",
       "661    2016-04-07 14:56:03                  4              2016  \n",
       "...                    ...                ...               ...  \n",
       "354062 2016-04-07 00:46:42                  3              2016  \n",
       "354073 2016-04-01 01:47:17                  3              2016  \n",
       "354083 2016-04-06 23:46:19                  3              2016  \n",
       "354321 2016-03-17 08:16:25                  3              2016  \n",
       "354365 2016-04-06 00:46:52                  3              2016  \n",
       "\n",
       "[3129 rows x 18 columns]"
      ]
     },
     "execution_count": 16,
     "metadata": {},
     "output_type": "execute_result"
    }
   ],
   "source": [
    "df[df['Brand'] == 'sonstige_autos']"
   ]
  },
  {
   "cell_type": "code",
   "execution_count": 17,
   "metadata": {},
   "outputs": [
    {
     "data": {
      "image/png": "[encoded data removed]",
      "text/plain": [
       "<Figure size 576x360 with 1 Axes>"
      ]
     },
     "metadata": {
      "needs_background": "light"
     },
     "output_type": "display_data"
    }
   ],
   "source": [
    "df['Price'].hist(bins = 10,range = (0,50),figsize = (8,5))\n",
    "plt.title('Car Price', fontsize=16)\n",
    "plt.xlabel('Price')\n",
    "plt.ylabel('Count')\n",
    "plt.show()"
   ]
  },
  {
   "cell_type": "code",
   "execution_count": 18,
   "metadata": {},
   "outputs": [
    {
     "data": {
      "text/plain": [
       "(323584, 18)"
      ]
     },
     "metadata": {},
     "output_type": "display_data"
    }
   ],
   "source": [
    "df = df.drop(df[(df['Price'] < 10)].index) \n",
    "display(df.shape)"
   ]
  },
  {
   "cell_type": "code",
   "execution_count": 19,
   "metadata": {},
   "outputs": [],
   "source": [
    "df_new = df.query('Power < 2200 and Power > 30 ')"
   ]
  },
  {
   "cell_type": "code",
   "execution_count": 20,
   "metadata": {},
   "outputs": [
    {
     "data": {
      "text/html": [
       "<div>\n",
       "<style scoped>\n",
       "    .dataframe tbody tr th:only-of-type {\n",
       "        vertical-align: middle;\n",
       "    }\n",
       "\n",
       "    .dataframe tbody tr th {\n",
       "        vertical-align: top;\n",
       "    }\n",
       "\n",
       "    .dataframe thead th {\n",
       "        text-align: right;\n",
       "    }\n",
       "</style>\n",
       "<table border=\"1\" class=\"dataframe\">\n",
       "  <thead>\n",
       "    <tr style=\"text-align: right;\">\n",
       "      <th></th>\n",
       "      <th>Price</th>\n",
       "      <th>RegistrationYear</th>\n",
       "      <th>Kilometer</th>\n",
       "      <th>Power</th>\n",
       "    </tr>\n",
       "  </thead>\n",
       "  <tbody>\n",
       "    <tr>\n",
       "      <td>count</td>\n",
       "      <td>291532.000000</td>\n",
       "      <td>291532.000000</td>\n",
       "      <td>291532.000000</td>\n",
       "      <td>291532.000000</td>\n",
       "    </tr>\n",
       "    <tr>\n",
       "      <td>mean</td>\n",
       "      <td>4894.765885</td>\n",
       "      <td>2002.700866</td>\n",
       "      <td>128366.045580</td>\n",
       "      <td>122.020444</td>\n",
       "    </tr>\n",
       "    <tr>\n",
       "      <td>std</td>\n",
       "      <td>4621.389675</td>\n",
       "      <td>6.288687</td>\n",
       "      <td>36619.195909</td>\n",
       "      <td>64.169283</td>\n",
       "    </tr>\n",
       "    <tr>\n",
       "      <td>min</td>\n",
       "      <td>10.000000</td>\n",
       "      <td>1937.000000</td>\n",
       "      <td>5000.000000</td>\n",
       "      <td>31.000000</td>\n",
       "    </tr>\n",
       "    <tr>\n",
       "      <td>25%</td>\n",
       "      <td>1350.000000</td>\n",
       "      <td>1999.000000</td>\n",
       "      <td>125000.000000</td>\n",
       "      <td>77.000000</td>\n",
       "    </tr>\n",
       "    <tr>\n",
       "      <td>50%</td>\n",
       "      <td>3200.000000</td>\n",
       "      <td>2003.000000</td>\n",
       "      <td>150000.000000</td>\n",
       "      <td>113.000000</td>\n",
       "    </tr>\n",
       "    <tr>\n",
       "      <td>75%</td>\n",
       "      <td>7000.000000</td>\n",
       "      <td>2007.000000</td>\n",
       "      <td>150000.000000</td>\n",
       "      <td>150.000000</td>\n",
       "    </tr>\n",
       "    <tr>\n",
       "      <td>max</td>\n",
       "      <td>20000.000000</td>\n",
       "      <td>2016.000000</td>\n",
       "      <td>150000.000000</td>\n",
       "      <td>2172.000000</td>\n",
       "    </tr>\n",
       "  </tbody>\n",
       "</table>\n",
       "</div>"
      ],
      "text/plain": [
       "               Price  RegistrationYear      Kilometer          Power\n",
       "count  291532.000000     291532.000000  291532.000000  291532.000000\n",
       "mean     4894.765885       2002.700866  128366.045580     122.020444\n",
       "std      4621.389675          6.288687   36619.195909      64.169283\n",
       "min        10.000000       1937.000000    5000.000000      31.000000\n",
       "25%      1350.000000       1999.000000  125000.000000      77.000000\n",
       "50%      3200.000000       2003.000000  150000.000000     113.000000\n",
       "75%      7000.000000       2007.000000  150000.000000     150.000000\n",
       "max     20000.000000       2016.000000  150000.000000    2172.000000"
      ]
     },
     "execution_count": 20,
     "metadata": {},
     "output_type": "execute_result"
    }
   ],
   "source": [
    "df_new[column_num].describe()"
   ]
  },
  {
   "cell_type": "markdown",
   "metadata": {},
   "source": [
    "### Промежуточные комментарии\n",
    "\n",
    "Были удалены данные, с ценами ниже 10 евро.\n",
    "Также из рассмотрения были исключены автомобили с мощностью менее 30 и более 2200 (максимальная мощность существующих автомобилей), предполагая, что, например, прицепы в данной подборке не представлены."
   ]
  },
  {
   "cell_type": "code",
   "execution_count": 21,
   "metadata": {},
   "outputs": [
    {
     "data": {
      "text/html": [
       "<div>\n",
       "<style scoped>\n",
       "    .dataframe tbody tr th:only-of-type {\n",
       "        vertical-align: middle;\n",
       "    }\n",
       "\n",
       "    .dataframe tbody tr th {\n",
       "        vertical-align: top;\n",
       "    }\n",
       "\n",
       "    .dataframe thead th {\n",
       "        text-align: right;\n",
       "    }\n",
       "</style>\n",
       "<table border=\"1\" class=\"dataframe\">\n",
       "  <thead>\n",
       "    <tr style=\"text-align: right;\">\n",
       "      <th></th>\n",
       "      <th>Price</th>\n",
       "      <th>RegistrationYear</th>\n",
       "      <th>Kilometer</th>\n",
       "      <th>Power</th>\n",
       "    </tr>\n",
       "  </thead>\n",
       "  <tbody>\n",
       "    <tr>\n",
       "      <td>0</td>\n",
       "      <td>18300</td>\n",
       "      <td>2011</td>\n",
       "      <td>125000</td>\n",
       "      <td>190</td>\n",
       "    </tr>\n",
       "    <tr>\n",
       "      <td>1</td>\n",
       "      <td>9800</td>\n",
       "      <td>2004</td>\n",
       "      <td>125000</td>\n",
       "      <td>163</td>\n",
       "    </tr>\n",
       "    <tr>\n",
       "      <td>2</td>\n",
       "      <td>1500</td>\n",
       "      <td>2001</td>\n",
       "      <td>150000</td>\n",
       "      <td>75</td>\n",
       "    </tr>\n",
       "    <tr>\n",
       "      <td>3</td>\n",
       "      <td>3600</td>\n",
       "      <td>2008</td>\n",
       "      <td>90000</td>\n",
       "      <td>69</td>\n",
       "    </tr>\n",
       "    <tr>\n",
       "      <td>4</td>\n",
       "      <td>650</td>\n",
       "      <td>1995</td>\n",
       "      <td>150000</td>\n",
       "      <td>102</td>\n",
       "    </tr>\n",
       "    <tr>\n",
       "      <td>...</td>\n",
       "      <td>...</td>\n",
       "      <td>...</td>\n",
       "      <td>...</td>\n",
       "      <td>...</td>\n",
       "    </tr>\n",
       "    <tr>\n",
       "      <td>291527</td>\n",
       "      <td>7900</td>\n",
       "      <td>2010</td>\n",
       "      <td>150000</td>\n",
       "      <td>140</td>\n",
       "    </tr>\n",
       "    <tr>\n",
       "      <td>291528</td>\n",
       "      <td>3200</td>\n",
       "      <td>2004</td>\n",
       "      <td>150000</td>\n",
       "      <td>225</td>\n",
       "    </tr>\n",
       "    <tr>\n",
       "      <td>291529</td>\n",
       "      <td>1199</td>\n",
       "      <td>2000</td>\n",
       "      <td>125000</td>\n",
       "      <td>101</td>\n",
       "    </tr>\n",
       "    <tr>\n",
       "      <td>291530</td>\n",
       "      <td>9200</td>\n",
       "      <td>1996</td>\n",
       "      <td>150000</td>\n",
       "      <td>102</td>\n",
       "    </tr>\n",
       "    <tr>\n",
       "      <td>291531</td>\n",
       "      <td>3400</td>\n",
       "      <td>2002</td>\n",
       "      <td>150000</td>\n",
       "      <td>100</td>\n",
       "    </tr>\n",
       "  </tbody>\n",
       "</table>\n",
       "<p>291532 rows × 4 columns</p>\n",
       "</div>"
      ],
      "text/plain": [
       "        Price  RegistrationYear  Kilometer  Power\n",
       "0       18300              2011     125000    190\n",
       "1        9800              2004     125000    163\n",
       "2        1500              2001     150000     75\n",
       "3        3600              2008      90000     69\n",
       "4         650              1995     150000    102\n",
       "...       ...               ...        ...    ...\n",
       "291527   7900              2010     150000    140\n",
       "291528   3200              2004     150000    225\n",
       "291529   1199              2000     125000    101\n",
       "291530   9200              1996     150000    102\n",
       "291531   3400              2002     150000    100\n",
       "\n",
       "[291532 rows x 4 columns]"
      ]
     },
     "metadata": {},
     "output_type": "display_data"
    }
   ],
   "source": [
    "df_ord_1 = df_new[column_num].reset_index(drop=True)\n",
    "display(df_ord_1)"
   ]
  },
  {
   "cell_type": "code",
   "execution_count": 22,
   "metadata": {},
   "outputs": [],
   "source": [
    "encoder = OrdinalEncoder()\n",
    "column_categ = ['VehicleType','Gearbox','Model','FuelType','Brand','NotRepaired']\n",
    "df_ord_2 = df_new[column_categ]\n",
    "encoder = OrdinalEncoder()\n",
    "df_ord_2 = pd.DataFrame(encoder.fit_transform(df_ord_2),\n",
    "                            columns=column_categ)"
   ]
  },
  {
   "cell_type": "code",
   "execution_count": 23,
   "metadata": {},
   "outputs": [
    {
     "data": {
      "text/html": [
       "<div>\n",
       "<style scoped>\n",
       "    .dataframe tbody tr th:only-of-type {\n",
       "        vertical-align: middle;\n",
       "    }\n",
       "\n",
       "    .dataframe tbody tr th {\n",
       "        vertical-align: top;\n",
       "    }\n",
       "\n",
       "    .dataframe thead th {\n",
       "        text-align: right;\n",
       "    }\n",
       "</style>\n",
       "<table border=\"1\" class=\"dataframe\">\n",
       "  <thead>\n",
       "    <tr style=\"text-align: right;\">\n",
       "      <th></th>\n",
       "      <th>VehicleType</th>\n",
       "      <th>Gearbox</th>\n",
       "      <th>Model</th>\n",
       "      <th>FuelType</th>\n",
       "      <th>Brand</th>\n",
       "      <th>NotRepaired</th>\n",
       "    </tr>\n",
       "  </thead>\n",
       "  <tbody>\n",
       "    <tr>\n",
       "      <td>0</td>\n",
       "      <td>2.0</td>\n",
       "      <td>1.0</td>\n",
       "      <td>227.0</td>\n",
       "      <td>2.0</td>\n",
       "      <td>1.0</td>\n",
       "      <td>1.0</td>\n",
       "    </tr>\n",
       "    <tr>\n",
       "      <td>1</td>\n",
       "      <td>6.0</td>\n",
       "      <td>0.0</td>\n",
       "      <td>117.0</td>\n",
       "      <td>2.0</td>\n",
       "      <td>14.0</td>\n",
       "      <td>2.0</td>\n",
       "    </tr>\n",
       "    <tr>\n",
       "      <td>2</td>\n",
       "      <td>5.0</td>\n",
       "      <td>1.0</td>\n",
       "      <td>116.0</td>\n",
       "      <td>6.0</td>\n",
       "      <td>38.0</td>\n",
       "      <td>0.0</td>\n",
       "    </tr>\n",
       "    <tr>\n",
       "      <td>3</td>\n",
       "      <td>5.0</td>\n",
       "      <td>1.0</td>\n",
       "      <td>101.0</td>\n",
       "      <td>2.0</td>\n",
       "      <td>31.0</td>\n",
       "      <td>0.0</td>\n",
       "    </tr>\n",
       "    <tr>\n",
       "      <td>4</td>\n",
       "      <td>4.0</td>\n",
       "      <td>1.0</td>\n",
       "      <td>11.0</td>\n",
       "      <td>6.0</td>\n",
       "      <td>2.0</td>\n",
       "      <td>2.0</td>\n",
       "    </tr>\n",
       "  </tbody>\n",
       "</table>\n",
       "</div>"
      ],
      "text/plain": [
       "   VehicleType  Gearbox  Model  FuelType  Brand  NotRepaired\n",
       "0          2.0      1.0  227.0       2.0    1.0          1.0\n",
       "1          6.0      0.0  117.0       2.0   14.0          2.0\n",
       "2          5.0      1.0  116.0       6.0   38.0          0.0\n",
       "3          5.0      1.0  101.0       2.0   31.0          0.0\n",
       "4          4.0      1.0   11.0       6.0    2.0          2.0"
      ]
     },
     "execution_count": 23,
     "metadata": {},
     "output_type": "execute_result"
    }
   ],
   "source": [
    "df_ord_2.head()"
   ]
  },
  {
   "cell_type": "code",
   "execution_count": 24,
   "metadata": {},
   "outputs": [],
   "source": [
    "df_for_lr = df_ord_1.join(df_ord_2)"
   ]
  },
  {
   "cell_type": "code",
   "execution_count": 25,
   "metadata": {},
   "outputs": [
    {
     "data": {
      "text/html": [
       "<div>\n",
       "<style scoped>\n",
       "    .dataframe tbody tr th:only-of-type {\n",
       "        vertical-align: middle;\n",
       "    }\n",
       "\n",
       "    .dataframe tbody tr th {\n",
       "        vertical-align: top;\n",
       "    }\n",
       "\n",
       "    .dataframe thead th {\n",
       "        text-align: right;\n",
       "    }\n",
       "</style>\n",
       "<table border=\"1\" class=\"dataframe\">\n",
       "  <thead>\n",
       "    <tr style=\"text-align: right;\">\n",
       "      <th></th>\n",
       "      <th>Price</th>\n",
       "      <th>RegistrationYear</th>\n",
       "      <th>Kilometer</th>\n",
       "      <th>Power</th>\n",
       "      <th>VehicleType</th>\n",
       "      <th>Gearbox</th>\n",
       "      <th>Model</th>\n",
       "      <th>FuelType</th>\n",
       "      <th>Brand</th>\n",
       "      <th>NotRepaired</th>\n",
       "    </tr>\n",
       "  </thead>\n",
       "  <tbody>\n",
       "    <tr>\n",
       "      <td>0</td>\n",
       "      <td>18300</td>\n",
       "      <td>2011</td>\n",
       "      <td>125000</td>\n",
       "      <td>190</td>\n",
       "      <td>2.0</td>\n",
       "      <td>1.0</td>\n",
       "      <td>227.0</td>\n",
       "      <td>2.0</td>\n",
       "      <td>1.0</td>\n",
       "      <td>1.0</td>\n",
       "    </tr>\n",
       "    <tr>\n",
       "      <td>1</td>\n",
       "      <td>9800</td>\n",
       "      <td>2004</td>\n",
       "      <td>125000</td>\n",
       "      <td>163</td>\n",
       "      <td>6.0</td>\n",
       "      <td>0.0</td>\n",
       "      <td>117.0</td>\n",
       "      <td>2.0</td>\n",
       "      <td>14.0</td>\n",
       "      <td>2.0</td>\n",
       "    </tr>\n",
       "    <tr>\n",
       "      <td>2</td>\n",
       "      <td>1500</td>\n",
       "      <td>2001</td>\n",
       "      <td>150000</td>\n",
       "      <td>75</td>\n",
       "      <td>5.0</td>\n",
       "      <td>1.0</td>\n",
       "      <td>116.0</td>\n",
       "      <td>6.0</td>\n",
       "      <td>38.0</td>\n",
       "      <td>0.0</td>\n",
       "    </tr>\n",
       "    <tr>\n",
       "      <td>3</td>\n",
       "      <td>3600</td>\n",
       "      <td>2008</td>\n",
       "      <td>90000</td>\n",
       "      <td>69</td>\n",
       "      <td>5.0</td>\n",
       "      <td>1.0</td>\n",
       "      <td>101.0</td>\n",
       "      <td>2.0</td>\n",
       "      <td>31.0</td>\n",
       "      <td>0.0</td>\n",
       "    </tr>\n",
       "    <tr>\n",
       "      <td>4</td>\n",
       "      <td>650</td>\n",
       "      <td>1995</td>\n",
       "      <td>150000</td>\n",
       "      <td>102</td>\n",
       "      <td>4.0</td>\n",
       "      <td>1.0</td>\n",
       "      <td>11.0</td>\n",
       "      <td>6.0</td>\n",
       "      <td>2.0</td>\n",
       "      <td>2.0</td>\n",
       "    </tr>\n",
       "    <tr>\n",
       "      <td>...</td>\n",
       "      <td>...</td>\n",
       "      <td>...</td>\n",
       "      <td>...</td>\n",
       "      <td>...</td>\n",
       "      <td>...</td>\n",
       "      <td>...</td>\n",
       "      <td>...</td>\n",
       "      <td>...</td>\n",
       "      <td>...</td>\n",
       "      <td>...</td>\n",
       "    </tr>\n",
       "    <tr>\n",
       "      <td>291527</td>\n",
       "      <td>7900</td>\n",
       "      <td>2010</td>\n",
       "      <td>150000</td>\n",
       "      <td>140</td>\n",
       "      <td>4.0</td>\n",
       "      <td>1.0</td>\n",
       "      <td>116.0</td>\n",
       "      <td>2.0</td>\n",
       "      <td>38.0</td>\n",
       "      <td>0.0</td>\n",
       "    </tr>\n",
       "    <tr>\n",
       "      <td>291528</td>\n",
       "      <td>3200</td>\n",
       "      <td>2004</td>\n",
       "      <td>150000</td>\n",
       "      <td>225</td>\n",
       "      <td>4.0</td>\n",
       "      <td>1.0</td>\n",
       "      <td>140.0</td>\n",
       "      <td>6.0</td>\n",
       "      <td>30.0</td>\n",
       "      <td>2.0</td>\n",
       "    </tr>\n",
       "    <tr>\n",
       "      <td>291529</td>\n",
       "      <td>1199</td>\n",
       "      <td>2000</td>\n",
       "      <td>125000</td>\n",
       "      <td>101</td>\n",
       "      <td>1.0</td>\n",
       "      <td>0.0</td>\n",
       "      <td>106.0</td>\n",
       "      <td>6.0</td>\n",
       "      <td>32.0</td>\n",
       "      <td>0.0</td>\n",
       "    </tr>\n",
       "    <tr>\n",
       "      <td>291530</td>\n",
       "      <td>9200</td>\n",
       "      <td>1996</td>\n",
       "      <td>150000</td>\n",
       "      <td>102</td>\n",
       "      <td>0.0</td>\n",
       "      <td>1.0</td>\n",
       "      <td>223.0</td>\n",
       "      <td>2.0</td>\n",
       "      <td>38.0</td>\n",
       "      <td>0.0</td>\n",
       "    </tr>\n",
       "    <tr>\n",
       "      <td>291531</td>\n",
       "      <td>3400</td>\n",
       "      <td>2002</td>\n",
       "      <td>150000</td>\n",
       "      <td>100</td>\n",
       "      <td>8.0</td>\n",
       "      <td>1.0</td>\n",
       "      <td>116.0</td>\n",
       "      <td>2.0</td>\n",
       "      <td>38.0</td>\n",
       "      <td>2.0</td>\n",
       "    </tr>\n",
       "  </tbody>\n",
       "</table>\n",
       "<p>291532 rows × 10 columns</p>\n",
       "</div>"
      ],
      "text/plain": [
       "        Price  RegistrationYear  Kilometer  Power  VehicleType  Gearbox  \\\n",
       "0       18300              2011     125000    190          2.0      1.0   \n",
       "1        9800              2004     125000    163          6.0      0.0   \n",
       "2        1500              2001     150000     75          5.0      1.0   \n",
       "3        3600              2008      90000     69          5.0      1.0   \n",
       "4         650              1995     150000    102          4.0      1.0   \n",
       "...       ...               ...        ...    ...          ...      ...   \n",
       "291527   7900              2010     150000    140          4.0      1.0   \n",
       "291528   3200              2004     150000    225          4.0      1.0   \n",
       "291529   1199              2000     125000    101          1.0      0.0   \n",
       "291530   9200              1996     150000    102          0.0      1.0   \n",
       "291531   3400              2002     150000    100          8.0      1.0   \n",
       "\n",
       "        Model  FuelType  Brand  NotRepaired  \n",
       "0       227.0       2.0    1.0          1.0  \n",
       "1       117.0       2.0   14.0          2.0  \n",
       "2       116.0       6.0   38.0          0.0  \n",
       "3       101.0       2.0   31.0          0.0  \n",
       "4        11.0       6.0    2.0          2.0  \n",
       "...       ...       ...    ...          ...  \n",
       "291527  116.0       2.0   38.0          0.0  \n",
       "291528  140.0       6.0   30.0          2.0  \n",
       "291529  106.0       6.0   32.0          0.0  \n",
       "291530  223.0       2.0   38.0          0.0  \n",
       "291531  116.0       2.0   38.0          2.0  \n",
       "\n",
       "[291532 rows x 10 columns]"
      ]
     },
     "execution_count": 25,
     "metadata": {},
     "output_type": "execute_result"
    }
   ],
   "source": [
    "df_for_lr"
   ]
  },
  {
   "cell_type": "code",
   "execution_count": 26,
   "metadata": {},
   "outputs": [],
   "source": [
    "def feat_targ(data, column):\n",
    "    \"\"\"Разделяет датасет на features и target при указании целевого признака\"\"\"\n",
    "    features = data.drop(column,axis = 1)\n",
    "    target = data[column]\n",
    "    return features, target"
   ]
  },
  {
   "cell_type": "code",
   "execution_count": 27,
   "metadata": {},
   "outputs": [],
   "source": [
    "def dividing(data1, data2):\n",
    "    \"\"\"Разделяет features и target на обучающую и тестовую выборки\"\"\"\n",
    "    features_train, features_test, target_train, target_test = train_test_split(data1, data2, test_size=0.25, \n",
    "                                                                                  random_state=12345)\n",
    "    print('Размер исходного датасета',data1.shape)\n",
    "    print('Размер обучающей выборки',features_train.shape)\n",
    "    print('Размер тестовой выборки',features_test.shape)\n",
    "    print('Проверка суммарного размера выборок', features_train.shape[0] + features_test.shape[0] )\n",
    "    return features_train, features_test, target_train, target_test"
   ]
  },
  {
   "cell_type": "code",
   "execution_count": 28,
   "metadata": {},
   "outputs": [],
   "source": [
    "def scal(data_1, data_2):\n",
    "    \"\"\"Масштабирование данных\"\"\"\n",
    "    scaler = StandardScaler()\n",
    "    scaler.fit(data_1)\n",
    "    pd.options.mode.chained_assignment = None\n",
    "    data_1 = scaler.transform(data_1)\n",
    "    data_2 = scaler.transform(data_2)\n",
    "    return data_1, data_2"
   ]
  },
  {
   "cell_type": "code",
   "execution_count": 29,
   "metadata": {},
   "outputs": [],
   "source": [
    "def rmse(target, pred):\n",
    "    \"\"\"Создание метрики для применения ее в GridSearchCV \"\"\"\n",
    "    return (mean_squared_error(target, pred)**0.5)\n",
    "my_score = make_scorer(rmse, greater_is_better=False)"
   ]
  },
  {
   "cell_type": "code",
   "execution_count": 30,
   "metadata": {},
   "outputs": [],
   "source": [
    "def predict_data(model,features_test, target_test):\n",
    "    \"\"\"Предсказание и измерение времени \"\"\"\n",
    "    start_time = datetime.now()\n",
    "    pred_test = model.predict(features_test)\n",
    "    end_time = datetime.now()\n",
    "    time_predict = end_time - start_time\n",
    "    rmse_test = rmse(target_test,pred_test)\n",
    "    print('rmse_test:',round(rmse_test,2))\n",
    "    print('time_predict:',time_predict)\n",
    "    return rmse_test, time_predict\n"
   ]
  },
  {
   "cell_type": "markdown",
   "metadata": {},
   "source": [
    "### Промежуточные комментарии\n",
    "\n",
    "Данные подготовлены для исследования модели на основе линейной регрессии – закодированы категориальные признаки.\n",
    "\n",
    "Также были написаны функции для дальнейшего применения при повторении операций во время исследования моделей.\n"
   ]
  },
  {
   "cell_type": "markdown",
   "metadata": {},
   "source": [
    "## Обучение моделей"
   ]
  },
  {
   "cell_type": "code",
   "execution_count": 31,
   "metadata": {},
   "outputs": [
    {
     "name": "stdout",
     "output_type": "stream",
     "text": [
      "Размер исходного датасета (291532, 9)\n",
      "Размер обучающей выборки (218649, 9)\n",
      "Размер тестовой выборки (72883, 9)\n",
      "Проверка суммарного размера выборок 291532\n"
     ]
    }
   ],
   "source": [
    "features_lr, target_lr = feat_targ(df_for_lr, 'Price')\n",
    "features_tr_lr, features_test_lr, target_tr_lr, target_test_lr = dividing(features_lr, target_lr)"
   ]
  },
  {
   "cell_type": "code",
   "execution_count": 32,
   "metadata": {},
   "outputs": [],
   "source": [
    "features_tr_s_lr, features_test_s_lr = scal(features_tr_lr, features_test_lr)"
   ]
  },
  {
   "cell_type": "code",
   "execution_count": 33,
   "metadata": {},
   "outputs": [],
   "source": [
    "lr =  LinearRegression()\n",
    "param_lr = {'normalize':[True,False]}"
   ]
  },
  {
   "cell_type": "code",
   "execution_count": 34,
   "metadata": {},
   "outputs": [
    {
     "name": "stdout",
     "output_type": "stream",
     "text": [
      "{'normalize': False}\n",
      "CPU times: user 1.23 s, sys: 814 ms, total: 2.04 s\n",
      "Wall time: 2.03 s\n"
     ]
    }
   ],
   "source": [
    "%%time\n",
    "start_time = datetime.now()\n",
    "model_lr = GridSearchCV(lr, param_lr, refit=True, scoring = my_score, cv=5)\n",
    "best_model_lr = model_lr.fit(features_tr_s_lr, target_tr_lr)\n",
    "end_time = datetime.now()\n",
    "time_gs_lr = end_time - start_time\n",
    "best_params_lr = best_model_lr.best_params_\n",
    "print(best_params_lr)"
   ]
  },
  {
   "cell_type": "code",
   "execution_count": 35,
   "metadata": {},
   "outputs": [
    {
     "name": "stdout",
     "output_type": "stream",
     "text": [
      "CPU times: user 71.5 ms, sys: 15.7 ms, total: 87.1 ms\n",
      "Wall time: 85.9 ms\n"
     ]
    }
   ],
   "source": [
    "%%time\n",
    "start_time = datetime.now()\n",
    "lr_best =  LinearRegression(normalize = True)\n",
    "model_lr = lr_best.fit(features_tr_lr, target_tr_lr)\n",
    "end_time = datetime.now()\n",
    "time_fit_lr = end_time - start_time\n"
   ]
  },
  {
   "cell_type": "code",
   "execution_count": 36,
   "metadata": {},
   "outputs": [
    {
     "name": "stdout",
     "output_type": "stream",
     "text": [
      "rmse_test: 3154.87\n",
      "time_predict: 0:00:00.065060\n"
     ]
    }
   ],
   "source": [
    "rmse_test_lr, time_predict_lr = predict_data(model_lr,features_test_lr, target_test_lr)"
   ]
  },
  {
   "cell_type": "markdown",
   "metadata": {},
   "source": [
    "### Промежуточный комментарий\n",
    "\n",
    "Первая рассматриваемая модель - линейная регрессия. Отличается высокой скоростью обучения. Для подбора лучшей модели с перебором гиперпараметров и применяя кросс-валидацию был выбран инструмент GridSearchCV. Линейная регрессия достаточно самодостаточная модель, поэтому выбрано минимальное количество изменяемых гиперпараметров, чтобы работал инструмент подбора и это - 'normalize':[True,False].\n",
    "В итоге перебора малого количества гиперпараметров и кросс-валидации, состаящей из 5 выборок был выбран вариант: {'normalize': True}. Время обучение модели составило менее 1 секунды. RMSE для тестовой выборки составила  3154,87."
   ]
  },
  {
   "cell_type": "code",
   "execution_count": 37,
   "metadata": {},
   "outputs": [
    {
     "name": "stdout",
     "output_type": "stream",
     "text": [
      "Размер исходного датасета (291532, 9)\n",
      "Размер обучающей выборки (218649, 9)\n",
      "Размер тестовой выборки (72883, 9)\n",
      "Проверка суммарного размера выборок 291532\n"
     ]
    }
   ],
   "source": [
    "features_cbr, target_cbr = feat_targ(df_new[df_for_lr.columns], 'Price')\n",
    "features_tr_cbr, features_test_cbr, target_tr_cbr, target_test_cbr = dividing(features_cbr, target_cbr)"
   ]
  },
  {
   "cell_type": "code",
   "execution_count": 38,
   "metadata": {},
   "outputs": [],
   "source": [
    "cbr = CatBoostRegressor()\n",
    "params_cbr = {'depth': [4, 7, 10],\n",
    "          'learning_rate' : [0.03, 0.1],\n",
    "          'iterations': [700]}"
   ]
  },
  {
   "cell_type": "code",
   "execution_count": 39,
   "metadata": {
    "scrolled": true
   },
   "outputs": [
    {
     "name": "stdout",
     "output_type": "stream",
     "text": [
      "0:\tlearn: 4529.9220648\ttotal: 194ms\tremaining: 2m 15s\n",
      "100:\tlearn: 2107.6817928\ttotal: 20.5s\tremaining: 2m 1s\n",
      "200:\tlearn: 1919.6157038\ttotal: 40.8s\tremaining: 1m 41s\n",
      "300:\tlearn: 1857.0708254\ttotal: 1m 1s\tremaining: 1m 21s\n",
      "400:\tlearn: 1820.2385974\ttotal: 1m 22s\tremaining: 1m 1s\n",
      "500:\tlearn: 1792.3284680\ttotal: 1m 45s\tremaining: 41.8s\n",
      "600:\tlearn: 1771.2490581\ttotal: 2m 6s\tremaining: 20.8s\n",
      "699:\tlearn: 1755.1231876\ttotal: 2m 27s\tremaining: 0us\n",
      "0:\tlearn: 4549.1387128\ttotal: 189ms\tremaining: 2m 12s\n",
      "100:\tlearn: 2108.8391075\ttotal: 20.7s\tremaining: 2m 2s\n",
      "200:\tlearn: 1918.0378396\ttotal: 41.2s\tremaining: 1m 42s\n",
      "300:\tlearn: 1855.5546094\ttotal: 1m 1s\tremaining: 1m 21s\n",
      "400:\tlearn: 1814.0489845\ttotal: 1m 22s\tremaining: 1m 1s\n",
      "500:\tlearn: 1786.0484782\ttotal: 1m 43s\tremaining: 41.3s\n",
      "600:\tlearn: 1765.5234175\ttotal: 2m 5s\tremaining: 20.6s\n",
      "699:\tlearn: 1749.4458480\ttotal: 2m 25s\tremaining: 0us\n",
      "0:\tlearn: 4550.7557945\ttotal: 176ms\tremaining: 2m 3s\n",
      "100:\tlearn: 2119.2599302\ttotal: 20.5s\tremaining: 2m 1s\n",
      "200:\tlearn: 1926.1735492\ttotal: 41.1s\tremaining: 1m 41s\n",
      "300:\tlearn: 1860.5210599\ttotal: 1m 2s\tremaining: 1m 22s\n",
      "400:\tlearn: 1819.4267711\ttotal: 1m 23s\tremaining: 1m 2s\n",
      "500:\tlearn: 1792.7728955\ttotal: 1m 45s\tremaining: 41.8s\n",
      "600:\tlearn: 1768.0102446\ttotal: 2m 6s\tremaining: 20.9s\n",
      "699:\tlearn: 1751.5291037\ttotal: 2m 28s\tremaining: 0us\n",
      "0:\tlearn: 4336.6718159\ttotal: 118ms\tremaining: 1m 22s\n",
      "100:\tlearn: 1839.2522699\ttotal: 21.9s\tremaining: 2m 9s\n",
      "200:\tlearn: 1759.0058026\ttotal: 43.2s\tremaining: 1m 47s\n",
      "300:\tlearn: 1721.2825526\ttotal: 1m 4s\tremaining: 1m 25s\n",
      "400:\tlearn: 1697.4419408\ttotal: 1m 25s\tremaining: 1m 3s\n",
      "500:\tlearn: 1679.1359450\ttotal: 1m 46s\tremaining: 42.5s\n",
      "600:\tlearn: 1665.8209508\ttotal: 2m 8s\tremaining: 21.1s\n",
      "699:\tlearn: 1654.9189099\ttotal: 2m 29s\tremaining: 0us\n",
      "0:\tlearn: 4356.8966402\ttotal: 115ms\tremaining: 1m 20s\n",
      "100:\tlearn: 1837.8420011\ttotal: 21.4s\tremaining: 2m 6s\n",
      "200:\tlearn: 1757.2626168\ttotal: 42.5s\tremaining: 1m 45s\n",
      "300:\tlearn: 1716.4259537\ttotal: 1m 3s\tremaining: 1m 24s\n",
      "400:\tlearn: 1692.7881149\ttotal: 1m 24s\tremaining: 1m 3s\n",
      "500:\tlearn: 1675.3590014\ttotal: 1m 46s\tremaining: 42.2s\n",
      "600:\tlearn: 1661.8669015\ttotal: 2m 7s\tremaining: 21s\n",
      "699:\tlearn: 1650.3453825\ttotal: 2m 28s\tremaining: 0us\n",
      "0:\tlearn: 4354.8285787\ttotal: 129ms\tremaining: 1m 30s\n",
      "100:\tlearn: 1846.3002577\ttotal: 21.3s\tremaining: 2m 6s\n",
      "200:\tlearn: 1761.7065032\ttotal: 42.4s\tremaining: 1m 45s\n",
      "300:\tlearn: 1722.7312409\ttotal: 1m 3s\tremaining: 1m 24s\n",
      "400:\tlearn: 1696.2879537\ttotal: 1m 24s\tremaining: 1m 2s\n",
      "500:\tlearn: 1677.3367593\ttotal: 1m 44s\tremaining: 41.7s\n",
      "600:\tlearn: 1661.4024311\ttotal: 2m 6s\tremaining: 20.8s\n",
      "699:\tlearn: 1648.9771708\ttotal: 2m 27s\tremaining: 0us\n",
      "0:\tlearn: 4518.7014778\ttotal: 367ms\tremaining: 4m 16s\n",
      "100:\tlearn: 1924.4301066\ttotal: 38.7s\tremaining: 3m 49s\n",
      "200:\tlearn: 1785.5255672\ttotal: 1m 16s\tremaining: 3m 9s\n",
      "300:\tlearn: 1732.6408735\ttotal: 1m 54s\tremaining: 2m 31s\n",
      "400:\tlearn: 1694.4565223\ttotal: 2m 32s\tremaining: 1m 53s\n",
      "500:\tlearn: 1666.6872519\ttotal: 3m 12s\tremaining: 1m 16s\n",
      "600:\tlearn: 1644.8491427\ttotal: 3m 51s\tremaining: 38.1s\n",
      "699:\tlearn: 1628.1060957\ttotal: 4m 30s\tremaining: 0us\n",
      "0:\tlearn: 4536.8117426\ttotal: 321ms\tremaining: 3m 44s\n",
      "100:\tlearn: 1925.6628647\ttotal: 39.6s\tremaining: 3m 54s\n",
      "200:\tlearn: 1780.8034131\ttotal: 1m 17s\tremaining: 3m 12s\n",
      "300:\tlearn: 1724.3620596\ttotal: 1m 55s\tremaining: 2m 32s\n",
      "400:\tlearn: 1686.7658337\ttotal: 2m 33s\tremaining: 1m 54s\n",
      "500:\tlearn: 1660.6839751\ttotal: 3m 11s\tremaining: 1m 16s\n",
      "600:\tlearn: 1639.8674214\ttotal: 3m 49s\tremaining: 37.8s\n",
      "699:\tlearn: 1623.2669744\ttotal: 4m 29s\tremaining: 0us\n",
      "0:\tlearn: 4541.1233898\ttotal: 389ms\tremaining: 4m 32s\n",
      "100:\tlearn: 1931.6542156\ttotal: 39.4s\tremaining: 3m 53s\n",
      "200:\tlearn: 1787.5119871\ttotal: 1m 16s\tremaining: 3m 11s\n",
      "300:\tlearn: 1730.0954733\ttotal: 1m 55s\tremaining: 2m 32s\n",
      "400:\tlearn: 1692.7573851\ttotal: 2m 33s\tremaining: 1m 54s\n",
      "500:\tlearn: 1663.6180336\ttotal: 3m 13s\tremaining: 1m 16s\n",
      "600:\tlearn: 1642.2095608\ttotal: 3m 52s\tremaining: 38.3s\n",
      "699:\tlearn: 1626.4150497\ttotal: 4m 30s\tremaining: 0us\n",
      "0:\tlearn: 4298.8566688\ttotal: 325ms\tremaining: 3m 47s\n",
      "100:\tlearn: 1722.0256949\ttotal: 38.8s\tremaining: 3m 49s\n",
      "200:\tlearn: 1637.3270565\ttotal: 1m 17s\tremaining: 3m 13s\n",
      "300:\tlearn: 1594.7229102\ttotal: 1m 57s\tremaining: 2m 35s\n",
      "400:\tlearn: 1566.8616047\ttotal: 2m 38s\tremaining: 1m 58s\n",
      "500:\tlearn: 1547.1087585\ttotal: 3m 19s\tremaining: 1m 19s\n",
      "600:\tlearn: 1526.6239685\ttotal: 3m 59s\tremaining: 39.4s\n",
      "699:\tlearn: 1512.3056917\ttotal: 4m 39s\tremaining: 0us\n",
      "0:\tlearn: 4315.3610571\ttotal: 400ms\tremaining: 4m 39s\n",
      "100:\tlearn: 1712.3812824\ttotal: 38.1s\tremaining: 3m 46s\n",
      "200:\tlearn: 1631.5481783\ttotal: 1m 16s\tremaining: 3m 9s\n",
      "300:\tlearn: 1588.1131366\ttotal: 1m 54s\tremaining: 2m 31s\n",
      "400:\tlearn: 1562.1438631\ttotal: 2m 33s\tremaining: 1m 54s\n",
      "500:\tlearn: 1541.4234062\ttotal: 3m 13s\tremaining: 1m 16s\n",
      "600:\tlearn: 1521.9790419\ttotal: 3m 53s\tremaining: 38.4s\n",
      "699:\tlearn: 1505.7902983\ttotal: 4m 33s\tremaining: 0us\n",
      "0:\tlearn: 4322.3661670\ttotal: 317ms\tremaining: 3m 41s\n",
      "100:\tlearn: 1719.9054624\ttotal: 39.7s\tremaining: 3m 55s\n",
      "200:\tlearn: 1636.5441711\ttotal: 1m 18s\tremaining: 3m 15s\n",
      "300:\tlearn: 1592.7190407\ttotal: 1m 58s\tremaining: 2m 37s\n",
      "400:\tlearn: 1563.0785139\ttotal: 2m 38s\tremaining: 1m 58s\n",
      "500:\tlearn: 1543.0038142\ttotal: 3m 18s\tremaining: 1m 18s\n",
      "600:\tlearn: 1525.9990620\ttotal: 3m 59s\tremaining: 39.4s\n",
      "699:\tlearn: 1511.5203400\ttotal: 4m 39s\tremaining: 0us\n",
      "0:\tlearn: 4511.4237701\ttotal: 519ms\tremaining: 6m 2s\n",
      "100:\tlearn: 1813.2863157\ttotal: 1m 2s\tremaining: 6m 9s\n",
      "200:\tlearn: 1681.4977554\ttotal: 2m 5s\tremaining: 5m 12s\n",
      "300:\tlearn: 1625.2183302\ttotal: 3m 13s\tremaining: 4m 15s\n",
      "400:\tlearn: 1582.7006608\ttotal: 4m 20s\tremaining: 3m 14s\n",
      "500:\tlearn: 1551.8746255\ttotal: 5m 30s\tremaining: 2m 11s\n",
      "600:\tlearn: 1524.9795393\ttotal: 6m 40s\tremaining: 1m 6s\n",
      "699:\tlearn: 1504.6461342\ttotal: 7m 51s\tremaining: 0us\n",
      "0:\tlearn: 4529.4288190\ttotal: 603ms\tremaining: 7m 1s\n",
      "100:\tlearn: 1807.3745266\ttotal: 1m 2s\tremaining: 6m 10s\n",
      "200:\tlearn: 1674.7764747\ttotal: 2m 6s\tremaining: 5m 13s\n",
      "300:\tlearn: 1613.9727390\ttotal: 3m 13s\tremaining: 4m 16s\n",
      "400:\tlearn: 1574.2214290\ttotal: 4m 20s\tremaining: 3m 14s\n",
      "500:\tlearn: 1542.2589049\ttotal: 5m 30s\tremaining: 2m 11s\n",
      "600:\tlearn: 1518.0393196\ttotal: 6m 39s\tremaining: 1m 5s\n",
      "699:\tlearn: 1499.9482067\ttotal: 7m 49s\tremaining: 0us\n",
      "0:\tlearn: 4533.9024416\ttotal: 597ms\tremaining: 6m 57s\n",
      "100:\tlearn: 1813.4440068\ttotal: 1m 1s\tremaining: 6m 5s\n",
      "200:\tlearn: 1675.8445913\ttotal: 2m 6s\tremaining: 5m 13s\n",
      "300:\tlearn: 1617.4693555\ttotal: 3m 13s\tremaining: 4m 15s\n",
      "400:\tlearn: 1578.6066977\ttotal: 4m 21s\tremaining: 3m 15s\n",
      "500:\tlearn: 1548.5490085\ttotal: 5m 31s\tremaining: 2m 11s\n",
      "600:\tlearn: 1525.5221455\ttotal: 6m 41s\tremaining: 1m 6s\n",
      "699:\tlearn: 1507.9322959\ttotal: 7m 51s\tremaining: 0us\n",
      "0:\tlearn: 4274.1618930\ttotal: 593ms\tremaining: 6m 54s\n",
      "100:\tlearn: 1611.9800610\ttotal: 1m 3s\tremaining: 6m 17s\n",
      "200:\tlearn: 1514.3957667\ttotal: 2m 12s\tremaining: 5m 29s\n",
      "300:\tlearn: 1462.1281505\ttotal: 3m 23s\tremaining: 4m 29s\n",
      "400:\tlearn: 1424.0811884\ttotal: 4m 34s\tremaining: 3m 24s\n",
      "500:\tlearn: 1391.0540748\ttotal: 5m 47s\tremaining: 2m 18s\n",
      "600:\tlearn: 1364.3010751\ttotal: 6m 59s\tremaining: 1m 9s\n",
      "699:\tlearn: 1340.6754606\ttotal: 8m 10s\tremaining: 0us\n",
      "0:\tlearn: 4290.3081173\ttotal: 592ms\tremaining: 6m 53s\n",
      "100:\tlearn: 1603.1157115\ttotal: 1m 5s\tremaining: 6m 28s\n",
      "200:\tlearn: 1509.9815527\ttotal: 2m 14s\tremaining: 5m 34s\n",
      "300:\tlearn: 1457.9718474\ttotal: 3m 24s\tremaining: 4m 30s\n",
      "400:\tlearn: 1416.9043183\ttotal: 4m 35s\tremaining: 3m 25s\n",
      "500:\tlearn: 1386.4077421\ttotal: 5m 46s\tremaining: 2m 17s\n",
      "600:\tlearn: 1358.4875841\ttotal: 6m 58s\tremaining: 1m 8s\n",
      "699:\tlearn: 1334.7197139\ttotal: 8m 9s\tremaining: 0us\n",
      "0:\tlearn: 4297.8887914\ttotal: 558ms\tremaining: 6m 29s\n",
      "100:\tlearn: 1610.0410104\ttotal: 1m 4s\tremaining: 6m 24s\n",
      "200:\tlearn: 1520.4917973\ttotal: 2m 13s\tremaining: 5m 30s\n",
      "300:\tlearn: 1471.5209003\ttotal: 3m 23s\tremaining: 4m 29s\n",
      "400:\tlearn: 1430.4244210\ttotal: 4m 34s\tremaining: 3m 24s\n",
      "500:\tlearn: 1400.2582514\ttotal: 5m 45s\tremaining: 2m 17s\n",
      "600:\tlearn: 1374.5109807\ttotal: 6m 56s\tremaining: 1m 8s\n",
      "699:\tlearn: 1352.7268815\ttotal: 8m 7s\tremaining: 0us\n",
      "0:\tlearn: 4289.6969641\ttotal: 996ms\tremaining: 11m 36s\n",
      "100:\tlearn: 1613.2733171\ttotal: 1m 30s\tremaining: 8m 58s\n",
      "200:\tlearn: 1525.7777387\ttotal: 3m 5s\tremaining: 7m 39s\n",
      "300:\tlearn: 1475.9940065\ttotal: 4m 42s\tremaining: 6m 14s\n",
      "400:\tlearn: 1442.4471919\ttotal: 6m 23s\tremaining: 4m 46s\n",
      "500:\tlearn: 1415.3270335\ttotal: 8m 6s\tremaining: 3m 13s\n",
      "600:\tlearn: 1393.3986029\ttotal: 9m 49s\tremaining: 1m 37s\n",
      "699:\tlearn: 1373.9392529\ttotal: 11m 32s\tremaining: 0us\n",
      "{'depth': 10, 'iterations': 700, 'learning_rate': 0.1}\n",
      "CPU times: user 1h 34min 44s, sys: 7min 22s, total: 1h 42min 7s\n",
      "Wall time: 1h 42min 47s\n"
     ]
    }
   ],
   "source": [
    "%%time\n",
    "start_time = datetime.now()\n",
    "cbr_model = GridSearchCV(cbr, params_cbr, n_jobs=-1, refit=True,  scoring=my_score, cv = 3)\n",
    "best_model_cbr = cbr_model.fit(features_tr_cbr, target_tr_cbr, verbose=100, cat_features= column_categ)\n",
    "end_time = datetime.now()\n",
    "time_gs_cbr = end_time - start_time\n",
    "best_params_cbr = best_model_cbr.best_params_\n",
    "print(best_params_cbr)"
   ]
  },
  {
   "cell_type": "code",
   "execution_count": 40,
   "metadata": {},
   "outputs": [
    {
     "name": "stdout",
     "output_type": "stream",
     "text": [
      "0:\tlearn: 4281.3230189\ttotal: 937ms\tremaining: 10m 54s\n",
      "100:\tlearn: 1609.1775936\ttotal: 1m 31s\tremaining: 9m 5s\n",
      "200:\tlearn: 1528.8361729\ttotal: 3m 5s\tremaining: 7m 40s\n",
      "300:\tlearn: 1480.2747467\ttotal: 4m 44s\tremaining: 6m 16s\n",
      "400:\tlearn: 1441.4127204\ttotal: 6m 23s\tremaining: 4m 46s\n",
      "500:\tlearn: 1416.0242961\ttotal: 8m 4s\tremaining: 3m 12s\n",
      "600:\tlearn: 1394.7732554\ttotal: 9m 42s\tremaining: 1m 35s\n",
      "699:\tlearn: 1375.9576480\ttotal: 11m 22s\tremaining: 0us\n",
      "CPU times: user 10min 43s, sys: 41.1 s, total: 11min 24s\n",
      "Wall time: 11min 27s\n"
     ]
    }
   ],
   "source": [
    "%%time\n",
    "start_time = datetime.now()\n",
    "model_cbr = CatBoostRegressor(loss_function=\"RMSE\", iterations=best_params_cbr['iterations'], \n",
    "                        depth = best_params_cbr['depth'], learning_rate = best_params_cbr['learning_rate'],  random_seed=12345)\n",
    "model_cbr.fit(features_tr_cbr, target_tr_cbr, verbose=100, cat_features= column_categ) \n",
    "end_time = datetime.now()\n",
    "time_fit_cbr = end_time - start_time\n"
   ]
  },
  {
   "cell_type": "code",
   "execution_count": 41,
   "metadata": {},
   "outputs": [
    {
     "name": "stdout",
     "output_type": "stream",
     "text": [
      "rmse_test: 1533.47\n",
      "time_predict: 0:00:01.473297\n"
     ]
    }
   ],
   "source": [
    "rmse_test_cbr, time_predict_cbr = predict_data(model_cbr,features_test_cbr, target_test_cbr)"
   ]
  },
  {
   "cell_type": "markdown",
   "metadata": {},
   "source": [
    "### Промежуточные комментарии\n",
    "\n",
    "Следующая модель – градиентный бустинг CatBoost. Для подбора лучшей модели с перебором гиперпараметров и применяя кросс-валидацию также использовался GridSearchCV. Изменялись следующие гиперпараметры: depth' и learning_rate. В итоге был выбран вариант: {'depth': 10, 'iterations': 1000, 'learning_rate': 0.1}. Время обучение лучшей модели составило более 11 минут. Для подбора гиперпараметров с учетом 700 итераций и кросс-валидации равной 3 понадобилось около 2х часов. \n",
    "В итоге RMSE для обучающей выборки составила – 1533,47.\n"
   ]
  },
  {
   "cell_type": "code",
   "execution_count": 42,
   "metadata": {},
   "outputs": [],
   "source": [
    "df_lrb = df_new[df_for_lr.columns]"
   ]
  },
  {
   "cell_type": "code",
   "execution_count": 43,
   "metadata": {},
   "outputs": [],
   "source": [
    "for item in column_categ:\n",
    "    df_lrb[item] = df_lrb[item].astype(\"category\").cat.codes +1"
   ]
  },
  {
   "cell_type": "code",
   "execution_count": 44,
   "metadata": {},
   "outputs": [
    {
     "name": "stdout",
     "output_type": "stream",
     "text": [
      "Размер исходного датасета (291532, 9)\n",
      "Размер обучающей выборки (218649, 9)\n",
      "Размер тестовой выборки (72883, 9)\n",
      "Проверка суммарного размера выборок 291532\n"
     ]
    }
   ],
   "source": [
    "features_lgb, target_lgb = feat_targ(df_lrb[df_for_lr.columns], 'Price')\n",
    "features_tr_lgb, features_test_lgb, target_tr_lgb, target_test_lgb = dividing(features_lgb, target_lgb)\n"
   ]
  },
  {
   "cell_type": "code",
   "execution_count": 45,
   "metadata": {
    "scrolled": true
   },
   "outputs": [],
   "source": [
    "lg = lgb.LGBMRegressor(silent=False)\n",
    "param_lgb = {\"max_depth\": [25,50,75],\n",
    "              \"learning_rate\" : [0.01, 0.1],\n",
    "              \"n_estimators\": [100]\n",
    "             }"
   ]
  },
  {
   "cell_type": "code",
   "execution_count": 46,
   "metadata": {},
   "outputs": [
    {
     "name": "stdout",
     "output_type": "stream",
     "text": [
      "{'learning_rate': 0.1, 'max_depth': 25, 'n_estimators': 100}\n",
      "CPU times: user 1min 31s, sys: 0 ns, total: 1min 31s\n",
      "Wall time: 1min 33s\n"
     ]
    }
   ],
   "source": [
    "%%time\n",
    "start_time = datetime.now()\n",
    "model_lgb  = GridSearchCV(lg, n_jobs=-1, param_grid=param_lgb, refit=True, cv = 3, scoring=my_score)\n",
    "best_model_lgb = model_lgb.fit(features_tr_lgb, target_tr_lgb,verbose=100)\n",
    "end_time = datetime.now()\n",
    "time_gs_lgb = end_time - start_time\n",
    "best_params_lgb = best_model_lgb.best_params_\n",
    "print(best_params_lgb)\n"
   ]
  },
  {
   "cell_type": "code",
   "execution_count": 47,
   "metadata": {},
   "outputs": [
    {
     "name": "stdout",
     "output_type": "stream",
     "text": [
      "CPU times: user 5.87 s, sys: 0 ns, total: 5.87 s\n",
      "Wall time: 5.99 s\n"
     ]
    }
   ],
   "source": [
    "%%time\n",
    "start_time = datetime.now()\n",
    "train = lgb.Dataset(features_tr_lgb, label=target_tr_lgb)\n",
    "params = best_params_lgb\n",
    "lgbm = lgb.train(params, train, categorical_feature = column_categ)\n",
    "end_time = datetime.now()\n",
    "time_fit_lgb = end_time - start_time"
   ]
  },
  {
   "cell_type": "code",
   "execution_count": 48,
   "metadata": {},
   "outputs": [
    {
     "name": "stdout",
     "output_type": "stream",
     "text": [
      "rmse_test: 1596.31\n",
      "time_predict: 0:00:00.696634\n"
     ]
    }
   ],
   "source": [
    "rmse_test_lgb, time_predict_lgb = predict_data(lgbm,features_test_lgb, target_test_lgb)"
   ]
  },
  {
   "cell_type": "markdown",
   "metadata": {},
   "source": [
    "### Промежуточные комментарии\n",
    "Последняя рассматриваемая модель – градиентный бустинг LightGBM. Для подбора лучшей модели с перебором гиперпараметров и применяя кросс-валидацию также использовался GridSearchCV. Изменялись следующие гиперпараметры: max_depth и learning_rate. В итоге был выбран вариант: {learning_rate': 0.1, 'max_depth': 25, 'n_estimators': 100}. Время обучение лучшей модели составило около 6 сек. Для подбора гиперпараметров с учетом n_estimators = 100 и кросс-валидации равной 3 понадобилось около двух минут. \n",
    "В итоге RMSE для тестовой выборки составила – 1596,31.\n"
   ]
  },
  {
   "cell_type": "markdown",
   "metadata": {},
   "source": [
    "## Анализ моделей"
   ]
  },
  {
   "cell_type": "code",
   "execution_count": 49,
   "metadata": {},
   "outputs": [],
   "source": [
    "res_all = np.array([['LinearRegression', round(rmse_test_lr,2), best_params_lr, time_gs_lr,time_fit_lr, time_predict_lr], \n",
    "                       ['CatBoost', round(rmse_test_cbr,2), best_params_cbr, time_gs_cbr,time_fit_cbr, time_predict_cbr],\n",
    "                    ['LightGBM', round(rmse_test_lgb,2), best_params_lgb, time_gs_lgb,time_fit_lgb, time_predict_lgb]])\n",
    "result_all = pd.DataFrame(res_all,columns = ['model','rmse', 'parameters','time_gs','time_fit','time_predict'])"
   ]
  },
  {
   "cell_type": "code",
   "execution_count": 50,
   "metadata": {
    "scrolled": true
   },
   "outputs": [
    {
     "data": {
      "text/html": [
       "<div>\n",
       "<style scoped>\n",
       "    .dataframe tbody tr th:only-of-type {\n",
       "        vertical-align: middle;\n",
       "    }\n",
       "\n",
       "    .dataframe tbody tr th {\n",
       "        vertical-align: top;\n",
       "    }\n",
       "\n",
       "    .dataframe thead th {\n",
       "        text-align: right;\n",
       "    }\n",
       "</style>\n",
       "<table border=\"1\" class=\"dataframe\">\n",
       "  <thead>\n",
       "    <tr style=\"text-align: right;\">\n",
       "      <th></th>\n",
       "      <th>model</th>\n",
       "      <th>rmse</th>\n",
       "      <th>parameters</th>\n",
       "      <th>time_gs</th>\n",
       "      <th>time_fit</th>\n",
       "      <th>time_predict</th>\n",
       "    </tr>\n",
       "  </thead>\n",
       "  <tbody>\n",
       "    <tr>\n",
       "      <td>0</td>\n",
       "      <td>LinearRegression</td>\n",
       "      <td>3154.87</td>\n",
       "      <td>{'normalize': False}</td>\n",
       "      <td>00:00:02.032237</td>\n",
       "      <td>00:00:00.085883</td>\n",
       "      <td>00:00:00.065060</td>\n",
       "    </tr>\n",
       "    <tr>\n",
       "      <td>1</td>\n",
       "      <td>CatBoost</td>\n",
       "      <td>1533.47</td>\n",
       "      <td>{'depth': 10, 'iterations': 700, 'learning_rat...</td>\n",
       "      <td>01:42:47.713439</td>\n",
       "      <td>00:11:27.505187</td>\n",
       "      <td>00:00:01.473297</td>\n",
       "    </tr>\n",
       "    <tr>\n",
       "      <td>2</td>\n",
       "      <td>LightGBM</td>\n",
       "      <td>1596.31</td>\n",
       "      <td>{'learning_rate': 0.1, 'max_depth': 25, 'n_est...</td>\n",
       "      <td>00:01:33.764265</td>\n",
       "      <td>00:00:05.991875</td>\n",
       "      <td>00:00:00.696634</td>\n",
       "    </tr>\n",
       "  </tbody>\n",
       "</table>\n",
       "</div>"
      ],
      "text/plain": [
       "              model     rmse  \\\n",
       "0  LinearRegression  3154.87   \n",
       "1          CatBoost  1533.47   \n",
       "2          LightGBM  1596.31   \n",
       "\n",
       "                                          parameters         time_gs  \\\n",
       "0                               {'normalize': False} 00:00:02.032237   \n",
       "1  {'depth': 10, 'iterations': 700, 'learning_rat... 01:42:47.713439   \n",
       "2  {'learning_rate': 0.1, 'max_depth': 25, 'n_est... 00:01:33.764265   \n",
       "\n",
       "         time_fit    time_predict  \n",
       "0 00:00:00.085883 00:00:00.065060  \n",
       "1 00:11:27.505187 00:00:01.473297  \n",
       "2 00:00:05.991875 00:00:00.696634  "
      ]
     },
     "execution_count": 50,
     "metadata": {},
     "output_type": "execute_result"
    }
   ],
   "source": [
    "result_all"
   ]
  },
  {
   "cell_type": "markdown",
   "metadata": {},
   "source": [
    "## Выводы\n",
    "Для предсказания рыночной стоимости автомобиля, который клиент хочет продать, были обучены и исследованы три модели: LinearRegression, градиентный бустинг на основе CatBoost и LightGBM. В процессе исследования перебирались гиперпараметры для минимизации метрики RMSE. Также замерялось время подбора гиперпараметров, обучения и предсказания моделей.\n",
    "Из таблицы видно, что наименьшее время обучения потребовалось для линейной регрессии (< 1 сек), но итоговая метрика rmse составила более 3000 евро.\n",
    "Близкие метрики (более 1500 евро, что почти в 2 раза меньше чем для линейной регресии) оказались при обучении модели градиентный бустинг с помощью библиотеки LightGBM и CatBoost. \n",
    "Время обучения и предсказания модели с помощью библиотеки LightGBM составило около 5 секунд и  менее 1й секнды соответственно, в тоже время с помощью CatBoost – более 12 минут обучение и 1,5 секунды - предсказание , что, возможно, объясняется большим количеством итераций. Из-за этого и подбор гиперпараметров затянулся почти на 2 часа. Но положительным достоинством CatBoost является тот факт, что дополнительно нет неообходимости в кадировании категориальных признаков.\n",
    "\n",
    "С учетом вышенаписанного, для работы приложения предсказания стоимости автомобиля с учетом его характеристик рекомендуется использовать градиентный бустинг с помощью библиотеки LightGBM.\n"
   ]
  }
 ],
 "metadata": {
  "ExecuteTimeLog": [
   {
    "duration": 1177,
    "start_time": "2021-07-27T19:03:29.117Z"
   },
   {
    "duration": 1052,
    "start_time": "2021-07-27T19:04:05.295Z"
   },
   {
    "duration": 170,
    "start_time": "2021-07-27T19:04:34.931Z"
   },
   {
    "duration": 1364,
    "start_time": "2021-07-29T17:59:14.276Z"
   },
   {
    "duration": 1132,
    "start_time": "2021-07-29T17:59:17.616Z"
   },
   {
    "duration": 136,
    "start_time": "2021-07-29T18:04:28.561Z"
   },
   {
    "duration": 166,
    "start_time": "2021-07-29T18:04:33.458Z"
   },
   {
    "duration": 63,
    "start_time": "2021-07-29T18:09:04.981Z"
   },
   {
    "duration": 155,
    "start_time": "2021-07-29T18:09:35.752Z"
   },
   {
    "duration": 60,
    "start_time": "2021-07-29T18:09:45.176Z"
   },
   {
    "duration": 575,
    "start_time": "2021-07-29T18:15:50.466Z"
   },
   {
    "duration": 51,
    "start_time": "2021-07-29T18:17:09.489Z"
   },
   {
    "duration": 157,
    "start_time": "2021-07-29T18:17:24.371Z"
   },
   {
    "duration": 309,
    "start_time": "2021-07-29T18:17:38.247Z"
   },
   {
    "duration": 2102,
    "start_time": "2021-07-29T18:28:24.578Z"
   },
   {
    "duration": 109,
    "start_time": "2021-07-29T18:28:41.558Z"
   },
   {
    "duration": 47,
    "start_time": "2021-07-29T18:32:37.261Z"
   },
   {
    "duration": 51,
    "start_time": "2021-07-29T18:33:33.600Z"
   },
   {
    "duration": 25,
    "start_time": "2021-07-29T18:33:58.610Z"
   },
   {
    "duration": 27,
    "start_time": "2021-07-29T18:36:04.193Z"
   },
   {
    "duration": 27,
    "start_time": "2021-07-29T18:37:09.483Z"
   },
   {
    "duration": 983,
    "start_time": "2021-07-30T13:01:27.310Z"
   },
   {
    "duration": 767,
    "start_time": "2021-07-30T13:01:28.295Z"
   },
   {
    "duration": 115,
    "start_time": "2021-07-30T13:01:29.064Z"
   },
   {
    "duration": 20,
    "start_time": "2021-07-30T13:01:29.181Z"
   },
   {
    "duration": 34,
    "start_time": "2021-07-30T13:01:29.203Z"
   },
   {
    "duration": 370,
    "start_time": "2021-07-30T13:01:29.239Z"
   },
   {
    "duration": 95,
    "start_time": "2021-07-30T13:01:29.611Z"
   },
   {
    "duration": 726,
    "start_time": "2021-07-30T13:04:10.721Z"
   },
   {
    "duration": 121,
    "start_time": "2021-07-30T13:04:50.412Z"
   },
   {
    "duration": 18,
    "start_time": "2021-07-30T13:04:52.862Z"
   },
   {
    "duration": 36,
    "start_time": "2021-07-30T13:04:59.843Z"
   },
   {
    "duration": 18,
    "start_time": "2021-07-30T13:08:11.087Z"
   },
   {
    "duration": 18,
    "start_time": "2021-07-30T13:08:21.939Z"
   },
   {
    "duration": 35,
    "start_time": "2021-07-30T13:08:54.264Z"
   },
   {
    "duration": 6,
    "start_time": "2021-07-30T13:09:38.383Z"
   },
   {
    "duration": 17,
    "start_time": "2021-07-30T13:10:15.929Z"
   },
   {
    "duration": 3,
    "start_time": "2021-07-30T13:15:28.511Z"
   },
   {
    "duration": 4,
    "start_time": "2021-07-30T13:15:33.911Z"
   },
   {
    "duration": 319,
    "start_time": "2021-07-30T13:16:41.337Z"
   },
   {
    "duration": 244,
    "start_time": "2021-07-30T13:16:53.890Z"
   },
   {
    "duration": 240,
    "start_time": "2021-07-30T13:17:03.128Z"
   },
   {
    "duration": 330,
    "start_time": "2021-07-30T13:17:37.203Z"
   },
   {
    "duration": 7,
    "start_time": "2021-07-30T13:18:11.214Z"
   },
   {
    "duration": 254,
    "start_time": "2021-07-30T13:18:48.313Z"
   },
   {
    "duration": 252,
    "start_time": "2021-07-30T13:20:02.396Z"
   },
   {
    "duration": 85,
    "start_time": "2021-07-30T13:20:13.658Z"
   },
   {
    "duration": 6076,
    "start_time": "2021-07-30T13:20:19.353Z"
   },
   {
    "duration": 15,
    "start_time": "2021-07-30T13:20:29.227Z"
   },
   {
    "duration": 4,
    "start_time": "2021-07-30T13:21:09.212Z"
   },
   {
    "duration": 762,
    "start_time": "2021-07-30T13:21:28.309Z"
   },
   {
    "duration": 3,
    "start_time": "2021-07-30T13:21:30.932Z"
   },
   {
    "duration": 785,
    "start_time": "2021-07-30T13:21:32.729Z"
   },
   {
    "duration": 4608,
    "start_time": "2021-07-30T13:21:56.959Z"
   },
   {
    "duration": 4183,
    "start_time": "2021-07-30T13:22:13.614Z"
   },
   {
    "duration": 120,
    "start_time": "2021-07-30T13:22:29.843Z"
   },
   {
    "duration": 20,
    "start_time": "2021-07-30T13:24:52.307Z"
   },
   {
    "duration": 325,
    "start_time": "2021-07-30T13:25:08.760Z"
   },
   {
    "duration": 10,
    "start_time": "2021-07-30T13:25:29.494Z"
   },
   {
    "duration": 7,
    "start_time": "2021-07-30T13:25:35.920Z"
   },
   {
    "duration": 6,
    "start_time": "2021-07-30T13:25:43.227Z"
   },
   {
    "duration": 7,
    "start_time": "2021-07-30T13:25:51.407Z"
   },
   {
    "duration": 755,
    "start_time": "2021-07-30T13:26:02.899Z"
   },
   {
    "duration": 15050,
    "start_time": "2021-07-30T13:26:22.532Z"
   },
   {
    "duration": 12,
    "start_time": "2021-07-30T13:34:29.339Z"
   },
   {
    "duration": 57,
    "start_time": "2021-07-30T13:34:37.140Z"
   },
   {
    "duration": 260,
    "start_time": "2021-07-30T13:35:43.980Z"
   },
   {
    "duration": 224,
    "start_time": "2021-07-30T13:35:58.163Z"
   },
   {
    "duration": 229,
    "start_time": "2021-07-30T13:37:17.107Z"
   },
   {
    "duration": 231,
    "start_time": "2021-07-30T13:39:18.999Z"
   },
   {
    "duration": 27,
    "start_time": "2021-07-30T13:39:29.323Z"
   },
   {
    "duration": 31,
    "start_time": "2021-07-30T13:39:56.360Z"
   },
   {
    "duration": 94,
    "start_time": "2021-07-30T13:42:54.782Z"
   },
   {
    "duration": 239,
    "start_time": "2021-07-30T13:43:10.758Z"
   },
   {
    "duration": 49,
    "start_time": "2021-07-30T13:43:18.963Z"
   },
   {
    "duration": 116,
    "start_time": "2021-07-30T13:43:34.001Z"
   },
   {
    "duration": 130,
    "start_time": "2021-07-30T13:44:29.565Z"
   },
   {
    "duration": 388,
    "start_time": "2021-07-30T13:45:26.483Z"
   },
   {
    "duration": 224,
    "start_time": "2021-07-30T13:45:37.073Z"
   },
   {
    "duration": 58,
    "start_time": "2021-07-30T13:46:48.347Z"
   },
   {
    "duration": 64,
    "start_time": "2021-07-30T13:47:36.219Z"
   },
   {
    "duration": 57,
    "start_time": "2021-07-30T13:47:38.601Z"
   },
   {
    "duration": 3,
    "start_time": "2021-07-30T13:48:19.539Z"
   },
   {
    "duration": 4,
    "start_time": "2021-07-30T13:48:23.464Z"
   },
   {
    "duration": 3,
    "start_time": "2021-07-30T13:48:29.489Z"
   },
   {
    "duration": 53,
    "start_time": "2021-07-30T13:48:49.255Z"
   },
   {
    "duration": 55,
    "start_time": "2021-07-30T13:48:52.982Z"
   },
   {
    "duration": 4,
    "start_time": "2021-07-30T13:48:56.723Z"
   },
   {
    "duration": 4,
    "start_time": "2021-07-30T13:48:59.256Z"
   },
   {
    "duration": 54,
    "start_time": "2021-07-30T13:55:04.864Z"
   },
   {
    "duration": 56,
    "start_time": "2021-07-30T13:55:08.102Z"
   },
   {
    "duration": 3,
    "start_time": "2021-07-30T13:57:32.580Z"
   },
   {
    "duration": 12,
    "start_time": "2021-07-30T13:57:35.098Z"
   },
   {
    "duration": 4,
    "start_time": "2021-07-30T13:57:38.867Z"
   },
   {
    "duration": 4,
    "start_time": "2021-07-30T13:57:41.021Z"
   },
   {
    "duration": 35,
    "start_time": "2021-07-30T14:08:16.497Z"
   },
   {
    "duration": 30,
    "start_time": "2021-07-30T14:11:19.144Z"
   },
   {
    "duration": 252,
    "start_time": "2021-07-30T14:18:07.845Z"
   },
   {
    "duration": 47,
    "start_time": "2021-07-30T14:18:22.171Z"
   },
   {
    "duration": 60,
    "start_time": "2021-07-30T14:18:40.629Z"
   },
   {
    "duration": 81,
    "start_time": "2021-07-30T14:19:43.811Z"
   },
   {
    "duration": 73,
    "start_time": "2021-07-30T14:20:13.947Z"
   },
   {
    "duration": 119,
    "start_time": "2021-07-30T14:20:29.269Z"
   },
   {
    "duration": 115,
    "start_time": "2021-07-30T14:20:40.253Z"
   },
   {
    "duration": 57,
    "start_time": "2021-07-30T14:21:12.670Z"
   },
   {
    "duration": 117,
    "start_time": "2021-07-30T14:21:18.500Z"
   },
   {
    "duration": 237,
    "start_time": "2021-07-30T14:22:26.581Z"
   },
   {
    "duration": 216,
    "start_time": "2021-07-30T14:22:28.302Z"
   },
   {
    "duration": 118,
    "start_time": "2021-07-30T14:22:37.262Z"
   },
   {
    "duration": 52,
    "start_time": "2021-07-30T14:22:55.783Z"
   },
   {
    "duration": 27,
    "start_time": "2021-07-30T14:25:50.082Z"
   },
   {
    "duration": 28,
    "start_time": "2021-07-30T14:25:52.109Z"
   },
   {
    "duration": 4,
    "start_time": "2021-07-30T14:26:08.813Z"
   },
   {
    "duration": 220,
    "start_time": "2021-07-30T14:27:02.491Z"
   },
   {
    "duration": 312,
    "start_time": "2021-07-30T14:28:00.424Z"
   },
   {
    "duration": 44,
    "start_time": "2021-07-30T14:29:13.538Z"
   },
   {
    "duration": 240,
    "start_time": "2021-07-30T14:38:32.301Z"
   },
   {
    "duration": 38,
    "start_time": "2021-07-30T14:39:25.243Z"
   },
   {
    "duration": 56,
    "start_time": "2021-07-30T14:39:42.573Z"
   },
   {
    "duration": 87,
    "start_time": "2021-07-30T14:49:36.314Z"
   },
   {
    "duration": 5983,
    "start_time": "2021-07-30T14:49:51.175Z"
   },
   {
    "duration": 6406,
    "start_time": "2021-07-30T14:50:29.950Z"
   },
   {
    "duration": 5873,
    "start_time": "2021-07-30T14:50:44.198Z"
   },
   {
    "duration": 642,
    "start_time": "2021-07-30T14:51:08.413Z"
   },
   {
    "duration": 105,
    "start_time": "2021-07-30T14:51:09.207Z"
   },
   {
    "duration": 19,
    "start_time": "2021-07-30T14:51:10.025Z"
   },
   {
    "duration": 17,
    "start_time": "2021-07-30T14:51:10.875Z"
   },
   {
    "duration": 34,
    "start_time": "2021-07-30T14:51:11.559Z"
   },
   {
    "duration": 272,
    "start_time": "2021-07-30T14:51:12.163Z"
   },
   {
    "duration": 78,
    "start_time": "2021-07-30T14:51:12.854Z"
   },
   {
    "duration": 3,
    "start_time": "2021-07-30T14:51:14.411Z"
   },
   {
    "duration": 13473,
    "start_time": "2021-07-30T14:51:15.765Z"
   },
   {
    "duration": 6,
    "start_time": "2021-07-30T14:51:30.710Z"
   },
   {
    "duration": 57,
    "start_time": "2021-07-30T14:51:32.364Z"
   },
   {
    "duration": 219,
    "start_time": "2021-07-30T14:51:33.630Z"
   },
   {
    "duration": 2,
    "start_time": "2021-07-30T14:53:38.330Z"
   },
   {
    "duration": 62,
    "start_time": "2021-07-30T14:53:39.511Z"
   },
   {
    "duration": 224,
    "start_time": "2021-07-30T14:53:41.312Z"
   },
   {
    "duration": 32,
    "start_time": "2021-07-30T14:53:44.560Z"
   },
   {
    "duration": 69,
    "start_time": "2021-07-30T14:53:47.038Z"
   },
   {
    "duration": 61,
    "start_time": "2021-07-30T14:53:48.814Z"
   },
   {
    "duration": 138,
    "start_time": "2021-07-30T14:53:54.271Z"
   },
   {
    "duration": 226,
    "start_time": "2021-07-30T14:53:57.149Z"
   },
   {
    "duration": 6135,
    "start_time": "2021-07-30T14:54:02.753Z"
   },
   {
    "duration": 7822,
    "start_time": "2021-07-30T14:54:28.082Z"
   },
   {
    "duration": 6432,
    "start_time": "2021-07-30T14:54:53.186Z"
   },
   {
    "duration": 231,
    "start_time": "2021-07-30T14:55:14.019Z"
   },
   {
    "duration": 5829,
    "start_time": "2021-07-30T14:55:20.491Z"
   },
   {
    "duration": 57,
    "start_time": "2021-07-30T14:56:20.069Z"
   },
   {
    "duration": 53,
    "start_time": "2021-07-30T14:56:53.064Z"
   },
   {
    "duration": 72,
    "start_time": "2021-07-30T15:00:19.612Z"
   },
   {
    "duration": 2,
    "start_time": "2021-07-30T15:00:34.457Z"
   },
   {
    "duration": 3,
    "start_time": "2021-07-30T15:00:40.200Z"
   },
   {
    "duration": 247,
    "start_time": "2021-07-30T15:00:47.289Z"
   },
   {
    "duration": 77,
    "start_time": "2021-07-30T15:01:02.764Z"
   },
   {
    "duration": 303,
    "start_time": "2021-07-30T15:01:18.425Z"
   },
   {
    "duration": 85,
    "start_time": "2021-07-30T15:02:12.552Z"
   },
   {
    "duration": 84,
    "start_time": "2021-07-30T15:02:44.223Z"
   },
   {
    "duration": 23,
    "start_time": "2021-07-30T15:02:46.645Z"
   },
   {
    "duration": 225,
    "start_time": "2021-07-30T15:03:55.883Z"
   },
   {
    "duration": 57,
    "start_time": "2021-07-30T15:04:30.135Z"
   },
   {
    "duration": 952,
    "start_time": "2021-07-30T18:52:32.428Z"
   },
   {
    "duration": 719,
    "start_time": "2021-07-30T18:52:33.382Z"
   },
   {
    "duration": 120,
    "start_time": "2021-07-30T18:52:34.103Z"
   },
   {
    "duration": 17,
    "start_time": "2021-07-30T18:52:34.224Z"
   },
   {
    "duration": 26,
    "start_time": "2021-07-30T18:52:34.243Z"
   },
   {
    "duration": 51,
    "start_time": "2021-07-30T18:52:34.271Z"
   },
   {
    "duration": 355,
    "start_time": "2021-07-30T18:52:34.323Z"
   },
   {
    "duration": 82,
    "start_time": "2021-07-30T18:52:34.680Z"
   },
   {
    "duration": 2,
    "start_time": "2021-07-30T18:52:34.764Z"
   },
   {
    "duration": 12,
    "start_time": "2021-07-30T18:52:34.767Z"
   },
   {
    "duration": 19,
    "start_time": "2021-07-30T18:52:34.781Z"
   },
   {
    "duration": 74,
    "start_time": "2021-07-30T18:52:34.801Z"
   },
   {
    "duration": 292,
    "start_time": "2021-07-30T18:52:34.877Z"
   },
   {
    "duration": 42,
    "start_time": "2021-07-30T18:52:35.171Z"
   },
   {
    "duration": 77,
    "start_time": "2021-07-30T18:52:35.215Z"
   },
   {
    "duration": 61,
    "start_time": "2021-07-30T18:52:35.294Z"
   },
   {
    "duration": 157,
    "start_time": "2021-07-30T18:52:35.356Z"
   },
   {
    "duration": 236,
    "start_time": "2021-07-30T18:52:35.515Z"
   },
   {
    "duration": 78,
    "start_time": "2021-07-30T18:52:35.752Z"
   },
   {
    "duration": 21,
    "start_time": "2021-07-30T18:52:35.832Z"
   },
   {
    "duration": 238,
    "start_time": "2021-07-30T18:52:35.855Z"
   },
   {
    "duration": 4,
    "start_time": "2021-07-30T18:52:36.095Z"
   },
   {
    "duration": 66,
    "start_time": "2021-07-30T18:52:36.102Z"
   },
   {
    "duration": 3,
    "start_time": "2021-07-30T19:08:13.673Z"
   },
   {
    "duration": 987,
    "start_time": "2021-07-30T19:08:19.391Z"
   },
   {
    "duration": 728,
    "start_time": "2021-07-30T19:08:20.380Z"
   },
   {
    "duration": 115,
    "start_time": "2021-07-30T19:08:21.109Z"
   },
   {
    "duration": 17,
    "start_time": "2021-07-30T19:08:21.226Z"
   },
   {
    "duration": 19,
    "start_time": "2021-07-30T19:08:21.244Z"
   },
   {
    "duration": 51,
    "start_time": "2021-07-30T19:08:21.264Z"
   },
   {
    "duration": 365,
    "start_time": "2021-07-30T19:08:21.316Z"
   },
   {
    "duration": 81,
    "start_time": "2021-07-30T19:08:21.683Z"
   },
   {
    "duration": 2,
    "start_time": "2021-07-30T19:08:21.766Z"
   },
   {
    "duration": 21,
    "start_time": "2021-07-30T19:08:21.770Z"
   },
   {
    "duration": 2,
    "start_time": "2021-07-30T19:08:21.793Z"
   },
   {
    "duration": 62,
    "start_time": "2021-07-30T19:08:21.796Z"
   },
   {
    "duration": 310,
    "start_time": "2021-07-30T19:08:21.860Z"
   },
   {
    "duration": 44,
    "start_time": "2021-07-30T19:08:22.172Z"
   },
   {
    "duration": 80,
    "start_time": "2021-07-30T19:08:22.217Z"
   },
   {
    "duration": 60,
    "start_time": "2021-07-30T19:08:22.299Z"
   },
   {
    "duration": 153,
    "start_time": "2021-07-30T19:08:22.361Z"
   },
   {
    "duration": 236,
    "start_time": "2021-07-30T19:08:22.516Z"
   },
   {
    "duration": 78,
    "start_time": "2021-07-30T19:08:22.753Z"
   },
   {
    "duration": 21,
    "start_time": "2021-07-30T19:08:22.833Z"
   },
   {
    "duration": 236,
    "start_time": "2021-07-30T19:08:22.856Z"
   },
   {
    "duration": 3,
    "start_time": "2021-07-30T19:08:23.094Z"
   },
   {
    "duration": 55,
    "start_time": "2021-07-30T19:08:23.099Z"
   },
   {
    "duration": 3,
    "start_time": "2021-07-30T19:10:46.362Z"
   },
   {
    "duration": 75,
    "start_time": "2021-07-30T19:17:59.516Z"
   },
   {
    "duration": 231,
    "start_time": "2021-07-30T19:18:24.788Z"
   },
   {
    "duration": 437,
    "start_time": "2021-07-30T19:19:40.397Z"
   },
   {
    "duration": 398,
    "start_time": "2021-07-30T19:22:39.091Z"
   },
   {
    "duration": 87,
    "start_time": "2021-07-30T19:22:45.917Z"
   },
   {
    "duration": 157,
    "start_time": "2021-07-30T19:25:20.804Z"
   },
   {
    "duration": 243,
    "start_time": "2021-07-30T19:25:39.092Z"
   },
   {
    "duration": 17,
    "start_time": "2021-07-30T19:25:58.262Z"
   },
   {
    "duration": 59,
    "start_time": "2021-07-30T19:27:01.677Z"
   },
   {
    "duration": 51,
    "start_time": "2021-07-30T19:29:44.399Z"
   },
   {
    "duration": 371,
    "start_time": "2021-07-30T19:30:19.859Z"
   },
   {
    "duration": 37,
    "start_time": "2021-07-30T19:32:28.859Z"
   },
   {
    "duration": 72,
    "start_time": "2021-07-30T19:32:32.180Z"
   },
   {
    "duration": 361,
    "start_time": "2021-07-30T19:32:42.419Z"
   },
   {
    "duration": 4,
    "start_time": "2021-07-30T19:32:50.798Z"
   },
   {
    "duration": 50,
    "start_time": "2021-07-30T19:32:52.724Z"
   },
   {
    "duration": 58,
    "start_time": "2021-07-30T19:32:58.293Z"
   },
   {
    "duration": 1203,
    "start_time": "2021-07-30T19:34:54.266Z"
   },
   {
    "duration": 327,
    "start_time": "2021-07-30T19:50:11.695Z"
   },
   {
    "duration": 12,
    "start_time": "2021-07-30T19:50:16.254Z"
   },
   {
    "duration": 245,
    "start_time": "2021-07-30T19:55:05.403Z"
   },
   {
    "duration": 11,
    "start_time": "2021-07-30T19:57:56.819Z"
   },
   {
    "duration": 243,
    "start_time": "2021-07-30T19:58:16.095Z"
   },
   {
    "duration": 277,
    "start_time": "2021-07-30T20:00:09.577Z"
   },
   {
    "duration": 251,
    "start_time": "2021-07-30T20:00:17.767Z"
   },
   {
    "duration": 18,
    "start_time": "2021-07-30T20:03:15.479Z"
   },
   {
    "duration": 251,
    "start_time": "2021-07-30T20:03:22.105Z"
   },
   {
    "duration": 244,
    "start_time": "2021-07-30T20:05:28.130Z"
   },
   {
    "duration": 20,
    "start_time": "2021-07-30T20:05:36.823Z"
   },
   {
    "duration": 676,
    "start_time": "2021-07-30T20:10:05.892Z"
   },
   {
    "duration": 310,
    "start_time": "2021-07-30T20:10:36.865Z"
   },
   {
    "duration": 288,
    "start_time": "2021-07-30T20:10:46.887Z"
   },
   {
    "duration": 19,
    "start_time": "2021-07-30T20:10:48.688Z"
   },
   {
    "duration": 18,
    "start_time": "2021-07-30T20:11:15.810Z"
   },
   {
    "duration": 93,
    "start_time": "2021-07-30T20:11:20.065Z"
   },
   {
    "duration": 2,
    "start_time": "2021-07-30T20:11:32.709Z"
   },
   {
    "duration": 3,
    "start_time": "2021-07-30T20:11:34.030Z"
   },
   {
    "duration": 3,
    "start_time": "2021-07-30T20:11:57.056Z"
   },
   {
    "duration": 80,
    "start_time": "2021-07-30T20:12:02.320Z"
   },
   {
    "duration": 28,
    "start_time": "2021-07-30T20:12:47.521Z"
   },
   {
    "duration": 253,
    "start_time": "2021-07-30T20:44:02.756Z"
   },
   {
    "duration": 271,
    "start_time": "2021-07-30T20:44:17.800Z"
   },
   {
    "duration": 3,
    "start_time": "2021-07-30T20:44:20.739Z"
   },
   {
    "duration": 7,
    "start_time": "2021-07-30T20:44:27.641Z"
   },
   {
    "duration": 13,
    "start_time": "2021-07-30T20:45:10.914Z"
   },
   {
    "duration": 13,
    "start_time": "2021-07-30T20:45:43.720Z"
   },
   {
    "duration": 8,
    "start_time": "2021-07-30T20:45:55.604Z"
   },
   {
    "duration": 538,
    "start_time": "2021-07-30T20:46:22.377Z"
   },
   {
    "duration": 8,
    "start_time": "2021-07-30T20:46:50.554Z"
   },
   {
    "duration": 14,
    "start_time": "2021-07-30T20:46:56.518Z"
   },
   {
    "duration": 256,
    "start_time": "2021-07-30T20:47:42.112Z"
   },
   {
    "duration": 47,
    "start_time": "2021-07-30T20:47:44.045Z"
   },
   {
    "duration": 18,
    "start_time": "2021-07-30T20:47:45.845Z"
   },
   {
    "duration": 11,
    "start_time": "2021-07-30T20:49:44.689Z"
   },
   {
    "duration": 24,
    "start_time": "2021-07-30T20:50:15.683Z"
   },
   {
    "duration": 14,
    "start_time": "2021-07-30T20:50:17.832Z"
   },
   {
    "duration": 17,
    "start_time": "2021-07-30T20:51:55.960Z"
   },
   {
    "duration": 13,
    "start_time": "2021-07-30T20:52:01.686Z"
   },
   {
    "duration": 13,
    "start_time": "2021-07-30T20:52:03.382Z"
   },
   {
    "duration": 1407,
    "start_time": "2021-08-01T16:12:37.985Z"
   },
   {
    "duration": 1195,
    "start_time": "2021-08-01T16:12:39.395Z"
   },
   {
    "duration": 172,
    "start_time": "2021-08-01T16:12:40.593Z"
   },
   {
    "duration": 35,
    "start_time": "2021-08-01T16:12:40.768Z"
   },
   {
    "duration": 29,
    "start_time": "2021-08-01T16:12:40.806Z"
   },
   {
    "duration": 73,
    "start_time": "2021-08-01T16:12:40.837Z"
   },
   {
    "duration": 556,
    "start_time": "2021-08-01T16:12:40.913Z"
   },
   {
    "duration": 11,
    "start_time": "2021-08-01T16:12:41.474Z"
   },
   {
    "duration": 131,
    "start_time": "2021-08-01T16:12:41.489Z"
   },
   {
    "duration": 4,
    "start_time": "2021-08-01T16:12:41.623Z"
   },
   {
    "duration": 13,
    "start_time": "2021-08-01T16:12:41.630Z"
   },
   {
    "duration": 8,
    "start_time": "2021-08-01T16:12:41.645Z"
   },
   {
    "duration": 9,
    "start_time": "2021-08-01T16:12:41.655Z"
   },
   {
    "duration": 123,
    "start_time": "2021-08-01T16:12:41.666Z"
   },
   {
    "duration": 564,
    "start_time": "2021-08-01T16:12:41.791Z"
   },
   {
    "duration": 439,
    "start_time": "2021-08-01T16:12:42.358Z"
   },
   {
    "duration": 55,
    "start_time": "2021-08-01T16:12:42.799Z"
   },
   {
    "duration": 130,
    "start_time": "2021-08-01T16:12:42.857Z"
   },
   {
    "duration": 120,
    "start_time": "2021-08-01T16:12:42.989Z"
   },
   {
    "duration": 234,
    "start_time": "2021-08-01T16:12:43.112Z"
   },
   {
    "duration": 75,
    "start_time": "2021-08-01T16:12:43.350Z"
   },
   {
    "duration": 477,
    "start_time": "2021-08-01T16:12:43.429Z"
   },
   {
    "duration": 135,
    "start_time": "2021-08-01T16:12:43.910Z"
   },
   {
    "duration": 126,
    "start_time": "2021-08-01T16:12:44.048Z"
   },
   {
    "duration": 94,
    "start_time": "2021-08-01T16:12:44.177Z"
   },
   {
    "duration": 447,
    "start_time": "2021-08-01T16:12:44.287Z"
   },
   {
    "duration": 5,
    "start_time": "2021-08-01T16:12:44.737Z"
   },
   {
    "duration": 107,
    "start_time": "2021-08-01T16:12:44.744Z"
   },
   {
    "duration": 37,
    "start_time": "2021-08-01T16:12:44.853Z"
   },
   {
    "duration": 521,
    "start_time": "2021-08-01T16:12:44.892Z"
   },
   {
    "duration": 1851,
    "start_time": "2021-08-01T16:12:43.565Z"
   },
   {
    "duration": 1840,
    "start_time": "2021-08-01T16:12:43.577Z"
   },
   {
    "duration": 1834,
    "start_time": "2021-08-01T16:12:43.585Z"
   },
   {
    "duration": 578,
    "start_time": "2021-08-01T16:12:58.637Z"
   },
   {
    "duration": 20,
    "start_time": "2021-08-01T16:13:02.923Z"
   },
   {
    "duration": 15,
    "start_time": "2021-08-01T16:13:04.938Z"
   },
   {
    "duration": 25,
    "start_time": "2021-08-01T16:13:06.653Z"
   },
   {
    "duration": 20,
    "start_time": "2021-08-01T16:15:20.214Z"
   },
   {
    "duration": 132,
    "start_time": "2021-08-01T16:34:58.494Z"
   },
   {
    "duration": 5,
    "start_time": "2021-08-01T16:35:03.323Z"
   },
   {
    "duration": 796,
    "start_time": "2021-08-01T16:36:43.628Z"
   },
   {
    "duration": 72,
    "start_time": "2021-08-01T16:37:05.785Z"
   },
   {
    "duration": 65,
    "start_time": "2021-08-01T16:37:13.558Z"
   },
   {
    "duration": 427,
    "start_time": "2021-08-01T16:37:16.642Z"
   },
   {
    "duration": 24,
    "start_time": "2021-08-01T16:37:49.969Z"
   },
   {
    "duration": 397,
    "start_time": "2021-08-01T16:37:58.930Z"
   },
   {
    "duration": 177,
    "start_time": "2021-08-01T16:38:11.808Z"
   },
   {
    "duration": 375,
    "start_time": "2021-08-01T16:38:51.843Z"
   },
   {
    "duration": 8,
    "start_time": "2021-08-01T16:39:18.198Z"
   },
   {
    "duration": 6,
    "start_time": "2021-08-01T16:40:56.985Z"
   },
   {
    "duration": 7,
    "start_time": "2021-08-01T16:44:26.972Z"
   },
   {
    "duration": 399,
    "start_time": "2021-08-01T16:44:42.433Z"
   },
   {
    "duration": 8,
    "start_time": "2021-08-01T16:44:45.773Z"
   },
   {
    "duration": 191,
    "start_time": "2021-08-01T16:45:59.303Z"
   },
   {
    "duration": 6,
    "start_time": "2021-08-01T16:46:04.877Z"
   },
   {
    "duration": 10,
    "start_time": "2021-08-01T16:46:15.142Z"
   },
   {
    "duration": 23,
    "start_time": "2021-08-01T16:46:52.918Z"
   },
   {
    "duration": 382,
    "start_time": "2021-08-01T16:48:03.462Z"
   },
   {
    "duration": 7,
    "start_time": "2021-08-01T16:48:17.091Z"
   },
   {
    "duration": 51,
    "start_time": "2021-08-01T16:48:48.265Z"
   },
   {
    "duration": 7,
    "start_time": "2021-08-01T16:49:09.444Z"
   },
   {
    "duration": 12,
    "start_time": "2021-08-01T16:50:37.911Z"
   },
   {
    "duration": 4,
    "start_time": "2021-08-01T16:50:44.348Z"
   },
   {
    "duration": 42,
    "start_time": "2021-08-01T16:50:46.718Z"
   },
   {
    "duration": 13,
    "start_time": "2021-08-01T16:50:48.728Z"
   },
   {
    "duration": 50,
    "start_time": "2021-08-01T16:50:52.538Z"
   },
   {
    "duration": 7,
    "start_time": "2021-08-01T16:50:54.770Z"
   },
   {
    "duration": 7,
    "start_time": "2021-08-01T16:50:56.752Z"
   },
   {
    "duration": 8,
    "start_time": "2021-08-01T16:51:52.780Z"
   },
   {
    "duration": 400,
    "start_time": "2021-08-01T16:54:07.342Z"
   },
   {
    "duration": 356,
    "start_time": "2021-08-01T16:54:22.575Z"
   },
   {
    "duration": 313,
    "start_time": "2021-08-01T16:54:48.679Z"
   },
   {
    "duration": 313,
    "start_time": "2021-08-01T16:55:25.815Z"
   },
   {
    "duration": 8,
    "start_time": "2021-08-01T16:55:51.548Z"
   },
   {
    "duration": 4,
    "start_time": "2021-08-01T16:58:56.652Z"
   },
   {
    "duration": 7,
    "start_time": "2021-08-01T16:59:30.265Z"
   },
   {
    "duration": 18,
    "start_time": "2021-08-01T17:00:26.383Z"
   },
   {
    "duration": 20,
    "start_time": "2021-08-01T17:00:29.948Z"
   },
   {
    "duration": 4,
    "start_time": "2021-08-01T17:00:31.619Z"
   },
   {
    "duration": 58,
    "start_time": "2021-08-01T17:00:33.229Z"
   },
   {
    "duration": 8,
    "start_time": "2021-08-01T17:00:33.855Z"
   },
   {
    "duration": 135,
    "start_time": "2021-08-01T17:00:36.365Z"
   },
   {
    "duration": 7,
    "start_time": "2021-08-01T17:00:37.159Z"
   },
   {
    "duration": 8,
    "start_time": "2021-08-01T17:00:40.819Z"
   },
   {
    "duration": 7,
    "start_time": "2021-08-01T17:00:43.503Z"
   },
   {
    "duration": 341,
    "start_time": "2021-08-01T17:00:49.047Z"
   },
   {
    "duration": 386,
    "start_time": "2021-08-01T17:03:50.026Z"
   },
   {
    "duration": 392,
    "start_time": "2021-08-01T17:04:23.001Z"
   },
   {
    "duration": 124,
    "start_time": "2021-08-01T17:05:08.064Z"
   },
   {
    "duration": 6,
    "start_time": "2021-08-01T17:05:11.525Z"
   },
   {
    "duration": 7,
    "start_time": "2021-08-01T17:05:12.800Z"
   },
   {
    "duration": 210,
    "start_time": "2021-08-01T17:05:23.076Z"
   },
   {
    "duration": 5,
    "start_time": "2021-08-01T17:16:39.048Z"
   },
   {
    "duration": 148,
    "start_time": "2021-08-01T17:20:20.139Z"
   },
   {
    "duration": 172,
    "start_time": "2021-08-01T17:20:34.923Z"
   },
   {
    "duration": 198,
    "start_time": "2021-08-01T17:20:49.804Z"
   },
   {
    "duration": 370,
    "start_time": "2021-08-01T17:44:36.017Z"
   },
   {
    "duration": 13145,
    "start_time": "2021-08-01T17:48:43.712Z"
   },
   {
    "duration": 13038,
    "start_time": "2021-08-01T17:49:35.640Z"
   },
   {
    "duration": 95,
    "start_time": "2021-08-01T17:50:59.040Z"
   },
   {
    "duration": 1347,
    "start_time": "2021-08-01T17:52:08.538Z"
   },
   {
    "duration": 1086,
    "start_time": "2021-08-01T17:52:09.888Z"
   },
   {
    "duration": 168,
    "start_time": "2021-08-01T17:52:10.978Z"
   },
   {
    "duration": 35,
    "start_time": "2021-08-01T17:52:11.149Z"
   },
   {
    "duration": 24,
    "start_time": "2021-08-01T17:52:11.186Z"
   },
   {
    "duration": 81,
    "start_time": "2021-08-01T17:52:11.212Z"
   },
   {
    "duration": 528,
    "start_time": "2021-08-01T17:52:11.295Z"
   },
   {
    "duration": 3,
    "start_time": "2021-08-01T17:52:11.827Z"
   },
   {
    "duration": 142,
    "start_time": "2021-08-01T17:52:11.833Z"
   },
   {
    "duration": 9,
    "start_time": "2021-08-01T17:52:11.977Z"
   },
   {
    "duration": 8,
    "start_time": "2021-08-01T17:52:11.989Z"
   },
   {
    "duration": 11,
    "start_time": "2021-08-01T17:52:11.999Z"
   },
   {
    "duration": 13,
    "start_time": "2021-08-01T17:52:12.013Z"
   },
   {
    "duration": 123,
    "start_time": "2021-08-01T17:52:12.028Z"
   },
   {
    "duration": 554,
    "start_time": "2021-08-01T17:52:12.154Z"
   },
   {
    "duration": 423,
    "start_time": "2021-08-01T17:52:12.711Z"
   },
   {
    "duration": 70,
    "start_time": "2021-08-01T17:52:13.137Z"
   },
   {
    "duration": 116,
    "start_time": "2021-08-01T17:52:13.210Z"
   },
   {
    "duration": 133,
    "start_time": "2021-08-01T17:52:13.328Z"
   },
   {
    "duration": 230,
    "start_time": "2021-08-01T17:52:13.463Z"
   },
   {
    "duration": 91,
    "start_time": "2021-08-01T17:52:13.696Z"
   },
   {
    "duration": 513,
    "start_time": "2021-08-01T17:52:13.790Z"
   },
   {
    "duration": 132,
    "start_time": "2021-08-01T17:52:14.308Z"
   },
   {
    "duration": 125,
    "start_time": "2021-08-01T17:52:14.443Z"
   },
   {
    "duration": 93,
    "start_time": "2021-08-01T17:52:14.571Z"
   },
   {
    "duration": 431,
    "start_time": "2021-08-01T17:52:14.667Z"
   },
   {
    "duration": 6,
    "start_time": "2021-08-01T17:52:15.100Z"
   },
   {
    "duration": 114,
    "start_time": "2021-08-01T17:52:15.108Z"
   },
   {
    "duration": 21,
    "start_time": "2021-08-01T17:52:15.224Z"
   },
   {
    "duration": 597,
    "start_time": "2021-08-01T17:52:15.248Z"
   },
   {
    "duration": 17,
    "start_time": "2021-08-01T17:52:15.847Z"
   },
   {
    "duration": 29,
    "start_time": "2021-08-01T17:52:15.867Z"
   },
   {
    "duration": 22,
    "start_time": "2021-08-01T17:52:15.898Z"
   },
   {
    "duration": 15,
    "start_time": "2021-08-01T17:52:15.922Z"
   },
   {
    "duration": 47,
    "start_time": "2021-08-01T17:52:15.940Z"
   },
   {
    "duration": 68,
    "start_time": "2021-08-01T17:52:15.989Z"
   },
   {
    "duration": 7,
    "start_time": "2021-08-01T17:52:16.060Z"
   },
   {
    "duration": 204,
    "start_time": "2021-08-01T17:52:16.085Z"
   },
   {
    "duration": 95,
    "start_time": "2021-08-01T17:52:16.293Z"
   },
   {
    "duration": 98,
    "start_time": "2021-08-01T17:52:16.390Z"
   },
   {
    "duration": 5,
    "start_time": "2021-08-01T17:52:16.490Z"
   },
   {
    "duration": 376,
    "start_time": "2021-08-01T17:52:16.497Z"
   },
   {
    "duration": 13249,
    "start_time": "2021-08-01T17:52:16.875Z"
   },
   {
    "duration": 78,
    "start_time": "2021-08-01T17:53:14.440Z"
   },
   {
    "duration": 29,
    "start_time": "2021-08-01T17:53:30.629Z"
   },
   {
    "duration": 10,
    "start_time": "2021-08-01T17:55:14.972Z"
   },
   {
    "duration": 13346,
    "start_time": "2021-08-01T17:55:26.642Z"
   },
   {
    "duration": 12773,
    "start_time": "2021-08-01T17:55:56.113Z"
   },
   {
    "duration": 7,
    "start_time": "2021-08-01T17:56:32.248Z"
   },
   {
    "duration": 26,
    "start_time": "2021-08-01T17:56:43.075Z"
   },
   {
    "duration": 438,
    "start_time": "2021-08-01T17:57:31.747Z"
   },
   {
    "duration": 201,
    "start_time": "2021-08-01T17:57:33.886Z"
   },
   {
    "duration": 7,
    "start_time": "2021-08-01T17:57:36.209Z"
   },
   {
    "duration": 10,
    "start_time": "2021-08-01T17:59:28.427Z"
   },
   {
    "duration": 21,
    "start_time": "2021-08-01T17:59:38.649Z"
   },
   {
    "duration": 7,
    "start_time": "2021-08-01T17:59:58.704Z"
   },
   {
    "duration": 365650,
    "start_time": "2021-08-01T18:05:06.009Z"
   },
   {
    "duration": 2637,
    "start_time": "2021-08-01T18:11:13.356Z"
   },
   {
    "duration": 7,
    "start_time": "2021-08-01T18:11:36.683Z"
   },
   {
    "duration": 7,
    "start_time": "2021-08-01T18:11:46.563Z"
   },
   {
    "duration": 8,
    "start_time": "2021-08-01T18:12:49.196Z"
   },
   {
    "duration": 732,
    "start_time": "2021-08-01T18:12:53.654Z"
   },
   {
    "duration": 124622,
    "start_time": "2021-08-01T18:14:41.003Z"
   },
   {
    "duration": 1415,
    "start_time": "2021-08-01T18:16:59.023Z"
   },
   {
    "duration": 1165,
    "start_time": "2021-08-01T18:17:00.441Z"
   },
   {
    "duration": 163,
    "start_time": "2021-08-01T18:17:01.609Z"
   },
   {
    "duration": 28,
    "start_time": "2021-08-01T18:17:01.786Z"
   },
   {
    "duration": 35,
    "start_time": "2021-08-01T18:17:01.817Z"
   },
   {
    "duration": 77,
    "start_time": "2021-08-01T18:17:01.854Z"
   },
   {
    "duration": 544,
    "start_time": "2021-08-01T18:17:01.933Z"
   },
   {
    "duration": 5,
    "start_time": "2021-08-01T18:17:02.481Z"
   },
   {
    "duration": 159,
    "start_time": "2021-08-01T18:17:02.489Z"
   },
   {
    "duration": 3,
    "start_time": "2021-08-01T18:17:02.651Z"
   },
   {
    "duration": 16,
    "start_time": "2021-08-01T18:17:02.657Z"
   },
   {
    "duration": 7,
    "start_time": "2021-08-01T18:17:02.686Z"
   },
   {
    "duration": 16,
    "start_time": "2021-08-01T18:17:02.695Z"
   },
   {
    "duration": 121,
    "start_time": "2021-08-01T18:17:02.714Z"
   },
   {
    "duration": 578,
    "start_time": "2021-08-01T18:17:02.838Z"
   },
   {
    "duration": 435,
    "start_time": "2021-08-01T18:17:03.418Z"
   },
   {
    "duration": 68,
    "start_time": "2021-08-01T18:17:03.855Z"
   },
   {
    "duration": 114,
    "start_time": "2021-08-01T18:17:03.926Z"
   },
   {
    "duration": 123,
    "start_time": "2021-08-01T18:17:04.043Z"
   },
   {
    "duration": 232,
    "start_time": "2021-08-01T18:17:04.169Z"
   },
   {
    "duration": 62,
    "start_time": "2021-08-01T18:17:04.404Z"
   },
   {
    "duration": 445,
    "start_time": "2021-08-01T18:17:04.486Z"
   },
   {
    "duration": 129,
    "start_time": "2021-08-01T18:17:04.936Z"
   },
   {
    "duration": 129,
    "start_time": "2021-08-01T18:17:05.069Z"
   },
   {
    "duration": 98,
    "start_time": "2021-08-01T18:17:05.200Z"
   },
   {
    "duration": 538,
    "start_time": "2021-08-01T18:17:05.300Z"
   },
   {
    "duration": 6,
    "start_time": "2021-08-01T18:17:05.840Z"
   },
   {
    "duration": 115,
    "start_time": "2021-08-01T18:17:05.848Z"
   },
   {
    "duration": 30,
    "start_time": "2021-08-01T18:17:05.965Z"
   },
   {
    "duration": 630,
    "start_time": "2021-08-01T18:17:05.997Z"
   },
   {
    "duration": 18,
    "start_time": "2021-08-01T18:17:06.630Z"
   },
   {
    "duration": 111,
    "start_time": "2021-08-01T18:17:06.651Z"
   },
   {
    "duration": 28,
    "start_time": "2021-08-01T18:17:06.765Z"
   },
   {
    "duration": 16,
    "start_time": "2021-08-01T18:17:06.796Z"
   },
   {
    "duration": 12,
    "start_time": "2021-08-01T18:17:06.815Z"
   },
   {
    "duration": 95,
    "start_time": "2021-08-01T18:17:06.829Z"
   },
   {
    "duration": 10,
    "start_time": "2021-08-01T18:17:06.927Z"
   },
   {
    "duration": 246,
    "start_time": "2021-08-01T18:17:06.940Z"
   },
   {
    "duration": 7,
    "start_time": "2021-08-01T18:17:07.188Z"
   },
   {
    "duration": 114,
    "start_time": "2021-08-01T18:17:07.198Z"
   },
   {
    "duration": 5,
    "start_time": "2021-08-01T18:17:07.315Z"
   },
   {
    "duration": 370,
    "start_time": "2021-08-01T18:17:07.322Z"
   },
   {
    "duration": 93,
    "start_time": "2021-08-01T18:17:07.695Z"
   },
   {
    "duration": 18,
    "start_time": "2021-08-01T18:17:07.791Z"
   },
   {
    "duration": 934,
    "start_time": "2021-08-01T18:17:07.812Z"
   },
   {
    "duration": 1849,
    "start_time": "2021-08-01T18:17:06.900Z"
   },
   {
    "duration": 1844,
    "start_time": "2021-08-01T18:17:06.907Z"
   },
   {
    "duration": 1837,
    "start_time": "2021-08-01T18:17:06.916Z"
   },
   {
    "duration": 1829,
    "start_time": "2021-08-01T18:17:06.926Z"
   },
   {
    "duration": 21,
    "start_time": "2021-08-01T18:18:35.958Z"
   },
   {
    "duration": 2614,
    "start_time": "2021-08-01T18:23:06.172Z"
   },
   {
    "duration": 8,
    "start_time": "2021-08-01T18:23:26.416Z"
   },
   {
    "duration": 7,
    "start_time": "2021-08-01T18:23:42.538Z"
   },
   {
    "duration": 12550,
    "start_time": "2021-08-01T18:24:26.538Z"
   },
   {
    "duration": 7,
    "start_time": "2021-08-01T18:24:56.045Z"
   },
   {
    "duration": 12665,
    "start_time": "2021-08-01T18:25:02.523Z"
   },
   {
    "duration": 101,
    "start_time": "2021-08-01T18:25:15.192Z"
   },
   {
    "duration": 10,
    "start_time": "2021-08-01T18:30:54.228Z"
   },
   {
    "duration": 1340,
    "start_time": "2021-08-01T18:36:38.188Z"
   },
   {
    "duration": 456,
    "start_time": "2021-08-01T18:36:52.606Z"
   },
   {
    "duration": 1430,
    "start_time": "2021-08-01T18:37:06.682Z"
   },
   {
    "duration": 1209,
    "start_time": "2021-08-01T18:37:08.115Z"
   },
   {
    "duration": 178,
    "start_time": "2021-08-01T18:37:09.327Z"
   },
   {
    "duration": 26,
    "start_time": "2021-08-01T18:37:09.508Z"
   },
   {
    "duration": 56,
    "start_time": "2021-08-01T18:37:09.536Z"
   },
   {
    "duration": 53,
    "start_time": "2021-08-01T18:37:09.596Z"
   },
   {
    "duration": 626,
    "start_time": "2021-08-01T18:37:09.652Z"
   },
   {
    "duration": 4,
    "start_time": "2021-08-01T18:37:10.286Z"
   },
   {
    "duration": 142,
    "start_time": "2021-08-01T18:37:10.294Z"
   },
   {
    "duration": 4,
    "start_time": "2021-08-01T18:37:10.438Z"
   },
   {
    "duration": 10,
    "start_time": "2021-08-01T18:37:10.444Z"
   },
   {
    "duration": 29,
    "start_time": "2021-08-01T18:37:10.457Z"
   },
   {
    "duration": 4,
    "start_time": "2021-08-01T18:37:10.490Z"
   },
   {
    "duration": 133,
    "start_time": "2021-08-01T18:37:10.497Z"
   },
   {
    "duration": 591,
    "start_time": "2021-08-01T18:37:10.633Z"
   },
   {
    "duration": 451,
    "start_time": "2021-08-01T18:37:11.226Z"
   },
   {
    "duration": 67,
    "start_time": "2021-08-01T18:37:11.679Z"
   },
   {
    "duration": 130,
    "start_time": "2021-08-01T18:37:11.749Z"
   },
   {
    "duration": 137,
    "start_time": "2021-08-01T18:37:11.885Z"
   },
   {
    "duration": 233,
    "start_time": "2021-08-01T18:37:12.025Z"
   },
   {
    "duration": 72,
    "start_time": "2021-08-01T18:37:12.261Z"
   },
   {
    "duration": 500,
    "start_time": "2021-08-01T18:37:12.336Z"
   },
   {
    "duration": 149,
    "start_time": "2021-08-01T18:37:12.844Z"
   },
   {
    "duration": 129,
    "start_time": "2021-08-01T18:37:12.998Z"
   },
   {
    "duration": 101,
    "start_time": "2021-08-01T18:37:13.130Z"
   },
   {
    "duration": 472,
    "start_time": "2021-08-01T18:37:13.233Z"
   },
   {
    "duration": 4,
    "start_time": "2021-08-01T18:37:13.708Z"
   },
   {
    "duration": 114,
    "start_time": "2021-08-01T18:37:13.715Z"
   },
   {
    "duration": 20,
    "start_time": "2021-08-01T18:37:13.831Z"
   },
   {
    "duration": 666,
    "start_time": "2021-08-01T18:37:13.853Z"
   },
   {
    "duration": 18,
    "start_time": "2021-08-01T18:37:14.521Z"
   },
   {
    "duration": 19,
    "start_time": "2021-08-01T18:37:14.541Z"
   },
   {
    "duration": 134,
    "start_time": "2021-08-01T18:37:14.563Z"
   },
   {
    "duration": 16,
    "start_time": "2021-08-01T18:37:14.700Z"
   },
   {
    "duration": 13,
    "start_time": "2021-08-01T18:37:14.718Z"
   },
   {
    "duration": 90,
    "start_time": "2021-08-01T18:37:14.733Z"
   },
   {
    "duration": 6,
    "start_time": "2021-08-01T18:37:14.826Z"
   },
   {
    "duration": 167,
    "start_time": "2021-08-01T18:37:14.835Z"
   },
   {
    "duration": 10,
    "start_time": "2021-08-01T18:37:15.090Z"
   },
   {
    "duration": 48,
    "start_time": "2021-08-01T18:37:15.102Z"
   },
   {
    "duration": 5,
    "start_time": "2021-08-01T18:37:15.152Z"
   },
   {
    "duration": 370,
    "start_time": "2021-08-01T18:37:15.159Z"
   },
   {
    "duration": 9,
    "start_time": "2021-08-01T18:37:15.532Z"
   },
   {
    "duration": 44,
    "start_time": "2021-08-01T18:37:15.543Z"
   },
   {
    "duration": 13097,
    "start_time": "2021-08-01T18:37:15.590Z"
   },
   {
    "duration": 97,
    "start_time": "2021-08-01T18:37:28.693Z"
   },
   {
    "duration": 652,
    "start_time": "2021-08-01T18:37:28.794Z"
   },
   {
    "duration": 1873,
    "start_time": "2021-08-01T18:37:27.576Z"
   },
   {
    "duration": 1865,
    "start_time": "2021-08-01T18:37:27.585Z"
   },
   {
    "duration": 522560,
    "start_time": "2021-08-01T18:38:12.112Z"
   },
   {
    "duration": 418,
    "start_time": "2021-08-01T18:47:13.269Z"
   },
   {
    "duration": 374,
    "start_time": "2021-08-01T18:47:32.502Z"
   },
   {
    "duration": 115,
    "start_time": "2021-08-01T18:47:38.724Z"
   },
   {
    "duration": 132,
    "start_time": "2021-08-01T18:47:43.192Z"
   },
   {
    "duration": 381,
    "start_time": "2021-08-01T18:52:19.383Z"
   },
   {
    "duration": 68,
    "start_time": "2021-08-01T18:52:37.596Z"
   },
   {
    "duration": 4909,
    "start_time": "2021-08-01T18:52:44.885Z"
   },
   {
    "duration": 6,
    "start_time": "2021-08-01T18:53:45.220Z"
   },
   {
    "duration": 413,
    "start_time": "2021-08-01T18:53:51.212Z"
   },
   {
    "duration": 57595,
    "start_time": "2021-08-01T18:54:10.709Z"
   },
   {
    "duration": 400176,
    "start_time": "2021-08-01T19:02:51.042Z"
   },
   {
    "duration": 797131,
    "start_time": "2021-08-01T19:09:47.296Z"
   },
   {
    "duration": 1590233,
    "start_time": "2021-08-01T20:08:21.573Z"
   },
   {
    "duration": 3224538,
    "start_time": "2021-08-01T20:38:57.054Z"
   },
   {
    "duration": 1434,
    "start_time": "2021-08-02T00:07:08.633Z"
   },
   {
    "duration": 1154,
    "start_time": "2021-08-02T00:07:10.070Z"
   },
   {
    "duration": 160,
    "start_time": "2021-08-02T00:07:11.227Z"
   },
   {
    "duration": 28,
    "start_time": "2021-08-02T00:07:11.389Z"
   },
   {
    "duration": 28,
    "start_time": "2021-08-02T00:07:11.420Z"
   },
   {
    "duration": 54,
    "start_time": "2021-08-02T00:07:11.485Z"
   },
   {
    "duration": 539,
    "start_time": "2021-08-02T00:07:11.541Z"
   },
   {
    "duration": 3,
    "start_time": "2021-08-02T00:07:12.086Z"
   },
   {
    "duration": 132,
    "start_time": "2021-08-02T00:07:12.092Z"
   },
   {
    "duration": 4,
    "start_time": "2021-08-02T00:07:12.226Z"
   },
   {
    "duration": 6,
    "start_time": "2021-08-02T00:07:12.232Z"
   },
   {
    "duration": 6,
    "start_time": "2021-08-02T00:07:12.240Z"
   },
   {
    "duration": 6,
    "start_time": "2021-08-02T00:07:12.249Z"
   },
   {
    "duration": 117,
    "start_time": "2021-08-02T00:07:12.286Z"
   },
   {
    "duration": 569,
    "start_time": "2021-08-02T00:07:12.406Z"
   },
   {
    "duration": 425,
    "start_time": "2021-08-02T00:07:12.985Z"
   },
   {
    "duration": 50,
    "start_time": "2021-08-02T00:07:13.413Z"
   },
   {
    "duration": 129,
    "start_time": "2021-08-02T00:07:13.466Z"
   },
   {
    "duration": 122,
    "start_time": "2021-08-02T00:07:13.597Z"
   },
   {
    "duration": 233,
    "start_time": "2021-08-02T00:07:13.721Z"
   },
   {
    "duration": 64,
    "start_time": "2021-08-02T00:07:13.956Z"
   },
   {
    "duration": 545,
    "start_time": "2021-08-02T00:07:14.023Z"
   },
   {
    "duration": 133,
    "start_time": "2021-08-02T00:07:14.573Z"
   },
   {
    "duration": 4,
    "start_time": "2021-08-02T00:07:14.709Z"
   },
   {
    "duration": 114,
    "start_time": "2021-08-02T00:07:14.715Z"
   },
   {
    "duration": 439,
    "start_time": "2021-08-02T00:07:14.831Z"
   },
   {
    "duration": 14,
    "start_time": "2021-08-02T00:07:15.272Z"
   },
   {
    "duration": 125,
    "start_time": "2021-08-02T00:07:15.289Z"
   },
   {
    "duration": 24,
    "start_time": "2021-08-02T00:07:15.417Z"
   },
   {
    "duration": 626,
    "start_time": "2021-08-02T00:07:15.444Z"
   },
   {
    "duration": 27,
    "start_time": "2021-08-02T00:07:16.072Z"
   },
   {
    "duration": 16,
    "start_time": "2021-08-02T00:07:16.102Z"
   },
   {
    "duration": 116,
    "start_time": "2021-08-02T00:07:16.121Z"
   },
   {
    "duration": 16,
    "start_time": "2021-08-02T00:07:16.239Z"
   },
   {
    "duration": 27,
    "start_time": "2021-08-02T00:07:16.257Z"
   },
   {
    "duration": 61,
    "start_time": "2021-08-02T00:07:16.287Z"
   },
   {
    "duration": 7,
    "start_time": "2021-08-02T00:07:16.350Z"
   },
   {
    "duration": 114,
    "start_time": "2021-08-02T00:07:16.386Z"
   },
   {
    "duration": 9,
    "start_time": "2021-08-02T00:07:16.587Z"
   },
   {
    "duration": 27,
    "start_time": "2021-08-02T00:07:16.686Z"
   },
   {
    "duration": 4,
    "start_time": "2021-08-02T00:07:16.715Z"
   },
   {
    "duration": 366,
    "start_time": "2021-08-02T00:07:16.722Z"
   },
   {
    "duration": 24,
    "start_time": "2021-08-02T00:07:17.091Z"
   },
   {
    "duration": 4,
    "start_time": "2021-08-02T00:07:17.117Z"
   },
   {
    "duration": 9,
    "start_time": "2021-08-02T00:07:17.124Z"
   },
   {
    "duration": 6,
    "start_time": "2021-08-02T00:07:17.135Z"
   },
   {
    "duration": 44,
    "start_time": "2021-08-02T00:07:17.143Z"
   },
   {
    "duration": 132,
    "start_time": "2021-08-02T00:07:17.189Z"
   },
   {
    "duration": 145,
    "start_time": "2021-08-02T00:07:17.323Z"
   },
   {
    "duration": 3,
    "start_time": "2021-08-02T00:07:17.471Z"
   },
   {
    "duration": 6,
    "start_time": "2021-08-02T00:07:17.486Z"
   },
   {
    "duration": 517,
    "start_time": "2021-08-02T00:07:17.494Z"
   },
   {
    "duration": 1614,
    "start_time": "2021-08-02T00:07:16.400Z"
   },
   {
    "duration": 392,
    "start_time": "2021-08-02T00:07:44.748Z"
   },
   {
    "duration": 4,
    "start_time": "2021-08-02T00:08:15.394Z"
   },
   {
    "duration": 397,
    "start_time": "2021-08-02T00:08:17.467Z"
   },
   {
    "duration": 765,
    "start_time": "2021-08-02T00:08:42.888Z"
   },
   {
    "duration": 5,
    "start_time": "2021-08-02T00:09:02.447Z"
   },
   {
    "duration": 794,
    "start_time": "2021-08-02T00:09:07.067Z"
   },
   {
    "duration": 5,
    "start_time": "2021-08-02T00:09:56.775Z"
   },
   {
    "duration": 786,
    "start_time": "2021-08-02T00:10:00.016Z"
   },
   {
    "duration": 5,
    "start_time": "2021-08-02T00:11:59.960Z"
   },
   {
    "duration": 11863,
    "start_time": "2021-08-02T00:12:01.994Z"
   },
   {
    "duration": 150,
    "start_time": "2021-08-02T00:32:39.429Z"
   },
   {
    "duration": 30815,
    "start_time": "2021-08-02T00:32:48.908Z"
   },
   {
    "duration": 219066,
    "start_time": "2021-08-02T00:33:28.822Z"
   },
   {
    "duration": 5,
    "start_time": "2021-08-02T00:39:09.779Z"
   },
   {
    "duration": 380,
    "start_time": "2021-08-02T00:39:25.186Z"
   },
   {
    "duration": 5,
    "start_time": "2021-08-02T00:39:38.668Z"
   },
   {
    "duration": 6,
    "start_time": "2021-08-02T00:40:03.855Z"
   },
   {
    "duration": 5,
    "start_time": "2021-08-02T00:40:15.468Z"
   },
   {
    "duration": 996703,
    "start_time": "2021-08-02T00:40:28.450Z"
   },
   {
    "duration": 5,
    "start_time": "2021-08-02T00:57:59.263Z"
   },
   {
    "duration": 2633814,
    "start_time": "2021-08-02T00:59:14.694Z"
   },
   {
    "duration": 5,
    "start_time": "2021-08-02T01:43:41.263Z"
   },
   {
    "duration": 1395,
    "start_time": "2021-08-02T17:14:22.546Z"
   },
   {
    "duration": 1038,
    "start_time": "2021-08-02T17:14:23.944Z"
   },
   {
    "duration": 149,
    "start_time": "2021-08-02T17:14:24.985Z"
   },
   {
    "duration": 27,
    "start_time": "2021-08-02T17:14:25.137Z"
   },
   {
    "duration": 24,
    "start_time": "2021-08-02T17:14:25.182Z"
   },
   {
    "duration": 48,
    "start_time": "2021-08-02T17:14:25.208Z"
   },
   {
    "duration": 492,
    "start_time": "2021-08-02T17:14:25.282Z"
   },
   {
    "duration": 2,
    "start_time": "2021-08-02T17:14:25.782Z"
   },
   {
    "duration": 116,
    "start_time": "2021-08-02T17:14:25.787Z"
   },
   {
    "duration": 3,
    "start_time": "2021-08-02T17:14:25.905Z"
   },
   {
    "duration": 7,
    "start_time": "2021-08-02T17:14:25.910Z"
   },
   {
    "duration": 6,
    "start_time": "2021-08-02T17:14:25.919Z"
   },
   {
    "duration": 6,
    "start_time": "2021-08-02T17:14:25.927Z"
   },
   {
    "duration": 121,
    "start_time": "2021-08-02T17:14:25.935Z"
   },
   {
    "duration": 524,
    "start_time": "2021-08-02T17:14:26.058Z"
   },
   {
    "duration": 404,
    "start_time": "2021-08-02T17:14:26.585Z"
   },
   {
    "duration": 49,
    "start_time": "2021-08-02T17:14:26.991Z"
   },
   {
    "duration": 121,
    "start_time": "2021-08-02T17:14:27.043Z"
   },
   {
    "duration": 108,
    "start_time": "2021-08-02T17:14:27.167Z"
   },
   {
    "duration": 218,
    "start_time": "2021-08-02T17:14:27.277Z"
   },
   {
    "duration": 55,
    "start_time": "2021-08-02T17:14:27.498Z"
   },
   {
    "duration": 492,
    "start_time": "2021-08-02T17:14:27.555Z"
   },
   {
    "duration": 125,
    "start_time": "2021-08-02T17:14:28.052Z"
   },
   {
    "duration": 3,
    "start_time": "2021-08-02T17:14:28.183Z"
   },
   {
    "duration": 105,
    "start_time": "2021-08-02T17:14:28.189Z"
   },
   {
    "duration": 431,
    "start_time": "2021-08-02T17:14:28.297Z"
   },
   {
    "duration": 6,
    "start_time": "2021-08-02T17:14:28.731Z"
   },
   {
    "duration": 107,
    "start_time": "2021-08-02T17:14:28.740Z"
   },
   {
    "duration": 34,
    "start_time": "2021-08-02T17:14:28.850Z"
   },
   {
    "duration": 564,
    "start_time": "2021-08-02T17:14:28.886Z"
   },
   {
    "duration": 17,
    "start_time": "2021-08-02T17:14:29.452Z"
   },
   {
    "duration": 13,
    "start_time": "2021-08-02T17:14:29.483Z"
   },
   {
    "duration": 99,
    "start_time": "2021-08-02T17:14:29.499Z"
   },
   {
    "duration": 17,
    "start_time": "2021-08-02T17:14:29.601Z"
   },
   {
    "duration": 6,
    "start_time": "2021-08-02T17:14:29.620Z"
   },
   {
    "duration": 96,
    "start_time": "2021-08-02T17:14:29.629Z"
   },
   {
    "duration": 9,
    "start_time": "2021-08-02T17:14:29.728Z"
   },
   {
    "duration": 147,
    "start_time": "2021-08-02T17:14:29.740Z"
   },
   {
    "duration": 96,
    "start_time": "2021-08-02T17:14:29.890Z"
   },
   {
    "duration": 33,
    "start_time": "2021-08-02T17:14:29.989Z"
   },
   {
    "duration": 4,
    "start_time": "2021-08-02T17:14:30.025Z"
   },
   {
    "duration": 344,
    "start_time": "2021-08-02T17:14:30.031Z"
   },
   {
    "duration": 22,
    "start_time": "2021-08-02T17:14:30.382Z"
   },
   {
    "duration": 3,
    "start_time": "2021-08-02T17:14:30.407Z"
   },
   {
    "duration": 14,
    "start_time": "2021-08-02T17:14:30.413Z"
   },
   {
    "duration": 5,
    "start_time": "2021-08-02T17:14:30.430Z"
   },
   {
    "duration": 8,
    "start_time": "2021-08-02T17:14:30.438Z"
   },
   {
    "duration": 143,
    "start_time": "2021-08-02T17:14:30.448Z"
   },
   {
    "duration": 143,
    "start_time": "2021-08-02T17:14:30.593Z"
   },
   {
    "duration": 4,
    "start_time": "2021-08-02T17:14:30.738Z"
   },
   {
    "duration": 2587979,
    "start_time": "2021-08-02T17:14:30.744Z"
   },
   {
    "duration": 5,
    "start_time": "2021-08-02T17:57:38.725Z"
   },
   {
    "duration": 1314,
    "start_time": "2021-08-02T17:59:53.802Z"
   },
   {
    "duration": 1078,
    "start_time": "2021-08-02T17:59:55.119Z"
   },
   {
    "duration": 147,
    "start_time": "2021-08-02T17:59:56.200Z"
   },
   {
    "duration": 35,
    "start_time": "2021-08-02T17:59:56.350Z"
   },
   {
    "duration": 26,
    "start_time": "2021-08-02T17:59:56.387Z"
   },
   {
    "duration": 74,
    "start_time": "2021-08-02T17:59:56.415Z"
   },
   {
    "duration": 603,
    "start_time": "2021-08-02T17:59:56.491Z"
   },
   {
    "duration": 3,
    "start_time": "2021-08-02T17:59:57.098Z"
   },
   {
    "duration": 131,
    "start_time": "2021-08-02T17:59:57.104Z"
   },
   {
    "duration": 4,
    "start_time": "2021-08-02T17:59:57.238Z"
   },
   {
    "duration": 7,
    "start_time": "2021-08-02T17:59:57.244Z"
   },
   {
    "duration": 6,
    "start_time": "2021-08-02T17:59:57.253Z"
   },
   {
    "duration": 22,
    "start_time": "2021-08-02T17:59:57.261Z"
   },
   {
    "duration": 106,
    "start_time": "2021-08-02T17:59:57.286Z"
   },
   {
    "duration": 503,
    "start_time": "2021-08-02T17:59:57.395Z"
   },
   {
    "duration": 397,
    "start_time": "2021-08-02T17:59:57.900Z"
   },
   {
    "duration": 48,
    "start_time": "2021-08-02T17:59:58.299Z"
   },
   {
    "duration": 117,
    "start_time": "2021-08-02T17:59:58.349Z"
   },
   {
    "duration": 105,
    "start_time": "2021-08-02T17:59:58.468Z"
   },
   {
    "duration": 214,
    "start_time": "2021-08-02T17:59:58.575Z"
   },
   {
    "duration": 57,
    "start_time": "2021-08-02T17:59:58.791Z"
   },
   {
    "duration": 420,
    "start_time": "2021-08-02T17:59:58.850Z"
   },
   {
    "duration": 120,
    "start_time": "2021-08-02T17:59:59.275Z"
   },
   {
    "duration": 3,
    "start_time": "2021-08-02T17:59:59.398Z"
   },
   {
    "duration": 103,
    "start_time": "2021-08-02T17:59:59.403Z"
   },
   {
    "duration": 388,
    "start_time": "2021-08-02T17:59:59.508Z"
   },
   {
    "duration": 7,
    "start_time": "2021-08-02T17:59:59.899Z"
   },
   {
    "duration": 118,
    "start_time": "2021-08-02T17:59:59.909Z"
   },
   {
    "duration": 23,
    "start_time": "2021-08-02T18:00:00.030Z"
   },
   {
    "duration": 600,
    "start_time": "2021-08-02T18:00:00.056Z"
   },
   {
    "duration": 26,
    "start_time": "2021-08-02T18:00:00.659Z"
   },
   {
    "duration": 26,
    "start_time": "2021-08-02T18:00:00.688Z"
   },
   {
    "duration": 101,
    "start_time": "2021-08-02T18:00:00.716Z"
   },
   {
    "duration": 21,
    "start_time": "2021-08-02T18:00:00.819Z"
   },
   {
    "duration": 17,
    "start_time": "2021-08-02T18:00:00.843Z"
   },
   {
    "duration": 72,
    "start_time": "2021-08-02T18:00:00.862Z"
   },
   {
    "duration": 6,
    "start_time": "2021-08-02T18:00:00.937Z"
   },
   {
    "duration": 144,
    "start_time": "2021-08-02T18:00:00.946Z"
   },
   {
    "duration": 92,
    "start_time": "2021-08-02T18:00:01.093Z"
   },
   {
    "duration": 119,
    "start_time": "2021-08-02T18:00:01.189Z"
   },
   {
    "duration": 5,
    "start_time": "2021-08-02T18:00:01.310Z"
   },
   {
    "duration": 348,
    "start_time": "2021-08-02T18:00:01.318Z"
   },
   {
    "duration": 31,
    "start_time": "2021-08-02T18:00:01.669Z"
   },
   {
    "duration": 31,
    "start_time": "2021-08-02T18:00:01.703Z"
   },
   {
    "duration": 19,
    "start_time": "2021-08-02T18:00:01.737Z"
   },
   {
    "duration": 11,
    "start_time": "2021-08-02T18:00:01.758Z"
   },
   {
    "duration": 20,
    "start_time": "2021-08-02T18:00:01.771Z"
   },
   {
    "duration": 131,
    "start_time": "2021-08-02T18:00:01.794Z"
   },
   {
    "duration": 143,
    "start_time": "2021-08-02T18:00:01.927Z"
   },
   {
    "duration": 11,
    "start_time": "2021-08-02T18:00:02.072Z"
   },
   {
    "duration": 29,
    "start_time": "2021-08-02T18:00:02.085Z"
   },
   {
    "duration": 430,
    "start_time": "2021-08-02T18:00:02.116Z"
   },
   {
    "duration": 20,
    "start_time": "2021-08-02T18:30:07.785Z"
   },
   {
    "duration": 509,
    "start_time": "2021-08-02T18:39:57.851Z"
   },
   {
    "duration": 3,
    "start_time": "2021-08-02T18:49:59.946Z"
   },
   {
    "duration": 4,
    "start_time": "2021-08-02T22:03:34.417Z"
   },
   {
    "duration": 5,
    "start_time": "2021-08-02T22:03:51.593Z"
   },
   {
    "duration": 326,
    "start_time": "2021-08-02T22:04:05.784Z"
   },
   {
    "duration": 4,
    "start_time": "2021-08-02T22:18:12.597Z"
   },
   {
    "duration": 338,
    "start_time": "2021-08-02T22:18:16.255Z"
   },
   {
    "duration": 265,
    "start_time": "2021-08-02T22:18:28.087Z"
   },
   {
    "duration": 308,
    "start_time": "2021-08-02T22:18:44.682Z"
   },
   {
    "duration": 4,
    "start_time": "2021-08-02T22:22:47.438Z"
   },
   {
    "duration": 271,
    "start_time": "2021-08-02T22:23:03.388Z"
   },
   {
    "duration": 292,
    "start_time": "2021-08-02T22:24:58.159Z"
   },
   {
    "duration": 38477,
    "start_time": "2021-08-02T22:25:07.302Z"
   },
   {
    "duration": 230,
    "start_time": "2021-08-02T22:28:08.374Z"
   },
   {
    "duration": 290,
    "start_time": "2021-08-02T22:41:59.361Z"
   },
   {
    "duration": 4,
    "start_time": "2021-08-02T22:42:09.221Z"
   },
   {
    "duration": 266,
    "start_time": "2021-08-02T22:42:11.291Z"
   },
   {
    "duration": 75,
    "start_time": "2021-08-02T22:46:27.087Z"
   },
   {
    "duration": 73,
    "start_time": "2021-08-02T22:46:41.066Z"
   },
   {
    "duration": 272,
    "start_time": "2021-08-02T22:46:59.332Z"
   },
   {
    "duration": 96048,
    "start_time": "2021-08-02T22:47:08.486Z"
   },
   {
    "duration": 6,
    "start_time": "2021-08-02T22:50:31.041Z"
   },
   {
    "duration": 283,
    "start_time": "2021-08-02T22:50:52.048Z"
   },
   {
    "duration": 298,
    "start_time": "2021-08-02T22:51:04.175Z"
   },
   {
    "duration": 14,
    "start_time": "2021-08-03T07:31:38.390Z"
   },
   {
    "duration": 1530,
    "start_time": "2021-08-03T08:27:33.399Z"
   },
   {
    "duration": 1275,
    "start_time": "2021-08-03T08:27:34.932Z"
   },
   {
    "duration": 164,
    "start_time": "2021-08-03T08:27:36.210Z"
   },
   {
    "duration": 27,
    "start_time": "2021-08-03T08:27:36.376Z"
   },
   {
    "duration": 55,
    "start_time": "2021-08-03T08:27:36.405Z"
   },
   {
    "duration": 53,
    "start_time": "2021-08-03T08:27:36.463Z"
   },
   {
    "duration": 588,
    "start_time": "2021-08-03T08:27:36.519Z"
   },
   {
    "duration": 3,
    "start_time": "2021-08-03T08:27:37.111Z"
   },
   {
    "duration": 129,
    "start_time": "2021-08-03T08:27:37.117Z"
   },
   {
    "duration": 7,
    "start_time": "2021-08-03T08:27:37.248Z"
   },
   {
    "duration": 9,
    "start_time": "2021-08-03T08:27:37.257Z"
   },
   {
    "duration": 10,
    "start_time": "2021-08-03T08:27:37.269Z"
   },
   {
    "duration": 5,
    "start_time": "2021-08-03T08:27:37.282Z"
   },
   {
    "duration": 130,
    "start_time": "2021-08-03T08:27:37.289Z"
   },
   {
    "duration": 565,
    "start_time": "2021-08-03T08:27:37.422Z"
   },
   {
    "duration": 441,
    "start_time": "2021-08-03T08:27:37.989Z"
   },
   {
    "duration": 63,
    "start_time": "2021-08-03T08:27:38.432Z"
   },
   {
    "duration": 117,
    "start_time": "2021-08-03T08:27:38.498Z"
   },
   {
    "duration": 119,
    "start_time": "2021-08-03T08:27:38.617Z"
   },
   {
    "duration": 225,
    "start_time": "2021-08-03T08:27:38.739Z"
   },
   {
    "duration": 58,
    "start_time": "2021-08-03T08:27:38.966Z"
   },
   {
    "duration": 482,
    "start_time": "2021-08-03T08:27:39.027Z"
   },
   {
    "duration": 134,
    "start_time": "2021-08-03T08:27:39.515Z"
   },
   {
    "duration": 3,
    "start_time": "2021-08-03T08:27:39.652Z"
   },
   {
    "duration": 112,
    "start_time": "2021-08-03T08:27:39.657Z"
   },
   {
    "duration": 451,
    "start_time": "2021-08-03T08:27:39.772Z"
   },
   {
    "duration": 5,
    "start_time": "2021-08-03T08:27:40.225Z"
   },
   {
    "duration": 99,
    "start_time": "2021-08-03T08:27:40.232Z"
   },
   {
    "duration": 37,
    "start_time": "2021-08-03T08:27:40.334Z"
   },
   {
    "duration": 662,
    "start_time": "2021-08-03T08:27:40.373Z"
   },
   {
    "duration": 29,
    "start_time": "2021-08-03T08:27:41.038Z"
   },
   {
    "duration": 31,
    "start_time": "2021-08-03T08:27:41.071Z"
   },
   {
    "duration": 119,
    "start_time": "2021-08-03T08:27:41.104Z"
   },
   {
    "duration": 15,
    "start_time": "2021-08-03T08:27:41.226Z"
   },
   {
    "duration": 5,
    "start_time": "2021-08-03T08:27:41.255Z"
   },
   {
    "duration": 91,
    "start_time": "2021-08-03T08:27:41.263Z"
   },
   {
    "duration": 7,
    "start_time": "2021-08-03T08:27:41.357Z"
   },
   {
    "duration": 191,
    "start_time": "2021-08-03T08:27:41.366Z"
   },
   {
    "duration": 95,
    "start_time": "2021-08-03T08:27:41.560Z"
   },
   {
    "duration": 28,
    "start_time": "2021-08-03T08:27:41.658Z"
   },
   {
    "duration": 4,
    "start_time": "2021-08-03T08:27:41.689Z"
   },
   {
    "duration": 405,
    "start_time": "2021-08-03T08:27:41.695Z"
   },
   {
    "duration": 21,
    "start_time": "2021-08-03T08:27:42.103Z"
   },
   {
    "duration": 28,
    "start_time": "2021-08-03T08:27:42.127Z"
   },
   {
    "duration": 26,
    "start_time": "2021-08-03T08:27:42.158Z"
   },
   {
    "duration": 16,
    "start_time": "2021-08-03T08:27:42.186Z"
   },
   {
    "duration": 20,
    "start_time": "2021-08-03T08:27:42.204Z"
   },
   {
    "duration": 140,
    "start_time": "2021-08-03T08:27:42.226Z"
   },
   {
    "duration": 142,
    "start_time": "2021-08-03T08:27:42.369Z"
   },
   {
    "duration": 2,
    "start_time": "2021-08-03T08:27:42.514Z"
   },
   {
    "duration": 14,
    "start_time": "2021-08-03T08:27:42.519Z"
   },
   {
    "duration": 18,
    "start_time": "2021-08-03T08:27:42.536Z"
   },
   {
    "duration": 15,
    "start_time": "2021-08-03T08:27:42.556Z"
   },
   {
    "duration": 23,
    "start_time": "2021-08-03T08:27:42.573Z"
   },
   {
    "duration": 20,
    "start_time": "2021-08-03T08:27:42.598Z"
   },
   {
    "duration": 411,
    "start_time": "2021-08-03T08:27:42.620Z"
   },
   {
    "duration": 2324,
    "start_time": "2021-08-03T08:27:40.709Z"
   },
   {
    "duration": 2319,
    "start_time": "2021-08-03T08:27:40.716Z"
   },
   {
    "duration": 2314,
    "start_time": "2021-08-03T08:27:40.722Z"
   },
   {
    "duration": 2305,
    "start_time": "2021-08-03T08:27:40.732Z"
   },
   {
    "duration": 29,
    "start_time": "2021-08-03T08:29:13.839Z"
   },
   {
    "duration": 6,
    "start_time": "2021-08-03T08:29:15.597Z"
   },
   {
    "duration": 6,
    "start_time": "2021-08-03T08:29:20.255Z"
   },
   {
    "duration": 293,
    "start_time": "2021-08-03T08:29:30.306Z"
   },
   {
    "duration": 7,
    "start_time": "2021-08-03T08:29:34.002Z"
   },
   {
    "duration": 341,
    "start_time": "2021-08-03T08:39:55.320Z"
   },
   {
    "duration": 1121,
    "start_time": "2021-08-03T08:51:42.946Z"
   },
   {
    "duration": 261,
    "start_time": "2021-08-03T08:51:56.127Z"
   },
   {
    "duration": 793,
    "start_time": "2021-08-03T08:52:16.767Z"
   },
   {
    "duration": 1929,
    "start_time": "2021-08-03T08:52:47.322Z"
   },
   {
    "duration": 1674,
    "start_time": "2021-08-03T08:52:49.254Z"
   },
   {
    "duration": 359,
    "start_time": "2021-08-03T08:52:50.933Z"
   },
   {
    "duration": 28,
    "start_time": "2021-08-03T08:52:51.296Z"
   },
   {
    "duration": 54,
    "start_time": "2021-08-03T08:52:51.327Z"
   },
   {
    "duration": 81,
    "start_time": "2021-08-03T08:52:51.385Z"
   },
   {
    "duration": 533,
    "start_time": "2021-08-03T08:52:51.468Z"
   },
   {
    "duration": 2,
    "start_time": "2021-08-03T08:52:52.005Z"
   },
   {
    "duration": 135,
    "start_time": "2021-08-03T08:52:52.010Z"
   },
   {
    "duration": 3,
    "start_time": "2021-08-03T08:52:52.154Z"
   },
   {
    "duration": 14,
    "start_time": "2021-08-03T08:52:52.160Z"
   },
   {
    "duration": 13,
    "start_time": "2021-08-03T08:52:52.177Z"
   },
   {
    "duration": 12,
    "start_time": "2021-08-03T08:52:52.192Z"
   },
   {
    "duration": 113,
    "start_time": "2021-08-03T08:52:52.206Z"
   },
   {
    "duration": 572,
    "start_time": "2021-08-03T08:52:52.321Z"
   },
   {
    "duration": 448,
    "start_time": "2021-08-03T08:52:52.896Z"
   },
   {
    "duration": 56,
    "start_time": "2021-08-03T08:52:53.347Z"
   },
   {
    "duration": 149,
    "start_time": "2021-08-03T08:52:53.405Z"
   },
   {
    "duration": 148,
    "start_time": "2021-08-03T08:52:53.557Z"
   },
   {
    "duration": 337,
    "start_time": "2021-08-03T08:52:53.708Z"
   },
   {
    "duration": 59,
    "start_time": "2021-08-03T08:52:54.048Z"
   },
   {
    "duration": 601,
    "start_time": "2021-08-03T08:52:54.109Z"
   },
   {
    "duration": 130,
    "start_time": "2021-08-03T08:52:54.716Z"
   },
   {
    "duration": 4,
    "start_time": "2021-08-03T08:52:54.850Z"
   },
   {
    "duration": 116,
    "start_time": "2021-08-03T08:52:54.856Z"
   },
   {
    "duration": 457,
    "start_time": "2021-08-03T08:52:54.974Z"
   },
   {
    "duration": 21,
    "start_time": "2021-08-03T08:52:55.433Z"
   },
   {
    "duration": 103,
    "start_time": "2021-08-03T08:52:55.457Z"
   },
   {
    "duration": 20,
    "start_time": "2021-08-03T08:52:55.563Z"
   },
   {
    "duration": 648,
    "start_time": "2021-08-03T08:52:55.586Z"
   },
   {
    "duration": 26,
    "start_time": "2021-08-03T08:52:56.237Z"
   },
   {
    "duration": 17,
    "start_time": "2021-08-03T08:52:56.265Z"
   },
   {
    "duration": 117,
    "start_time": "2021-08-03T08:52:56.285Z"
   },
   {
    "duration": 44,
    "start_time": "2021-08-03T08:52:56.404Z"
   },
   {
    "duration": 8,
    "start_time": "2021-08-03T08:52:56.450Z"
   },
   {
    "duration": 72,
    "start_time": "2021-08-03T08:52:56.461Z"
   },
   {
    "duration": 21,
    "start_time": "2021-08-03T08:52:56.535Z"
   },
   {
    "duration": 295,
    "start_time": "2021-08-03T08:52:56.559Z"
   },
   {
    "duration": 7,
    "start_time": "2021-08-03T08:52:56.858Z"
   },
   {
    "duration": 45,
    "start_time": "2021-08-03T08:52:56.868Z"
   },
   {
    "duration": 5,
    "start_time": "2021-08-03T08:52:56.916Z"
   },
   {
    "duration": 480,
    "start_time": "2021-08-03T08:52:56.956Z"
   },
   {
    "duration": 42,
    "start_time": "2021-08-03T08:52:57.439Z"
   },
   {
    "duration": 14,
    "start_time": "2021-08-03T08:52:57.484Z"
   },
   {
    "duration": 19,
    "start_time": "2021-08-03T08:52:57.501Z"
   },
   {
    "duration": 6,
    "start_time": "2021-08-03T08:52:57.522Z"
   },
   {
    "duration": 12,
    "start_time": "2021-08-03T08:52:57.530Z"
   },
   {
    "duration": 138,
    "start_time": "2021-08-03T08:52:57.555Z"
   },
   {
    "duration": 159,
    "start_time": "2021-08-03T08:52:57.695Z"
   },
   {
    "duration": 3,
    "start_time": "2021-08-03T08:52:57.856Z"
   },
   {
    "duration": 21,
    "start_time": "2021-08-03T08:52:57.862Z"
   },
   {
    "duration": 13,
    "start_time": "2021-08-03T08:52:57.886Z"
   },
   {
    "duration": 11,
    "start_time": "2021-08-03T08:52:57.902Z"
   },
   {
    "duration": 20,
    "start_time": "2021-08-03T08:52:57.915Z"
   },
   {
    "duration": 16,
    "start_time": "2021-08-03T08:52:57.938Z"
   },
   {
    "duration": 4,
    "start_time": "2021-08-03T08:52:57.956Z"
   },
   {
    "duration": 15,
    "start_time": "2021-08-03T08:52:57.962Z"
   },
   {
    "duration": 20,
    "start_time": "2021-08-03T08:52:57.979Z"
   },
   {
    "duration": 11,
    "start_time": "2021-08-03T08:52:58.002Z"
   },
   {
    "duration": 415,
    "start_time": "2021-08-03T08:52:58.015Z"
   },
   {
    "duration": 288,
    "start_time": "2021-08-03T08:53:37.979Z"
   },
   {
    "duration": 8,
    "start_time": "2021-08-03T09:11:25.631Z"
   },
   {
    "duration": 274,
    "start_time": "2021-08-03T09:12:20.482Z"
   },
   {
    "duration": 270,
    "start_time": "2021-08-03T09:12:25.232Z"
   },
   {
    "duration": 12,
    "start_time": "2021-08-03T09:14:40.539Z"
   },
   {
    "duration": 280,
    "start_time": "2021-08-03T09:14:47.035Z"
   },
   {
    "duration": 87,
    "start_time": "2021-08-03T09:24:02.945Z"
   },
   {
    "duration": 276,
    "start_time": "2021-08-03T09:24:08.954Z"
   },
   {
    "duration": 28046,
    "start_time": "2021-08-03T09:25:38.599Z"
   },
   {
    "duration": 268,
    "start_time": "2021-08-03T09:26:34.020Z"
   },
   {
    "duration": 260124,
    "start_time": "2021-08-03T09:26:44.343Z"
   },
   {
    "duration": 92,
    "start_time": "2021-08-03T09:42:13.368Z"
   },
   {
    "duration": 6026524,
    "start_time": "2021-08-03T09:42:21.500Z"
   },
   {
    "duration": 4018467,
    "start_time": "2021-08-03T11:24:18.212Z"
   },
   {
    "duration": 6,
    "start_time": "2021-08-03T12:35:53.995Z"
   },
   {
    "duration": 276,
    "start_time": "2021-08-03T12:36:26.201Z"
   },
   {
    "duration": 5,
    "start_time": "2021-08-03T12:36:33.655Z"
   },
   {
    "duration": 171443,
    "start_time": "2021-08-03T12:36:48.720Z"
   },
   {
    "duration": 279,
    "start_time": "2021-08-03T12:44:24.657Z"
   },
   {
    "duration": 380,
    "start_time": "2021-08-03T12:58:42.706Z"
   },
   {
    "duration": 333964,
    "start_time": "2021-08-03T12:59:19.891Z"
   },
   {
    "duration": 69,
    "start_time": "2021-08-03T13:05:23.666Z"
   },
   {
    "duration": 16,
    "start_time": "2021-08-03T13:06:51.927Z"
   },
   {
    "duration": 52,
    "start_time": "2021-08-03T13:10:04.187Z"
   },
   {
    "duration": 34,
    "start_time": "2021-08-03T13:10:09.058Z"
   },
   {
    "duration": 10,
    "start_time": "2021-08-03T13:11:56.939Z"
   },
   {
    "duration": 52,
    "start_time": "2021-08-03T13:12:08.307Z"
   },
   {
    "duration": 30,
    "start_time": "2021-08-03T13:12:24.256Z"
   },
   {
    "duration": 917983,
    "start_time": "2021-08-03T13:13:50.580Z"
   },
   {
    "duration": 273,
    "start_time": "2021-08-03T13:32:36.255Z"
   },
   {
    "duration": 270,
    "start_time": "2021-08-03T13:32:48.121Z"
   },
   {
    "duration": 200081,
    "start_time": "2021-08-03T13:32:58.155Z"
   },
   {
    "duration": 1507,
    "start_time": "2021-08-03T13:46:44.632Z"
   },
   {
    "duration": 1248,
    "start_time": "2021-08-03T13:46:46.142Z"
   },
   {
    "duration": 175,
    "start_time": "2021-08-03T13:46:47.393Z"
   },
   {
    "duration": 27,
    "start_time": "2021-08-03T13:46:47.571Z"
   },
   {
    "duration": 54,
    "start_time": "2021-08-03T13:46:47.600Z"
   },
   {
    "duration": 57,
    "start_time": "2021-08-03T13:46:47.657Z"
   },
   {
    "duration": 575,
    "start_time": "2021-08-03T13:46:47.716Z"
   },
   {
    "duration": 3,
    "start_time": "2021-08-03T13:46:48.295Z"
   },
   {
    "duration": 134,
    "start_time": "2021-08-03T13:46:48.301Z"
   },
   {
    "duration": 3,
    "start_time": "2021-08-03T13:46:48.437Z"
   },
   {
    "duration": 11,
    "start_time": "2021-08-03T13:46:48.443Z"
   },
   {
    "duration": 27,
    "start_time": "2021-08-03T13:46:48.458Z"
   },
   {
    "duration": 19,
    "start_time": "2021-08-03T13:46:48.487Z"
   },
   {
    "duration": 119,
    "start_time": "2021-08-03T13:46:48.508Z"
   },
   {
    "duration": 573,
    "start_time": "2021-08-03T13:46:48.630Z"
   },
   {
    "duration": 460,
    "start_time": "2021-08-03T13:46:49.205Z"
   },
   {
    "duration": 52,
    "start_time": "2021-08-03T13:46:49.668Z"
   },
   {
    "duration": 138,
    "start_time": "2021-08-03T13:46:49.723Z"
   },
   {
    "duration": 126,
    "start_time": "2021-08-03T13:46:49.863Z"
   },
   {
    "duration": 234,
    "start_time": "2021-08-03T13:46:49.992Z"
   },
   {
    "duration": 79,
    "start_time": "2021-08-03T13:46:50.228Z"
   },
   {
    "duration": 468,
    "start_time": "2021-08-03T13:46:50.309Z"
   },
   {
    "duration": 137,
    "start_time": "2021-08-03T13:46:50.784Z"
   },
   {
    "duration": 3,
    "start_time": "2021-08-03T13:46:50.925Z"
   },
   {
    "duration": 133,
    "start_time": "2021-08-03T13:46:50.930Z"
   },
   {
    "duration": 451,
    "start_time": "2021-08-03T13:46:51.065Z"
   },
   {
    "duration": 5,
    "start_time": "2021-08-03T13:46:51.518Z"
   },
   {
    "duration": 115,
    "start_time": "2021-08-03T13:46:51.525Z"
   },
   {
    "duration": 28,
    "start_time": "2021-08-03T13:46:51.642Z"
   },
   {
    "duration": 624,
    "start_time": "2021-08-03T13:46:51.672Z"
   },
   {
    "duration": 18,
    "start_time": "2021-08-03T13:46:52.299Z"
   },
   {
    "duration": 39,
    "start_time": "2021-08-03T13:46:52.320Z"
   },
   {
    "duration": 110,
    "start_time": "2021-08-03T13:46:52.362Z"
   },
   {
    "duration": 18,
    "start_time": "2021-08-03T13:46:52.474Z"
   },
   {
    "duration": 12,
    "start_time": "2021-08-03T13:46:52.495Z"
   },
   {
    "duration": 91,
    "start_time": "2021-08-03T13:46:52.509Z"
   },
   {
    "duration": 6,
    "start_time": "2021-08-03T13:46:52.603Z"
   },
   {
    "duration": 243,
    "start_time": "2021-08-03T13:46:52.611Z"
   },
   {
    "duration": 7,
    "start_time": "2021-08-03T13:46:52.857Z"
   },
   {
    "duration": 40,
    "start_time": "2021-08-03T13:46:52.868Z"
   },
   {
    "duration": 3,
    "start_time": "2021-08-03T13:46:52.910Z"
   },
   {
    "duration": 374,
    "start_time": "2021-08-03T13:46:52.915Z"
   },
   {
    "duration": 21,
    "start_time": "2021-08-03T13:46:53.292Z"
   },
   {
    "duration": 35,
    "start_time": "2021-08-03T13:46:53.315Z"
   },
   {
    "duration": 8,
    "start_time": "2021-08-03T13:46:53.354Z"
   },
   {
    "duration": 18,
    "start_time": "2021-08-03T13:46:53.364Z"
   },
   {
    "duration": 19,
    "start_time": "2021-08-03T13:46:53.385Z"
   },
   {
    "duration": 136,
    "start_time": "2021-08-03T13:46:53.406Z"
   },
   {
    "duration": 157,
    "start_time": "2021-08-03T13:46:53.544Z"
   },
   {
    "duration": 3,
    "start_time": "2021-08-03T13:46:53.704Z"
   },
   {
    "duration": 36,
    "start_time": "2021-08-03T13:46:53.709Z"
   },
   {
    "duration": 20,
    "start_time": "2021-08-03T13:46:53.747Z"
   },
   {
    "duration": 24,
    "start_time": "2021-08-03T13:46:53.769Z"
   },
   {
    "duration": 21,
    "start_time": "2021-08-03T13:46:53.795Z"
   },
   {
    "duration": 24,
    "start_time": "2021-08-03T13:46:53.819Z"
   },
   {
    "duration": 20,
    "start_time": "2021-08-03T13:46:53.845Z"
   },
   {
    "duration": 30,
    "start_time": "2021-08-03T13:46:53.868Z"
   },
   {
    "duration": 21,
    "start_time": "2021-08-03T13:46:53.900Z"
   },
   {
    "duration": 90,
    "start_time": "2021-08-03T13:46:53.923Z"
   },
   {
    "duration": 11,
    "start_time": "2021-08-03T13:46:54.016Z"
   },
   {
    "duration": 81,
    "start_time": "2021-08-03T13:46:54.029Z"
   },
   {
    "duration": 453,
    "start_time": "2021-08-03T13:46:54.112Z"
   },
   {
    "duration": 2046,
    "start_time": "2021-08-03T13:46:52.523Z"
   },
   {
    "duration": 2036,
    "start_time": "2021-08-03T13:46:52.535Z"
   },
   {
    "duration": 2030,
    "start_time": "2021-08-03T13:46:52.543Z"
   },
   {
    "duration": 2023,
    "start_time": "2021-08-03T13:46:52.552Z"
   },
   {
    "duration": 263,
    "start_time": "2021-08-03T13:57:23.368Z"
   },
   {
    "duration": 1485,
    "start_time": "2021-08-03T13:58:28.580Z"
   },
   {
    "duration": 1614,
    "start_time": "2021-08-03T13:58:30.075Z"
   },
   {
    "duration": 180,
    "start_time": "2021-08-03T13:58:31.692Z"
   },
   {
    "duration": 28,
    "start_time": "2021-08-03T13:58:31.875Z"
   },
   {
    "duration": 58,
    "start_time": "2021-08-03T13:58:31.906Z"
   },
   {
    "duration": 59,
    "start_time": "2021-08-03T13:58:31.967Z"
   },
   {
    "duration": 609,
    "start_time": "2021-08-03T13:58:32.028Z"
   },
   {
    "duration": 14,
    "start_time": "2021-08-03T13:58:32.641Z"
   },
   {
    "duration": 141,
    "start_time": "2021-08-03T13:58:32.659Z"
   },
   {
    "duration": 4,
    "start_time": "2021-08-03T13:58:32.803Z"
   },
   {
    "duration": 10,
    "start_time": "2021-08-03T13:58:32.810Z"
   },
   {
    "duration": 32,
    "start_time": "2021-08-03T13:58:32.823Z"
   },
   {
    "duration": 6,
    "start_time": "2021-08-03T13:58:32.858Z"
   },
   {
    "duration": 138,
    "start_time": "2021-08-03T13:58:32.867Z"
   },
   {
    "duration": 602,
    "start_time": "2021-08-03T13:58:33.008Z"
   },
   {
    "duration": 471,
    "start_time": "2021-08-03T13:58:33.613Z"
   },
   {
    "duration": 68,
    "start_time": "2021-08-03T13:58:34.087Z"
   },
   {
    "duration": 126,
    "start_time": "2021-08-03T13:58:34.158Z"
   },
   {
    "duration": 127,
    "start_time": "2021-08-03T13:58:34.286Z"
   },
   {
    "duration": 239,
    "start_time": "2021-08-03T13:58:34.415Z"
   },
   {
    "duration": 67,
    "start_time": "2021-08-03T13:58:34.657Z"
   },
   {
    "duration": 492,
    "start_time": "2021-08-03T13:58:34.727Z"
   },
   {
    "duration": 147,
    "start_time": "2021-08-03T13:58:35.226Z"
   },
   {
    "duration": 3,
    "start_time": "2021-08-03T13:58:35.377Z"
   },
   {
    "duration": 123,
    "start_time": "2021-08-03T13:58:35.383Z"
   },
   {
    "duration": 479,
    "start_time": "2021-08-03T13:58:35.508Z"
   },
   {
    "duration": 6,
    "start_time": "2021-08-03T13:58:35.990Z"
   },
   {
    "duration": 130,
    "start_time": "2021-08-03T13:58:35.999Z"
   },
   {
    "duration": 39,
    "start_time": "2021-08-03T13:58:36.132Z"
   },
   {
    "duration": 791,
    "start_time": "2021-08-03T13:58:36.174Z"
   },
   {
    "duration": 24,
    "start_time": "2021-08-03T13:58:36.969Z"
   },
   {
    "duration": 39,
    "start_time": "2021-08-03T13:58:36.996Z"
   },
   {
    "duration": 106,
    "start_time": "2021-08-03T13:58:37.038Z"
   },
   {
    "duration": 24,
    "start_time": "2021-08-03T13:58:37.155Z"
   },
   {
    "duration": 22,
    "start_time": "2021-08-03T13:58:37.181Z"
   },
   {
    "duration": 89,
    "start_time": "2021-08-03T13:58:37.205Z"
   },
   {
    "duration": 8,
    "start_time": "2021-08-03T13:58:37.296Z"
   },
   {
    "duration": 153,
    "start_time": "2021-08-03T13:58:37.307Z"
   },
   {
    "duration": 95,
    "start_time": "2021-08-03T13:58:37.463Z"
   },
   {
    "duration": 104,
    "start_time": "2021-08-03T13:58:37.561Z"
   },
   {
    "duration": 5,
    "start_time": "2021-08-03T13:58:37.667Z"
   },
   {
    "duration": 362,
    "start_time": "2021-08-03T13:58:37.674Z"
   },
   {
    "duration": 34,
    "start_time": "2021-08-03T13:58:38.038Z"
   },
   {
    "duration": 11,
    "start_time": "2021-08-03T13:58:38.074Z"
   },
   {
    "duration": 33,
    "start_time": "2021-08-03T13:58:38.087Z"
   },
   {
    "duration": 29,
    "start_time": "2021-08-03T13:58:38.123Z"
   },
   {
    "duration": 23,
    "start_time": "2021-08-03T13:58:38.158Z"
   },
   {
    "duration": 140,
    "start_time": "2021-08-03T13:58:38.183Z"
   },
   {
    "duration": 144,
    "start_time": "2021-08-03T13:58:38.325Z"
   },
   {
    "duration": 4,
    "start_time": "2021-08-03T13:58:38.472Z"
   },
   {
    "duration": 15,
    "start_time": "2021-08-03T13:58:38.479Z"
   },
   {
    "duration": 11,
    "start_time": "2021-08-03T13:58:38.497Z"
   },
   {
    "duration": 21,
    "start_time": "2021-08-03T13:58:38.510Z"
   },
   {
    "duration": 20,
    "start_time": "2021-08-03T13:58:38.534Z"
   },
   {
    "duration": 35,
    "start_time": "2021-08-03T13:58:38.557Z"
   },
   {
    "duration": 27,
    "start_time": "2021-08-03T13:58:38.595Z"
   },
   {
    "duration": 13,
    "start_time": "2021-08-03T13:58:38.625Z"
   },
   {
    "duration": 18,
    "start_time": "2021-08-03T13:58:38.640Z"
   },
   {
    "duration": 91,
    "start_time": "2021-08-03T13:58:38.660Z"
   },
   {
    "duration": 13,
    "start_time": "2021-08-03T13:58:38.754Z"
   },
   {
    "duration": 58,
    "start_time": "2021-08-03T13:58:38.770Z"
   },
   {
    "duration": 439,
    "start_time": "2021-08-03T13:58:38.855Z"
   },
   {
    "duration": 1577,
    "start_time": "2021-08-03T13:58:37.720Z"
   },
   {
    "duration": 1521,
    "start_time": "2021-08-03T13:58:37.778Z"
   },
   {
    "duration": 1512,
    "start_time": "2021-08-03T13:58:37.789Z"
   },
   {
    "duration": 1504,
    "start_time": "2021-08-03T13:58:37.799Z"
   },
   {
    "duration": 20,
    "start_time": "2021-08-03T14:09:20.189Z"
   },
   {
    "duration": 178,
    "start_time": "2021-08-03T14:09:52.488Z"
   },
   {
    "duration": 17,
    "start_time": "2021-08-03T14:10:09.492Z"
   },
   {
    "duration": 73,
    "start_time": "2021-08-03T14:10:12.529Z"
   },
   {
    "duration": 22,
    "start_time": "2021-08-03T14:10:20.501Z"
   },
   {
    "duration": 36,
    "start_time": "2021-08-03T14:10:58.794Z"
   },
   {
    "duration": 5,
    "start_time": "2021-08-03T14:12:57.412Z"
   },
   {
    "duration": 1392,
    "start_time": "2021-08-03T20:38:57.204Z"
   },
   {
    "duration": 1161,
    "start_time": "2021-08-03T20:38:58.599Z"
   },
   {
    "duration": 164,
    "start_time": "2021-08-03T20:38:59.763Z"
   },
   {
    "duration": 37,
    "start_time": "2021-08-03T20:38:59.930Z"
   },
   {
    "duration": 26,
    "start_time": "2021-08-03T20:38:59.969Z"
   },
   {
    "duration": 87,
    "start_time": "2021-08-03T20:38:59.997Z"
   },
   {
    "duration": 588,
    "start_time": "2021-08-03T20:39:00.086Z"
   },
   {
    "duration": 3,
    "start_time": "2021-08-03T20:39:00.679Z"
   },
   {
    "duration": 134,
    "start_time": "2021-08-03T20:39:00.686Z"
   },
   {
    "duration": 3,
    "start_time": "2021-08-03T20:39:00.823Z"
   },
   {
    "duration": 7,
    "start_time": "2021-08-03T20:39:00.829Z"
   },
   {
    "duration": 8,
    "start_time": "2021-08-03T20:39:00.838Z"
   },
   {
    "duration": 9,
    "start_time": "2021-08-03T20:39:00.869Z"
   },
   {
    "duration": 120,
    "start_time": "2021-08-03T20:39:00.880Z"
   },
   {
    "duration": 581,
    "start_time": "2021-08-03T20:39:01.003Z"
   },
   {
    "duration": 458,
    "start_time": "2021-08-03T20:39:01.587Z"
   },
   {
    "duration": 69,
    "start_time": "2021-08-03T20:39:02.048Z"
   },
   {
    "duration": 132,
    "start_time": "2021-08-03T20:39:02.120Z"
   },
   {
    "duration": 125,
    "start_time": "2021-08-03T20:39:02.256Z"
   },
   {
    "duration": 244,
    "start_time": "2021-08-03T20:39:02.384Z"
   },
   {
    "duration": 71,
    "start_time": "2021-08-03T20:39:02.631Z"
   },
   {
    "duration": 469,
    "start_time": "2021-08-03T20:39:02.705Z"
   },
   {
    "duration": 126,
    "start_time": "2021-08-03T20:39:03.180Z"
   },
   {
    "duration": 3,
    "start_time": "2021-08-03T20:39:03.309Z"
   },
   {
    "duration": 111,
    "start_time": "2021-08-03T20:39:03.314Z"
   },
   {
    "duration": 453,
    "start_time": "2021-08-03T20:39:03.427Z"
   },
   {
    "duration": 4,
    "start_time": "2021-08-03T20:39:03.883Z"
   },
   {
    "duration": 107,
    "start_time": "2021-08-03T20:39:03.889Z"
   },
   {
    "duration": 20,
    "start_time": "2021-08-03T20:39:03.998Z"
   },
   {
    "duration": 626,
    "start_time": "2021-08-03T20:39:04.020Z"
   },
   {
    "duration": 26,
    "start_time": "2021-08-03T20:39:04.649Z"
   },
   {
    "duration": 18,
    "start_time": "2021-08-03T20:39:04.677Z"
   },
   {
    "duration": 105,
    "start_time": "2021-08-03T20:39:04.697Z"
   },
   {
    "duration": 15,
    "start_time": "2021-08-03T20:39:04.804Z"
   },
   {
    "duration": 7,
    "start_time": "2021-08-03T20:39:04.822Z"
   },
   {
    "duration": 93,
    "start_time": "2021-08-03T20:39:04.832Z"
   },
   {
    "duration": 6,
    "start_time": "2021-08-03T20:39:04.927Z"
   },
   {
    "duration": 231,
    "start_time": "2021-08-03T20:39:04.936Z"
   },
   {
    "duration": 6,
    "start_time": "2021-08-03T20:39:05.169Z"
   },
   {
    "duration": 29,
    "start_time": "2021-08-03T20:39:05.178Z"
   },
   {
    "duration": 61,
    "start_time": "2021-08-03T20:39:05.209Z"
   },
   {
    "duration": 333,
    "start_time": "2021-08-03T20:39:05.273Z"
   },
   {
    "duration": 38,
    "start_time": "2021-08-03T20:39:05.608Z"
   },
   {
    "duration": 18,
    "start_time": "2021-08-03T20:39:05.649Z"
   },
   {
    "duration": 7,
    "start_time": "2021-08-03T20:39:05.670Z"
   },
   {
    "duration": 10,
    "start_time": "2021-08-03T20:39:05.680Z"
   },
   {
    "duration": 5,
    "start_time": "2021-08-03T20:39:05.693Z"
   },
   {
    "duration": 144,
    "start_time": "2021-08-03T20:39:05.700Z"
   },
   {
    "duration": 150,
    "start_time": "2021-08-03T20:39:05.846Z"
   },
   {
    "duration": 3,
    "start_time": "2021-08-03T20:39:05.999Z"
   },
   {
    "duration": 7,
    "start_time": "2021-08-03T20:39:06.004Z"
   },
   {
    "duration": 5,
    "start_time": "2021-08-03T20:39:06.013Z"
   },
   {
    "duration": 6,
    "start_time": "2021-08-03T20:39:06.020Z"
   },
   {
    "duration": 5,
    "start_time": "2021-08-03T20:39:06.029Z"
   },
   {
    "duration": 31,
    "start_time": "2021-08-03T20:39:06.036Z"
   },
   {
    "duration": 3,
    "start_time": "2021-08-03T20:39:06.070Z"
   },
   {
    "duration": 7,
    "start_time": "2021-08-03T20:39:06.076Z"
   },
   {
    "duration": 6,
    "start_time": "2021-08-03T20:39:06.086Z"
   },
   {
    "duration": 196,
    "start_time": "2021-08-03T20:39:06.095Z"
   },
   {
    "duration": 18,
    "start_time": "2021-08-03T20:39:06.293Z"
   },
   {
    "duration": 88,
    "start_time": "2021-08-03T20:39:06.313Z"
   },
   {
    "duration": 27,
    "start_time": "2021-08-03T20:39:06.404Z"
   },
   {
    "duration": 4,
    "start_time": "2021-08-03T20:39:06.433Z"
   },
   {
    "duration": 158436,
    "start_time": "2021-08-03T20:39:06.440Z"
   },
   {
    "duration": 5,
    "start_time": "2021-08-03T20:41:44.878Z"
   },
   {
    "duration": 532,
    "start_time": "2021-08-03T20:41:44.885Z"
   },
   {
    "duration": 252,
    "start_time": "2021-08-03T20:59:47.120Z"
   },
   {
    "duration": 317,
    "start_time": "2021-08-03T21:01:28.331Z"
   },
   {
    "duration": 19,
    "start_time": "2021-08-03T21:02:03.308Z"
   },
   {
    "duration": 1579,
    "start_time": "2021-08-03T21:03:37.411Z"
   },
   {
    "duration": 1209,
    "start_time": "2021-08-03T21:03:38.993Z"
   },
   {
    "duration": 178,
    "start_time": "2021-08-03T21:03:40.205Z"
   },
   {
    "duration": 28,
    "start_time": "2021-08-03T21:03:40.386Z"
   },
   {
    "duration": 28,
    "start_time": "2021-08-03T21:03:40.416Z"
   },
   {
    "duration": 57,
    "start_time": "2021-08-03T21:03:40.472Z"
   },
   {
    "duration": 595,
    "start_time": "2021-08-03T21:03:40.532Z"
   },
   {
    "duration": 3,
    "start_time": "2021-08-03T21:03:41.131Z"
   },
   {
    "duration": 138,
    "start_time": "2021-08-03T21:03:41.137Z"
   },
   {
    "duration": 3,
    "start_time": "2021-08-03T21:03:41.278Z"
   },
   {
    "duration": 7,
    "start_time": "2021-08-03T21:03:41.284Z"
   },
   {
    "duration": 6,
    "start_time": "2021-08-03T21:03:41.293Z"
   },
   {
    "duration": 11,
    "start_time": "2021-08-03T21:03:41.301Z"
   },
   {
    "duration": 130,
    "start_time": "2021-08-03T21:03:41.314Z"
   },
   {
    "duration": 688,
    "start_time": "2021-08-03T21:03:41.446Z"
   },
   {
    "duration": 452,
    "start_time": "2021-08-03T21:03:42.136Z"
   },
   {
    "duration": 57,
    "start_time": "2021-08-03T21:03:42.590Z"
   },
   {
    "duration": 133,
    "start_time": "2021-08-03T21:03:42.650Z"
   },
   {
    "duration": 120,
    "start_time": "2021-08-03T21:03:42.785Z"
   },
   {
    "duration": 242,
    "start_time": "2021-08-03T21:03:42.908Z"
   },
   {
    "duration": 74,
    "start_time": "2021-08-03T21:03:43.153Z"
   },
   {
    "duration": 474,
    "start_time": "2021-08-03T21:03:43.230Z"
   },
   {
    "duration": 132,
    "start_time": "2021-08-03T21:03:43.710Z"
   },
   {
    "duration": 3,
    "start_time": "2021-08-03T21:03:43.846Z"
   },
   {
    "duration": 108,
    "start_time": "2021-08-03T21:03:43.851Z"
   },
   {
    "duration": 449,
    "start_time": "2021-08-03T21:03:43.967Z"
   },
   {
    "duration": 5,
    "start_time": "2021-08-03T21:03:44.419Z"
   },
   {
    "duration": 110,
    "start_time": "2021-08-03T21:03:44.427Z"
   },
   {
    "duration": 42,
    "start_time": "2021-08-03T21:03:44.540Z"
   },
   {
    "duration": 646,
    "start_time": "2021-08-03T21:03:44.584Z"
   },
   {
    "duration": 17,
    "start_time": "2021-08-03T21:03:45.232Z"
   },
   {
    "duration": 26,
    "start_time": "2021-08-03T21:03:45.252Z"
   },
   {
    "duration": 115,
    "start_time": "2021-08-03T21:03:45.281Z"
   },
   {
    "duration": 16,
    "start_time": "2021-08-03T21:03:45.399Z"
   },
   {
    "duration": 7,
    "start_time": "2021-08-03T21:03:45.417Z"
   },
   {
    "duration": 105,
    "start_time": "2021-08-03T21:03:45.427Z"
   },
   {
    "duration": 6,
    "start_time": "2021-08-03T21:03:45.535Z"
   },
   {
    "duration": 148,
    "start_time": "2021-08-03T21:03:45.543Z"
   },
   {
    "duration": 10,
    "start_time": "2021-08-03T21:03:45.773Z"
   },
   {
    "duration": 32,
    "start_time": "2021-08-03T21:03:45.872Z"
   },
   {
    "duration": 4,
    "start_time": "2021-08-03T21:03:45.906Z"
   },
   {
    "duration": 358,
    "start_time": "2021-08-03T21:03:45.912Z"
   },
   {
    "duration": 44,
    "start_time": "2021-08-03T21:03:46.272Z"
   },
   {
    "duration": 4,
    "start_time": "2021-08-03T21:03:46.318Z"
   },
   {
    "duration": 5,
    "start_time": "2021-08-03T21:03:46.325Z"
   },
   {
    "duration": 43,
    "start_time": "2021-08-03T21:03:46.332Z"
   },
   {
    "duration": 6,
    "start_time": "2021-08-03T21:03:46.378Z"
   },
   {
    "duration": 133,
    "start_time": "2021-08-03T21:03:46.386Z"
   },
   {
    "duration": 152,
    "start_time": "2021-08-03T21:03:46.521Z"
   },
   {
    "duration": 3,
    "start_time": "2021-08-03T21:03:46.676Z"
   },
   {
    "duration": 17,
    "start_time": "2021-08-03T21:03:46.681Z"
   },
   {
    "duration": 12,
    "start_time": "2021-08-03T21:03:46.700Z"
   },
   {
    "duration": 6,
    "start_time": "2021-08-03T21:03:46.715Z"
   },
   {
    "duration": 10,
    "start_time": "2021-08-03T21:03:46.723Z"
   },
   {
    "duration": 8,
    "start_time": "2021-08-03T21:03:46.736Z"
   },
   {
    "duration": 20,
    "start_time": "2021-08-03T21:03:46.747Z"
   },
   {
    "duration": 7,
    "start_time": "2021-08-03T21:03:46.769Z"
   },
   {
    "duration": 10,
    "start_time": "2021-08-03T21:03:46.778Z"
   },
   {
    "duration": 35,
    "start_time": "2021-08-03T21:03:46.792Z"
   },
   {
    "duration": 208,
    "start_time": "2021-08-03T21:03:46.830Z"
   },
   {
    "duration": 12,
    "start_time": "2021-08-03T21:03:47.040Z"
   },
   {
    "duration": 55,
    "start_time": "2021-08-03T21:03:47.066Z"
   },
   {
    "duration": 16,
    "start_time": "2021-08-03T21:03:47.123Z"
   },
   {
    "duration": 33,
    "start_time": "2021-08-03T21:03:47.141Z"
   },
   {
    "duration": -204,
    "start_time": "2021-08-03T21:05:06.939Z"
   },
   {
    "duration": -212,
    "start_time": "2021-08-03T21:05:06.948Z"
   },
   {
    "duration": -220,
    "start_time": "2021-08-03T21:05:06.958Z"
   },
   {
    "duration": 156181,
    "start_time": "2021-08-03T21:05:11.295Z"
   },
   {
    "duration": 75505,
    "start_time": "2021-08-03T21:11:09.790Z"
   },
   {
    "duration": 7195,
    "start_time": "2021-08-03T21:25:31.575Z"
   },
   {
    "duration": 6799,
    "start_time": "2021-08-03T21:26:18.205Z"
   },
   {
    "duration": 6938,
    "start_time": "2021-08-03T21:27:06.052Z"
   },
   {
    "duration": 31,
    "start_time": "2021-08-03T21:33:33.798Z"
   },
   {
    "duration": 105,
    "start_time": "2021-08-03T21:34:26.310Z"
   },
   {
    "duration": 6599,
    "start_time": "2021-08-03T21:34:34.534Z"
   },
   {
    "duration": 6745,
    "start_time": "2021-08-03T21:35:19.264Z"
   },
   {
    "duration": 5,
    "start_time": "2021-08-03T21:35:33.613Z"
   },
   {
    "duration": 554682,
    "start_time": "2021-08-03T21:36:39.415Z"
   },
   {
    "duration": 8427,
    "start_time": "2021-08-03T21:45:58.580Z"
   },
   {
    "duration": 609623,
    "start_time": "2021-08-03T21:46:37.191Z"
   },
   {
    "duration": 1579143,
    "start_time": "2021-08-03T21:57:04.673Z"
   },
   {
    "duration": 219,
    "start_time": "2021-08-03T22:28:52.702Z"
   },
   {
    "duration": 2443,
    "start_time": "2021-08-03T22:29:11.432Z"
   },
   {
    "duration": 2572,
    "start_time": "2021-08-03T22:29:37.088Z"
   },
   {
    "duration": 6,
    "start_time": "2021-08-03T22:30:48.151Z"
   },
   {
    "duration": 2343,
    "start_time": "2021-08-03T22:31:30.571Z"
   },
   {
    "duration": 2350,
    "start_time": "2021-08-03T22:34:19.092Z"
   },
   {
    "duration": 212,
    "start_time": "2021-08-03T22:34:40.593Z"
   },
   {
    "duration": 213,
    "start_time": "2021-08-03T22:34:52.442Z"
   },
   {
    "duration": 69,
    "start_time": "2021-08-03T22:34:59.287Z"
   },
   {
    "duration": 10,
    "start_time": "2021-08-03T22:35:06.969Z"
   },
   {
    "duration": 13,
    "start_time": "2021-08-03T22:35:32.166Z"
   },
   {
    "duration": 90,
    "start_time": "2021-08-03T22:35:58.161Z"
   },
   {
    "duration": 245,
    "start_time": "2021-08-03T22:36:23.446Z"
   },
   {
    "duration": 26230,
    "start_time": "2021-08-03T22:36:32.744Z"
   },
   {
    "duration": 5327,
    "start_time": "2021-08-03T22:37:10.489Z"
   },
   {
    "duration": 4,
    "start_time": "2021-08-03T22:37:17.841Z"
   },
   {
    "duration": 5111,
    "start_time": "2021-08-03T22:39:03.968Z"
   },
   {
    "duration": 28673,
    "start_time": "2021-08-03T22:39:15.823Z"
   },
   {
    "duration": 513374,
    "start_time": "2021-08-03T22:39:52.316Z"
   },
   {
    "duration": 92,
    "start_time": "2021-08-03T22:55:37.792Z"
   },
   {
    "duration": 8,
    "start_time": "2021-08-03T22:55:43.972Z"
   },
   {
    "duration": 96,
    "start_time": "2021-08-03T22:56:07.423Z"
   },
   {
    "duration": 305,
    "start_time": "2021-08-03T22:56:16.603Z"
   },
   {
    "duration": 315,
    "start_time": "2021-08-03T22:57:31.732Z"
   },
   {
    "duration": 296,
    "start_time": "2021-08-03T22:58:27.442Z"
   },
   {
    "duration": 297,
    "start_time": "2021-08-03T22:59:11.669Z"
   },
   {
    "duration": 258,
    "start_time": "2021-08-03T22:59:17.107Z"
   },
   {
    "duration": 275,
    "start_time": "2021-08-03T22:59:49.504Z"
   },
   {
    "duration": 243564,
    "start_time": "2021-08-03T23:00:12.089Z"
   },
   {
    "duration": 3,
    "start_time": "2021-08-03T23:09:27.201Z"
   },
   {
    "duration": 4,
    "start_time": "2021-08-03T23:09:40.809Z"
   },
   {
    "duration": 7,
    "start_time": "2021-08-03T23:10:47.880Z"
   },
   {
    "duration": 292,
    "start_time": "2021-08-03T23:13:38.251Z"
   },
   {
    "duration": 306,
    "start_time": "2021-08-03T23:13:49.576Z"
   },
   {
    "duration": 286,
    "start_time": "2021-08-03T23:14:53.068Z"
   },
   {
    "duration": 299,
    "start_time": "2021-08-03T23:15:33.133Z"
   },
   {
    "duration": 278,
    "start_time": "2021-08-03T23:16:27.777Z"
   },
   {
    "duration": 4,
    "start_time": "2021-08-03T23:16:48.447Z"
   },
   {
    "duration": 1063,
    "start_time": "2021-08-04T19:19:16.170Z"
   },
   {
    "duration": 714,
    "start_time": "2021-08-04T19:19:17.235Z"
   },
   {
    "duration": 122,
    "start_time": "2021-08-04T19:19:17.951Z"
   },
   {
    "duration": 31,
    "start_time": "2021-08-04T19:19:18.075Z"
   },
   {
    "duration": 20,
    "start_time": "2021-08-04T19:19:18.107Z"
   },
   {
    "duration": 33,
    "start_time": "2021-08-04T19:19:18.129Z"
   },
   {
    "duration": 358,
    "start_time": "2021-08-04T19:19:18.164Z"
   },
   {
    "duration": 2,
    "start_time": "2021-08-04T19:19:18.524Z"
   },
   {
    "duration": 85,
    "start_time": "2021-08-04T19:19:18.528Z"
   },
   {
    "duration": 2,
    "start_time": "2021-08-04T19:19:18.615Z"
   },
   {
    "duration": 5,
    "start_time": "2021-08-04T19:19:18.618Z"
   },
   {
    "duration": 4,
    "start_time": "2021-08-04T19:19:18.625Z"
   },
   {
    "duration": 4,
    "start_time": "2021-08-04T19:19:18.631Z"
   },
   {
    "duration": 90,
    "start_time": "2021-08-04T19:19:18.636Z"
   },
   {
    "duration": 297,
    "start_time": "2021-08-04T19:19:18.727Z"
   },
   {
    "duration": 227,
    "start_time": "2021-08-04T19:19:19.026Z"
   },
   {
    "duration": 41,
    "start_time": "2021-08-04T19:19:19.255Z"
   },
   {
    "duration": 76,
    "start_time": "2021-08-04T19:19:19.297Z"
   },
   {
    "duration": 69,
    "start_time": "2021-08-04T19:19:19.374Z"
   },
   {
    "duration": 152,
    "start_time": "2021-08-04T19:19:19.445Z"
   },
   {
    "duration": 36,
    "start_time": "2021-08-04T19:19:19.598Z"
   },
   {
    "duration": 248,
    "start_time": "2021-08-04T19:19:19.636Z"
   },
   {
    "duration": 69,
    "start_time": "2021-08-04T19:19:19.887Z"
   },
   {
    "duration": 2,
    "start_time": "2021-08-04T19:19:19.959Z"
   },
   {
    "duration": 77,
    "start_time": "2021-08-04T19:19:19.962Z"
   },
   {
    "duration": 230,
    "start_time": "2021-08-04T19:19:20.041Z"
   },
   {
    "duration": 4,
    "start_time": "2021-08-04T19:19:20.272Z"
   },
   {
    "duration": 71,
    "start_time": "2021-08-04T19:19:20.277Z"
   },
   {
    "duration": 14,
    "start_time": "2021-08-04T19:19:20.349Z"
   },
   {
    "duration": 357,
    "start_time": "2021-08-04T19:19:20.365Z"
   },
   {
    "duration": 11,
    "start_time": "2021-08-04T19:19:20.724Z"
   },
   {
    "duration": 17,
    "start_time": "2021-08-04T19:19:20.737Z"
   },
   {
    "duration": 85,
    "start_time": "2021-08-04T19:19:20.756Z"
   },
   {
    "duration": 13,
    "start_time": "2021-08-04T19:19:20.842Z"
   },
   {
    "duration": 5,
    "start_time": "2021-08-04T19:19:20.857Z"
   },
   {
    "duration": 70,
    "start_time": "2021-08-04T19:19:20.863Z"
   },
   {
    "duration": 4,
    "start_time": "2021-08-04T19:19:20.935Z"
   },
   {
    "duration": 251,
    "start_time": "2021-08-04T19:19:20.941Z"
   },
   {
    "duration": 3,
    "start_time": "2021-08-04T19:19:21.194Z"
   },
   {
    "duration": 28,
    "start_time": "2021-08-04T19:19:21.199Z"
   },
   {
    "duration": 3,
    "start_time": "2021-08-04T19:19:21.228Z"
   },
   {
    "duration": 176,
    "start_time": "2021-08-04T19:19:21.232Z"
   },
   {
    "duration": 22,
    "start_time": "2021-08-04T19:19:21.410Z"
   },
   {
    "duration": 15,
    "start_time": "2021-08-04T19:19:21.433Z"
   },
   {
    "duration": 22,
    "start_time": "2021-08-04T19:19:21.449Z"
   },
   {
    "duration": 126985,
    "start_time": "2021-08-04T19:19:21.472Z"
   },
   {
    "duration": 4,
    "start_time": "2021-08-04T19:21:28.459Z"
   },
   {
    "duration": 360,
    "start_time": "2021-08-04T19:21:28.465Z"
   },
   {
    "duration": 924,
    "start_time": "2021-08-04T19:21:27.904Z"
   },
   {
    "duration": 913,
    "start_time": "2021-08-04T19:21:27.916Z"
   },
   {
    "duration": 899,
    "start_time": "2021-08-04T19:21:27.931Z"
   },
   {
    "duration": 884,
    "start_time": "2021-08-04T19:21:27.948Z"
   },
   {
    "duration": 875,
    "start_time": "2021-08-04T19:21:27.958Z"
   },
   {
    "duration": 863,
    "start_time": "2021-08-04T19:21:27.972Z"
   },
   {
    "duration": 854,
    "start_time": "2021-08-04T19:21:27.982Z"
   },
   {
    "duration": 844,
    "start_time": "2021-08-04T19:21:27.993Z"
   },
   {
    "duration": 835,
    "start_time": "2021-08-04T19:21:28.003Z"
   },
   {
    "duration": 826,
    "start_time": "2021-08-04T19:21:28.014Z"
   },
   {
    "duration": 817,
    "start_time": "2021-08-04T19:21:28.024Z"
   },
   {
    "duration": 806,
    "start_time": "2021-08-04T19:21:28.037Z"
   },
   {
    "duration": 797,
    "start_time": "2021-08-04T19:21:28.047Z"
   },
   {
    "duration": 783,
    "start_time": "2021-08-04T19:21:28.062Z"
   },
   {
    "duration": 770,
    "start_time": "2021-08-04T19:21:28.076Z"
   },
   {
    "duration": 477,
    "start_time": "2021-08-04T19:21:28.371Z"
   },
   {
    "duration": 453,
    "start_time": "2021-08-04T19:21:28.396Z"
   },
   {
    "duration": 196,
    "start_time": "2021-08-04T19:21:28.654Z"
   },
   {
    "duration": 183,
    "start_time": "2021-08-04T19:21:28.669Z"
   },
   {
    "duration": 146,
    "start_time": "2021-08-04T19:21:28.707Z"
   },
   {
    "duration": 119,
    "start_time": "2021-08-04T19:21:28.735Z"
   },
   {
    "duration": 98,
    "start_time": "2021-08-04T19:21:28.757Z"
   },
   {
    "duration": 79,
    "start_time": "2021-08-04T19:21:28.778Z"
   },
   {
    "duration": 37,
    "start_time": "2021-08-04T19:21:28.821Z"
   },
   {
    "duration": 17,
    "start_time": "2021-08-04T19:21:28.842Z"
   },
   {
    "duration": 2,
    "start_time": "2021-08-04T19:21:28.859Z"
   },
   {
    "duration": 4,
    "start_time": "2021-08-04T19:57:40.468Z"
   },
   {
    "duration": 656,
    "start_time": "2021-08-04T19:57:43.852Z"
   },
   {
    "duration": 116,
    "start_time": "2021-08-04T19:57:53.732Z"
   },
   {
    "duration": 221,
    "start_time": "2021-08-04T21:23:12.087Z"
   },
   {
    "duration": 124,
    "start_time": "2021-08-04T21:23:17.161Z"
   },
   {
    "duration": 457,
    "start_time": "2021-08-04T21:35:45.955Z"
   },
   {
    "duration": 3,
    "start_time": "2021-08-04T21:36:11.134Z"
   },
   {
    "duration": 235,
    "start_time": "2021-08-04T21:36:19.636Z"
   },
   {
    "duration": 277,
    "start_time": "2021-08-04T21:36:49.623Z"
   },
   {
    "duration": 264,
    "start_time": "2021-08-04T21:37:00.196Z"
   },
   {
    "duration": 224,
    "start_time": "2021-08-04T21:38:02.796Z"
   },
   {
    "duration": 243,
    "start_time": "2021-08-04T21:38:15.608Z"
   },
   {
    "duration": 326,
    "start_time": "2021-08-04T21:38:25.848Z"
   },
   {
    "duration": 44,
    "start_time": "2021-08-04T21:39:34.237Z"
   },
   {
    "duration": 676,
    "start_time": "2021-08-04T21:46:52.157Z"
   },
   {
    "duration": 55,
    "start_time": "2021-08-04T21:47:19.461Z"
   },
   {
    "duration": 64,
    "start_time": "2021-08-04T21:47:34.946Z"
   },
   {
    "duration": 32,
    "start_time": "2021-08-04T21:47:39.252Z"
   },
   {
    "duration": 31,
    "start_time": "2021-08-04T21:48:17.587Z"
   },
   {
    "duration": 34,
    "start_time": "2021-08-04T21:49:29.437Z"
   },
   {
    "duration": 298,
    "start_time": "2021-08-04T21:49:38.550Z"
   },
   {
    "duration": 683,
    "start_time": "2021-08-04T21:49:44.492Z"
   },
   {
    "duration": 112,
    "start_time": "2021-08-04T21:49:46.608Z"
   },
   {
    "duration": 111,
    "start_time": "2021-08-04T21:49:47.468Z"
   },
   {
    "duration": 296,
    "start_time": "2021-08-04T21:49:48.246Z"
   },
   {
    "duration": 221,
    "start_time": "2021-08-04T21:50:23.982Z"
   },
   {
    "duration": 215,
    "start_time": "2021-08-04T21:50:46.438Z"
   },
   {
    "duration": 31,
    "start_time": "2021-08-04T21:52:57.663Z"
   },
   {
    "duration": 55,
    "start_time": "2021-08-04T21:54:07.670Z"
   },
   {
    "duration": 48,
    "start_time": "2021-08-04T21:54:15.701Z"
   },
   {
    "duration": 2,
    "start_time": "2021-08-04T21:56:54.321Z"
   },
   {
    "duration": 67,
    "start_time": "2021-08-04T21:56:56.140Z"
   },
   {
    "duration": 253,
    "start_time": "2021-08-04T21:56:57.681Z"
   },
   {
    "duration": 244,
    "start_time": "2021-08-04T21:57:01.370Z"
   },
   {
    "duration": 235,
    "start_time": "2021-08-04T22:01:23.190Z"
   },
   {
    "duration": 234,
    "start_time": "2021-08-04T22:01:40.202Z"
   },
   {
    "duration": 31,
    "start_time": "2021-08-04T22:01:51.973Z"
   },
   {
    "duration": 5585,
    "start_time": "2021-08-04T22:03:25.142Z"
   },
   {
    "duration": 19,
    "start_time": "2021-08-04T22:03:36.212Z"
   },
   {
    "duration": 271,
    "start_time": "2021-08-04T22:05:36.582Z"
   },
   {
    "duration": 70,
    "start_time": "2021-08-04T22:05:42.054Z"
   },
   {
    "duration": 25,
    "start_time": "2021-08-04T22:05:59.111Z"
   },
   {
    "duration": 3,
    "start_time": "2021-08-04T22:07:04.975Z"
   },
   {
    "duration": 669,
    "start_time": "2021-08-04T22:07:06.593Z"
   },
   {
    "duration": 107,
    "start_time": "2021-08-04T22:07:09.801Z"
   },
   {
    "duration": 111,
    "start_time": "2021-08-04T22:07:10.689Z"
   },
   {
    "duration": 296,
    "start_time": "2021-08-04T22:07:13.126Z"
   },
   {
    "duration": 55,
    "start_time": "2021-08-04T22:07:15.407Z"
   },
   {
    "duration": 52,
    "start_time": "2021-08-04T22:07:19.324Z"
   },
   {
    "duration": 3,
    "start_time": "2021-08-04T22:07:55.182Z"
   },
   {
    "duration": 67,
    "start_time": "2021-08-04T22:07:58.314Z"
   },
   {
    "duration": 257,
    "start_time": "2021-08-04T22:08:02.184Z"
   },
   {
    "duration": 246,
    "start_time": "2021-08-04T22:08:33.679Z"
   },
   {
    "duration": 239,
    "start_time": "2021-08-04T22:09:03.480Z"
   },
   {
    "duration": 45,
    "start_time": "2021-08-04T22:09:09.029Z"
   },
   {
    "duration": 48,
    "start_time": "2021-08-04T22:09:17.715Z"
   },
   {
    "duration": 34,
    "start_time": "2021-08-04T22:09:42.519Z"
   },
   {
    "duration": 3,
    "start_time": "2021-08-04T22:12:40.265Z"
   },
   {
    "duration": 2,
    "start_time": "2021-08-04T22:12:53.530Z"
   },
   {
    "duration": 67,
    "start_time": "2021-08-04T22:12:54.981Z"
   },
   {
    "duration": 227,
    "start_time": "2021-08-04T22:13:15.352Z"
   },
   {
    "duration": 45,
    "start_time": "2021-08-04T22:13:31.877Z"
   },
   {
    "duration": 224,
    "start_time": "2021-08-04T22:14:31.724Z"
   },
   {
    "duration": 30,
    "start_time": "2021-08-04T22:14:35.241Z"
   },
   {
    "duration": 54,
    "start_time": "2021-08-04T22:15:38.569Z"
   },
   {
    "duration": 58,
    "start_time": "2021-08-04T22:20:30.108Z"
   },
   {
    "duration": 71,
    "start_time": "2021-08-04T22:20:43.510Z"
   },
   {
    "duration": 35,
    "start_time": "2021-08-04T22:20:52.890Z"
   },
   {
    "duration": 38,
    "start_time": "2021-08-04T22:21:17.518Z"
   },
   {
    "duration": 53,
    "start_time": "2021-08-04T22:22:58.051Z"
   },
   {
    "duration": 51,
    "start_time": "2021-08-04T22:23:12.393Z"
   },
   {
    "duration": 655,
    "start_time": "2021-08-04T22:23:32.037Z"
   },
   {
    "duration": 115,
    "start_time": "2021-08-04T22:23:33.832Z"
   },
   {
    "duration": 118,
    "start_time": "2021-08-04T22:23:35.726Z"
   },
   {
    "duration": 302,
    "start_time": "2021-08-04T22:23:37.494Z"
   },
   {
    "duration": 55,
    "start_time": "2021-08-04T22:23:38.420Z"
   },
   {
    "duration": 47,
    "start_time": "2021-08-04T22:23:39.214Z"
   },
   {
    "duration": 3,
    "start_time": "2021-08-04T22:23:41.632Z"
   },
   {
    "duration": 68,
    "start_time": "2021-08-04T22:23:42.899Z"
   },
   {
    "duration": 30,
    "start_time": "2021-08-04T22:23:45.162Z"
   },
   {
    "duration": 255,
    "start_time": "2021-08-04T22:23:45.974Z"
   },
   {
    "duration": 240,
    "start_time": "2021-08-04T22:23:47.887Z"
   },
   {
    "duration": 50,
    "start_time": "2021-08-04T22:23:52.890Z"
   },
   {
    "duration": 52,
    "start_time": "2021-08-04T22:25:28.130Z"
   },
   {
    "duration": 641,
    "start_time": "2021-08-04T22:25:36.680Z"
   },
   {
    "duration": 120,
    "start_time": "2021-08-04T22:25:37.605Z"
   },
   {
    "duration": 122,
    "start_time": "2021-08-04T22:25:38.296Z"
   },
   {
    "duration": 309,
    "start_time": "2021-08-04T22:25:38.946Z"
   },
   {
    "duration": 54,
    "start_time": "2021-08-04T22:25:39.600Z"
   },
   {
    "duration": 46,
    "start_time": "2021-08-04T22:25:40.136Z"
   },
   {
    "duration": 3,
    "start_time": "2021-08-04T22:25:41.624Z"
   },
   {
    "duration": 176,
    "start_time": "2021-08-04T22:25:42.174Z"
   },
   {
    "duration": 30,
    "start_time": "2021-08-04T22:25:42.964Z"
   },
   {
    "duration": 243,
    "start_time": "2021-08-04T22:25:43.534Z"
   },
   {
    "duration": 242,
    "start_time": "2021-08-04T22:25:44.197Z"
   },
   {
    "duration": 50,
    "start_time": "2021-08-04T22:25:45.344Z"
   },
   {
    "duration": 54,
    "start_time": "2021-08-04T22:28:32.058Z"
   },
   {
    "duration": 111,
    "start_time": "2021-08-04T22:28:34.194Z"
   },
   {
    "duration": 29,
    "start_time": "2021-08-04T22:29:10.281Z"
   },
   {
    "duration": 647,
    "start_time": "2021-08-04T22:42:34.766Z"
   },
   {
    "duration": 125,
    "start_time": "2021-08-04T22:42:35.415Z"
   },
   {
    "duration": 118,
    "start_time": "2021-08-04T22:42:35.998Z"
   },
   {
    "duration": 306,
    "start_time": "2021-08-04T22:42:36.716Z"
   },
   {
    "duration": 56,
    "start_time": "2021-08-04T22:42:37.300Z"
   },
   {
    "duration": 47,
    "start_time": "2021-08-04T22:42:37.925Z"
   },
   {
    "duration": 3,
    "start_time": "2021-08-04T22:42:39.278Z"
   },
   {
    "duration": 67,
    "start_time": "2021-08-04T22:42:39.825Z"
   },
   {
    "duration": 30,
    "start_time": "2021-08-04T22:42:40.520Z"
   },
   {
    "duration": 256,
    "start_time": "2021-08-04T22:42:41.224Z"
   },
   {
    "duration": 246,
    "start_time": "2021-08-04T22:42:41.822Z"
   },
   {
    "duration": 51,
    "start_time": "2021-08-04T22:42:42.506Z"
   },
   {
    "duration": 137,
    "start_time": "2021-08-04T22:42:45.012Z"
   },
   {
    "duration": 164,
    "start_time": "2021-08-04T22:43:17.265Z"
   },
   {
    "duration": 645,
    "start_time": "2021-08-04T22:43:23.592Z"
   },
   {
    "duration": 126,
    "start_time": "2021-08-04T22:43:24.239Z"
   },
   {
    "duration": 124,
    "start_time": "2021-08-04T22:43:24.623Z"
   },
   {
    "duration": 313,
    "start_time": "2021-08-04T22:43:25.102Z"
   },
   {
    "duration": 55,
    "start_time": "2021-08-04T22:43:25.552Z"
   },
   {
    "duration": 47,
    "start_time": "2021-08-04T22:43:26.175Z"
   },
   {
    "duration": 3,
    "start_time": "2021-08-04T22:43:27.131Z"
   },
   {
    "duration": 67,
    "start_time": "2021-08-04T22:43:27.705Z"
   },
   {
    "duration": 30,
    "start_time": "2021-08-04T22:43:28.303Z"
   },
   {
    "duration": 248,
    "start_time": "2021-08-04T22:43:28.992Z"
   },
   {
    "duration": 246,
    "start_time": "2021-08-04T22:43:30.282Z"
   },
   {
    "duration": 52,
    "start_time": "2021-08-04T22:43:31.000Z"
   },
   {
    "duration": 167,
    "start_time": "2021-08-04T22:43:32.886Z"
   },
   {
    "duration": 108,
    "start_time": "2021-08-04T22:43:36.312Z"
   },
   {
    "duration": 30,
    "start_time": "2021-08-04T22:46:54.424Z"
   },
   {
    "duration": 242,
    "start_time": "2021-08-04T22:47:25.721Z"
   },
   {
    "duration": 338,
    "start_time": "2021-08-04T22:48:13.123Z"
   },
   {
    "duration": 66,
    "start_time": "2021-08-04T22:48:52.124Z"
   },
   {
    "duration": 38,
    "start_time": "2021-08-04T22:49:08.896Z"
   },
   {
    "duration": 22,
    "start_time": "2021-08-04T22:49:18.287Z"
   },
   {
    "duration": 112,
    "start_time": "2021-08-04T22:49:37.347Z"
   },
   {
    "duration": 646,
    "start_time": "2021-08-04T22:50:39.723Z"
   },
   {
    "duration": 119,
    "start_time": "2021-08-04T22:50:40.686Z"
   },
   {
    "duration": 120,
    "start_time": "2021-08-04T22:50:41.471Z"
   },
   {
    "duration": 305,
    "start_time": "2021-08-04T22:50:42.149Z"
   },
   {
    "duration": 55,
    "start_time": "2021-08-04T22:50:42.931Z"
   },
   {
    "duration": 50,
    "start_time": "2021-08-04T22:50:43.575Z"
   },
   {
    "duration": 2,
    "start_time": "2021-08-04T22:50:45.588Z"
   },
   {
    "duration": 67,
    "start_time": "2021-08-04T22:50:46.476Z"
   },
   {
    "duration": 30,
    "start_time": "2021-08-04T22:50:47.620Z"
   },
   {
    "duration": 259,
    "start_time": "2021-08-04T22:50:48.536Z"
   },
   {
    "duration": 240,
    "start_time": "2021-08-04T22:50:49.570Z"
   },
   {
    "duration": 55,
    "start_time": "2021-08-04T22:50:53.594Z"
   },
   {
    "duration": 169,
    "start_time": "2021-08-04T22:50:59.096Z"
   },
   {
    "duration": 143,
    "start_time": "2021-08-04T22:51:01.610Z"
   },
   {
    "duration": 39,
    "start_time": "2021-08-04T22:51:18.648Z"
   },
   {
    "duration": 244,
    "start_time": "2021-08-04T22:51:28.459Z"
   },
   {
    "duration": 213,
    "start_time": "2021-08-04T22:51:34.930Z"
   },
   {
    "duration": 253,
    "start_time": "2021-08-04T22:52:42.486Z"
   },
   {
    "duration": 68,
    "start_time": "2021-08-04T22:52:50.290Z"
   },
   {
    "duration": 51,
    "start_time": "2021-08-04T22:53:24.419Z"
   },
   {
    "duration": 222,
    "start_time": "2021-08-04T22:53:51.988Z"
   },
   {
    "duration": 60,
    "start_time": "2021-08-04T22:54:49.618Z"
   },
   {
    "duration": 14,
    "start_time": "2021-08-04T23:17:36.831Z"
   },
   {
    "duration": 15,
    "start_time": "2021-08-04T23:18:07.661Z"
   },
   {
    "duration": 386,
    "start_time": "2021-08-04T23:18:53.953Z"
   },
   {
    "duration": 9,
    "start_time": "2021-08-04T23:18:55.692Z"
   },
   {
    "duration": 338,
    "start_time": "2021-08-04T23:19:41.690Z"
   },
   {
    "duration": 10,
    "start_time": "2021-08-04T23:19:42.982Z"
   },
   {
    "duration": 15,
    "start_time": "2021-08-04T23:20:34.658Z"
   },
   {
    "duration": 341,
    "start_time": "2021-08-04T23:20:51.843Z"
   },
   {
    "duration": 9,
    "start_time": "2021-08-04T23:20:53.368Z"
   },
   {
    "duration": 13,
    "start_time": "2021-08-04T23:21:03.133Z"
   },
   {
    "duration": 15,
    "start_time": "2021-08-04T23:21:04.257Z"
   },
   {
    "duration": 3,
    "start_time": "2021-08-04T23:25:30.596Z"
   },
   {
    "duration": 4,
    "start_time": "2021-08-04T23:28:32.409Z"
   },
   {
    "duration": 3,
    "start_time": "2021-08-04T23:30:43.521Z"
   },
   {
    "duration": 4,
    "start_time": "2021-08-04T23:45:36.297Z"
   },
   {
    "duration": 3,
    "start_time": "2021-08-04T23:46:04.970Z"
   },
   {
    "duration": 3,
    "start_time": "2021-08-04T23:46:05.588Z"
   },
   {
    "duration": 3,
    "start_time": "2021-08-04T23:46:06.124Z"
   },
   {
    "duration": 4,
    "start_time": "2021-08-04T23:46:37.983Z"
   },
   {
    "duration": 3,
    "start_time": "2021-08-04T23:46:43.407Z"
   },
   {
    "duration": 3,
    "start_time": "2021-08-04T23:47:26.797Z"
   },
   {
    "duration": 4,
    "start_time": "2021-08-04T23:47:42.133Z"
   },
   {
    "duration": 4,
    "start_time": "2021-08-04T23:47:51.191Z"
   },
   {
    "duration": 3,
    "start_time": "2021-08-04T23:54:11.761Z"
   },
   {
    "duration": 58,
    "start_time": "2021-08-04T23:56:15.584Z"
   },
   {
    "duration": 14,
    "start_time": "2021-08-04T23:56:27.219Z"
   },
   {
    "duration": 5,
    "start_time": "2021-08-04T23:56:38.273Z"
   },
   {
    "duration": 2,
    "start_time": "2021-08-04T23:57:55.582Z"
   },
   {
    "duration": 2439,
    "start_time": "2021-08-05T00:00:44.850Z"
   },
   {
    "duration": 3,
    "start_time": "2021-08-05T00:02:36.004Z"
   },
   {
    "duration": 3,
    "start_time": "2021-08-05T00:03:00.706Z"
   },
   {
    "duration": 62,
    "start_time": "2021-08-05T00:03:35.655Z"
   },
   {
    "duration": 3,
    "start_time": "2021-08-05T00:03:36.463Z"
   },
   {
    "duration": 2414,
    "start_time": "2021-08-05T00:03:37.153Z"
   },
   {
    "duration": 4,
    "start_time": "2021-08-05T00:04:09.164Z"
   },
   {
    "duration": 2277,
    "start_time": "2021-08-05T00:04:12.030Z"
   },
   {
    "duration": 3,
    "start_time": "2021-08-05T00:04:48.401Z"
   },
   {
    "duration": 4,
    "start_time": "2021-08-05T00:04:49.620Z"
   },
   {
    "duration": 1987,
    "start_time": "2021-08-05T00:04:55.626Z"
   },
   {
    "duration": 3,
    "start_time": "2021-08-05T00:05:59.744Z"
   },
   {
    "duration": 4,
    "start_time": "2021-08-05T00:06:01.056Z"
   },
   {
    "duration": 2353,
    "start_time": "2021-08-05T00:06:12.268Z"
   },
   {
    "duration": 3,
    "start_time": "2021-08-05T00:08:33.031Z"
   },
   {
    "duration": 4,
    "start_time": "2021-08-05T00:08:34.731Z"
   },
   {
    "duration": 2057,
    "start_time": "2021-08-05T00:08:39.647Z"
   },
   {
    "duration": 276,
    "start_time": "2021-08-05T00:09:18.946Z"
   },
   {
    "duration": 5,
    "start_time": "2021-08-05T00:09:55.571Z"
   },
   {
    "duration": 4,
    "start_time": "2021-08-05T00:10:08.246Z"
   },
   {
    "duration": 13,
    "start_time": "2021-08-05T00:10:18.882Z"
   },
   {
    "duration": 5,
    "start_time": "2021-08-05T00:10:42.577Z"
   },
   {
    "duration": 15,
    "start_time": "2021-08-05T00:11:08.540Z"
   },
   {
    "duration": 14,
    "start_time": "2021-08-05T00:11:15.906Z"
   },
   {
    "duration": 12,
    "start_time": "2021-08-05T00:11:42.621Z"
   },
   {
    "duration": 13,
    "start_time": "2021-08-05T00:12:15.078Z"
   },
   {
    "duration": 12,
    "start_time": "2021-08-05T00:12:29.302Z"
   },
   {
    "duration": 1096,
    "start_time": "2021-08-05T00:12:56.254Z"
   },
   {
    "duration": 751,
    "start_time": "2021-08-05T00:12:57.352Z"
   },
   {
    "duration": 115,
    "start_time": "2021-08-05T00:12:58.105Z"
   },
   {
    "duration": 126,
    "start_time": "2021-08-05T00:12:58.222Z"
   },
   {
    "duration": 361,
    "start_time": "2021-08-05T00:12:58.350Z"
   },
   {
    "duration": 54,
    "start_time": "2021-08-05T00:12:58.713Z"
   },
   {
    "duration": 65,
    "start_time": "2021-08-05T00:12:58.769Z"
   },
   {
    "duration": 3,
    "start_time": "2021-08-05T00:12:58.836Z"
   },
   {
    "duration": 82,
    "start_time": "2021-08-05T00:12:58.841Z"
   },
   {
    "duration": 29,
    "start_time": "2021-08-05T00:12:58.925Z"
   },
   {
    "duration": 252,
    "start_time": "2021-08-05T00:12:58.956Z"
   },
   {
    "duration": 254,
    "start_time": "2021-08-05T00:12:59.210Z"
   },
   {
    "duration": 62,
    "start_time": "2021-08-05T00:12:59.465Z"
   },
   {
    "duration": 306,
    "start_time": "2021-08-05T00:12:59.529Z"
   },
   {
    "duration": 739,
    "start_time": "2021-08-05T00:12:59.099Z"
   },
   {
    "duration": 722,
    "start_time": "2021-08-05T00:12:59.117Z"
   },
   {
    "duration": 710,
    "start_time": "2021-08-05T00:12:59.130Z"
   },
   {
    "duration": 699,
    "start_time": "2021-08-05T00:12:59.141Z"
   },
   {
    "duration": 690,
    "start_time": "2021-08-05T00:12:59.151Z"
   },
   {
    "duration": 669,
    "start_time": "2021-08-05T00:12:59.173Z"
   },
   {
    "duration": 640,
    "start_time": "2021-08-05T00:12:59.202Z"
   },
   {
    "duration": 618,
    "start_time": "2021-08-05T00:12:59.225Z"
   },
   {
    "duration": 605,
    "start_time": "2021-08-05T00:12:59.239Z"
   },
   {
    "duration": 584,
    "start_time": "2021-08-05T00:12:59.260Z"
   },
   {
    "duration": 566,
    "start_time": "2021-08-05T00:12:59.279Z"
   },
   {
    "duration": 537,
    "start_time": "2021-08-05T00:12:59.309Z"
   },
   {
    "duration": 479,
    "start_time": "2021-08-05T00:12:59.368Z"
   },
   {
    "duration": 467,
    "start_time": "2021-08-05T00:12:59.381Z"
   },
   {
    "duration": 457,
    "start_time": "2021-08-05T00:12:59.391Z"
   },
   {
    "duration": 446,
    "start_time": "2021-08-05T00:12:59.403Z"
   },
   {
    "duration": 426,
    "start_time": "2021-08-05T00:12:59.424Z"
   },
   {
    "duration": 416,
    "start_time": "2021-08-05T00:12:59.435Z"
   },
   {
    "duration": 408,
    "start_time": "2021-08-05T00:12:59.443Z"
   },
   {
    "duration": 401,
    "start_time": "2021-08-05T00:12:59.451Z"
   },
   {
    "duration": 395,
    "start_time": "2021-08-05T00:12:59.458Z"
   },
   {
    "duration": 384,
    "start_time": "2021-08-05T00:12:59.470Z"
   },
   {
    "duration": 372,
    "start_time": "2021-08-05T00:12:59.483Z"
   },
   {
    "duration": 364,
    "start_time": "2021-08-05T00:12:59.491Z"
   },
   {
    "duration": 357,
    "start_time": "2021-08-05T00:12:59.499Z"
   },
   {
    "duration": 350,
    "start_time": "2021-08-05T00:12:59.507Z"
   },
   {
    "duration": 340,
    "start_time": "2021-08-05T00:12:59.518Z"
   },
   {
    "duration": 317,
    "start_time": "2021-08-05T00:12:59.541Z"
   },
   {
    "duration": 309,
    "start_time": "2021-08-05T00:12:59.550Z"
   },
   {
    "duration": 300,
    "start_time": "2021-08-05T00:12:59.560Z"
   },
   {
    "duration": 294,
    "start_time": "2021-08-05T00:12:59.567Z"
   },
   {
    "duration": 286,
    "start_time": "2021-08-05T00:12:59.576Z"
   },
   {
    "duration": 280,
    "start_time": "2021-08-05T00:12:59.583Z"
   },
   {
    "duration": 272,
    "start_time": "2021-08-05T00:12:59.591Z"
   },
   {
    "duration": 264,
    "start_time": "2021-08-05T00:12:59.600Z"
   },
   {
    "duration": 257,
    "start_time": "2021-08-05T00:12:59.608Z"
   },
   {
    "duration": 251,
    "start_time": "2021-08-05T00:12:59.615Z"
   },
   {
    "duration": 244,
    "start_time": "2021-08-05T00:12:59.623Z"
   },
   {
    "duration": 237,
    "start_time": "2021-08-05T00:12:59.631Z"
   },
   {
    "duration": 213,
    "start_time": "2021-08-05T00:12:59.656Z"
   },
   {
    "duration": 201,
    "start_time": "2021-08-05T00:12:59.669Z"
   },
   {
    "duration": 196,
    "start_time": "2021-08-05T00:12:59.677Z"
   },
   {
    "duration": 190,
    "start_time": "2021-08-05T00:12:59.684Z"
   },
   {
    "duration": 182,
    "start_time": "2021-08-05T00:12:59.693Z"
   },
   {
    "duration": 176,
    "start_time": "2021-08-05T00:12:59.700Z"
   },
   {
    "duration": 169,
    "start_time": "2021-08-05T00:12:59.708Z"
   },
   {
    "duration": 174,
    "start_time": "2021-08-05T00:12:59.717Z"
   },
   {
    "duration": 166,
    "start_time": "2021-08-05T00:12:59.726Z"
   },
   {
    "duration": 160,
    "start_time": "2021-08-05T00:12:59.733Z"
   },
   {
    "duration": 1109,
    "start_time": "2021-08-05T00:13:40.523Z"
   },
   {
    "duration": 718,
    "start_time": "2021-08-05T00:13:41.634Z"
   },
   {
    "duration": 111,
    "start_time": "2021-08-05T00:13:42.354Z"
   },
   {
    "duration": 116,
    "start_time": "2021-08-05T00:13:42.466Z"
   },
   {
    "duration": 354,
    "start_time": "2021-08-05T00:13:42.584Z"
   },
   {
    "duration": 62,
    "start_time": "2021-08-05T00:13:42.939Z"
   },
   {
    "duration": 57,
    "start_time": "2021-08-05T00:13:43.003Z"
   },
   {
    "duration": 2,
    "start_time": "2021-08-05T00:13:43.062Z"
   },
   {
    "duration": 81,
    "start_time": "2021-08-05T00:13:43.066Z"
   },
   {
    "duration": 30,
    "start_time": "2021-08-05T00:13:43.148Z"
   },
   {
    "duration": 253,
    "start_time": "2021-08-05T00:13:43.179Z"
   },
   {
    "duration": 242,
    "start_time": "2021-08-05T00:13:43.434Z"
   },
   {
    "duration": 55,
    "start_time": "2021-08-05T00:13:43.678Z"
   },
   {
    "duration": 67,
    "start_time": "2021-08-05T00:13:43.735Z"
   },
   {
    "duration": 139,
    "start_time": "2021-08-05T00:13:43.804Z"
   },
   {
    "duration": 37,
    "start_time": "2021-08-05T00:13:43.945Z"
   },
   {
    "duration": 217,
    "start_time": "2021-08-05T00:13:43.992Z"
   },
   {
    "duration": 86,
    "start_time": "2021-08-05T00:13:44.211Z"
   },
   {
    "duration": 31,
    "start_time": "2021-08-05T00:13:44.299Z"
   },
   {
    "duration": 79,
    "start_time": "2021-08-05T00:13:44.331Z"
   },
   {
    "duration": 304,
    "start_time": "2021-08-05T00:13:44.412Z"
   },
   {
    "duration": 692,
    "start_time": "2021-08-05T00:13:44.027Z"
   },
   {
    "duration": 682,
    "start_time": "2021-08-05T00:13:44.039Z"
   },
   {
    "duration": 675,
    "start_time": "2021-08-05T00:13:44.047Z"
   },
   {
    "duration": 663,
    "start_time": "2021-08-05T00:13:44.060Z"
   },
   {
    "duration": 653,
    "start_time": "2021-08-05T00:13:44.071Z"
   },
   {
    "duration": 635,
    "start_time": "2021-08-05T00:13:44.091Z"
   },
   {
    "duration": 618,
    "start_time": "2021-08-05T00:13:44.109Z"
   },
   {
    "duration": 586,
    "start_time": "2021-08-05T00:13:44.142Z"
   },
   {
    "duration": 577,
    "start_time": "2021-08-05T00:13:44.153Z"
   },
   {
    "duration": 562,
    "start_time": "2021-08-05T00:13:44.169Z"
   },
   {
    "duration": 546,
    "start_time": "2021-08-05T00:13:44.186Z"
   },
   {
    "duration": 483,
    "start_time": "2021-08-05T00:13:44.251Z"
   },
   {
    "duration": 402,
    "start_time": "2021-08-05T00:13:44.333Z"
   },
   {
    "duration": 362,
    "start_time": "2021-08-05T00:13:44.374Z"
   },
   {
    "duration": 346,
    "start_time": "2021-08-05T00:13:44.391Z"
   },
   {
    "duration": 334,
    "start_time": "2021-08-05T00:13:44.405Z"
   },
   {
    "duration": 327,
    "start_time": "2021-08-05T00:13:44.413Z"
   },
   {
    "duration": 316,
    "start_time": "2021-08-05T00:13:44.425Z"
   },
   {
    "duration": 306,
    "start_time": "2021-08-05T00:13:44.437Z"
   },
   {
    "duration": 297,
    "start_time": "2021-08-05T00:13:44.447Z"
   },
   {
    "duration": 288,
    "start_time": "2021-08-05T00:13:44.457Z"
   },
   {
    "duration": 257,
    "start_time": "2021-08-05T00:13:44.489Z"
   },
   {
    "duration": 246,
    "start_time": "2021-08-05T00:13:44.502Z"
   },
   {
    "duration": 237,
    "start_time": "2021-08-05T00:13:44.512Z"
   },
   {
    "duration": 229,
    "start_time": "2021-08-05T00:13:44.521Z"
   },
   {
    "duration": 222,
    "start_time": "2021-08-05T00:13:44.530Z"
   },
   {
    "duration": 215,
    "start_time": "2021-08-05T00:13:44.538Z"
   },
   {
    "duration": 207,
    "start_time": "2021-08-05T00:13:44.547Z"
   },
   {
    "duration": 200,
    "start_time": "2021-08-05T00:13:44.555Z"
   },
   {
    "duration": 193,
    "start_time": "2021-08-05T00:13:44.564Z"
   },
   {
    "duration": 186,
    "start_time": "2021-08-05T00:13:44.572Z"
   },
   {
    "duration": 159,
    "start_time": "2021-08-05T00:13:44.600Z"
   },
   {
    "duration": 181,
    "start_time": "2021-08-05T00:13:44.611Z"
   },
   {
    "duration": 172,
    "start_time": "2021-08-05T00:13:44.621Z"
   },
   {
    "duration": 166,
    "start_time": "2021-08-05T00:13:44.628Z"
   },
   {
    "duration": 158,
    "start_time": "2021-08-05T00:13:44.638Z"
   },
   {
    "duration": 151,
    "start_time": "2021-08-05T00:13:44.646Z"
   },
   {
    "duration": 142,
    "start_time": "2021-08-05T00:13:44.656Z"
   },
   {
    "duration": 136,
    "start_time": "2021-08-05T00:13:44.663Z"
   },
   {
    "duration": 128,
    "start_time": "2021-08-05T00:13:44.673Z"
   },
   {
    "duration": 120,
    "start_time": "2021-08-05T00:13:44.682Z"
   },
   {
    "duration": 112,
    "start_time": "2021-08-05T00:13:44.691Z"
   },
   {
    "duration": 1048,
    "start_time": "2021-08-05T00:14:07.197Z"
   },
   {
    "duration": 726,
    "start_time": "2021-08-05T00:14:08.247Z"
   },
   {
    "duration": 110,
    "start_time": "2021-08-05T00:14:08.975Z"
   },
   {
    "duration": 120,
    "start_time": "2021-08-05T00:14:09.087Z"
   },
   {
    "duration": 351,
    "start_time": "2021-08-05T00:14:09.209Z"
   },
   {
    "duration": 63,
    "start_time": "2021-08-05T00:14:09.562Z"
   },
   {
    "duration": 64,
    "start_time": "2021-08-05T00:14:09.627Z"
   },
   {
    "duration": 3,
    "start_time": "2021-08-05T00:14:09.693Z"
   },
   {
    "duration": 72,
    "start_time": "2021-08-05T00:14:09.697Z"
   },
   {
    "duration": 38,
    "start_time": "2021-08-05T00:14:09.770Z"
   },
   {
    "duration": 255,
    "start_time": "2021-08-05T00:14:09.809Z"
   },
   {
    "duration": 243,
    "start_time": "2021-08-05T00:14:10.066Z"
   },
   {
    "duration": 52,
    "start_time": "2021-08-05T00:14:10.310Z"
   },
   {
    "duration": 71,
    "start_time": "2021-08-05T00:14:10.363Z"
   },
   {
    "duration": 136,
    "start_time": "2021-08-05T00:14:10.436Z"
   },
   {
    "duration": 41,
    "start_time": "2021-08-05T00:14:10.573Z"
   },
   {
    "duration": 221,
    "start_time": "2021-08-05T00:14:10.615Z"
   },
   {
    "duration": 79,
    "start_time": "2021-08-05T00:14:10.837Z"
   },
   {
    "duration": 30,
    "start_time": "2021-08-05T00:14:10.917Z"
   },
   {
    "duration": 72,
    "start_time": "2021-08-05T00:14:10.949Z"
   },
   {
    "duration": 13,
    "start_time": "2021-08-05T00:14:11.023Z"
   },
   {
    "duration": 354,
    "start_time": "2021-08-05T00:14:11.037Z"
   },
   {
    "duration": 8,
    "start_time": "2021-08-05T00:14:11.395Z"
   },
   {
    "duration": 14,
    "start_time": "2021-08-05T00:14:11.405Z"
   },
   {
    "duration": 3,
    "start_time": "2021-08-05T00:14:11.421Z"
   },
   {
    "duration": 6,
    "start_time": "2021-08-05T00:14:11.425Z"
   },
   {
    "duration": 6,
    "start_time": "2021-08-05T00:14:11.432Z"
   },
   {
    "duration": 5,
    "start_time": "2021-08-05T00:14:11.439Z"
   },
   {
    "duration": 89,
    "start_time": "2021-08-05T00:14:11.445Z"
   },
   {
    "duration": 4,
    "start_time": "2021-08-05T00:14:11.535Z"
   },
   {
    "duration": 8,
    "start_time": "2021-08-05T00:14:11.541Z"
   },
   {
    "duration": 2066,
    "start_time": "2021-08-05T00:14:11.550Z"
   },
   {
    "duration": 509,
    "start_time": "2021-08-05T00:14:13.617Z"
   },
   {
    "duration": 847,
    "start_time": "2021-08-05T00:14:13.281Z"
   },
   {
    "duration": 825,
    "start_time": "2021-08-05T00:14:13.304Z"
   },
   {
    "duration": 817,
    "start_time": "2021-08-05T00:14:13.313Z"
   },
   {
    "duration": 806,
    "start_time": "2021-08-05T00:14:13.325Z"
   },
   {
    "duration": 796,
    "start_time": "2021-08-05T00:14:13.336Z"
   },
   {
    "duration": 788,
    "start_time": "2021-08-05T00:14:13.345Z"
   },
   {
    "duration": 779,
    "start_time": "2021-08-05T00:14:13.355Z"
   },
   {
    "duration": 770,
    "start_time": "2021-08-05T00:14:13.364Z"
   },
   {
    "duration": 763,
    "start_time": "2021-08-05T00:14:13.372Z"
   },
   {
    "duration": 755,
    "start_time": "2021-08-05T00:14:13.381Z"
   },
   {
    "duration": 745,
    "start_time": "2021-08-05T00:14:13.392Z"
   },
   {
    "duration": 719,
    "start_time": "2021-08-05T00:14:13.419Z"
   },
   {
    "duration": 711,
    "start_time": "2021-08-05T00:14:13.428Z"
   },
   {
    "duration": 703,
    "start_time": "2021-08-05T00:14:13.437Z"
   },
   {
    "duration": 696,
    "start_time": "2021-08-05T00:14:13.445Z"
   },
   {
    "duration": 685,
    "start_time": "2021-08-05T00:14:13.457Z"
   },
   {
    "duration": 679,
    "start_time": "2021-08-05T00:14:13.464Z"
   },
   {
    "duration": 671,
    "start_time": "2021-08-05T00:14:13.473Z"
   },
   {
    "duration": 664,
    "start_time": "2021-08-05T00:14:13.481Z"
   },
   {
    "duration": 657,
    "start_time": "2021-08-05T00:14:13.489Z"
   },
   {
    "duration": 650,
    "start_time": "2021-08-05T00:14:13.497Z"
   },
   {
    "duration": 642,
    "start_time": "2021-08-05T00:14:13.506Z"
   },
   {
    "duration": 618,
    "start_time": "2021-08-05T00:14:13.531Z"
   },
   {
    "duration": 606,
    "start_time": "2021-08-05T00:14:13.544Z"
   },
   {
    "duration": 600,
    "start_time": "2021-08-05T00:14:13.551Z"
   },
   {
    "duration": 591,
    "start_time": "2021-08-05T00:14:13.561Z"
   },
   {
    "duration": 585,
    "start_time": "2021-08-05T00:14:13.568Z"
   },
   {
    "duration": 576,
    "start_time": "2021-08-05T00:14:13.578Z"
   },
   {
    "duration": 568,
    "start_time": "2021-08-05T00:14:13.586Z"
   },
   {
    "duration": 555,
    "start_time": "2021-08-05T00:14:13.600Z"
   },
   {
    "duration": 4,
    "start_time": "2021-08-05T00:17:19.360Z"
   },
   {
    "duration": 2315,
    "start_time": "2021-08-05T00:17:34.979Z"
   },
   {
    "duration": 4,
    "start_time": "2021-08-05T00:17:53.395Z"
   },
   {
    "duration": 4,
    "start_time": "2021-08-05T00:18:39.115Z"
   },
   {
    "duration": 3742,
    "start_time": "2021-08-05T00:19:19.552Z"
   },
   {
    "duration": 4,
    "start_time": "2021-08-05T00:19:25.892Z"
   },
   {
    "duration": 10,
    "start_time": "2021-08-05T00:22:13.305Z"
   },
   {
    "duration": 13,
    "start_time": "2021-08-05T00:22:20.390Z"
   },
   {
    "duration": 5,
    "start_time": "2021-08-05T00:22:30.166Z"
   },
   {
    "duration": 14,
    "start_time": "2021-08-05T00:22:48.062Z"
   },
   {
    "duration": 5,
    "start_time": "2021-08-05T00:23:00.838Z"
   },
   {
    "duration": 5,
    "start_time": "2021-08-05T00:23:14.389Z"
   },
   {
    "duration": 4,
    "start_time": "2021-08-05T00:25:58.011Z"
   },
   {
    "duration": 4,
    "start_time": "2021-08-05T00:26:05.657Z"
   },
   {
    "duration": 2,
    "start_time": "2021-08-05T00:26:12.781Z"
   },
   {
    "duration": 385,
    "start_time": "2021-08-05T00:26:14.187Z"
   },
   {
    "duration": 3,
    "start_time": "2021-08-05T00:27:51.108Z"
   },
   {
    "duration": 3,
    "start_time": "2021-08-05T00:28:03.547Z"
   },
   {
    "duration": 2094,
    "start_time": "2021-08-05T00:28:08.400Z"
   },
   {
    "duration": 4,
    "start_time": "2021-08-05T00:28:18.131Z"
   },
   {
    "duration": 16,
    "start_time": "2021-08-05T00:30:11.026Z"
   },
   {
    "duration": 14,
    "start_time": "2021-08-05T00:30:20.565Z"
   },
   {
    "duration": 1077,
    "start_time": "2021-08-05T00:31:01.456Z"
   },
   {
    "duration": 726,
    "start_time": "2021-08-05T00:31:02.535Z"
   },
   {
    "duration": 108,
    "start_time": "2021-08-05T00:31:03.263Z"
   },
   {
    "duration": 119,
    "start_time": "2021-08-05T00:31:03.373Z"
   },
   {
    "duration": 361,
    "start_time": "2021-08-05T00:31:03.494Z"
   },
   {
    "duration": 58,
    "start_time": "2021-08-05T00:31:03.857Z"
   },
   {
    "duration": 58,
    "start_time": "2021-08-05T00:31:03.917Z"
   },
   {
    "duration": 15,
    "start_time": "2021-08-05T00:31:03.977Z"
   },
   {
    "duration": 63,
    "start_time": "2021-08-05T00:31:03.994Z"
   },
   {
    "duration": 30,
    "start_time": "2021-08-05T00:31:04.059Z"
   },
   {
    "duration": 257,
    "start_time": "2021-08-05T00:31:04.090Z"
   },
   {
    "duration": 249,
    "start_time": "2021-08-05T00:31:04.348Z"
   },
   {
    "duration": 63,
    "start_time": "2021-08-05T00:31:04.599Z"
   },
   {
    "duration": 77,
    "start_time": "2021-08-05T00:31:04.663Z"
   },
   {
    "duration": 135,
    "start_time": "2021-08-05T00:31:04.741Z"
   },
   {
    "duration": 40,
    "start_time": "2021-08-05T00:31:04.878Z"
   },
   {
    "duration": 216,
    "start_time": "2021-08-05T00:31:04.919Z"
   },
   {
    "duration": 82,
    "start_time": "2021-08-05T00:31:05.137Z"
   },
   {
    "duration": 28,
    "start_time": "2021-08-05T00:31:05.221Z"
   },
   {
    "duration": 62,
    "start_time": "2021-08-05T00:31:05.251Z"
   },
   {
    "duration": 13,
    "start_time": "2021-08-05T00:31:05.314Z"
   },
   {
    "duration": 343,
    "start_time": "2021-08-05T00:31:05.328Z"
   },
   {
    "duration": 9,
    "start_time": "2021-08-05T00:31:05.675Z"
   },
   {
    "duration": 16,
    "start_time": "2021-08-05T00:31:05.686Z"
   },
   {
    "duration": 12,
    "start_time": "2021-08-05T00:31:05.704Z"
   },
   {
    "duration": 12,
    "start_time": "2021-08-05T00:31:05.717Z"
   },
   {
    "duration": 5,
    "start_time": "2021-08-05T00:31:05.730Z"
   },
   {
    "duration": 6,
    "start_time": "2021-08-05T00:31:05.736Z"
   },
   {
    "duration": 5,
    "start_time": "2021-08-05T00:31:05.743Z"
   },
   {
    "duration": 80,
    "start_time": "2021-08-05T00:31:05.750Z"
   },
   {
    "duration": 12,
    "start_time": "2021-08-05T00:31:05.832Z"
   },
   {
    "duration": 16,
    "start_time": "2021-08-05T00:31:05.845Z"
   },
   {
    "duration": 2,
    "start_time": "2021-08-05T00:31:05.863Z"
   },
   {
    "duration": 2136,
    "start_time": "2021-08-05T00:31:05.867Z"
   },
   {
    "duration": 89,
    "start_time": "2021-08-05T00:31:08.005Z"
   },
   {
    "duration": 88,
    "start_time": "2021-08-05T00:31:08.096Z"
   },
   {
    "duration": 808,
    "start_time": "2021-08-05T00:31:07.378Z"
   },
   {
    "duration": 779,
    "start_time": "2021-08-05T00:31:07.408Z"
   },
   {
    "duration": 772,
    "start_time": "2021-08-05T00:31:07.417Z"
   },
   {
    "duration": 762,
    "start_time": "2021-08-05T00:31:07.428Z"
   },
   {
    "duration": 755,
    "start_time": "2021-08-05T00:31:07.436Z"
   },
   {
    "duration": 748,
    "start_time": "2021-08-05T00:31:07.445Z"
   },
   {
    "duration": 741,
    "start_time": "2021-08-05T00:31:07.453Z"
   },
   {
    "duration": 733,
    "start_time": "2021-08-05T00:31:07.462Z"
   },
   {
    "duration": 671,
    "start_time": "2021-08-05T00:31:07.526Z"
   },
   {
    "duration": 661,
    "start_time": "2021-08-05T00:31:07.537Z"
   },
   {
    "duration": 655,
    "start_time": "2021-08-05T00:31:07.545Z"
   },
   {
    "duration": 647,
    "start_time": "2021-08-05T00:31:07.554Z"
   },
   {
    "duration": 641,
    "start_time": "2021-08-05T00:31:07.562Z"
   },
   {
    "duration": 633,
    "start_time": "2021-08-05T00:31:07.571Z"
   },
   {
    "duration": 626,
    "start_time": "2021-08-05T00:31:07.579Z"
   },
   {
    "duration": 619,
    "start_time": "2021-08-05T00:31:07.588Z"
   },
   {
    "duration": 613,
    "start_time": "2021-08-05T00:31:07.595Z"
   },
   {
    "duration": 604,
    "start_time": "2021-08-05T00:31:07.605Z"
   },
   {
    "duration": 561,
    "start_time": "2021-08-05T00:31:07.650Z"
   },
   {
    "duration": 553,
    "start_time": "2021-08-05T00:31:07.659Z"
   },
   {
    "duration": 545,
    "start_time": "2021-08-05T00:31:07.668Z"
   },
   {
    "duration": 537,
    "start_time": "2021-08-05T00:31:07.677Z"
   },
   {
    "duration": 531,
    "start_time": "2021-08-05T00:31:07.685Z"
   },
   {
    "duration": 522,
    "start_time": "2021-08-05T00:31:07.695Z"
   },
   {
    "duration": 515,
    "start_time": "2021-08-05T00:31:07.703Z"
   },
   {
    "duration": 508,
    "start_time": "2021-08-05T00:31:07.712Z"
   },
   {
    "duration": 501,
    "start_time": "2021-08-05T00:31:07.720Z"
   },
   {
    "duration": 493,
    "start_time": "2021-08-05T00:31:07.729Z"
   },
   {
    "duration": 487,
    "start_time": "2021-08-05T00:31:07.737Z"
   },
   {
    "duration": 464,
    "start_time": "2021-08-05T00:31:07.761Z"
   },
   {
    "duration": 3,
    "start_time": "2021-08-05T00:32:48.116Z"
   },
   {
    "duration": 4,
    "start_time": "2021-08-05T00:32:50.381Z"
   },
   {
    "duration": 3,
    "start_time": "2021-08-05T00:33:06.214Z"
   },
   {
    "duration": 54,
    "start_time": "2021-08-05T00:33:10.406Z"
   },
   {
    "duration": 3,
    "start_time": "2021-08-05T00:33:11.010Z"
   },
   {
    "duration": 1280,
    "start_time": "2021-08-05T00:33:14.442Z"
   },
   {
    "duration": 3,
    "start_time": "2021-08-05T00:33:18.401Z"
   },
   {
    "duration": 3,
    "start_time": "2021-08-05T00:34:12.221Z"
   },
   {
    "duration": 2,
    "start_time": "2021-08-05T00:34:18.403Z"
   },
   {
    "duration": 1278,
    "start_time": "2021-08-05T00:34:19.145Z"
   },
   {
    "duration": 3,
    "start_time": "2021-08-05T00:34:33.707Z"
   },
   {
    "duration": 3,
    "start_time": "2021-08-05T00:34:36.127Z"
   },
   {
    "duration": 52,
    "start_time": "2021-08-05T00:34:38.127Z"
   },
   {
    "duration": 3,
    "start_time": "2021-08-05T00:34:38.741Z"
   },
   {
    "duration": 1271,
    "start_time": "2021-08-05T00:34:39.653Z"
   },
   {
    "duration": 8,
    "start_time": "2021-08-05T00:35:25.963Z"
   },
   {
    "duration": 8,
    "start_time": "2021-08-05T00:36:13.350Z"
   },
   {
    "duration": 4,
    "start_time": "2021-08-05T00:38:55.655Z"
   },
   {
    "duration": 3,
    "start_time": "2021-08-05T00:39:07.212Z"
   },
   {
    "duration": 2108,
    "start_time": "2021-08-05T00:39:08.010Z"
   },
   {
    "duration": 8,
    "start_time": "2021-08-05T00:39:14.977Z"
   },
   {
    "duration": 90,
    "start_time": "2021-08-05T01:08:06.521Z"
   },
   {
    "duration": 330,
    "start_time": "2021-08-05T01:08:19.998Z"
   },
   {
    "duration": 12,
    "start_time": "2021-08-05T01:08:28.962Z"
   },
   {
    "duration": 3,
    "start_time": "2021-08-05T01:10:25.195Z"
   },
   {
    "duration": 225,
    "start_time": "2021-08-05T01:12:56.900Z"
   },
   {
    "duration": 3,
    "start_time": "2021-08-05T01:13:23.309Z"
   },
   {
    "duration": 365,
    "start_time": "2021-08-05T01:14:44.399Z"
   },
   {
    "duration": 4,
    "start_time": "2021-08-05T01:15:33.971Z"
   },
   {
    "duration": 395,
    "start_time": "2021-08-05T01:15:34.699Z"
   },
   {
    "duration": 435,
    "start_time": "2021-08-05T01:15:56.002Z"
   },
   {
    "duration": 4,
    "start_time": "2021-08-05T01:17:51.321Z"
   },
   {
    "duration": 369,
    "start_time": "2021-08-05T01:17:56.593Z"
   },
   {
    "duration": 164,
    "start_time": "2021-08-05T01:21:00.077Z"
   },
   {
    "duration": 2,
    "start_time": "2021-08-05T01:21:03.872Z"
   },
   {
    "duration": 153,
    "start_time": "2021-08-05T01:21:04.505Z"
   },
   {
    "duration": 2037,
    "start_time": "2021-08-05T01:21:16.396Z"
   },
   {
    "duration": 8,
    "start_time": "2021-08-05T01:21:20.672Z"
   },
   {
    "duration": 2037,
    "start_time": "2021-08-05T01:28:02.995Z"
   },
   {
    "duration": 2270,
    "start_time": "2021-08-05T01:28:21.421Z"
   },
   {
    "duration": 2,
    "start_time": "2021-08-05T01:28:45.270Z"
   },
   {
    "duration": 2249,
    "start_time": "2021-08-05T01:28:46.038Z"
   },
   {
    "duration": 2082,
    "start_time": "2021-08-05T01:29:04.851Z"
   },
   {
    "duration": 2132,
    "start_time": "2021-08-05T01:29:22.609Z"
   },
   {
    "duration": 2216,
    "start_time": "2021-08-05T01:29:38.428Z"
   },
   {
    "duration": 2132,
    "start_time": "2021-08-05T01:29:47.214Z"
   },
   {
    "duration": 2108,
    "start_time": "2021-08-05T01:30:05.635Z"
   },
   {
    "duration": 2223,
    "start_time": "2021-08-05T01:30:22.461Z"
   },
   {
    "duration": 2105,
    "start_time": "2021-08-05T01:30:43.228Z"
   },
   {
    "duration": 15,
    "start_time": "2021-08-05T01:30:49.622Z"
   },
   {
    "duration": 98,
    "start_time": "2021-08-05T01:30:57.842Z"
   },
   {
    "duration": 3,
    "start_time": "2021-08-05T01:30:58.852Z"
   },
   {
    "duration": 215,
    "start_time": "2021-08-05T01:31:48.048Z"
   },
   {
    "duration": 3,
    "start_time": "2021-08-05T01:33:11.217Z"
   },
   {
    "duration": 889959,
    "start_time": "2021-08-05T01:33:12.074Z"
   },
   {
    "duration": 3,
    "start_time": "2021-08-05T01:51:25.461Z"
   },
   {
    "duration": 4,
    "start_time": "2021-08-05T01:51:30.999Z"
   },
   {
    "duration": 195980,
    "start_time": "2021-08-05T01:51:32.753Z"
   },
   {
    "duration": 64367,
    "start_time": "2021-08-05T02:00:47.737Z"
   },
   {
    "duration": 398,
    "start_time": "2021-08-05T09:51:37.353Z"
   },
   {
    "duration": 1590,
    "start_time": "2021-08-05T09:51:44.668Z"
   },
   {
    "duration": 1120,
    "start_time": "2021-08-05T09:51:46.262Z"
   },
   {
    "duration": 158,
    "start_time": "2021-08-05T09:51:47.385Z"
   },
   {
    "duration": 163,
    "start_time": "2021-08-05T09:51:47.546Z"
   },
   {
    "duration": 500,
    "start_time": "2021-08-05T09:51:47.711Z"
   },
   {
    "duration": 96,
    "start_time": "2021-08-05T09:51:48.214Z"
   },
   {
    "duration": 90,
    "start_time": "2021-08-05T09:51:48.312Z"
   },
   {
    "duration": 3,
    "start_time": "2021-08-05T09:51:48.406Z"
   },
   {
    "duration": 95,
    "start_time": "2021-08-05T09:51:48.412Z"
   },
   {
    "duration": 49,
    "start_time": "2021-08-05T09:51:48.510Z"
   },
   {
    "duration": 480,
    "start_time": "2021-08-05T09:51:48.561Z"
   },
   {
    "duration": 453,
    "start_time": "2021-08-05T09:51:49.043Z"
   },
   {
    "duration": 77,
    "start_time": "2021-08-05T09:51:49.501Z"
   },
   {
    "duration": 106,
    "start_time": "2021-08-05T09:51:49.600Z"
   },
   {
    "duration": 201,
    "start_time": "2021-08-05T09:51:49.709Z"
   },
   {
    "duration": 60,
    "start_time": "2021-08-05T09:51:49.912Z"
   },
   {
    "duration": 425,
    "start_time": "2021-08-05T09:51:49.975Z"
   },
   {
    "duration": 137,
    "start_time": "2021-08-05T09:51:50.403Z"
   },
   {
    "duration": 60,
    "start_time": "2021-08-05T09:51:50.542Z"
   },
   {
    "duration": 71,
    "start_time": "2021-08-05T09:51:50.604Z"
   },
   {
    "duration": 39,
    "start_time": "2021-08-05T09:51:50.677Z"
   },
   {
    "duration": 588,
    "start_time": "2021-08-05T09:51:50.719Z"
   },
   {
    "duration": 15,
    "start_time": "2021-08-05T09:51:51.312Z"
   },
   {
    "duration": 22,
    "start_time": "2021-08-05T09:51:51.330Z"
   },
   {
    "duration": 47,
    "start_time": "2021-08-05T09:51:51.355Z"
   },
   {
    "duration": 4,
    "start_time": "2021-08-05T09:51:51.405Z"
   },
   {
    "duration": 9,
    "start_time": "2021-08-05T09:51:51.412Z"
   },
   {
    "duration": 15,
    "start_time": "2021-08-05T09:51:51.423Z"
   },
   {
    "duration": 20,
    "start_time": "2021-08-05T09:51:51.440Z"
   },
   {
    "duration": 97,
    "start_time": "2021-08-05T09:51:51.463Z"
   },
   {
    "duration": 4,
    "start_time": "2021-08-05T09:51:51.562Z"
   },
   {
    "duration": 2341,
    "start_time": "2021-08-05T09:51:51.568Z"
   },
   {
    "duration": 96,
    "start_time": "2021-08-05T09:51:53.912Z"
   },
   {
    "duration": 331,
    "start_time": "2021-08-05T09:51:54.012Z"
   },
   {
    "duration": 6,
    "start_time": "2021-08-05T09:51:54.346Z"
   },
   {
    "duration": 318807,
    "start_time": "2021-08-05T09:51:54.355Z"
   },
   {
    "duration": 104843,
    "start_time": "2021-08-05T09:57:13.166Z"
   },
   {
    "duration": 522,
    "start_time": "2021-08-05T09:58:58.013Z"
   },
   {
    "duration": 427,
    "start_time": "2021-08-05T09:58:58.112Z"
   },
   {
    "duration": 356,
    "start_time": "2021-08-05T09:58:58.184Z"
   },
   {
    "duration": 328,
    "start_time": "2021-08-05T09:58:58.214Z"
   },
   {
    "duration": 311,
    "start_time": "2021-08-05T09:58:58.232Z"
   },
   {
    "duration": 291,
    "start_time": "2021-08-05T09:58:58.254Z"
   },
   {
    "duration": 276,
    "start_time": "2021-08-05T09:58:58.270Z"
   },
   {
    "duration": 263,
    "start_time": "2021-08-05T09:58:58.285Z"
   },
   {
    "duration": 250,
    "start_time": "2021-08-05T09:58:58.299Z"
   },
   {
    "duration": 217,
    "start_time": "2021-08-05T09:58:58.334Z"
   },
   {
    "duration": 201,
    "start_time": "2021-08-05T09:58:58.351Z"
   },
   {
    "duration": 189,
    "start_time": "2021-08-05T09:58:58.365Z"
   },
   {
    "duration": 174,
    "start_time": "2021-08-05T09:58:58.381Z"
   },
   {
    "duration": 159,
    "start_time": "2021-08-05T09:58:58.397Z"
   },
   {
    "duration": 145,
    "start_time": "2021-08-05T09:58:58.413Z"
   },
   {
    "duration": 134,
    "start_time": "2021-08-05T09:58:58.425Z"
   },
   {
    "duration": 122,
    "start_time": "2021-08-05T09:58:58.439Z"
   },
   {
    "duration": 108,
    "start_time": "2021-08-05T09:58:58.454Z"
   },
   {
    "duration": 96,
    "start_time": "2021-08-05T09:58:58.468Z"
   },
   {
    "duration": 24,
    "start_time": "2021-08-05T09:59:14.323Z"
   },
   {
    "duration": 172,
    "start_time": "2021-08-05T09:59:15.218Z"
   },
   {
    "duration": 71,
    "start_time": "2021-08-05T09:59:16.483Z"
   },
   {
    "duration": 863052,
    "start_time": "2021-08-05T09:59:20.061Z"
   },
   {
    "duration": 84105,
    "start_time": "2021-08-05T10:30:35.873Z"
   },
   {
    "duration": 4421,
    "start_time": "2021-08-05T10:48:25.186Z"
   },
   {
    "duration": 4403,
    "start_time": "2021-08-05T10:48:33.435Z"
   },
   {
    "duration": 4419,
    "start_time": "2021-08-05T10:48:53.810Z"
   },
   {
    "duration": 311501,
    "start_time": "2021-08-05T10:49:06.708Z"
   },
   {
    "duration": 1012,
    "start_time": "2021-08-05T10:54:18.212Z"
   },
   {
    "duration": 7467,
    "start_time": "2021-08-05T10:55:43.288Z"
   },
   {
    "duration": 181391,
    "start_time": "2021-08-05T10:56:58.118Z"
   },
   {
    "duration": 4615,
    "start_time": "2021-08-05T11:01:39.487Z"
   },
   {
    "duration": 4604,
    "start_time": "2021-08-05T11:01:49.797Z"
   },
   {
    "duration": 24,
    "start_time": "2021-08-05T11:12:04.735Z"
   },
   {
    "duration": 161,
    "start_time": "2021-08-05T11:12:05.359Z"
   },
   {
    "duration": 64,
    "start_time": "2021-08-05T11:12:06.947Z"
   },
   {
    "duration": 4,
    "start_time": "2021-08-05T11:12:07.809Z"
   },
   {
    "duration": 59,
    "start_time": "2021-08-05T11:41:14.332Z"
   },
   {
    "duration": 3,
    "start_time": "2021-08-05T11:41:15.022Z"
   },
   {
    "duration": 2139,
    "start_time": "2021-08-05T11:41:15.714Z"
   },
   {
    "duration": 298,
    "start_time": "2021-08-05T11:41:20.309Z"
   },
   {
    "duration": 132,
    "start_time": "2021-08-05T11:41:43.776Z"
   },
   {
    "duration": 5,
    "start_time": "2021-08-05T11:48:28.145Z"
   },
   {
    "duration": 182,
    "start_time": "2021-08-05T11:48:33.044Z"
   },
   {
    "duration": 4,
    "start_time": "2021-08-05T11:48:34.072Z"
   },
   {
    "duration": 89656,
    "start_time": "2021-08-05T11:48:34.970Z"
   },
   {
    "duration": 89104,
    "start_time": "2021-08-05T12:00:43.694Z"
   },
   {
    "duration": 255,
    "start_time": "2021-08-05T12:02:12.800Z"
   },
   {
    "duration": 105230,
    "start_time": "2021-08-05T12:04:31.792Z"
   },
   {
    "duration": 23,
    "start_time": "2021-08-05T12:07:35.818Z"
   },
   {
    "duration": 158,
    "start_time": "2021-08-05T12:07:37.864Z"
   },
   {
    "duration": 61,
    "start_time": "2021-08-05T12:07:41.934Z"
   },
   {
    "duration": 4,
    "start_time": "2021-08-05T12:07:46.646Z"
   },
   {
    "duration": 1074,
    "start_time": "2021-08-05T12:09:16.331Z"
   },
   {
    "duration": 4,
    "start_time": "2021-08-05T12:09:56.691Z"
   },
   {
    "duration": 982,
    "start_time": "2021-08-05T12:09:57.437Z"
   },
   {
    "duration": 32,
    "start_time": "2021-08-05T12:10:30.643Z"
   },
   {
    "duration": 266,
    "start_time": "2021-08-05T12:10:31.230Z"
   },
   {
    "duration": 65,
    "start_time": "2021-08-05T12:10:32.075Z"
   },
   {
    "duration": 4,
    "start_time": "2021-08-05T12:10:32.666Z"
   },
   {
    "duration": 973,
    "start_time": "2021-08-05T12:10:33.407Z"
   },
   {
    "duration": 373655,
    "start_time": "2021-08-05T12:11:18.653Z"
   },
   {
    "duration": 217060,
    "start_time": "2021-08-05T12:17:44.545Z"
   },
   {
    "duration": 239904,
    "start_time": "2021-08-05T12:25:27.906Z"
   },
   {
    "duration": 1604,
    "start_time": "2021-08-05T12:49:51.983Z"
   },
   {
    "duration": 1240,
    "start_time": "2021-08-05T12:49:53.590Z"
   },
   {
    "duration": 169,
    "start_time": "2021-08-05T12:49:54.833Z"
   },
   {
    "duration": 168,
    "start_time": "2021-08-05T12:49:55.005Z"
   },
   {
    "duration": 532,
    "start_time": "2021-08-05T12:49:55.175Z"
   },
   {
    "duration": 94,
    "start_time": "2021-08-05T12:49:55.710Z"
   },
   {
    "duration": 79,
    "start_time": "2021-08-05T12:49:55.806Z"
   },
   {
    "duration": 3,
    "start_time": "2021-08-05T12:49:55.901Z"
   },
   {
    "duration": 88,
    "start_time": "2021-08-05T12:49:55.907Z"
   },
   {
    "duration": 50,
    "start_time": "2021-08-05T12:49:56.000Z"
   },
   {
    "duration": 478,
    "start_time": "2021-08-05T12:49:56.052Z"
   },
   {
    "duration": 474,
    "start_time": "2021-08-05T12:49:56.532Z"
   },
   {
    "duration": 81,
    "start_time": "2021-08-05T12:49:57.008Z"
   },
   {
    "duration": 112,
    "start_time": "2021-08-05T12:49:57.101Z"
   },
   {
    "duration": 219,
    "start_time": "2021-08-05T12:49:57.216Z"
   },
   {
    "duration": 69,
    "start_time": "2021-08-05T12:49:57.438Z"
   },
   {
    "duration": 411,
    "start_time": "2021-08-05T12:49:57.509Z"
   },
   {
    "duration": 135,
    "start_time": "2021-08-05T12:49:57.922Z"
   },
   {
    "duration": 59,
    "start_time": "2021-08-05T12:49:58.059Z"
   },
   {
    "duration": 80,
    "start_time": "2021-08-05T12:49:58.120Z"
   },
   {
    "duration": 18,
    "start_time": "2021-08-05T12:49:58.202Z"
   },
   {
    "duration": 579,
    "start_time": "2021-08-05T12:49:58.223Z"
   },
   {
    "duration": 15,
    "start_time": "2021-08-05T12:49:58.808Z"
   },
   {
    "duration": 20,
    "start_time": "2021-08-05T12:49:58.827Z"
   },
   {
    "duration": 22,
    "start_time": "2021-08-05T12:49:58.850Z"
   },
   {
    "duration": 29,
    "start_time": "2021-08-05T12:49:58.874Z"
   },
   {
    "duration": 10,
    "start_time": "2021-08-05T12:49:58.905Z"
   },
   {
    "duration": 5,
    "start_time": "2021-08-05T12:49:58.917Z"
   },
   {
    "duration": 7,
    "start_time": "2021-08-05T12:49:58.925Z"
   },
   {
    "duration": 132,
    "start_time": "2021-08-05T12:49:58.934Z"
   },
   {
    "duration": 698,
    "start_time": "2021-08-05T12:49:58.371Z"
   },
   {
    "duration": 693,
    "start_time": "2021-08-05T12:49:58.377Z"
   },
   {
    "duration": 688,
    "start_time": "2021-08-05T12:49:58.384Z"
   },
   {
    "duration": 683,
    "start_time": "2021-08-05T12:49:58.390Z"
   },
   {
    "duration": 678,
    "start_time": "2021-08-05T12:49:58.397Z"
   },
   {
    "duration": 674,
    "start_time": "2021-08-05T12:49:58.403Z"
   },
   {
    "duration": 668,
    "start_time": "2021-08-05T12:49:58.410Z"
   },
   {
    "duration": 663,
    "start_time": "2021-08-05T12:49:58.416Z"
   },
   {
    "duration": 647,
    "start_time": "2021-08-05T12:49:58.434Z"
   },
   {
    "duration": 643,
    "start_time": "2021-08-05T12:49:58.440Z"
   },
   {
    "duration": 637,
    "start_time": "2021-08-05T12:49:58.447Z"
   },
   {
    "duration": 633,
    "start_time": "2021-08-05T12:49:58.452Z"
   },
   {
    "duration": 627,
    "start_time": "2021-08-05T12:49:58.460Z"
   },
   {
    "duration": 623,
    "start_time": "2021-08-05T12:49:58.465Z"
   },
   {
    "duration": 618,
    "start_time": "2021-08-05T12:49:58.472Z"
   },
   {
    "duration": 613,
    "start_time": "2021-08-05T12:49:58.478Z"
   },
   {
    "duration": 607,
    "start_time": "2021-08-05T12:49:58.486Z"
   },
   {
    "duration": 599,
    "start_time": "2021-08-05T12:49:58.495Z"
   },
   {
    "duration": 578,
    "start_time": "2021-08-05T12:49:58.517Z"
   },
   {
    "duration": 1855,
    "start_time": "2021-08-05T12:53:08.411Z"
   },
   {
    "duration": 1089,
    "start_time": "2021-08-05T12:53:10.269Z"
   },
   {
    "duration": 168,
    "start_time": "2021-08-05T12:53:11.361Z"
   },
   {
    "duration": 169,
    "start_time": "2021-08-05T12:53:11.532Z"
   },
   {
    "duration": 528,
    "start_time": "2021-08-05T12:53:11.703Z"
   },
   {
    "duration": 101,
    "start_time": "2021-08-05T12:53:12.233Z"
   },
   {
    "duration": 88,
    "start_time": "2021-08-05T12:53:12.337Z"
   },
   {
    "duration": 3,
    "start_time": "2021-08-05T12:53:12.429Z"
   },
   {
    "duration": 92,
    "start_time": "2021-08-05T12:53:12.435Z"
   },
   {
    "duration": 52,
    "start_time": "2021-08-05T12:53:12.529Z"
   },
   {
    "duration": 460,
    "start_time": "2021-08-05T12:53:12.601Z"
   },
   {
    "duration": 464,
    "start_time": "2021-08-05T12:53:13.064Z"
   },
   {
    "duration": 95,
    "start_time": "2021-08-05T12:53:13.530Z"
   },
   {
    "duration": 120,
    "start_time": "2021-08-05T12:53:13.628Z"
   },
   {
    "duration": 209,
    "start_time": "2021-08-05T12:53:13.751Z"
   },
   {
    "duration": 71,
    "start_time": "2021-08-05T12:53:13.963Z"
   },
   {
    "duration": 408,
    "start_time": "2021-08-05T12:53:14.037Z"
   },
   {
    "duration": 141,
    "start_time": "2021-08-05T12:53:14.448Z"
   },
   {
    "duration": 56,
    "start_time": "2021-08-05T12:53:14.591Z"
   },
   {
    "duration": 97,
    "start_time": "2021-08-05T12:53:14.650Z"
   },
   {
    "duration": 20,
    "start_time": "2021-08-05T12:53:14.749Z"
   },
   {
    "duration": 612,
    "start_time": "2021-08-05T12:53:14.772Z"
   },
   {
    "duration": 19,
    "start_time": "2021-08-05T12:53:15.389Z"
   },
   {
    "duration": 37,
    "start_time": "2021-08-05T12:53:15.411Z"
   },
   {
    "duration": 48,
    "start_time": "2021-08-05T12:53:15.450Z"
   },
   {
    "duration": 12,
    "start_time": "2021-08-05T12:53:15.500Z"
   },
   {
    "duration": 23,
    "start_time": "2021-08-05T12:53:15.514Z"
   },
   {
    "duration": 16,
    "start_time": "2021-08-05T12:53:15.539Z"
   },
   {
    "duration": 14,
    "start_time": "2021-08-05T12:53:15.557Z"
   },
   {
    "duration": 38,
    "start_time": "2021-08-05T12:53:15.574Z"
   },
   {
    "duration": 88,
    "start_time": "2021-08-05T12:53:15.614Z"
   },
   {
    "duration": 3,
    "start_time": "2021-08-05T12:53:15.704Z"
   },
   {
    "duration": 2190,
    "start_time": "2021-08-05T12:53:15.710Z"
   },
   {
    "duration": 198,
    "start_time": "2021-08-05T12:53:17.904Z"
   },
   {
    "duration": 5,
    "start_time": "2021-08-05T12:53:18.105Z"
   },
   {
    "duration": 204,
    "start_time": "2021-08-05T12:53:18.201Z"
   },
   {
    "duration": 5,
    "start_time": "2021-08-05T12:53:18.408Z"
   },
   {
    "duration": 13727563,
    "start_time": "2021-08-05T12:53:18.416Z"
   },
   {
    "duration": 503574,
    "start_time": "2021-08-05T16:42:05.982Z"
   },
   {
    "duration": 4,
    "start_time": "2021-08-05T16:50:29.599Z"
   },
   {
    "duration": 6,
    "start_time": "2021-08-05T16:50:29.607Z"
   },
   {
    "duration": 26,
    "start_time": "2021-08-05T16:50:29.616Z"
   },
   {
    "duration": 199,
    "start_time": "2021-08-05T16:50:29.645Z"
   },
   {
    "duration": 74,
    "start_time": "2021-08-05T16:50:29.846Z"
   },
   {
    "duration": 4,
    "start_time": "2021-08-05T16:50:29.923Z"
   },
   {
    "duration": 464180,
    "start_time": "2021-08-05T16:50:29.929Z"
   },
   {
    "duration": 11806,
    "start_time": "2021-08-05T16:58:14.112Z"
   },
   {
    "duration": 509,
    "start_time": "2021-08-05T16:58:25.920Z"
   },
   {
    "duration": 694,
    "start_time": "2021-08-05T16:58:25.737Z"
   },
   {
    "duration": 7,
    "start_time": "2021-08-05T19:35:05.183Z"
   },
   {
    "duration": 13,
    "start_time": "2021-08-05T19:35:13.097Z"
   },
   {
    "duration": 1489,
    "start_time": "2021-08-06T08:25:19.368Z"
   },
   {
    "duration": 1095,
    "start_time": "2021-08-06T08:25:22.838Z"
   },
   {
    "duration": 160,
    "start_time": "2021-08-06T08:25:24.998Z"
   },
   {
    "duration": 159,
    "start_time": "2021-08-06T08:25:27.313Z"
   },
   {
    "duration": 542,
    "start_time": "2021-08-06T08:25:29.960Z"
   },
   {
    "duration": 93,
    "start_time": "2021-08-06T08:25:30.504Z"
   },
   {
    "duration": 79,
    "start_time": "2021-08-06T08:25:31.192Z"
   },
   {
    "duration": 4,
    "start_time": "2021-08-06T08:25:34.814Z"
   },
   {
    "duration": 78,
    "start_time": "2021-08-06T08:25:36.469Z"
   },
   {
    "duration": 49,
    "start_time": "2021-08-06T08:25:37.628Z"
   },
   {
    "duration": 459,
    "start_time": "2021-08-06T08:25:39.735Z"
   },
   {
    "duration": 445,
    "start_time": "2021-08-06T08:25:49.181Z"
   },
   {
    "duration": 79,
    "start_time": "2021-08-06T08:25:58.620Z"
   },
   {
    "duration": 124,
    "start_time": "2021-08-06T08:26:11.148Z"
   },
   {
    "duration": 304,
    "start_time": "2021-08-06T08:26:11.931Z"
   },
   {
    "duration": 91,
    "start_time": "2021-08-06T08:26:20.629Z"
   },
   {
    "duration": 380,
    "start_time": "2021-08-06T08:26:29.102Z"
   },
   {
    "duration": 446,
    "start_time": "2021-08-06T08:27:05.087Z"
   },
   {
    "duration": 422,
    "start_time": "2021-08-06T08:27:26.656Z"
   },
   {
    "duration": 308,
    "start_time": "2021-08-06T08:27:47.583Z"
   },
   {
    "duration": 387,
    "start_time": "2021-08-06T08:28:01.673Z"
   },
   {
    "duration": 565,
    "start_time": "2021-08-06T08:31:19.538Z"
   },
   {
    "duration": 75,
    "start_time": "2021-08-06T08:31:58.153Z"
   },
   {
    "duration": 121,
    "start_time": "2021-08-06T08:33:51.825Z"
   },
   {
    "duration": 5,
    "start_time": "2021-08-06T08:46:47.003Z"
   },
   {
    "duration": 50,
    "start_time": "2021-08-06T08:53:33.822Z"
   },
   {
    "duration": 73,
    "start_time": "2021-08-06T08:53:34.313Z"
   },
   {
    "duration": 20,
    "start_time": "2021-08-06T08:53:38.968Z"
   },
   {
    "duration": 562,
    "start_time": "2021-08-06T08:53:39.690Z"
   },
   {
    "duration": 14,
    "start_time": "2021-08-06T08:53:41.636Z"
   },
   {
    "duration": 14,
    "start_time": "2021-08-06T08:53:42.512Z"
   },
   {
    "duration": 21,
    "start_time": "2021-08-06T08:53:43.572Z"
   },
   {
    "duration": 5,
    "start_time": "2021-08-06T08:53:44.970Z"
   },
   {
    "duration": 5,
    "start_time": "2021-08-06T08:53:45.616Z"
   },
   {
    "duration": 5,
    "start_time": "2021-08-06T08:53:46.146Z"
   },
   {
    "duration": 5,
    "start_time": "2021-08-06T08:53:46.898Z"
   },
   {
    "duration": 71,
    "start_time": "2021-08-06T08:53:52.472Z"
   },
   {
    "duration": 6,
    "start_time": "2021-08-06T08:55:50.902Z"
   },
   {
    "duration": 71,
    "start_time": "2021-08-06T08:55:57.808Z"
   },
   {
    "duration": 67,
    "start_time": "2021-08-06T08:59:00.433Z"
   },
   {
    "duration": 4,
    "start_time": "2021-08-06T08:59:05.845Z"
   },
   {
    "duration": 3,
    "start_time": "2021-08-06T09:07:30.648Z"
   },
   {
    "duration": 2153,
    "start_time": "2021-08-06T09:07:31.742Z"
   },
   {
    "duration": 166,
    "start_time": "2021-08-06T09:07:33.897Z"
   },
   {
    "duration": 2116,
    "start_time": "2021-08-06T09:14:13.680Z"
   },
   {
    "duration": 1164,
    "start_time": "2021-08-06T19:29:05.884Z"
   },
   {
    "duration": 736,
    "start_time": "2021-08-06T19:29:09.490Z"
   },
   {
    "duration": 115,
    "start_time": "2021-08-06T19:29:10.228Z"
   },
   {
    "duration": 117,
    "start_time": "2021-08-06T19:29:10.345Z"
   },
   {
    "duration": 358,
    "start_time": "2021-08-06T19:29:10.464Z"
   },
   {
    "duration": 55,
    "start_time": "2021-08-06T19:29:10.823Z"
   },
   {
    "duration": 67,
    "start_time": "2021-08-06T19:29:10.880Z"
   },
   {
    "duration": 3,
    "start_time": "2021-08-06T19:29:12.110Z"
   },
   {
    "duration": 58,
    "start_time": "2021-08-06T19:29:13.794Z"
   },
   {
    "duration": 33,
    "start_time": "2021-08-06T19:29:15.050Z"
   },
   {
    "duration": 247,
    "start_time": "2021-08-06T19:29:16.282Z"
   },
   {
    "duration": 238,
    "start_time": "2021-08-06T19:29:17.007Z"
   },
   {
    "duration": 52,
    "start_time": "2021-08-06T19:29:17.748Z"
   },
   {
    "duration": 62,
    "start_time": "2021-08-06T19:29:19.600Z"
   },
   {
    "duration": 134,
    "start_time": "2021-08-06T19:29:20.151Z"
   },
   {
    "duration": 38,
    "start_time": "2021-08-06T19:29:21.682Z"
   },
   {
    "duration": 168,
    "start_time": "2021-08-06T19:29:22.159Z"
   },
   {
    "duration": 51,
    "start_time": "2021-08-06T19:29:22.663Z"
   },
   {
    "duration": 31,
    "start_time": "2021-08-06T19:29:26.585Z"
   },
   {
    "duration": 52,
    "start_time": "2021-08-06T19:29:27.434Z"
   },
   {
    "duration": 13,
    "start_time": "2021-08-06T19:29:31.485Z"
   },
   {
    "duration": 330,
    "start_time": "2021-08-06T19:29:32.331Z"
   },
   {
    "duration": 9,
    "start_time": "2021-08-06T19:29:34.667Z"
   },
   {
    "duration": 13,
    "start_time": "2021-08-06T19:29:35.499Z"
   },
   {
    "duration": 13,
    "start_time": "2021-08-06T19:29:36.438Z"
   },
   {
    "duration": 4,
    "start_time": "2021-08-06T19:29:37.495Z"
   },
   {
    "duration": 4,
    "start_time": "2021-08-06T19:29:47.587Z"
   },
   {
    "duration": 4,
    "start_time": "2021-08-06T19:31:34.976Z"
   },
   {
    "duration": 3,
    "start_time": "2021-08-06T19:31:36.092Z"
   },
   {
    "duration": 74,
    "start_time": "2021-08-06T19:31:37.171Z"
   },
   {
    "duration": 3,
    "start_time": "2021-08-06T19:35:48.351Z"
   },
   {
    "duration": 69,
    "start_time": "2021-08-06T19:36:04.339Z"
   },
   {
    "duration": 64,
    "start_time": "2021-08-06T19:36:05.129Z"
   },
   {
    "duration": 3,
    "start_time": "2021-08-06T19:36:08.833Z"
   },
   {
    "duration": 2211,
    "start_time": "2021-08-06T19:36:16.688Z"
   },
   {
    "duration": 50,
    "start_time": "2021-08-06T19:36:32.136Z"
   },
   {
    "duration": 3,
    "start_time": "2021-08-06T19:37:16.368Z"
   },
   {
    "duration": 65,
    "start_time": "2021-08-06T19:37:58.827Z"
   },
   {
    "duration": 99,
    "start_time": "2021-08-06T19:38:10.864Z"
   },
   {
    "duration": 3,
    "start_time": "2021-08-06T19:38:33.886Z"
   },
   {
    "duration": 1168,
    "start_time": "2021-08-06T19:49:02.471Z"
   },
   {
    "duration": 725,
    "start_time": "2021-08-06T19:49:03.640Z"
   },
   {
    "duration": 116,
    "start_time": "2021-08-06T19:49:04.367Z"
   },
   {
    "duration": 119,
    "start_time": "2021-08-06T19:49:04.485Z"
   },
   {
    "duration": 365,
    "start_time": "2021-08-06T19:49:04.605Z"
   },
   {
    "duration": 59,
    "start_time": "2021-08-06T19:49:04.972Z"
   },
   {
    "duration": 68,
    "start_time": "2021-08-06T19:49:05.033Z"
   },
   {
    "duration": 2,
    "start_time": "2021-08-06T19:49:05.104Z"
   },
   {
    "duration": 61,
    "start_time": "2021-08-06T19:49:05.108Z"
   },
   {
    "duration": 43,
    "start_time": "2021-08-06T19:49:05.171Z"
   },
   {
    "duration": 266,
    "start_time": "2021-08-06T19:49:05.215Z"
   },
   {
    "duration": 247,
    "start_time": "2021-08-06T19:49:05.482Z"
   },
   {
    "duration": 51,
    "start_time": "2021-08-06T19:49:05.730Z"
   },
   {
    "duration": 66,
    "start_time": "2021-08-06T19:49:05.783Z"
   },
   {
    "duration": 149,
    "start_time": "2021-08-06T19:49:05.850Z"
   },
   {
    "duration": 39,
    "start_time": "2021-08-06T19:49:06.001Z"
   },
   {
    "duration": 194,
    "start_time": "2021-08-06T19:49:06.041Z"
   },
   {
    "duration": 62,
    "start_time": "2021-08-06T19:49:06.236Z"
   },
   {
    "duration": 32,
    "start_time": "2021-08-06T19:49:06.300Z"
   },
   {
    "duration": 77,
    "start_time": "2021-08-06T19:49:06.333Z"
   },
   {
    "duration": 14,
    "start_time": "2021-08-06T19:49:06.412Z"
   },
   {
    "duration": 457,
    "start_time": "2021-08-06T19:49:06.427Z"
   },
   {
    "duration": 10,
    "start_time": "2021-08-06T19:49:06.888Z"
   },
   {
    "duration": 14,
    "start_time": "2021-08-06T19:49:06.900Z"
   },
   {
    "duration": 13,
    "start_time": "2021-08-06T19:49:06.916Z"
   },
   {
    "duration": 3,
    "start_time": "2021-08-06T19:49:06.930Z"
   },
   {
    "duration": 8,
    "start_time": "2021-08-06T19:49:06.935Z"
   },
   {
    "duration": 7,
    "start_time": "2021-08-06T19:49:06.944Z"
   },
   {
    "duration": 6,
    "start_time": "2021-08-06T19:49:06.953Z"
   },
   {
    "duration": 6,
    "start_time": "2021-08-06T19:49:06.961Z"
   },
   {
    "duration": 85,
    "start_time": "2021-08-06T19:49:06.969Z"
   },
   {
    "duration": 64,
    "start_time": "2021-08-06T19:49:07.056Z"
   },
   {
    "duration": 3,
    "start_time": "2021-08-06T19:49:07.121Z"
   },
   {
    "duration": 2111,
    "start_time": "2021-08-06T19:49:07.125Z"
   },
   {
    "duration": 92,
    "start_time": "2021-08-06T19:49:09.238Z"
   },
   {
    "duration": 69,
    "start_time": "2021-08-06T19:49:09.332Z"
   },
   {
    "duration": 293,
    "start_time": "2021-08-06T19:49:09.403Z"
   },
   {
    "duration": 3,
    "start_time": "2021-08-06T19:49:09.699Z"
   },
   {
    "duration": 112842,
    "start_time": "2021-08-06T19:49:09.704Z"
   },
   {
    "duration": 166,
    "start_time": "2021-08-06T19:51:02.547Z"
   },
   {
    "duration": 231,
    "start_time": "2021-08-06T19:51:02.715Z"
   },
   {
    "duration": 1364,
    "start_time": "2021-08-06T19:51:01.584Z"
   },
   {
    "duration": 1357,
    "start_time": "2021-08-06T19:51:01.592Z"
   },
   {
    "duration": 1344,
    "start_time": "2021-08-06T19:51:01.605Z"
   },
   {
    "duration": 1332,
    "start_time": "2021-08-06T19:51:01.618Z"
   },
   {
    "duration": 1321,
    "start_time": "2021-08-06T19:51:01.630Z"
   },
   {
    "duration": 1313,
    "start_time": "2021-08-06T19:51:01.639Z"
   },
   {
    "duration": 1305,
    "start_time": "2021-08-06T19:51:01.647Z"
   },
   {
    "duration": 1296,
    "start_time": "2021-08-06T19:51:01.657Z"
   },
   {
    "duration": 1289,
    "start_time": "2021-08-06T19:51:01.665Z"
   },
   {
    "duration": 3,
    "start_time": "2021-08-06T19:51:18.885Z"
   },
   {
    "duration": 421836,
    "start_time": "2021-08-06T19:51:20.792Z"
   },
   {
    "duration": 1150,
    "start_time": "2021-08-06T19:58:24.608Z"
   },
   {
    "duration": 783,
    "start_time": "2021-08-06T19:58:25.760Z"
   },
   {
    "duration": 117,
    "start_time": "2021-08-06T19:58:26.545Z"
   },
   {
    "duration": 125,
    "start_time": "2021-08-06T19:58:26.663Z"
   },
   {
    "duration": 361,
    "start_time": "2021-08-06T19:58:26.791Z"
   },
   {
    "duration": 61,
    "start_time": "2021-08-06T19:58:27.154Z"
   },
   {
    "duration": 60,
    "start_time": "2021-08-06T19:58:27.216Z"
   },
   {
    "duration": 13,
    "start_time": "2021-08-06T19:58:27.279Z"
   },
   {
    "duration": 59,
    "start_time": "2021-08-06T19:58:27.294Z"
   },
   {
    "duration": 42,
    "start_time": "2021-08-06T19:58:27.355Z"
   },
   {
    "duration": 251,
    "start_time": "2021-08-06T19:58:27.399Z"
   },
   {
    "duration": 250,
    "start_time": "2021-08-06T19:58:27.651Z"
   },
   {
    "duration": 53,
    "start_time": "2021-08-06T19:58:27.903Z"
   },
   {
    "duration": 71,
    "start_time": "2021-08-06T19:58:27.958Z"
   },
   {
    "duration": 140,
    "start_time": "2021-08-06T19:58:28.031Z"
   },
   {
    "duration": 40,
    "start_time": "2021-08-06T19:58:28.172Z"
   },
   {
    "duration": 178,
    "start_time": "2021-08-06T19:58:28.213Z"
   },
   {
    "duration": 50,
    "start_time": "2021-08-06T19:58:28.393Z"
   },
   {
    "duration": 29,
    "start_time": "2021-08-06T19:58:28.444Z"
   },
   {
    "duration": 62,
    "start_time": "2021-08-06T19:58:28.474Z"
   },
   {
    "duration": 12,
    "start_time": "2021-08-06T19:58:28.538Z"
   },
   {
    "duration": 402,
    "start_time": "2021-08-06T19:58:28.551Z"
   },
   {
    "duration": 9,
    "start_time": "2021-08-06T19:58:28.956Z"
   },
   {
    "duration": 25,
    "start_time": "2021-08-06T19:58:28.967Z"
   },
   {
    "duration": 17,
    "start_time": "2021-08-06T19:58:28.994Z"
   },
   {
    "duration": 3,
    "start_time": "2021-08-06T19:58:29.013Z"
   },
   {
    "duration": 8,
    "start_time": "2021-08-06T19:58:29.017Z"
   },
   {
    "duration": 12,
    "start_time": "2021-08-06T19:58:29.027Z"
   },
   {
    "duration": 9,
    "start_time": "2021-08-06T19:58:29.041Z"
   },
   {
    "duration": 5,
    "start_time": "2021-08-06T19:58:29.051Z"
   },
   {
    "duration": 74,
    "start_time": "2021-08-06T19:58:29.058Z"
   },
   {
    "duration": 73,
    "start_time": "2021-08-06T19:58:29.134Z"
   },
   {
    "duration": 4,
    "start_time": "2021-08-06T19:58:29.208Z"
   },
   {
    "duration": 2122,
    "start_time": "2021-08-06T19:58:29.214Z"
   },
   {
    "duration": 91,
    "start_time": "2021-08-06T19:58:31.338Z"
   },
   {
    "duration": 67,
    "start_time": "2021-08-06T19:58:31.431Z"
   },
   {
    "duration": 291,
    "start_time": "2021-08-06T19:58:31.500Z"
   },
   {
    "duration": 3,
    "start_time": "2021-08-06T19:58:31.793Z"
   },
   {
    "duration": 5652495,
    "start_time": "2021-08-06T19:58:31.798Z"
   },
   {
    "duration": 214039,
    "start_time": "2021-08-06T21:32:44.295Z"
   },
   {
    "duration": 272,
    "start_time": "2021-08-06T21:36:18.336Z"
   },
   {
    "duration": 91,
    "start_time": "2021-08-06T21:36:18.610Z"
   },
   {
    "duration": 109,
    "start_time": "2021-08-06T21:36:18.702Z"
   },
   {
    "duration": 43,
    "start_time": "2021-08-06T21:36:18.813Z"
   },
   {
    "duration": 3,
    "start_time": "2021-08-06T21:36:18.858Z"
   },
   {
    "duration": 97331,
    "start_time": "2021-08-06T21:36:18.862Z"
   },
   {
    "duration": 8102,
    "start_time": "2021-08-06T21:37:56.195Z"
   },
   {
    "duration": 507,
    "start_time": "2021-08-06T21:38:04.299Z"
   },
   {
    "duration": 5,
    "start_time": "2021-08-06T21:38:04.808Z"
   },
   {
    "duration": 83,
    "start_time": "2021-08-06T21:38:04.814Z"
   },
   {
    "duration": 6569,
    "start_time": "2021-08-06T21:50:06.837Z"
   },
   {
    "duration": 681274,
    "start_time": "2021-08-06T21:50:28.137Z"
   },
   {
    "duration": 1366,
    "start_time": "2021-08-06T22:02:08.345Z"
   },
   {
    "duration": 3,
    "start_time": "2021-08-06T22:02:22.378Z"
   },
   {
    "duration": 2132855,
    "start_time": "2021-08-06T22:02:23.790Z"
   },
   {
    "duration": 3,
    "start_time": "2021-08-06T22:39:34.395Z"
   },
   {
    "duration": 2,
    "start_time": "2021-08-06T22:39:49.740Z"
   },
   {
    "duration": 1660774,
    "start_time": "2021-08-06T22:39:52.069Z"
   },
   {
    "duration": 1132,
    "start_time": "2021-08-06T23:19:07.808Z"
   },
   {
    "duration": 723,
    "start_time": "2021-08-06T23:19:08.941Z"
   },
   {
    "duration": 115,
    "start_time": "2021-08-06T23:19:09.666Z"
   },
   {
    "duration": 114,
    "start_time": "2021-08-06T23:19:09.783Z"
   },
   {
    "duration": 360,
    "start_time": "2021-08-06T23:19:09.898Z"
   },
   {
    "duration": 60,
    "start_time": "2021-08-06T23:19:10.259Z"
   },
   {
    "duration": 57,
    "start_time": "2021-08-06T23:19:10.320Z"
   },
   {
    "duration": 2,
    "start_time": "2021-08-06T23:19:10.380Z"
   },
   {
    "duration": 55,
    "start_time": "2021-08-06T23:19:10.392Z"
   },
   {
    "duration": 44,
    "start_time": "2021-08-06T23:19:10.448Z"
   },
   {
    "duration": 257,
    "start_time": "2021-08-06T23:19:10.494Z"
   },
   {
    "duration": 251,
    "start_time": "2021-08-06T23:19:10.752Z"
   },
   {
    "duration": 52,
    "start_time": "2021-08-06T23:19:11.004Z"
   },
   {
    "duration": 72,
    "start_time": "2021-08-06T23:19:11.057Z"
   },
   {
    "duration": 137,
    "start_time": "2021-08-06T23:19:11.131Z"
   },
   {
    "duration": 47,
    "start_time": "2021-08-06T23:19:11.270Z"
   },
   {
    "duration": 285,
    "start_time": "2021-08-06T23:19:11.319Z"
   },
   {
    "duration": 51,
    "start_time": "2021-08-06T23:19:11.605Z"
   },
   {
    "duration": 45,
    "start_time": "2021-08-06T23:19:11.658Z"
   },
   {
    "duration": 50,
    "start_time": "2021-08-06T23:19:11.704Z"
   },
   {
    "duration": 12,
    "start_time": "2021-08-06T23:19:11.755Z"
   },
   {
    "duration": 355,
    "start_time": "2021-08-06T23:19:11.768Z"
   },
   {
    "duration": 9,
    "start_time": "2021-08-06T23:19:12.127Z"
   },
   {
    "duration": 14,
    "start_time": "2021-08-06T23:19:12.138Z"
   },
   {
    "duration": 14,
    "start_time": "2021-08-06T23:19:12.153Z"
   },
   {
    "duration": 3,
    "start_time": "2021-08-06T23:19:12.192Z"
   },
   {
    "duration": 5,
    "start_time": "2021-08-06T23:19:12.197Z"
   },
   {
    "duration": 8,
    "start_time": "2021-08-06T23:19:12.204Z"
   },
   {
    "duration": 4,
    "start_time": "2021-08-06T23:19:12.214Z"
   },
   {
    "duration": 6,
    "start_time": "2021-08-06T23:19:12.220Z"
   },
   {
    "duration": 86,
    "start_time": "2021-08-06T23:19:12.227Z"
   },
   {
    "duration": 57,
    "start_time": "2021-08-06T23:19:12.315Z"
   },
   {
    "duration": 18,
    "start_time": "2021-08-06T23:19:12.373Z"
   },
   {
    "duration": 2037,
    "start_time": "2021-08-06T23:19:12.393Z"
   },
   {
    "duration": 91,
    "start_time": "2021-08-06T23:19:14.432Z"
   },
   {
    "duration": 72,
    "start_time": "2021-08-06T23:19:14.525Z"
   },
   {
    "duration": 193,
    "start_time": "2021-08-06T23:19:14.600Z"
   },
   {
    "duration": 3,
    "start_time": "2021-08-06T23:19:14.795Z"
   },
   {
    "duration": 6167721,
    "start_time": "2021-08-06T23:19:14.799Z"
   },
   {
    "duration": 687510,
    "start_time": "2021-08-07T01:02:02.522Z"
   },
   {
    "duration": 1478,
    "start_time": "2021-08-07T01:13:30.033Z"
   },
   {
    "duration": 16,
    "start_time": "2021-08-07T01:13:31.512Z"
   },
   {
    "duration": 134,
    "start_time": "2021-08-07T01:13:31.529Z"
   },
   {
    "duration": 55,
    "start_time": "2021-08-07T01:13:31.665Z"
   },
   {
    "duration": 3,
    "start_time": "2021-08-07T01:13:31.721Z"
   },
   {
    "duration": 93773,
    "start_time": "2021-08-07T01:13:31.726Z"
   },
   {
    "duration": 5996,
    "start_time": "2021-08-07T01:15:05.501Z"
   },
   {
    "duration": 702,
    "start_time": "2021-08-07T01:15:11.498Z"
   },
   {
    "duration": 5,
    "start_time": "2021-08-07T01:15:12.201Z"
   },
   {
    "duration": 11,
    "start_time": "2021-08-07T01:15:12.208Z"
   },
   {
    "duration": 85,
    "start_time": "2021-08-07T06:57:38.802Z"
   }
  ],
  "kernelspec": {
   "display_name": "Python 3",
   "language": "python",
   "name": "python3"
  },
  "language_info": {
   "codemirror_mode": {
    "name": "ipython",
    "version": 3
   },
   "file_extension": ".py",
   "mimetype": "text/x-python",
   "name": "python",
   "nbconvert_exporter": "python",
   "pygments_lexer": "ipython3",
   "version": "3.8.8"
  },
  "toc": {
   "base_numbering": 1,
   "nav_menu": {},
   "number_sections": true,
   "sideBar": true,
   "skip_h1_title": true,
   "title_cell": "Table of Contents",
   "title_sidebar": "Contents",
   "toc_cell": false,
   "toc_position": {},
   "toc_section_display": true,
   "toc_window_display": false
  }
 },
 "nbformat": 4,
 "nbformat_minor": 2
}
