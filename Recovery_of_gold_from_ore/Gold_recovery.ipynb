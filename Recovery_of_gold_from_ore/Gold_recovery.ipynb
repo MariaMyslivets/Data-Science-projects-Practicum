{
 "cells": [
  {
   "cell_type": "markdown",
   "metadata": {},
   "source": [
    "# Recovery of gold from ore"
   ]
  },
  {
   "cell_type": "markdown",
   "metadata": {},
   "source": [
    "Preparation of a model for predicting the recovery factor of gold from gold-bearing ore using data with mining and refining parameters to optimize production.\n",
    "\n",
    "Stages:\n",
    "- Preparing data for correct work with them (changing data type, getting rid of anomalies and omissions);\n",
    "- exploratory data analysis;\n",
    "- Building and training several models to further predict the recovery factor of gold from gold ore and select the best one for further use, minimizing the final sMAPE metric."
   ]
  },
  {
   "cell_type": "markdown",
   "metadata": {},
   "source": [
    "## Data preparation"
   ]
  },
  {
   "cell_type": "code",
   "execution_count": 1,
   "metadata": {},
   "outputs": [],
   "source": [
    "import pandas as pd\n",
    "import numpy as np\n",
    "from datetime import datetime\n",
    "import time\n",
    "import matplotlib.pyplot as plt\n",
    "from sklearn.metrics import mean_absolute_error\n",
    "from sklearn.linear_model import LinearRegression\n",
    "from sklearn.tree import DecisionTreeRegressor\n",
    "from sklearn.ensemble import RandomForestRegressor\n",
    "from sklearn.preprocessing import StandardScaler\n",
    "import warnings\n",
    "warnings.filterwarnings(\"ignore\")\n",
    "from sklearn.model_selection import GridSearchCV\n",
    "from sklearn.model_selection import cross_val_score\n",
    "from sklearn.metrics import make_scorer"
   ]
  },
  {
   "cell_type": "code",
   "execution_count": 2,
   "metadata": {},
   "outputs": [],
   "source": [
    "df_train = pd.read_csv('gold_recovery_train_new.csv')\n",
    "df_test = pd.read_csv('gold_recovery_test_new.csv')\n",
    "df_full = pd.read_csv('gold_recovery_full_new.csv')"
   ]
  },
  {
   "cell_type": "code",
   "execution_count": 3,
   "metadata": {},
   "outputs": [
    {
     "data": {
      "text/html": [
       "<div>\n",
       "<style scoped>\n",
       "    .dataframe tbody tr th:only-of-type {\n",
       "        vertical-align: middle;\n",
       "    }\n",
       "\n",
       "    .dataframe tbody tr th {\n",
       "        vertical-align: top;\n",
       "    }\n",
       "\n",
       "    .dataframe thead th {\n",
       "        text-align: right;\n",
       "    }\n",
       "</style>\n",
       "<table border=\"1\" class=\"dataframe\">\n",
       "  <thead>\n",
       "    <tr style=\"text-align: right;\">\n",
       "      <th></th>\n",
       "      <th>date</th>\n",
       "      <th>primary_cleaner.input.sulfate</th>\n",
       "      <th>primary_cleaner.input.depressant</th>\n",
       "      <th>primary_cleaner.input.feed_size</th>\n",
       "      <th>primary_cleaner.input.xanthate</th>\n",
       "      <th>primary_cleaner.state.floatbank8_a_air</th>\n",
       "      <th>primary_cleaner.state.floatbank8_a_level</th>\n",
       "      <th>primary_cleaner.state.floatbank8_b_air</th>\n",
       "      <th>primary_cleaner.state.floatbank8_b_level</th>\n",
       "      <th>primary_cleaner.state.floatbank8_c_air</th>\n",
       "      <th>...</th>\n",
       "      <th>secondary_cleaner.state.floatbank4_a_air</th>\n",
       "      <th>secondary_cleaner.state.floatbank4_a_level</th>\n",
       "      <th>secondary_cleaner.state.floatbank4_b_air</th>\n",
       "      <th>secondary_cleaner.state.floatbank4_b_level</th>\n",
       "      <th>secondary_cleaner.state.floatbank5_a_air</th>\n",
       "      <th>secondary_cleaner.state.floatbank5_a_level</th>\n",
       "      <th>secondary_cleaner.state.floatbank5_b_air</th>\n",
       "      <th>secondary_cleaner.state.floatbank5_b_level</th>\n",
       "      <th>secondary_cleaner.state.floatbank6_a_air</th>\n",
       "      <th>secondary_cleaner.state.floatbank6_a_level</th>\n",
       "    </tr>\n",
       "  </thead>\n",
       "  <tbody>\n",
       "    <tr>\n",
       "      <td>0</td>\n",
       "      <td>2016-09-01 00:59:59</td>\n",
       "      <td>210.800909</td>\n",
       "      <td>14.993118</td>\n",
       "      <td>8.080000</td>\n",
       "      <td>1.005021</td>\n",
       "      <td>1398.981301</td>\n",
       "      <td>-500.225577</td>\n",
       "      <td>1399.144926</td>\n",
       "      <td>-499.919735</td>\n",
       "      <td>1400.102998</td>\n",
       "      <td>...</td>\n",
       "      <td>12.023554</td>\n",
       "      <td>-497.795834</td>\n",
       "      <td>8.016656</td>\n",
       "      <td>-501.289139</td>\n",
       "      <td>7.946562</td>\n",
       "      <td>-432.317850</td>\n",
       "      <td>4.872511</td>\n",
       "      <td>-500.037437</td>\n",
       "      <td>26.705889</td>\n",
       "      <td>-499.709414</td>\n",
       "    </tr>\n",
       "    <tr>\n",
       "      <td>1</td>\n",
       "      <td>2016-09-01 01:59:59</td>\n",
       "      <td>215.392455</td>\n",
       "      <td>14.987471</td>\n",
       "      <td>8.080000</td>\n",
       "      <td>0.990469</td>\n",
       "      <td>1398.777912</td>\n",
       "      <td>-500.057435</td>\n",
       "      <td>1398.055362</td>\n",
       "      <td>-499.778182</td>\n",
       "      <td>1396.151033</td>\n",
       "      <td>...</td>\n",
       "      <td>12.058140</td>\n",
       "      <td>-498.695773</td>\n",
       "      <td>8.130979</td>\n",
       "      <td>-499.634209</td>\n",
       "      <td>7.958270</td>\n",
       "      <td>-525.839648</td>\n",
       "      <td>4.878850</td>\n",
       "      <td>-500.162375</td>\n",
       "      <td>25.019940</td>\n",
       "      <td>-499.819438</td>\n",
       "    </tr>\n",
       "    <tr>\n",
       "      <td>2</td>\n",
       "      <td>2016-09-01 02:59:59</td>\n",
       "      <td>215.259946</td>\n",
       "      <td>12.884934</td>\n",
       "      <td>7.786667</td>\n",
       "      <td>0.996043</td>\n",
       "      <td>1398.493666</td>\n",
       "      <td>-500.868360</td>\n",
       "      <td>1398.860436</td>\n",
       "      <td>-499.764529</td>\n",
       "      <td>1398.075709</td>\n",
       "      <td>...</td>\n",
       "      <td>11.962366</td>\n",
       "      <td>-498.767484</td>\n",
       "      <td>8.096893</td>\n",
       "      <td>-500.827423</td>\n",
       "      <td>8.071056</td>\n",
       "      <td>-500.801673</td>\n",
       "      <td>4.905125</td>\n",
       "      <td>-499.828510</td>\n",
       "      <td>24.994862</td>\n",
       "      <td>-500.622559</td>\n",
       "    </tr>\n",
       "    <tr>\n",
       "      <td>3</td>\n",
       "      <td>2016-09-01 03:59:59</td>\n",
       "      <td>215.336236</td>\n",
       "      <td>12.006805</td>\n",
       "      <td>7.640000</td>\n",
       "      <td>0.863514</td>\n",
       "      <td>1399.618111</td>\n",
       "      <td>-498.863574</td>\n",
       "      <td>1397.440120</td>\n",
       "      <td>-499.211024</td>\n",
       "      <td>1400.129303</td>\n",
       "      <td>...</td>\n",
       "      <td>12.033091</td>\n",
       "      <td>-498.350935</td>\n",
       "      <td>8.074946</td>\n",
       "      <td>-499.474407</td>\n",
       "      <td>7.897085</td>\n",
       "      <td>-500.868509</td>\n",
       "      <td>4.931400</td>\n",
       "      <td>-499.963623</td>\n",
       "      <td>24.948919</td>\n",
       "      <td>-498.709987</td>\n",
       "    </tr>\n",
       "    <tr>\n",
       "      <td>4</td>\n",
       "      <td>2016-09-01 04:59:59</td>\n",
       "      <td>199.099327</td>\n",
       "      <td>10.682530</td>\n",
       "      <td>7.530000</td>\n",
       "      <td>0.805575</td>\n",
       "      <td>1401.268123</td>\n",
       "      <td>-500.808305</td>\n",
       "      <td>1398.128818</td>\n",
       "      <td>-499.504543</td>\n",
       "      <td>1402.172226</td>\n",
       "      <td>...</td>\n",
       "      <td>12.025367</td>\n",
       "      <td>-500.786497</td>\n",
       "      <td>8.054678</td>\n",
       "      <td>-500.397500</td>\n",
       "      <td>8.107890</td>\n",
       "      <td>-509.526725</td>\n",
       "      <td>4.957674</td>\n",
       "      <td>-500.360026</td>\n",
       "      <td>25.003331</td>\n",
       "      <td>-500.856333</td>\n",
       "    </tr>\n",
       "  </tbody>\n",
       "</table>\n",
       "<p>5 rows × 53 columns</p>\n",
       "</div>"
      ],
      "text/plain": [
       "                  date  primary_cleaner.input.sulfate  \\\n",
       "0  2016-09-01 00:59:59                     210.800909   \n",
       "1  2016-09-01 01:59:59                     215.392455   \n",
       "2  2016-09-01 02:59:59                     215.259946   \n",
       "3  2016-09-01 03:59:59                     215.336236   \n",
       "4  2016-09-01 04:59:59                     199.099327   \n",
       "\n",
       "   primary_cleaner.input.depressant  primary_cleaner.input.feed_size  \\\n",
       "0                         14.993118                         8.080000   \n",
       "1                         14.987471                         8.080000   \n",
       "2                         12.884934                         7.786667   \n",
       "3                         12.006805                         7.640000   \n",
       "4                         10.682530                         7.530000   \n",
       "\n",
       "   primary_cleaner.input.xanthate  primary_cleaner.state.floatbank8_a_air  \\\n",
       "0                        1.005021                             1398.981301   \n",
       "1                        0.990469                             1398.777912   \n",
       "2                        0.996043                             1398.493666   \n",
       "3                        0.863514                             1399.618111   \n",
       "4                        0.805575                             1401.268123   \n",
       "\n",
       "   primary_cleaner.state.floatbank8_a_level  \\\n",
       "0                               -500.225577   \n",
       "1                               -500.057435   \n",
       "2                               -500.868360   \n",
       "3                               -498.863574   \n",
       "4                               -500.808305   \n",
       "\n",
       "   primary_cleaner.state.floatbank8_b_air  \\\n",
       "0                             1399.144926   \n",
       "1                             1398.055362   \n",
       "2                             1398.860436   \n",
       "3                             1397.440120   \n",
       "4                             1398.128818   \n",
       "\n",
       "   primary_cleaner.state.floatbank8_b_level  \\\n",
       "0                               -499.919735   \n",
       "1                               -499.778182   \n",
       "2                               -499.764529   \n",
       "3                               -499.211024   \n",
       "4                               -499.504543   \n",
       "\n",
       "   primary_cleaner.state.floatbank8_c_air  ...  \\\n",
       "0                             1400.102998  ...   \n",
       "1                             1396.151033  ...   \n",
       "2                             1398.075709  ...   \n",
       "3                             1400.129303  ...   \n",
       "4                             1402.172226  ...   \n",
       "\n",
       "   secondary_cleaner.state.floatbank4_a_air  \\\n",
       "0                                 12.023554   \n",
       "1                                 12.058140   \n",
       "2                                 11.962366   \n",
       "3                                 12.033091   \n",
       "4                                 12.025367   \n",
       "\n",
       "   secondary_cleaner.state.floatbank4_a_level  \\\n",
       "0                                 -497.795834   \n",
       "1                                 -498.695773   \n",
       "2                                 -498.767484   \n",
       "3                                 -498.350935   \n",
       "4                                 -500.786497   \n",
       "\n",
       "   secondary_cleaner.state.floatbank4_b_air  \\\n",
       "0                                  8.016656   \n",
       "1                                  8.130979   \n",
       "2                                  8.096893   \n",
       "3                                  8.074946   \n",
       "4                                  8.054678   \n",
       "\n",
       "   secondary_cleaner.state.floatbank4_b_level  \\\n",
       "0                                 -501.289139   \n",
       "1                                 -499.634209   \n",
       "2                                 -500.827423   \n",
       "3                                 -499.474407   \n",
       "4                                 -500.397500   \n",
       "\n",
       "   secondary_cleaner.state.floatbank5_a_air  \\\n",
       "0                                  7.946562   \n",
       "1                                  7.958270   \n",
       "2                                  8.071056   \n",
       "3                                  7.897085   \n",
       "4                                  8.107890   \n",
       "\n",
       "   secondary_cleaner.state.floatbank5_a_level  \\\n",
       "0                                 -432.317850   \n",
       "1                                 -525.839648   \n",
       "2                                 -500.801673   \n",
       "3                                 -500.868509   \n",
       "4                                 -509.526725   \n",
       "\n",
       "   secondary_cleaner.state.floatbank5_b_air  \\\n",
       "0                                  4.872511   \n",
       "1                                  4.878850   \n",
       "2                                  4.905125   \n",
       "3                                  4.931400   \n",
       "4                                  4.957674   \n",
       "\n",
       "   secondary_cleaner.state.floatbank5_b_level  \\\n",
       "0                                 -500.037437   \n",
       "1                                 -500.162375   \n",
       "2                                 -499.828510   \n",
       "3                                 -499.963623   \n",
       "4                                 -500.360026   \n",
       "\n",
       "   secondary_cleaner.state.floatbank6_a_air  \\\n",
       "0                                 26.705889   \n",
       "1                                 25.019940   \n",
       "2                                 24.994862   \n",
       "3                                 24.948919   \n",
       "4                                 25.003331   \n",
       "\n",
       "   secondary_cleaner.state.floatbank6_a_level  \n",
       "0                                 -499.709414  \n",
       "1                                 -499.819438  \n",
       "2                                 -500.622559  \n",
       "3                                 -498.709987  \n",
       "4                                 -500.856333  \n",
       "\n",
       "[5 rows x 53 columns]"
      ]
     },
     "execution_count": 3,
     "metadata": {},
     "output_type": "execute_result"
    }
   ],
   "source": [
    "df_test.head() "
   ]
  },
  {
   "cell_type": "code",
   "execution_count": 4,
   "metadata": {},
   "outputs": [
    {
     "data": {
      "text/plain": [
       "(14149, 87)"
      ]
     },
     "execution_count": 4,
     "metadata": {},
     "output_type": "execute_result"
    }
   ],
   "source": [
    "df_train.shape"
   ]
  },
  {
   "cell_type": "code",
   "execution_count": 5,
   "metadata": {},
   "outputs": [
    {
     "data": {
      "text/plain": [
       "0.7278666598076032"
      ]
     },
     "execution_count": 5,
     "metadata": {},
     "output_type": "execute_result"
    }
   ],
   "source": [
    "df_train.shape[0] / df_full.shape[0]"
   ]
  },
  {
   "cell_type": "code",
   "execution_count": 6,
   "metadata": {},
   "outputs": [
    {
     "data": {
      "text/plain": [
       "0.2721333401923967"
      ]
     },
     "execution_count": 6,
     "metadata": {},
     "output_type": "execute_result"
    }
   ],
   "source": [
    "df_test.shape[0] / df_full.shape[0]"
   ]
  },
  {
   "cell_type": "code",
   "execution_count": 7,
   "metadata": {},
   "outputs": [
    {
     "data": {
      "text/plain": [
       "(5290, 53)"
      ]
     },
     "execution_count": 7,
     "metadata": {},
     "output_type": "execute_result"
    }
   ],
   "source": [
    "df_test.shape"
   ]
  },
  {
   "cell_type": "code",
   "execution_count": 8,
   "metadata": {},
   "outputs": [
    {
     "data": {
      "text/plain": [
       "(19439, 87)"
      ]
     },
     "execution_count": 8,
     "metadata": {},
     "output_type": "execute_result"
    }
   ],
   "source": [
    "df_full.shape"
   ]
  },
  {
   "cell_type": "code",
   "execution_count": 9,
   "metadata": {},
   "outputs": [
    {
     "data": {
      "text/plain": [
       "0"
      ]
     },
     "execution_count": 9,
     "metadata": {},
     "output_type": "execute_result"
    }
   ],
   "source": [
    "df_train.shape[0] + df_test.shape[0] - df_full.shape[0]"
   ]
  },
  {
   "cell_type": "code",
   "execution_count": 10,
   "metadata": {},
   "outputs": [
    {
     "name": "stdout",
     "output_type": "stream",
     "text": [
      "<class 'pandas.core.frame.DataFrame'>\n",
      "RangeIndex: 19439 entries, 0 to 19438\n",
      "Data columns (total 87 columns):\n",
      "date                                                  19439 non-null object\n",
      "final.output.concentrate_ag                           19438 non-null float64\n",
      "final.output.concentrate_pb                           19438 non-null float64\n",
      "final.output.concentrate_sol                          19228 non-null float64\n",
      "final.output.concentrate_au                           19439 non-null float64\n",
      "final.output.recovery                                 19439 non-null float64\n",
      "final.output.tail_ag                                  19438 non-null float64\n",
      "final.output.tail_pb                                  19338 non-null float64\n",
      "final.output.tail_sol                                 19433 non-null float64\n",
      "final.output.tail_au                                  19439 non-null float64\n",
      "primary_cleaner.input.sulfate                         19415 non-null float64\n",
      "primary_cleaner.input.depressant                      19402 non-null float64\n",
      "primary_cleaner.input.feed_size                       19439 non-null float64\n",
      "primary_cleaner.input.xanthate                        19335 non-null float64\n",
      "primary_cleaner.output.concentrate_ag                 19439 non-null float64\n",
      "primary_cleaner.output.concentrate_pb                 19323 non-null float64\n",
      "primary_cleaner.output.concentrate_sol                19069 non-null float64\n",
      "primary_cleaner.output.concentrate_au                 19439 non-null float64\n",
      "primary_cleaner.output.tail_ag                        19435 non-null float64\n",
      "primary_cleaner.output.tail_pb                        19418 non-null float64\n",
      "primary_cleaner.output.tail_sol                       19377 non-null float64\n",
      "primary_cleaner.output.tail_au                        19439 non-null float64\n",
      "primary_cleaner.state.floatbank8_a_air                19435 non-null float64\n",
      "primary_cleaner.state.floatbank8_a_level              19438 non-null float64\n",
      "primary_cleaner.state.floatbank8_b_air                19435 non-null float64\n",
      "primary_cleaner.state.floatbank8_b_level              19438 non-null float64\n",
      "primary_cleaner.state.floatbank8_c_air                19437 non-null float64\n",
      "primary_cleaner.state.floatbank8_c_level              19438 non-null float64\n",
      "primary_cleaner.state.floatbank8_d_air                19436 non-null float64\n",
      "primary_cleaner.state.floatbank8_d_level              19438 non-null float64\n",
      "rougher.calculation.sulfate_to_au_concentrate         19437 non-null float64\n",
      "rougher.calculation.floatbank10_sulfate_to_au_feed    19437 non-null float64\n",
      "rougher.calculation.floatbank11_sulfate_to_au_feed    19437 non-null float64\n",
      "rougher.calculation.au_pb_ratio                       19439 non-null float64\n",
      "rougher.input.feed_ag                                 19439 non-null float64\n",
      "rougher.input.feed_pb                                 19339 non-null float64\n",
      "rougher.input.feed_rate                               19428 non-null float64\n",
      "rougher.input.feed_size                               19294 non-null float64\n",
      "rougher.input.feed_sol                                19340 non-null float64\n",
      "rougher.input.feed_au                                 19439 non-null float64\n",
      "rougher.input.floatbank10_sulfate                     19405 non-null float64\n",
      "rougher.input.floatbank10_xanthate                    19431 non-null float64\n",
      "rougher.input.floatbank11_sulfate                     19395 non-null float64\n",
      "rougher.input.floatbank11_xanthate                    18986 non-null float64\n",
      "rougher.output.concentrate_ag                         19439 non-null float64\n",
      "rougher.output.concentrate_pb                         19439 non-null float64\n",
      "rougher.output.concentrate_sol                        19416 non-null float64\n",
      "rougher.output.concentrate_au                         19439 non-null float64\n",
      "rougher.output.recovery                               19439 non-null float64\n",
      "rougher.output.tail_ag                                19438 non-null float64\n",
      "rougher.output.tail_pb                                19439 non-null float64\n",
      "rougher.output.tail_sol                               19439 non-null float64\n",
      "rougher.output.tail_au                                19439 non-null float64\n",
      "rougher.state.floatbank10_a_air                       19438 non-null float64\n",
      "rougher.state.floatbank10_a_level                     19438 non-null float64\n",
      "rougher.state.floatbank10_b_air                       19438 non-null float64\n",
      "rougher.state.floatbank10_b_level                     19438 non-null float64\n",
      "rougher.state.floatbank10_c_air                       19438 non-null float64\n",
      "rougher.state.floatbank10_c_level                     19438 non-null float64\n",
      "rougher.state.floatbank10_d_air                       19439 non-null float64\n",
      "rougher.state.floatbank10_d_level                     19439 non-null float64\n",
      "rougher.state.floatbank10_e_air                       19003 non-null float64\n",
      "rougher.state.floatbank10_e_level                     19439 non-null float64\n",
      "rougher.state.floatbank10_f_air                       19439 non-null float64\n",
      "rougher.state.floatbank10_f_level                     19439 non-null float64\n",
      "secondary_cleaner.output.tail_ag                      19437 non-null float64\n",
      "secondary_cleaner.output.tail_pb                      19427 non-null float64\n",
      "secondary_cleaner.output.tail_sol                     17691 non-null float64\n",
      "secondary_cleaner.output.tail_au                      19439 non-null float64\n",
      "secondary_cleaner.state.floatbank2_a_air              19219 non-null float64\n",
      "secondary_cleaner.state.floatbank2_a_level            19438 non-null float64\n",
      "secondary_cleaner.state.floatbank2_b_air              19416 non-null float64\n",
      "secondary_cleaner.state.floatbank2_b_level            19438 non-null float64\n",
      "secondary_cleaner.state.floatbank3_a_air              19426 non-null float64\n",
      "secondary_cleaner.state.floatbank3_a_level            19438 non-null float64\n",
      "secondary_cleaner.state.floatbank3_b_air              19438 non-null float64\n",
      "secondary_cleaner.state.floatbank3_b_level            19438 non-null float64\n",
      "secondary_cleaner.state.floatbank4_a_air              19433 non-null float64\n",
      "secondary_cleaner.state.floatbank4_a_level            19438 non-null float64\n",
      "secondary_cleaner.state.floatbank4_b_air              19438 non-null float64\n",
      "secondary_cleaner.state.floatbank4_b_level            19438 non-null float64\n",
      "secondary_cleaner.state.floatbank5_a_air              19438 non-null float64\n",
      "secondary_cleaner.state.floatbank5_a_level            19438 non-null float64\n",
      "secondary_cleaner.state.floatbank5_b_air              19438 non-null float64\n",
      "secondary_cleaner.state.floatbank5_b_level            19438 non-null float64\n",
      "secondary_cleaner.state.floatbank6_a_air              19437 non-null float64\n",
      "secondary_cleaner.state.floatbank6_a_level            19438 non-null float64\n",
      "dtypes: float64(86), object(1)\n",
      "memory usage: 12.9+ MB\n"
     ]
    }
   ],
   "source": [
    "df_full.info()"
   ]
  },
  {
   "cell_type": "markdown",
   "metadata": {},
   "source": [
    "### Comments\n",
    "In the presented datasets, there are gaps in most features. The date feature, unlike other features with float data types, is of the object type."
   ]
  },
  {
   "cell_type": "code",
   "execution_count": 11,
   "metadata": {},
   "outputs": [],
   "source": [
    "NAME_C = 'rougher.output.concentrate_au'\n",
    "NAME_F = 'rougher.input.feed_au'\n",
    "NAME_T = 'rougher.output.tail_au'"
   ]
  },
  {
   "cell_type": "code",
   "execution_count": 12,
   "metadata": {},
   "outputs": [],
   "source": [
    "train_conc = pd.DataFrame([])\n",
    "train_conc['rougher.output.recovery'] = df_train['rougher.output.recovery']"
   ]
  },
  {
   "cell_type": "code",
   "execution_count": 13,
   "metadata": {},
   "outputs": [],
   "source": [
    "train_conc['rougher.output.recovery_cal'] = (df_train[NAME_C] * (df_train[NAME_F] - \n",
    "                                                               df_train[NAME_T] )) * 100 / (df_train[NAME_F] * (df_train[NAME_C] - df_train[NAME_T] )) "
   ]
  },
  {
   "cell_type": "code",
   "execution_count": 14,
   "metadata": {},
   "outputs": [
    {
     "data": {
      "text/html": [
       "<div>\n",
       "<style scoped>\n",
       "    .dataframe tbody tr th:only-of-type {\n",
       "        vertical-align: middle;\n",
       "    }\n",
       "\n",
       "    .dataframe tbody tr th {\n",
       "        vertical-align: top;\n",
       "    }\n",
       "\n",
       "    .dataframe thead th {\n",
       "        text-align: right;\n",
       "    }\n",
       "</style>\n",
       "<table border=\"1\" class=\"dataframe\">\n",
       "  <thead>\n",
       "    <tr style=\"text-align: right;\">\n",
       "      <th></th>\n",
       "      <th>rougher.output.recovery_cal</th>\n",
       "      <th>rougher.output.recovery</th>\n",
       "    </tr>\n",
       "  </thead>\n",
       "  <tbody>\n",
       "    <tr>\n",
       "      <td>0</td>\n",
       "      <td>87.107763</td>\n",
       "      <td>87.107763</td>\n",
       "    </tr>\n",
       "    <tr>\n",
       "      <td>1</td>\n",
       "      <td>86.843261</td>\n",
       "      <td>86.843261</td>\n",
       "    </tr>\n",
       "    <tr>\n",
       "      <td>2</td>\n",
       "      <td>86.842308</td>\n",
       "      <td>86.842308</td>\n",
       "    </tr>\n",
       "    <tr>\n",
       "      <td>3</td>\n",
       "      <td>87.226430</td>\n",
       "      <td>87.226430</td>\n",
       "    </tr>\n",
       "    <tr>\n",
       "      <td>4</td>\n",
       "      <td>86.688794</td>\n",
       "      <td>86.688794</td>\n",
       "    </tr>\n",
       "  </tbody>\n",
       "</table>\n",
       "</div>"
      ],
      "text/plain": [
       "   rougher.output.recovery_cal  rougher.output.recovery\n",
       "0                    87.107763                87.107763\n",
       "1                    86.843261                86.843261\n",
       "2                    86.842308                86.842308\n",
       "3                    87.226430                87.226430\n",
       "4                    86.688794                86.688794"
      ]
     },
     "execution_count": 14,
     "metadata": {},
     "output_type": "execute_result"
    }
   ],
   "source": [
    "train_conc[['rougher.output.recovery_cal','rougher.output.recovery']].head()"
   ]
  },
  {
   "cell_type": "code",
   "execution_count": 15,
   "metadata": {},
   "outputs": [
    {
     "name": "stdout",
     "output_type": "stream",
     "text": [
      "1.1100347049376097e-14\n"
     ]
    }
   ],
   "source": [
    "mae_au = mean_absolute_error(train_conc['rougher.output.recovery'], train_conc['rougher.output.recovery_cal'])\n",
    "print(mae_au)"
   ]
  },
  {
   "cell_type": "markdown",
   "metadata": {},
   "source": [
    "### Comments\n",
    "The correctness of the enrichment efficiency calculation on the training set for the feature rougher.output.recovery was checked. When visually comparing the first five objects, no differences were noticed. MAE between the calculations and the value of the sign was 1%, which confirms the correctness of the preliminary calculation.\n"
   ]
  },
  {
   "cell_type": "code",
   "execution_count": 16,
   "metadata": {},
   "outputs": [],
   "source": [
    "train_cols = df_train.columns\n",
    "test_cols = df_test.columns\n",
    "train_not_test = train_cols.difference(test_cols)"
   ]
  },
  {
   "cell_type": "code",
   "execution_count": 17,
   "metadata": {},
   "outputs": [
    {
     "data": {
      "text/plain": [
       "Index(['final.output.concentrate_ag', 'final.output.concentrate_au',\n",
       "       'final.output.concentrate_pb', 'final.output.concentrate_sol',\n",
       "       'final.output.recovery', 'final.output.tail_ag', 'final.output.tail_au',\n",
       "       'final.output.tail_pb', 'final.output.tail_sol',\n",
       "       'primary_cleaner.output.concentrate_ag',\n",
       "       'primary_cleaner.output.concentrate_au',\n",
       "       'primary_cleaner.output.concentrate_pb',\n",
       "       'primary_cleaner.output.concentrate_sol',\n",
       "       'primary_cleaner.output.tail_ag', 'primary_cleaner.output.tail_au',\n",
       "       'primary_cleaner.output.tail_pb', 'primary_cleaner.output.tail_sol',\n",
       "       'rougher.calculation.au_pb_ratio',\n",
       "       'rougher.calculation.floatbank10_sulfate_to_au_feed',\n",
       "       'rougher.calculation.floatbank11_sulfate_to_au_feed',\n",
       "       'rougher.calculation.sulfate_to_au_concentrate',\n",
       "       'rougher.output.concentrate_ag', 'rougher.output.concentrate_au',\n",
       "       'rougher.output.concentrate_pb', 'rougher.output.concentrate_sol',\n",
       "       'rougher.output.recovery', 'rougher.output.tail_ag',\n",
       "       'rougher.output.tail_au', 'rougher.output.tail_pb',\n",
       "       'rougher.output.tail_sol', 'secondary_cleaner.output.tail_ag',\n",
       "       'secondary_cleaner.output.tail_au', 'secondary_cleaner.output.tail_pb',\n",
       "       'secondary_cleaner.output.tail_sol'],\n",
       "      dtype='object')"
      ]
     },
     "execution_count": 17,
     "metadata": {},
     "output_type": "execute_result"
    }
   ],
   "source": [
    "train_not_test"
   ]
  },
  {
   "cell_type": "code",
   "execution_count": 18,
   "metadata": {},
   "outputs": [
    {
     "data": {
      "text/plain": [
       "Index(['date', 'primary_cleaner.input.sulfate',\n",
       "       'primary_cleaner.input.depressant', 'primary_cleaner.input.feed_size',\n",
       "       'primary_cleaner.input.xanthate',\n",
       "       'primary_cleaner.state.floatbank8_a_air',\n",
       "       'primary_cleaner.state.floatbank8_a_level',\n",
       "       'primary_cleaner.state.floatbank8_b_air',\n",
       "       'primary_cleaner.state.floatbank8_b_level',\n",
       "       'primary_cleaner.state.floatbank8_c_air',\n",
       "       'primary_cleaner.state.floatbank8_c_level',\n",
       "       'primary_cleaner.state.floatbank8_d_air',\n",
       "       'primary_cleaner.state.floatbank8_d_level', 'rougher.input.feed_ag',\n",
       "       'rougher.input.feed_pb', 'rougher.input.feed_rate',\n",
       "       'rougher.input.feed_size', 'rougher.input.feed_sol',\n",
       "       'rougher.input.feed_au', 'rougher.input.floatbank10_sulfate',\n",
       "       'rougher.input.floatbank10_xanthate',\n",
       "       'rougher.input.floatbank11_sulfate',\n",
       "       'rougher.input.floatbank11_xanthate', 'rougher.state.floatbank10_a_air',\n",
       "       'rougher.state.floatbank10_a_level', 'rougher.state.floatbank10_b_air',\n",
       "       'rougher.state.floatbank10_b_level', 'rougher.state.floatbank10_c_air',\n",
       "       'rougher.state.floatbank10_c_level', 'rougher.state.floatbank10_d_air',\n",
       "       'rougher.state.floatbank10_d_level', 'rougher.state.floatbank10_e_air',\n",
       "       'rougher.state.floatbank10_e_level', 'rougher.state.floatbank10_f_air',\n",
       "       'rougher.state.floatbank10_f_level',\n",
       "       'secondary_cleaner.state.floatbank2_a_air',\n",
       "       'secondary_cleaner.state.floatbank2_a_level',\n",
       "       'secondary_cleaner.state.floatbank2_b_air',\n",
       "       'secondary_cleaner.state.floatbank2_b_level',\n",
       "       'secondary_cleaner.state.floatbank3_a_air',\n",
       "       'secondary_cleaner.state.floatbank3_a_level',\n",
       "       'secondary_cleaner.state.floatbank3_b_air',\n",
       "       'secondary_cleaner.state.floatbank3_b_level',\n",
       "       'secondary_cleaner.state.floatbank4_a_air',\n",
       "       'secondary_cleaner.state.floatbank4_a_level',\n",
       "       'secondary_cleaner.state.floatbank4_b_air',\n",
       "       'secondary_cleaner.state.floatbank4_b_level',\n",
       "       'secondary_cleaner.state.floatbank5_a_air',\n",
       "       'secondary_cleaner.state.floatbank5_a_level',\n",
       "       'secondary_cleaner.state.floatbank5_b_air',\n",
       "       'secondary_cleaner.state.floatbank5_b_level',\n",
       "       'secondary_cleaner.state.floatbank6_a_air',\n",
       "       'secondary_cleaner.state.floatbank6_a_level'],\n",
       "      dtype='object')"
      ]
     },
     "execution_count": 18,
     "metadata": {},
     "output_type": "execute_result"
    }
   ],
   "source": [
    "test_cols"
   ]
  },
  {
   "cell_type": "code",
   "execution_count": 19,
   "metadata": {},
   "outputs": [],
   "source": [
    "rougher_cols = []\n",
    "for el in  test_cols:\n",
    "    b = el.split('.')\n",
    "    if 'rougher' in b:\n",
    "        rougher_cols.append(el)"
   ]
  },
  {
   "cell_type": "markdown",
   "metadata": {},
   "source": [
    "### Comments\n",
    "\n",
    "In the test sample, 35 features related to all stages of the technological process turned out to be inaccessible. Most of the missing features relate to the parameters of the product, and some of the calculated characteristics at the flotation stage are also missing: target features, features associated with the concentration calculation. Presumably, the features present in the test set are necessary for training the model to predict the efficiency of the enrichment of the final concentrate. For another target trait from the same list, only related to rougher."
   ]
  },
  {
   "cell_type": "code",
   "execution_count": 20,
   "metadata": {},
   "outputs": [],
   "source": [
    "df_full['date'] = pd.to_datetime(df_full['date'], format='%Y-%m-%d %H:%M:%S')\n",
    "df_train['date'] = pd.to_datetime(df_train['date'], format='%Y-%m-%d %H:%M:%S')\n",
    "df_test['date'] = pd.to_datetime(df_test['date'], format='%Y-%m-%d %H:%M:%S')"
   ]
  },
  {
   "cell_type": "code",
   "execution_count": 21,
   "metadata": {},
   "outputs": [],
   "source": [
    "df_full = df_full.fillna(method=\"ffill\")\n",
    "df_train = df_train.fillna(method=\"ffill\")\n",
    "df_test = df_test.fillna(method=\"ffill\")"
   ]
  },
  {
   "cell_type": "code",
   "execution_count": 22,
   "metadata": {},
   "outputs": [
    {
     "data": {
      "text/plain": [
       "(5290, 87)"
      ]
     },
     "metadata": {},
     "output_type": "display_data"
    }
   ],
   "source": [
    "df_test_1 = pd.merge(df_test,df_full, how='inner')\n",
    "display(df_test_1.shape)"
   ]
  },
  {
   "cell_type": "markdown",
   "metadata": {},
   "source": [
    "### Comments\n",
    "\n",
    "In the process of data preprocessing, the data type of the 'date' attribute was converted from object to datetime in all samples. After that, gaps were filled in relative to the previous value in time in all samples."
   ]
  },
  {
   "cell_type": "markdown",
   "metadata": {},
   "source": [
    "## Data analysis"
   ]
  },
  {
   "cell_type": "code",
   "execution_count": 23,
   "metadata": {},
   "outputs": [],
   "source": [
    "def plot_conc(data1, data2):\n",
    "    mycolors = ['tab:red', 'tab:blue', 'tab:green', 'tab:orange']\n",
    "    column = data2.columns\n",
    "    x = data1\n",
    "    y1 = data2[column[0]]\n",
    "    y2 = data2[column[1]]\n",
    "    y3 = data2[column[2]]\n",
    "    name_t = ('Concentrate',column[0].split('_')[1].upper())\n",
    "    name_t_1 = ' '.join(map(str, name_t))\n",
    "    y1.hist(bins=50 ,figsize = (10,7), alpha = 0.6, grid = True)\n",
    "    y2.hist(bins=50, alpha = 0.6)\n",
    "    y3.hist(bins=50, alpha = 0.6)\n",
    "    plt.title(name_t_1, fontsize=16)\n",
    "    plt.xlabel('Concentrate, %')\n",
    "    plt.ylabel('Count')\n",
    "    plt.legend(column)\n",
    "    plt.show()\n",
    "    \n"
   ]
  },
  {
   "cell_type": "code",
   "execution_count": 24,
   "metadata": {},
   "outputs": [
    {
     "data": {
      "image/png": "[encoded data removed]",
      "text/plain": [
       "<Figure size 720x504 with 1 Axes>"
      ]
     },
     "metadata": {
      "needs_background": "light"
     },
     "output_type": "display_data"
    }
   ],
   "source": [
    "plot_conc(df_full['date'], df_full[['rougher.output.concentrate_au',\n",
    "                                    'primary_cleaner.output.concentrate_au','final.output.concentrate_au']]) \n",
    "          "
   ]
  },
  {
   "cell_type": "markdown",
   "metadata": {},
   "source": [
    "The histogram shows that the concentration of gold gradually increases at each subsequent processing stage: from 21% after flotation to 47% at the final stage. Zero values ​​of gold concentration are also observed, and at the flotation stage, such values are the most.\n",
    "Possible reasons for close to zero concentration values:\n",
    "- there was a low content of the desired metal in the ore;\n",
    "\n",
    "- measurement accuracy does not allow to determine the low content and therefore the values are considered zero;\n",
    "\n",
    "- there is an installation (process) error that leaves the metal in the tailings;\n",
    "- failures of measuring sensors or planned shutdown of measuring equipment for some reason (cleaning, replacement, etc.).\n"
   ]
  },
  {
   "cell_type": "code",
   "execution_count": 25,
   "metadata": {},
   "outputs": [
    {
     "data": {
      "image/png": "[encoded data removed]",
      "text/plain": [
       "<Figure size 720x504 with 1 Axes>"
      ]
     },
     "metadata": {
      "needs_background": "light"
     },
     "output_type": "display_data"
    }
   ],
   "source": [
    "plot_conc(df_full['date'], df_full[['rougher.output.concentrate_ag',\n",
    "                                    'primary_cleaner.output.concentrate_ag','final.output.concentrate_ag']])"
   ]
  },
  {
   "cell_type": "markdown",
   "metadata": {},
   "source": [
    "As for the silver concentration, it gradually decreases at each subsequent processing stage: from 12% after flotation to 5% at the final stage. Zero concentrations of silver are also observed, as well as gold.  \n"
   ]
  },
  {
   "cell_type": "code",
   "execution_count": 26,
   "metadata": {
    "scrolled": true
   },
   "outputs": [
    {
     "data": {
      "image/png": "[encoded data removed]",
      "text/plain": [
       "<Figure size 720x504 with 1 Axes>"
      ]
     },
     "metadata": {
      "needs_background": "light"
     },
     "output_type": "display_data"
    }
   ],
   "source": [
    "plot_conc(df_full['date'], df_full[['rougher.output.concentrate_pb',\n",
    "                                    'primary_cleaner.output.concentrate_pb','final.output.concentrate_pb']])"
   ]
  },
  {
   "cell_type": "markdown",
   "metadata": {},
   "source": [
    "The concentration of tin increases after the primary treatment compared to the flotation stage, and this amount is maintained in the final stage with some small scatter in values.\n"
   ]
  },
  {
   "cell_type": "markdown",
   "metadata": {},
   "source": [
    "### Comments\n",
    "\n",
    "From the presented graphs, it can be seen that:\n",
    " - the concentration of gold gradually increases by about 2 times: from 21% after flotation to 47% at the final stage;\n",
    " - silver concentration gradually decreases from 12% after flotation to 5% at the final stage;\n",
    " - the concentration of tin increases slightly after the first cleaning and remains after the second cleaning: from 8% after flotation to 11% at the final stage. It can also be noted that over time, the tin recovery began to improve, since after the first stonecrop the concentration increased compared to the flotation stage, but this was not observed in the earlier observation period.\n",
    " \n",
    " Zero values of metal concentration are also observed, for example, at the flotation stage there are more such values ​​than at other stages."
   ]
  },
  {
   "cell_type": "code",
   "execution_count": 27,
   "metadata": {},
   "outputs": [
    {
     "data": {
      "image/png": "[encoded data removed]",
      "text/plain": [
       "<Figure size 576x360 with 1 Axes>"
      ]
     },
     "metadata": {
      "needs_background": "light"
     },
     "output_type": "display_data"
    }
   ],
   "source": [
    "df_train['rougher.input.feed_size'].hist(bins = 100, figsize = (8,5), grid = True)\n",
    "df_test_1['rougher.input.feed_size'].hist(bins = 60)\n",
    "plt.title('Distribution of feed size for train and test samples', fontsize=14)\n",
    "plt.xlabel('Feed Size')\n",
    "plt.ylabel('Count')\n",
    "plt.legend(['df_train','df_test'])\n",
    "plt.show()"
   ]
  },
  {
   "cell_type": "code",
   "execution_count": 28,
   "metadata": {},
   "outputs": [
    {
     "data": {
      "text/plain": [
       "median    50.846843\n",
       "mean      55.952754\n",
       "Name: rougher.input.feed_size, dtype: float64"
      ]
     },
     "execution_count": 28,
     "metadata": {},
     "output_type": "execute_result"
    }
   ],
   "source": [
    "df_test_1['rougher.input.feed_size'].apply(['median','mean'])"
   ]
  },
  {
   "cell_type": "code",
   "execution_count": 29,
   "metadata": {},
   "outputs": [
    {
     "data": {
      "text/plain": [
       "median    55.269784\n",
       "mean      60.239856\n",
       "Name: rougher.input.feed_size, dtype: float64"
      ]
     },
     "execution_count": 29,
     "metadata": {},
     "output_type": "execute_result"
    }
   ],
   "source": [
    "df_train['rougher.input.feed_size'].apply(['median','mean'])"
   ]
  },
  {
   "cell_type": "markdown",
   "metadata": {},
   "source": [
    "### Comments\n",
    "\n",
    "Calculations of the average value and median value of the raw material granule size in the training and test samples differ by no more than 10%."
   ]
  },
  {
   "cell_type": "code",
   "execution_count": 30,
   "metadata": {},
   "outputs": [],
   "source": [
    "name_1 =['final.output.concentrate_ag','final.output.concentrate_pb',\n",
    "         'final.output.concentrate_sol','final.output.concentrate_au'] \n",
    "name_2 =['rougher.output.concentrate_ag','rougher.output.concentrate_pb',\n",
    "         'rougher.output.concentrate_sol','rougher.output.concentrate_au']\n",
    "name_3 =['rougher.input.feed_ag','rougher.input.feed_pb',\n",
    "         'rougher.input.feed_sol','rougher.input.feed_au']"
   ]
  },
  {
   "cell_type": "code",
   "execution_count": 31,
   "metadata": {},
   "outputs": [],
   "source": [
    "df_train['total_concentrate_final'] = df_train[name_1].sum(axis=1)\n",
    "df_train['total_concentrate_feed'] = df_train[name_3].sum(axis=1)\n",
    "df_train['total_concentrate_rougher'] = df_train[name_2].sum(axis=1)\n",
    "df_test_1['total_concentrate_final'] = df_test_1[name_1].sum(axis=1)\n",
    "df_test_1['total_concentrate_feed'] = df_test_1[name_3].sum(axis=1)\n",
    "df_test_1['total_concentrate_rougher'] = df_test_1[name_2].sum(axis=1)"
   ]
  },
  {
   "cell_type": "code",
   "execution_count": 32,
   "metadata": {},
   "outputs": [
    {
     "data": {
      "image/png": "[encoded data removed]",
      "text/plain": [
       "<Figure size 576x360 with 1 Axes>"
      ]
     },
     "metadata": {
      "needs_background": "light"
     },
     "output_type": "display_data"
    }
   ],
   "source": [
    "df_train['total_concentrate_final'].hist(bins = 100, figsize = (8,5), grid = True, alpha = 0.6)\n",
    "df_train['total_concentrate_feed'].hist(bins = 100, alpha = 0.6)\n",
    "df_train['total_concentrate_rougher'].hist(bins = 100, alpha = 0.6)\n",
    "plt.title('Total concentration', fontsize=16)\n",
    "plt.xlabel('Concentrate, %')\n",
    "plt.ylabel('Count')\n",
    "plt.legend(['total_concentrate_final','total_concentrate_feed','total_concentrate_rougher'])\n",
    "plt.show()"
   ]
  },
  {
   "cell_type": "markdown",
   "metadata": {},
   "source": [
    "On the distribution graph of the final concentration, one can observe zero values, and there are no such values for raw materials. The maximum value is observed for the crude concentrate. Therefore, it can be concluded that the detected values are anomalous."
   ]
  },
  {
   "cell_type": "code",
   "execution_count": 33,
   "metadata": {},
   "outputs": [
    {
     "data": {
      "text/html": [
       "<div>\n",
       "<style scoped>\n",
       "    .dataframe tbody tr th:only-of-type {\n",
       "        vertical-align: middle;\n",
       "    }\n",
       "\n",
       "    .dataframe tbody tr th {\n",
       "        vertical-align: top;\n",
       "    }\n",
       "\n",
       "    .dataframe thead th {\n",
       "        text-align: right;\n",
       "    }\n",
       "</style>\n",
       "<table border=\"1\" class=\"dataframe\">\n",
       "  <thead>\n",
       "    <tr style=\"text-align: right;\">\n",
       "      <th></th>\n",
       "      <th>total_concentrate_final</th>\n",
       "      <th>total_concentrate_feed</th>\n",
       "      <th>total_concentrate_rougher</th>\n",
       "    </tr>\n",
       "  </thead>\n",
       "  <tbody>\n",
       "    <tr>\n",
       "      <td>count</td>\n",
       "      <td>5290.000000</td>\n",
       "      <td>5290.000000</td>\n",
       "      <td>5290.000000</td>\n",
       "    </tr>\n",
       "    <tr>\n",
       "      <td>mean</td>\n",
       "      <td>69.364422</td>\n",
       "      <td>60.205741</td>\n",
       "      <td>70.839436</td>\n",
       "    </tr>\n",
       "    <tr>\n",
       "      <td>std</td>\n",
       "      <td>8.372254</td>\n",
       "      <td>6.896581</td>\n",
       "      <td>11.459427</td>\n",
       "    </tr>\n",
       "    <tr>\n",
       "      <td>min</td>\n",
       "      <td>0.000000</td>\n",
       "      <td>4.501868</td>\n",
       "      <td>0.000000</td>\n",
       "    </tr>\n",
       "    <tr>\n",
       "      <td>25%</td>\n",
       "      <td>69.342800</td>\n",
       "      <td>56.458730</td>\n",
       "      <td>69.237656</td>\n",
       "    </tr>\n",
       "    <tr>\n",
       "      <td>50%</td>\n",
       "      <td>70.688587</td>\n",
       "      <td>59.999831</td>\n",
       "      <td>72.691886</td>\n",
       "    </tr>\n",
       "    <tr>\n",
       "      <td>75%</td>\n",
       "      <td>72.073175</td>\n",
       "      <td>65.099348</td>\n",
       "      <td>75.826641</td>\n",
       "    </tr>\n",
       "    <tr>\n",
       "      <td>max</td>\n",
       "      <td>79.977670</td>\n",
       "      <td>76.978947</td>\n",
       "      <td>86.393020</td>\n",
       "    </tr>\n",
       "  </tbody>\n",
       "</table>\n",
       "</div>"
      ],
      "text/plain": [
       "       total_concentrate_final  total_concentrate_feed  \\\n",
       "count              5290.000000             5290.000000   \n",
       "mean                 69.364422               60.205741   \n",
       "std                   8.372254                6.896581   \n",
       "min                   0.000000                4.501868   \n",
       "25%                  69.342800               56.458730   \n",
       "50%                  70.688587               59.999831   \n",
       "75%                  72.073175               65.099348   \n",
       "max                  79.977670               76.978947   \n",
       "\n",
       "       total_concentrate_rougher  \n",
       "count                5290.000000  \n",
       "mean                   70.839436  \n",
       "std                    11.459427  \n",
       "min                     0.000000  \n",
       "25%                    69.237656  \n",
       "50%                    72.691886  \n",
       "75%                    75.826641  \n",
       "max                    86.393020  "
      ]
     },
     "execution_count": 33,
     "metadata": {},
     "output_type": "execute_result"
    }
   ],
   "source": [
    "df_test_1[['total_concentrate_final','total_concentrate_feed','total_concentrate_rougher']].describe()"
   ]
  },
  {
   "cell_type": "code",
   "execution_count": 34,
   "metadata": {},
   "outputs": [
    {
     "data": {
      "text/html": [
       "<div>\n",
       "<style scoped>\n",
       "    .dataframe tbody tr th:only-of-type {\n",
       "        vertical-align: middle;\n",
       "    }\n",
       "\n",
       "    .dataframe tbody tr th {\n",
       "        vertical-align: top;\n",
       "    }\n",
       "\n",
       "    .dataframe thead th {\n",
       "        text-align: right;\n",
       "    }\n",
       "</style>\n",
       "<table border=\"1\" class=\"dataframe\">\n",
       "  <thead>\n",
       "    <tr style=\"text-align: right;\">\n",
       "      <th></th>\n",
       "      <th>total_concentrate_final</th>\n",
       "      <th>total_concentrate_feed</th>\n",
       "      <th>total_concentrate_rougher</th>\n",
       "    </tr>\n",
       "  </thead>\n",
       "  <tbody>\n",
       "    <tr>\n",
       "      <td>count</td>\n",
       "      <td>14149.000000</td>\n",
       "      <td>14149.000000</td>\n",
       "      <td>14149.000000</td>\n",
       "    </tr>\n",
       "    <tr>\n",
       "      <td>mean</td>\n",
       "      <td>68.387872</td>\n",
       "      <td>56.242170</td>\n",
       "      <td>67.173145</td>\n",
       "    </tr>\n",
       "    <tr>\n",
       "      <td>std</td>\n",
       "      <td>7.023723</td>\n",
       "      <td>7.029808</td>\n",
       "      <td>12.713129</td>\n",
       "    </tr>\n",
       "    <tr>\n",
       "      <td>min</td>\n",
       "      <td>0.000000</td>\n",
       "      <td>0.040000</td>\n",
       "      <td>0.000000</td>\n",
       "    </tr>\n",
       "    <tr>\n",
       "      <td>25%</td>\n",
       "      <td>67.559819</td>\n",
       "      <td>52.573579</td>\n",
       "      <td>64.914390</td>\n",
       "    </tr>\n",
       "    <tr>\n",
       "      <td>50%</td>\n",
       "      <td>69.141502</td>\n",
       "      <td>56.627635</td>\n",
       "      <td>69.175663</td>\n",
       "    </tr>\n",
       "    <tr>\n",
       "      <td>75%</td>\n",
       "      <td>70.974661</td>\n",
       "      <td>60.763234</td>\n",
       "      <td>73.429261</td>\n",
       "    </tr>\n",
       "    <tr>\n",
       "      <td>max</td>\n",
       "      <td>80.210644</td>\n",
       "      <td>74.458253</td>\n",
       "      <td>88.140119</td>\n",
       "    </tr>\n",
       "  </tbody>\n",
       "</table>\n",
       "</div>"
      ],
      "text/plain": [
       "       total_concentrate_final  total_concentrate_feed  \\\n",
       "count             14149.000000            14149.000000   \n",
       "mean                 68.387872               56.242170   \n",
       "std                   7.023723                7.029808   \n",
       "min                   0.000000                0.040000   \n",
       "25%                  67.559819               52.573579   \n",
       "50%                  69.141502               56.627635   \n",
       "75%                  70.974661               60.763234   \n",
       "max                  80.210644               74.458253   \n",
       "\n",
       "       total_concentrate_rougher  \n",
       "count               14149.000000  \n",
       "mean                   67.173145  \n",
       "std                    12.713129  \n",
       "min                     0.000000  \n",
       "25%                    64.914390  \n",
       "50%                    69.175663  \n",
       "75%                    73.429261  \n",
       "max                    88.140119  "
      ]
     },
     "execution_count": 34,
     "metadata": {},
     "output_type": "execute_result"
    }
   ],
   "source": [
    "df_train[['total_concentrate_final','total_concentrate_feed','total_concentrate_rougher']].describe()"
   ]
  },
  {
   "cell_type": "code",
   "execution_count": 35,
   "metadata": {},
   "outputs": [
    {
     "data": {
      "text/html": [
       "<div>\n",
       "<style scoped>\n",
       "    .dataframe tbody tr th:only-of-type {\n",
       "        vertical-align: middle;\n",
       "    }\n",
       "\n",
       "    .dataframe tbody tr th {\n",
       "        vertical-align: top;\n",
       "    }\n",
       "\n",
       "    .dataframe thead th {\n",
       "        text-align: right;\n",
       "    }\n",
       "</style>\n",
       "<table border=\"1\" class=\"dataframe\">\n",
       "  <thead>\n",
       "    <tr style=\"text-align: right;\">\n",
       "      <th></th>\n",
       "      <th>date</th>\n",
       "      <th>primary_cleaner.input.sulfate</th>\n",
       "      <th>primary_cleaner.input.depressant</th>\n",
       "      <th>primary_cleaner.input.feed_size</th>\n",
       "      <th>primary_cleaner.input.xanthate</th>\n",
       "      <th>primary_cleaner.state.floatbank8_a_air</th>\n",
       "      <th>primary_cleaner.state.floatbank8_a_level</th>\n",
       "      <th>primary_cleaner.state.floatbank8_b_air</th>\n",
       "      <th>primary_cleaner.state.floatbank8_b_level</th>\n",
       "      <th>primary_cleaner.state.floatbank8_c_air</th>\n",
       "      <th>...</th>\n",
       "      <th>rougher.output.tail_pb</th>\n",
       "      <th>rougher.output.tail_sol</th>\n",
       "      <th>rougher.output.tail_au</th>\n",
       "      <th>secondary_cleaner.output.tail_ag</th>\n",
       "      <th>secondary_cleaner.output.tail_pb</th>\n",
       "      <th>secondary_cleaner.output.tail_sol</th>\n",
       "      <th>secondary_cleaner.output.tail_au</th>\n",
       "      <th>total_concentrate_final</th>\n",
       "      <th>total_concentrate_feed</th>\n",
       "      <th>total_concentrate_rougher</th>\n",
       "    </tr>\n",
       "  </thead>\n",
       "  <tbody>\n",
       "    <tr>\n",
       "      <td>30</td>\n",
       "      <td>2016-09-02 06:59:59</td>\n",
       "      <td>126.329123</td>\n",
       "      <td>8.003034</td>\n",
       "      <td>7.160</td>\n",
       "      <td>0.699695</td>\n",
       "      <td>412.629243</td>\n",
       "      <td>-795.316337</td>\n",
       "      <td>413.703253</td>\n",
       "      <td>-787.396567</td>\n",
       "      <td>441.604260</td>\n",
       "      <td>...</td>\n",
       "      <td>0.165631</td>\n",
       "      <td>15.577148</td>\n",
       "      <td>3.107993</td>\n",
       "      <td>12.870691</td>\n",
       "      <td>5.463488</td>\n",
       "      <td>6.333927</td>\n",
       "      <td>5.552634</td>\n",
       "      <td>0.000000</td>\n",
       "      <td>4.501868</td>\n",
       "      <td>0.0</td>\n",
       "    </tr>\n",
       "    <tr>\n",
       "      <td>85</td>\n",
       "      <td>2016-09-04 17:59:59</td>\n",
       "      <td>141.260562</td>\n",
       "      <td>8.041141</td>\n",
       "      <td>7.940</td>\n",
       "      <td>0.593102</td>\n",
       "      <td>1302.984840</td>\n",
       "      <td>-499.988453</td>\n",
       "      <td>1297.834274</td>\n",
       "      <td>-500.210380</td>\n",
       "      <td>1295.561077</td>\n",
       "      <td>...</td>\n",
       "      <td>1.043818</td>\n",
       "      <td>18.038498</td>\n",
       "      <td>2.933052</td>\n",
       "      <td>12.891285</td>\n",
       "      <td>5.392984</td>\n",
       "      <td>9.401645</td>\n",
       "      <td>6.025343</td>\n",
       "      <td>70.867621</td>\n",
       "      <td>57.057235</td>\n",
       "      <td>0.0</td>\n",
       "    </tr>\n",
       "    <tr>\n",
       "      <td>86</td>\n",
       "      <td>2016-09-04 18:59:59</td>\n",
       "      <td>135.403245</td>\n",
       "      <td>8.109890</td>\n",
       "      <td>8.235</td>\n",
       "      <td>0.598479</td>\n",
       "      <td>1302.737427</td>\n",
       "      <td>-500.201316</td>\n",
       "      <td>1297.553194</td>\n",
       "      <td>-499.405170</td>\n",
       "      <td>1295.736073</td>\n",
       "      <td>...</td>\n",
       "      <td>0.944632</td>\n",
       "      <td>17.302978</td>\n",
       "      <td>2.706709</td>\n",
       "      <td>12.812069</td>\n",
       "      <td>5.285657</td>\n",
       "      <td>9.454770</td>\n",
       "      <td>6.057976</td>\n",
       "      <td>70.789293</td>\n",
       "      <td>49.714754</td>\n",
       "      <td>0.0</td>\n",
       "    </tr>\n",
       "    <tr>\n",
       "      <td>87</td>\n",
       "      <td>2016-09-04 19:59:59</td>\n",
       "      <td>134.214024</td>\n",
       "      <td>8.002202</td>\n",
       "      <td>8.530</td>\n",
       "      <td>0.625177</td>\n",
       "      <td>1303.125981</td>\n",
       "      <td>-499.867508</td>\n",
       "      <td>1297.296122</td>\n",
       "      <td>-500.401509</td>\n",
       "      <td>1296.123016</td>\n",
       "      <td>...</td>\n",
       "      <td>1.042972</td>\n",
       "      <td>16.871936</td>\n",
       "      <td>2.869191</td>\n",
       "      <td>12.730654</td>\n",
       "      <td>5.460283</td>\n",
       "      <td>9.089512</td>\n",
       "      <td>6.251781</td>\n",
       "      <td>70.650976</td>\n",
       "      <td>54.782762</td>\n",
       "      <td>0.0</td>\n",
       "    </tr>\n",
       "    <tr>\n",
       "      <td>88</td>\n",
       "      <td>2016-09-04 20:59:59</td>\n",
       "      <td>131.144955</td>\n",
       "      <td>8.052567</td>\n",
       "      <td>8.290</td>\n",
       "      <td>0.561138</td>\n",
       "      <td>1303.050322</td>\n",
       "      <td>-499.840711</td>\n",
       "      <td>1297.350695</td>\n",
       "      <td>-499.390859</td>\n",
       "      <td>1296.558438</td>\n",
       "      <td>...</td>\n",
       "      <td>0.942410</td>\n",
       "      <td>16.710651</td>\n",
       "      <td>2.581245</td>\n",
       "      <td>12.170171</td>\n",
       "      <td>5.541685</td>\n",
       "      <td>8.977682</td>\n",
       "      <td>6.349513</td>\n",
       "      <td>70.389223</td>\n",
       "      <td>55.174003</td>\n",
       "      <td>0.0</td>\n",
       "    </tr>\n",
       "  </tbody>\n",
       "</table>\n",
       "<p>5 rows × 90 columns</p>\n",
       "</div>"
      ],
      "text/plain": [
       "                  date  primary_cleaner.input.sulfate  \\\n",
       "30 2016-09-02 06:59:59                     126.329123   \n",
       "85 2016-09-04 17:59:59                     141.260562   \n",
       "86 2016-09-04 18:59:59                     135.403245   \n",
       "87 2016-09-04 19:59:59                     134.214024   \n",
       "88 2016-09-04 20:59:59                     131.144955   \n",
       "\n",
       "    primary_cleaner.input.depressant  primary_cleaner.input.feed_size  \\\n",
       "30                          8.003034                            7.160   \n",
       "85                          8.041141                            7.940   \n",
       "86                          8.109890                            8.235   \n",
       "87                          8.002202                            8.530   \n",
       "88                          8.052567                            8.290   \n",
       "\n",
       "    primary_cleaner.input.xanthate  primary_cleaner.state.floatbank8_a_air  \\\n",
       "30                        0.699695                              412.629243   \n",
       "85                        0.593102                             1302.984840   \n",
       "86                        0.598479                             1302.737427   \n",
       "87                        0.625177                             1303.125981   \n",
       "88                        0.561138                             1303.050322   \n",
       "\n",
       "    primary_cleaner.state.floatbank8_a_level  \\\n",
       "30                               -795.316337   \n",
       "85                               -499.988453   \n",
       "86                               -500.201316   \n",
       "87                               -499.867508   \n",
       "88                               -499.840711   \n",
       "\n",
       "    primary_cleaner.state.floatbank8_b_air  \\\n",
       "30                              413.703253   \n",
       "85                             1297.834274   \n",
       "86                             1297.553194   \n",
       "87                             1297.296122   \n",
       "88                             1297.350695   \n",
       "\n",
       "    primary_cleaner.state.floatbank8_b_level  \\\n",
       "30                               -787.396567   \n",
       "85                               -500.210380   \n",
       "86                               -499.405170   \n",
       "87                               -500.401509   \n",
       "88                               -499.390859   \n",
       "\n",
       "    primary_cleaner.state.floatbank8_c_air  ...  rougher.output.tail_pb  \\\n",
       "30                              441.604260  ...                0.165631   \n",
       "85                             1295.561077  ...                1.043818   \n",
       "86                             1295.736073  ...                0.944632   \n",
       "87                             1296.123016  ...                1.042972   \n",
       "88                             1296.558438  ...                0.942410   \n",
       "\n",
       "    rougher.output.tail_sol  rougher.output.tail_au  \\\n",
       "30                15.577148                3.107993   \n",
       "85                18.038498                2.933052   \n",
       "86                17.302978                2.706709   \n",
       "87                16.871936                2.869191   \n",
       "88                16.710651                2.581245   \n",
       "\n",
       "    secondary_cleaner.output.tail_ag  secondary_cleaner.output.tail_pb  \\\n",
       "30                         12.870691                          5.463488   \n",
       "85                         12.891285                          5.392984   \n",
       "86                         12.812069                          5.285657   \n",
       "87                         12.730654                          5.460283   \n",
       "88                         12.170171                          5.541685   \n",
       "\n",
       "    secondary_cleaner.output.tail_sol  secondary_cleaner.output.tail_au  \\\n",
       "30                           6.333927                          5.552634   \n",
       "85                           9.401645                          6.025343   \n",
       "86                           9.454770                          6.057976   \n",
       "87                           9.089512                          6.251781   \n",
       "88                           8.977682                          6.349513   \n",
       "\n",
       "    total_concentrate_final  total_concentrate_feed  total_concentrate_rougher  \n",
       "30                 0.000000                4.501868                        0.0  \n",
       "85                70.867621               57.057235                        0.0  \n",
       "86                70.789293               49.714754                        0.0  \n",
       "87                70.650976               54.782762                        0.0  \n",
       "88                70.389223               55.174003                        0.0  \n",
       "\n",
       "[5 rows x 90 columns]"
      ]
     },
     "execution_count": 35,
     "metadata": {},
     "output_type": "execute_result"
    }
   ],
   "source": [
    "df_test_1[df_test_1['total_concentrate_rougher'] == 0.0].head()"
   ]
  },
  {
   "cell_type": "code",
   "execution_count": 36,
   "metadata": {},
   "outputs": [
    {
     "data": {
      "text/plain": [
       "0.02099088274789738"
      ]
     },
     "metadata": {},
     "output_type": "display_data"
    },
    {
     "data": {
      "text/plain": [
       "0.0"
      ]
     },
     "metadata": {},
     "output_type": "display_data"
    },
    {
     "data": {
      "text/plain": [
       "0.004099229627535515"
      ]
     },
     "metadata": {},
     "output_type": "display_data"
    }
   ],
   "source": [
    "display((df_train['total_concentrate_rougher'] == 0.0).mean())\n",
    "display((df_train['total_concentrate_feed'] == 0.0).mean())\n",
    "display((df_train['total_concentrate_final'] == 0.0).mean())"
   ]
  },
  {
   "cell_type": "code",
   "execution_count": 37,
   "metadata": {},
   "outputs": [
    {
     "data": {
      "text/plain": [
       "0.01833648393194707"
      ]
     },
     "metadata": {},
     "output_type": "display_data"
    },
    {
     "data": {
      "text/plain": [
       "0.0"
      ]
     },
     "metadata": {},
     "output_type": "display_data"
    },
    {
     "data": {
      "text/plain": [
       "0.007561436672967864"
      ]
     },
     "metadata": {},
     "output_type": "display_data"
    }
   ],
   "source": [
    "display((df_test_1['total_concentrate_rougher'] == 0.0).mean())\n",
    "display((df_test_1['total_concentrate_feed'] == 0.0).mean())\n",
    "display((df_test_1['total_concentrate_final'] == 0.0).mean())"
   ]
  },
  {
   "cell_type": "code",
   "execution_count": 38,
   "metadata": {},
   "outputs": [],
   "source": [
    "df_train_new = df_train[(df_train['total_concentrate_rougher'] > 0.5)  & (df_train['total_concentrate_final'] > 0.5)].copy()\n",
    "df_test_new = df_test_1[(df_test_1['total_concentrate_rougher'] > 0.5)  & (df_test_1['total_concentrate_final'] > 0.5)].copy()"
   ]
  },
  {
   "cell_type": "code",
   "execution_count": 39,
   "metadata": {},
   "outputs": [
    {
     "data": {
      "text/plain": [
       "(13789, 90)"
      ]
     },
     "execution_count": 39,
     "metadata": {},
     "output_type": "execute_result"
    }
   ],
   "source": [
    "df_train_new.shape"
   ]
  },
  {
   "cell_type": "code",
   "execution_count": 40,
   "metadata": {},
   "outputs": [
    {
     "data": {
      "text/plain": [
       "(5154, 90)"
      ]
     },
     "execution_count": 40,
     "metadata": {},
     "output_type": "execute_result"
    }
   ],
   "source": [
    "df_test_new.shape"
   ]
  },
  {
   "cell_type": "markdown",
   "metadata": {},
   "source": [
    "### Comments\n",
    "\n",
    "When studying the total concentration of all substances at different stages (in raw materials, in roughing and final concentrates), zero values of metal concentrations were found. These anomalies are observed both in the training sample and in the test sample and make up no more than 3% of the entire sample. Therefore, all objects with anomalous values of the total concentration were removed."
   ]
  },
  {
   "cell_type": "markdown",
   "metadata": {},
   "source": [
    "## Model"
   ]
  },
  {
   "cell_type": "code",
   "execution_count": 41,
   "metadata": {},
   "outputs": [],
   "source": [
    "def features_target_final(data):\n",
    "    features_0 = data[test_cols]\n",
    "    features_1 = features_0.drop(['date'] , axis=1)\n",
    "    target_2 = data['final.output.recovery'] \n",
    "    return features_1, target_2"
   ]
  },
  {
   "cell_type": "code",
   "execution_count": 42,
   "metadata": {},
   "outputs": [],
   "source": [
    "def features_target_rougher(data):\n",
    "    features_0 = data[rougher_cols]\n",
    "    target_1 = data['rougher.output.recovery'] \n",
    "    return features_0, target_1"
   ]
  },
  {
   "cell_type": "code",
   "execution_count": 43,
   "metadata": {},
   "outputs": [],
   "source": [
    "def scal(data_1, data_2):\n",
    "    scaler = StandardScaler()\n",
    "    scaler.fit(data_1[data_2.columns])\n",
    "    pd.options.mode.chained_assignment = None\n",
    "    data_1[data_2.columns] = scaler.transform(data_1[data_2.columns])\n",
    "    data_2[data_2.columns] = scaler.transform(data_2[data_2.columns])\n",
    "    return data_1, data_2"
   ]
  },
  {
   "cell_type": "code",
   "execution_count": 44,
   "metadata": {},
   "outputs": [],
   "source": [
    "features_train_r, target_train_r = features_target_rougher(df_train_new)\n",
    "features_train_f, target_train_f = features_target_final(df_train_new)"
   ]
  },
  {
   "cell_type": "code",
   "execution_count": 45,
   "metadata": {},
   "outputs": [],
   "source": [
    "features_test_r, target_test_r = features_target_rougher(df_test_new)\n",
    "features_test_f, target_test_f = features_target_final(df_test_new)"
   ]
  },
  {
   "cell_type": "code",
   "execution_count": 46,
   "metadata": {},
   "outputs": [],
   "source": [
    "features_train_r_s, features_test_r_s = scal(features_train_r, features_test_r)\n",
    "features_train_f_s, features_test_f_s = scal(features_train_f, features_test_f)"
   ]
  },
  {
   "cell_type": "code",
   "execution_count": 47,
   "metadata": {},
   "outputs": [],
   "source": [
    "def smape(target, prediction):\n",
    "    smape_0 = sum(abs(target - prediction)  / ((abs(target) + abs(prediction)) / 2) ) * 100 / len(target)\n",
    "    return smape_0"
   ]
  },
  {
   "cell_type": "code",
   "execution_count": 48,
   "metadata": {},
   "outputs": [],
   "source": [
    "def final_smape(df_t_r, df_p_r, df_t_f, df_p_f):\n",
    "    smape_r = smape(df_t_r, df_p_r)\n",
    "    smape_f = smape(df_t_f, df_p_f)\n",
    "    smape_res = .25 * smape_r + .75 * smape_f\n",
    "    return smape_res"
   ]
  },
  {
   "cell_type": "code",
   "execution_count": 49,
   "metadata": {},
   "outputs": [],
   "source": [
    "my_score = make_scorer(smape, greater_is_better=True)"
   ]
  },
  {
   "cell_type": "code",
   "execution_count": 50,
   "metadata": {},
   "outputs": [],
   "source": [
    "def models(features, target, model_name, parameter):\n",
    "    start_time = datetime.now()\n",
    "    model = GridSearchCV(model_name, parameter, refit=True, scoring = my_score, cv=5)\n",
    "    best_model = model.fit(features,target)\n",
    "    prediction = best_model.predict(features)\n",
    "    end_time = datetime.now()\n",
    "    time = end_time - start_time\n",
    "    print(best_model.best_params_)\n",
    "    return best_model, prediction, best_model.best_params_, time"
   ]
  },
  {
   "cell_type": "code",
   "execution_count": 51,
   "metadata": {},
   "outputs": [],
   "source": [
    "lr_r =  LinearRegression()\n",
    "lr_f =  LinearRegression()\n",
    "parameters = {'normalize':[True,False]}"
   ]
  },
  {
   "cell_type": "code",
   "execution_count": 52,
   "metadata": {},
   "outputs": [
    {
     "data": {
      "text/html": [
       "<div>\n",
       "<style scoped>\n",
       "    .dataframe tbody tr th:only-of-type {\n",
       "        vertical-align: middle;\n",
       "    }\n",
       "\n",
       "    .dataframe tbody tr th {\n",
       "        vertical-align: top;\n",
       "    }\n",
       "\n",
       "    .dataframe thead th {\n",
       "        text-align: right;\n",
       "    }\n",
       "</style>\n",
       "<table border=\"1\" class=\"dataframe\">\n",
       "  <thead>\n",
       "    <tr style=\"text-align: right;\">\n",
       "      <th></th>\n",
       "      <th>rougher.input.feed_ag</th>\n",
       "      <th>rougher.input.feed_pb</th>\n",
       "      <th>rougher.input.feed_rate</th>\n",
       "      <th>rougher.input.feed_size</th>\n",
       "      <th>rougher.input.feed_sol</th>\n",
       "      <th>rougher.input.feed_au</th>\n",
       "      <th>rougher.input.floatbank10_sulfate</th>\n",
       "      <th>rougher.input.floatbank10_xanthate</th>\n",
       "      <th>rougher.input.floatbank11_sulfate</th>\n",
       "      <th>rougher.input.floatbank11_xanthate</th>\n",
       "      <th>...</th>\n",
       "      <th>rougher.state.floatbank10_b_air</th>\n",
       "      <th>rougher.state.floatbank10_b_level</th>\n",
       "      <th>rougher.state.floatbank10_c_air</th>\n",
       "      <th>rougher.state.floatbank10_c_level</th>\n",
       "      <th>rougher.state.floatbank10_d_air</th>\n",
       "      <th>rougher.state.floatbank10_d_level</th>\n",
       "      <th>rougher.state.floatbank10_e_air</th>\n",
       "      <th>rougher.state.floatbank10_e_level</th>\n",
       "      <th>rougher.state.floatbank10_f_air</th>\n",
       "      <th>rougher.state.floatbank10_f_level</th>\n",
       "    </tr>\n",
       "  </thead>\n",
       "  <tbody>\n",
       "    <tr>\n",
       "      <td>0</td>\n",
       "      <td>-1.312926</td>\n",
       "      <td>-1.117774</td>\n",
       "      <td>0.467649</td>\n",
       "      <td>-0.206471</td>\n",
       "      <td>0.100750</td>\n",
       "      <td>-0.716451</td>\n",
       "      <td>0.088026</td>\n",
       "      <td>0.122796</td>\n",
       "      <td>0.134448</td>\n",
       "      <td>0.146462</td>\n",
       "      <td>...</td>\n",
       "      <td>1.537291</td>\n",
       "      <td>0.512470</td>\n",
       "      <td>1.415459</td>\n",
       "      <td>0.406969</td>\n",
       "      <td>1.844453</td>\n",
       "      <td>0.252348</td>\n",
       "      <td>1.703906</td>\n",
       "      <td>0.164776</td>\n",
       "      <td>2.159650</td>\n",
       "      <td>0.222883</td>\n",
       "    </tr>\n",
       "    <tr>\n",
       "      <td>1</td>\n",
       "      <td>-1.280668</td>\n",
       "      <td>-1.135122</td>\n",
       "      <td>0.484518</td>\n",
       "      <td>-0.128847</td>\n",
       "      <td>-0.113934</td>\n",
       "      <td>-0.720407</td>\n",
       "      <td>0.083271</td>\n",
       "      <td>0.120769</td>\n",
       "      <td>0.177387</td>\n",
       "      <td>0.151971</td>\n",
       "      <td>...</td>\n",
       "      <td>1.524894</td>\n",
       "      <td>0.246803</td>\n",
       "      <td>1.406522</td>\n",
       "      <td>0.270362</td>\n",
       "      <td>1.852064</td>\n",
       "      <td>0.276434</td>\n",
       "      <td>1.675804</td>\n",
       "      <td>0.246001</td>\n",
       "      <td>2.064813</td>\n",
       "      <td>0.255069</td>\n",
       "    </tr>\n",
       "    <tr>\n",
       "      <td>2</td>\n",
       "      <td>-1.304387</td>\n",
       "      <td>-1.232901</td>\n",
       "      <td>0.530321</td>\n",
       "      <td>-0.118798</td>\n",
       "      <td>-0.069531</td>\n",
       "      <td>-0.781238</td>\n",
       "      <td>0.067673</td>\n",
       "      <td>0.295406</td>\n",
       "      <td>0.156955</td>\n",
       "      <td>0.308127</td>\n",
       "      <td>...</td>\n",
       "      <td>1.517109</td>\n",
       "      <td>0.245842</td>\n",
       "      <td>1.402718</td>\n",
       "      <td>0.268144</td>\n",
       "      <td>1.848818</td>\n",
       "      <td>0.276424</td>\n",
       "      <td>1.675557</td>\n",
       "      <td>0.262487</td>\n",
       "      <td>2.068217</td>\n",
       "      <td>0.247854</td>\n",
       "    </tr>\n",
       "    <tr>\n",
       "      <td>3</td>\n",
       "      <td>-1.343238</td>\n",
       "      <td>-1.344834</td>\n",
       "      <td>0.651827</td>\n",
       "      <td>-0.106579</td>\n",
       "      <td>0.111664</td>\n",
       "      <td>-0.908813</td>\n",
       "      <td>-0.021898</td>\n",
       "      <td>0.300692</td>\n",
       "      <td>0.095583</td>\n",
       "      <td>0.301577</td>\n",
       "      <td>...</td>\n",
       "      <td>1.521075</td>\n",
       "      <td>0.235183</td>\n",
       "      <td>1.404321</td>\n",
       "      <td>0.268932</td>\n",
       "      <td>1.838653</td>\n",
       "      <td>0.273263</td>\n",
       "      <td>1.684999</td>\n",
       "      <td>0.260850</td>\n",
       "      <td>2.067750</td>\n",
       "      <td>0.260870</td>\n",
       "    </tr>\n",
       "    <tr>\n",
       "      <td>4</td>\n",
       "      <td>-1.333886</td>\n",
       "      <td>-1.575409</td>\n",
       "      <td>0.631919</td>\n",
       "      <td>-0.182189</td>\n",
       "      <td>-0.399929</td>\n",
       "      <td>-1.146408</td>\n",
       "      <td>-0.229195</td>\n",
       "      <td>0.296727</td>\n",
       "      <td>-0.101560</td>\n",
       "      <td>0.300210</td>\n",
       "      <td>...</td>\n",
       "      <td>1.521896</td>\n",
       "      <td>0.252971</td>\n",
       "      <td>1.405947</td>\n",
       "      <td>0.266713</td>\n",
       "      <td>1.848386</td>\n",
       "      <td>0.277222</td>\n",
       "      <td>1.688309</td>\n",
       "      <td>0.281239</td>\n",
       "      <td>2.073026</td>\n",
       "      <td>0.249975</td>\n",
       "    </tr>\n",
       "    <tr>\n",
       "      <td>...</td>\n",
       "      <td>...</td>\n",
       "      <td>...</td>\n",
       "      <td>...</td>\n",
       "      <td>...</td>\n",
       "      <td>...</td>\n",
       "      <td>...</td>\n",
       "      <td>...</td>\n",
       "      <td>...</td>\n",
       "      <td>...</td>\n",
       "      <td>...</td>\n",
       "      <td>...</td>\n",
       "      <td>...</td>\n",
       "      <td>...</td>\n",
       "      <td>...</td>\n",
       "      <td>...</td>\n",
       "      <td>...</td>\n",
       "      <td>...</td>\n",
       "      <td>...</td>\n",
       "      <td>...</td>\n",
       "      <td>...</td>\n",
       "      <td>...</td>\n",
       "    </tr>\n",
       "    <tr>\n",
       "      <td>14144</td>\n",
       "      <td>-1.317453</td>\n",
       "      <td>1.025642</td>\n",
       "      <td>0.828796</td>\n",
       "      <td>1.103038</td>\n",
       "      <td>0.214922</td>\n",
       "      <td>-1.317799</td>\n",
       "      <td>-1.214283</td>\n",
       "      <td>2.994306</td>\n",
       "      <td>-0.961794</td>\n",
       "      <td>2.708072</td>\n",
       "      <td>...</td>\n",
       "      <td>-0.952321</td>\n",
       "      <td>-0.604611</td>\n",
       "      <td>-1.198732</td>\n",
       "      <td>-0.599887</td>\n",
       "      <td>-1.277030</td>\n",
       "      <td>-0.607558</td>\n",
       "      <td>-1.268687</td>\n",
       "      <td>-0.608922</td>\n",
       "      <td>-1.070476</td>\n",
       "      <td>-0.581628</td>\n",
       "    </tr>\n",
       "    <tr>\n",
       "      <td>14145</td>\n",
       "      <td>-1.301802</td>\n",
       "      <td>0.591408</td>\n",
       "      <td>0.810834</td>\n",
       "      <td>2.566284</td>\n",
       "      <td>0.463494</td>\n",
       "      <td>-1.577748</td>\n",
       "      <td>-1.339488</td>\n",
       "      <td>3.127685</td>\n",
       "      <td>-1.142590</td>\n",
       "      <td>2.823421</td>\n",
       "      <td>...</td>\n",
       "      <td>-0.964037</td>\n",
       "      <td>-0.636316</td>\n",
       "      <td>-1.195893</td>\n",
       "      <td>-0.645022</td>\n",
       "      <td>-1.262039</td>\n",
       "      <td>-0.623202</td>\n",
       "      <td>-1.274847</td>\n",
       "      <td>-0.627931</td>\n",
       "      <td>-1.069022</td>\n",
       "      <td>-0.570552</td>\n",
       "    </tr>\n",
       "    <tr>\n",
       "      <td>14146</td>\n",
       "      <td>-1.381901</td>\n",
       "      <td>0.476561</td>\n",
       "      <td>0.778446</td>\n",
       "      <td>2.685985</td>\n",
       "      <td>0.765105</td>\n",
       "      <td>-1.741670</td>\n",
       "      <td>-1.577102</td>\n",
       "      <td>3.122813</td>\n",
       "      <td>-1.280328</td>\n",
       "      <td>2.825218</td>\n",
       "      <td>...</td>\n",
       "      <td>-0.951580</td>\n",
       "      <td>-0.655661</td>\n",
       "      <td>-1.190996</td>\n",
       "      <td>-0.638148</td>\n",
       "      <td>-1.248022</td>\n",
       "      <td>-0.665052</td>\n",
       "      <td>-1.272164</td>\n",
       "      <td>-0.631756</td>\n",
       "      <td>-1.066500</td>\n",
       "      <td>-0.748674</td>\n",
       "    </tr>\n",
       "    <tr>\n",
       "      <td>14147</td>\n",
       "      <td>-1.340677</td>\n",
       "      <td>0.368625</td>\n",
       "      <td>0.672535</td>\n",
       "      <td>2.750081</td>\n",
       "      <td>0.691838</td>\n",
       "      <td>-1.826507</td>\n",
       "      <td>-1.693001</td>\n",
       "      <td>3.121084</td>\n",
       "      <td>-1.381229</td>\n",
       "      <td>2.822828</td>\n",
       "      <td>...</td>\n",
       "      <td>-0.928810</td>\n",
       "      <td>-0.626348</td>\n",
       "      <td>-1.170223</td>\n",
       "      <td>-0.632564</td>\n",
       "      <td>-1.289004</td>\n",
       "      <td>-0.566492</td>\n",
       "      <td>-1.258374</td>\n",
       "      <td>-0.605845</td>\n",
       "      <td>-1.061426</td>\n",
       "      <td>-0.611219</td>\n",
       "    </tr>\n",
       "    <tr>\n",
       "      <td>14148</td>\n",
       "      <td>-1.281940</td>\n",
       "      <td>0.343990</td>\n",
       "      <td>0.779774</td>\n",
       "      <td>1.485345</td>\n",
       "      <td>0.574083</td>\n",
       "      <td>-1.825090</td>\n",
       "      <td>-1.712468</td>\n",
       "      <td>3.131021</td>\n",
       "      <td>-1.392158</td>\n",
       "      <td>2.833120</td>\n",
       "      <td>...</td>\n",
       "      <td>-0.966383</td>\n",
       "      <td>-0.632042</td>\n",
       "      <td>-1.201960</td>\n",
       "      <td>-0.634656</td>\n",
       "      <td>-1.266906</td>\n",
       "      <td>-0.594746</td>\n",
       "      <td>-1.269882</td>\n",
       "      <td>-0.609648</td>\n",
       "      <td>-1.068457</td>\n",
       "      <td>-0.616250</td>\n",
       "    </tr>\n",
       "  </tbody>\n",
       "</table>\n",
       "<p>13789 rows × 22 columns</p>\n",
       "</div>"
      ],
      "text/plain": [
       "       rougher.input.feed_ag  rougher.input.feed_pb  rougher.input.feed_rate  \\\n",
       "0                  -1.312926              -1.117774                 0.467649   \n",
       "1                  -1.280668              -1.135122                 0.484518   \n",
       "2                  -1.304387              -1.232901                 0.530321   \n",
       "3                  -1.343238              -1.344834                 0.651827   \n",
       "4                  -1.333886              -1.575409                 0.631919   \n",
       "...                      ...                    ...                      ...   \n",
       "14144              -1.317453               1.025642                 0.828796   \n",
       "14145              -1.301802               0.591408                 0.810834   \n",
       "14146              -1.381901               0.476561                 0.778446   \n",
       "14147              -1.340677               0.368625                 0.672535   \n",
       "14148              -1.281940               0.343990                 0.779774   \n",
       "\n",
       "       rougher.input.feed_size  rougher.input.feed_sol  rougher.input.feed_au  \\\n",
       "0                    -0.206471                0.100750              -0.716451   \n",
       "1                    -0.128847               -0.113934              -0.720407   \n",
       "2                    -0.118798               -0.069531              -0.781238   \n",
       "3                    -0.106579                0.111664              -0.908813   \n",
       "4                    -0.182189               -0.399929              -1.146408   \n",
       "...                        ...                     ...                    ...   \n",
       "14144                 1.103038                0.214922              -1.317799   \n",
       "14145                 2.566284                0.463494              -1.577748   \n",
       "14146                 2.685985                0.765105              -1.741670   \n",
       "14147                 2.750081                0.691838              -1.826507   \n",
       "14148                 1.485345                0.574083              -1.825090   \n",
       "\n",
       "       rougher.input.floatbank10_sulfate  rougher.input.floatbank10_xanthate  \\\n",
       "0                               0.088026                            0.122796   \n",
       "1                               0.083271                            0.120769   \n",
       "2                               0.067673                            0.295406   \n",
       "3                              -0.021898                            0.300692   \n",
       "4                              -0.229195                            0.296727   \n",
       "...                                  ...                                 ...   \n",
       "14144                          -1.214283                            2.994306   \n",
       "14145                          -1.339488                            3.127685   \n",
       "14146                          -1.577102                            3.122813   \n",
       "14147                          -1.693001                            3.121084   \n",
       "14148                          -1.712468                            3.131021   \n",
       "\n",
       "       rougher.input.floatbank11_sulfate  rougher.input.floatbank11_xanthate  \\\n",
       "0                               0.134448                            0.146462   \n",
       "1                               0.177387                            0.151971   \n",
       "2                               0.156955                            0.308127   \n",
       "3                               0.095583                            0.301577   \n",
       "4                              -0.101560                            0.300210   \n",
       "...                                  ...                                 ...   \n",
       "14144                          -0.961794                            2.708072   \n",
       "14145                          -1.142590                            2.823421   \n",
       "14146                          -1.280328                            2.825218   \n",
       "14147                          -1.381229                            2.822828   \n",
       "14148                          -1.392158                            2.833120   \n",
       "\n",
       "       ...  rougher.state.floatbank10_b_air  \\\n",
       "0      ...                         1.537291   \n",
       "1      ...                         1.524894   \n",
       "2      ...                         1.517109   \n",
       "3      ...                         1.521075   \n",
       "4      ...                         1.521896   \n",
       "...    ...                              ...   \n",
       "14144  ...                        -0.952321   \n",
       "14145  ...                        -0.964037   \n",
       "14146  ...                        -0.951580   \n",
       "14147  ...                        -0.928810   \n",
       "14148  ...                        -0.966383   \n",
       "\n",
       "       rougher.state.floatbank10_b_level  rougher.state.floatbank10_c_air  \\\n",
       "0                               0.512470                         1.415459   \n",
       "1                               0.246803                         1.406522   \n",
       "2                               0.245842                         1.402718   \n",
       "3                               0.235183                         1.404321   \n",
       "4                               0.252971                         1.405947   \n",
       "...                                  ...                              ...   \n",
       "14144                          -0.604611                        -1.198732   \n",
       "14145                          -0.636316                        -1.195893   \n",
       "14146                          -0.655661                        -1.190996   \n",
       "14147                          -0.626348                        -1.170223   \n",
       "14148                          -0.632042                        -1.201960   \n",
       "\n",
       "       rougher.state.floatbank10_c_level  rougher.state.floatbank10_d_air  \\\n",
       "0                               0.406969                         1.844453   \n",
       "1                               0.270362                         1.852064   \n",
       "2                               0.268144                         1.848818   \n",
       "3                               0.268932                         1.838653   \n",
       "4                               0.266713                         1.848386   \n",
       "...                                  ...                              ...   \n",
       "14144                          -0.599887                        -1.277030   \n",
       "14145                          -0.645022                        -1.262039   \n",
       "14146                          -0.638148                        -1.248022   \n",
       "14147                          -0.632564                        -1.289004   \n",
       "14148                          -0.634656                        -1.266906   \n",
       "\n",
       "       rougher.state.floatbank10_d_level  rougher.state.floatbank10_e_air  \\\n",
       "0                               0.252348                         1.703906   \n",
       "1                               0.276434                         1.675804   \n",
       "2                               0.276424                         1.675557   \n",
       "3                               0.273263                         1.684999   \n",
       "4                               0.277222                         1.688309   \n",
       "...                                  ...                              ...   \n",
       "14144                          -0.607558                        -1.268687   \n",
       "14145                          -0.623202                        -1.274847   \n",
       "14146                          -0.665052                        -1.272164   \n",
       "14147                          -0.566492                        -1.258374   \n",
       "14148                          -0.594746                        -1.269882   \n",
       "\n",
       "       rougher.state.floatbank10_e_level  rougher.state.floatbank10_f_air  \\\n",
       "0                               0.164776                         2.159650   \n",
       "1                               0.246001                         2.064813   \n",
       "2                               0.262487                         2.068217   \n",
       "3                               0.260850                         2.067750   \n",
       "4                               0.281239                         2.073026   \n",
       "...                                  ...                              ...   \n",
       "14144                          -0.608922                        -1.070476   \n",
       "14145                          -0.627931                        -1.069022   \n",
       "14146                          -0.631756                        -1.066500   \n",
       "14147                          -0.605845                        -1.061426   \n",
       "14148                          -0.609648                        -1.068457   \n",
       "\n",
       "       rougher.state.floatbank10_f_level  \n",
       "0                               0.222883  \n",
       "1                               0.255069  \n",
       "2                               0.247854  \n",
       "3                               0.260870  \n",
       "4                               0.249975  \n",
       "...                                  ...  \n",
       "14144                          -0.581628  \n",
       "14145                          -0.570552  \n",
       "14146                          -0.748674  \n",
       "14147                          -0.611219  \n",
       "14148                          -0.616250  \n",
       "\n",
       "[13789 rows x 22 columns]"
      ]
     },
     "execution_count": 52,
     "metadata": {},
     "output_type": "execute_result"
    }
   ],
   "source": [
    "features_train_r_s"
   ]
  },
  {
   "cell_type": "code",
   "execution_count": 53,
   "metadata": {},
   "outputs": [
    {
     "name": "stdout",
     "output_type": "stream",
     "text": [
      "{'normalize': True}\n",
      "CPU times: user 1.21 s, sys: 1.24 s, total: 2.46 s\n",
      "Wall time: 2.41 s\n"
     ]
    }
   ],
   "source": [
    "%%time\n",
    "best_model_lr_r, prediction_lr_r, params_lr_r, time_lr_r = models(features_train_r_s, target_train_r, lr_r, parameters)"
   ]
  },
  {
   "cell_type": "code",
   "execution_count": 54,
   "metadata": {},
   "outputs": [
    {
     "data": {
      "text/plain": [
       "(13789,)"
      ]
     },
     "execution_count": 54,
     "metadata": {},
     "output_type": "execute_result"
    }
   ],
   "source": [
    "prediction_lr_r.shape"
   ]
  },
  {
   "cell_type": "code",
   "execution_count": 55,
   "metadata": {},
   "outputs": [
    {
     "name": "stdout",
     "output_type": "stream",
     "text": [
      "{'normalize': True}\n",
      "CPU times: user 2.09 s, sys: 1.95 s, total: 4.04 s\n",
      "Wall time: 4.08 s\n"
     ]
    }
   ],
   "source": [
    "%%time\n",
    "best_model_lr_f, prediction_lr_f, params_lr_f, time_lr_f = models(features_train_f_s, target_train_f, lr_f, parameters)"
   ]
  },
  {
   "cell_type": "code",
   "execution_count": 56,
   "metadata": {},
   "outputs": [],
   "source": [
    "time_lr = time_lr_r + time_lr_f"
   ]
  },
  {
   "cell_type": "code",
   "execution_count": 57,
   "metadata": {},
   "outputs": [],
   "source": [
    "final_smape_lr = final_smape(target_train_r, prediction_lr_r, target_train_f, prediction_lr_f)"
   ]
  },
  {
   "cell_type": "code",
   "execution_count": 58,
   "metadata": {},
   "outputs": [
    {
     "data": {
      "text/plain": [
       "7.337853168609965"
      ]
     },
     "execution_count": 58,
     "metadata": {},
     "output_type": "execute_result"
    }
   ],
   "source": [
    "final_smape_lr"
   ]
  },
  {
   "cell_type": "markdown",
   "metadata": {},
   "source": [
    "The first model considered is linear regression. Has a high learning rate. The GridSearchCV tool was chosen to select the best model with hyperparameter enumeration and cross-validation. Linear regression is a fairly self-sufficient model, so the minimum number of changeable hyperparameters is chosen for the fitting tool to work and this is 'normalize':[True,False].\n",
    "    \n",
    "As a result of enumeration of a small number of hyperparameters and cross-validation, consisting of 5 samples, the option was chosen: {'normalize': True}. The total total training time for the two models for rougher and final was less than 6 seconds. The final sMAPE metric is 7.34%.\n"
   ]
  },
  {
   "cell_type": "code",
   "execution_count": 59,
   "metadata": {},
   "outputs": [],
   "source": [
    "dtr_r =  DecisionTreeRegressor()\n",
    "dtr_f =  DecisionTreeRegressor()\n",
    "parameters = {'max_depth': range(2,17,2)}"
   ]
  },
  {
   "cell_type": "code",
   "execution_count": 60,
   "metadata": {},
   "outputs": [
    {
     "name": "stdout",
     "output_type": "stream",
     "text": [
      "{'max_depth': 16}\n",
      "CPU times: user 9.16 s, sys: 0 ns, total: 9.16 s\n",
      "Wall time: 9.21 s\n"
     ]
    }
   ],
   "source": [
    "%%time\n",
    "best_model_dtr_r, prediction_dtr_r, params_dtr_r, time_dtr_r = models(features_train_r_s, target_train_r, dtr_r, parameters)"
   ]
  },
  {
   "cell_type": "code",
   "execution_count": 61,
   "metadata": {},
   "outputs": [
    {
     "name": "stdout",
     "output_type": "stream",
     "text": [
      "{'max_depth': 16}\n",
      "CPU times: user 22 s, sys: 0 ns, total: 22 s\n",
      "Wall time: 22.2 s\n"
     ]
    }
   ],
   "source": [
    "%%time\n",
    "best_model_dtr_f, prediction_dtr_f, params_dtr_f, time_dtr_f = models(features_train_f_s, target_train_f, dtr_f, parameters)"
   ]
  },
  {
   "cell_type": "code",
   "execution_count": 62,
   "metadata": {},
   "outputs": [],
   "source": [
    "time_dtr = time_dtr_r + time_dtr_f"
   ]
  },
  {
   "cell_type": "code",
   "execution_count": 63,
   "metadata": {},
   "outputs": [
    {
     "data": {
      "text/plain": [
       "2.35"
      ]
     },
     "metadata": {},
     "output_type": "display_data"
    }
   ],
   "source": [
    "final_smape_dtr = final_smape(target_train_r, prediction_dtr_r, target_train_f, prediction_dtr_f)\n",
    "display(round(final_smape_dtr,2))"
   ]
  },
  {
   "cell_type": "markdown",
   "metadata": {},
   "source": [
    "The following model was trained based on a decision tree. One hyperparameter was chosen - the depth of the tree in the range from 2 to 16 with a step of 2. Due to the different number of features in the samples, different depth values were obtained to obtain the target rougher.output.recovery and final.output.recovery: 16 and 14, respectively. The total training time is less than 32 seconds. The final metric is 2.92%. Perhaps, by increasing the range of the tree depth, we could contribute to a decrease in the value of the metric, but this would increase the likelihood of retraining the model.\n"
   ]
  },
  {
   "cell_type": "code",
   "execution_count": 64,
   "metadata": {},
   "outputs": [],
   "source": [
    "rfr_r =  RandomForestRegressor()\n",
    "rfr_f =  RandomForestRegressor()\n",
    "parameters = {'max_depth': [2,4,6,8,10], 'n_estimators': [5,10,20,30,40,50]}"
   ]
  },
  {
   "cell_type": "code",
   "execution_count": 65,
   "metadata": {},
   "outputs": [
    {
     "name": "stdout",
     "output_type": "stream",
     "text": [
      "{'max_depth': 2, 'n_estimators': 5}\n",
      "CPU times: user 6min 15s, sys: 135 ms, total: 6min 15s\n",
      "Wall time: 6min 19s\n"
     ]
    }
   ],
   "source": [
    "%%time\n",
    "best_model_rfr_r, prediction_rfr_r, params_rfr_r, time_rfr_r = models(features_train_r_s, target_train_r, rfr_r, parameters)"
   ]
  },
  {
   "cell_type": "code",
   "execution_count": 66,
   "metadata": {},
   "outputs": [
    {
     "name": "stdout",
     "output_type": "stream",
     "text": [
      "{'max_depth': 10, 'n_estimators': 5}\n",
      "CPU times: user 14min 36s, sys: 490 ms, total: 14min 37s\n",
      "Wall time: 14min 45s\n"
     ]
    }
   ],
   "source": [
    "%%time\n",
    "best_model_rfr_f, prediction_rfr_f, params_rfr_f, time_rfr_f = models(features_train_f_s, target_train_f, rfr_f, parameters)"
   ]
  },
  {
   "cell_type": "code",
   "execution_count": 67,
   "metadata": {},
   "outputs": [],
   "source": [
    "time_rfr = time_rfr_r + time_rfr_f"
   ]
  },
  {
   "cell_type": "code",
   "execution_count": 68,
   "metadata": {},
   "outputs": [
    {
     "data": {
      "text/plain": [
       "5.66"
      ]
     },
     "metadata": {},
     "output_type": "display_data"
    }
   ],
   "source": [
    "final_smape_rfr = final_smape(target_train_r, prediction_rfr_r, target_train_f, prediction_rfr_f)\n",
    "display(round(final_smape_rfr,2))"
   ]
  },
  {
   "cell_type": "markdown",
   "metadata": {},
   "source": [
    "The last model studied is a random forest. 2 hyperparameters were considered: 'max_depth': [2,4,6,8,10], 'n_estimators': [5,10,20,30,40,50]. As a result of hyperparameter enumeration and cross-validation, the best model for predicting rougher.output.recovery is {'max_depth': 8, 'n_estimators': 5}, final.output.recovery is {'max_depth': 10, 'n_estimators': 5 }. Compared to the previous models considered, the total time for choosing and training models is striking - more than 20 minutes, most likely due to the large number of hyperparameters. The final sMAPE is 4.92%, less than for linear regression, but more than for decision tree."
   ]
  },
  {
   "cell_type": "code",
   "execution_count": 69,
   "metadata": {},
   "outputs": [],
   "source": [
    "res_all = np.array([['LinearRegression', round(final_smape_lr,4), params_lr_r,params_lr_f, time_lr], \n",
    "                       ['DecisionTreeRegressor', round(final_smape_dtr,4), params_dtr_r,params_dtr_f, time_dtr],\n",
    "                    ['RandomForestRegressor', round(final_smape_rfr,4), params_rfr_r,params_rfr_f, time_rfr]])\n",
    "result_all = pd.DataFrame(res_all,columns = ['model','final_smape', 'params_rougher','params_final','time_full'])"
   ]
  },
  {
   "cell_type": "code",
   "execution_count": 70,
   "metadata": {},
   "outputs": [
    {
     "data": {
      "text/html": [
       "<div>\n",
       "<style scoped>\n",
       "    .dataframe tbody tr th:only-of-type {\n",
       "        vertical-align: middle;\n",
       "    }\n",
       "\n",
       "    .dataframe tbody tr th {\n",
       "        vertical-align: top;\n",
       "    }\n",
       "\n",
       "    .dataframe thead th {\n",
       "        text-align: right;\n",
       "    }\n",
       "</style>\n",
       "<table border=\"1\" class=\"dataframe\">\n",
       "  <thead>\n",
       "    <tr style=\"text-align: right;\">\n",
       "      <th></th>\n",
       "      <th>model</th>\n",
       "      <th>final_smape</th>\n",
       "      <th>params_rougher</th>\n",
       "      <th>params_final</th>\n",
       "      <th>time_full</th>\n",
       "    </tr>\n",
       "  </thead>\n",
       "  <tbody>\n",
       "    <tr>\n",
       "      <td>0</td>\n",
       "      <td>LinearRegression</td>\n",
       "      <td>7.3379</td>\n",
       "      <td>{'normalize': True}</td>\n",
       "      <td>{'normalize': True}</td>\n",
       "      <td>00:00:06.487443</td>\n",
       "    </tr>\n",
       "    <tr>\n",
       "      <td>1</td>\n",
       "      <td>DecisionTreeRegressor</td>\n",
       "      <td>2.3546</td>\n",
       "      <td>{'max_depth': 16}</td>\n",
       "      <td>{'max_depth': 16}</td>\n",
       "      <td>00:00:31.432397</td>\n",
       "    </tr>\n",
       "    <tr>\n",
       "      <td>2</td>\n",
       "      <td>RandomForestRegressor</td>\n",
       "      <td>5.6622</td>\n",
       "      <td>{'max_depth': 2, 'n_estimators': 5}</td>\n",
       "      <td>{'max_depth': 10, 'n_estimators': 5}</td>\n",
       "      <td>00:21:04.465926</td>\n",
       "    </tr>\n",
       "  </tbody>\n",
       "</table>\n",
       "</div>"
      ],
      "text/plain": [
       "                   model final_smape                       params_rougher  \\\n",
       "0       LinearRegression      7.3379                  {'normalize': True}   \n",
       "1  DecisionTreeRegressor      2.3546                    {'max_depth': 16}   \n",
       "2  RandomForestRegressor      5.6622  {'max_depth': 2, 'n_estimators': 5}   \n",
       "\n",
       "                           params_final       time_full  \n",
       "0                   {'normalize': True} 00:00:06.487443  \n",
       "1                     {'max_depth': 16} 00:00:31.432397  \n",
       "2  {'max_depth': 10, 'n_estimators': 5} 00:21:04.465926  "
      ]
     },
     "execution_count": 70,
     "metadata": {},
     "output_type": "execute_result"
    }
   ],
   "source": [
    "result_all"
   ]
  },
  {
   "cell_type": "markdown",
   "metadata": {},
   "source": [
    "### Comments\n",
    "Three models were trained: random forest, decision tree and linear regression. The minimum value of the final smape metric was obtained after training the decision tree model, and this model also learns quickly enough even with cross-validation. It will be used to test on the test sample."
   ]
  },
  {
   "cell_type": "code",
   "execution_count": 71,
   "metadata": {},
   "outputs": [],
   "source": [
    "prediction_test_r = best_model_rfr_r.predict(features_train_r_s)\n",
    "prediction_test_f = best_model_rfr_f.predict(features_train_f_s)"
   ]
  },
  {
   "cell_type": "code",
   "execution_count": 72,
   "metadata": {},
   "outputs": [
    {
     "data": {
      "text/plain": [
       "5.66"
      ]
     },
     "metadata": {},
     "output_type": "display_data"
    }
   ],
   "source": [
    "final_smape_test = final_smape(target_train_r, prediction_test_r, target_train_f, prediction_test_f)\n",
    "display(round(final_smape_test,2))"
   ]
  },
  {
   "cell_type": "markdown",
   "metadata": {},
   "source": [
    "   \n",
    "### Conclusions\n",
    "\n",
    "As a result of the work done, the provided data were studied and analyzed, the stages of obtaining gold from ore and related signs were studied, which were later used in calculations, gaps were filled in and anomalous values ​​were removed, the correctness of determining one of the target signs was checked.\n",
    "    \n",
    "Further, functions were written and applied for dividing the training and test sets into parts, scaling, for training models and choosing the best one using cross-validation.\n",
    "    \n",
    "As a result, the best model was chosen - a decision tree, for predicting the recovery factor of gold from gold-bearing ore, which showed the smallest value of the symmetric mean absolute percentage deviation (sMAPE), not exceeding 6% on the test sample, and is also one of the operational ones when working with it. \n"
   ]
  }
 ],
 "metadata": {
  "ExecuteTimeLog": [
   {
    "duration": 756,
    "start_time": "2021-06-28T16:21:10.144Z"
   },
   {
    "duration": 2243,
    "start_time": "2021-06-28T16:22:10.335Z"
   },
   {
    "duration": 1869,
    "start_time": "2021-06-28T16:22:37.321Z"
   },
   {
    "duration": 2033,
    "start_time": "2021-06-28T16:23:25.441Z"
   },
   {
    "duration": 2601,
    "start_time": "2021-06-28T16:23:53.590Z"
   },
   {
    "duration": 91,
    "start_time": "2021-06-28T16:24:01.703Z"
   },
   {
    "duration": 95,
    "start_time": "2021-06-28T16:24:05.551Z"
   },
   {
    "duration": 365,
    "start_time": "2021-06-28T16:25:03.574Z"
   },
   {
    "duration": 980,
    "start_time": "2021-06-28T16:28:32.804Z"
   },
   {
    "duration": 53,
    "start_time": "2021-06-28T16:29:07.796Z"
   },
   {
    "duration": 35,
    "start_time": "2021-06-28T16:29:22.931Z"
   },
   {
    "duration": 35,
    "start_time": "2021-06-28T16:29:55.331Z"
   },
   {
    "duration": 27,
    "start_time": "2021-06-28T16:30:29.319Z"
   },
   {
    "duration": 929,
    "start_time": "2021-06-28T18:54:44.937Z"
   },
   {
    "duration": 512,
    "start_time": "2021-06-28T18:54:54.691Z"
   },
   {
    "duration": 5,
    "start_time": "2021-06-28T18:55:02.166Z"
   },
   {
    "duration": 5,
    "start_time": "2021-06-28T18:55:05.841Z"
   },
   {
    "duration": 5,
    "start_time": "2021-06-28T18:55:16.758Z"
   },
   {
    "duration": 5,
    "start_time": "2021-06-28T18:55:22.086Z"
   },
   {
    "duration": 5,
    "start_time": "2021-06-28T18:55:32.523Z"
   },
   {
    "duration": 3,
    "start_time": "2021-06-28T19:10:07.550Z"
   },
   {
    "duration": 12,
    "start_time": "2021-06-28T19:10:09.795Z"
   },
   {
    "duration": 24,
    "start_time": "2021-06-28T19:10:49.026Z"
   },
   {
    "duration": 18,
    "start_time": "2021-06-28T19:11:48.182Z"
   },
   {
    "duration": 4,
    "start_time": "2021-06-28T19:12:23.771Z"
   },
   {
    "duration": 6,
    "start_time": "2021-06-28T19:12:25.735Z"
   },
   {
    "duration": 18,
    "start_time": "2021-06-28T19:12:28.002Z"
   },
   {
    "duration": 7,
    "start_time": "2021-06-28T19:12:48.687Z"
   },
   {
    "duration": 18,
    "start_time": "2021-06-28T19:12:50.864Z"
   },
   {
    "duration": 15,
    "start_time": "2021-06-28T19:13:03.463Z"
   },
   {
    "duration": 578,
    "start_time": "2021-06-28T19:14:31.901Z"
   },
   {
    "duration": 11,
    "start_time": "2021-06-28T19:14:45.854Z"
   },
   {
    "duration": 318,
    "start_time": "2021-06-28T19:16:27.488Z"
   },
   {
    "duration": 285,
    "start_time": "2021-06-28T19:18:07.365Z"
   },
   {
    "duration": 303,
    "start_time": "2021-06-28T19:18:23.763Z"
   },
   {
    "duration": 7,
    "start_time": "2021-06-28T19:18:30.507Z"
   },
   {
    "duration": 9,
    "start_time": "2021-06-28T19:19:55.527Z"
   },
   {
    "duration": 11,
    "start_time": "2021-06-28T19:19:57.761Z"
   },
   {
    "duration": 5,
    "start_time": "2021-06-28T19:20:15.521Z"
   },
   {
    "duration": 6,
    "start_time": "2021-06-28T19:20:36.043Z"
   },
   {
    "duration": 6,
    "start_time": "2021-06-28T19:22:09.281Z"
   },
   {
    "duration": 1462,
    "start_time": "2021-06-29T15:26:03.457Z"
   },
   {
    "duration": 905,
    "start_time": "2021-06-29T15:26:04.922Z"
   },
   {
    "duration": 14,
    "start_time": "2021-06-29T15:26:05.830Z"
   },
   {
    "duration": 50,
    "start_time": "2021-06-29T15:26:05.846Z"
   },
   {
    "duration": 153,
    "start_time": "2021-06-29T15:26:05.898Z"
   },
   {
    "duration": 95,
    "start_time": "2021-06-29T15:26:06.053Z"
   },
   {
    "duration": 50,
    "start_time": "2021-06-29T15:26:06.150Z"
   },
   {
    "duration": 34,
    "start_time": "2021-06-29T15:26:06.203Z"
   },
   {
    "duration": 42,
    "start_time": "2021-06-29T15:26:06.239Z"
   },
   {
    "duration": 35,
    "start_time": "2021-06-29T15:26:06.283Z"
   },
   {
    "duration": 13,
    "start_time": "2021-06-29T15:26:06.321Z"
   },
   {
    "duration": 5,
    "start_time": "2021-06-29T15:30:25.265Z"
   },
   {
    "duration": 5,
    "start_time": "2021-06-29T15:30:30.857Z"
   },
   {
    "duration": 949,
    "start_time": "2021-07-03T08:34:39.142Z"
   },
   {
    "duration": 694,
    "start_time": "2021-07-03T08:34:40.095Z"
   },
   {
    "duration": 8,
    "start_time": "2021-07-03T08:34:40.791Z"
   },
   {
    "duration": 7,
    "start_time": "2021-07-03T08:34:40.801Z"
   },
   {
    "duration": 7,
    "start_time": "2021-07-03T08:34:40.809Z"
   },
   {
    "duration": 23,
    "start_time": "2021-07-03T08:34:40.817Z"
   },
   {
    "duration": 3,
    "start_time": "2021-07-03T08:34:40.842Z"
   },
   {
    "duration": 20,
    "start_time": "2021-07-03T08:34:40.847Z"
   },
   {
    "duration": 27,
    "start_time": "2021-07-03T08:34:40.869Z"
   },
   {
    "duration": 10,
    "start_time": "2021-07-03T08:34:40.898Z"
   },
   {
    "duration": 7,
    "start_time": "2021-07-03T08:34:40.910Z"
   },
   {
    "duration": 6,
    "start_time": "2021-07-03T08:34:40.918Z"
   },
   {
    "duration": 9,
    "start_time": "2021-07-03T08:34:40.926Z"
   },
   {
    "duration": 3,
    "start_time": "2021-07-03T08:47:03.305Z"
   },
   {
    "duration": 4,
    "start_time": "2021-07-03T08:47:15.278Z"
   },
   {
    "duration": 315,
    "start_time": "2021-07-03T08:47:58.963Z"
   },
   {
    "duration": 4,
    "start_time": "2021-07-03T08:48:09.127Z"
   },
   {
    "duration": 4,
    "start_time": "2021-07-03T08:48:36.001Z"
   },
   {
    "duration": 4,
    "start_time": "2021-07-03T08:48:45.361Z"
   },
   {
    "duration": 15,
    "start_time": "2021-07-03T08:56:26.950Z"
   },
   {
    "duration": 715,
    "start_time": "2021-07-03T09:00:40.953Z"
   },
   {
    "duration": 19,
    "start_time": "2021-07-03T09:00:53.705Z"
   },
   {
    "duration": 1387,
    "start_time": "2021-07-03T15:19:52.107Z"
   },
   {
    "duration": 916,
    "start_time": "2021-07-03T15:19:53.497Z"
   },
   {
    "duration": 42,
    "start_time": "2021-07-03T15:19:54.416Z"
   },
   {
    "duration": 5,
    "start_time": "2021-07-03T15:19:54.461Z"
   },
   {
    "duration": 11,
    "start_time": "2021-07-03T15:19:54.469Z"
   },
   {
    "duration": 5,
    "start_time": "2021-07-03T15:19:54.510Z"
   },
   {
    "duration": 15,
    "start_time": "2021-07-03T15:19:54.517Z"
   },
   {
    "duration": 30,
    "start_time": "2021-07-03T15:19:54.535Z"
   },
   {
    "duration": 3,
    "start_time": "2021-07-03T15:19:54.568Z"
   },
   {
    "duration": 35,
    "start_time": "2021-07-03T15:19:54.574Z"
   },
   {
    "duration": 21,
    "start_time": "2021-07-03T15:19:54.611Z"
   },
   {
    "duration": 12,
    "start_time": "2021-07-03T15:19:54.634Z"
   },
   {
    "duration": 9,
    "start_time": "2021-07-03T15:19:54.649Z"
   },
   {
    "duration": 8,
    "start_time": "2021-07-03T15:19:54.661Z"
   },
   {
    "duration": 40,
    "start_time": "2021-07-03T15:19:54.671Z"
   },
   {
    "duration": 6,
    "start_time": "2021-07-03T15:21:51.088Z"
   },
   {
    "duration": 5,
    "start_time": "2021-07-03T18:27:53.566Z"
   },
   {
    "duration": 6,
    "start_time": "2021-07-03T18:28:10.017Z"
   },
   {
    "duration": 371,
    "start_time": "2021-07-03T18:33:38.861Z"
   },
   {
    "duration": 449,
    "start_time": "2021-07-03T18:34:10.493Z"
   },
   {
    "duration": 30,
    "start_time": "2021-07-03T18:34:26.613Z"
   },
   {
    "duration": 17,
    "start_time": "2021-07-03T18:42:03.906Z"
   },
   {
    "duration": 12,
    "start_time": "2021-07-03T18:42:25.502Z"
   },
   {
    "duration": 11,
    "start_time": "2021-07-03T18:42:33.772Z"
   },
   {
    "duration": 5,
    "start_time": "2021-07-03T18:43:00.958Z"
   },
   {
    "duration": 6,
    "start_time": "2021-07-03T18:43:24.717Z"
   },
   {
    "duration": 5,
    "start_time": "2021-07-03T18:43:36.640Z"
   },
   {
    "duration": 5,
    "start_time": "2021-07-03T18:43:44.454Z"
   },
   {
    "duration": 1345,
    "start_time": "2021-07-03T19:36:10.750Z"
   },
   {
    "duration": 892,
    "start_time": "2021-07-03T19:36:12.098Z"
   },
   {
    "duration": 45,
    "start_time": "2021-07-03T19:36:12.993Z"
   },
   {
    "duration": 4,
    "start_time": "2021-07-03T19:36:13.041Z"
   },
   {
    "duration": 9,
    "start_time": "2021-07-03T19:36:13.048Z"
   },
   {
    "duration": 27,
    "start_time": "2021-07-03T19:36:13.059Z"
   },
   {
    "duration": 22,
    "start_time": "2021-07-03T19:36:13.088Z"
   },
   {
    "duration": 5,
    "start_time": "2021-07-03T19:36:13.115Z"
   },
   {
    "duration": 6,
    "start_time": "2021-07-03T19:36:13.124Z"
   },
   {
    "duration": 28,
    "start_time": "2021-07-03T19:36:13.133Z"
   },
   {
    "duration": 46,
    "start_time": "2021-07-03T19:36:13.164Z"
   },
   {
    "duration": 17,
    "start_time": "2021-07-03T19:36:13.212Z"
   },
   {
    "duration": 18,
    "start_time": "2021-07-03T19:36:13.231Z"
   },
   {
    "duration": 11,
    "start_time": "2021-07-03T19:36:13.251Z"
   },
   {
    "duration": 10,
    "start_time": "2021-07-03T19:36:13.264Z"
   },
   {
    "duration": 33,
    "start_time": "2021-07-03T19:36:13.276Z"
   },
   {
    "duration": 5,
    "start_time": "2021-07-03T19:36:13.312Z"
   },
   {
    "duration": 7,
    "start_time": "2021-07-03T19:36:13.320Z"
   },
   {
    "duration": 14,
    "start_time": "2021-07-03T19:36:13.329Z"
   },
   {
    "duration": 115,
    "start_time": "2021-07-03T19:36:13.345Z"
   },
   {
    "duration": 52274,
    "start_time": "2021-07-03T19:37:19.867Z"
   },
   {
    "duration": 47,
    "start_time": "2021-07-03T19:38:52.575Z"
   },
   {
    "duration": 38,
    "start_time": "2021-07-03T19:39:45.284Z"
   },
   {
    "duration": 63,
    "start_time": "2021-07-03T19:39:54.461Z"
   },
   {
    "duration": 8,
    "start_time": "2021-07-03T19:40:22.992Z"
   },
   {
    "duration": 45,
    "start_time": "2021-07-03T19:40:31.820Z"
   },
   {
    "duration": 21,
    "start_time": "2021-07-03T19:40:48.867Z"
   },
   {
    "duration": 8822,
    "start_time": "2021-07-03T19:41:27.393Z"
   },
   {
    "duration": 8486,
    "start_time": "2021-07-03T19:41:47.332Z"
   },
   {
    "duration": 13,
    "start_time": "2021-07-03T19:42:01.573Z"
   },
   {
    "duration": 28,
    "start_time": "2021-07-03T19:42:29.814Z"
   },
   {
    "duration": 15,
    "start_time": "2021-07-03T19:42:34.466Z"
   },
   {
    "duration": 11,
    "start_time": "2021-07-03T19:42:46.525Z"
   },
   {
    "duration": 164,
    "start_time": "2021-07-03T19:42:58.813Z"
   },
   {
    "duration": 412,
    "start_time": "2021-07-03T19:43:11.911Z"
   },
   {
    "duration": 9,
    "start_time": "2021-07-03T19:43:23.809Z"
   },
   {
    "duration": 5,
    "start_time": "2021-07-03T19:43:31.002Z"
   },
   {
    "duration": 6,
    "start_time": "2021-07-03T19:43:56.143Z"
   },
   {
    "duration": 8,
    "start_time": "2021-07-03T19:44:25.286Z"
   },
   {
    "duration": 6,
    "start_time": "2021-07-03T19:45:08.918Z"
   },
   {
    "duration": 64837,
    "start_time": "2021-07-03T19:47:36.187Z"
   },
   {
    "duration": 37953,
    "start_time": "2021-07-03T19:48:59.209Z"
   },
   {
    "duration": 59890,
    "start_time": "2021-07-03T19:49:59.068Z"
   },
   {
    "duration": 4,
    "start_time": "2021-07-03T19:51:39.322Z"
   },
   {
    "duration": 48,
    "start_time": "2021-07-03T19:52:01.948Z"
   },
   {
    "duration": 107,
    "start_time": "2021-07-03T19:53:48.820Z"
   },
   {
    "duration": 42,
    "start_time": "2021-07-03T19:53:53.734Z"
   },
   {
    "duration": 41,
    "start_time": "2021-07-03T19:57:59.775Z"
   },
   {
    "duration": 45,
    "start_time": "2021-07-03T19:58:16.404Z"
   },
   {
    "duration": 5,
    "start_time": "2021-07-03T19:58:40.700Z"
   },
   {
    "duration": 316,
    "start_time": "2021-07-03T19:59:13.582Z"
   },
   {
    "duration": 43,
    "start_time": "2021-07-03T19:59:38.185Z"
   },
   {
    "duration": 417,
    "start_time": "2021-07-03T20:00:06.099Z"
   },
   {
    "duration": 42,
    "start_time": "2021-07-03T20:00:55.739Z"
   },
   {
    "duration": 45,
    "start_time": "2021-07-03T20:01:50.966Z"
   },
   {
    "duration": 90,
    "start_time": "2021-07-03T20:06:44.699Z"
   },
   {
    "duration": 7,
    "start_time": "2021-07-03T20:06:46.993Z"
   },
   {
    "duration": 347,
    "start_time": "2021-07-03T20:07:37.422Z"
   },
   {
    "duration": 6,
    "start_time": "2021-07-03T20:07:44.988Z"
   },
   {
    "duration": 123,
    "start_time": "2021-07-03T20:09:31.370Z"
   },
   {
    "duration": 4285,
    "start_time": "2021-07-03T20:09:35.328Z"
   },
   {
    "duration": 346,
    "start_time": "2021-07-03T20:09:57.064Z"
   },
   {
    "duration": 7,
    "start_time": "2021-07-03T20:10:22.030Z"
   },
   {
    "duration": 80,
    "start_time": "2021-07-03T20:10:44.446Z"
   },
   {
    "duration": 9,
    "start_time": "2021-07-03T20:10:46.715Z"
   },
   {
    "duration": 89,
    "start_time": "2021-07-03T20:11:05.416Z"
   },
   {
    "duration": 6074,
    "start_time": "2021-07-03T20:13:12.605Z"
   },
   {
    "duration": 4439,
    "start_time": "2021-07-03T20:13:20.795Z"
   },
   {
    "duration": 329,
    "start_time": "2021-07-03T20:13:28.115Z"
   },
   {
    "duration": 76,
    "start_time": "2021-07-03T20:14:01.180Z"
   },
   {
    "duration": 5,
    "start_time": "2021-07-03T20:14:03.896Z"
   },
   {
    "duration": 11,
    "start_time": "2021-07-03T20:14:10.624Z"
   },
   {
    "duration": 595,
    "start_time": "2021-07-03T20:14:17.488Z"
   },
   {
    "duration": 324,
    "start_time": "2021-07-03T20:17:33.777Z"
   },
   {
    "duration": 14,
    "start_time": "2021-07-03T20:20:07.439Z"
   },
   {
    "duration": 11,
    "start_time": "2021-07-03T20:20:24.187Z"
   },
   {
    "duration": 29,
    "start_time": "2021-07-03T20:20:34.326Z"
   },
   {
    "duration": 367,
    "start_time": "2021-07-03T20:37:40.610Z"
   },
   {
    "duration": 357,
    "start_time": "2021-07-03T20:37:59.466Z"
   },
   {
    "duration": 89,
    "start_time": "2021-07-03T20:38:11.945Z"
   },
   {
    "duration": 319,
    "start_time": "2021-07-03T20:38:15.710Z"
   },
   {
    "duration": 393,
    "start_time": "2021-07-03T20:38:31.109Z"
   },
   {
    "duration": 420,
    "start_time": "2021-07-03T20:38:46.500Z"
   },
   {
    "duration": 86,
    "start_time": "2021-07-03T20:49:22.507Z"
   },
   {
    "duration": 22,
    "start_time": "2021-07-03T20:50:46.651Z"
   },
   {
    "duration": 56,
    "start_time": "2021-07-03T20:51:01.496Z"
   },
   {
    "duration": 24,
    "start_time": "2021-07-03T20:51:32.997Z"
   },
   {
    "duration": 1116,
    "start_time": "2021-07-04T08:49:20.229Z"
   },
   {
    "duration": 921,
    "start_time": "2021-07-04T08:49:21.347Z"
   },
   {
    "duration": 37,
    "start_time": "2021-07-04T08:49:22.270Z"
   },
   {
    "duration": 3,
    "start_time": "2021-07-04T08:49:22.309Z"
   },
   {
    "duration": 7,
    "start_time": "2021-07-04T08:49:22.314Z"
   },
   {
    "duration": 6,
    "start_time": "2021-07-04T08:49:22.323Z"
   },
   {
    "duration": 6,
    "start_time": "2021-07-04T08:49:22.330Z"
   },
   {
    "duration": 5,
    "start_time": "2021-07-04T08:49:22.338Z"
   },
   {
    "duration": 8,
    "start_time": "2021-07-04T08:49:22.345Z"
   },
   {
    "duration": 42,
    "start_time": "2021-07-04T08:49:22.355Z"
   },
   {
    "duration": 3,
    "start_time": "2021-07-04T08:49:22.399Z"
   },
   {
    "duration": 12,
    "start_time": "2021-07-04T08:49:22.404Z"
   },
   {
    "duration": 15,
    "start_time": "2021-07-04T08:49:22.417Z"
   },
   {
    "duration": 7,
    "start_time": "2021-07-04T08:49:22.434Z"
   },
   {
    "duration": 8,
    "start_time": "2021-07-04T08:49:22.442Z"
   },
   {
    "duration": 9,
    "start_time": "2021-07-04T08:49:22.452Z"
   },
   {
    "duration": 8,
    "start_time": "2021-07-04T08:49:22.462Z"
   },
   {
    "duration": 6,
    "start_time": "2021-07-04T08:49:22.492Z"
   },
   {
    "duration": 109,
    "start_time": "2021-07-04T08:49:22.499Z"
   },
   {
    "duration": 21,
    "start_time": "2021-07-04T08:49:22.610Z"
   },
   {
    "duration": 30,
    "start_time": "2021-07-04T08:54:43.242Z"
   },
   {
    "duration": 24,
    "start_time": "2021-07-04T08:54:58.509Z"
   },
   {
    "duration": 15,
    "start_time": "2021-07-04T08:55:06.128Z"
   },
   {
    "duration": 5745,
    "start_time": "2021-07-04T09:01:01.150Z"
   },
   {
    "duration": 1555,
    "start_time": "2021-07-04T09:01:12.495Z"
   },
   {
    "duration": 7,
    "start_time": "2021-07-04T09:01:38.957Z"
   },
   {
    "duration": 5,
    "start_time": "2021-07-04T09:02:20.957Z"
   },
   {
    "duration": 5,
    "start_time": "2021-07-04T09:02:28.326Z"
   },
   {
    "duration": 6,
    "start_time": "2021-07-04T09:02:37.029Z"
   },
   {
    "duration": 1583,
    "start_time": "2021-07-04T09:04:01.082Z"
   },
   {
    "duration": 76,
    "start_time": "2021-07-04T09:05:25.976Z"
   },
   {
    "duration": 7,
    "start_time": "2021-07-04T09:05:30.697Z"
   },
   {
    "duration": 5,
    "start_time": "2021-07-04T09:05:43.105Z"
   },
   {
    "duration": 10,
    "start_time": "2021-07-04T09:06:58.105Z"
   },
   {
    "duration": 69,
    "start_time": "2021-07-04T09:06:59.854Z"
   },
   {
    "duration": 14,
    "start_time": "2021-07-04T09:07:01.808Z"
   },
   {
    "duration": 14,
    "start_time": "2021-07-04T09:07:04.082Z"
   },
   {
    "duration": 244,
    "start_time": "2021-07-04T09:08:17.166Z"
   },
   {
    "duration": 236,
    "start_time": "2021-07-04T09:08:58.744Z"
   },
   {
    "duration": 12,
    "start_time": "2021-07-04T09:09:06.274Z"
   },
   {
    "duration": 23,
    "start_time": "2021-07-04T09:09:15.255Z"
   },
   {
    "duration": 12,
    "start_time": "2021-07-04T09:09:37.129Z"
   },
   {
    "duration": 18,
    "start_time": "2021-07-04T09:18:38.961Z"
   },
   {
    "duration": 6,
    "start_time": "2021-07-04T09:19:08.684Z"
   },
   {
    "duration": 15,
    "start_time": "2021-07-04T09:19:44.566Z"
   },
   {
    "duration": 17,
    "start_time": "2021-07-04T09:20:10.254Z"
   },
   {
    "duration": 10,
    "start_time": "2021-07-04T09:20:22.047Z"
   },
   {
    "duration": 971,
    "start_time": "2021-07-04T09:20:33.901Z"
   },
   {
    "duration": 647,
    "start_time": "2021-07-04T09:20:34.874Z"
   },
   {
    "duration": 22,
    "start_time": "2021-07-04T09:20:35.523Z"
   },
   {
    "duration": 7,
    "start_time": "2021-07-04T09:20:35.546Z"
   },
   {
    "duration": 6,
    "start_time": "2021-07-04T09:20:35.555Z"
   },
   {
    "duration": 6,
    "start_time": "2021-07-04T09:20:35.562Z"
   },
   {
    "duration": 5,
    "start_time": "2021-07-04T09:20:35.570Z"
   },
   {
    "duration": 15,
    "start_time": "2021-07-04T09:20:35.578Z"
   },
   {
    "duration": 7,
    "start_time": "2021-07-04T09:20:35.594Z"
   },
   {
    "duration": 19,
    "start_time": "2021-07-04T09:20:35.602Z"
   },
   {
    "duration": 2,
    "start_time": "2021-07-04T09:20:35.622Z"
   },
   {
    "duration": 16,
    "start_time": "2021-07-04T09:20:35.625Z"
   },
   {
    "duration": 14,
    "start_time": "2021-07-04T09:20:35.642Z"
   },
   {
    "duration": 7,
    "start_time": "2021-07-04T09:20:35.658Z"
   },
   {
    "duration": 9,
    "start_time": "2021-07-04T09:20:35.666Z"
   },
   {
    "duration": 15,
    "start_time": "2021-07-04T09:20:35.676Z"
   },
   {
    "duration": 4,
    "start_time": "2021-07-04T09:20:35.693Z"
   },
   {
    "duration": 8,
    "start_time": "2021-07-04T09:20:35.699Z"
   },
   {
    "duration": 18,
    "start_time": "2021-07-04T09:20:35.708Z"
   },
   {
    "duration": 19,
    "start_time": "2021-07-04T09:20:35.727Z"
   },
   {
    "duration": 92,
    "start_time": "2021-07-04T09:20:35.747Z"
   },
   {
    "duration": 14,
    "start_time": "2021-07-04T09:20:35.840Z"
   },
   {
    "duration": 13,
    "start_time": "2021-07-04T09:20:35.857Z"
   },
   {
    "duration": 20,
    "start_time": "2021-07-04T09:20:35.871Z"
   },
   {
    "duration": 12,
    "start_time": "2021-07-04T09:21:12.748Z"
   },
   {
    "duration": 67,
    "start_time": "2021-07-04T09:41:13.758Z"
   },
   {
    "duration": 283,
    "start_time": "2021-07-04T11:29:29.899Z"
   },
   {
    "duration": 433,
    "start_time": "2021-07-04T11:31:28.695Z"
   },
   {
    "duration": 228,
    "start_time": "2021-07-04T11:35:47.192Z"
   },
   {
    "duration": 479,
    "start_time": "2021-07-04T11:35:52.798Z"
   },
   {
    "duration": 448,
    "start_time": "2021-07-04T11:36:02.155Z"
   },
   {
    "duration": 186,
    "start_time": "2021-07-04T11:39:57.785Z"
   },
   {
    "duration": 362,
    "start_time": "2021-07-04T11:40:19.764Z"
   },
   {
    "duration": 185,
    "start_time": "2021-07-04T11:41:13.157Z"
   },
   {
    "duration": 438,
    "start_time": "2021-07-04T11:46:46.553Z"
   },
   {
    "duration": 201,
    "start_time": "2021-07-04T11:47:06.945Z"
   },
   {
    "duration": 203,
    "start_time": "2021-07-04T11:47:12.366Z"
   },
   {
    "duration": 199,
    "start_time": "2021-07-04T11:47:16.266Z"
   },
   {
    "duration": 424,
    "start_time": "2021-07-04T11:47:21.171Z"
   },
   {
    "duration": 666,
    "start_time": "2021-07-04T11:48:23.844Z"
   },
   {
    "duration": 285,
    "start_time": "2021-07-04T11:48:31.568Z"
   },
   {
    "duration": 279,
    "start_time": "2021-07-04T11:54:37.153Z"
   },
   {
    "duration": 461,
    "start_time": "2021-07-04T11:55:03.891Z"
   },
   {
    "duration": 6144,
    "start_time": "2021-07-04T11:55:48.834Z"
   },
   {
    "duration": 6020,
    "start_time": "2021-07-04T11:56:05.867Z"
   },
   {
    "duration": 6651,
    "start_time": "2021-07-04T11:56:19.995Z"
   },
   {
    "duration": 384,
    "start_time": "2021-07-04T11:57:43.267Z"
   },
   {
    "duration": 928,
    "start_time": "2021-07-04T12:07:45.353Z"
   },
   {
    "duration": 849,
    "start_time": "2021-07-04T12:08:05.691Z"
   },
   {
    "duration": 844,
    "start_time": "2021-07-04T12:08:20.328Z"
   },
   {
    "duration": 855,
    "start_time": "2021-07-04T12:08:46.410Z"
   },
   {
    "duration": 875,
    "start_time": "2021-07-04T12:09:10.963Z"
   },
   {
    "duration": 867,
    "start_time": "2021-07-04T12:10:01.803Z"
   },
   {
    "duration": 876,
    "start_time": "2021-07-04T12:10:20.661Z"
   },
   {
    "duration": 4906,
    "start_time": "2021-07-04T12:17:11.145Z"
   },
   {
    "duration": 10135,
    "start_time": "2021-07-04T12:17:17.747Z"
   },
   {
    "duration": 967,
    "start_time": "2021-07-04T12:17:41.210Z"
   },
   {
    "duration": 929,
    "start_time": "2021-07-04T12:18:08.720Z"
   },
   {
    "duration": 77,
    "start_time": "2021-07-04T12:21:14.960Z"
   },
   {
    "duration": 224,
    "start_time": "2021-07-04T12:21:20.897Z"
   },
   {
    "duration": 5,
    "start_time": "2021-07-04T12:21:36.982Z"
   },
   {
    "duration": 916,
    "start_time": "2021-07-04T12:21:38.920Z"
   },
   {
    "duration": 1502,
    "start_time": "2021-07-04T16:55:15.355Z"
   },
   {
    "duration": 877,
    "start_time": "2021-07-04T16:55:16.860Z"
   },
   {
    "duration": 35,
    "start_time": "2021-07-04T16:55:17.740Z"
   },
   {
    "duration": 22,
    "start_time": "2021-07-04T16:55:17.778Z"
   },
   {
    "duration": 6,
    "start_time": "2021-07-04T16:55:17.803Z"
   },
   {
    "duration": 7,
    "start_time": "2021-07-04T16:55:17.811Z"
   },
   {
    "duration": 6,
    "start_time": "2021-07-04T16:55:17.820Z"
   },
   {
    "duration": 6,
    "start_time": "2021-07-04T16:55:17.831Z"
   },
   {
    "duration": 6,
    "start_time": "2021-07-04T16:55:17.840Z"
   },
   {
    "duration": 24,
    "start_time": "2021-07-04T16:55:17.900Z"
   },
   {
    "duration": 4,
    "start_time": "2021-07-04T16:55:17.926Z"
   },
   {
    "duration": 15,
    "start_time": "2021-07-04T16:55:17.932Z"
   },
   {
    "duration": 50,
    "start_time": "2021-07-04T16:55:17.950Z"
   },
   {
    "duration": 12,
    "start_time": "2021-07-04T16:55:18.003Z"
   },
   {
    "duration": 7,
    "start_time": "2021-07-04T16:55:18.018Z"
   },
   {
    "duration": 9,
    "start_time": "2021-07-04T16:55:18.027Z"
   },
   {
    "duration": 8,
    "start_time": "2021-07-04T16:55:18.038Z"
   },
   {
    "duration": 6,
    "start_time": "2021-07-04T16:55:18.049Z"
   },
   {
    "duration": 60,
    "start_time": "2021-07-04T16:55:18.058Z"
   },
   {
    "duration": 22,
    "start_time": "2021-07-04T16:55:18.121Z"
   },
   {
    "duration": 134,
    "start_time": "2021-07-04T16:55:18.146Z"
   },
   {
    "duration": 30,
    "start_time": "2021-07-04T16:55:18.283Z"
   },
   {
    "duration": 8,
    "start_time": "2021-07-04T16:55:18.318Z"
   },
   {
    "duration": 2098,
    "start_time": "2021-07-04T16:55:18.328Z"
   },
   {
    "duration": 4,
    "start_time": "2021-07-04T17:05:14.905Z"
   },
   {
    "duration": 1499,
    "start_time": "2021-07-04T17:05:24.502Z"
   },
   {
    "duration": 8,
    "start_time": "2021-07-04T17:05:39.137Z"
   },
   {
    "duration": 4,
    "start_time": "2021-07-04T17:06:23.767Z"
   },
   {
    "duration": 6,
    "start_time": "2021-07-04T17:06:36.526Z"
   },
   {
    "duration": 6,
    "start_time": "2021-07-04T17:06:44.560Z"
   },
   {
    "duration": 7,
    "start_time": "2021-07-04T17:06:55.675Z"
   },
   {
    "duration": 5,
    "start_time": "2021-07-04T17:07:00.943Z"
   },
   {
    "duration": 461,
    "start_time": "2021-07-04T17:07:54.484Z"
   },
   {
    "duration": 6,
    "start_time": "2021-07-04T17:08:33.047Z"
   },
   {
    "duration": 13,
    "start_time": "2021-07-04T17:08:50.363Z"
   },
   {
    "duration": 1687,
    "start_time": "2021-07-04T17:08:53.385Z"
   },
   {
    "duration": 6,
    "start_time": "2021-07-04T17:09:53.334Z"
   },
   {
    "duration": 271,
    "start_time": "2021-07-04T17:11:41.500Z"
   },
   {
    "duration": 7,
    "start_time": "2021-07-04T17:11:58.392Z"
   },
   {
    "duration": 7,
    "start_time": "2021-07-04T17:12:21.552Z"
   },
   {
    "duration": 10,
    "start_time": "2021-07-04T17:12:41.597Z"
   },
   {
    "duration": 1288,
    "start_time": "2021-07-04T17:12:43.924Z"
   },
   {
    "duration": 10,
    "start_time": "2021-07-04T17:12:59.322Z"
   },
   {
    "duration": 9,
    "start_time": "2021-07-04T17:16:13.423Z"
   },
   {
    "duration": 1353,
    "start_time": "2021-07-04T17:16:15.961Z"
   },
   {
    "duration": 10,
    "start_time": "2021-07-04T17:16:36.949Z"
   },
   {
    "duration": 1757,
    "start_time": "2021-07-04T17:16:38.699Z"
   },
   {
    "duration": 10,
    "start_time": "2021-07-04T17:17:04.186Z"
   },
   {
    "duration": 1255,
    "start_time": "2021-07-04T17:17:06.456Z"
   },
   {
    "duration": 985,
    "start_time": "2021-07-04T17:17:24.756Z"
   },
   {
    "duration": 9,
    "start_time": "2021-07-04T17:20:34.210Z"
   },
   {
    "duration": 1751,
    "start_time": "2021-07-04T17:20:36.963Z"
   },
   {
    "duration": 1632,
    "start_time": "2021-07-04T17:20:43.598Z"
   },
   {
    "duration": 1272,
    "start_time": "2021-07-04T17:22:05.881Z"
   },
   {
    "duration": 12,
    "start_time": "2021-07-04T17:23:52.379Z"
   },
   {
    "duration": 564,
    "start_time": "2021-07-04T17:23:59.014Z"
   },
   {
    "duration": 2457,
    "start_time": "2021-07-04T17:26:24.443Z"
   },
   {
    "duration": 16,
    "start_time": "2021-07-04T17:26:34.554Z"
   },
   {
    "duration": 9,
    "start_time": "2021-07-04T17:27:01.836Z"
   },
   {
    "duration": 7,
    "start_time": "2021-07-04T17:27:06.619Z"
   },
   {
    "duration": 11,
    "start_time": "2021-07-04T17:28:41.146Z"
   },
   {
    "duration": 298,
    "start_time": "2021-07-04T17:28:43.026Z"
   },
   {
    "duration": 93,
    "start_time": "2021-07-04T17:29:27.385Z"
   },
   {
    "duration": 99,
    "start_time": "2021-07-04T17:29:40.175Z"
   },
   {
    "duration": 144,
    "start_time": "2021-07-04T17:29:53.185Z"
   },
   {
    "duration": 1296,
    "start_time": "2021-07-04T17:30:08.048Z"
   },
   {
    "duration": 1189,
    "start_time": "2021-07-04T17:30:32.160Z"
   },
   {
    "duration": 1286,
    "start_time": "2021-07-04T17:31:28.454Z"
   },
   {
    "duration": 9,
    "start_time": "2021-07-04T17:33:00.382Z"
   },
   {
    "duration": 1214,
    "start_time": "2021-07-04T17:33:05.793Z"
   },
   {
    "duration": 9,
    "start_time": "2021-07-04T17:35:43.888Z"
   },
   {
    "duration": 1190,
    "start_time": "2021-07-04T17:35:47.930Z"
   },
   {
    "duration": 1327,
    "start_time": "2021-07-04T17:35:53.015Z"
   },
   {
    "duration": 1577,
    "start_time": "2021-07-04T19:27:55.944Z"
   },
   {
    "duration": 946,
    "start_time": "2021-07-04T19:27:57.524Z"
   },
   {
    "duration": 50,
    "start_time": "2021-07-04T19:27:58.473Z"
   },
   {
    "duration": 6,
    "start_time": "2021-07-04T19:27:58.526Z"
   },
   {
    "duration": 5,
    "start_time": "2021-07-04T19:27:58.535Z"
   },
   {
    "duration": 11,
    "start_time": "2021-07-04T19:27:58.543Z"
   },
   {
    "duration": 54,
    "start_time": "2021-07-04T19:27:58.557Z"
   },
   {
    "duration": 7,
    "start_time": "2021-07-04T19:27:58.615Z"
   },
   {
    "duration": 5,
    "start_time": "2021-07-04T19:27:58.626Z"
   },
   {
    "duration": 31,
    "start_time": "2021-07-04T19:27:58.634Z"
   },
   {
    "duration": 4,
    "start_time": "2021-07-04T19:27:58.667Z"
   },
   {
    "duration": 14,
    "start_time": "2021-07-04T19:27:58.709Z"
   },
   {
    "duration": 21,
    "start_time": "2021-07-04T19:27:58.726Z"
   },
   {
    "duration": 13,
    "start_time": "2021-07-04T19:27:58.750Z"
   },
   {
    "duration": 36,
    "start_time": "2021-07-04T19:27:58.766Z"
   },
   {
    "duration": 10,
    "start_time": "2021-07-04T19:27:58.809Z"
   },
   {
    "duration": 8,
    "start_time": "2021-07-04T19:27:58.822Z"
   },
   {
    "duration": 7,
    "start_time": "2021-07-04T19:27:58.833Z"
   },
   {
    "duration": 22,
    "start_time": "2021-07-04T19:27:58.843Z"
   },
   {
    "duration": 29,
    "start_time": "2021-07-04T19:27:58.904Z"
   },
   {
    "duration": 121,
    "start_time": "2021-07-04T19:27:58.936Z"
   },
   {
    "duration": 43,
    "start_time": "2021-07-04T19:27:59.060Z"
   },
   {
    "duration": 13,
    "start_time": "2021-07-04T19:27:59.109Z"
   },
   {
    "duration": 1896,
    "start_time": "2021-07-04T19:27:59.125Z"
   },
   {
    "duration": 1204,
    "start_time": "2021-07-04T19:28:01.024Z"
   },
   {
    "duration": 1351,
    "start_time": "2021-07-04T19:28:02.231Z"
   },
   {
    "duration": 301,
    "start_time": "2021-07-04T19:37:58.266Z"
   },
   {
    "duration": 480,
    "start_time": "2021-07-04T19:38:11.377Z"
   },
   {
    "duration": 535,
    "start_time": "2021-07-04T19:38:30.257Z"
   },
   {
    "duration": 526,
    "start_time": "2021-07-04T19:38:43.783Z"
   },
   {
    "duration": 486,
    "start_time": "2021-07-04T19:38:50.257Z"
   },
   {
    "duration": 450,
    "start_time": "2021-07-04T19:38:58.356Z"
   },
   {
    "duration": 514,
    "start_time": "2021-07-04T19:39:09.746Z"
   },
   {
    "duration": 948,
    "start_time": "2021-07-04T19:39:16.321Z"
   },
   {
    "duration": 1336,
    "start_time": "2021-07-04T19:39:35.127Z"
   },
   {
    "duration": 730,
    "start_time": "2021-07-04T19:39:42.803Z"
   },
   {
    "duration": 841,
    "start_time": "2021-07-04T19:40:14.848Z"
   },
   {
    "duration": 800,
    "start_time": "2021-07-04T19:40:25.729Z"
   },
   {
    "duration": 929,
    "start_time": "2021-07-04T19:41:03.006Z"
   },
   {
    "duration": 920,
    "start_time": "2021-07-04T19:45:28.582Z"
   },
   {
    "duration": 882,
    "start_time": "2021-07-04T19:48:13.361Z"
   },
   {
    "duration": 1711,
    "start_time": "2021-07-04T19:48:30.494Z"
   },
   {
    "duration": 1012,
    "start_time": "2021-07-04T19:49:02.966Z"
   },
   {
    "duration": 1201,
    "start_time": "2021-07-04T19:49:13.935Z"
   },
   {
    "duration": 952,
    "start_time": "2021-07-04T19:52:29.424Z"
   },
   {
    "duration": 1105,
    "start_time": "2021-07-04T19:52:37.625Z"
   },
   {
    "duration": 1427,
    "start_time": "2021-07-05T08:17:01.303Z"
   },
   {
    "duration": 1134,
    "start_time": "2021-07-05T08:17:02.733Z"
   },
   {
    "duration": 43,
    "start_time": "2021-07-05T08:17:03.870Z"
   },
   {
    "duration": 6,
    "start_time": "2021-07-05T08:17:03.917Z"
   },
   {
    "duration": 33,
    "start_time": "2021-07-05T08:17:03.926Z"
   },
   {
    "duration": 7,
    "start_time": "2021-07-05T08:17:03.962Z"
   },
   {
    "duration": 6,
    "start_time": "2021-07-05T08:17:03.972Z"
   },
   {
    "duration": 6,
    "start_time": "2021-07-05T08:17:03.982Z"
   },
   {
    "duration": 6,
    "start_time": "2021-07-05T08:17:03.992Z"
   },
   {
    "duration": 32,
    "start_time": "2021-07-05T08:17:04.054Z"
   },
   {
    "duration": 4,
    "start_time": "2021-07-05T08:17:04.089Z"
   },
   {
    "duration": 16,
    "start_time": "2021-07-05T08:17:04.096Z"
   },
   {
    "duration": 49,
    "start_time": "2021-07-05T08:17:04.115Z"
   },
   {
    "duration": 13,
    "start_time": "2021-07-05T08:17:04.167Z"
   },
   {
    "duration": 8,
    "start_time": "2021-07-05T08:17:04.183Z"
   },
   {
    "duration": 5,
    "start_time": "2021-07-05T08:17:04.194Z"
   },
   {
    "duration": 8,
    "start_time": "2021-07-05T08:17:04.202Z"
   },
   {
    "duration": 41,
    "start_time": "2021-07-05T08:17:04.213Z"
   },
   {
    "duration": 22,
    "start_time": "2021-07-05T08:17:04.257Z"
   },
   {
    "duration": 26,
    "start_time": "2021-07-05T08:17:04.281Z"
   },
   {
    "duration": 132,
    "start_time": "2021-07-05T08:17:04.310Z"
   },
   {
    "duration": 19,
    "start_time": "2021-07-05T08:17:04.445Z"
   },
   {
    "duration": 10,
    "start_time": "2021-07-05T08:17:04.469Z"
   },
   {
    "duration": 1274,
    "start_time": "2021-07-05T08:17:04.481Z"
   },
   {
    "duration": 1133,
    "start_time": "2021-07-05T08:17:05.758Z"
   },
   {
    "duration": 1839,
    "start_time": "2021-07-05T08:17:06.894Z"
   },
   {
    "duration": 1031,
    "start_time": "2021-07-05T08:17:08.736Z"
   },
   {
    "duration": 91,
    "start_time": "2021-07-05T08:17:09.770Z"
   },
   {
    "duration": 861,
    "start_time": "2021-07-05T08:17:37.480Z"
   },
   {
    "duration": 701,
    "start_time": "2021-07-05T08:17:51.116Z"
   },
   {
    "duration": 973,
    "start_time": "2021-07-05T08:18:09.381Z"
   },
   {
    "duration": 1246,
    "start_time": "2021-07-05T08:18:58.686Z"
   },
   {
    "duration": 1608,
    "start_time": "2021-07-05T08:19:07.672Z"
   },
   {
    "duration": 1324,
    "start_time": "2021-07-05T08:19:13.003Z"
   },
   {
    "duration": 8,
    "start_time": "2021-07-05T08:24:04.748Z"
   },
   {
    "duration": 6,
    "start_time": "2021-07-05T08:24:13.970Z"
   },
   {
    "duration": 14,
    "start_time": "2021-07-05T08:25:20.685Z"
   },
   {
    "duration": 13,
    "start_time": "2021-07-05T08:25:32.663Z"
   },
   {
    "duration": 14,
    "start_time": "2021-07-05T08:26:14.482Z"
   },
   {
    "duration": 422,
    "start_time": "2021-07-05T08:27:14.410Z"
   },
   {
    "duration": 14,
    "start_time": "2021-07-05T08:27:54.102Z"
   },
   {
    "duration": 1702,
    "start_time": "2021-07-05T08:28:52.170Z"
   },
   {
    "duration": 944,
    "start_time": "2021-07-05T08:28:53.876Z"
   },
   {
    "duration": 55,
    "start_time": "2021-07-05T08:28:54.824Z"
   },
   {
    "duration": 6,
    "start_time": "2021-07-05T08:28:54.882Z"
   },
   {
    "duration": 6,
    "start_time": "2021-07-05T08:28:54.892Z"
   },
   {
    "duration": 12,
    "start_time": "2021-07-05T08:28:54.901Z"
   },
   {
    "duration": 40,
    "start_time": "2021-07-05T08:28:54.917Z"
   },
   {
    "duration": 12,
    "start_time": "2021-07-05T08:28:54.962Z"
   },
   {
    "duration": 8,
    "start_time": "2021-07-05T08:28:54.978Z"
   },
   {
    "duration": 26,
    "start_time": "2021-07-05T08:28:54.989Z"
   },
   {
    "duration": 4,
    "start_time": "2021-07-05T08:28:55.056Z"
   },
   {
    "duration": 26,
    "start_time": "2021-07-05T08:28:55.064Z"
   },
   {
    "duration": 20,
    "start_time": "2021-07-05T08:28:55.093Z"
   },
   {
    "duration": 13,
    "start_time": "2021-07-05T08:28:55.116Z"
   },
   {
    "duration": 8,
    "start_time": "2021-07-05T08:28:55.156Z"
   },
   {
    "duration": 20,
    "start_time": "2021-07-05T08:28:55.167Z"
   },
   {
    "duration": 20,
    "start_time": "2021-07-05T08:28:55.191Z"
   },
   {
    "duration": 16,
    "start_time": "2021-07-05T08:28:55.214Z"
   },
   {
    "duration": 33,
    "start_time": "2021-07-05T08:28:55.233Z"
   },
   {
    "duration": 43,
    "start_time": "2021-07-05T08:28:55.269Z"
   },
   {
    "duration": 131,
    "start_time": "2021-07-05T08:28:55.315Z"
   },
   {
    "duration": 21,
    "start_time": "2021-07-05T08:28:55.449Z"
   },
   {
    "duration": 10,
    "start_time": "2021-07-05T08:28:55.476Z"
   },
   {
    "duration": 1461,
    "start_time": "2021-07-05T08:28:55.489Z"
   },
   {
    "duration": 1213,
    "start_time": "2021-07-05T08:28:56.955Z"
   },
   {
    "duration": 1347,
    "start_time": "2021-07-05T08:28:58.171Z"
   },
   {
    "duration": 1368,
    "start_time": "2021-07-05T08:28:59.520Z"
   },
   {
    "duration": 194,
    "start_time": "2021-07-05T08:29:00.891Z"
   },
   {
    "duration": -381,
    "start_time": "2021-07-05T08:29:01.468Z"
   },
   {
    "duration": 8,
    "start_time": "2021-07-05T08:30:08.358Z"
   },
   {
    "duration": 913,
    "start_time": "2021-07-05T08:30:11.390Z"
   },
   {
    "duration": 7,
    "start_time": "2021-07-05T08:32:04.832Z"
   },
   {
    "duration": 446,
    "start_time": "2021-07-05T08:32:07.213Z"
   },
   {
    "duration": 7,
    "start_time": "2021-07-05T08:33:14.979Z"
   },
   {
    "duration": 945,
    "start_time": "2021-07-05T08:33:17.614Z"
   },
   {
    "duration": 9,
    "start_time": "2021-07-05T08:33:52.170Z"
   },
   {
    "duration": 905,
    "start_time": "2021-07-05T08:33:53.962Z"
   },
   {
    "duration": 7,
    "start_time": "2021-07-05T08:34:16.868Z"
   },
   {
    "duration": 877,
    "start_time": "2021-07-05T08:34:20.570Z"
   },
   {
    "duration": 9,
    "start_time": "2021-07-05T08:35:24.391Z"
   },
   {
    "duration": 997,
    "start_time": "2021-07-05T08:35:26.831Z"
   },
   {
    "duration": 7,
    "start_time": "2021-07-05T08:35:51.300Z"
   },
   {
    "duration": 930,
    "start_time": "2021-07-05T08:35:55.555Z"
   },
   {
    "duration": 952,
    "start_time": "2021-07-05T08:36:00.348Z"
   },
   {
    "duration": 992,
    "start_time": "2021-07-05T08:36:08.204Z"
   },
   {
    "duration": 8,
    "start_time": "2021-07-05T08:36:17.639Z"
   },
   {
    "duration": 1011,
    "start_time": "2021-07-05T08:36:20.150Z"
   },
   {
    "duration": 1037,
    "start_time": "2021-07-05T08:36:23.650Z"
   },
   {
    "duration": 927,
    "start_time": "2021-07-05T08:36:27.596Z"
   },
   {
    "duration": 8,
    "start_time": "2021-07-05T08:44:17.538Z"
   },
   {
    "duration": 20,
    "start_time": "2021-07-05T08:44:41.337Z"
   },
   {
    "duration": 6,
    "start_time": "2021-07-05T08:45:21.844Z"
   },
   {
    "duration": 21,
    "start_time": "2021-07-05T08:47:54.052Z"
   },
   {
    "duration": 21,
    "start_time": "2021-07-05T08:48:04.817Z"
   },
   {
    "duration": 4,
    "start_time": "2021-07-05T08:50:15.760Z"
   },
   {
    "duration": 283,
    "start_time": "2021-07-05T08:50:17.772Z"
   },
   {
    "duration": 5,
    "start_time": "2021-07-05T08:51:06.996Z"
   },
   {
    "duration": 295,
    "start_time": "2021-07-05T08:51:08.658Z"
   },
   {
    "duration": 4,
    "start_time": "2021-07-05T08:52:25.576Z"
   },
   {
    "duration": 7,
    "start_time": "2021-07-05T08:52:46.355Z"
   },
   {
    "duration": 270,
    "start_time": "2021-07-05T08:53:02.093Z"
   },
   {
    "duration": 15,
    "start_time": "2021-07-05T08:53:15.701Z"
   },
   {
    "duration": 1411,
    "start_time": "2021-07-05T08:54:06.026Z"
   },
   {
    "duration": 855,
    "start_time": "2021-07-05T08:54:23.108Z"
   },
   {
    "duration": 4,
    "start_time": "2021-07-05T08:55:04.192Z"
   },
   {
    "duration": 26,
    "start_time": "2021-07-05T08:55:06.052Z"
   },
   {
    "duration": 22,
    "start_time": "2021-07-05T08:55:23.651Z"
   },
   {
    "duration": 13,
    "start_time": "2021-07-05T08:56:16.237Z"
   },
   {
    "duration": 1511,
    "start_time": "2021-07-05T08:57:51.267Z"
   },
   {
    "duration": 1693,
    "start_time": "2021-07-05T09:00:10.452Z"
   },
   {
    "duration": 1470,
    "start_time": "2021-07-05T09:00:25.654Z"
   },
   {
    "duration": 1475,
    "start_time": "2021-07-05T09:01:04.304Z"
   },
   {
    "duration": 1488,
    "start_time": "2021-07-05T09:02:35.775Z"
   },
   {
    "duration": 52,
    "start_time": "2021-07-05T09:14:03.892Z"
   },
   {
    "duration": 39,
    "start_time": "2021-07-05T09:14:16.640Z"
   },
   {
    "duration": 47,
    "start_time": "2021-07-05T09:17:05.888Z"
   },
   {
    "duration": 22,
    "start_time": "2021-07-05T09:17:59.916Z"
   },
   {
    "duration": 38,
    "start_time": "2021-07-05T09:18:49.128Z"
   },
   {
    "duration": 40,
    "start_time": "2021-07-05T09:19:41.170Z"
   },
   {
    "duration": 44,
    "start_time": "2021-07-05T09:20:19.394Z"
   },
   {
    "duration": 34,
    "start_time": "2021-07-05T09:20:28.851Z"
   },
   {
    "duration": 35,
    "start_time": "2021-07-05T09:23:17.739Z"
   },
   {
    "duration": 34,
    "start_time": "2021-07-05T09:24:05.417Z"
   },
   {
    "duration": 260,
    "start_time": "2021-07-05T09:24:36.267Z"
   },
   {
    "duration": 8,
    "start_time": "2021-07-05T09:24:47.041Z"
   },
   {
    "duration": 7,
    "start_time": "2021-07-05T09:25:26.464Z"
   },
   {
    "duration": 21,
    "start_time": "2021-07-05T09:25:42.164Z"
   },
   {
    "duration": 14,
    "start_time": "2021-07-05T09:26:23.843Z"
   },
   {
    "duration": 322,
    "start_time": "2021-07-05T09:29:51.743Z"
   },
   {
    "duration": 261,
    "start_time": "2021-07-05T09:29:57.060Z"
   },
   {
    "duration": 46,
    "start_time": "2021-07-05T09:32:21.577Z"
   },
   {
    "duration": 86,
    "start_time": "2021-07-05T09:32:55.464Z"
   },
   {
    "duration": 90,
    "start_time": "2021-07-05T09:33:19.293Z"
   },
   {
    "duration": 271,
    "start_time": "2021-07-05T09:33:29.786Z"
   },
   {
    "duration": 69,
    "start_time": "2021-07-05T09:34:25.757Z"
   },
   {
    "duration": 22,
    "start_time": "2021-07-05T09:34:56.718Z"
   },
   {
    "duration": 42,
    "start_time": "2021-07-05T09:35:01.594Z"
   },
   {
    "duration": 283,
    "start_time": "2021-07-05T09:35:08.512Z"
   },
   {
    "duration": 5,
    "start_time": "2021-07-05T09:35:12.771Z"
   },
   {
    "duration": 14,
    "start_time": "2021-07-05T09:35:52.598Z"
   },
   {
    "duration": 12,
    "start_time": "2021-07-05T09:36:02.711Z"
   },
   {
    "duration": 14,
    "start_time": "2021-07-05T09:36:20.570Z"
   },
   {
    "duration": 355,
    "start_time": "2021-07-05T09:37:18.784Z"
   },
   {
    "duration": 21,
    "start_time": "2021-07-05T09:37:27.278Z"
   },
   {
    "duration": 5,
    "start_time": "2021-07-05T09:37:29.150Z"
   },
   {
    "duration": 6,
    "start_time": "2021-07-05T09:37:31.109Z"
   },
   {
    "duration": 1440,
    "start_time": "2021-07-05T09:38:24.398Z"
   },
   {
    "duration": 863,
    "start_time": "2021-07-05T09:38:25.840Z"
   },
   {
    "duration": 50,
    "start_time": "2021-07-05T09:38:26.705Z"
   },
   {
    "duration": 6,
    "start_time": "2021-07-05T09:38:26.757Z"
   },
   {
    "duration": 6,
    "start_time": "2021-07-05T09:38:26.765Z"
   },
   {
    "duration": 7,
    "start_time": "2021-07-05T09:38:26.774Z"
   },
   {
    "duration": 14,
    "start_time": "2021-07-05T09:38:26.783Z"
   },
   {
    "duration": 9,
    "start_time": "2021-07-05T09:38:26.800Z"
   },
   {
    "duration": 44,
    "start_time": "2021-07-05T09:38:26.812Z"
   },
   {
    "duration": 28,
    "start_time": "2021-07-05T09:38:26.859Z"
   },
   {
    "duration": 4,
    "start_time": "2021-07-05T09:38:26.889Z"
   },
   {
    "duration": 13,
    "start_time": "2021-07-05T09:38:26.895Z"
   },
   {
    "duration": 50,
    "start_time": "2021-07-05T09:38:26.910Z"
   },
   {
    "duration": 11,
    "start_time": "2021-07-05T09:38:26.963Z"
   },
   {
    "duration": 9,
    "start_time": "2021-07-05T09:38:26.977Z"
   },
   {
    "duration": 8,
    "start_time": "2021-07-05T09:38:26.989Z"
   },
   {
    "duration": 12,
    "start_time": "2021-07-05T09:38:27.000Z"
   },
   {
    "duration": 41,
    "start_time": "2021-07-05T09:38:27.015Z"
   },
   {
    "duration": 25,
    "start_time": "2021-07-05T09:38:27.059Z"
   },
   {
    "duration": 25,
    "start_time": "2021-07-05T09:38:27.087Z"
   },
   {
    "duration": 129,
    "start_time": "2021-07-05T09:38:27.115Z"
   },
   {
    "duration": 24,
    "start_time": "2021-07-05T09:38:27.247Z"
   },
   {
    "duration": 7,
    "start_time": "2021-07-05T09:38:27.275Z"
   },
   {
    "duration": 938,
    "start_time": "2021-07-05T09:38:27.285Z"
   },
   {
    "duration": 921,
    "start_time": "2021-07-05T09:38:28.226Z"
   },
   {
    "duration": 941,
    "start_time": "2021-07-05T09:38:29.149Z"
   },
   {
    "duration": 998,
    "start_time": "2021-07-05T09:38:30.093Z"
   },
   {
    "duration": 3,
    "start_time": "2021-07-05T09:38:31.094Z"
   },
   {
    "duration": 38,
    "start_time": "2021-07-05T09:38:31.100Z"
   },
   {
    "duration": 1595,
    "start_time": "2021-07-05T09:38:31.140Z"
   },
   {
    "duration": 7332,
    "start_time": "2021-07-05T09:38:32.737Z"
   },
   {
    "duration": -445,
    "start_time": "2021-07-05T09:38:40.517Z"
   },
   {
    "duration": -451,
    "start_time": "2021-07-05T09:38:40.525Z"
   },
   {
    "duration": -456,
    "start_time": "2021-07-05T09:38:40.532Z"
   },
   {
    "duration": -461,
    "start_time": "2021-07-05T09:38:40.538Z"
   },
   {
    "duration": -466,
    "start_time": "2021-07-05T09:38:40.545Z"
   },
   {
    "duration": 38,
    "start_time": "2021-07-05T09:40:21.346Z"
   },
   {
    "duration": 2054,
    "start_time": "2021-07-05T09:40:23.395Z"
   },
   {
    "duration": 49,
    "start_time": "2021-07-05T09:40:28.291Z"
   },
   {
    "duration": 47,
    "start_time": "2021-07-05T09:40:29.878Z"
   },
   {
    "duration": 597,
    "start_time": "2021-07-05T09:40:50.462Z"
   },
   {
    "duration": 27,
    "start_time": "2021-07-05T09:41:22.337Z"
   },
   {
    "duration": 28,
    "start_time": "2021-07-05T09:42:03.782Z"
   },
   {
    "duration": 28,
    "start_time": "2021-07-05T09:42:06.720Z"
   },
   {
    "duration": 29,
    "start_time": "2021-07-05T09:42:17.961Z"
   },
   {
    "duration": 27,
    "start_time": "2021-07-05T09:42:28.743Z"
   },
   {
    "duration": 11,
    "start_time": "2021-07-05T09:43:30.575Z"
   },
   {
    "duration": 11,
    "start_time": "2021-07-05T09:43:36.869Z"
   },
   {
    "duration": 10,
    "start_time": "2021-07-05T09:43:46.771Z"
   },
   {
    "duration": 10,
    "start_time": "2021-07-05T09:43:53.480Z"
   },
   {
    "duration": 9,
    "start_time": "2021-07-05T09:44:04.402Z"
   },
   {
    "duration": 258,
    "start_time": "2021-07-05T09:44:33.028Z"
   },
   {
    "duration": 9,
    "start_time": "2021-07-05T09:44:44.238Z"
   },
   {
    "duration": 10,
    "start_time": "2021-07-05T09:44:59.258Z"
   },
   {
    "duration": 11,
    "start_time": "2021-07-05T09:45:20.364Z"
   },
   {
    "duration": 11,
    "start_time": "2021-07-05T09:45:23.249Z"
   },
   {
    "duration": 11,
    "start_time": "2021-07-05T09:45:25.943Z"
   },
   {
    "duration": 12,
    "start_time": "2021-07-05T09:45:28.928Z"
   },
   {
    "duration": 9,
    "start_time": "2021-07-05T09:45:32.352Z"
   },
   {
    "duration": 10,
    "start_time": "2021-07-05T09:45:35.549Z"
   },
   {
    "duration": 1477,
    "start_time": "2021-07-05T09:46:25.917Z"
   },
   {
    "duration": 1978,
    "start_time": "2021-07-05T09:46:27.396Z"
   },
   {
    "duration": -444,
    "start_time": "2021-07-05T09:46:29.822Z"
   },
   {
    "duration": -451,
    "start_time": "2021-07-05T09:46:29.830Z"
   },
   {
    "duration": -458,
    "start_time": "2021-07-05T09:46:29.839Z"
   },
   {
    "duration": -464,
    "start_time": "2021-07-05T09:46:29.846Z"
   },
   {
    "duration": -470,
    "start_time": "2021-07-05T09:46:29.854Z"
   },
   {
    "duration": -476,
    "start_time": "2021-07-05T09:46:29.861Z"
   },
   {
    "duration": -482,
    "start_time": "2021-07-05T09:46:29.868Z"
   },
   {
    "duration": -488,
    "start_time": "2021-07-05T09:46:29.875Z"
   },
   {
    "duration": -493,
    "start_time": "2021-07-05T09:46:29.882Z"
   },
   {
    "duration": -500,
    "start_time": "2021-07-05T09:46:29.890Z"
   },
   {
    "duration": -504,
    "start_time": "2021-07-05T09:46:29.896Z"
   },
   {
    "duration": -514,
    "start_time": "2021-07-05T09:46:29.907Z"
   },
   {
    "duration": -521,
    "start_time": "2021-07-05T09:46:29.915Z"
   },
   {
    "duration": -542,
    "start_time": "2021-07-05T09:46:29.937Z"
   },
   {
    "duration": -549,
    "start_time": "2021-07-05T09:46:29.945Z"
   },
   {
    "duration": -557,
    "start_time": "2021-07-05T09:46:29.954Z"
   },
   {
    "duration": -562,
    "start_time": "2021-07-05T09:46:29.960Z"
   },
   {
    "duration": -569,
    "start_time": "2021-07-05T09:46:29.968Z"
   },
   {
    "duration": -575,
    "start_time": "2021-07-05T09:46:29.975Z"
   },
   {
    "duration": -582,
    "start_time": "2021-07-05T09:46:29.983Z"
   },
   {
    "duration": -587,
    "start_time": "2021-07-05T09:46:29.989Z"
   },
   {
    "duration": -592,
    "start_time": "2021-07-05T09:46:29.995Z"
   },
   {
    "duration": -597,
    "start_time": "2021-07-05T09:46:30.001Z"
   },
   {
    "duration": -603,
    "start_time": "2021-07-05T09:46:30.008Z"
   },
   {
    "duration": -608,
    "start_time": "2021-07-05T09:46:30.014Z"
   },
   {
    "duration": -615,
    "start_time": "2021-07-05T09:46:30.022Z"
   },
   {
    "duration": -620,
    "start_time": "2021-07-05T09:46:30.028Z"
   },
   {
    "duration": -640,
    "start_time": "2021-07-05T09:46:30.049Z"
   },
   {
    "duration": -645,
    "start_time": "2021-07-05T09:46:30.055Z"
   },
   {
    "duration": -650,
    "start_time": "2021-07-05T09:46:30.062Z"
   },
   {
    "duration": -654,
    "start_time": "2021-07-05T09:46:30.068Z"
   },
   {
    "duration": -660,
    "start_time": "2021-07-05T09:46:30.075Z"
   },
   {
    "duration": -665,
    "start_time": "2021-07-05T09:46:30.082Z"
   },
   {
    "duration": -670,
    "start_time": "2021-07-05T09:46:30.088Z"
   },
   {
    "duration": -674,
    "start_time": "2021-07-05T09:46:30.094Z"
   },
   {
    "duration": -682,
    "start_time": "2021-07-05T09:46:30.104Z"
   },
   {
    "duration": -654,
    "start_time": "2021-07-05T09:46:30.110Z"
   },
   {
    "duration": 1533,
    "start_time": "2021-07-05T09:47:01.869Z"
   },
   {
    "duration": 1245,
    "start_time": "2021-07-05T09:47:15.512Z"
   },
   {
    "duration": 691,
    "start_time": "2021-07-05T09:49:08.914Z"
   },
   {
    "duration": 669,
    "start_time": "2021-07-05T09:49:35.198Z"
   },
   {
    "duration": 790,
    "start_time": "2021-07-05T09:50:38.922Z"
   },
   {
    "duration": 2023,
    "start_time": "2021-07-05T09:50:55.376Z"
   },
   {
    "duration": 2034,
    "start_time": "2021-07-05T09:51:18.218Z"
   },
   {
    "duration": 1611,
    "start_time": "2021-07-05T09:51:42.079Z"
   },
   {
    "duration": 4,
    "start_time": "2021-07-05T09:52:29.899Z"
   },
   {
    "duration": 1428,
    "start_time": "2021-07-05T09:52:31.675Z"
   },
   {
    "duration": 1077,
    "start_time": "2021-07-05T14:52:40.593Z"
   },
   {
    "duration": 641,
    "start_time": "2021-07-05T14:52:46.675Z"
   },
   {
    "duration": 21,
    "start_time": "2021-07-05T14:52:49.302Z"
   },
   {
    "duration": 18,
    "start_time": "2021-07-05T15:06:19.553Z"
   },
   {
    "duration": 18,
    "start_time": "2021-07-05T15:06:30.284Z"
   },
   {
    "duration": 18,
    "start_time": "2021-07-05T15:06:37.601Z"
   },
   {
    "duration": 20,
    "start_time": "2021-07-05T15:08:47.258Z"
   },
   {
    "duration": 1095,
    "start_time": "2021-07-05T15:08:54.935Z"
   },
   {
    "duration": 668,
    "start_time": "2021-07-05T15:08:56.035Z"
   },
   {
    "duration": 329,
    "start_time": "2021-07-05T15:08:56.704Z"
   },
   {
    "duration": 46547,
    "start_time": "2021-07-05T15:08:10.489Z"
   },
   {
    "duration": 46544,
    "start_time": "2021-07-05T15:08:10.493Z"
   },
   {
    "duration": 46541,
    "start_time": "2021-07-05T15:08:10.497Z"
   },
   {
    "duration": 46538,
    "start_time": "2021-07-05T15:08:10.501Z"
   },
   {
    "duration": 46536,
    "start_time": "2021-07-05T15:08:10.504Z"
   },
   {
    "duration": 46532,
    "start_time": "2021-07-05T15:08:10.509Z"
   },
   {
    "duration": 46530,
    "start_time": "2021-07-05T15:08:10.512Z"
   },
   {
    "duration": 46528,
    "start_time": "2021-07-05T15:08:10.515Z"
   },
   {
    "duration": 46523,
    "start_time": "2021-07-05T15:08:10.521Z"
   },
   {
    "duration": 46521,
    "start_time": "2021-07-05T15:08:10.524Z"
   },
   {
    "duration": 46518,
    "start_time": "2021-07-05T15:08:10.527Z"
   },
   {
    "duration": 46516,
    "start_time": "2021-07-05T15:08:10.530Z"
   },
   {
    "duration": 46512,
    "start_time": "2021-07-05T15:08:10.535Z"
   },
   {
    "duration": 46510,
    "start_time": "2021-07-05T15:08:10.538Z"
   },
   {
    "duration": 46508,
    "start_time": "2021-07-05T15:08:10.541Z"
   },
   {
    "duration": 46505,
    "start_time": "2021-07-05T15:08:10.545Z"
   },
   {
    "duration": 46503,
    "start_time": "2021-07-05T15:08:10.548Z"
   },
   {
    "duration": 46501,
    "start_time": "2021-07-05T15:08:10.551Z"
   },
   {
    "duration": 46498,
    "start_time": "2021-07-05T15:08:10.555Z"
   },
   {
    "duration": 46496,
    "start_time": "2021-07-05T15:08:10.558Z"
   },
   {
    "duration": 46493,
    "start_time": "2021-07-05T15:08:10.562Z"
   },
   {
    "duration": 46491,
    "start_time": "2021-07-05T15:08:10.565Z"
   },
   {
    "duration": 46489,
    "start_time": "2021-07-05T15:08:10.568Z"
   },
   {
    "duration": 46487,
    "start_time": "2021-07-05T15:08:10.571Z"
   },
   {
    "duration": 46484,
    "start_time": "2021-07-05T15:08:10.575Z"
   },
   {
    "duration": 46481,
    "start_time": "2021-07-05T15:08:10.578Z"
   },
   {
    "duration": 46471,
    "start_time": "2021-07-05T15:08:10.589Z"
   },
   {
    "duration": 46469,
    "start_time": "2021-07-05T15:08:10.592Z"
   },
   {
    "duration": 46466,
    "start_time": "2021-07-05T15:08:10.596Z"
   },
   {
    "duration": 46464,
    "start_time": "2021-07-05T15:08:10.599Z"
   },
   {
    "duration": 46461,
    "start_time": "2021-07-05T15:08:10.603Z"
   },
   {
    "duration": 46459,
    "start_time": "2021-07-05T15:08:10.606Z"
   },
   {
    "duration": 46457,
    "start_time": "2021-07-05T15:08:10.609Z"
   },
   {
    "duration": 46454,
    "start_time": "2021-07-05T15:08:10.613Z"
   },
   {
    "duration": 46451,
    "start_time": "2021-07-05T15:08:10.617Z"
   },
   {
    "duration": 46449,
    "start_time": "2021-07-05T15:08:10.620Z"
   },
   {
    "duration": 46447,
    "start_time": "2021-07-05T15:08:10.623Z"
   },
   {
    "duration": 1125,
    "start_time": "2021-07-05T15:09:18.083Z"
   },
   {
    "duration": 677,
    "start_time": "2021-07-05T15:09:19.209Z"
   },
   {
    "duration": 21,
    "start_time": "2021-07-05T15:09:19.890Z"
   },
   {
    "duration": 35,
    "start_time": "2021-07-05T15:09:19.912Z"
   },
   {
    "duration": 7,
    "start_time": "2021-07-05T15:09:19.949Z"
   },
   {
    "duration": 8,
    "start_time": "2021-07-05T15:09:19.957Z"
   },
   {
    "duration": 9,
    "start_time": "2021-07-05T15:09:19.968Z"
   },
   {
    "duration": 6,
    "start_time": "2021-07-05T15:09:19.980Z"
   },
   {
    "duration": 10,
    "start_time": "2021-07-05T15:09:19.988Z"
   },
   {
    "duration": 10,
    "start_time": "2021-07-05T15:09:19.999Z"
   },
   {
    "duration": 32,
    "start_time": "2021-07-05T15:09:20.011Z"
   },
   {
    "duration": 2,
    "start_time": "2021-07-05T15:09:20.045Z"
   },
   {
    "duration": 26,
    "start_time": "2021-07-05T15:09:20.049Z"
   },
   {
    "duration": 15,
    "start_time": "2021-07-05T15:09:20.077Z"
   },
   {
    "duration": 8,
    "start_time": "2021-07-05T15:09:20.094Z"
   },
   {
    "duration": 23,
    "start_time": "2021-07-05T15:09:20.103Z"
   },
   {
    "duration": 11,
    "start_time": "2021-07-05T15:09:20.128Z"
   },
   {
    "duration": 13,
    "start_time": "2021-07-05T15:09:20.141Z"
   },
   {
    "duration": 11,
    "start_time": "2021-07-05T15:09:20.156Z"
   },
   {
    "duration": 21,
    "start_time": "2021-07-05T15:09:20.169Z"
   },
   {
    "duration": 20,
    "start_time": "2021-07-05T15:09:20.192Z"
   },
   {
    "duration": 81,
    "start_time": "2021-07-05T15:09:20.215Z"
   },
   {
    "duration": 15,
    "start_time": "2021-07-05T15:09:20.298Z"
   },
   {
    "duration": 4,
    "start_time": "2021-07-05T15:09:20.315Z"
   },
   {
    "duration": 509,
    "start_time": "2021-07-05T15:09:20.321Z"
   },
   {
    "duration": 542,
    "start_time": "2021-07-05T15:09:20.840Z"
   },
   {
    "duration": 578,
    "start_time": "2021-07-05T15:09:21.383Z"
   },
   {
    "duration": 533,
    "start_time": "2021-07-05T15:09:21.963Z"
   },
   {
    "duration": 3,
    "start_time": "2021-07-05T15:09:22.497Z"
   },
   {
    "duration": 40,
    "start_time": "2021-07-05T15:09:22.501Z"
   },
   {
    "duration": 725,
    "start_time": "2021-07-05T15:09:22.542Z"
   },
   {
    "duration": 18,
    "start_time": "2021-07-05T15:09:23.269Z"
   },
   {
    "duration": 20,
    "start_time": "2021-07-05T15:09:23.289Z"
   },
   {
    "duration": 31,
    "start_time": "2021-07-05T15:09:23.311Z"
   },
   {
    "duration": 27,
    "start_time": "2021-07-05T15:09:23.344Z"
   },
   {
    "duration": 10,
    "start_time": "2021-07-05T15:09:23.372Z"
   },
   {
    "duration": 10,
    "start_time": "2021-07-05T15:09:23.384Z"
   },
   {
    "duration": 8,
    "start_time": "2021-07-05T15:09:23.395Z"
   },
   {
    "duration": 38,
    "start_time": "2021-07-05T15:09:23.404Z"
   },
   {
    "duration": 4,
    "start_time": "2021-07-05T15:09:23.444Z"
   },
   {
    "duration": 14,
    "start_time": "2021-07-05T15:10:09.753Z"
   },
   {
    "duration": 3,
    "start_time": "2021-07-05T15:10:13.005Z"
   },
   {
    "duration": 3,
    "start_time": "2021-07-05T15:10:15.636Z"
   },
   {
    "duration": 723,
    "start_time": "2021-07-05T15:11:09.125Z"
   },
   {
    "duration": 813,
    "start_time": "2021-07-05T15:11:29.372Z"
   },
   {
    "duration": 5,
    "start_time": "2021-07-05T15:12:55.719Z"
   },
   {
    "duration": 6380,
    "start_time": "2021-07-05T15:13:31.292Z"
   },
   {
    "duration": 5,
    "start_time": "2021-07-05T15:13:41.959Z"
   },
   {
    "duration": 4,
    "start_time": "2021-07-05T15:13:55.013Z"
   },
   {
    "duration": 1183,
    "start_time": "2021-07-05T20:38:54.172Z"
   },
   {
    "duration": 799,
    "start_time": "2021-07-05T20:38:55.357Z"
   },
   {
    "duration": 34,
    "start_time": "2021-07-05T20:38:56.158Z"
   },
   {
    "duration": 29,
    "start_time": "2021-07-05T20:38:56.195Z"
   },
   {
    "duration": 4,
    "start_time": "2021-07-05T20:38:56.226Z"
   },
   {
    "duration": 5,
    "start_time": "2021-07-05T20:38:56.231Z"
   },
   {
    "duration": 4,
    "start_time": "2021-07-05T20:38:56.238Z"
   },
   {
    "duration": 4,
    "start_time": "2021-07-05T20:38:56.244Z"
   },
   {
    "duration": 5,
    "start_time": "2021-07-05T20:38:56.287Z"
   },
   {
    "duration": 7,
    "start_time": "2021-07-05T20:38:56.295Z"
   },
   {
    "duration": 28,
    "start_time": "2021-07-05T20:38:56.304Z"
   },
   {
    "duration": 3,
    "start_time": "2021-07-05T20:38:56.333Z"
   },
   {
    "duration": 15,
    "start_time": "2021-07-05T20:38:56.338Z"
   },
   {
    "duration": 49,
    "start_time": "2021-07-05T20:38:56.354Z"
   },
   {
    "duration": 10,
    "start_time": "2021-07-05T20:38:56.407Z"
   },
   {
    "duration": 5,
    "start_time": "2021-07-05T20:38:56.419Z"
   },
   {
    "duration": 4,
    "start_time": "2021-07-05T20:38:56.426Z"
   },
   {
    "duration": 7,
    "start_time": "2021-07-05T20:38:56.431Z"
   },
   {
    "duration": 6,
    "start_time": "2021-07-05T20:38:56.439Z"
   },
   {
    "duration": 57,
    "start_time": "2021-07-05T20:38:56.447Z"
   },
   {
    "duration": 26,
    "start_time": "2021-07-05T20:38:56.508Z"
   },
   {
    "duration": 102,
    "start_time": "2021-07-05T20:38:56.535Z"
   },
   {
    "duration": 15,
    "start_time": "2021-07-05T20:38:56.640Z"
   },
   {
    "duration": 4,
    "start_time": "2021-07-05T20:38:56.658Z"
   },
   {
    "duration": 642,
    "start_time": "2021-07-05T20:38:56.664Z"
   },
   {
    "duration": 625,
    "start_time": "2021-07-05T20:38:57.308Z"
   },
   {
    "duration": 637,
    "start_time": "2021-07-05T20:38:57.934Z"
   },
   {
    "duration": 674,
    "start_time": "2021-07-05T20:38:58.573Z"
   },
   {
    "duration": 3,
    "start_time": "2021-07-05T20:38:59.250Z"
   },
   {
    "duration": 53,
    "start_time": "2021-07-05T20:38:59.255Z"
   },
   {
    "duration": 965,
    "start_time": "2021-07-05T20:38:59.310Z"
   },
   {
    "duration": 28,
    "start_time": "2021-07-05T20:39:00.277Z"
   },
   {
    "duration": 35,
    "start_time": "2021-07-05T20:39:00.307Z"
   },
   {
    "duration": 20,
    "start_time": "2021-07-05T20:39:00.344Z"
   },
   {
    "duration": 27,
    "start_time": "2021-07-05T20:39:00.366Z"
   },
   {
    "duration": 12,
    "start_time": "2021-07-05T20:39:00.395Z"
   },
   {
    "duration": 17,
    "start_time": "2021-07-05T20:39:00.409Z"
   },
   {
    "duration": 36,
    "start_time": "2021-07-05T20:39:00.428Z"
   },
   {
    "duration": 17,
    "start_time": "2021-07-05T20:39:00.465Z"
   },
   {
    "duration": 4,
    "start_time": "2021-07-05T20:53:54.815Z"
   },
   {
    "duration": 3,
    "start_time": "2021-07-05T20:53:57.532Z"
   },
   {
    "duration": 36,
    "start_time": "2021-07-05T20:56:20.606Z"
   },
   {
    "duration": 3,
    "start_time": "2021-07-05T20:58:53.999Z"
   },
   {
    "duration": 1988,
    "start_time": "2021-07-06T16:10:56.615Z"
   },
   {
    "duration": 311,
    "start_time": "2021-07-06T16:12:08.954Z"
   },
   {
    "duration": 5,
    "start_time": "2021-07-06T16:14:18.465Z"
   },
   {
    "duration": 1840,
    "start_time": "2021-07-06T16:14:28.152Z"
   },
   {
    "duration": 869,
    "start_time": "2021-07-06T16:14:29.994Z"
   },
   {
    "duration": 37,
    "start_time": "2021-07-06T16:14:30.866Z"
   },
   {
    "duration": 485,
    "start_time": "2021-07-06T16:14:30.906Z"
   },
   {
    "duration": 46211,
    "start_time": "2021-07-06T16:13:45.188Z"
   },
   {
    "duration": 46209,
    "start_time": "2021-07-06T16:13:45.192Z"
   },
   {
    "duration": 46207,
    "start_time": "2021-07-06T16:13:45.196Z"
   },
   {
    "duration": 46201,
    "start_time": "2021-07-06T16:13:45.204Z"
   },
   {
    "duration": 46199,
    "start_time": "2021-07-06T16:13:45.208Z"
   },
   {
    "duration": 46196,
    "start_time": "2021-07-06T16:13:45.213Z"
   },
   {
    "duration": 46193,
    "start_time": "2021-07-06T16:13:45.218Z"
   },
   {
    "duration": 46183,
    "start_time": "2021-07-06T16:13:45.230Z"
   },
   {
    "duration": 46181,
    "start_time": "2021-07-06T16:13:45.234Z"
   },
   {
    "duration": 46179,
    "start_time": "2021-07-06T16:13:45.238Z"
   },
   {
    "duration": 46177,
    "start_time": "2021-07-06T16:13:45.242Z"
   },
   {
    "duration": 46175,
    "start_time": "2021-07-06T16:13:45.246Z"
   },
   {
    "duration": 46172,
    "start_time": "2021-07-06T16:13:45.251Z"
   },
   {
    "duration": 46169,
    "start_time": "2021-07-06T16:13:45.256Z"
   },
   {
    "duration": 46167,
    "start_time": "2021-07-06T16:13:45.260Z"
   },
   {
    "duration": 46157,
    "start_time": "2021-07-06T16:13:45.272Z"
   },
   {
    "duration": 46154,
    "start_time": "2021-07-06T16:13:45.277Z"
   },
   {
    "duration": 46150,
    "start_time": "2021-07-06T16:13:45.282Z"
   },
   {
    "duration": 46177,
    "start_time": "2021-07-06T16:13:45.286Z"
   },
   {
    "duration": 46175,
    "start_time": "2021-07-06T16:13:45.290Z"
   },
   {
    "duration": 46173,
    "start_time": "2021-07-06T16:13:45.294Z"
   },
   {
    "duration": 46170,
    "start_time": "2021-07-06T16:13:45.299Z"
   },
   {
    "duration": 46167,
    "start_time": "2021-07-06T16:13:45.303Z"
   },
   {
    "duration": 46165,
    "start_time": "2021-07-06T16:13:45.307Z"
   },
   {
    "duration": 46163,
    "start_time": "2021-07-06T16:13:45.311Z"
   },
   {
    "duration": 46161,
    "start_time": "2021-07-06T16:13:45.315Z"
   },
   {
    "duration": 46157,
    "start_time": "2021-07-06T16:13:45.320Z"
   },
   {
    "duration": 46153,
    "start_time": "2021-07-06T16:13:45.325Z"
   },
   {
    "duration": 46151,
    "start_time": "2021-07-06T16:13:45.329Z"
   },
   {
    "duration": 46148,
    "start_time": "2021-07-06T16:13:45.333Z"
   },
   {
    "duration": 46086,
    "start_time": "2021-07-06T16:13:45.396Z"
   },
   {
    "duration": 46078,
    "start_time": "2021-07-06T16:13:45.406Z"
   },
   {
    "duration": 46075,
    "start_time": "2021-07-06T16:13:45.410Z"
   },
   {
    "duration": 46073,
    "start_time": "2021-07-06T16:13:45.414Z"
   },
   {
    "duration": 46070,
    "start_time": "2021-07-06T16:13:45.418Z"
   },
   {
    "duration": 46067,
    "start_time": "2021-07-06T16:13:45.422Z"
   },
   {
    "duration": 46025,
    "start_time": "2021-07-06T16:13:45.466Z"
   },
   {
    "duration": 46022,
    "start_time": "2021-07-06T16:13:45.470Z"
   },
   {
    "duration": 1656,
    "start_time": "2021-07-06T16:20:04.230Z"
   },
   {
    "duration": 873,
    "start_time": "2021-07-06T16:20:05.889Z"
   },
   {
    "duration": 37,
    "start_time": "2021-07-06T16:20:06.765Z"
   },
   {
    "duration": 5,
    "start_time": "2021-07-06T16:20:06.804Z"
   },
   {
    "duration": 10,
    "start_time": "2021-07-06T16:20:06.811Z"
   },
   {
    "duration": 43,
    "start_time": "2021-07-06T16:20:06.823Z"
   },
   {
    "duration": 5,
    "start_time": "2021-07-06T16:20:06.869Z"
   },
   {
    "duration": 5,
    "start_time": "2021-07-06T16:20:06.878Z"
   },
   {
    "duration": 8,
    "start_time": "2021-07-06T16:20:06.886Z"
   },
   {
    "duration": 69,
    "start_time": "2021-07-06T16:20:06.896Z"
   },
   {
    "duration": 3,
    "start_time": "2021-07-06T16:20:06.968Z"
   },
   {
    "duration": 14,
    "start_time": "2021-07-06T16:20:06.974Z"
   },
   {
    "duration": 18,
    "start_time": "2021-07-06T16:20:06.990Z"
   },
   {
    "duration": 11,
    "start_time": "2021-07-06T16:20:07.010Z"
   },
   {
    "duration": 41,
    "start_time": "2021-07-06T16:20:07.023Z"
   },
   {
    "duration": 8,
    "start_time": "2021-07-06T16:20:07.066Z"
   },
   {
    "duration": 8,
    "start_time": "2021-07-06T16:20:07.077Z"
   },
   {
    "duration": 8,
    "start_time": "2021-07-06T16:20:07.087Z"
   },
   {
    "duration": 23,
    "start_time": "2021-07-06T16:20:07.097Z"
   },
   {
    "duration": 48,
    "start_time": "2021-07-06T16:20:07.122Z"
   },
   {
    "duration": 118,
    "start_time": "2021-07-06T16:20:07.173Z"
   },
   {
    "duration": 21,
    "start_time": "2021-07-06T16:20:07.293Z"
   },
   {
    "duration": 7,
    "start_time": "2021-07-06T16:20:07.319Z"
   },
   {
    "duration": 941,
    "start_time": "2021-07-06T16:20:07.329Z"
   },
   {
    "duration": 931,
    "start_time": "2021-07-06T16:20:08.272Z"
   },
   {
    "duration": 1026,
    "start_time": "2021-07-06T16:20:09.205Z"
   },
   {
    "duration": 863,
    "start_time": "2021-07-06T16:20:10.235Z"
   },
   {
    "duration": 4,
    "start_time": "2021-07-06T16:20:11.101Z"
   },
   {
    "duration": 74,
    "start_time": "2021-07-06T16:20:11.109Z"
   },
   {
    "duration": 1470,
    "start_time": "2021-07-06T16:20:11.186Z"
   },
   {
    "duration": 40,
    "start_time": "2021-07-06T16:20:12.663Z"
   },
   {
    "duration": 58,
    "start_time": "2021-07-06T16:20:12.707Z"
   },
   {
    "duration": 33,
    "start_time": "2021-07-06T16:20:12.768Z"
   },
   {
    "duration": 14,
    "start_time": "2021-07-06T16:20:12.803Z"
   },
   {
    "duration": 47,
    "start_time": "2021-07-06T16:20:12.819Z"
   },
   {
    "duration": 18,
    "start_time": "2021-07-06T16:20:12.869Z"
   },
   {
    "duration": 5,
    "start_time": "2021-07-06T16:20:12.889Z"
   },
   {
    "duration": 7,
    "start_time": "2021-07-06T16:20:12.897Z"
   },
   {
    "duration": 55,
    "start_time": "2021-07-06T16:20:12.907Z"
   },
   {
    "duration": 6,
    "start_time": "2021-07-06T16:20:12.964Z"
   },
   {
    "duration": 474,
    "start_time": "2021-07-06T16:20:12.972Z"
   },
   {
    "duration": 6,
    "start_time": "2021-07-06T16:26:24.294Z"
   },
   {
    "duration": 1099,
    "start_time": "2021-07-07T06:50:44.214Z"
   },
   {
    "duration": 672,
    "start_time": "2021-07-07T06:50:45.315Z"
   },
   {
    "duration": 20,
    "start_time": "2021-07-07T06:50:45.992Z"
   },
   {
    "duration": 4,
    "start_time": "2021-07-07T06:50:46.013Z"
   },
   {
    "duration": 7,
    "start_time": "2021-07-07T06:50:46.018Z"
   },
   {
    "duration": 7,
    "start_time": "2021-07-07T06:50:46.027Z"
   },
   {
    "duration": 9,
    "start_time": "2021-07-07T06:50:46.036Z"
   },
   {
    "duration": 13,
    "start_time": "2021-07-07T06:50:46.047Z"
   },
   {
    "duration": 12,
    "start_time": "2021-07-07T06:50:46.061Z"
   },
   {
    "duration": 23,
    "start_time": "2021-07-07T06:50:46.075Z"
   },
   {
    "duration": 2,
    "start_time": "2021-07-07T06:50:46.099Z"
   },
   {
    "duration": 11,
    "start_time": "2021-07-07T06:50:46.103Z"
   },
   {
    "duration": 15,
    "start_time": "2021-07-07T06:50:46.115Z"
   },
   {
    "duration": 7,
    "start_time": "2021-07-07T06:50:46.131Z"
   },
   {
    "duration": 10,
    "start_time": "2021-07-07T06:50:46.139Z"
   },
   {
    "duration": 12,
    "start_time": "2021-07-07T06:50:46.151Z"
   },
   {
    "duration": 10,
    "start_time": "2021-07-07T06:50:46.164Z"
   },
   {
    "duration": 7,
    "start_time": "2021-07-07T06:50:46.175Z"
   },
   {
    "duration": 21,
    "start_time": "2021-07-07T06:50:46.184Z"
   },
   {
    "duration": 21,
    "start_time": "2021-07-07T06:50:46.206Z"
   },
   {
    "duration": 87,
    "start_time": "2021-07-07T06:50:46.229Z"
   },
   {
    "duration": 15,
    "start_time": "2021-07-07T06:50:46.318Z"
   },
   {
    "duration": 4,
    "start_time": "2021-07-07T06:50:46.336Z"
   },
   {
    "duration": 496,
    "start_time": "2021-07-07T06:50:46.342Z"
   },
   {
    "duration": 476,
    "start_time": "2021-07-07T06:50:46.839Z"
   },
   {
    "duration": 567,
    "start_time": "2021-07-07T06:50:47.317Z"
   },
   {
    "duration": 445,
    "start_time": "2021-07-07T06:50:47.885Z"
   },
   {
    "duration": 3,
    "start_time": "2021-07-07T06:50:48.332Z"
   },
   {
    "duration": 33,
    "start_time": "2021-07-07T06:50:48.337Z"
   },
   {
    "duration": 696,
    "start_time": "2021-07-07T06:50:48.371Z"
   },
   {
    "duration": 26,
    "start_time": "2021-07-07T06:50:49.068Z"
   },
   {
    "duration": 20,
    "start_time": "2021-07-07T06:50:49.095Z"
   },
   {
    "duration": 19,
    "start_time": "2021-07-07T06:50:49.117Z"
   },
   {
    "duration": 8,
    "start_time": "2021-07-07T06:50:49.137Z"
   },
   {
    "duration": 11,
    "start_time": "2021-07-07T06:50:49.146Z"
   },
   {
    "duration": 44,
    "start_time": "2021-07-07T06:50:49.158Z"
   },
   {
    "duration": 4,
    "start_time": "2021-07-07T06:50:49.203Z"
   },
   {
    "duration": 6,
    "start_time": "2021-07-07T06:50:49.208Z"
   },
   {
    "duration": 5,
    "start_time": "2021-07-07T06:50:49.215Z"
   },
   {
    "duration": 5,
    "start_time": "2021-07-07T06:50:49.222Z"
   },
   {
    "duration": 307,
    "start_time": "2021-07-07T06:50:49.228Z"
   },
   {
    "duration": 3,
    "start_time": "2021-07-07T07:13:36.789Z"
   },
   {
    "duration": 642,
    "start_time": "2021-07-07T07:13:37.790Z"
   },
   {
    "duration": 18,
    "start_time": "2021-07-07T07:13:39.554Z"
   },
   {
    "duration": 4,
    "start_time": "2021-07-07T07:13:41.024Z"
   },
   {
    "duration": 5,
    "start_time": "2021-07-07T07:13:41.661Z"
   },
   {
    "duration": 4,
    "start_time": "2021-07-07T07:13:44.030Z"
   },
   {
    "duration": 2,
    "start_time": "2021-07-07T07:22:48.221Z"
   },
   {
    "duration": 5,
    "start_time": "2021-07-07T07:22:50.528Z"
   },
   {
    "duration": 3,
    "start_time": "2021-07-07T07:23:13.241Z"
   },
   {
    "duration": 227,
    "start_time": "2021-07-07T07:27:49.131Z"
   },
   {
    "duration": 217,
    "start_time": "2021-07-07T07:28:08.613Z"
   },
   {
    "duration": 5,
    "start_time": "2021-07-07T07:28:19.931Z"
   },
   {
    "duration": 6,
    "start_time": "2021-07-07T07:28:25.050Z"
   },
   {
    "duration": 7,
    "start_time": "2021-07-07T07:28:29.778Z"
   },
   {
    "duration": 273,
    "start_time": "2021-07-07T07:32:53.300Z"
   },
   {
    "duration": 8,
    "start_time": "2021-07-07T07:33:40.273Z"
   },
   {
    "duration": 5,
    "start_time": "2021-07-07T07:33:49.080Z"
   },
   {
    "duration": 10,
    "start_time": "2021-07-07T07:33:51.162Z"
   },
   {
    "duration": 8,
    "start_time": "2021-07-07T07:33:57.907Z"
   },
   {
    "duration": 4,
    "start_time": "2021-07-07T07:34:10.050Z"
   },
   {
    "duration": 3,
    "start_time": "2021-07-07T07:44:05.174Z"
   },
   {
    "duration": 4,
    "start_time": "2021-07-07T07:44:08.294Z"
   },
   {
    "duration": 4,
    "start_time": "2021-07-07T07:44:18.847Z"
   },
   {
    "duration": 13,
    "start_time": "2021-07-07T07:46:33.638Z"
   },
   {
    "duration": 25,
    "start_time": "2021-07-07T07:46:51.166Z"
   },
   {
    "duration": 18,
    "start_time": "2021-07-07T07:46:58.206Z"
   },
   {
    "duration": 25768,
    "start_time": "2021-07-07T08:04:26.893Z"
   },
   {
    "duration": 4,
    "start_time": "2021-07-07T08:06:08.167Z"
   },
   {
    "duration": 967,
    "start_time": "2021-07-07T08:06:30.837Z"
   },
   {
    "duration": 657,
    "start_time": "2021-07-07T08:06:31.806Z"
   },
   {
    "duration": 26,
    "start_time": "2021-07-07T08:06:32.465Z"
   },
   {
    "duration": 4,
    "start_time": "2021-07-07T08:06:32.493Z"
   },
   {
    "duration": 7,
    "start_time": "2021-07-07T08:06:32.498Z"
   },
   {
    "duration": 9,
    "start_time": "2021-07-07T08:06:32.506Z"
   },
   {
    "duration": 8,
    "start_time": "2021-07-07T08:06:32.516Z"
   },
   {
    "duration": 5,
    "start_time": "2021-07-07T08:06:32.527Z"
   },
   {
    "duration": 7,
    "start_time": "2021-07-07T08:06:32.534Z"
   },
   {
    "duration": 20,
    "start_time": "2021-07-07T08:06:32.542Z"
   },
   {
    "duration": 2,
    "start_time": "2021-07-07T08:06:32.564Z"
   },
   {
    "duration": 5,
    "start_time": "2021-07-07T08:06:32.591Z"
   },
   {
    "duration": 14,
    "start_time": "2021-07-07T08:06:32.597Z"
   },
   {
    "duration": 9,
    "start_time": "2021-07-07T08:06:32.612Z"
   },
   {
    "duration": 17,
    "start_time": "2021-07-07T08:06:32.622Z"
   },
   {
    "duration": 9,
    "start_time": "2021-07-07T08:06:32.641Z"
   },
   {
    "duration": 9,
    "start_time": "2021-07-07T08:06:32.651Z"
   },
   {
    "duration": 10,
    "start_time": "2021-07-07T08:06:32.661Z"
   },
   {
    "duration": 9,
    "start_time": "2021-07-07T08:06:32.673Z"
   },
   {
    "duration": 18,
    "start_time": "2021-07-07T08:06:32.683Z"
   },
   {
    "duration": 27,
    "start_time": "2021-07-07T08:06:32.703Z"
   },
   {
    "duration": 3,
    "start_time": "2021-07-07T08:06:32.732Z"
   },
   {
    "duration": 20470,
    "start_time": "2021-07-07T08:06:32.738Z"
   },
   {
    "duration": 3,
    "start_time": "2021-07-07T08:06:53.210Z"
   },
   {
    "duration": 25,
    "start_time": "2021-07-07T08:06:53.215Z"
   },
   {
    "duration": 555,
    "start_time": "2021-07-07T08:06:53.242Z"
   },
   {
    "duration": 524,
    "start_time": "2021-07-07T08:06:53.798Z"
   },
   {
    "duration": 588,
    "start_time": "2021-07-07T08:06:54.324Z"
   },
   {
    "duration": 578,
    "start_time": "2021-07-07T08:06:54.913Z"
   },
   {
    "duration": 47008,
    "start_time": "2021-07-07T08:06:08.485Z"
   },
   {
    "duration": 47000,
    "start_time": "2021-07-07T08:06:08.494Z"
   },
   {
    "duration": 46991,
    "start_time": "2021-07-07T08:06:08.504Z"
   },
   {
    "duration": 46982,
    "start_time": "2021-07-07T08:06:08.514Z"
   },
   {
    "duration": 46972,
    "start_time": "2021-07-07T08:06:08.524Z"
   },
   {
    "duration": 46970,
    "start_time": "2021-07-07T08:06:08.528Z"
   },
   {
    "duration": 46967,
    "start_time": "2021-07-07T08:06:08.532Z"
   },
   {
    "duration": 46964,
    "start_time": "2021-07-07T08:06:08.536Z"
   },
   {
    "duration": 46961,
    "start_time": "2021-07-07T08:06:08.540Z"
   },
   {
    "duration": 46958,
    "start_time": "2021-07-07T08:06:08.544Z"
   },
   {
    "duration": 46955,
    "start_time": "2021-07-07T08:06:08.548Z"
   },
   {
    "duration": 46952,
    "start_time": "2021-07-07T08:06:08.551Z"
   },
   {
    "duration": 46950,
    "start_time": "2021-07-07T08:06:08.554Z"
   },
   {
    "duration": 46947,
    "start_time": "2021-07-07T08:06:08.558Z"
   },
   {
    "duration": 7,
    "start_time": "2021-07-07T08:20:32.936Z"
   },
   {
    "duration": 30,
    "start_time": "2021-07-07T08:20:44.577Z"
   },
   {
    "duration": 27,
    "start_time": "2021-07-07T08:22:37.880Z"
   },
   {
    "duration": 227,
    "start_time": "2021-07-07T08:23:01.103Z"
   },
   {
    "duration": 5,
    "start_time": "2021-07-07T08:23:44.902Z"
   },
   {
    "duration": 1523,
    "start_time": "2021-07-07T08:24:21.672Z"
   },
   {
    "duration": 3,
    "start_time": "2021-07-07T08:28:21.496Z"
   },
   {
    "duration": 507,
    "start_time": "2021-07-07T08:29:42.792Z"
   },
   {
    "duration": 3,
    "start_time": "2021-07-07T08:30:20.554Z"
   },
   {
    "duration": 11,
    "start_time": "2021-07-07T08:30:23.450Z"
   },
   {
    "duration": 21,
    "start_time": "2021-07-07T08:30:27.862Z"
   },
   {
    "duration": 5,
    "start_time": "2021-07-07T08:30:41.722Z"
   },
   {
    "duration": 5,
    "start_time": "2021-07-07T08:30:48.041Z"
   },
   {
    "duration": 468,
    "start_time": "2021-07-07T08:31:09.383Z"
   },
   {
    "duration": 9,
    "start_time": "2021-07-07T08:31:17.331Z"
   },
   {
    "duration": 5,
    "start_time": "2021-07-07T08:31:19.510Z"
   },
   {
    "duration": 3,
    "start_time": "2021-07-07T08:34:31.641Z"
   },
   {
    "duration": 522,
    "start_time": "2021-07-07T08:35:10.228Z"
   },
   {
    "duration": 4,
    "start_time": "2021-07-07T08:35:41.636Z"
   },
   {
    "duration": 19,
    "start_time": "2021-07-07T08:35:50.733Z"
   },
   {
    "duration": 5,
    "start_time": "2021-07-07T08:35:57.332Z"
   },
   {
    "duration": 5,
    "start_time": "2021-07-07T08:38:04.554Z"
   },
   {
    "duration": 2,
    "start_time": "2021-07-07T08:38:22.740Z"
   },
   {
    "duration": 3,
    "start_time": "2021-07-07T08:38:51.220Z"
   },
   {
    "duration": 31,
    "start_time": "2021-07-07T08:38:53.316Z"
   },
   {
    "duration": 24,
    "start_time": "2021-07-07T08:38:55.500Z"
   },
   {
    "duration": 20,
    "start_time": "2021-07-07T08:39:08.553Z"
   },
   {
    "duration": 5,
    "start_time": "2021-07-07T08:41:02.499Z"
   },
   {
    "duration": 476,
    "start_time": "2021-07-07T08:41:04.395Z"
   },
   {
    "duration": 469,
    "start_time": "2021-07-07T08:41:07.827Z"
   },
   {
    "duration": 572,
    "start_time": "2021-07-07T08:41:11.339Z"
   },
   {
    "duration": 478,
    "start_time": "2021-07-07T08:41:54.125Z"
   },
   {
    "duration": 3,
    "start_time": "2021-07-07T08:42:08.629Z"
   },
   {
    "duration": 31,
    "start_time": "2021-07-07T08:42:19.891Z"
   },
   {
    "duration": 683,
    "start_time": "2021-07-07T08:42:31.571Z"
   },
   {
    "duration": 17,
    "start_time": "2021-07-07T08:42:45.099Z"
   },
   {
    "duration": 23,
    "start_time": "2021-07-07T08:42:49.771Z"
   },
   {
    "duration": 18,
    "start_time": "2021-07-07T08:43:13.492Z"
   },
   {
    "duration": 8,
    "start_time": "2021-07-07T08:43:16.819Z"
   },
   {
    "duration": 278,
    "start_time": "2021-07-07T08:43:19.410Z"
   },
   {
    "duration": 7,
    "start_time": "2021-07-07T08:43:25.620Z"
   },
   {
    "duration": 4,
    "start_time": "2021-07-07T08:45:10.306Z"
   },
   {
    "duration": 7,
    "start_time": "2021-07-07T08:45:29.812Z"
   },
   {
    "duration": 6,
    "start_time": "2021-07-07T08:45:53.430Z"
   },
   {
    "duration": 314,
    "start_time": "2021-07-07T08:46:28.353Z"
   },
   {
    "duration": 225,
    "start_time": "2021-07-07T08:46:34.465Z"
   },
   {
    "duration": 14,
    "start_time": "2021-07-07T08:46:39.947Z"
   },
   {
    "duration": 3,
    "start_time": "2021-07-07T08:46:42.278Z"
   },
   {
    "duration": 3,
    "start_time": "2021-07-07T08:46:48.746Z"
   },
   {
    "duration": 1048,
    "start_time": "2021-07-07T08:47:17.856Z"
   },
   {
    "duration": 659,
    "start_time": "2021-07-07T08:47:18.906Z"
   },
   {
    "duration": 28,
    "start_time": "2021-07-07T08:47:19.567Z"
   },
   {
    "duration": 3,
    "start_time": "2021-07-07T08:47:19.597Z"
   },
   {
    "duration": 7,
    "start_time": "2021-07-07T08:47:19.602Z"
   },
   {
    "duration": 7,
    "start_time": "2021-07-07T08:47:19.610Z"
   },
   {
    "duration": 7,
    "start_time": "2021-07-07T08:47:19.619Z"
   },
   {
    "duration": 6,
    "start_time": "2021-07-07T08:47:19.629Z"
   },
   {
    "duration": 8,
    "start_time": "2021-07-07T08:47:19.636Z"
   },
   {
    "duration": 19,
    "start_time": "2021-07-07T08:47:19.645Z"
   },
   {
    "duration": 3,
    "start_time": "2021-07-07T08:47:19.665Z"
   },
   {
    "duration": 26,
    "start_time": "2021-07-07T08:47:19.669Z"
   },
   {
    "duration": 11,
    "start_time": "2021-07-07T08:47:19.697Z"
   },
   {
    "duration": 4,
    "start_time": "2021-07-07T08:47:19.709Z"
   },
   {
    "duration": 13,
    "start_time": "2021-07-07T08:47:19.715Z"
   },
   {
    "duration": 6,
    "start_time": "2021-07-07T08:47:19.730Z"
   },
   {
    "duration": 8,
    "start_time": "2021-07-07T08:47:19.737Z"
   },
   {
    "duration": 15,
    "start_time": "2021-07-07T08:47:19.747Z"
   },
   {
    "duration": 10,
    "start_time": "2021-07-07T08:47:19.763Z"
   },
   {
    "duration": 27,
    "start_time": "2021-07-07T08:47:19.775Z"
   },
   {
    "duration": 32,
    "start_time": "2021-07-07T08:47:19.803Z"
   },
   {
    "duration": 6,
    "start_time": "2021-07-07T08:47:19.837Z"
   },
   {
    "duration": 19219,
    "start_time": "2021-07-07T08:47:19.847Z"
   },
   {
    "duration": 3,
    "start_time": "2021-07-07T08:47:39.069Z"
   },
   {
    "duration": 322,
    "start_time": "2021-07-07T08:47:39.074Z"
   },
   {
    "duration": 46972,
    "start_time": "2021-07-07T08:46:52.425Z"
   },
   {
    "duration": 46969,
    "start_time": "2021-07-07T08:46:52.430Z"
   },
   {
    "duration": 46965,
    "start_time": "2021-07-07T08:46:52.435Z"
   },
   {
    "duration": 46962,
    "start_time": "2021-07-07T08:46:52.439Z"
   },
   {
    "duration": 46961,
    "start_time": "2021-07-07T08:46:52.442Z"
   },
   {
    "duration": 46957,
    "start_time": "2021-07-07T08:46:52.447Z"
   },
   {
    "duration": 46956,
    "start_time": "2021-07-07T08:46:52.450Z"
   },
   {
    "duration": 46953,
    "start_time": "2021-07-07T08:46:52.454Z"
   },
   {
    "duration": 46944,
    "start_time": "2021-07-07T08:46:52.464Z"
   },
   {
    "duration": 46942,
    "start_time": "2021-07-07T08:46:52.468Z"
   },
   {
    "duration": 46939,
    "start_time": "2021-07-07T08:46:52.472Z"
   },
   {
    "duration": 46935,
    "start_time": "2021-07-07T08:46:52.477Z"
   },
   {
    "duration": 46932,
    "start_time": "2021-07-07T08:46:52.481Z"
   },
   {
    "duration": 46930,
    "start_time": "2021-07-07T08:46:52.485Z"
   },
   {
    "duration": 46928,
    "start_time": "2021-07-07T08:46:52.488Z"
   },
   {
    "duration": 46925,
    "start_time": "2021-07-07T08:46:52.492Z"
   },
   {
    "duration": 46923,
    "start_time": "2021-07-07T08:46:52.495Z"
   },
   {
    "duration": 46920,
    "start_time": "2021-07-07T08:46:52.499Z"
   },
   {
    "duration": 46917,
    "start_time": "2021-07-07T08:46:52.503Z"
   },
   {
    "duration": 46914,
    "start_time": "2021-07-07T08:46:52.507Z"
   },
   {
    "duration": 46912,
    "start_time": "2021-07-07T08:46:52.510Z"
   },
   {
    "duration": 46908,
    "start_time": "2021-07-07T08:46:52.515Z"
   },
   {
    "duration": 46906,
    "start_time": "2021-07-07T08:46:52.518Z"
   },
   {
    "duration": 3,
    "start_time": "2021-07-07T08:51:47.948Z"
   },
   {
    "duration": 5,
    "start_time": "2021-07-07T08:51:51.214Z"
   },
   {
    "duration": 615,
    "start_time": "2021-07-07T08:51:53.054Z"
   },
   {
    "duration": 508,
    "start_time": "2021-07-07T08:51:54.326Z"
   },
   {
    "duration": 568,
    "start_time": "2021-07-07T08:51:55.462Z"
   },
   {
    "duration": 455,
    "start_time": "2021-07-07T08:51:57.367Z"
   },
   {
    "duration": 3,
    "start_time": "2021-07-07T08:51:59.638Z"
   },
   {
    "duration": 37,
    "start_time": "2021-07-07T08:52:00.630Z"
   },
   {
    "duration": 835,
    "start_time": "2021-07-07T08:52:01.286Z"
   },
   {
    "duration": 18,
    "start_time": "2021-07-07T08:52:02.122Z"
   },
   {
    "duration": 22,
    "start_time": "2021-07-07T08:52:02.398Z"
   },
   {
    "duration": 19,
    "start_time": "2021-07-07T08:52:03.302Z"
   },
   {
    "duration": 8,
    "start_time": "2021-07-07T08:52:04.158Z"
   },
   {
    "duration": 9,
    "start_time": "2021-07-07T08:52:05.158Z"
   },
   {
    "duration": 15,
    "start_time": "2021-07-07T08:52:06.046Z"
   },
   {
    "duration": 4,
    "start_time": "2021-07-07T08:52:08.006Z"
   },
   {
    "duration": 4,
    "start_time": "2021-07-07T08:52:09.454Z"
   },
   {
    "duration": 22,
    "start_time": "2021-07-07T08:54:26.286Z"
   },
   {
    "duration": 826,
    "start_time": "2021-07-07T08:54:46.388Z"
   },
   {
    "duration": 17,
    "start_time": "2021-07-07T08:55:21.765Z"
   },
   {
    "duration": 17,
    "start_time": "2021-07-07T08:55:31.195Z"
   },
   {
    "duration": 7,
    "start_time": "2021-07-07T08:57:57.942Z"
   },
   {
    "duration": 3,
    "start_time": "2021-07-07T08:58:13.957Z"
   },
   {
    "duration": 1539,
    "start_time": "2021-07-07T15:05:41.164Z"
   },
   {
    "duration": 8248,
    "start_time": "2021-07-07T15:05:42.705Z"
   },
   {
    "duration": 40,
    "start_time": "2021-07-07T15:05:50.957Z"
   },
   {
    "duration": 5,
    "start_time": "2021-07-07T15:05:51.000Z"
   },
   {
    "duration": 10,
    "start_time": "2021-07-07T15:05:51.007Z"
   },
   {
    "duration": 43,
    "start_time": "2021-07-07T15:05:51.019Z"
   },
   {
    "duration": 10,
    "start_time": "2021-07-07T15:05:51.064Z"
   },
   {
    "duration": 7,
    "start_time": "2021-07-07T15:05:51.079Z"
   },
   {
    "duration": 16,
    "start_time": "2021-07-07T15:05:51.089Z"
   },
   {
    "duration": 49,
    "start_time": "2021-07-07T15:05:51.107Z"
   },
   {
    "duration": 4,
    "start_time": "2021-07-07T15:05:51.158Z"
   },
   {
    "duration": 11,
    "start_time": "2021-07-07T15:05:51.165Z"
   },
   {
    "duration": 25,
    "start_time": "2021-07-07T15:05:51.179Z"
   },
   {
    "duration": 5,
    "start_time": "2021-07-07T15:05:51.207Z"
   },
   {
    "duration": 21,
    "start_time": "2021-07-07T15:05:51.214Z"
   },
   {
    "duration": 8,
    "start_time": "2021-07-07T15:05:51.255Z"
   },
   {
    "duration": 6,
    "start_time": "2021-07-07T15:05:51.266Z"
   },
   {
    "duration": 10,
    "start_time": "2021-07-07T15:05:51.274Z"
   },
   {
    "duration": 15,
    "start_time": "2021-07-07T15:05:51.287Z"
   },
   {
    "duration": 63,
    "start_time": "2021-07-07T15:05:51.306Z"
   },
   {
    "duration": 28,
    "start_time": "2021-07-07T15:05:51.372Z"
   },
   {
    "duration": 4,
    "start_time": "2021-07-07T15:05:51.403Z"
   },
   {
    "duration": 40434,
    "start_time": "2021-07-07T15:05:51.412Z"
   },
   {
    "duration": 7,
    "start_time": "2021-07-07T15:06:31.853Z"
   },
   {
    "duration": 1096,
    "start_time": "2021-07-07T15:06:31.863Z"
   },
   {
    "duration": 948,
    "start_time": "2021-07-07T15:06:32.961Z"
   },
   {
    "duration": 1396,
    "start_time": "2021-07-07T15:06:33.911Z"
   },
   {
    "duration": 879,
    "start_time": "2021-07-07T15:06:35.310Z"
   },
   {
    "duration": 4,
    "start_time": "2021-07-07T15:06:36.191Z"
   },
   {
    "duration": 69,
    "start_time": "2021-07-07T15:06:36.198Z"
   },
   {
    "duration": 1399,
    "start_time": "2021-07-07T15:06:36.270Z"
   },
   {
    "duration": 30,
    "start_time": "2021-07-07T15:06:37.672Z"
   },
   {
    "duration": 59,
    "start_time": "2021-07-07T15:06:37.704Z"
   },
   {
    "duration": 35,
    "start_time": "2021-07-07T15:06:37.765Z"
   },
   {
    "duration": 12,
    "start_time": "2021-07-07T15:06:37.802Z"
   },
   {
    "duration": 45,
    "start_time": "2021-07-07T15:06:37.817Z"
   },
   {
    "duration": 19,
    "start_time": "2021-07-07T15:06:37.865Z"
   },
   {
    "duration": 5,
    "start_time": "2021-07-07T15:06:37.886Z"
   },
   {
    "duration": 7,
    "start_time": "2021-07-07T15:06:37.894Z"
   },
   {
    "duration": 8,
    "start_time": "2021-07-07T15:06:37.904Z"
   },
   {
    "duration": 42,
    "start_time": "2021-07-07T15:06:37.914Z"
   },
   {
    "duration": 17,
    "start_time": "2021-07-07T15:06:37.959Z"
   },
   {
    "duration": 11,
    "start_time": "2021-07-07T15:06:37.978Z"
   },
   {
    "duration": 67,
    "start_time": "2021-07-07T15:06:37.992Z"
   },
   {
    "duration": 6,
    "start_time": "2021-07-07T15:06:38.061Z"
   },
   {
    "duration": 8,
    "start_time": "2021-07-07T15:06:38.070Z"
   },
   {
    "duration": 645,
    "start_time": "2021-07-07T15:06:38.080Z"
   },
   {
    "duration": 5,
    "start_time": "2021-07-07T15:27:26.876Z"
   },
   {
    "duration": 585,
    "start_time": "2021-07-07T15:27:32.388Z"
   },
   {
    "duration": 40,
    "start_time": "2021-07-07T15:27:57.690Z"
   },
   {
    "duration": 4,
    "start_time": "2021-07-07T15:28:33.776Z"
   },
   {
    "duration": 7,
    "start_time": "2021-07-07T15:28:37.202Z"
   },
   {
    "duration": 37,
    "start_time": "2021-07-07T15:28:42.404Z"
   },
   {
    "duration": 4,
    "start_time": "2021-07-07T15:29:58.496Z"
   },
   {
    "duration": 8,
    "start_time": "2021-07-07T15:30:00.825Z"
   },
   {
    "duration": 42,
    "start_time": "2021-07-07T15:30:02.949Z"
   },
   {
    "duration": 5,
    "start_time": "2021-07-07T15:30:12.432Z"
   },
   {
    "duration": 43,
    "start_time": "2021-07-07T15:30:14.812Z"
   },
   {
    "duration": 5,
    "start_time": "2021-07-07T15:30:26.606Z"
   },
   {
    "duration": 11,
    "start_time": "2021-07-07T15:30:29.110Z"
   },
   {
    "duration": 39,
    "start_time": "2021-07-07T15:30:31.298Z"
   },
   {
    "duration": 8,
    "start_time": "2021-07-07T15:34:41.506Z"
   },
   {
    "duration": 7,
    "start_time": "2021-07-07T15:34:46.590Z"
   },
   {
    "duration": 8,
    "start_time": "2021-07-07T15:35:33.639Z"
   },
   {
    "duration": 41,
    "start_time": "2021-07-07T15:35:38.377Z"
   },
   {
    "duration": 38,
    "start_time": "2021-07-07T15:35:40.214Z"
   },
   {
    "duration": 42,
    "start_time": "2021-07-07T15:35:44.389Z"
   },
   {
    "duration": 4,
    "start_time": "2021-07-07T15:36:23.544Z"
   },
   {
    "duration": 4,
    "start_time": "2021-07-07T15:36:30.724Z"
   },
   {
    "duration": 5,
    "start_time": "2021-07-07T15:39:40.894Z"
   },
   {
    "duration": 4,
    "start_time": "2021-07-07T15:45:18.196Z"
   },
   {
    "duration": 326,
    "start_time": "2021-07-07T15:45:21.968Z"
   },
   {
    "duration": 5,
    "start_time": "2021-07-07T15:57:33.565Z"
   },
   {
    "duration": 306,
    "start_time": "2021-07-07T16:02:10.258Z"
   },
   {
    "duration": 3,
    "start_time": "2021-07-07T16:02:29.657Z"
   },
   {
    "duration": 259,
    "start_time": "2021-07-07T16:02:36.884Z"
   },
   {
    "duration": 1534,
    "start_time": "2021-07-07T16:02:58.221Z"
   },
   {
    "duration": 6,
    "start_time": "2021-07-07T16:03:10.955Z"
   },
   {
    "duration": 258,
    "start_time": "2021-07-07T16:05:56.042Z"
   },
   {
    "duration": 4,
    "start_time": "2021-07-07T16:14:14.328Z"
   },
   {
    "duration": 268,
    "start_time": "2021-07-07T16:14:16.326Z"
   },
   {
    "duration": 266,
    "start_time": "2021-07-07T16:14:41.328Z"
   },
   {
    "duration": 3813,
    "start_time": "2021-07-07T16:14:46.954Z"
   },
   {
    "duration": 14,
    "start_time": "2021-07-07T16:14:56.512Z"
   },
   {
    "duration": 8,
    "start_time": "2021-07-07T16:15:06.942Z"
   },
   {
    "duration": 94,
    "start_time": "2021-07-07T16:15:14.432Z"
   },
   {
    "duration": 9,
    "start_time": "2021-07-07T16:15:17.591Z"
   },
   {
    "duration": 14,
    "start_time": "2021-07-07T16:15:41.777Z"
   },
   {
    "duration": 3309,
    "start_time": "2021-07-07T16:16:10.352Z"
   },
   {
    "duration": 5,
    "start_time": "2021-07-07T16:16:15.968Z"
   },
   {
    "duration": 6,
    "start_time": "2021-07-07T16:16:22.136Z"
   },
   {
    "duration": 8,
    "start_time": "2021-07-07T16:16:34.154Z"
   },
   {
    "duration": 11,
    "start_time": "2021-07-07T16:17:13.328Z"
   },
   {
    "duration": 3,
    "start_time": "2021-07-07T16:17:52.907Z"
   },
   {
    "duration": 85,
    "start_time": "2021-07-07T16:19:53.565Z"
   },
   {
    "duration": 7,
    "start_time": "2021-07-07T17:15:51.520Z"
   },
   {
    "duration": 123,
    "start_time": "2021-07-07T17:16:35.849Z"
   },
   {
    "duration": 82,
    "start_time": "2021-07-07T17:16:40.700Z"
   },
   {
    "duration": 120,
    "start_time": "2021-07-07T17:20:45.002Z"
   },
   {
    "duration": 314,
    "start_time": "2021-07-07T17:20:48.373Z"
   },
   {
    "duration": 95,
    "start_time": "2021-07-07T17:21:05.055Z"
   },
   {
    "duration": 89,
    "start_time": "2021-07-07T17:21:08.077Z"
   },
   {
    "duration": 222,
    "start_time": "2021-07-07T17:21:55.997Z"
   },
   {
    "duration": 7,
    "start_time": "2021-07-07T17:22:25.389Z"
   },
   {
    "duration": 4,
    "start_time": "2021-07-07T17:22:32.475Z"
   },
   {
    "duration": 6,
    "start_time": "2021-07-07T17:22:35.300Z"
   },
   {
    "duration": 270,
    "start_time": "2021-07-07T17:23:14.404Z"
   },
   {
    "duration": 266,
    "start_time": "2021-07-07T17:23:19.876Z"
   },
   {
    "duration": 261,
    "start_time": "2021-07-07T17:23:44.684Z"
   },
   {
    "duration": 266,
    "start_time": "2021-07-07T17:25:54.677Z"
   },
   {
    "duration": 4,
    "start_time": "2021-07-07T17:26:04.446Z"
   },
   {
    "duration": 5,
    "start_time": "2021-07-07T17:26:08.707Z"
   },
   {
    "duration": 5,
    "start_time": "2021-07-07T17:26:22.251Z"
   },
   {
    "duration": 5,
    "start_time": "2021-07-07T17:26:24.362Z"
   },
   {
    "duration": 5,
    "start_time": "2021-07-07T17:27:05.691Z"
   },
   {
    "duration": 6,
    "start_time": "2021-07-07T17:27:07.659Z"
   },
   {
    "duration": 5,
    "start_time": "2021-07-07T17:27:34.355Z"
   },
   {
    "duration": 515,
    "start_time": "2021-07-07T17:27:54.106Z"
   },
   {
    "duration": 4,
    "start_time": "2021-07-07T17:28:25.794Z"
   },
   {
    "duration": 6,
    "start_time": "2021-07-07T17:28:28.045Z"
   },
   {
    "duration": 7,
    "start_time": "2021-07-07T17:28:30.304Z"
   },
   {
    "duration": 39,
    "start_time": "2021-07-07T17:28:35.731Z"
   },
   {
    "duration": 4,
    "start_time": "2021-07-07T17:29:41.666Z"
   },
   {
    "duration": 6,
    "start_time": "2021-07-07T17:29:43.401Z"
   },
   {
    "duration": 279,
    "start_time": "2021-07-07T17:31:14.217Z"
   },
   {
    "duration": 4,
    "start_time": "2021-07-07T17:31:18.526Z"
   },
   {
    "duration": 4,
    "start_time": "2021-07-07T17:31:19.902Z"
   },
   {
    "duration": 5,
    "start_time": "2021-07-07T17:31:20.816Z"
   },
   {
    "duration": 13,
    "start_time": "2021-07-07T17:31:22.574Z"
   },
   {
    "duration": 272,
    "start_time": "2021-07-07T17:31:24.197Z"
   },
   {
    "duration": 12,
    "start_time": "2021-07-07T17:32:12.182Z"
   },
   {
    "duration": 10,
    "start_time": "2021-07-07T17:32:13.826Z"
   },
   {
    "duration": 56,
    "start_time": "2021-07-07T17:33:12.217Z"
   },
   {
    "duration": 4,
    "start_time": "2021-07-07T17:35:21.301Z"
   },
   {
    "duration": 4,
    "start_time": "2021-07-07T17:35:21.953Z"
   },
   {
    "duration": 4,
    "start_time": "2021-07-07T17:35:34.124Z"
   },
   {
    "duration": 5,
    "start_time": "2021-07-07T17:36:55.154Z"
   },
   {
    "duration": 4,
    "start_time": "2021-07-07T17:44:21.831Z"
   },
   {
    "duration": 4,
    "start_time": "2021-07-07T17:45:04.192Z"
   },
   {
    "duration": 549,
    "start_time": "2021-07-07T17:45:50.884Z"
   },
   {
    "duration": 2535,
    "start_time": "2021-07-07T17:46:07.243Z"
   },
   {
    "duration": 4,
    "start_time": "2021-07-07T17:46:39.362Z"
   },
   {
    "duration": 2718,
    "start_time": "2021-07-07T17:46:41.168Z"
   },
   {
    "duration": 5,
    "start_time": "2021-07-07T17:48:06.295Z"
   },
   {
    "duration": 1967,
    "start_time": "2021-07-07T17:48:08.896Z"
   },
   {
    "duration": 10,
    "start_time": "2021-07-07T17:48:19.343Z"
   },
   {
    "duration": 6,
    "start_time": "2021-07-07T17:48:40.727Z"
   },
   {
    "duration": 4,
    "start_time": "2021-07-07T17:49:31.099Z"
   },
   {
    "duration": 4,
    "start_time": "2021-07-07T17:49:38.864Z"
   },
   {
    "duration": 2084,
    "start_time": "2021-07-07T17:49:48.271Z"
   },
   {
    "duration": 3693,
    "start_time": "2021-07-07T17:49:51.371Z"
   },
   {
    "duration": 243,
    "start_time": "2021-07-07T17:50:09.687Z"
   },
   {
    "duration": 11,
    "start_time": "2021-07-07T17:50:36.591Z"
   },
   {
    "duration": 14,
    "start_time": "2021-07-07T17:50:42.362Z"
   },
   {
    "duration": 9,
    "start_time": "2021-07-07T17:50:47.686Z"
   },
   {
    "duration": 4,
    "start_time": "2021-07-07T17:50:58.288Z"
   },
   {
    "duration": 5,
    "start_time": "2021-07-07T17:51:01.583Z"
   },
   {
    "duration": 19,
    "start_time": "2021-07-07T17:51:04.752Z"
   },
   {
    "duration": 5,
    "start_time": "2021-07-07T17:51:06.311Z"
   },
   {
    "duration": 5,
    "start_time": "2021-07-07T17:52:56.170Z"
   },
   {
    "duration": 273,
    "start_time": "2021-07-07T17:53:47.006Z"
   },
   {
    "duration": 4,
    "start_time": "2021-07-07T17:54:04.623Z"
   },
   {
    "duration": 4,
    "start_time": "2021-07-07T17:58:29.557Z"
   },
   {
    "duration": 7,
    "start_time": "2021-07-07T18:16:03.957Z"
   },
   {
    "duration": 8531,
    "start_time": "2021-07-07T18:16:27.970Z"
   },
   {
    "duration": 20784,
    "start_time": "2021-07-07T18:16:57.311Z"
   },
   {
    "duration": 12,
    "start_time": "2021-07-07T18:17:53.331Z"
   },
   {
    "duration": 6,
    "start_time": "2021-07-07T18:18:13.521Z"
   },
   {
    "duration": 12,
    "start_time": "2021-07-07T18:18:35.235Z"
   },
   {
    "duration": 6,
    "start_time": "2021-07-07T18:19:12.712Z"
   },
   {
    "duration": 9,
    "start_time": "2021-07-07T18:19:31.930Z"
   },
   {
    "duration": 262,
    "start_time": "2021-07-07T18:22:57.561Z"
   },
   {
    "duration": 252,
    "start_time": "2021-07-07T18:23:19.603Z"
   },
   {
    "duration": 1027,
    "start_time": "2021-07-07T18:23:25.593Z"
   },
   {
    "duration": 9,
    "start_time": "2021-07-07T18:26:21.472Z"
   },
   {
    "duration": 4,
    "start_time": "2021-07-07T19:43:48.345Z"
   },
   {
    "duration": 214217,
    "start_time": "2021-07-07T19:44:15.801Z"
   },
   {
    "duration": 47041,
    "start_time": "2021-07-07T19:47:02.981Z"
   },
   {
    "duration": 5,
    "start_time": "2021-07-07T19:48:09.439Z"
   },
   {
    "duration": 603314,
    "start_time": "2021-07-07T19:48:12.079Z"
   },
   {
    "duration": 1283442,
    "start_time": "2021-07-07T19:58:15.395Z"
   },
   {
    "duration": 47036,
    "start_time": "2021-07-07T20:18:51.804Z"
   },
   {
    "duration": 47033,
    "start_time": "2021-07-07T20:18:51.809Z"
   },
   {
    "duration": 47030,
    "start_time": "2021-07-07T20:18:51.814Z"
   },
   {
    "duration": 5,
    "start_time": "2021-07-07T20:19:45.641Z"
   },
   {
    "duration": 577067,
    "start_time": "2021-07-07T20:20:01.072Z"
   },
   {
    "duration": 13,
    "start_time": "2021-07-07T20:32:50.834Z"
   },
   {
    "duration": 43,
    "start_time": "2021-07-07T20:32:58.028Z"
   },
   {
    "duration": 7,
    "start_time": "2021-07-07T20:33:14.069Z"
   },
   {
    "duration": 5,
    "start_time": "2021-07-07T20:33:25.046Z"
   },
   {
    "duration": 8,
    "start_time": "2021-07-07T20:33:34.359Z"
   },
   {
    "duration": 1409564,
    "start_time": "2021-07-07T20:33:52.054Z"
   },
   {
    "duration": 12,
    "start_time": "2021-07-07T20:57:21.621Z"
   },
   {
    "duration": 27,
    "start_time": "2021-07-07T20:57:21.637Z"
   },
   {
    "duration": 20,
    "start_time": "2021-07-07T20:57:21.668Z"
   },
   {
    "duration": 10,
    "start_time": "2021-07-07T20:58:32.335Z"
   },
   {
    "duration": 249,
    "start_time": "2021-07-07T21:04:13.141Z"
   },
   {
    "duration": 33,
    "start_time": "2021-07-07T21:04:37.864Z"
   },
   {
    "duration": 12,
    "start_time": "2021-07-07T21:05:18.590Z"
   },
   {
    "duration": 1421,
    "start_time": "2021-07-07T21:17:01.363Z"
   },
   {
    "duration": 887,
    "start_time": "2021-07-07T21:17:02.786Z"
   },
   {
    "duration": 35,
    "start_time": "2021-07-07T21:17:03.676Z"
   },
   {
    "duration": 21,
    "start_time": "2021-07-07T21:17:03.714Z"
   },
   {
    "duration": 18,
    "start_time": "2021-07-07T21:17:03.737Z"
   },
   {
    "duration": 10,
    "start_time": "2021-07-07T21:17:03.758Z"
   },
   {
    "duration": 27,
    "start_time": "2021-07-07T21:17:03.770Z"
   },
   {
    "duration": 34,
    "start_time": "2021-07-07T21:17:03.801Z"
   },
   {
    "duration": 14,
    "start_time": "2021-07-07T21:17:03.837Z"
   },
   {
    "duration": 43,
    "start_time": "2021-07-07T21:17:03.853Z"
   },
   {
    "duration": 3,
    "start_time": "2021-07-07T21:17:03.899Z"
   },
   {
    "duration": 16,
    "start_time": "2021-07-07T21:17:03.904Z"
   },
   {
    "duration": 29,
    "start_time": "2021-07-07T21:17:03.922Z"
   },
   {
    "duration": 18,
    "start_time": "2021-07-07T21:17:03.953Z"
   },
   {
    "duration": 17,
    "start_time": "2021-07-07T21:17:03.974Z"
   },
   {
    "duration": 28,
    "start_time": "2021-07-07T21:17:03.994Z"
   },
   {
    "duration": 19,
    "start_time": "2021-07-07T21:17:04.024Z"
   },
   {
    "duration": 22,
    "start_time": "2021-07-07T21:17:04.046Z"
   },
   {
    "duration": 44,
    "start_time": "2021-07-07T21:17:04.070Z"
   },
   {
    "duration": 30,
    "start_time": "2021-07-07T21:17:04.116Z"
   },
   {
    "duration": 40796,
    "start_time": "2021-07-07T21:17:04.149Z"
   },
   {
    "duration": 8,
    "start_time": "2021-07-07T21:17:44.948Z"
   },
   {
    "duration": 14,
    "start_time": "2021-07-07T21:17:44.962Z"
   },
   {
    "duration": 969,
    "start_time": "2021-07-07T21:17:44.980Z"
   },
   {
    "duration": 1591,
    "start_time": "2021-07-07T21:17:45.954Z"
   },
   {
    "duration": 1555,
    "start_time": "2021-07-07T21:17:47.548Z"
   },
   {
    "duration": 1234,
    "start_time": "2021-07-07T21:17:49.106Z"
   },
   {
    "duration": 13,
    "start_time": "2021-07-07T21:17:50.343Z"
   },
   {
    "duration": 62,
    "start_time": "2021-07-07T21:17:50.359Z"
   },
   {
    "duration": 1434,
    "start_time": "2021-07-07T21:17:50.424Z"
   },
   {
    "duration": 30,
    "start_time": "2021-07-07T21:17:51.861Z"
   },
   {
    "duration": 34,
    "start_time": "2021-07-07T21:17:51.893Z"
   },
   {
    "duration": 33,
    "start_time": "2021-07-07T21:17:51.954Z"
   },
   {
    "duration": 19,
    "start_time": "2021-07-07T21:17:51.989Z"
   },
   {
    "duration": 43,
    "start_time": "2021-07-07T21:17:52.011Z"
   },
   {
    "duration": 19,
    "start_time": "2021-07-07T21:17:52.056Z"
   },
   {
    "duration": 5,
    "start_time": "2021-07-07T21:17:52.077Z"
   },
   {
    "duration": 14,
    "start_time": "2021-07-07T21:17:52.084Z"
   },
   {
    "duration": 10,
    "start_time": "2021-07-07T21:17:52.100Z"
   },
   {
    "duration": 15,
    "start_time": "2021-07-07T21:17:52.112Z"
   },
   {
    "duration": 27,
    "start_time": "2021-07-07T21:17:52.130Z"
   },
   {
    "duration": 18,
    "start_time": "2021-07-07T21:17:52.160Z"
   },
   {
    "duration": 15,
    "start_time": "2021-07-07T21:17:52.180Z"
   },
   {
    "duration": 83,
    "start_time": "2021-07-07T21:17:52.198Z"
   },
   {
    "duration": 5,
    "start_time": "2021-07-07T21:17:52.285Z"
   },
   {
    "duration": 11,
    "start_time": "2021-07-07T21:17:52.293Z"
   },
   {
    "duration": 21,
    "start_time": "2021-07-07T21:17:52.306Z"
   },
   {
    "duration": 13,
    "start_time": "2021-07-07T21:17:52.329Z"
   },
   {
    "duration": 11,
    "start_time": "2021-07-07T21:17:52.344Z"
   },
   {
    "duration": 1998,
    "start_time": "2021-07-07T21:17:52.358Z"
   },
   {
    "duration": 6297,
    "start_time": "2021-07-07T21:17:54.359Z"
   },
   {
    "duration": 100,
    "start_time": "2021-07-07T21:18:00.659Z"
   },
   {
    "duration": 18,
    "start_time": "2021-07-07T21:18:00.762Z"
   },
   {
    "duration": 22,
    "start_time": "2021-07-07T21:18:00.783Z"
   },
   {
    "duration": 8753,
    "start_time": "2021-07-07T21:18:00.808Z"
   },
   {
    "duration": 21593,
    "start_time": "2021-07-07T21:18:09.563Z"
   },
   {
    "duration": 11,
    "start_time": "2021-07-07T21:18:31.159Z"
   },
   {
    "duration": 23,
    "start_time": "2021-07-07T21:18:31.172Z"
   },
   {
    "duration": 17,
    "start_time": "2021-07-07T21:18:31.198Z"
   },
   {
    "duration": 581607,
    "start_time": "2021-07-07T21:18:31.217Z"
   },
   {
    "duration": 1107249,
    "start_time": "2021-07-07T21:28:12.827Z"
   },
   {
    "duration": 46997,
    "start_time": "2021-07-07T21:45:53.081Z"
   },
   {
    "duration": 46995,
    "start_time": "2021-07-07T21:45:53.085Z"
   },
   {
    "duration": 46992,
    "start_time": "2021-07-07T21:45:53.090Z"
   },
   {
    "duration": 46989,
    "start_time": "2021-07-07T21:45:53.094Z"
   },
   {
    "duration": 46987,
    "start_time": "2021-07-07T21:45:53.098Z"
   },
   {
    "duration": 4,
    "start_time": "2021-07-07T21:47:09.003Z"
   },
   {
    "duration": 5568,
    "start_time": "2021-07-07T21:47:14.875Z"
   },
   {
    "duration": 6,
    "start_time": "2021-07-07T21:49:50.682Z"
   },
   {
    "duration": 4,
    "start_time": "2021-07-07T21:58:18.819Z"
   },
   {
    "duration": 36158,
    "start_time": "2021-07-07T21:58:21.281Z"
   },
   {
    "duration": 46952,
    "start_time": "2021-07-07T21:58:10.491Z"
   },
   {
    "duration": 6,
    "start_time": "2021-07-07T21:59:34.684Z"
   },
   {
    "duration": 4,
    "start_time": "2021-07-07T22:01:25.329Z"
   },
   {
    "duration": 5,
    "start_time": "2021-07-07T22:01:27.128Z"
   },
   {
    "duration": 3,
    "start_time": "2021-07-07T22:01:29.233Z"
   },
   {
    "duration": 1493,
    "start_time": "2021-07-07T22:01:31.170Z"
   },
   {
    "duration": 10,
    "start_time": "2021-07-07T22:01:36.143Z"
   },
   {
    "duration": 5,
    "start_time": "2021-07-07T22:01:38.263Z"
   },
   {
    "duration": 3366,
    "start_time": "2021-07-07T22:01:40.687Z"
   },
   {
    "duration": 10,
    "start_time": "2021-07-07T22:01:45.718Z"
   },
   {
    "duration": 5,
    "start_time": "2021-07-07T22:01:47.599Z"
   },
   {
    "duration": 1504,
    "start_time": "2021-07-07T22:02:22.054Z"
   },
   {
    "duration": 934,
    "start_time": "2021-07-07T22:02:23.561Z"
   },
   {
    "duration": 64,
    "start_time": "2021-07-07T22:02:24.499Z"
   },
   {
    "duration": 6,
    "start_time": "2021-07-07T22:02:24.567Z"
   },
   {
    "duration": 10,
    "start_time": "2021-07-07T22:02:24.576Z"
   },
   {
    "duration": 13,
    "start_time": "2021-07-07T22:02:24.589Z"
   },
   {
    "duration": 9,
    "start_time": "2021-07-07T22:02:24.605Z"
   },
   {
    "duration": 38,
    "start_time": "2021-07-07T22:02:24.618Z"
   },
   {
    "duration": 8,
    "start_time": "2021-07-07T22:02:24.659Z"
   },
   {
    "duration": 28,
    "start_time": "2021-07-07T22:02:24.670Z"
   },
   {
    "duration": 4,
    "start_time": "2021-07-07T22:02:24.700Z"
   },
   {
    "duration": 13,
    "start_time": "2021-07-07T22:02:24.706Z"
   },
   {
    "duration": 41,
    "start_time": "2021-07-07T22:02:24.721Z"
   },
   {
    "duration": 12,
    "start_time": "2021-07-07T22:02:24.764Z"
   },
   {
    "duration": 11,
    "start_time": "2021-07-07T22:02:24.778Z"
   },
   {
    "duration": 4,
    "start_time": "2021-07-07T22:02:24.792Z"
   },
   {
    "duration": 7,
    "start_time": "2021-07-07T22:02:24.798Z"
   },
   {
    "duration": 48,
    "start_time": "2021-07-07T22:02:24.807Z"
   },
   {
    "duration": 5,
    "start_time": "2021-07-07T22:02:24.857Z"
   },
   {
    "duration": 24,
    "start_time": "2021-07-07T22:02:24.864Z"
   },
   {
    "duration": 28,
    "start_time": "2021-07-07T22:02:24.890Z"
   },
   {
    "duration": 40026,
    "start_time": "2021-07-07T22:02:24.920Z"
   },
   {
    "duration": 8,
    "start_time": "2021-07-07T22:03:04.957Z"
   },
   {
    "duration": 951,
    "start_time": "2021-07-07T22:03:04.968Z"
   },
   {
    "duration": 952,
    "start_time": "2021-07-07T22:03:05.922Z"
   },
   {
    "duration": 1030,
    "start_time": "2021-07-07T22:03:06.876Z"
   },
   {
    "duration": 879,
    "start_time": "2021-07-07T22:03:07.908Z"
   },
   {
    "duration": 4,
    "start_time": "2021-07-07T22:03:08.789Z"
   },
   {
    "duration": 78,
    "start_time": "2021-07-07T22:03:08.795Z"
   },
   {
    "duration": 1458,
    "start_time": "2021-07-07T22:03:08.875Z"
   },
   {
    "duration": 41,
    "start_time": "2021-07-07T22:03:10.335Z"
   },
   {
    "duration": 32,
    "start_time": "2021-07-07T22:03:10.378Z"
   },
   {
    "duration": 56,
    "start_time": "2021-07-07T22:03:10.413Z"
   },
   {
    "duration": 17,
    "start_time": "2021-07-07T22:03:10.471Z"
   },
   {
    "duration": 12,
    "start_time": "2021-07-07T22:03:10.490Z"
   },
   {
    "duration": 55,
    "start_time": "2021-07-07T22:03:10.504Z"
   },
   {
    "duration": 5,
    "start_time": "2021-07-07T22:03:10.561Z"
   },
   {
    "duration": 19,
    "start_time": "2021-07-07T22:03:10.568Z"
   },
   {
    "duration": 15,
    "start_time": "2021-07-07T22:03:10.589Z"
   },
   {
    "duration": 21,
    "start_time": "2021-07-07T22:03:10.606Z"
   },
   {
    "duration": 13,
    "start_time": "2021-07-07T22:03:10.630Z"
   },
   {
    "duration": 30,
    "start_time": "2021-07-07T22:03:10.646Z"
   },
   {
    "duration": 24,
    "start_time": "2021-07-07T22:03:10.679Z"
   },
   {
    "duration": 71,
    "start_time": "2021-07-07T22:03:10.705Z"
   },
   {
    "duration": 4,
    "start_time": "2021-07-07T22:03:10.779Z"
   },
   {
    "duration": 11,
    "start_time": "2021-07-07T22:03:10.786Z"
   },
   {
    "duration": 18,
    "start_time": "2021-07-07T22:03:10.799Z"
   },
   {
    "duration": 14,
    "start_time": "2021-07-07T22:03:10.819Z"
   },
   {
    "duration": 18,
    "start_time": "2021-07-07T22:03:10.835Z"
   },
   {
    "duration": 2201,
    "start_time": "2021-07-07T22:03:10.855Z"
   },
   {
    "duration": 3299,
    "start_time": "2021-07-07T22:03:13.059Z"
   },
   {
    "duration": 101,
    "start_time": "2021-07-07T22:03:16.362Z"
   },
   {
    "duration": 91,
    "start_time": "2021-07-07T22:03:16.467Z"
   },
   {
    "duration": 15,
    "start_time": "2021-07-07T22:03:16.560Z"
   },
   {
    "duration": 9353,
    "start_time": "2021-07-07T22:03:16.577Z"
   },
   {
    "duration": 22486,
    "start_time": "2021-07-07T22:03:25.933Z"
   },
   {
    "duration": 32,
    "start_time": "2021-07-07T22:03:48.422Z"
   },
   {
    "duration": 9,
    "start_time": "2021-07-07T22:03:48.457Z"
   },
   {
    "duration": 24,
    "start_time": "2021-07-07T22:03:48.469Z"
   },
   {
    "duration": 412026,
    "start_time": "2021-07-07T22:03:48.496Z"
   },
   {
    "duration": 969737,
    "start_time": "2021-07-07T22:10:40.525Z"
   },
   {
    "duration": 13,
    "start_time": "2021-07-07T22:26:50.265Z"
   },
   {
    "duration": 6,
    "start_time": "2021-07-07T22:26:50.281Z"
   },
   {
    "duration": 16,
    "start_time": "2021-07-07T22:26:50.290Z"
   },
   {
    "duration": 57,
    "start_time": "2021-07-07T22:26:50.309Z"
   },
   {
    "duration": 11,
    "start_time": "2021-07-07T22:26:50.369Z"
   },
   {
    "duration": 1794,
    "start_time": "2021-07-08T17:18:47.224Z"
   },
   {
    "duration": 1307,
    "start_time": "2021-07-08T17:18:49.071Z"
   },
   {
    "duration": 48,
    "start_time": "2021-07-08T17:18:50.382Z"
   },
   {
    "duration": 6,
    "start_time": "2021-07-08T17:18:50.434Z"
   },
   {
    "duration": 32,
    "start_time": "2021-07-08T17:18:50.443Z"
   },
   {
    "duration": 9,
    "start_time": "2021-07-08T17:18:50.478Z"
   },
   {
    "duration": 9,
    "start_time": "2021-07-08T17:18:50.490Z"
   },
   {
    "duration": 10,
    "start_time": "2021-07-08T17:18:50.502Z"
   },
   {
    "duration": 57,
    "start_time": "2021-07-08T17:18:50.518Z"
   },
   {
    "duration": 33,
    "start_time": "2021-07-08T17:18:50.578Z"
   },
   {
    "duration": 4,
    "start_time": "2021-07-08T17:18:50.614Z"
   },
   {
    "duration": 10,
    "start_time": "2021-07-08T17:18:50.621Z"
   },
   {
    "duration": 42,
    "start_time": "2021-07-08T17:18:50.634Z"
   },
   {
    "duration": 20,
    "start_time": "2021-07-08T17:18:50.679Z"
   },
   {
    "duration": 7,
    "start_time": "2021-07-08T17:18:50.702Z"
   },
   {
    "duration": 8,
    "start_time": "2021-07-08T17:18:50.712Z"
   },
   {
    "duration": 14,
    "start_time": "2021-07-08T17:18:50.722Z"
   },
   {
    "duration": 52,
    "start_time": "2021-07-08T17:18:50.739Z"
   },
   {
    "duration": 6,
    "start_time": "2021-07-08T17:18:50.797Z"
   },
   {
    "duration": 33,
    "start_time": "2021-07-08T17:18:50.805Z"
   },
   {
    "duration": 40,
    "start_time": "2021-07-08T17:18:50.841Z"
   },
   {
    "duration": 54587,
    "start_time": "2021-07-08T17:18:50.885Z"
   },
   {
    "duration": 8,
    "start_time": "2021-07-08T17:19:45.475Z"
   },
   {
    "duration": 987,
    "start_time": "2021-07-08T17:19:45.485Z"
   },
   {
    "duration": 1116,
    "start_time": "2021-07-08T17:19:46.475Z"
   },
   {
    "duration": 1188,
    "start_time": "2021-07-08T17:19:47.593Z"
   },
   {
    "duration": 1522,
    "start_time": "2021-07-08T17:19:48.793Z"
   },
   {
    "duration": 6,
    "start_time": "2021-07-08T17:19:50.320Z"
   },
   {
    "duration": 86,
    "start_time": "2021-07-08T17:19:50.329Z"
   },
   {
    "duration": 2438,
    "start_time": "2021-07-08T17:19:50.418Z"
   },
   {
    "duration": 46,
    "start_time": "2021-07-08T17:19:52.859Z"
   },
   {
    "duration": 79,
    "start_time": "2021-07-08T17:19:52.909Z"
   },
   {
    "duration": 35,
    "start_time": "2021-07-08T17:19:52.990Z"
   },
   {
    "duration": 40,
    "start_time": "2021-07-08T17:19:53.027Z"
   },
   {
    "duration": 16,
    "start_time": "2021-07-08T17:19:53.074Z"
   },
   {
    "duration": 24,
    "start_time": "2021-07-08T17:19:53.093Z"
   },
   {
    "duration": 5,
    "start_time": "2021-07-08T17:19:53.120Z"
   },
   {
    "duration": 41,
    "start_time": "2021-07-08T17:19:53.128Z"
   },
   {
    "duration": 6,
    "start_time": "2021-07-08T17:19:53.172Z"
   },
   {
    "duration": 11,
    "start_time": "2021-07-08T17:19:53.181Z"
   },
   {
    "duration": 7,
    "start_time": "2021-07-08T17:19:53.198Z"
   },
   {
    "duration": 23,
    "start_time": "2021-07-08T17:19:53.207Z"
   },
   {
    "duration": 52,
    "start_time": "2021-07-08T17:19:53.232Z"
   },
   {
    "duration": 68,
    "start_time": "2021-07-08T17:19:53.288Z"
   },
   {
    "duration": 7,
    "start_time": "2021-07-08T17:19:53.369Z"
   },
   {
    "duration": 7,
    "start_time": "2021-07-08T17:19:53.380Z"
   },
   {
    "duration": 14,
    "start_time": "2021-07-08T17:19:53.389Z"
   },
   {
    "duration": 7,
    "start_time": "2021-07-08T17:19:53.406Z"
   },
   {
    "duration": 10,
    "start_time": "2021-07-08T17:19:53.416Z"
   },
   {
    "duration": 2847,
    "start_time": "2021-07-08T17:19:53.429Z"
   },
   {
    "duration": 7309,
    "start_time": "2021-07-08T17:19:56.279Z"
   },
   {
    "duration": 25,
    "start_time": "2021-07-08T17:20:03.669Z"
   },
   {
    "duration": 21,
    "start_time": "2021-07-08T17:20:03.769Z"
   },
   {
    "duration": 4,
    "start_time": "2021-07-08T17:20:03.793Z"
   },
   {
    "duration": 11611,
    "start_time": "2021-07-08T17:20:03.800Z"
   },
   {
    "duration": 29922,
    "start_time": "2021-07-08T17:20:15.413Z"
   },
   {
    "duration": 34,
    "start_time": "2021-07-08T17:20:45.338Z"
   },
   {
    "duration": 11,
    "start_time": "2021-07-08T17:20:45.379Z"
   },
   {
    "duration": 6,
    "start_time": "2021-07-08T17:20:45.393Z"
   },
   {
    "duration": 491136,
    "start_time": "2021-07-08T17:20:45.402Z"
   },
   {
    "duration": 1206936,
    "start_time": "2021-07-08T17:28:56.540Z"
   },
   {
    "duration": 16,
    "start_time": "2021-07-08T17:49:03.479Z"
   },
   {
    "duration": 6,
    "start_time": "2021-07-08T17:49:03.499Z"
   },
   {
    "duration": 17,
    "start_time": "2021-07-08T17:49:03.508Z"
   },
   {
    "duration": 24,
    "start_time": "2021-07-08T17:49:03.576Z"
   },
   {
    "duration": 17,
    "start_time": "2021-07-08T17:49:03.602Z"
   },
   {
    "duration": 1383,
    "start_time": "2021-07-08T20:23:13.051Z"
   },
   {
    "duration": 824,
    "start_time": "2021-07-08T20:23:14.436Z"
   },
   {
    "duration": 41,
    "start_time": "2021-07-08T20:23:15.263Z"
   },
   {
    "duration": 5,
    "start_time": "2021-07-08T20:23:15.307Z"
   },
   {
    "duration": 7,
    "start_time": "2021-07-08T20:23:15.314Z"
   },
   {
    "duration": 8,
    "start_time": "2021-07-08T20:23:15.323Z"
   },
   {
    "duration": 6,
    "start_time": "2021-07-08T20:23:15.333Z"
   },
   {
    "duration": 4,
    "start_time": "2021-07-08T20:23:15.343Z"
   },
   {
    "duration": 54,
    "start_time": "2021-07-08T20:23:15.350Z"
   },
   {
    "duration": 25,
    "start_time": "2021-07-08T20:23:15.406Z"
   },
   {
    "duration": 4,
    "start_time": "2021-07-08T20:23:15.433Z"
   },
   {
    "duration": 10,
    "start_time": "2021-07-08T20:23:15.439Z"
   },
   {
    "duration": 13,
    "start_time": "2021-07-08T20:23:15.451Z"
   },
   {
    "duration": 40,
    "start_time": "2021-07-08T20:23:15.466Z"
   },
   {
    "duration": 7,
    "start_time": "2021-07-08T20:23:15.509Z"
   },
   {
    "duration": 5,
    "start_time": "2021-07-08T20:23:15.519Z"
   },
   {
    "duration": 15,
    "start_time": "2021-07-08T20:23:15.527Z"
   },
   {
    "duration": 6,
    "start_time": "2021-07-08T20:23:15.545Z"
   },
   {
    "duration": 4,
    "start_time": "2021-07-08T20:23:15.602Z"
   },
   {
    "duration": 23,
    "start_time": "2021-07-08T20:23:15.608Z"
   },
   {
    "duration": 28,
    "start_time": "2021-07-08T20:23:15.634Z"
   },
   {
    "duration": 43672,
    "start_time": "2021-07-08T20:23:15.664Z"
   },
   {
    "duration": 9,
    "start_time": "2021-07-08T20:23:59.346Z"
   },
   {
    "duration": 1463,
    "start_time": "2021-07-08T20:23:59.358Z"
   },
   {
    "duration": 1492,
    "start_time": "2021-07-08T20:24:00.824Z"
   },
   {
    "duration": 1584,
    "start_time": "2021-07-08T20:24:02.319Z"
   },
   {
    "duration": 917,
    "start_time": "2021-07-08T20:24:03.906Z"
   },
   {
    "duration": 4,
    "start_time": "2021-07-08T20:24:04.826Z"
   },
   {
    "duration": 67,
    "start_time": "2021-07-08T20:24:04.833Z"
   },
   {
    "duration": 1601,
    "start_time": "2021-07-08T20:24:04.903Z"
   },
   {
    "duration": 30,
    "start_time": "2021-07-08T20:24:06.506Z"
   },
   {
    "duration": 33,
    "start_time": "2021-07-08T20:24:06.538Z"
   },
   {
    "duration": 45,
    "start_time": "2021-07-08T20:24:06.573Z"
   },
   {
    "duration": 13,
    "start_time": "2021-07-08T20:24:06.620Z"
   },
   {
    "duration": 12,
    "start_time": "2021-07-08T20:24:06.635Z"
   },
   {
    "duration": 18,
    "start_time": "2021-07-08T20:24:06.650Z"
   },
   {
    "duration": 5,
    "start_time": "2021-07-08T20:24:06.670Z"
   },
   {
    "duration": 6,
    "start_time": "2021-07-08T20:24:06.677Z"
   },
   {
    "duration": 5,
    "start_time": "2021-07-08T20:24:06.701Z"
   },
   {
    "duration": 7,
    "start_time": "2021-07-08T20:24:06.709Z"
   },
   {
    "duration": 8,
    "start_time": "2021-07-08T20:24:06.719Z"
   },
   {
    "duration": 18,
    "start_time": "2021-07-08T20:24:06.730Z"
   },
   {
    "duration": 19,
    "start_time": "2021-07-08T20:24:06.751Z"
   },
   {
    "duration": 73,
    "start_time": "2021-07-08T20:24:06.773Z"
   },
   {
    "duration": 5,
    "start_time": "2021-07-08T20:24:06.849Z"
   },
   {
    "duration": 13,
    "start_time": "2021-07-08T20:24:06.857Z"
   },
   {
    "duration": 6,
    "start_time": "2021-07-08T20:24:06.872Z"
   },
   {
    "duration": 6,
    "start_time": "2021-07-08T20:24:06.880Z"
   },
   {
    "duration": 10,
    "start_time": "2021-07-08T20:24:06.889Z"
   },
   {
    "duration": 3898,
    "start_time": "2021-07-08T20:24:06.902Z"
   },
   {
    "duration": 5700,
    "start_time": "2021-07-08T20:24:10.803Z"
   },
   {
    "duration": 192,
    "start_time": "2021-07-08T20:24:16.509Z"
   },
   {
    "duration": 4,
    "start_time": "2021-07-08T20:24:16.704Z"
   },
   {
    "duration": 11,
    "start_time": "2021-07-08T20:24:16.711Z"
   },
   {
    "duration": 32022,
    "start_time": "2021-07-08T20:24:16.724Z"
   },
   {
    "duration": 59421,
    "start_time": "2021-07-08T20:24:48.801Z"
   },
   {
    "duration": 76,
    "start_time": "2021-07-08T20:25:48.225Z"
   },
   {
    "duration": 10,
    "start_time": "2021-07-08T20:25:48.304Z"
   },
   {
    "duration": 8,
    "start_time": "2021-07-08T20:25:48.317Z"
   },
   {
    "duration": 655051,
    "start_time": "2021-07-08T20:25:48.328Z"
   },
   {
    "duration": 905437,
    "start_time": "2021-07-08T20:36:43.382Z"
   },
   {
    "duration": 11,
    "start_time": "2021-07-08T20:51:48.821Z"
   },
   {
    "duration": 4,
    "start_time": "2021-07-08T20:51:48.835Z"
   },
   {
    "duration": 10,
    "start_time": "2021-07-08T20:51:48.842Z"
   },
   {
    "duration": 60,
    "start_time": "2021-07-08T20:51:48.854Z"
   },
   {
    "duration": 11,
    "start_time": "2021-07-08T20:51:48.917Z"
   },
   {
    "duration": 91,
    "start_time": "2021-07-09T07:53:23.350Z"
   },
   {
    "duration": 425,
    "start_time": "2021-07-09T08:54:23.580Z"
   },
   {
    "duration": 1495,
    "start_time": "2021-07-09T08:56:32.372Z"
   },
   {
    "duration": 870,
    "start_time": "2021-07-09T08:56:33.870Z"
   },
   {
    "duration": 44,
    "start_time": "2021-07-09T08:56:34.743Z"
   },
   {
    "duration": 5,
    "start_time": "2021-07-09T08:56:38.565Z"
   },
   {
    "duration": 5,
    "start_time": "2021-07-09T08:56:39.175Z"
   },
   {
    "duration": 5,
    "start_time": "2021-07-09T08:56:39.497Z"
   },
   {
    "duration": 6,
    "start_time": "2021-07-09T08:56:39.681Z"
   },
   {
    "duration": 6,
    "start_time": "2021-07-09T08:56:39.888Z"
   },
   {
    "duration": 6,
    "start_time": "2021-07-09T08:56:40.073Z"
   },
   {
    "duration": 24,
    "start_time": "2021-07-09T08:56:40.506Z"
   },
   {
    "duration": 3,
    "start_time": "2021-07-09T08:56:43.281Z"
   },
   {
    "duration": 8,
    "start_time": "2021-07-09T08:56:43.757Z"
   },
   {
    "duration": 12,
    "start_time": "2021-07-09T08:56:44.194Z"
   },
   {
    "duration": 12,
    "start_time": "2021-07-09T08:56:44.893Z"
   },
   {
    "duration": 6,
    "start_time": "2021-07-09T08:56:48.130Z"
   },
   {
    "duration": 4,
    "start_time": "2021-07-09T08:56:49.776Z"
   },
   {
    "duration": 7,
    "start_time": "2021-07-09T08:56:50.441Z"
   },
   {
    "duration": 8,
    "start_time": "2021-07-09T08:56:51.955Z"
   },
   {
    "duration": 5,
    "start_time": "2021-07-09T08:56:54.193Z"
   },
   {
    "duration": 35,
    "start_time": "2021-07-09T08:56:58.346Z"
   },
   {
    "duration": 41,
    "start_time": "2021-07-09T09:04:36.924Z"
   },
   {
    "duration": 65,
    "start_time": "2021-07-09T09:04:52.101Z"
   },
   {
    "duration": 20,
    "start_time": "2021-07-09T09:18:42.172Z"
   },
   {
    "duration": 41,
    "start_time": "2021-07-09T09:18:53.779Z"
   },
   {
    "duration": 17,
    "start_time": "2021-07-09T09:20:38.885Z"
   },
   {
    "duration": 19,
    "start_time": "2021-07-09T09:20:59.658Z"
   },
   {
    "duration": 24,
    "start_time": "2021-07-09T09:21:33.290Z"
   },
   {
    "duration": 9,
    "start_time": "2021-07-09T09:30:05.478Z"
   },
   {
    "duration": 26,
    "start_time": "2021-07-09T09:30:06.444Z"
   },
   {
    "duration": 40848,
    "start_time": "2021-07-09T09:30:07.828Z"
   },
   {
    "duration": 7,
    "start_time": "2021-07-09T09:30:48.678Z"
   },
   {
    "duration": 961,
    "start_time": "2021-07-09T09:30:48.688Z"
   },
   {
    "duration": 6,
    "start_time": "2021-07-09T09:42:53.980Z"
   },
   {
    "duration": 7,
    "start_time": "2021-07-09T09:43:05.403Z"
   },
   {
    "duration": 7,
    "start_time": "2021-07-09T09:43:18.815Z"
   },
   {
    "duration": 6,
    "start_time": "2021-07-09T09:43:22.721Z"
   },
   {
    "duration": 452,
    "start_time": "2021-07-09T09:43:53.624Z"
   },
   {
    "duration": 414,
    "start_time": "2021-07-09T09:44:02.795Z"
   },
   {
    "duration": 325,
    "start_time": "2021-07-09T09:44:20.975Z"
   },
   {
    "duration": 348,
    "start_time": "2021-07-09T09:45:39.976Z"
   },
   {
    "duration": 332,
    "start_time": "2021-07-09T09:46:02.408Z"
   },
   {
    "duration": 8,
    "start_time": "2021-07-09T09:46:33.504Z"
   },
   {
    "duration": 9,
    "start_time": "2021-07-09T09:46:42.524Z"
   },
   {
    "duration": 10,
    "start_time": "2021-07-09T09:46:51.430Z"
   },
   {
    "duration": 6,
    "start_time": "2021-07-09T10:20:19.950Z"
   },
   {
    "duration": 869,
    "start_time": "2021-07-09T10:20:20.697Z"
   },
   {
    "duration": 30,
    "start_time": "2021-07-09T10:20:21.569Z"
   },
   {
    "duration": 13,
    "start_time": "2021-07-09T10:20:21.602Z"
   },
   {
    "duration": 7,
    "start_time": "2021-07-09T10:20:21.618Z"
   },
   {
    "duration": 10,
    "start_time": "2021-07-09T10:20:21.627Z"
   },
   {
    "duration": 5,
    "start_time": "2021-07-09T10:20:21.757Z"
   },
   {
    "duration": 5,
    "start_time": "2021-07-09T10:20:21.927Z"
   },
   {
    "duration": 5,
    "start_time": "2021-07-09T10:20:22.104Z"
   },
   {
    "duration": 26,
    "start_time": "2021-07-09T10:20:22.256Z"
   },
   {
    "duration": 4,
    "start_time": "2021-07-09T10:20:22.775Z"
   },
   {
    "duration": 7,
    "start_time": "2021-07-09T10:20:22.952Z"
   },
   {
    "duration": 7,
    "start_time": "2021-07-09T10:20:23.120Z"
   },
   {
    "duration": 12,
    "start_time": "2021-07-09T10:20:23.273Z"
   },
   {
    "duration": 6,
    "start_time": "2021-07-09T10:20:23.465Z"
   },
   {
    "duration": 5,
    "start_time": "2021-07-09T10:20:23.983Z"
   },
   {
    "duration": 6,
    "start_time": "2021-07-09T10:20:24.160Z"
   },
   {
    "duration": 6,
    "start_time": "2021-07-09T10:20:24.319Z"
   },
   {
    "duration": 4,
    "start_time": "2021-07-09T10:20:24.503Z"
   },
   {
    "duration": 24,
    "start_time": "2021-07-09T10:20:25.041Z"
   },
   {
    "duration": 21,
    "start_time": "2021-07-09T10:20:25.409Z"
   },
   {
    "duration": 40579,
    "start_time": "2021-07-09T10:20:25.928Z"
   },
   {
    "duration": 7,
    "start_time": "2021-07-09T10:21:06.509Z"
   },
   {
    "duration": 958,
    "start_time": "2021-07-09T10:21:06.519Z"
   },
   {
    "duration": 1047,
    "start_time": "2021-07-09T10:21:07.480Z"
   },
   {
    "duration": 979,
    "start_time": "2021-07-09T10:21:08.529Z"
   },
   {
    "duration": 987,
    "start_time": "2021-07-09T10:21:09.510Z"
   },
   {
    "duration": 8,
    "start_time": "2021-07-09T10:21:10.499Z"
   },
   {
    "duration": 17,
    "start_time": "2021-07-09T10:21:10.511Z"
   },
   {
    "duration": 3,
    "start_time": "2021-07-09T10:21:10.531Z"
   },
   {
    "duration": 72,
    "start_time": "2021-07-09T10:21:10.537Z"
   },
   {
    "duration": 1541,
    "start_time": "2021-07-09T10:21:10.611Z"
   },
   {
    "duration": 33,
    "start_time": "2021-07-09T10:21:12.154Z"
   },
   {
    "duration": 34,
    "start_time": "2021-07-09T10:21:12.189Z"
   },
   {
    "duration": 59,
    "start_time": "2021-07-09T10:21:12.225Z"
   },
   {
    "duration": 11,
    "start_time": "2021-07-09T10:21:12.286Z"
   },
   {
    "duration": 34,
    "start_time": "2021-07-09T10:21:12.299Z"
   },
   {
    "duration": 46,
    "start_time": "2021-07-09T10:21:12.335Z"
   },
   {
    "duration": 5,
    "start_time": "2021-07-09T10:21:12.384Z"
   },
   {
    "duration": 26,
    "start_time": "2021-07-09T10:21:12.391Z"
   },
   {
    "duration": 30,
    "start_time": "2021-07-09T10:21:12.419Z"
   },
   {
    "duration": 23,
    "start_time": "2021-07-09T10:21:12.451Z"
   },
   {
    "duration": 37,
    "start_time": "2021-07-09T10:21:12.477Z"
   },
   {
    "duration": 31,
    "start_time": "2021-07-09T10:21:12.519Z"
   },
   {
    "duration": 36,
    "start_time": "2021-07-09T10:21:12.552Z"
   },
   {
    "duration": 78,
    "start_time": "2021-07-09T10:21:12.590Z"
   },
   {
    "duration": 4,
    "start_time": "2021-07-09T10:21:12.670Z"
   },
   {
    "duration": 29,
    "start_time": "2021-07-09T10:21:12.676Z"
   },
   {
    "duration": 28,
    "start_time": "2021-07-09T10:21:12.707Z"
   },
   {
    "duration": 17,
    "start_time": "2021-07-09T10:21:12.737Z"
   },
   {
    "duration": 33,
    "start_time": "2021-07-09T10:21:12.756Z"
   },
   {
    "duration": 704,
    "start_time": "2021-07-09T10:21:12.792Z"
   },
   {
    "duration": 6,
    "start_time": "2021-07-09T10:21:39.193Z"
   },
   {
    "duration": 1554,
    "start_time": "2021-07-09T10:21:47.914Z"
   },
   {
    "duration": 5,
    "start_time": "2021-07-09T10:22:04.680Z"
   },
   {
    "duration": 317,
    "start_time": "2021-07-09T10:22:13.216Z"
   },
   {
    "duration": 5,
    "start_time": "2021-07-09T10:22:38.265Z"
   },
   {
    "duration": 2159,
    "start_time": "2021-07-09T10:22:41.009Z"
   },
   {
    "duration": 3,
    "start_time": "2021-07-09T10:22:44.871Z"
   },
   {
    "duration": 1781,
    "start_time": "2021-07-09T10:22:46.494Z"
   },
   {
    "duration": 3624,
    "start_time": "2021-07-09T10:22:48.545Z"
   },
   {
    "duration": 96,
    "start_time": "2021-07-09T10:22:52.173Z"
   },
   {
    "duration": 8,
    "start_time": "2021-07-09T10:26:49.781Z"
   },
   {
    "duration": 4,
    "start_time": "2021-07-09T10:26:51.565Z"
   },
   {
    "duration": 5,
    "start_time": "2021-07-09T10:26:53.216Z"
   },
   {
    "duration": 5,
    "start_time": "2021-07-09T10:27:26.110Z"
   },
   {
    "duration": 2062,
    "start_time": "2021-07-09T10:27:30.318Z"
   },
   {
    "duration": 3455,
    "start_time": "2021-07-09T10:27:45.917Z"
   },
   {
    "duration": 6,
    "start_time": "2021-07-09T10:27:52.589Z"
   },
   {
    "duration": 6,
    "start_time": "2021-07-09T10:33:47.158Z"
   },
   {
    "duration": 367,
    "start_time": "2021-07-09T10:34:33.997Z"
   },
   {
    "duration": 6,
    "start_time": "2021-07-09T10:34:39.276Z"
   },
   {
    "duration": 328,
    "start_time": "2021-07-09T10:34:48.589Z"
   },
   {
    "duration": 5,
    "start_time": "2021-07-09T10:37:58.909Z"
   },
   {
    "duration": 336,
    "start_time": "2021-07-09T10:38:17.004Z"
   },
   {
    "duration": 5,
    "start_time": "2021-07-09T10:38:23.518Z"
   },
   {
    "duration": 3,
    "start_time": "2021-07-09T10:42:09.174Z"
   },
   {
    "duration": 1609,
    "start_time": "2021-07-09T10:47:00.792Z"
   },
   {
    "duration": 885,
    "start_time": "2021-07-09T10:47:02.404Z"
   },
   {
    "duration": 36,
    "start_time": "2021-07-09T10:47:03.292Z"
   },
   {
    "duration": 10,
    "start_time": "2021-07-09T10:47:03.331Z"
   },
   {
    "duration": 25,
    "start_time": "2021-07-09T10:47:03.344Z"
   },
   {
    "duration": 17,
    "start_time": "2021-07-09T10:47:03.372Z"
   },
   {
    "duration": 16,
    "start_time": "2021-07-09T10:47:03.392Z"
   },
   {
    "duration": 10,
    "start_time": "2021-07-09T10:47:03.413Z"
   },
   {
    "duration": 15,
    "start_time": "2021-07-09T10:47:03.427Z"
   },
   {
    "duration": 48,
    "start_time": "2021-07-09T10:47:03.444Z"
   },
   {
    "duration": 3,
    "start_time": "2021-07-09T10:47:03.495Z"
   },
   {
    "duration": 15,
    "start_time": "2021-07-09T10:47:03.501Z"
   },
   {
    "duration": 18,
    "start_time": "2021-07-09T10:47:03.518Z"
   },
   {
    "duration": 36,
    "start_time": "2021-07-09T10:47:03.539Z"
   },
   {
    "duration": 20,
    "start_time": "2021-07-09T10:47:03.578Z"
   },
   {
    "duration": 13,
    "start_time": "2021-07-09T10:47:03.600Z"
   },
   {
    "duration": 17,
    "start_time": "2021-07-09T10:47:03.615Z"
   },
   {
    "duration": 15,
    "start_time": "2021-07-09T10:47:03.635Z"
   },
   {
    "duration": 17,
    "start_time": "2021-07-09T10:47:03.652Z"
   },
   {
    "duration": 32,
    "start_time": "2021-07-09T10:47:03.672Z"
   },
   {
    "duration": 27,
    "start_time": "2021-07-09T10:47:03.706Z"
   },
   {
    "duration": 40042,
    "start_time": "2021-07-09T10:47:03.735Z"
   },
   {
    "duration": 9,
    "start_time": "2021-07-09T10:47:43.783Z"
   },
   {
    "duration": 951,
    "start_time": "2021-07-09T10:47:43.796Z"
   },
   {
    "duration": 954,
    "start_time": "2021-07-09T10:47:44.750Z"
   },
   {
    "duration": 1046,
    "start_time": "2021-07-09T10:47:45.707Z"
   },
   {
    "duration": 874,
    "start_time": "2021-07-09T10:47:46.755Z"
   },
   {
    "duration": 9,
    "start_time": "2021-07-09T10:47:47.632Z"
   },
   {
    "duration": 25,
    "start_time": "2021-07-09T10:47:47.644Z"
   },
   {
    "duration": 4,
    "start_time": "2021-07-09T10:47:47.672Z"
   },
   {
    "duration": 49,
    "start_time": "2021-07-09T10:47:47.678Z"
   },
   {
    "duration": 1419,
    "start_time": "2021-07-09T10:47:47.729Z"
   },
   {
    "duration": 40,
    "start_time": "2021-07-09T10:47:49.151Z"
   },
   {
    "duration": 35,
    "start_time": "2021-07-09T10:47:49.194Z"
   },
   {
    "duration": 67,
    "start_time": "2021-07-09T10:47:49.232Z"
   },
   {
    "duration": 12,
    "start_time": "2021-07-09T10:47:49.302Z"
   },
   {
    "duration": 12,
    "start_time": "2021-07-09T10:47:49.317Z"
   },
   {
    "duration": 20,
    "start_time": "2021-07-09T10:47:49.368Z"
   },
   {
    "duration": 4,
    "start_time": "2021-07-09T10:47:49.391Z"
   },
   {
    "duration": 12,
    "start_time": "2021-07-09T10:47:49.397Z"
   },
   {
    "duration": 7,
    "start_time": "2021-07-09T10:47:49.411Z"
   },
   {
    "duration": 8,
    "start_time": "2021-07-09T10:47:49.420Z"
   },
   {
    "duration": 36,
    "start_time": "2021-07-09T10:47:49.431Z"
   },
   {
    "duration": 19,
    "start_time": "2021-07-09T10:47:49.470Z"
   },
   {
    "duration": 15,
    "start_time": "2021-07-09T10:47:49.491Z"
   },
   {
    "duration": 84,
    "start_time": "2021-07-09T10:47:49.508Z"
   },
   {
    "duration": 4,
    "start_time": "2021-07-09T10:47:49.595Z"
   },
   {
    "duration": 13,
    "start_time": "2021-07-09T10:47:49.601Z"
   },
   {
    "duration": 10,
    "start_time": "2021-07-09T10:47:49.616Z"
   },
   {
    "duration": 7,
    "start_time": "2021-07-09T10:47:49.628Z"
   },
   {
    "duration": 14,
    "start_time": "2021-07-09T10:47:49.637Z"
   },
   {
    "duration": 2316,
    "start_time": "2021-07-09T10:47:49.654Z"
   },
   {
    "duration": 3499,
    "start_time": "2021-07-09T10:47:51.973Z"
   },
   {
    "duration": 92,
    "start_time": "2021-07-09T10:47:55.475Z"
   },
   {
    "duration": 27,
    "start_time": "2021-07-09T10:47:55.571Z"
   },
   {
    "duration": 9,
    "start_time": "2021-07-09T10:47:55.601Z"
   },
   {
    "duration": 56,
    "start_time": "2021-07-09T10:47:55.613Z"
   },
   {
    "duration": 9673,
    "start_time": "2021-07-09T10:47:55.671Z"
   },
   {
    "duration": 23774,
    "start_time": "2021-07-09T10:48:05.347Z"
   },
   {
    "duration": 4,
    "start_time": "2021-07-09T10:48:29.124Z"
   },
   {
    "duration": 19,
    "start_time": "2021-07-09T10:48:29.130Z"
   },
   {
    "duration": 17,
    "start_time": "2021-07-09T10:48:29.152Z"
   },
   {
    "duration": 9,
    "start_time": "2021-07-09T10:48:29.171Z"
   },
   {
    "duration": 398599,
    "start_time": "2021-07-09T10:48:29.182Z"
   },
   {
    "duration": 950790,
    "start_time": "2021-07-09T10:55:07.785Z"
   },
   {
    "duration": 3,
    "start_time": "2021-07-09T11:10:58.578Z"
   },
   {
    "duration": 16,
    "start_time": "2021-07-09T11:10:58.584Z"
   },
   {
    "duration": 105,
    "start_time": "2021-07-09T11:10:58.607Z"
   },
   {
    "duration": 47389,
    "start_time": "2021-07-09T11:10:11.326Z"
   },
   {
    "duration": 47385,
    "start_time": "2021-07-09T11:10:11.331Z"
   },
   {
    "duration": 47381,
    "start_time": "2021-07-09T11:10:11.337Z"
   },
   {
    "duration": 6,
    "start_time": "2021-07-09T11:12:20.042Z"
   },
   {
    "duration": 15,
    "start_time": "2021-07-09T11:12:22.869Z"
   },
   {
    "duration": 7,
    "start_time": "2021-07-09T11:13:00.102Z"
   },
   {
    "duration": 14,
    "start_time": "2021-07-09T11:13:02.031Z"
   },
   {
    "duration": 1477,
    "start_time": "2021-07-10T08:06:46.150Z"
   },
   {
    "duration": 850,
    "start_time": "2021-07-10T08:06:47.629Z"
   },
   {
    "duration": 37,
    "start_time": "2021-07-10T08:06:48.481Z"
   },
   {
    "duration": 4,
    "start_time": "2021-07-10T08:06:48.521Z"
   },
   {
    "duration": 21,
    "start_time": "2021-07-10T08:06:48.527Z"
   },
   {
    "duration": 12,
    "start_time": "2021-07-10T08:06:48.550Z"
   },
   {
    "duration": 15,
    "start_time": "2021-07-10T08:06:48.564Z"
   },
   {
    "duration": 19,
    "start_time": "2021-07-10T08:06:48.582Z"
   },
   {
    "duration": 9,
    "start_time": "2021-07-10T08:06:48.604Z"
   },
   {
    "duration": 34,
    "start_time": "2021-07-10T08:06:48.615Z"
   },
   {
    "duration": 4,
    "start_time": "2021-07-10T08:06:48.651Z"
   },
   {
    "duration": 21,
    "start_time": "2021-07-10T08:06:48.657Z"
   },
   {
    "duration": 27,
    "start_time": "2021-07-10T08:06:48.680Z"
   },
   {
    "duration": 15,
    "start_time": "2021-07-10T08:06:48.709Z"
   },
   {
    "duration": 5,
    "start_time": "2021-07-10T08:06:48.726Z"
   },
   {
    "duration": 7,
    "start_time": "2021-07-10T08:06:48.734Z"
   },
   {
    "duration": 9,
    "start_time": "2021-07-10T08:06:48.743Z"
   },
   {
    "duration": 8,
    "start_time": "2021-07-10T08:06:48.754Z"
   },
   {
    "duration": 35,
    "start_time": "2021-07-10T08:06:48.765Z"
   },
   {
    "duration": 24,
    "start_time": "2021-07-10T08:06:48.803Z"
   },
   {
    "duration": 27,
    "start_time": "2021-07-10T08:06:48.829Z"
   },
   {
    "duration": 42292,
    "start_time": "2021-07-10T08:06:48.859Z"
   },
   {
    "duration": 8,
    "start_time": "2021-07-10T08:07:31.158Z"
   },
   {
    "duration": 978,
    "start_time": "2021-07-10T08:07:31.170Z"
   },
   {
    "duration": 981,
    "start_time": "2021-07-10T08:07:32.151Z"
   },
   {
    "duration": 1081,
    "start_time": "2021-07-10T08:07:33.135Z"
   },
   {
    "duration": 906,
    "start_time": "2021-07-10T08:07:34.219Z"
   },
   {
    "duration": 9,
    "start_time": "2021-07-10T08:07:35.128Z"
   },
   {
    "duration": 10,
    "start_time": "2021-07-10T08:07:35.139Z"
   },
   {
    "duration": 4,
    "start_time": "2021-07-10T08:07:35.152Z"
   },
   {
    "duration": 87,
    "start_time": "2021-07-10T08:07:35.158Z"
   },
   {
    "duration": 1436,
    "start_time": "2021-07-10T08:07:35.248Z"
   },
   {
    "duration": 34,
    "start_time": "2021-07-10T08:07:36.700Z"
   },
   {
    "duration": 35,
    "start_time": "2021-07-10T08:07:36.737Z"
   },
   {
    "duration": 36,
    "start_time": "2021-07-10T08:07:36.806Z"
   },
   {
    "duration": 12,
    "start_time": "2021-07-10T08:07:36.844Z"
   },
   {
    "duration": 43,
    "start_time": "2021-07-10T08:07:36.859Z"
   },
   {
    "duration": 21,
    "start_time": "2021-07-10T08:07:36.905Z"
   },
   {
    "duration": 5,
    "start_time": "2021-07-10T08:07:36.928Z"
   },
   {
    "duration": 8,
    "start_time": "2021-07-10T08:07:36.936Z"
   },
   {
    "duration": 5,
    "start_time": "2021-07-10T08:07:36.947Z"
   },
   {
    "duration": 48,
    "start_time": "2021-07-10T08:07:36.954Z"
   },
   {
    "duration": 10,
    "start_time": "2021-07-10T08:07:37.005Z"
   },
   {
    "duration": 17,
    "start_time": "2021-07-10T08:07:37.018Z"
   },
   {
    "duration": 12,
    "start_time": "2021-07-10T08:07:37.038Z"
   },
   {
    "duration": 91,
    "start_time": "2021-07-10T08:07:37.052Z"
   },
   {
    "duration": 4,
    "start_time": "2021-07-10T08:07:37.146Z"
   },
   {
    "duration": 7,
    "start_time": "2021-07-10T08:07:37.153Z"
   },
   {
    "duration": 6,
    "start_time": "2021-07-10T08:07:37.162Z"
   },
   {
    "duration": 34,
    "start_time": "2021-07-10T08:07:37.170Z"
   },
   {
    "duration": 4,
    "start_time": "2021-07-10T08:07:37.206Z"
   },
   {
    "duration": 2408,
    "start_time": "2021-07-10T08:07:37.212Z"
   },
   {
    "duration": 6289,
    "start_time": "2021-07-10T08:07:39.624Z"
   },
   {
    "duration": 5,
    "start_time": "2021-07-10T08:07:45.916Z"
   },
   {
    "duration": 96,
    "start_time": "2021-07-10T08:07:45.924Z"
   },
   {
    "duration": 4,
    "start_time": "2021-07-10T08:07:46.023Z"
   },
   {
    "duration": 21,
    "start_time": "2021-07-10T08:07:46.029Z"
   },
   {
    "duration": 9848,
    "start_time": "2021-07-10T08:07:46.053Z"
   },
   {
    "duration": 23511,
    "start_time": "2021-07-10T08:07:55.904Z"
   },
   {
    "duration": 3,
    "start_time": "2021-07-10T08:08:19.418Z"
   },
   {
    "duration": 14,
    "start_time": "2021-07-10T08:08:19.425Z"
   },
   {
    "duration": 9,
    "start_time": "2021-07-10T08:08:19.442Z"
   },
   {
    "duration": 53,
    "start_time": "2021-07-10T08:08:19.453Z"
   },
   {
    "duration": 406253,
    "start_time": "2021-07-10T08:08:19.509Z"
   },
   {
    "duration": 949348,
    "start_time": "2021-07-10T08:15:05.764Z"
   },
   {
    "duration": 3,
    "start_time": "2021-07-10T08:30:55.115Z"
   },
   {
    "duration": 28,
    "start_time": "2021-07-10T08:30:55.120Z"
   },
   {
    "duration": 7,
    "start_time": "2021-07-10T08:30:55.156Z"
   },
   {
    "duration": 50,
    "start_time": "2021-07-10T08:30:55.166Z"
   },
   {
    "duration": 25,
    "start_time": "2021-07-10T08:30:55.219Z"
   },
   {
    "duration": 17,
    "start_time": "2021-07-10T08:30:55.247Z"
   },
   {
    "duration": 1404,
    "start_time": "2021-07-10T12:16:47.574Z"
   },
   {
    "duration": 866,
    "start_time": "2021-07-10T12:16:48.981Z"
   },
   {
    "duration": 38,
    "start_time": "2021-07-10T12:16:49.850Z"
   },
   {
    "duration": 6,
    "start_time": "2021-07-10T12:16:49.892Z"
   },
   {
    "duration": 7,
    "start_time": "2021-07-10T12:16:49.901Z"
   },
   {
    "duration": 47,
    "start_time": "2021-07-10T12:16:49.911Z"
   },
   {
    "duration": 7,
    "start_time": "2021-07-10T12:16:49.961Z"
   },
   {
    "duration": 5,
    "start_time": "2021-07-10T12:16:49.974Z"
   },
   {
    "duration": 7,
    "start_time": "2021-07-10T12:16:49.983Z"
   },
   {
    "duration": 84,
    "start_time": "2021-07-10T12:16:49.993Z"
   },
   {
    "duration": 4,
    "start_time": "2021-07-10T12:16:50.081Z"
   },
   {
    "duration": 10,
    "start_time": "2021-07-10T12:16:50.088Z"
   },
   {
    "duration": 15,
    "start_time": "2021-07-10T12:16:50.100Z"
   },
   {
    "duration": 42,
    "start_time": "2021-07-10T12:16:50.117Z"
   },
   {
    "duration": 8,
    "start_time": "2021-07-10T12:16:50.161Z"
   },
   {
    "duration": 6,
    "start_time": "2021-07-10T12:16:50.171Z"
   },
   {
    "duration": 8,
    "start_time": "2021-07-10T12:16:50.179Z"
   },
   {
    "duration": 7,
    "start_time": "2021-07-10T12:16:50.189Z"
   },
   {
    "duration": 10,
    "start_time": "2021-07-10T12:16:50.198Z"
   },
   {
    "duration": 66,
    "start_time": "2021-07-10T12:16:50.210Z"
   },
   {
    "duration": 27,
    "start_time": "2021-07-10T12:16:50.278Z"
   },
   {
    "duration": 39093,
    "start_time": "2021-07-10T12:16:50.308Z"
   },
   {
    "duration": 7,
    "start_time": "2021-07-10T12:17:29.406Z"
   },
   {
    "duration": 915,
    "start_time": "2021-07-10T12:17:29.417Z"
   },
   {
    "duration": 1003,
    "start_time": "2021-07-10T12:17:30.334Z"
   },
   {
    "duration": 979,
    "start_time": "2021-07-10T12:17:31.339Z"
   },
   {
    "duration": 829,
    "start_time": "2021-07-10T12:17:32.320Z"
   },
   {
    "duration": 12,
    "start_time": "2021-07-10T12:17:33.151Z"
   },
   {
    "duration": 10,
    "start_time": "2021-07-10T12:17:33.166Z"
   },
   {
    "duration": 5,
    "start_time": "2021-07-10T12:17:33.179Z"
   },
   {
    "duration": 85,
    "start_time": "2021-07-10T12:17:33.187Z"
   },
   {
    "duration": 1320,
    "start_time": "2021-07-10T12:17:33.274Z"
   },
   {
    "duration": 30,
    "start_time": "2021-07-10T12:17:34.597Z"
   },
   {
    "duration": 54,
    "start_time": "2021-07-10T12:17:34.630Z"
   },
   {
    "duration": 32,
    "start_time": "2021-07-10T12:17:34.687Z"
   },
   {
    "duration": 42,
    "start_time": "2021-07-10T12:17:34.722Z"
   },
   {
    "duration": 10,
    "start_time": "2021-07-10T12:17:34.766Z"
   },
   {
    "duration": 18,
    "start_time": "2021-07-10T12:17:34.778Z"
   },
   {
    "duration": 4,
    "start_time": "2021-07-10T12:17:34.798Z"
   },
   {
    "duration": 52,
    "start_time": "2021-07-10T12:17:34.804Z"
   },
   {
    "duration": 5,
    "start_time": "2021-07-10T12:17:34.858Z"
   },
   {
    "duration": 6,
    "start_time": "2021-07-10T12:17:34.866Z"
   },
   {
    "duration": 6,
    "start_time": "2021-07-10T12:17:34.875Z"
   },
   {
    "duration": 15,
    "start_time": "2021-07-10T12:17:34.883Z"
   },
   {
    "duration": 12,
    "start_time": "2021-07-10T12:17:34.900Z"
   },
   {
    "duration": 87,
    "start_time": "2021-07-10T12:17:34.915Z"
   },
   {
    "duration": 4,
    "start_time": "2021-07-10T12:17:35.004Z"
   },
   {
    "duration": 6,
    "start_time": "2021-07-10T12:17:35.011Z"
   },
   {
    "duration": 7,
    "start_time": "2021-07-10T12:17:35.019Z"
   },
   {
    "duration": 8,
    "start_time": "2021-07-10T12:17:35.028Z"
   },
   {
    "duration": 4,
    "start_time": "2021-07-10T12:17:35.056Z"
   },
   {
    "duration": 2098,
    "start_time": "2021-07-10T12:17:35.063Z"
   },
   {
    "duration": 3511,
    "start_time": "2021-07-10T12:17:37.255Z"
   },
   {
    "duration": 95,
    "start_time": "2021-07-10T12:17:40.863Z"
   },
   {
    "duration": 13,
    "start_time": "2021-07-10T12:17:40.960Z"
   },
   {
    "duration": 6,
    "start_time": "2021-07-10T12:17:40.975Z"
   },
   {
    "duration": 9,
    "start_time": "2021-07-10T12:17:40.984Z"
   },
   {
    "duration": 9268,
    "start_time": "2021-07-10T12:17:40.995Z"
   },
   {
    "duration": 22407,
    "start_time": "2021-07-10T12:17:50.266Z"
   },
   {
    "duration": 3,
    "start_time": "2021-07-10T12:18:12.676Z"
   },
   {
    "duration": 22,
    "start_time": "2021-07-10T12:18:12.682Z"
   },
   {
    "duration": 4,
    "start_time": "2021-07-10T12:18:12.706Z"
   },
   {
    "duration": 383044,
    "start_time": "2021-07-10T12:18:12.712Z"
   },
   {
    "duration": 886367,
    "start_time": "2021-07-10T12:24:35.758Z"
   },
   {
    "duration": 4,
    "start_time": "2021-07-10T12:39:22.127Z"
   },
   {
    "duration": 33,
    "start_time": "2021-07-10T12:39:22.134Z"
   },
   {
    "duration": 8,
    "start_time": "2021-07-10T12:39:22.170Z"
   },
   {
    "duration": 15,
    "start_time": "2021-07-10T12:39:22.187Z"
   },
   {
    "duration": 51,
    "start_time": "2021-07-10T12:39:22.205Z"
   },
   {
    "duration": 15,
    "start_time": "2021-07-10T12:39:22.260Z"
   },
   {
    "duration": 82,
    "start_time": "2021-07-10T13:12:15.653Z"
   },
   {
    "duration": 1570,
    "start_time": "2021-07-11T11:56:28.162Z"
   },
   {
    "duration": 895,
    "start_time": "2021-07-11T11:56:29.735Z"
   },
   {
    "duration": 52,
    "start_time": "2021-07-11T11:56:30.636Z"
   },
   {
    "duration": 4,
    "start_time": "2021-07-11T11:56:30.691Z"
   },
   {
    "duration": 18,
    "start_time": "2021-07-11T11:56:30.698Z"
   },
   {
    "duration": 22,
    "start_time": "2021-07-11T11:56:30.718Z"
   },
   {
    "duration": 16,
    "start_time": "2021-07-11T11:56:30.744Z"
   },
   {
    "duration": 18,
    "start_time": "2021-07-11T11:56:30.763Z"
   },
   {
    "duration": 22,
    "start_time": "2021-07-11T11:56:30.783Z"
   },
   {
    "duration": 36,
    "start_time": "2021-07-11T11:56:30.808Z"
   },
   {
    "duration": 4,
    "start_time": "2021-07-11T11:56:30.846Z"
   },
   {
    "duration": 19,
    "start_time": "2021-07-11T11:56:30.852Z"
   },
   {
    "duration": 30,
    "start_time": "2021-07-11T11:56:30.874Z"
   },
   {
    "duration": 20,
    "start_time": "2021-07-11T11:56:30.907Z"
   },
   {
    "duration": 15,
    "start_time": "2021-07-11T11:56:30.930Z"
   },
   {
    "duration": 8,
    "start_time": "2021-07-11T11:56:30.947Z"
   },
   {
    "duration": 20,
    "start_time": "2021-07-11T11:56:30.957Z"
   },
   {
    "duration": 18,
    "start_time": "2021-07-11T11:56:30.979Z"
   },
   {
    "duration": 11,
    "start_time": "2021-07-11T11:56:31.000Z"
   },
   {
    "duration": 24,
    "start_time": "2021-07-11T11:56:31.013Z"
   },
   {
    "duration": 29,
    "start_time": "2021-07-11T11:56:31.040Z"
   },
   {
    "duration": 39990,
    "start_time": "2021-07-11T11:56:31.087Z"
   },
   {
    "duration": 9,
    "start_time": "2021-07-11T11:57:11.086Z"
   },
   {
    "duration": 951,
    "start_time": "2021-07-11T11:57:11.097Z"
   },
   {
    "duration": 916,
    "start_time": "2021-07-11T11:57:12.050Z"
   },
   {
    "duration": 998,
    "start_time": "2021-07-11T11:57:12.968Z"
   },
   {
    "duration": 845,
    "start_time": "2021-07-11T11:57:13.968Z"
   },
   {
    "duration": 10,
    "start_time": "2021-07-11T11:57:14.815Z"
   },
   {
    "duration": 10,
    "start_time": "2021-07-11T11:57:14.828Z"
   },
   {
    "duration": 5,
    "start_time": "2021-07-11T11:57:14.841Z"
   },
   {
    "duration": 47,
    "start_time": "2021-07-11T11:57:14.884Z"
   },
   {
    "duration": 1442,
    "start_time": "2021-07-11T11:57:14.934Z"
   },
   {
    "duration": 28,
    "start_time": "2021-07-11T11:57:16.385Z"
   },
   {
    "duration": 33,
    "start_time": "2021-07-11T11:57:16.416Z"
   },
   {
    "duration": 62,
    "start_time": "2021-07-11T11:57:16.451Z"
   },
   {
    "duration": 13,
    "start_time": "2021-07-11T11:57:16.515Z"
   },
   {
    "duration": 10,
    "start_time": "2021-07-11T11:57:16.531Z"
   },
   {
    "duration": 57,
    "start_time": "2021-07-11T11:57:16.543Z"
   },
   {
    "duration": 5,
    "start_time": "2021-07-11T11:57:16.602Z"
   },
   {
    "duration": 7,
    "start_time": "2021-07-11T11:57:16.609Z"
   },
   {
    "duration": 6,
    "start_time": "2021-07-11T11:57:16.618Z"
   },
   {
    "duration": 6,
    "start_time": "2021-07-11T11:57:16.626Z"
   },
   {
    "duration": 50,
    "start_time": "2021-07-11T11:57:16.635Z"
   },
   {
    "duration": 12,
    "start_time": "2021-07-11T11:57:16.688Z"
   },
   {
    "duration": 13,
    "start_time": "2021-07-11T11:57:16.703Z"
   },
   {
    "duration": 69,
    "start_time": "2021-07-11T11:57:16.718Z"
   },
   {
    "duration": 4,
    "start_time": "2021-07-11T11:57:16.790Z"
   },
   {
    "duration": 7,
    "start_time": "2021-07-11T11:57:16.796Z"
   },
   {
    "duration": 13,
    "start_time": "2021-07-11T11:57:16.805Z"
   },
   {
    "duration": 7,
    "start_time": "2021-07-11T11:57:16.821Z"
   },
   {
    "duration": 6,
    "start_time": "2021-07-11T11:57:16.830Z"
   },
   {
    "duration": 1950,
    "start_time": "2021-07-11T11:57:16.839Z"
   },
   {
    "duration": 3997,
    "start_time": "2021-07-11T11:57:18.792Z"
   },
   {
    "duration": 92,
    "start_time": "2021-07-11T11:57:22.794Z"
   },
   {
    "duration": 15,
    "start_time": "2021-07-11T11:57:22.890Z"
   },
   {
    "duration": 5,
    "start_time": "2021-07-11T11:57:22.986Z"
   },
   {
    "duration": 9,
    "start_time": "2021-07-11T11:57:22.994Z"
   },
   {
    "duration": 10227,
    "start_time": "2021-07-11T11:57:23.005Z"
   },
   {
    "duration": 24208,
    "start_time": "2021-07-11T11:57:33.235Z"
   },
   {
    "duration": 3,
    "start_time": "2021-07-11T11:57:57.446Z"
   },
   {
    "duration": 33,
    "start_time": "2021-07-11T11:57:57.452Z"
   },
   {
    "duration": 5,
    "start_time": "2021-07-11T11:57:57.488Z"
   },
   {
    "duration": 400846,
    "start_time": "2021-07-11T11:57:57.497Z"
   },
   {
    "duration": 931610,
    "start_time": "2021-07-11T12:04:38.345Z"
   },
   {
    "duration": 4,
    "start_time": "2021-07-11T12:20:09.957Z"
   },
   {
    "duration": 32,
    "start_time": "2021-07-11T12:20:09.964Z"
   },
   {
    "duration": 6,
    "start_time": "2021-07-11T12:20:10.005Z"
   },
   {
    "duration": 30,
    "start_time": "2021-07-11T12:20:10.014Z"
   },
   {
    "duration": 48,
    "start_time": "2021-07-11T12:20:10.047Z"
   },
   {
    "duration": 12,
    "start_time": "2021-07-11T12:20:10.098Z"
   },
   {
    "duration": 1096,
    "start_time": "2021-08-05T00:20:50.519Z"
   },
   {
    "duration": 689,
    "start_time": "2021-08-05T00:20:51.616Z"
   },
   {
    "duration": 20,
    "start_time": "2021-08-05T00:20:52.307Z"
   },
   {
    "duration": 7,
    "start_time": "2021-08-05T00:20:52.329Z"
   },
   {
    "duration": 7,
    "start_time": "2021-08-05T00:20:52.337Z"
   },
   {
    "duration": 6,
    "start_time": "2021-08-05T00:20:52.345Z"
   },
   {
    "duration": 5,
    "start_time": "2021-08-05T00:20:52.353Z"
   },
   {
    "duration": 4,
    "start_time": "2021-08-05T00:20:52.360Z"
   },
   {
    "duration": 26,
    "start_time": "2021-08-05T00:20:52.366Z"
   },
   {
    "duration": 21,
    "start_time": "2021-08-05T00:20:52.394Z"
   },
   {
    "duration": 3,
    "start_time": "2021-08-05T00:20:52.416Z"
   },
   {
    "duration": 10,
    "start_time": "2021-08-05T00:20:52.420Z"
   },
   {
    "duration": 9,
    "start_time": "2021-08-05T00:20:52.431Z"
   },
   {
    "duration": 10,
    "start_time": "2021-08-05T00:20:52.442Z"
   },
   {
    "duration": 6,
    "start_time": "2021-08-05T00:20:52.453Z"
   },
   {
    "duration": 8,
    "start_time": "2021-08-05T00:20:52.460Z"
   },
   {
    "duration": 12,
    "start_time": "2021-08-05T00:20:52.469Z"
   },
   {
    "duration": 3,
    "start_time": "2021-08-05T00:20:52.491Z"
   },
   {
    "duration": 8,
    "start_time": "2021-08-05T00:20:52.496Z"
   },
   {
    "duration": 19,
    "start_time": "2021-08-05T00:20:52.506Z"
   },
   {
    "duration": 22,
    "start_time": "2021-08-05T00:20:52.526Z"
   },
   {
    "duration": 19436,
    "start_time": "2021-08-05T00:20:52.550Z"
   },
   {
    "duration": 5,
    "start_time": "2021-08-05T00:21:11.994Z"
   },
   {
    "duration": 491,
    "start_time": "2021-08-05T00:21:12.002Z"
   },
   {
    "duration": 493,
    "start_time": "2021-08-05T00:21:12.495Z"
   },
   {
    "duration": 555,
    "start_time": "2021-08-05T00:21:12.991Z"
   },
   {
    "duration": 445,
    "start_time": "2021-08-05T00:21:13.548Z"
   },
   {
    "duration": 5,
    "start_time": "2021-08-05T00:21:13.995Z"
   },
   {
    "duration": 12,
    "start_time": "2021-08-05T00:21:14.002Z"
   },
   {
    "duration": 14,
    "start_time": "2021-08-05T00:21:14.015Z"
   },
   {
    "duration": 37,
    "start_time": "2021-08-05T00:21:14.030Z"
   },
   {
    "duration": 706,
    "start_time": "2021-08-05T00:21:14.068Z"
   },
   {
    "duration": 23,
    "start_time": "2021-08-05T00:21:14.775Z"
   },
   {
    "duration": 21,
    "start_time": "2021-08-05T00:21:14.799Z"
   },
   {
    "duration": 17,
    "start_time": "2021-08-05T00:21:14.822Z"
   },
   {
    "duration": 8,
    "start_time": "2021-08-05T00:21:14.841Z"
   },
   {
    "duration": 6,
    "start_time": "2021-08-05T00:21:14.851Z"
   },
   {
    "duration": 13,
    "start_time": "2021-08-05T00:21:14.891Z"
   },
   {
    "duration": 3,
    "start_time": "2021-08-05T00:21:14.906Z"
   },
   {
    "duration": 7,
    "start_time": "2021-08-05T00:21:14.910Z"
   },
   {
    "duration": 5,
    "start_time": "2021-08-05T00:21:14.918Z"
   },
   {
    "duration": 7,
    "start_time": "2021-08-05T00:21:14.924Z"
   },
   {
    "duration": 9,
    "start_time": "2021-08-05T00:21:14.932Z"
   },
   {
    "duration": 16,
    "start_time": "2021-08-05T00:21:14.942Z"
   },
   {
    "duration": 11,
    "start_time": "2021-08-05T00:21:14.960Z"
   },
   {
    "duration": 54,
    "start_time": "2021-08-05T00:21:14.972Z"
   },
   {
    "duration": 3,
    "start_time": "2021-08-05T00:21:15.027Z"
   },
   {
    "duration": 12,
    "start_time": "2021-08-05T00:21:15.031Z"
   },
   {
    "duration": 6,
    "start_time": "2021-08-05T00:21:15.045Z"
   },
   {
    "duration": 12,
    "start_time": "2021-08-05T00:21:15.053Z"
   },
   {
    "duration": 11,
    "start_time": "2021-08-05T00:21:15.066Z"
   },
   {
    "duration": 1019,
    "start_time": "2021-08-05T00:21:15.079Z"
   },
   {
    "duration": 413,
    "start_time": "2021-08-05T00:21:16.100Z"
   },
   {
    "duration": 850,
    "start_time": "2021-08-05T00:21:15.665Z"
   },
   {
    "duration": 836,
    "start_time": "2021-08-05T00:21:15.680Z"
   },
   {
    "duration": 824,
    "start_time": "2021-08-05T00:21:15.693Z"
   },
   {
    "duration": 776,
    "start_time": "2021-08-05T00:21:15.742Z"
   },
   {
    "duration": 762,
    "start_time": "2021-08-05T00:21:15.757Z"
   },
   {
    "duration": 752,
    "start_time": "2021-08-05T00:21:15.768Z"
   },
   {
    "duration": 742,
    "start_time": "2021-08-05T00:21:15.780Z"
   },
   {
    "duration": 732,
    "start_time": "2021-08-05T00:21:15.791Z"
   },
   {
    "duration": 720,
    "start_time": "2021-08-05T00:21:15.803Z"
   },
   {
    "duration": 710,
    "start_time": "2021-08-05T00:21:15.814Z"
   },
   {
    "duration": 698,
    "start_time": "2021-08-05T00:21:15.827Z"
   },
   {
    "duration": 670,
    "start_time": "2021-08-05T00:21:15.856Z"
   },
   {
    "duration": 659,
    "start_time": "2021-08-05T00:21:15.868Z"
   },
   {
    "duration": 647,
    "start_time": "2021-08-05T00:21:15.880Z"
   },
   {
    "duration": 634,
    "start_time": "2021-08-05T00:21:15.894Z"
   },
   {
    "duration": 620,
    "start_time": "2021-08-05T00:21:15.909Z"
   },
   {
    "duration": 609,
    "start_time": "2021-08-05T00:21:15.921Z"
   },
   {
    "duration": 599,
    "start_time": "2021-08-05T00:21:15.932Z"
   },
   {
    "duration": 4,
    "start_time": "2021-08-05T00:21:34.462Z"
   },
   {
    "duration": 22,
    "start_time": "2021-08-05T00:28:54.819Z"
   },
   {
    "duration": 1965,
    "start_time": "2021-08-28T10:38:46.867Z"
   },
   {
    "duration": 823,
    "start_time": "2021-08-28T10:38:48.835Z"
   },
   {
    "duration": 39,
    "start_time": "2021-08-28T10:38:49.661Z"
   },
   {
    "duration": 5,
    "start_time": "2021-08-28T10:38:49.702Z"
   },
   {
    "duration": 5,
    "start_time": "2021-08-28T10:38:49.709Z"
   },
   {
    "duration": 6,
    "start_time": "2021-08-28T10:38:49.716Z"
   },
   {
    "duration": 6,
    "start_time": "2021-08-28T10:38:49.724Z"
   },
   {
    "duration": 51,
    "start_time": "2021-08-28T10:38:49.734Z"
   },
   {
    "duration": 8,
    "start_time": "2021-08-28T10:38:49.788Z"
   },
   {
    "duration": 27,
    "start_time": "2021-08-28T10:38:49.799Z"
   },
   {
    "duration": 3,
    "start_time": "2021-08-28T10:38:49.829Z"
   },
   {
    "duration": 47,
    "start_time": "2021-08-28T10:38:49.835Z"
   },
   {
    "duration": 12,
    "start_time": "2021-08-28T10:38:49.885Z"
   },
   {
    "duration": 12,
    "start_time": "2021-08-28T10:38:49.900Z"
   },
   {
    "duration": 7,
    "start_time": "2021-08-28T10:38:49.915Z"
   },
   {
    "duration": 4,
    "start_time": "2021-08-28T10:38:49.925Z"
   },
   {
    "duration": 51,
    "start_time": "2021-08-28T10:38:49.931Z"
   },
   {
    "duration": 7,
    "start_time": "2021-08-28T10:38:49.985Z"
   },
   {
    "duration": 5,
    "start_time": "2021-08-28T10:38:49.996Z"
   },
   {
    "duration": 25,
    "start_time": "2021-08-28T10:38:50.004Z"
   },
   {
    "duration": 70,
    "start_time": "2021-08-28T10:38:50.031Z"
   },
   {
    "duration": 39187,
    "start_time": "2021-08-28T10:38:50.103Z"
   },
   {
    "duration": 7,
    "start_time": "2021-08-28T10:39:29.296Z"
   },
   {
    "duration": 1481,
    "start_time": "2021-08-28T10:39:29.309Z"
   },
   {
    "duration": 1526,
    "start_time": "2021-08-28T10:39:30.794Z"
   },
   {
    "duration": 1210,
    "start_time": "2021-08-28T10:39:32.323Z"
   },
   {
    "duration": 1375,
    "start_time": "2021-08-28T10:39:33.535Z"
   },
   {
    "duration": 12,
    "start_time": "2021-08-28T10:39:34.913Z"
   },
   {
    "duration": 11,
    "start_time": "2021-08-28T10:39:34.928Z"
   },
   {
    "duration": 10,
    "start_time": "2021-08-28T10:39:34.942Z"
   },
   {
    "duration": 61,
    "start_time": "2021-08-28T10:39:34.981Z"
   },
   {
    "duration": 1453,
    "start_time": "2021-08-28T10:39:35.045Z"
   },
   {
    "duration": 31,
    "start_time": "2021-08-28T10:39:36.502Z"
   },
   {
    "duration": 65,
    "start_time": "2021-08-28T10:39:36.536Z"
   },
   {
    "duration": 34,
    "start_time": "2021-08-28T10:39:36.604Z"
   },
   {
    "duration": 13,
    "start_time": "2021-08-28T10:39:36.641Z"
   },
   {
    "duration": 11,
    "start_time": "2021-08-28T10:39:36.683Z"
   },
   {
    "duration": 29,
    "start_time": "2021-08-28T10:39:36.697Z"
   },
   {
    "duration": 7,
    "start_time": "2021-08-28T10:39:36.729Z"
   },
   {
    "duration": 46,
    "start_time": "2021-08-28T10:39:36.738Z"
   },
   {
    "duration": 4,
    "start_time": "2021-08-28T10:39:36.786Z"
   },
   {
    "duration": 9,
    "start_time": "2021-08-28T10:39:36.793Z"
   },
   {
    "duration": 8,
    "start_time": "2021-08-28T10:39:36.804Z"
   },
   {
    "duration": 28,
    "start_time": "2021-08-28T10:39:36.815Z"
   },
   {
    "duration": 22,
    "start_time": "2021-08-28T10:39:36.846Z"
   },
   {
    "duration": 63,
    "start_time": "2021-08-28T10:39:36.870Z"
   },
   {
    "duration": 6,
    "start_time": "2021-08-28T10:39:36.935Z"
   },
   {
    "duration": 11,
    "start_time": "2021-08-28T10:39:36.944Z"
   },
   {
    "duration": 25,
    "start_time": "2021-08-28T10:39:36.958Z"
   },
   {
    "duration": 15,
    "start_time": "2021-08-28T10:39:36.985Z"
   },
   {
    "duration": 22,
    "start_time": "2021-08-28T10:39:37.002Z"
   },
   {
    "duration": 50,
    "start_time": "2021-08-28T10:39:37.026Z"
   },
   {
    "duration": 2502,
    "start_time": "2021-08-28T10:39:37.079Z"
   },
   {
    "duration": 7,
    "start_time": "2021-08-28T10:39:39.585Z"
   },
   {
    "duration": 4090,
    "start_time": "2021-08-28T10:39:39.595Z"
   },
   {
    "duration": 4,
    "start_time": "2021-08-28T10:39:43.687Z"
   },
   {
    "duration": 15,
    "start_time": "2021-08-28T10:39:43.694Z"
   },
   {
    "duration": 6,
    "start_time": "2021-08-28T10:39:43.782Z"
   },
   {
    "duration": 18,
    "start_time": "2021-08-28T10:39:43.790Z"
   },
   {
    "duration": 9286,
    "start_time": "2021-08-28T10:39:43.810Z"
   },
   {
    "duration": 22231,
    "start_time": "2021-08-28T10:39:53.099Z"
   },
   {
    "duration": 4,
    "start_time": "2021-08-28T10:40:15.332Z"
   },
   {
    "duration": 16,
    "start_time": "2021-08-28T10:40:15.339Z"
   },
   {
    "duration": 24,
    "start_time": "2021-08-28T10:40:15.358Z"
   },
   {
    "duration": 379301,
    "start_time": "2021-08-28T10:40:15.385Z"
   },
   {
    "duration": 885175,
    "start_time": "2021-08-28T10:46:34.688Z"
   },
   {
    "duration": 4,
    "start_time": "2021-08-28T11:01:19.866Z"
   },
   {
    "duration": 15,
    "start_time": "2021-08-28T11:01:19.888Z"
   },
   {
    "duration": 6,
    "start_time": "2021-08-28T11:01:19.905Z"
   },
   {
    "duration": 15,
    "start_time": "2021-08-28T11:01:19.914Z"
   },
   {
    "duration": 50,
    "start_time": "2021-08-28T11:01:19.932Z"
   },
   {
    "duration": 10,
    "start_time": "2021-08-28T11:01:19.985Z"
   }
  ],
  "kernelspec": {
   "display_name": "Python 3 (ipykernel)",
   "language": "python",
   "name": "python3"
  },
  "language_info": {
   "codemirror_mode": {
    "name": "ipython",
    "version": 3
   },
   "file_extension": ".py",
   "mimetype": "text/x-python",
   "name": "python",
   "nbconvert_exporter": "python",
   "pygments_lexer": "ipython3",
   "version": "3.9.7"
  },
  "toc": {
   "base_numbering": 1,
   "nav_menu": {},
   "number_sections": true,
   "sideBar": true,
   "skip_h1_title": true,
   "title_cell": "Содержание",
   "title_sidebar": "Contents",
   "toc_cell": true,
   "toc_position": {
    "height": "calc(100% - 180px)",
    "left": "10px",
    "top": "150px",
    "width": "165px"
   },
   "toc_section_display": true,
   "toc_window_display": true
  }
 },
 "nbformat": 4,
 "nbformat_minor": 2
}
