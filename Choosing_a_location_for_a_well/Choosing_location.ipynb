{
 "cells": [
  {
   "cell_type": "markdown",
   "metadata": {},
   "source": [
    "# Choosing a location for a well"
   ]
  },
  {
   "cell_type": "markdown",
   "metadata": {},
   "source": [
    "Building a model to dpredict a promising oil production region based on samples provided from several regions, as well as measured indicators: oil quality and its volume of reserves in wells. Analysis of possible profit and risks.\n",
    "\n",
    "Steps to choose a location:\n",
    "\n",
    "- In the selected region, they are looking for deposits, for each, the values of the signs are determined;\n",
    "- Build a model and estimate the volume of reserves;\n",
    "- Select the deposits with the highest value estimates. The number of fields depends on the company's budget and the cost of developing one well;\n",
    "- The profit is equal to the total profit of the selected fields."
   ]
  },
  {
   "cell_type": "markdown",
   "metadata": {},
   "source": [
    "## Loading and preparing data"
   ]
  },
  {
   "cell_type": "code",
   "execution_count": 1,
   "metadata": {},
   "outputs": [],
   "source": [
    "import pandas as pd\n",
    "import numpy as np\n",
    "from sklearn.model_selection import train_test_split\n",
    "from sklearn.preprocessing import StandardScaler\n",
    "from sklearn.linear_model import LinearRegression\n",
    "from sklearn.metrics import mean_squared_error"
   ]
  },
  {
   "cell_type": "code",
   "execution_count": 2,
   "metadata": {},
   "outputs": [],
   "source": [
    "df_0 = pd.read_csv('/datasets/geo_data_0.csv')\n",
    "df_1 = pd.read_csv('/datasets/geo_data_1.csv')\n",
    "df_2 = pd.read_csv('/datasets/geo_data_2.csv')"
   ]
  },
  {
   "cell_type": "code",
   "execution_count": 3,
   "metadata": {},
   "outputs": [
    {
     "data": {
      "text/html": [
       "<div>\n",
       "<style scoped>\n",
       "    .dataframe tbody tr th:only-of-type {\n",
       "        vertical-align: middle;\n",
       "    }\n",
       "\n",
       "    .dataframe tbody tr th {\n",
       "        vertical-align: top;\n",
       "    }\n",
       "\n",
       "    .dataframe thead th {\n",
       "        text-align: right;\n",
       "    }\n",
       "</style>\n",
       "<table border=\"1\" class=\"dataframe\">\n",
       "  <thead>\n",
       "    <tr style=\"text-align: right;\">\n",
       "      <th></th>\n",
       "      <th>id</th>\n",
       "      <th>f0</th>\n",
       "      <th>f1</th>\n",
       "      <th>f2</th>\n",
       "      <th>product</th>\n",
       "    </tr>\n",
       "  </thead>\n",
       "  <tbody>\n",
       "    <tr>\n",
       "      <td>0</td>\n",
       "      <td>kBEdx</td>\n",
       "      <td>-15.001348</td>\n",
       "      <td>-8.276000</td>\n",
       "      <td>-0.005876</td>\n",
       "      <td>3.179103</td>\n",
       "    </tr>\n",
       "    <tr>\n",
       "      <td>1</td>\n",
       "      <td>62mP7</td>\n",
       "      <td>14.272088</td>\n",
       "      <td>-3.475083</td>\n",
       "      <td>0.999183</td>\n",
       "      <td>26.953261</td>\n",
       "    </tr>\n",
       "    <tr>\n",
       "      <td>2</td>\n",
       "      <td>vyE1P</td>\n",
       "      <td>6.263187</td>\n",
       "      <td>-5.948386</td>\n",
       "      <td>5.001160</td>\n",
       "      <td>134.766305</td>\n",
       "    </tr>\n",
       "    <tr>\n",
       "      <td>3</td>\n",
       "      <td>KcrkZ</td>\n",
       "      <td>-13.081196</td>\n",
       "      <td>-11.506057</td>\n",
       "      <td>4.999415</td>\n",
       "      <td>137.945408</td>\n",
       "    </tr>\n",
       "    <tr>\n",
       "      <td>4</td>\n",
       "      <td>AHL4O</td>\n",
       "      <td>12.702195</td>\n",
       "      <td>-8.147433</td>\n",
       "      <td>5.004363</td>\n",
       "      <td>134.766305</td>\n",
       "    </tr>\n",
       "  </tbody>\n",
       "</table>\n",
       "</div>"
      ],
      "text/plain": [
       "      id         f0         f1        f2     product\n",
       "0  kBEdx -15.001348  -8.276000 -0.005876    3.179103\n",
       "1  62mP7  14.272088  -3.475083  0.999183   26.953261\n",
       "2  vyE1P   6.263187  -5.948386  5.001160  134.766305\n",
       "3  KcrkZ -13.081196 -11.506057  4.999415  137.945408\n",
       "4  AHL4O  12.702195  -8.147433  5.004363  134.766305"
      ]
     },
     "metadata": {},
     "output_type": "display_data"
    }
   ],
   "source": [
    "display(df_1.head())"
   ]
  },
  {
   "cell_type": "code",
   "execution_count": 4,
   "metadata": {},
   "outputs": [],
   "source": [
    "features_0 = df_0.drop(['id','product'] , axis=1)\n",
    "target_0 = df_0['product']"
   ]
  },
  {
   "cell_type": "code",
   "execution_count": 5,
   "metadata": {},
   "outputs": [],
   "source": [
    "features_1 = df_1.drop(['id','product'] , axis=1)\n",
    "target_1 = df_1['product']"
   ]
  },
  {
   "cell_type": "code",
   "execution_count": 6,
   "metadata": {},
   "outputs": [],
   "source": [
    "features_2 = df_2.drop(['id','product'] , axis=1)\n",
    "target_2 = df_2['product']"
   ]
  },
  {
   "cell_type": "code",
   "execution_count": 7,
   "metadata": {},
   "outputs": [],
   "source": [
    "numeric = ['f0', 'f1', 'f2']"
   ]
  },
  {
   "cell_type": "code",
   "execution_count": 8,
   "metadata": {},
   "outputs": [],
   "source": [
    "def scal(data_1, data_2):\n",
    "    scaler = StandardScaler()\n",
    "    scaler.fit(data_1[numeric])\n",
    "    pd.options.mode.chained_assignment = None\n",
    "    data_1[numeric] = scaler.transform(data_1[numeric])\n",
    "    data_2[numeric] = scaler.transform(data_2[numeric])\n",
    "    return data_1, data_2"
   ]
  },
  {
   "cell_type": "markdown",
   "metadata": {},
   "source": [
    "### Comments\n",
    "\n",
    "Data files were uploaded, examined, broken down into features and a target feature. "
   ]
  },
  {
   "cell_type": "markdown",
   "metadata": {},
   "source": [
    "## Train and validate the model"
   ]
  },
  {
   "cell_type": "code",
   "execution_count": 9,
   "metadata": {},
   "outputs": [],
   "source": [
    "features_0_train, features_0_valid, target_0_train, target_0_valid = train_test_split(\n",
    "    features_0, target_0, test_size=0.25, random_state=12345)"
   ]
  },
  {
   "cell_type": "code",
   "execution_count": 10,
   "metadata": {},
   "outputs": [],
   "source": [
    "features_1_train, features_1_valid, target_1_train, target_1_valid = train_test_split(\n",
    "    features_1, target_1, test_size=0.25, random_state=12345)"
   ]
  },
  {
   "cell_type": "code",
   "execution_count": 11,
   "metadata": {},
   "outputs": [],
   "source": [
    "features_2_train, features_2_valid, target_2_train, target_2_valid = train_test_split(\n",
    "    features_2, target_2, test_size=0.25, random_state=12345)"
   ]
  },
  {
   "cell_type": "code",
   "execution_count": 12,
   "metadata": {},
   "outputs": [
    {
     "name": "stdout",
     "output_type": "stream",
     "text": [
      "(75000, 3)\n",
      "(25000, 3)\n"
     ]
    }
   ],
   "source": [
    "print(features_0_train.shape)\n",
    "print(features_0_valid.shape)"
   ]
  },
  {
   "cell_type": "code",
   "execution_count": 13,
   "metadata": {},
   "outputs": [],
   "source": [
    "def model_lr(features, target):\n",
    "    model = LinearRegression()\n",
    "    model.fit(features, target)\n",
    "    return model"
   ]
  },
  {
   "cell_type": "code",
   "execution_count": 14,
   "metadata": {},
   "outputs": [],
   "source": [
    "def predict_lr(model,features_v, target_v):\n",
    "    predictions_valid = model.predict(features_v)\n",
    "    mse = mean_squared_error(target_v, predictions_valid)\n",
    "    data = pd.DataFrame(target_v)\n",
    "    data['predict'] = pd.DataFrame(predictions_valid, index = target_v.index)\n",
    "    mean_v = data['predict'].mean()\n",
    "    print('rmse:', round(mse**0.5, 4))\n",
    "    print()\n",
    "    print('Средний запас сырья, тыс.бар:', round(mean_v, 4))\n",
    "    return data"
   ]
  },
  {
   "cell_type": "code",
   "execution_count": 34,
   "metadata": {},
   "outputs": [],
   "source": [
    "features_0_train_s, features_0_valid_s = scal(features_0_train, features_0_valid)\n",
    "features_1_train_s, features_1_valid_s = scal(features_1_train, features_1_valid)\n",
    "features_2_train_s, features_2_valid_s = scal(features_2_train, features_2_valid)"
   ]
  },
  {
   "cell_type": "code",
   "execution_count": 35,
   "metadata": {},
   "outputs": [
    {
     "data": {
      "text/html": [
       "<div>\n",
       "<style scoped>\n",
       "    .dataframe tbody tr th:only-of-type {\n",
       "        vertical-align: middle;\n",
       "    }\n",
       "\n",
       "    .dataframe tbody tr th {\n",
       "        vertical-align: top;\n",
       "    }\n",
       "\n",
       "    .dataframe thead th {\n",
       "        text-align: right;\n",
       "    }\n",
       "</style>\n",
       "<table border=\"1\" class=\"dataframe\">\n",
       "  <thead>\n",
       "    <tr style=\"text-align: right;\">\n",
       "      <th></th>\n",
       "      <th>f0</th>\n",
       "      <th>f1</th>\n",
       "      <th>f2</th>\n",
       "    </tr>\n",
       "  </thead>\n",
       "  <tbody>\n",
       "    <tr>\n",
       "      <td>27212</td>\n",
       "      <td>-0.544828</td>\n",
       "      <td>1.390264</td>\n",
       "      <td>-0.094959</td>\n",
       "    </tr>\n",
       "    <tr>\n",
       "      <td>7866</td>\n",
       "      <td>1.455912</td>\n",
       "      <td>-0.480422</td>\n",
       "      <td>1.209567</td>\n",
       "    </tr>\n",
       "    <tr>\n",
       "      <td>62041</td>\n",
       "      <td>0.260460</td>\n",
       "      <td>0.825069</td>\n",
       "      <td>-0.204865</td>\n",
       "    </tr>\n",
       "    <tr>\n",
       "      <td>70185</td>\n",
       "      <td>-1.837105</td>\n",
       "      <td>0.010321</td>\n",
       "      <td>-0.147634</td>\n",
       "    </tr>\n",
       "    <tr>\n",
       "      <td>82230</td>\n",
       "      <td>-1.299243</td>\n",
       "      <td>0.987558</td>\n",
       "      <td>1.273181</td>\n",
       "    </tr>\n",
       "    <tr>\n",
       "      <td>...</td>\n",
       "      <td>...</td>\n",
       "      <td>...</td>\n",
       "      <td>...</td>\n",
       "    </tr>\n",
       "    <tr>\n",
       "      <td>4094</td>\n",
       "      <td>1.567114</td>\n",
       "      <td>-1.087243</td>\n",
       "      <td>-0.272211</td>\n",
       "    </tr>\n",
       "    <tr>\n",
       "      <td>85412</td>\n",
       "      <td>-1.904207</td>\n",
       "      <td>-0.525360</td>\n",
       "      <td>1.327530</td>\n",
       "    </tr>\n",
       "    <tr>\n",
       "      <td>2177</td>\n",
       "      <td>0.418949</td>\n",
       "      <td>-1.296788</td>\n",
       "      <td>-0.196407</td>\n",
       "    </tr>\n",
       "    <tr>\n",
       "      <td>77285</td>\n",
       "      <td>0.400077</td>\n",
       "      <td>-1.466874</td>\n",
       "      <td>-0.445317</td>\n",
       "    </tr>\n",
       "    <tr>\n",
       "      <td>86498</td>\n",
       "      <td>1.746246</td>\n",
       "      <td>0.027415</td>\n",
       "      <td>2.766848</td>\n",
       "    </tr>\n",
       "  </tbody>\n",
       "</table>\n",
       "<p>75000 rows × 3 columns</p>\n",
       "</div>"
      ],
      "text/plain": [
       "             f0        f1        f2\n",
       "27212 -0.544828  1.390264 -0.094959\n",
       "7866   1.455912 -0.480422  1.209567\n",
       "62041  0.260460  0.825069 -0.204865\n",
       "70185 -1.837105  0.010321 -0.147634\n",
       "82230 -1.299243  0.987558  1.273181\n",
       "...         ...       ...       ...\n",
       "4094   1.567114 -1.087243 -0.272211\n",
       "85412 -1.904207 -0.525360  1.327530\n",
       "2177   0.418949 -1.296788 -0.196407\n",
       "77285  0.400077 -1.466874 -0.445317\n",
       "86498  1.746246  0.027415  2.766848\n",
       "\n",
       "[75000 rows x 3 columns]"
      ]
     },
     "execution_count": 35,
     "metadata": {},
     "output_type": "execute_result"
    }
   ],
   "source": [
    "features_0_train_s"
   ]
  },
  {
   "cell_type": "code",
   "execution_count": 16,
   "metadata": {},
   "outputs": [],
   "source": [
    "model_0 = model_lr(features_0_train_s, target_0_train)"
   ]
  },
  {
   "cell_type": "code",
   "execution_count": 17,
   "metadata": {},
   "outputs": [
    {
     "name": "stdout",
     "output_type": "stream",
     "text": [
      "rmse: 37.5794\n",
      "\n",
      "Средний запас сырья, тыс.бар: 92.5926\n"
     ]
    },
    {
     "data": {
      "text/html": [
       "<div>\n",
       "<style scoped>\n",
       "    .dataframe tbody tr th:only-of-type {\n",
       "        vertical-align: middle;\n",
       "    }\n",
       "\n",
       "    .dataframe tbody tr th {\n",
       "        vertical-align: top;\n",
       "    }\n",
       "\n",
       "    .dataframe thead th {\n",
       "        text-align: right;\n",
       "    }\n",
       "</style>\n",
       "<table border=\"1\" class=\"dataframe\">\n",
       "  <thead>\n",
       "    <tr style=\"text-align: right;\">\n",
       "      <th></th>\n",
       "      <th>product</th>\n",
       "      <th>predict</th>\n",
       "    </tr>\n",
       "  </thead>\n",
       "  <tbody>\n",
       "    <tr>\n",
       "      <td>71751</td>\n",
       "      <td>10.038645</td>\n",
       "      <td>95.894952</td>\n",
       "    </tr>\n",
       "    <tr>\n",
       "      <td>80493</td>\n",
       "      <td>114.551489</td>\n",
       "      <td>77.572583</td>\n",
       "    </tr>\n",
       "    <tr>\n",
       "      <td>2655</td>\n",
       "      <td>132.603635</td>\n",
       "      <td>77.892640</td>\n",
       "    </tr>\n",
       "    <tr>\n",
       "      <td>53233</td>\n",
       "      <td>169.072125</td>\n",
       "      <td>90.175134</td>\n",
       "    </tr>\n",
       "    <tr>\n",
       "      <td>91141</td>\n",
       "      <td>122.325180</td>\n",
       "      <td>70.510088</td>\n",
       "    </tr>\n",
       "  </tbody>\n",
       "</table>\n",
       "</div>"
      ],
      "text/plain": [
       "          product    predict\n",
       "71751   10.038645  95.894952\n",
       "80493  114.551489  77.572583\n",
       "2655   132.603635  77.892640\n",
       "53233  169.072125  90.175134\n",
       "91141  122.325180  70.510088"
      ]
     },
     "metadata": {},
     "output_type": "display_data"
    }
   ],
   "source": [
    "pred_0 = predict_lr(model_0,features_0_valid_s, target_0_valid)\n",
    "display(pred_0.head())"
   ]
  },
  {
   "cell_type": "code",
   "execution_count": 18,
   "metadata": {},
   "outputs": [
    {
     "name": "stdout",
     "output_type": "stream",
     "text": [
      "rmse: 0.8931\n",
      "\n",
      "Средний запас сырья, тыс.бар: 68.7285\n"
     ]
    },
    {
     "data": {
      "text/html": [
       "<div>\n",
       "<style scoped>\n",
       "    .dataframe tbody tr th:only-of-type {\n",
       "        vertical-align: middle;\n",
       "    }\n",
       "\n",
       "    .dataframe tbody tr th {\n",
       "        vertical-align: top;\n",
       "    }\n",
       "\n",
       "    .dataframe thead th {\n",
       "        text-align: right;\n",
       "    }\n",
       "</style>\n",
       "<table border=\"1\" class=\"dataframe\">\n",
       "  <thead>\n",
       "    <tr style=\"text-align: right;\">\n",
       "      <th></th>\n",
       "      <th>product</th>\n",
       "      <th>predict</th>\n",
       "    </tr>\n",
       "  </thead>\n",
       "  <tbody>\n",
       "    <tr>\n",
       "      <td>71751</td>\n",
       "      <td>80.859783</td>\n",
       "      <td>82.663314</td>\n",
       "    </tr>\n",
       "    <tr>\n",
       "      <td>80493</td>\n",
       "      <td>53.906522</td>\n",
       "      <td>54.431786</td>\n",
       "    </tr>\n",
       "    <tr>\n",
       "      <td>2655</td>\n",
       "      <td>30.132364</td>\n",
       "      <td>29.748760</td>\n",
       "    </tr>\n",
       "    <tr>\n",
       "      <td>53233</td>\n",
       "      <td>53.906522</td>\n",
       "      <td>53.552133</td>\n",
       "    </tr>\n",
       "    <tr>\n",
       "      <td>91141</td>\n",
       "      <td>0.000000</td>\n",
       "      <td>1.243856</td>\n",
       "    </tr>\n",
       "  </tbody>\n",
       "</table>\n",
       "</div>"
      ],
      "text/plain": [
       "         product    predict\n",
       "71751  80.859783  82.663314\n",
       "80493  53.906522  54.431786\n",
       "2655   30.132364  29.748760\n",
       "53233  53.906522  53.552133\n",
       "91141   0.000000   1.243856"
      ]
     },
     "metadata": {},
     "output_type": "display_data"
    }
   ],
   "source": [
    "model_1 = model_lr(features_1_train_s, target_1_train)\n",
    "pred_1 = predict_lr(model_1,features_1_valid_s, target_1_valid)\n",
    "display(pred_1.head())"
   ]
  },
  {
   "cell_type": "code",
   "execution_count": 19,
   "metadata": {},
   "outputs": [
    {
     "name": "stdout",
     "output_type": "stream",
     "text": [
      "rmse: 40.0297\n",
      "\n",
      "Средний запас сырья, тыс.бар: 94.965\n"
     ]
    },
    {
     "data": {
      "text/html": [
       "<div>\n",
       "<style scoped>\n",
       "    .dataframe tbody tr th:only-of-type {\n",
       "        vertical-align: middle;\n",
       "    }\n",
       "\n",
       "    .dataframe tbody tr th {\n",
       "        vertical-align: top;\n",
       "    }\n",
       "\n",
       "    .dataframe thead th {\n",
       "        text-align: right;\n",
       "    }\n",
       "</style>\n",
       "<table border=\"1\" class=\"dataframe\">\n",
       "  <thead>\n",
       "    <tr style=\"text-align: right;\">\n",
       "      <th></th>\n",
       "      <th>product</th>\n",
       "      <th>predict</th>\n",
       "    </tr>\n",
       "  </thead>\n",
       "  <tbody>\n",
       "    <tr>\n",
       "      <td>71751</td>\n",
       "      <td>61.212375</td>\n",
       "      <td>93.599633</td>\n",
       "    </tr>\n",
       "    <tr>\n",
       "      <td>80493</td>\n",
       "      <td>41.850118</td>\n",
       "      <td>75.105159</td>\n",
       "    </tr>\n",
       "    <tr>\n",
       "      <td>2655</td>\n",
       "      <td>57.776581</td>\n",
       "      <td>90.066809</td>\n",
       "    </tr>\n",
       "    <tr>\n",
       "      <td>53233</td>\n",
       "      <td>100.053761</td>\n",
       "      <td>105.162375</td>\n",
       "    </tr>\n",
       "    <tr>\n",
       "      <td>91141</td>\n",
       "      <td>109.897122</td>\n",
       "      <td>115.303310</td>\n",
       "    </tr>\n",
       "  </tbody>\n",
       "</table>\n",
       "</div>"
      ],
      "text/plain": [
       "          product     predict\n",
       "71751   61.212375   93.599633\n",
       "80493   41.850118   75.105159\n",
       "2655    57.776581   90.066809\n",
       "53233  100.053761  105.162375\n",
       "91141  109.897122  115.303310"
      ]
     },
     "metadata": {},
     "output_type": "display_data"
    }
   ],
   "source": [
    "model_2 = model_lr(features_2_train_s, target_2_train)\n",
    "pred_2 = predict_lr(model_2,features_2_valid_s, target_2_valid)\n",
    "display(pred_2.head())"
   ]
  },
  {
   "cell_type": "markdown",
   "metadata": {},
   "source": [
    "### Comments\n",
    "\n",
    "The data were divided into trial and validation samples. Models were trained for each region. As a result of comparing the predictions and correct labels of the validation set, as well as comparing the rmse metrics, it can be seen that the best model turned out for region number 1. The RMSE of the volume of oil reserves in the well for region number 1 showed 0.9 thousand barrels with an average value of 68.2. For the other two regions, the average stock was over 90 thousand barrels, and the RMSE was about 40 thousand barrels, which is almost half the average."
   ]
  },
  {
   "cell_type": "markdown",
   "metadata": {},
   "source": [
    "## Preparation for profit calculation"
   ]
  },
  {
   "cell_type": "code",
   "execution_count": 20,
   "metadata": {},
   "outputs": [],
   "source": [
    "BAR_1 = 450000\n",
    "BUDGET = 10**10\n",
    "SQUAZH = 200\n",
    "N_SQ = 500\n",
    "BIL = 10**9"
   ]
  },
  {
   "cell_type": "code",
   "execution_count": 21,
   "metadata": {},
   "outputs": [],
   "source": [
    "POROG = BUDGET / (SQUAZH * BAR_1)"
   ]
  },
  {
   "cell_type": "code",
   "execution_count": 22,
   "metadata": {},
   "outputs": [
    {
     "data": {
      "text/plain": [
       "111.11111111111111"
      ]
     },
     "execution_count": 22,
     "metadata": {},
     "output_type": "execute_result"
    }
   ],
   "source": [
    "POROG"
   ]
  },
  {
   "cell_type": "code",
   "execution_count": 23,
   "metadata": {},
   "outputs": [],
   "source": [
    "state = np.random.RandomState(12345)\n",
    "def pryb(target):\n",
    "    target_subsample = target.sample(N_SQ, replace=True, random_state=state)\n",
    "    target_pred = target_subsample.sort_values(by = 'predict', ascending=False).head(SQUAZH)\n",
    "    summa = target_pred['product'].sum()\n",
    "    profit = summa * BAR_1 / BIL - BUDGET / BIL\n",
    "    return round(profit,4)"
   ]
  },
  {
   "cell_type": "markdown",
   "metadata": {},
   "source": [
    "### Comments\n",
    "Since the budget for the development of wells in the region is 10 billion rubles, this means that in order to make a profit, the volume of oil in the well must be more than 111 thousand barrels. The calculation of the average value for the validation sample showed that in all regions this value is below the threshold for making a profit.\n"
   ]
  },
  {
   "cell_type": "markdown",
   "metadata": {},
   "source": [
    "## Calculation of profit and risks"
   ]
  },
  {
   "cell_type": "code",
   "execution_count": 24,
   "metadata": {},
   "outputs": [],
   "source": [
    "profit_0 = pryb(pred_0)\n",
    "profit_1 = pryb(pred_1)\n",
    "profit_2 = pryb(pred_2)"
   ]
  },
  {
   "cell_type": "code",
   "execution_count": 25,
   "metadata": {},
   "outputs": [],
   "source": [
    "res_all = np.array([['profit_0', profit_0],['profit_1', profit_1],['profit_2', profit_2]])\n",
    "result_all = pd.DataFrame(res_all,columns = ['squazhina','profit'])"
   ]
  },
  {
   "cell_type": "code",
   "execution_count": 26,
   "metadata": {},
   "outputs": [
    {
     "data": {
      "text/html": [
       "<div>\n",
       "<style scoped>\n",
       "    .dataframe tbody tr th:only-of-type {\n",
       "        vertical-align: middle;\n",
       "    }\n",
       "\n",
       "    .dataframe tbody tr th {\n",
       "        vertical-align: top;\n",
       "    }\n",
       "\n",
       "    .dataframe thead th {\n",
       "        text-align: right;\n",
       "    }\n",
       "</style>\n",
       "<table border=\"1\" class=\"dataframe\">\n",
       "  <thead>\n",
       "    <tr style=\"text-align: right;\">\n",
       "      <th></th>\n",
       "      <th>squazhina</th>\n",
       "      <th>profit</th>\n",
       "    </tr>\n",
       "  </thead>\n",
       "  <tbody>\n",
       "    <tr>\n",
       "      <td>0</td>\n",
       "      <td>profit_0</td>\n",
       "      <td>0.6055</td>\n",
       "    </tr>\n",
       "    <tr>\n",
       "      <td>1</td>\n",
       "      <td>profit_1</td>\n",
       "      <td>0.3343</td>\n",
       "    </tr>\n",
       "    <tr>\n",
       "      <td>2</td>\n",
       "      <td>profit_2</td>\n",
       "      <td>0.6262</td>\n",
       "    </tr>\n",
       "  </tbody>\n",
       "</table>\n",
       "</div>"
      ],
      "text/plain": [
       "  squazhina  profit\n",
       "0  profit_0  0.6055\n",
       "1  profit_1  0.3343\n",
       "2  profit_2  0.6262"
      ]
     },
     "execution_count": 26,
     "metadata": {},
     "output_type": "execute_result"
    }
   ],
   "source": [
    "result_all"
   ]
  },
  {
   "cell_type": "code",
   "execution_count": 27,
   "metadata": {},
   "outputs": [],
   "source": [
    "state = np.random.RandomState(12345)\n",
    "def dover(data):    \n",
    "    values = []\n",
    "    \n",
    "    for i in range(1000):\n",
    "        values.append(pryb(data))\n",
    "          \n",
    "    values = pd.Series(values)\n",
    "\n",
    "    lower = values.quantile(0.025)\n",
    "    upper = values.quantile(0.975)\n",
    "\n",
    "    mean_v = values.mean()\n",
    "    print('Средняя прибыль, млрд', round(mean_v,2))\n",
    "    print()\n",
    "    print('Доверительный интервал, млрд:', round(lower,2), '< X <',round(upper,2))\n",
    "    return (values < 0).mean()"
   ]
  },
  {
   "cell_type": "code",
   "execution_count": 28,
   "metadata": {},
   "outputs": [
    {
     "name": "stdout",
     "output_type": "stream",
     "text": [
      "Средняя прибыль, млрд 0.4\n",
      "\n",
      "Доверительный интервал, млрд: -0.11 < X < 0.91\n"
     ]
    }
   ],
   "source": [
    "pryb_0 = dover(pred_0)"
   ]
  },
  {
   "cell_type": "code",
   "execution_count": 29,
   "metadata": {},
   "outputs": [
    {
     "name": "stdout",
     "output_type": "stream",
     "text": [
      "Средняя прибыль, млрд 0.46\n",
      "\n",
      "Доверительный интервал, млрд: 0.08 < X < 0.86\n"
     ]
    }
   ],
   "source": [
    "pryb_1 = dover(pred_1)"
   ]
  },
  {
   "cell_type": "code",
   "execution_count": 30,
   "metadata": {},
   "outputs": [
    {
     "name": "stdout",
     "output_type": "stream",
     "text": [
      "Средняя прибыль, млрд 0.39\n",
      "\n",
      "Доверительный интервал, млрд: -0.11 < X < 0.93\n"
     ]
    }
   ],
   "source": [
    "pryb_2 = dover(pred_2)"
   ]
  },
  {
   "cell_type": "code",
   "execution_count": 31,
   "metadata": {},
   "outputs": [
    {
     "data": {
      "text/plain": [
       "6.5"
      ]
     },
     "execution_count": 31,
     "metadata": {},
     "output_type": "execute_result"
    }
   ],
   "source": [
    "pryb_2*100"
   ]
  },
  {
   "cell_type": "code",
   "execution_count": 32,
   "metadata": {},
   "outputs": [
    {
     "data": {
      "text/plain": [
       "0.7000000000000001"
      ]
     },
     "execution_count": 32,
     "metadata": {},
     "output_type": "execute_result"
    }
   ],
   "source": [
    "pryb_1*100"
   ]
  },
  {
   "cell_type": "code",
   "execution_count": 33,
   "metadata": {},
   "outputs": [
    {
     "data": {
      "text/plain": [
       "6.9"
      ]
     },
     "execution_count": 33,
     "metadata": {},
     "output_type": "execute_result"
    }
   ],
   "source": [
    "pryb_0*100"
   ]
  },
  {
   "cell_type": "markdown",
   "metadata": {},
   "source": [
    "## Conclusions\n",
    "According to the calculations, region № 1 is best suited for well development. This choice is based on the following results of the research: although the average profits in the three regions relative to the best wells are quite close, the probability of loss risks is less than 1% in region No. 1, and in regions No. 0 and 2 - more than 6%.\n"
   ]
  }
 ],
 "metadata": {
  "ExecuteTimeLog": [
   {
    "duration": 781,
    "start_time": "2021-06-19T07:36:54.719Z"
   },
   {
    "duration": 538,
    "start_time": "2021-06-19T07:39:54.330Z"
   },
   {
    "duration": 27,
    "start_time": "2021-06-19T07:40:17.838Z"
   },
   {
    "duration": 17,
    "start_time": "2021-06-19T07:42:47.876Z"
   },
   {
    "duration": 18,
    "start_time": "2021-06-19T07:42:55.796Z"
   },
   {
    "duration": 14,
    "start_time": "2021-06-19T07:43:55.079Z"
   },
   {
    "duration": 14,
    "start_time": "2021-06-19T07:44:19.609Z"
   },
   {
    "duration": 14,
    "start_time": "2021-06-19T07:44:24.133Z"
   },
   {
    "duration": 16,
    "start_time": "2021-06-19T09:12:11.246Z"
   },
   {
    "duration": 1383,
    "start_time": "2021-06-20T13:31:16.646Z"
   },
   {
    "duration": 4555,
    "start_time": "2021-06-20T13:37:00.344Z"
   },
   {
    "duration": 27,
    "start_time": "2021-06-20T13:37:07.636Z"
   },
   {
    "duration": 13,
    "start_time": "2021-06-20T13:42:43.933Z"
   },
   {
    "duration": 13,
    "start_time": "2021-06-20T13:42:55.475Z"
   },
   {
    "duration": 12,
    "start_time": "2021-06-20T13:44:35.070Z"
   },
   {
    "duration": 460,
    "start_time": "2021-06-20T13:51:57.008Z"
   },
   {
    "duration": 6,
    "start_time": "2021-06-20T13:52:13.178Z"
   },
   {
    "duration": 17,
    "start_time": "2021-06-20T13:52:19.483Z"
   },
   {
    "duration": 7,
    "start_time": "2021-06-20T13:52:38.514Z"
   },
   {
    "duration": 9,
    "start_time": "2021-06-20T13:52:50.621Z"
   },
   {
    "duration": 4,
    "start_time": "2021-06-20T13:53:23.282Z"
   },
   {
    "duration": 102,
    "start_time": "2021-06-20T13:55:00.586Z"
   },
   {
    "duration": 4,
    "start_time": "2021-06-20T13:55:06.767Z"
   },
   {
    "duration": 52,
    "start_time": "2021-06-20T13:58:40.611Z"
   },
   {
    "duration": 12,
    "start_time": "2021-06-20T13:58:58.756Z"
   },
   {
    "duration": 290,
    "start_time": "2021-06-20T18:46:42.866Z"
   },
   {
    "duration": 310,
    "start_time": "2021-06-20T18:46:53.360Z"
   },
   {
    "duration": 18,
    "start_time": "2021-06-20T18:47:03.426Z"
   },
   {
    "duration": 21,
    "start_time": "2021-06-20T18:47:40.333Z"
   },
   {
    "duration": 21,
    "start_time": "2021-06-20T18:47:42.122Z"
   },
   {
    "duration": 1338,
    "start_time": "2021-06-21T06:56:28.551Z"
   },
   {
    "duration": 469,
    "start_time": "2021-06-21T06:56:29.892Z"
   },
   {
    "duration": 23,
    "start_time": "2021-06-21T06:56:30.363Z"
   },
   {
    "duration": 10,
    "start_time": "2021-06-21T06:56:30.389Z"
   },
   {
    "duration": 24,
    "start_time": "2021-06-21T06:56:30.401Z"
   },
   {
    "duration": 9,
    "start_time": "2021-06-21T06:56:30.428Z"
   },
   {
    "duration": 6,
    "start_time": "2021-06-21T06:56:30.439Z"
   },
   {
    "duration": 6,
    "start_time": "2021-06-21T06:56:30.448Z"
   },
   {
    "duration": 80,
    "start_time": "2021-06-21T06:56:30.457Z"
   },
   {
    "duration": 17,
    "start_time": "2021-06-21T06:56:30.539Z"
   },
   {
    "duration": 18,
    "start_time": "2021-06-21T06:56:30.558Z"
   },
   {
    "duration": 49,
    "start_time": "2021-06-21T06:56:30.579Z"
   },
   {
    "duration": 450,
    "start_time": "2021-06-21T06:56:30.631Z"
   },
   {
    "duration": 20,
    "start_time": "2021-06-21T07:07:57.196Z"
   },
   {
    "duration": 121,
    "start_time": "2021-06-21T07:11:41.799Z"
   },
   {
    "duration": 4,
    "start_time": "2021-06-21T07:11:48.458Z"
   },
   {
    "duration": 4,
    "start_time": "2021-06-21T07:14:51.333Z"
   },
   {
    "duration": 6,
    "start_time": "2021-06-21T07:26:43.485Z"
   },
   {
    "duration": 698,
    "start_time": "2021-06-21T07:33:41.886Z"
   },
   {
    "duration": 4,
    "start_time": "2021-06-21T07:34:04.096Z"
   },
   {
    "duration": 5,
    "start_time": "2021-06-21T07:34:05.899Z"
   },
   {
    "duration": 762,
    "start_time": "2021-06-21T07:34:08.535Z"
   },
   {
    "duration": 5,
    "start_time": "2021-06-21T07:34:33.454Z"
   },
   {
    "duration": 130,
    "start_time": "2021-06-21T07:34:35.497Z"
   },
   {
    "duration": 6,
    "start_time": "2021-06-21T07:35:39.665Z"
   },
   {
    "duration": 796,
    "start_time": "2021-06-21T07:35:41.747Z"
   },
   {
    "duration": 1387,
    "start_time": "2021-06-21T07:36:27.460Z"
   },
   {
    "duration": 474,
    "start_time": "2021-06-21T07:36:28.849Z"
   },
   {
    "duration": 22,
    "start_time": "2021-06-21T07:36:29.326Z"
   },
   {
    "duration": 10,
    "start_time": "2021-06-21T07:36:29.351Z"
   },
   {
    "duration": 13,
    "start_time": "2021-06-21T07:36:29.364Z"
   },
   {
    "duration": 13,
    "start_time": "2021-06-21T07:36:29.379Z"
   },
   {
    "duration": 8,
    "start_time": "2021-06-21T07:36:29.394Z"
   },
   {
    "duration": 21,
    "start_time": "2021-06-21T07:36:29.405Z"
   },
   {
    "duration": 61,
    "start_time": "2021-06-21T07:36:29.430Z"
   },
   {
    "duration": 33,
    "start_time": "2021-06-21T07:36:29.494Z"
   },
   {
    "duration": 18,
    "start_time": "2021-06-21T07:36:29.530Z"
   },
   {
    "duration": 25,
    "start_time": "2021-06-21T07:36:29.550Z"
   },
   {
    "duration": 5,
    "start_time": "2021-06-21T07:36:29.578Z"
   },
   {
    "duration": 39,
    "start_time": "2021-06-21T07:36:29.586Z"
   },
   {
    "duration": 1122,
    "start_time": "2021-06-21T07:36:29.629Z"
   },
   {
    "duration": 5,
    "start_time": "2021-06-21T07:36:59.806Z"
   },
   {
    "duration": 760,
    "start_time": "2021-06-21T07:37:01.443Z"
   },
   {
    "duration": 1363,
    "start_time": "2021-06-21T07:37:10.881Z"
   },
   {
    "duration": 488,
    "start_time": "2021-06-21T07:37:12.247Z"
   },
   {
    "duration": 23,
    "start_time": "2021-06-21T07:37:12.738Z"
   },
   {
    "duration": 14,
    "start_time": "2021-06-21T07:37:12.764Z"
   },
   {
    "duration": 23,
    "start_time": "2021-06-21T07:37:12.781Z"
   },
   {
    "duration": 22,
    "start_time": "2021-06-21T07:37:12.806Z"
   },
   {
    "duration": 12,
    "start_time": "2021-06-21T07:37:12.830Z"
   },
   {
    "duration": 23,
    "start_time": "2021-06-21T07:37:12.846Z"
   },
   {
    "duration": 61,
    "start_time": "2021-06-21T07:37:12.871Z"
   },
   {
    "duration": 16,
    "start_time": "2021-06-21T07:37:12.934Z"
   },
   {
    "duration": 19,
    "start_time": "2021-06-21T07:37:12.952Z"
   },
   {
    "duration": 18,
    "start_time": "2021-06-21T07:37:12.974Z"
   },
   {
    "duration": 4,
    "start_time": "2021-06-21T07:37:12.994Z"
   },
   {
    "duration": 27,
    "start_time": "2021-06-21T07:37:13.000Z"
   },
   {
    "duration": 1010,
    "start_time": "2021-06-21T07:37:13.029Z"
   },
   {
    "duration": 5,
    "start_time": "2021-06-21T07:37:56.534Z"
   },
   {
    "duration": 1310,
    "start_time": "2021-06-21T07:38:01.748Z"
   },
   {
    "duration": 477,
    "start_time": "2021-06-21T07:38:03.060Z"
   },
   {
    "duration": 23,
    "start_time": "2021-06-21T07:38:03.540Z"
   },
   {
    "duration": 10,
    "start_time": "2021-06-21T07:38:03.566Z"
   },
   {
    "duration": 22,
    "start_time": "2021-06-21T07:38:03.578Z"
   },
   {
    "duration": 9,
    "start_time": "2021-06-21T07:38:03.602Z"
   },
   {
    "duration": 4,
    "start_time": "2021-06-21T07:38:03.626Z"
   },
   {
    "duration": 5,
    "start_time": "2021-06-21T07:38:03.633Z"
   },
   {
    "duration": 57,
    "start_time": "2021-06-21T07:38:03.640Z"
   },
   {
    "duration": 42,
    "start_time": "2021-06-21T07:38:03.699Z"
   },
   {
    "duration": 19,
    "start_time": "2021-06-21T07:38:03.743Z"
   },
   {
    "duration": 19,
    "start_time": "2021-06-21T07:38:03.764Z"
   },
   {
    "duration": 4,
    "start_time": "2021-06-21T07:38:03.785Z"
   },
   {
    "duration": 34,
    "start_time": "2021-06-21T07:38:03.791Z"
   },
   {
    "duration": 203,
    "start_time": "2021-06-21T07:38:03.828Z"
   },
   {
    "duration": 1385,
    "start_time": "2021-06-21T07:38:59.458Z"
   },
   {
    "duration": 474,
    "start_time": "2021-06-21T07:39:00.846Z"
   },
   {
    "duration": 24,
    "start_time": "2021-06-21T07:39:01.326Z"
   },
   {
    "duration": 6,
    "start_time": "2021-06-21T07:39:01.354Z"
   },
   {
    "duration": 19,
    "start_time": "2021-06-21T07:39:01.363Z"
   },
   {
    "duration": 16,
    "start_time": "2021-06-21T07:39:01.385Z"
   },
   {
    "duration": 26,
    "start_time": "2021-06-21T07:39:01.403Z"
   },
   {
    "duration": 11,
    "start_time": "2021-06-21T07:39:01.433Z"
   },
   {
    "duration": 69,
    "start_time": "2021-06-21T07:39:01.446Z"
   },
   {
    "duration": 21,
    "start_time": "2021-06-21T07:39:01.517Z"
   },
   {
    "duration": 26,
    "start_time": "2021-06-21T07:39:01.540Z"
   },
   {
    "duration": 19,
    "start_time": "2021-06-21T07:39:01.568Z"
   },
   {
    "duration": 18,
    "start_time": "2021-06-21T07:39:01.590Z"
   },
   {
    "duration": 25,
    "start_time": "2021-06-21T07:39:01.610Z"
   },
   {
    "duration": 195,
    "start_time": "2021-06-21T07:39:01.638Z"
   },
   {
    "duration": 8,
    "start_time": "2021-06-21T07:39:24.824Z"
   },
   {
    "duration": 9,
    "start_time": "2021-06-21T07:39:39.112Z"
   },
   {
    "duration": 1368,
    "start_time": "2021-06-21T07:39:59.154Z"
   },
   {
    "duration": 466,
    "start_time": "2021-06-21T07:40:00.524Z"
   },
   {
    "duration": 32,
    "start_time": "2021-06-21T07:40:00.993Z"
   },
   {
    "duration": 11,
    "start_time": "2021-06-21T07:40:01.028Z"
   },
   {
    "duration": 20,
    "start_time": "2021-06-21T07:40:01.042Z"
   },
   {
    "duration": 24,
    "start_time": "2021-06-21T07:40:01.064Z"
   },
   {
    "duration": 20,
    "start_time": "2021-06-21T07:40:01.090Z"
   },
   {
    "duration": 25,
    "start_time": "2021-06-21T07:40:01.113Z"
   },
   {
    "duration": 71,
    "start_time": "2021-06-21T07:40:01.140Z"
   },
   {
    "duration": 16,
    "start_time": "2021-06-21T07:40:01.214Z"
   },
   {
    "duration": 36,
    "start_time": "2021-06-21T07:40:01.233Z"
   },
   {
    "duration": 18,
    "start_time": "2021-06-21T07:40:01.271Z"
   },
   {
    "duration": 3,
    "start_time": "2021-06-21T07:40:01.292Z"
   },
   {
    "duration": 9,
    "start_time": "2021-06-21T07:40:01.298Z"
   },
   {
    "duration": 127,
    "start_time": "2021-06-21T07:40:01.309Z"
   },
   {
    "duration": 556,
    "start_time": "2021-06-21T07:40:01.527Z"
   },
   {
    "duration": 11,
    "start_time": "2021-06-21T07:40:05.550Z"
   },
   {
    "duration": 8,
    "start_time": "2021-06-21T07:41:32.276Z"
   },
   {
    "duration": 5,
    "start_time": "2021-06-21T07:41:59.640Z"
   },
   {
    "duration": 870,
    "start_time": "2021-06-21T07:42:01.401Z"
   },
   {
    "duration": 1360,
    "start_time": "2021-06-21T07:42:11.781Z"
   },
   {
    "duration": 480,
    "start_time": "2021-06-21T07:42:13.144Z"
   },
   {
    "duration": 23,
    "start_time": "2021-06-21T07:42:13.627Z"
   },
   {
    "duration": 10,
    "start_time": "2021-06-21T07:42:13.653Z"
   },
   {
    "duration": 10,
    "start_time": "2021-06-21T07:42:13.665Z"
   },
   {
    "duration": 12,
    "start_time": "2021-06-21T07:42:13.677Z"
   },
   {
    "duration": 17,
    "start_time": "2021-06-21T07:42:13.691Z"
   },
   {
    "duration": 10,
    "start_time": "2021-06-21T07:42:13.724Z"
   },
   {
    "duration": 56,
    "start_time": "2021-06-21T07:42:13.737Z"
   },
   {
    "duration": 38,
    "start_time": "2021-06-21T07:42:13.795Z"
   },
   {
    "duration": 19,
    "start_time": "2021-06-21T07:42:13.835Z"
   },
   {
    "duration": 19,
    "start_time": "2021-06-21T07:42:13.857Z"
   },
   {
    "duration": 4,
    "start_time": "2021-06-21T07:42:13.878Z"
   },
   {
    "duration": 8,
    "start_time": "2021-06-21T07:42:13.884Z"
   },
   {
    "duration": 55,
    "start_time": "2021-06-21T07:42:13.894Z"
   },
   {
    "duration": 99,
    "start_time": "2021-06-21T07:42:14.027Z"
   },
   {
    "duration": 1397,
    "start_time": "2021-06-21T07:44:16.050Z"
   },
   {
    "duration": 485,
    "start_time": "2021-06-21T07:44:17.451Z"
   },
   {
    "duration": 23,
    "start_time": "2021-06-21T07:44:17.939Z"
   },
   {
    "duration": 7,
    "start_time": "2021-06-21T07:44:17.964Z"
   },
   {
    "duration": 14,
    "start_time": "2021-06-21T07:44:17.973Z"
   },
   {
    "duration": 13,
    "start_time": "2021-06-21T07:44:17.989Z"
   },
   {
    "duration": 3,
    "start_time": "2021-06-21T07:44:18.026Z"
   },
   {
    "duration": 7,
    "start_time": "2021-06-21T07:44:18.033Z"
   },
   {
    "duration": 90,
    "start_time": "2021-06-21T07:44:18.043Z"
   },
   {
    "duration": 19,
    "start_time": "2021-06-21T07:44:18.135Z"
   },
   {
    "duration": 21,
    "start_time": "2021-06-21T07:44:18.157Z"
   },
   {
    "duration": 54,
    "start_time": "2021-06-21T07:44:18.180Z"
   },
   {
    "duration": 4,
    "start_time": "2021-06-21T07:44:18.237Z"
   },
   {
    "duration": 6,
    "start_time": "2021-06-21T07:44:18.244Z"
   },
   {
    "duration": 172,
    "start_time": "2021-06-21T07:44:18.253Z"
   },
   {
    "duration": 9,
    "start_time": "2021-06-21T07:44:18.428Z"
   },
   {
    "duration": 1369,
    "start_time": "2021-06-21T07:44:57.071Z"
   },
   {
    "duration": 483,
    "start_time": "2021-06-21T07:44:58.443Z"
   },
   {
    "duration": 25,
    "start_time": "2021-06-21T07:44:58.929Z"
   },
   {
    "duration": 7,
    "start_time": "2021-06-21T07:44:58.958Z"
   },
   {
    "duration": 10,
    "start_time": "2021-06-21T07:44:58.968Z"
   },
   {
    "duration": 47,
    "start_time": "2021-06-21T07:44:58.980Z"
   },
   {
    "duration": 6,
    "start_time": "2021-06-21T07:44:59.030Z"
   },
   {
    "duration": 5,
    "start_time": "2021-06-21T07:44:59.040Z"
   },
   {
    "duration": 84,
    "start_time": "2021-06-21T07:44:59.048Z"
   },
   {
    "duration": 18,
    "start_time": "2021-06-21T07:44:59.134Z"
   },
   {
    "duration": 19,
    "start_time": "2021-06-21T07:44:59.155Z"
   },
   {
    "duration": 18,
    "start_time": "2021-06-21T07:44:59.176Z"
   },
   {
    "duration": 30,
    "start_time": "2021-06-21T07:44:59.196Z"
   },
   {
    "duration": 6,
    "start_time": "2021-06-21T07:44:59.229Z"
   },
   {
    "duration": 191,
    "start_time": "2021-06-21T07:44:59.237Z"
   },
   {
    "duration": 11,
    "start_time": "2021-06-21T07:44:59.431Z"
   },
   {
    "duration": 1284,
    "start_time": "2021-06-21T11:58:31.546Z"
   },
   {
    "duration": 452,
    "start_time": "2021-06-21T11:58:32.833Z"
   },
   {
    "duration": 26,
    "start_time": "2021-06-21T11:58:33.288Z"
   },
   {
    "duration": 10,
    "start_time": "2021-06-21T11:58:33.326Z"
   },
   {
    "duration": 10,
    "start_time": "2021-06-21T11:58:33.339Z"
   },
   {
    "duration": 12,
    "start_time": "2021-06-21T11:58:33.351Z"
   },
   {
    "duration": 8,
    "start_time": "2021-06-21T11:58:33.365Z"
   },
   {
    "duration": 6,
    "start_time": "2021-06-21T11:58:33.378Z"
   },
   {
    "duration": 95,
    "start_time": "2021-06-21T11:58:33.387Z"
   },
   {
    "duration": 23,
    "start_time": "2021-06-21T11:58:33.485Z"
   },
   {
    "duration": 18,
    "start_time": "2021-06-21T11:58:33.525Z"
   },
   {
    "duration": 17,
    "start_time": "2021-06-21T11:58:33.545Z"
   },
   {
    "duration": 4,
    "start_time": "2021-06-21T11:58:33.564Z"
   },
   {
    "duration": 5,
    "start_time": "2021-06-21T11:58:33.570Z"
   },
   {
    "duration": 801,
    "start_time": "2021-06-21T11:58:33.578Z"
   },
   {
    "duration": 1594,
    "start_time": "2021-06-21T11:58:32.787Z"
   },
   {
    "duration": 5,
    "start_time": "2021-06-21T11:59:19.243Z"
   },
   {
    "duration": 585,
    "start_time": "2021-06-21T11:59:21.292Z"
   },
   {
    "duration": 1317,
    "start_time": "2021-06-21T11:59:30.020Z"
   },
   {
    "duration": 493,
    "start_time": "2021-06-21T11:59:31.340Z"
   },
   {
    "duration": 25,
    "start_time": "2021-06-21T11:59:31.836Z"
   },
   {
    "duration": 7,
    "start_time": "2021-06-21T11:59:31.864Z"
   },
   {
    "duration": 12,
    "start_time": "2021-06-21T11:59:31.873Z"
   },
   {
    "duration": 37,
    "start_time": "2021-06-21T11:59:31.888Z"
   },
   {
    "duration": 6,
    "start_time": "2021-06-21T11:59:31.927Z"
   },
   {
    "duration": 23,
    "start_time": "2021-06-21T11:59:31.937Z"
   },
   {
    "duration": 51,
    "start_time": "2021-06-21T11:59:31.963Z"
   },
   {
    "duration": 16,
    "start_time": "2021-06-21T11:59:32.024Z"
   },
   {
    "duration": 19,
    "start_time": "2021-06-21T11:59:32.043Z"
   },
   {
    "duration": 21,
    "start_time": "2021-06-21T11:59:32.064Z"
   },
   {
    "duration": 3,
    "start_time": "2021-06-21T11:59:32.088Z"
   },
   {
    "duration": 30,
    "start_time": "2021-06-21T11:59:32.094Z"
   },
   {
    "duration": 793,
    "start_time": "2021-06-21T11:59:32.126Z"
   },
   {
    "duration": 1585,
    "start_time": "2021-06-21T11:59:31.336Z"
   },
   {
    "duration": 11,
    "start_time": "2021-06-21T11:59:52.675Z"
   },
   {
    "duration": 594,
    "start_time": "2021-06-21T11:59:54.873Z"
   },
   {
    "duration": 5,
    "start_time": "2021-06-21T12:00:54.012Z"
   },
   {
    "duration": 588,
    "start_time": "2021-06-21T12:00:56.561Z"
   },
   {
    "duration": 9,
    "start_time": "2021-06-21T12:02:34.840Z"
   },
   {
    "duration": 5,
    "start_time": "2021-06-21T12:02:45.381Z"
   },
   {
    "duration": 12,
    "start_time": "2021-06-21T12:03:09.126Z"
   },
   {
    "duration": 5,
    "start_time": "2021-06-21T12:06:20.236Z"
   },
   {
    "duration": 539,
    "start_time": "2021-06-21T12:06:36.538Z"
   },
   {
    "duration": 5,
    "start_time": "2021-06-21T12:06:56.574Z"
   },
   {
    "duration": 663,
    "start_time": "2021-06-21T12:06:58.318Z"
   },
   {
    "duration": 5,
    "start_time": "2021-06-21T12:07:10.726Z"
   },
   {
    "duration": 40,
    "start_time": "2021-06-21T12:07:12.387Z"
   },
   {
    "duration": 5,
    "start_time": "2021-06-21T12:07:43.495Z"
   },
   {
    "duration": 845,
    "start_time": "2021-06-21T12:07:45.330Z"
   },
   {
    "duration": 5,
    "start_time": "2021-06-21T12:08:02.260Z"
   },
   {
    "duration": 74,
    "start_time": "2021-06-21T12:08:04.455Z"
   },
   {
    "duration": 5,
    "start_time": "2021-06-21T12:08:14.964Z"
   },
   {
    "duration": 19,
    "start_time": "2021-06-21T12:08:17.205Z"
   },
   {
    "duration": 5,
    "start_time": "2021-06-21T12:09:00.167Z"
   },
   {
    "duration": 27,
    "start_time": "2021-06-21T12:09:02.299Z"
   },
   {
    "duration": 5,
    "start_time": "2021-06-21T12:09:18.907Z"
   },
   {
    "duration": 98,
    "start_time": "2021-06-21T12:09:20.928Z"
   },
   {
    "duration": 5,
    "start_time": "2021-06-21T12:10:24.464Z"
   },
   {
    "duration": 125,
    "start_time": "2021-06-21T12:10:26.402Z"
   },
   {
    "duration": 18,
    "start_time": "2021-06-21T12:11:35.753Z"
   },
   {
    "duration": 12,
    "start_time": "2021-06-21T12:11:41.251Z"
   },
   {
    "duration": 92,
    "start_time": "2021-06-21T12:11:43.440Z"
   },
   {
    "duration": 17,
    "start_time": "2021-06-21T12:15:46.918Z"
   },
   {
    "duration": 1263,
    "start_time": "2021-06-21T12:17:11.569Z"
   },
   {
    "duration": 458,
    "start_time": "2021-06-21T12:17:12.834Z"
   },
   {
    "duration": 29,
    "start_time": "2021-06-21T12:17:13.295Z"
   },
   {
    "duration": 6,
    "start_time": "2021-06-21T12:17:13.327Z"
   },
   {
    "duration": 18,
    "start_time": "2021-06-21T12:17:13.336Z"
   },
   {
    "duration": 12,
    "start_time": "2021-06-21T12:17:13.356Z"
   },
   {
    "duration": 8,
    "start_time": "2021-06-21T12:17:13.370Z"
   },
   {
    "duration": 427,
    "start_time": "2021-06-21T12:17:13.381Z"
   },
   {
    "duration": 1595,
    "start_time": "2021-06-21T12:17:12.217Z"
   },
   {
    "duration": 1590,
    "start_time": "2021-06-21T12:17:12.224Z"
   },
   {
    "duration": 1587,
    "start_time": "2021-06-21T12:17:12.229Z"
   },
   {
    "duration": 1576,
    "start_time": "2021-06-21T12:17:12.242Z"
   },
   {
    "duration": 1572,
    "start_time": "2021-06-21T12:17:12.248Z"
   },
   {
    "duration": 1571,
    "start_time": "2021-06-21T12:17:12.252Z"
   },
   {
    "duration": 1566,
    "start_time": "2021-06-21T12:17:12.259Z"
   },
   {
    "duration": 1562,
    "start_time": "2021-06-21T12:17:12.265Z"
   },
   {
    "duration": 1559,
    "start_time": "2021-06-21T12:17:12.270Z"
   },
   {
    "duration": 18,
    "start_time": "2021-06-21T12:18:09.688Z"
   },
   {
    "duration": 1299,
    "start_time": "2021-06-21T12:26:07.222Z"
   },
   {
    "duration": 445,
    "start_time": "2021-06-21T12:26:08.524Z"
   },
   {
    "duration": 22,
    "start_time": "2021-06-21T12:26:08.972Z"
   },
   {
    "duration": 6,
    "start_time": "2021-06-21T12:26:08.997Z"
   },
   {
    "duration": 28,
    "start_time": "2021-06-21T12:26:09.005Z"
   },
   {
    "duration": 9,
    "start_time": "2021-06-21T12:26:09.035Z"
   },
   {
    "duration": 6,
    "start_time": "2021-06-21T12:26:09.047Z"
   },
   {
    "duration": 4,
    "start_time": "2021-06-21T12:26:09.057Z"
   },
   {
    "duration": 65,
    "start_time": "2021-06-21T12:26:09.064Z"
   },
   {
    "duration": 16,
    "start_time": "2021-06-21T12:26:09.132Z"
   },
   {
    "duration": 17,
    "start_time": "2021-06-21T12:26:09.150Z"
   },
   {
    "duration": 17,
    "start_time": "2021-06-21T12:26:09.170Z"
   },
   {
    "duration": 36,
    "start_time": "2021-06-21T12:26:09.189Z"
   },
   {
    "duration": 7,
    "start_time": "2021-06-21T12:26:09.228Z"
   },
   {
    "duration": 16,
    "start_time": "2021-06-21T12:26:09.238Z"
   },
   {
    "duration": 81,
    "start_time": "2021-06-21T12:26:09.257Z"
   },
   {
    "duration": 408,
    "start_time": "2021-06-21T12:26:09.425Z"
   },
   {
    "duration": 5,
    "start_time": "2021-06-21T12:27:15.912Z"
   },
   {
    "duration": 1293,
    "start_time": "2021-06-21T12:27:21.036Z"
   },
   {
    "duration": 445,
    "start_time": "2021-06-21T12:27:22.332Z"
   },
   {
    "duration": 22,
    "start_time": "2021-06-21T12:27:22.780Z"
   },
   {
    "duration": 9,
    "start_time": "2021-06-21T12:27:22.805Z"
   },
   {
    "duration": 9,
    "start_time": "2021-06-21T12:27:22.825Z"
   },
   {
    "duration": 8,
    "start_time": "2021-06-21T12:27:22.837Z"
   },
   {
    "duration": 7,
    "start_time": "2021-06-21T12:27:22.848Z"
   },
   {
    "duration": 6,
    "start_time": "2021-06-21T12:27:22.858Z"
   },
   {
    "duration": 75,
    "start_time": "2021-06-21T12:27:22.866Z"
   },
   {
    "duration": 18,
    "start_time": "2021-06-21T12:27:22.943Z"
   },
   {
    "duration": 20,
    "start_time": "2021-06-21T12:27:22.963Z"
   },
   {
    "duration": 42,
    "start_time": "2021-06-21T12:27:22.985Z"
   },
   {
    "duration": 6,
    "start_time": "2021-06-21T12:27:23.029Z"
   },
   {
    "duration": 5,
    "start_time": "2021-06-21T12:27:23.037Z"
   },
   {
    "duration": 6,
    "start_time": "2021-06-21T12:27:23.045Z"
   },
   {
    "duration": 17,
    "start_time": "2021-06-21T12:27:23.053Z"
   },
   {
    "duration": 159,
    "start_time": "2021-06-21T12:27:23.072Z"
   },
   {
    "duration": 460,
    "start_time": "2021-06-21T12:27:23.233Z"
   },
   {
    "duration": 13,
    "start_time": "2021-06-21T12:28:12.805Z"
   },
   {
    "duration": 16,
    "start_time": "2021-06-21T12:28:27.635Z"
   },
   {
    "duration": 7,
    "start_time": "2021-06-21T12:29:00.252Z"
   },
   {
    "duration": 14,
    "start_time": "2021-06-21T12:29:18.118Z"
   },
   {
    "duration": 8,
    "start_time": "2021-06-21T12:57:23.482Z"
   },
   {
    "duration": 33,
    "start_time": "2021-06-21T12:57:41.091Z"
   },
   {
    "duration": 19,
    "start_time": "2021-06-21T12:57:57.117Z"
   },
   {
    "duration": 91,
    "start_time": "2021-06-21T13:02:04.833Z"
   },
   {
    "duration": 48,
    "start_time": "2021-06-21T13:02:38.779Z"
   },
   {
    "duration": 119,
    "start_time": "2021-06-21T13:03:10.708Z"
   },
   {
    "duration": 1303,
    "start_time": "2021-06-21T13:16:33.114Z"
   },
   {
    "duration": 157,
    "start_time": "2021-06-21T13:16:34.419Z"
   },
   {
    "duration": 3,
    "start_time": "2021-06-21T13:16:34.582Z"
   },
   {
    "duration": 10,
    "start_time": "2021-06-21T13:16:34.588Z"
   },
   {
    "duration": 23,
    "start_time": "2021-06-21T13:16:34.601Z"
   },
   {
    "duration": 6,
    "start_time": "2021-06-21T13:16:34.626Z"
   },
   {
    "duration": 6,
    "start_time": "2021-06-21T13:16:34.636Z"
   },
   {
    "duration": 5,
    "start_time": "2021-06-21T13:16:34.645Z"
   },
   {
    "duration": 27,
    "start_time": "2021-06-21T13:16:34.653Z"
   },
   {
    "duration": 41,
    "start_time": "2021-06-21T13:16:34.683Z"
   },
   {
    "duration": 4,
    "start_time": "2021-06-21T13:16:34.726Z"
   },
   {
    "duration": 6,
    "start_time": "2021-06-21T13:16:34.733Z"
   },
   {
    "duration": 9,
    "start_time": "2021-06-21T13:16:34.741Z"
   },
   {
    "duration": 5,
    "start_time": "2021-06-21T13:16:34.752Z"
   },
   {
    "duration": 5,
    "start_time": "2021-06-21T13:16:34.760Z"
   },
   {
    "duration": 56,
    "start_time": "2021-06-21T13:16:34.768Z"
   },
   {
    "duration": 207,
    "start_time": "2021-06-21T13:16:34.827Z"
   },
   {
    "duration": 3,
    "start_time": "2021-06-21T13:16:35.037Z"
   },
   {
    "duration": 7,
    "start_time": "2021-06-21T13:16:35.043Z"
   },
   {
    "duration": 19,
    "start_time": "2021-06-21T13:16:35.052Z"
   },
   {
    "duration": 15,
    "start_time": "2021-06-21T13:18:09.957Z"
   },
   {
    "duration": 95,
    "start_time": "2021-06-21T13:18:11.633Z"
   },
   {
    "duration": 514,
    "start_time": "2021-06-21T13:19:52.411Z"
   },
   {
    "duration": 17,
    "start_time": "2021-06-21T13:19:58.539Z"
   },
   {
    "duration": 17,
    "start_time": "2021-06-21T13:20:27.697Z"
   },
   {
    "duration": 23,
    "start_time": "2021-06-21T13:20:38.435Z"
   },
   {
    "duration": 17,
    "start_time": "2021-06-21T13:20:41.472Z"
   },
   {
    "duration": 19,
    "start_time": "2021-06-21T13:20:48.933Z"
   },
   {
    "duration": 22,
    "start_time": "2021-06-21T13:20:58.372Z"
   },
   {
    "duration": 1377,
    "start_time": "2021-06-21T13:23:05.950Z"
   },
   {
    "duration": 448,
    "start_time": "2021-06-21T13:23:07.329Z"
   },
   {
    "duration": 22,
    "start_time": "2021-06-21T13:23:07.783Z"
   },
   {
    "duration": 18,
    "start_time": "2021-06-21T13:23:07.807Z"
   },
   {
    "duration": 20,
    "start_time": "2021-06-21T13:23:07.828Z"
   },
   {
    "duration": 21,
    "start_time": "2021-06-21T13:23:07.850Z"
   },
   {
    "duration": 23,
    "start_time": "2021-06-21T13:23:07.875Z"
   },
   {
    "duration": 21,
    "start_time": "2021-06-21T13:23:07.901Z"
   },
   {
    "duration": 62,
    "start_time": "2021-06-21T13:23:07.925Z"
   },
   {
    "duration": 17,
    "start_time": "2021-06-21T13:23:07.990Z"
   },
   {
    "duration": 39,
    "start_time": "2021-06-21T13:23:08.009Z"
   },
   {
    "duration": 33,
    "start_time": "2021-06-21T13:23:08.050Z"
   },
   {
    "duration": 20,
    "start_time": "2021-06-21T13:23:08.085Z"
   },
   {
    "duration": 24,
    "start_time": "2021-06-21T13:23:08.108Z"
   },
   {
    "duration": 5,
    "start_time": "2021-06-21T13:23:08.135Z"
   },
   {
    "duration": 14,
    "start_time": "2021-06-21T13:23:08.143Z"
   },
   {
    "duration": 15,
    "start_time": "2021-06-21T13:23:08.159Z"
   },
   {
    "duration": 31,
    "start_time": "2021-06-21T13:23:08.177Z"
   },
   {
    "duration": 115,
    "start_time": "2021-06-21T13:23:08.211Z"
   },
   {
    "duration": 109,
    "start_time": "2021-06-21T13:23:08.329Z"
   },
   {
    "duration": 201,
    "start_time": "2021-06-21T13:23:08.525Z"
   },
   {
    "duration": 99,
    "start_time": "2021-06-21T13:23:08.734Z"
   },
   {
    "duration": 104,
    "start_time": "2021-06-21T13:23:43.523Z"
   },
   {
    "duration": 107,
    "start_time": "2021-06-21T13:23:51.019Z"
   },
   {
    "duration": 38,
    "start_time": "2021-06-21T13:23:54.291Z"
   },
   {
    "duration": 41,
    "start_time": "2021-06-21T13:23:59.386Z"
   },
   {
    "duration": 13,
    "start_time": "2021-06-21T13:25:03.515Z"
   },
   {
    "duration": 96,
    "start_time": "2021-06-21T13:25:05.530Z"
   },
   {
    "duration": 3,
    "start_time": "2021-06-21T13:36:39.015Z"
   },
   {
    "duration": 5,
    "start_time": "2021-06-21T13:36:42.487Z"
   },
   {
    "duration": 4,
    "start_time": "2021-06-21T13:37:30.729Z"
   },
   {
    "duration": 4,
    "start_time": "2021-06-21T13:37:53.230Z"
   },
   {
    "duration": 5,
    "start_time": "2021-06-21T13:37:58.421Z"
   },
   {
    "duration": 4,
    "start_time": "2021-06-21T13:38:20.152Z"
   },
   {
    "duration": 5,
    "start_time": "2021-06-21T13:38:21.819Z"
   },
   {
    "duration": 410,
    "start_time": "2021-06-21T13:58:38.888Z"
   },
   {
    "duration": 3,
    "start_time": "2021-06-21T13:58:57.380Z"
   },
   {
    "duration": 6,
    "start_time": "2021-06-21T13:59:08.379Z"
   },
   {
    "duration": 6,
    "start_time": "2021-06-21T13:59:54.020Z"
   },
   {
    "duration": 5,
    "start_time": "2021-06-21T13:59:58.102Z"
   },
   {
    "duration": 8,
    "start_time": "2021-06-21T14:00:07.400Z"
   },
   {
    "duration": 6,
    "start_time": "2021-06-21T14:00:09.179Z"
   },
   {
    "duration": 7,
    "start_time": "2021-06-21T14:00:11.050Z"
   },
   {
    "duration": 6,
    "start_time": "2021-06-21T14:00:39.209Z"
   },
   {
    "duration": 7,
    "start_time": "2021-06-21T14:00:40.746Z"
   },
   {
    "duration": 5,
    "start_time": "2021-06-21T14:00:43.482Z"
   },
   {
    "duration": 11,
    "start_time": "2021-06-21T14:01:15.995Z"
   },
   {
    "duration": 91,
    "start_time": "2021-06-21T14:05:35.018Z"
   },
   {
    "duration": 5,
    "start_time": "2021-06-21T14:05:55.201Z"
   },
   {
    "duration": 9,
    "start_time": "2021-06-21T14:06:00.569Z"
   },
   {
    "duration": 6,
    "start_time": "2021-06-21T14:21:41.669Z"
   },
   {
    "duration": 9,
    "start_time": "2021-06-21T14:21:43.329Z"
   },
   {
    "duration": 6,
    "start_time": "2021-06-21T14:21:45.096Z"
   },
   {
    "duration": 9,
    "start_time": "2021-06-21T14:21:47.639Z"
   },
   {
    "duration": 6,
    "start_time": "2021-06-21T14:40:45.295Z"
   },
   {
    "duration": 1452,
    "start_time": "2021-06-21T14:41:01.721Z"
   },
   {
    "duration": 6,
    "start_time": "2021-06-21T14:41:34.244Z"
   },
   {
    "duration": 1510,
    "start_time": "2021-06-21T14:41:36.534Z"
   },
   {
    "duration": 1410,
    "start_time": "2021-06-21T14:41:42.928Z"
   },
   {
    "duration": 6,
    "start_time": "2021-06-21T14:42:31.139Z"
   },
   {
    "duration": 1449,
    "start_time": "2021-06-21T14:42:34.747Z"
   },
   {
    "duration": 1435,
    "start_time": "2021-06-21T14:42:47.284Z"
   },
   {
    "duration": 1488,
    "start_time": "2021-06-21T14:42:52.332Z"
   },
   {
    "duration": 1312,
    "start_time": "2021-06-21T15:12:25.109Z"
   },
   {
    "duration": 455,
    "start_time": "2021-06-21T15:12:26.425Z"
   },
   {
    "duration": 24,
    "start_time": "2021-06-21T15:12:26.884Z"
   },
   {
    "duration": 8,
    "start_time": "2021-06-21T15:12:26.923Z"
   },
   {
    "duration": 8,
    "start_time": "2021-06-21T15:12:26.935Z"
   },
   {
    "duration": 10,
    "start_time": "2021-06-21T15:12:26.946Z"
   },
   {
    "duration": 6,
    "start_time": "2021-06-21T15:12:26.958Z"
   },
   {
    "duration": 6,
    "start_time": "2021-06-21T15:12:26.967Z"
   },
   {
    "duration": 95,
    "start_time": "2021-06-21T15:12:26.976Z"
   },
   {
    "duration": 16,
    "start_time": "2021-06-21T15:12:27.073Z"
   },
   {
    "duration": 41,
    "start_time": "2021-06-21T15:12:27.091Z"
   },
   {
    "duration": 20,
    "start_time": "2021-06-21T15:12:27.135Z"
   },
   {
    "duration": 23,
    "start_time": "2021-06-21T15:12:27.157Z"
   },
   {
    "duration": 42,
    "start_time": "2021-06-21T15:12:27.183Z"
   },
   {
    "duration": 5,
    "start_time": "2021-06-21T15:12:27.228Z"
   },
   {
    "duration": 8,
    "start_time": "2021-06-21T15:12:27.237Z"
   },
   {
    "duration": 11,
    "start_time": "2021-06-21T15:12:27.247Z"
   },
   {
    "duration": 21,
    "start_time": "2021-06-21T15:12:27.260Z"
   },
   {
    "duration": 143,
    "start_time": "2021-06-21T15:12:27.284Z"
   },
   {
    "duration": 202,
    "start_time": "2021-06-21T15:12:27.430Z"
   },
   {
    "duration": 103,
    "start_time": "2021-06-21T15:12:27.635Z"
   },
   {
    "duration": 3,
    "start_time": "2021-06-21T15:12:27.825Z"
   },
   {
    "duration": 8,
    "start_time": "2021-06-21T15:12:27.832Z"
   },
   {
    "duration": 12,
    "start_time": "2021-06-21T15:12:27.843Z"
   },
   {
    "duration": 15,
    "start_time": "2021-06-21T15:12:27.858Z"
   },
   {
    "duration": 14,
    "start_time": "2021-06-21T15:12:27.875Z"
   },
   {
    "duration": 5,
    "start_time": "2021-06-21T15:12:27.892Z"
   },
   {
    "duration": 42,
    "start_time": "2021-06-21T15:12:27.900Z"
   },
   {
    "duration": 7,
    "start_time": "2021-06-21T15:12:27.944Z"
   },
   {
    "duration": 1506,
    "start_time": "2021-06-21T15:12:27.953Z"
   },
   {
    "duration": 1484,
    "start_time": "2021-06-21T15:12:29.462Z"
   },
   {
    "duration": 1496,
    "start_time": "2021-06-21T15:12:30.948Z"
   },
   {
    "duration": 852,
    "start_time": "2021-06-22T17:24:39.953Z"
   },
   {
    "duration": 1394,
    "start_time": "2021-06-22T17:27:39.340Z"
   },
   {
    "duration": 487,
    "start_time": "2021-06-22T17:27:40.736Z"
   },
   {
    "duration": 22,
    "start_time": "2021-06-22T17:27:41.226Z"
   },
   {
    "duration": 12,
    "start_time": "2021-06-22T17:27:41.251Z"
   },
   {
    "duration": 15,
    "start_time": "2021-06-22T17:27:41.265Z"
   },
   {
    "duration": 27,
    "start_time": "2021-06-22T17:27:41.282Z"
   },
   {
    "duration": 16,
    "start_time": "2021-06-22T17:27:41.312Z"
   },
   {
    "duration": 14,
    "start_time": "2021-06-22T17:27:41.331Z"
   },
   {
    "duration": 52,
    "start_time": "2021-06-22T17:27:41.350Z"
   },
   {
    "duration": 19,
    "start_time": "2021-06-22T17:27:41.404Z"
   },
   {
    "duration": 24,
    "start_time": "2021-06-22T17:27:41.425Z"
   },
   {
    "duration": 19,
    "start_time": "2021-06-22T17:27:41.451Z"
   },
   {
    "duration": 48,
    "start_time": "2021-06-22T17:27:41.473Z"
   },
   {
    "duration": 18,
    "start_time": "2021-06-22T17:27:41.524Z"
   },
   {
    "duration": 6,
    "start_time": "2021-06-22T17:27:41.545Z"
   },
   {
    "duration": 13,
    "start_time": "2021-06-22T17:27:41.554Z"
   },
   {
    "duration": 26,
    "start_time": "2021-06-22T17:27:41.569Z"
   },
   {
    "duration": 35,
    "start_time": "2021-06-22T17:27:41.598Z"
   },
   {
    "duration": 82,
    "start_time": "2021-06-22T17:27:41.636Z"
   },
   {
    "duration": 288,
    "start_time": "2021-06-22T17:27:41.721Z"
   },
   {
    "duration": 199,
    "start_time": "2021-06-22T17:27:42.011Z"
   },
   {
    "duration": 4,
    "start_time": "2021-06-22T17:27:42.213Z"
   },
   {
    "duration": 9,
    "start_time": "2021-06-22T17:27:42.219Z"
   },
   {
    "duration": 23,
    "start_time": "2021-06-22T17:27:42.231Z"
   },
   {
    "duration": 13,
    "start_time": "2021-06-22T17:27:42.256Z"
   },
   {
    "duration": 23,
    "start_time": "2021-06-22T17:27:42.271Z"
   },
   {
    "duration": 11,
    "start_time": "2021-06-22T17:27:42.300Z"
   },
   {
    "duration": 27,
    "start_time": "2021-06-22T17:27:42.315Z"
   },
   {
    "duration": 15,
    "start_time": "2021-06-22T17:27:42.346Z"
   },
   {
    "duration": 1495,
    "start_time": "2021-06-22T17:27:42.363Z"
   },
   {
    "duration": 1514,
    "start_time": "2021-06-22T17:27:43.860Z"
   },
   {
    "duration": 1539,
    "start_time": "2021-06-22T17:27:45.376Z"
   },
   {
    "duration": 5,
    "start_time": "2021-06-22T17:35:19.133Z"
   },
   {
    "duration": 5,
    "start_time": "2021-06-22T17:35:34.498Z"
   },
   {
    "duration": 453,
    "start_time": "2021-06-22T17:35:44.503Z"
   },
   {
    "duration": 5,
    "start_time": "2021-06-22T17:35:49.140Z"
   },
   {
    "duration": 5,
    "start_time": "2021-06-22T17:35:57.410Z"
   },
   {
    "duration": 1348,
    "start_time": "2021-06-23T08:47:23.780Z"
   },
   {
    "duration": 467,
    "start_time": "2021-06-23T08:47:25.130Z"
   },
   {
    "duration": 29,
    "start_time": "2021-06-23T08:47:25.600Z"
   },
   {
    "duration": 8,
    "start_time": "2021-06-23T08:47:25.632Z"
   },
   {
    "duration": 14,
    "start_time": "2021-06-23T08:47:25.642Z"
   },
   {
    "duration": 13,
    "start_time": "2021-06-23T08:47:25.659Z"
   },
   {
    "duration": 7,
    "start_time": "2021-06-23T08:47:25.674Z"
   },
   {
    "duration": 4,
    "start_time": "2021-06-23T08:47:25.710Z"
   },
   {
    "duration": 52,
    "start_time": "2021-06-23T08:47:25.717Z"
   },
   {
    "duration": 16,
    "start_time": "2021-06-23T08:47:25.772Z"
   },
   {
    "duration": 28,
    "start_time": "2021-06-23T08:47:25.810Z"
   },
   {
    "duration": 17,
    "start_time": "2021-06-23T08:47:25.841Z"
   },
   {
    "duration": 18,
    "start_time": "2021-06-23T08:47:25.861Z"
   },
   {
    "duration": 39,
    "start_time": "2021-06-23T08:47:25.881Z"
   },
   {
    "duration": 5,
    "start_time": "2021-06-23T08:47:25.922Z"
   },
   {
    "duration": 30,
    "start_time": "2021-06-23T08:47:25.930Z"
   },
   {
    "duration": 7,
    "start_time": "2021-06-23T08:47:25.962Z"
   },
   {
    "duration": 19,
    "start_time": "2021-06-23T08:47:25.971Z"
   },
   {
    "duration": 119,
    "start_time": "2021-06-23T08:47:25.992Z"
   },
   {
    "duration": 197,
    "start_time": "2021-06-23T08:47:26.115Z"
   },
   {
    "duration": 198,
    "start_time": "2021-06-23T08:47:26.316Z"
   },
   {
    "duration": 91,
    "start_time": "2021-06-23T08:47:26.518Z"
   },
   {
    "duration": 5,
    "start_time": "2021-06-23T08:47:26.614Z"
   },
   {
    "duration": 9,
    "start_time": "2021-06-23T08:47:26.621Z"
   },
   {
    "duration": 8,
    "start_time": "2021-06-23T08:47:26.633Z"
   },
   {
    "duration": 14,
    "start_time": "2021-06-23T08:47:26.643Z"
   },
   {
    "duration": 6,
    "start_time": "2021-06-23T08:47:26.660Z"
   },
   {
    "duration": 47,
    "start_time": "2021-06-23T08:47:26.670Z"
   },
   {
    "duration": 8,
    "start_time": "2021-06-23T08:47:26.719Z"
   },
   {
    "duration": 1542,
    "start_time": "2021-06-23T08:47:26.729Z"
   },
   {
    "duration": 1617,
    "start_time": "2021-06-23T08:47:28.273Z"
   },
   {
    "duration": 1604,
    "start_time": "2021-06-23T08:47:29.893Z"
   },
   {
    "duration": 11,
    "start_time": "2021-06-23T08:47:31.499Z"
   },
   {
    "duration": 5,
    "start_time": "2021-06-23T08:47:31.512Z"
   },
   {
    "duration": 21,
    "start_time": "2021-06-23T08:47:31.519Z"
   },
   {
    "duration": 1351,
    "start_time": "2021-06-23T10:38:47.862Z"
   },
   {
    "duration": 464,
    "start_time": "2021-06-23T10:38:49.216Z"
   },
   {
    "duration": 31,
    "start_time": "2021-06-23T10:38:49.686Z"
   },
   {
    "duration": 14,
    "start_time": "2021-06-23T10:38:49.720Z"
   },
   {
    "duration": 24,
    "start_time": "2021-06-23T10:38:49.737Z"
   },
   {
    "duration": 10,
    "start_time": "2021-06-23T10:38:49.764Z"
   },
   {
    "duration": 11,
    "start_time": "2021-06-23T10:38:49.777Z"
   },
   {
    "duration": 6,
    "start_time": "2021-06-23T10:38:49.792Z"
   },
   {
    "duration": 53,
    "start_time": "2021-06-23T10:38:49.809Z"
   },
   {
    "duration": 16,
    "start_time": "2021-06-23T10:38:49.865Z"
   },
   {
    "duration": 35,
    "start_time": "2021-06-23T10:38:49.884Z"
   },
   {
    "duration": 18,
    "start_time": "2021-06-23T10:38:49.921Z"
   },
   {
    "duration": 4,
    "start_time": "2021-06-23T10:38:49.942Z"
   },
   {
    "duration": 4,
    "start_time": "2021-06-23T10:38:49.949Z"
   },
   {
    "duration": 7,
    "start_time": "2021-06-23T10:38:49.956Z"
   },
   {
    "duration": 52,
    "start_time": "2021-06-23T10:38:49.966Z"
   },
   {
    "duration": 93,
    "start_time": "2021-06-23T10:38:50.020Z"
   },
   {
    "duration": 292,
    "start_time": "2021-06-23T10:38:50.117Z"
   },
   {
    "duration": 100,
    "start_time": "2021-06-23T10:38:50.412Z"
   },
   {
    "duration": 94,
    "start_time": "2021-06-23T10:38:50.515Z"
   },
   {
    "duration": 5,
    "start_time": "2021-06-23T10:38:50.612Z"
   },
   {
    "duration": 7,
    "start_time": "2021-06-23T10:38:50.620Z"
   },
   {
    "duration": 8,
    "start_time": "2021-06-23T10:38:50.629Z"
   },
   {
    "duration": 15,
    "start_time": "2021-06-23T10:38:50.639Z"
   },
   {
    "duration": 5,
    "start_time": "2021-06-23T10:38:50.656Z"
   },
   {
    "duration": 46,
    "start_time": "2021-06-23T10:38:50.666Z"
   },
   {
    "duration": 11,
    "start_time": "2021-06-23T10:38:50.715Z"
   },
   {
    "duration": 1614,
    "start_time": "2021-06-23T10:38:50.728Z"
   },
   {
    "duration": 1541,
    "start_time": "2021-06-23T10:38:52.345Z"
   },
   {
    "duration": 1516,
    "start_time": "2021-06-23T10:38:53.888Z"
   },
   {
    "duration": 5,
    "start_time": "2021-06-23T10:38:55.409Z"
   },
   {
    "duration": 9,
    "start_time": "2021-06-23T10:38:55.416Z"
   },
   {
    "duration": 7,
    "start_time": "2021-06-23T10:38:55.427Z"
   },
   {
    "duration": 1310,
    "start_time": "2021-06-23T10:54:55.210Z"
   },
   {
    "duration": 463,
    "start_time": "2021-06-23T10:54:56.523Z"
   },
   {
    "duration": 23,
    "start_time": "2021-06-23T10:54:56.989Z"
   },
   {
    "duration": 15,
    "start_time": "2021-06-23T10:54:57.014Z"
   },
   {
    "duration": 13,
    "start_time": "2021-06-23T10:54:57.032Z"
   },
   {
    "duration": 20,
    "start_time": "2021-06-23T10:54:57.047Z"
   },
   {
    "duration": 15,
    "start_time": "2021-06-23T10:54:57.069Z"
   },
   {
    "duration": 14,
    "start_time": "2021-06-23T10:54:57.088Z"
   },
   {
    "duration": 70,
    "start_time": "2021-06-23T10:54:57.105Z"
   },
   {
    "duration": 17,
    "start_time": "2021-06-23T10:54:57.178Z"
   },
   {
    "duration": 22,
    "start_time": "2021-06-23T10:54:57.198Z"
   },
   {
    "duration": 21,
    "start_time": "2021-06-23T10:54:57.223Z"
   },
   {
    "duration": 19,
    "start_time": "2021-06-23T10:54:57.247Z"
   },
   {
    "duration": 14,
    "start_time": "2021-06-23T10:54:57.269Z"
   },
   {
    "duration": 24,
    "start_time": "2021-06-23T10:54:57.285Z"
   },
   {
    "duration": 24,
    "start_time": "2021-06-23T10:54:57.311Z"
   },
   {
    "duration": 79,
    "start_time": "2021-06-23T10:54:57.338Z"
   },
   {
    "duration": 197,
    "start_time": "2021-06-23T10:54:57.420Z"
   },
   {
    "duration": 104,
    "start_time": "2021-06-23T10:54:57.710Z"
   },
   {
    "duration": 92,
    "start_time": "2021-06-23T10:54:57.817Z"
   },
   {
    "duration": 16,
    "start_time": "2021-06-23T10:54:57.912Z"
   },
   {
    "duration": 15,
    "start_time": "2021-06-23T10:54:57.930Z"
   },
   {
    "duration": 17,
    "start_time": "2021-06-23T10:54:57.949Z"
   },
   {
    "duration": 23,
    "start_time": "2021-06-23T10:54:57.968Z"
   },
   {
    "duration": 15,
    "start_time": "2021-06-23T10:54:57.994Z"
   },
   {
    "duration": 25,
    "start_time": "2021-06-23T10:54:58.011Z"
   },
   {
    "duration": 14,
    "start_time": "2021-06-23T10:54:58.039Z"
   },
   {
    "duration": 1615,
    "start_time": "2021-06-23T10:54:58.056Z"
   },
   {
    "duration": 1573,
    "start_time": "2021-06-23T10:54:59.674Z"
   },
   {
    "duration": 1562,
    "start_time": "2021-06-23T10:55:01.250Z"
   },
   {
    "duration": 5,
    "start_time": "2021-06-23T10:55:02.814Z"
   },
   {
    "duration": 55,
    "start_time": "2021-06-23T10:55:02.821Z"
   },
   {
    "duration": 39,
    "start_time": "2021-06-23T10:55:02.879Z"
   },
   {
    "duration": 6,
    "start_time": "2021-06-25T09:51:36.098Z"
   },
   {
    "duration": 1377,
    "start_time": "2021-06-25T10:12:58.598Z"
   },
   {
    "duration": 468,
    "start_time": "2021-06-25T10:12:59.978Z"
   },
   {
    "duration": 25,
    "start_time": "2021-06-25T10:13:00.449Z"
   },
   {
    "duration": 13,
    "start_time": "2021-06-25T10:13:00.476Z"
   },
   {
    "duration": 17,
    "start_time": "2021-06-25T10:13:00.491Z"
   },
   {
    "duration": 24,
    "start_time": "2021-06-25T10:13:00.510Z"
   },
   {
    "duration": 13,
    "start_time": "2021-06-25T10:13:00.537Z"
   },
   {
    "duration": 25,
    "start_time": "2021-06-25T10:13:00.554Z"
   },
   {
    "duration": 13,
    "start_time": "2021-06-25T10:13:00.582Z"
   },
   {
    "duration": 26,
    "start_time": "2021-06-25T10:13:00.597Z"
   },
   {
    "duration": 28,
    "start_time": "2021-06-25T10:13:00.625Z"
   },
   {
    "duration": 18,
    "start_time": "2021-06-25T10:13:00.655Z"
   },
   {
    "duration": 9,
    "start_time": "2021-06-25T10:13:00.675Z"
   },
   {
    "duration": 12,
    "start_time": "2021-06-25T10:13:00.686Z"
   },
   {
    "duration": 39,
    "start_time": "2021-06-25T10:13:00.701Z"
   },
   {
    "duration": 58,
    "start_time": "2021-06-25T10:13:00.742Z"
   },
   {
    "duration": 23,
    "start_time": "2021-06-25T10:13:00.802Z"
   },
   {
    "duration": 12,
    "start_time": "2021-06-25T10:13:00.828Z"
   },
   {
    "duration": 128,
    "start_time": "2021-06-25T10:13:00.842Z"
   },
   {
    "duration": 197,
    "start_time": "2021-06-25T10:13:00.973Z"
   },
   {
    "duration": 197,
    "start_time": "2021-06-25T10:13:01.173Z"
   },
   {
    "duration": 94,
    "start_time": "2021-06-25T10:13:01.374Z"
   },
   {
    "duration": 19,
    "start_time": "2021-06-25T10:13:01.475Z"
   },
   {
    "duration": 24,
    "start_time": "2021-06-25T10:13:01.497Z"
   },
   {
    "duration": 35,
    "start_time": "2021-06-25T10:13:01.524Z"
   },
   {
    "duration": 66,
    "start_time": "2021-06-25T10:13:01.561Z"
   },
   {
    "duration": 25,
    "start_time": "2021-06-25T10:13:01.629Z"
   },
   {
    "duration": 48,
    "start_time": "2021-06-25T10:13:01.656Z"
   },
   {
    "duration": 24,
    "start_time": "2021-06-25T10:13:01.706Z"
   },
   {
    "duration": 1477,
    "start_time": "2021-06-25T10:13:01.733Z"
   },
   {
    "duration": 1576,
    "start_time": "2021-06-25T10:13:03.212Z"
   },
   {
    "duration": 1472,
    "start_time": "2021-06-25T10:13:04.799Z"
   },
   {
    "duration": 4,
    "start_time": "2021-06-25T10:13:06.273Z"
   },
   {
    "duration": 7,
    "start_time": "2021-06-25T10:13:06.279Z"
   },
   {
    "duration": 8,
    "start_time": "2021-06-25T10:13:06.289Z"
   },
   {
    "duration": 118,
    "start_time": "2021-06-25T10:15:32.949Z"
   },
   {
    "duration": 1332,
    "start_time": "2021-06-25T10:15:46.750Z"
   },
   {
    "duration": 458,
    "start_time": "2021-06-25T10:15:48.084Z"
   },
   {
    "duration": 24,
    "start_time": "2021-06-25T10:15:48.545Z"
   },
   {
    "duration": 9,
    "start_time": "2021-06-25T10:15:48.573Z"
   },
   {
    "duration": 14,
    "start_time": "2021-06-25T10:15:48.584Z"
   },
   {
    "duration": 10,
    "start_time": "2021-06-25T10:15:48.600Z"
   },
   {
    "duration": 9,
    "start_time": "2021-06-25T10:15:48.613Z"
   },
   {
    "duration": 5,
    "start_time": "2021-06-25T10:15:48.627Z"
   },
   {
    "duration": 3,
    "start_time": "2021-06-25T10:15:48.669Z"
   },
   {
    "duration": 21,
    "start_time": "2021-06-25T10:15:48.675Z"
   },
   {
    "duration": 20,
    "start_time": "2021-06-25T10:15:48.698Z"
   },
   {
    "duration": 54,
    "start_time": "2021-06-25T10:15:48.721Z"
   },
   {
    "duration": 5,
    "start_time": "2021-06-25T10:15:48.777Z"
   },
   {
    "duration": 7,
    "start_time": "2021-06-25T10:15:48.785Z"
   },
   {
    "duration": 10,
    "start_time": "2021-06-25T10:15:48.795Z"
   },
   {
    "duration": 79,
    "start_time": "2021-06-25T10:15:48.808Z"
   },
   {
    "duration": 24,
    "start_time": "2021-06-25T10:15:48.890Z"
   },
   {
    "duration": 11,
    "start_time": "2021-06-25T10:15:48.917Z"
   },
   {
    "duration": 141,
    "start_time": "2021-06-25T10:15:48.930Z"
   },
   {
    "duration": 98,
    "start_time": "2021-06-25T10:15:49.073Z"
   },
   {
    "duration": 199,
    "start_time": "2021-06-25T10:15:49.174Z"
   },
   {
    "duration": 92,
    "start_time": "2021-06-25T10:15:49.376Z"
   },
   {
    "duration": 7,
    "start_time": "2021-06-25T10:15:49.472Z"
   },
   {
    "duration": 11,
    "start_time": "2021-06-25T10:15:49.482Z"
   },
   {
    "duration": 10,
    "start_time": "2021-06-25T10:15:49.495Z"
   },
   {
    "duration": 18,
    "start_time": "2021-06-25T10:15:49.507Z"
   },
   {
    "duration": 4,
    "start_time": "2021-06-25T10:15:49.528Z"
   },
   {
    "duration": 40,
    "start_time": "2021-06-25T10:15:49.534Z"
   },
   {
    "duration": 8,
    "start_time": "2021-06-25T10:15:49.577Z"
   },
   {
    "duration": 1507,
    "start_time": "2021-06-25T10:15:49.588Z"
   },
   {
    "duration": 1589,
    "start_time": "2021-06-25T10:15:51.097Z"
   },
   {
    "duration": 1498,
    "start_time": "2021-06-25T10:15:52.688Z"
   },
   {
    "duration": 5,
    "start_time": "2021-06-25T10:15:54.188Z"
   },
   {
    "duration": 8,
    "start_time": "2021-06-25T10:15:54.195Z"
   },
   {
    "duration": 7,
    "start_time": "2021-06-25T10:15:54.205Z"
   },
   {
    "duration": 1377,
    "start_time": "2021-06-25T10:30:06.098Z"
   },
   {
    "duration": 457,
    "start_time": "2021-06-25T10:30:07.477Z"
   },
   {
    "duration": 31,
    "start_time": "2021-06-25T10:30:07.936Z"
   },
   {
    "duration": 6,
    "start_time": "2021-06-25T10:30:07.969Z"
   },
   {
    "duration": 12,
    "start_time": "2021-06-25T10:30:07.977Z"
   },
   {
    "duration": 15,
    "start_time": "2021-06-25T10:30:07.991Z"
   },
   {
    "duration": 12,
    "start_time": "2021-06-25T10:30:08.009Z"
   },
   {
    "duration": 10,
    "start_time": "2021-06-25T10:30:08.025Z"
   },
   {
    "duration": 15,
    "start_time": "2021-06-25T10:30:08.038Z"
   },
   {
    "duration": 26,
    "start_time": "2021-06-25T10:30:08.055Z"
   },
   {
    "duration": 18,
    "start_time": "2021-06-25T10:30:08.083Z"
   },
   {
    "duration": 17,
    "start_time": "2021-06-25T10:30:08.104Z"
   },
   {
    "duration": 4,
    "start_time": "2021-06-25T10:30:08.124Z"
   },
   {
    "duration": 37,
    "start_time": "2021-06-25T10:30:08.130Z"
   },
   {
    "duration": 10,
    "start_time": "2021-06-25T10:30:08.169Z"
   },
   {
    "duration": 52,
    "start_time": "2021-06-25T10:30:08.181Z"
   },
   {
    "duration": 10,
    "start_time": "2021-06-25T10:30:08.236Z"
   },
   {
    "duration": 108,
    "start_time": "2021-06-25T10:30:08.267Z"
   },
   {
    "duration": 103,
    "start_time": "2021-06-25T10:30:08.468Z"
   },
   {
    "duration": 202,
    "start_time": "2021-06-25T10:30:08.574Z"
   },
   {
    "duration": 4,
    "start_time": "2021-06-25T10:30:08.868Z"
   },
   {
    "duration": 9,
    "start_time": "2021-06-25T10:30:08.874Z"
   },
   {
    "duration": 5,
    "start_time": "2021-06-25T10:30:08.888Z"
   },
   {
    "duration": 6,
    "start_time": "2021-06-25T10:30:08.895Z"
   },
   {
    "duration": 810,
    "start_time": "2021-06-25T10:30:08.903Z"
   },
   {
    "duration": 1908,
    "start_time": "2021-06-25T10:30:07.808Z"
   },
   {
    "duration": 1896,
    "start_time": "2021-06-25T10:30:07.821Z"
   },
   {
    "duration": 1867,
    "start_time": "2021-06-25T10:30:07.851Z"
   },
   {
    "duration": 1858,
    "start_time": "2021-06-25T10:30:07.862Z"
   },
   {
    "duration": 1846,
    "start_time": "2021-06-25T10:30:07.875Z"
   },
   {
    "duration": 1838,
    "start_time": "2021-06-25T10:30:07.884Z"
   },
   {
    "duration": 1827,
    "start_time": "2021-06-25T10:30:07.897Z"
   },
   {
    "duration": 1819,
    "start_time": "2021-06-25T10:30:07.906Z"
   },
   {
    "duration": 1813,
    "start_time": "2021-06-25T10:30:07.913Z"
   },
   {
    "duration": 1440,
    "start_time": "2021-06-25T10:30:55.738Z"
   },
   {
    "duration": 470,
    "start_time": "2021-06-25T10:30:57.181Z"
   },
   {
    "duration": 23,
    "start_time": "2021-06-25T10:30:57.653Z"
   },
   {
    "duration": 8,
    "start_time": "2021-06-25T10:30:57.679Z"
   },
   {
    "duration": 14,
    "start_time": "2021-06-25T10:30:57.689Z"
   },
   {
    "duration": 21,
    "start_time": "2021-06-25T10:30:57.705Z"
   },
   {
    "duration": 10,
    "start_time": "2021-06-25T10:30:57.728Z"
   },
   {
    "duration": 13,
    "start_time": "2021-06-25T10:30:57.742Z"
   },
   {
    "duration": 10,
    "start_time": "2021-06-25T10:30:57.758Z"
   },
   {
    "duration": 28,
    "start_time": "2021-06-25T10:30:57.771Z"
   },
   {
    "duration": 18,
    "start_time": "2021-06-25T10:30:57.801Z"
   },
   {
    "duration": 18,
    "start_time": "2021-06-25T10:30:57.822Z"
   },
   {
    "duration": 4,
    "start_time": "2021-06-25T10:30:57.842Z"
   },
   {
    "duration": 13,
    "start_time": "2021-06-25T10:30:57.867Z"
   },
   {
    "duration": 10,
    "start_time": "2021-06-25T10:30:57.883Z"
   },
   {
    "duration": 45,
    "start_time": "2021-06-25T10:30:57.895Z"
   },
   {
    "duration": 27,
    "start_time": "2021-06-25T10:30:57.943Z"
   },
   {
    "duration": 97,
    "start_time": "2021-06-25T10:30:57.972Z"
   },
   {
    "duration": 296,
    "start_time": "2021-06-25T10:30:58.072Z"
   },
   {
    "duration": 101,
    "start_time": "2021-06-25T10:30:58.370Z"
   },
   {
    "duration": 97,
    "start_time": "2021-06-25T10:30:58.474Z"
   },
   {
    "duration": 10,
    "start_time": "2021-06-25T10:30:58.574Z"
   },
   {
    "duration": 6,
    "start_time": "2021-06-25T10:30:58.590Z"
   },
   {
    "duration": 12,
    "start_time": "2021-06-25T10:30:58.600Z"
   },
   {
    "duration": 17,
    "start_time": "2021-06-25T10:30:58.614Z"
   },
   {
    "duration": 34,
    "start_time": "2021-06-25T10:30:58.633Z"
   },
   {
    "duration": 13,
    "start_time": "2021-06-25T10:30:58.670Z"
   },
   {
    "duration": 15,
    "start_time": "2021-06-25T10:30:58.686Z"
   },
   {
    "duration": 838,
    "start_time": "2021-06-25T10:30:58.704Z"
   },
   {
    "duration": 1900,
    "start_time": "2021-06-25T10:30:57.644Z"
   },
   {
    "duration": 1894,
    "start_time": "2021-06-25T10:30:57.652Z"
   },
   {
    "duration": 1843,
    "start_time": "2021-06-25T10:30:57.704Z"
   },
   {
    "duration": 1833,
    "start_time": "2021-06-25T10:30:57.716Z"
   },
   {
    "duration": 1820,
    "start_time": "2021-06-25T10:30:57.730Z"
   },
   {
    "duration": 1440,
    "start_time": "2021-06-25T10:32:22.107Z"
   },
   {
    "duration": 474,
    "start_time": "2021-06-25T10:32:23.550Z"
   },
   {
    "duration": 23,
    "start_time": "2021-06-25T10:32:24.026Z"
   },
   {
    "duration": 19,
    "start_time": "2021-06-25T10:32:24.051Z"
   },
   {
    "duration": 9,
    "start_time": "2021-06-25T10:32:24.072Z"
   },
   {
    "duration": 10,
    "start_time": "2021-06-25T10:32:24.084Z"
   },
   {
    "duration": 7,
    "start_time": "2021-06-25T10:32:24.096Z"
   },
   {
    "duration": 4,
    "start_time": "2021-06-25T10:32:24.107Z"
   },
   {
    "duration": 4,
    "start_time": "2021-06-25T10:32:24.115Z"
   },
   {
    "duration": 52,
    "start_time": "2021-06-25T10:32:24.122Z"
   },
   {
    "duration": 18,
    "start_time": "2021-06-25T10:32:24.177Z"
   },
   {
    "duration": 17,
    "start_time": "2021-06-25T10:32:24.197Z"
   },
   {
    "duration": 4,
    "start_time": "2021-06-25T10:32:24.216Z"
   },
   {
    "duration": 8,
    "start_time": "2021-06-25T10:32:24.223Z"
   },
   {
    "duration": 34,
    "start_time": "2021-06-25T10:32:24.234Z"
   },
   {
    "duration": 47,
    "start_time": "2021-06-25T10:32:24.271Z"
   },
   {
    "duration": 12,
    "start_time": "2021-06-25T10:32:24.320Z"
   },
   {
    "duration": 150,
    "start_time": "2021-06-25T10:32:24.334Z"
   },
   {
    "duration": 189,
    "start_time": "2021-06-25T10:32:24.487Z"
   },
   {
    "duration": 191,
    "start_time": "2021-06-25T10:32:24.679Z"
   },
   {
    "duration": 4,
    "start_time": "2021-06-25T10:32:24.873Z"
   },
   {
    "duration": 6,
    "start_time": "2021-06-25T10:32:24.880Z"
   },
   {
    "duration": 74,
    "start_time": "2021-06-25T10:32:24.893Z"
   },
   {
    "duration": 5,
    "start_time": "2021-06-25T10:32:24.970Z"
   },
   {
    "duration": 21,
    "start_time": "2021-06-25T10:32:24.977Z"
   },
   {
    "duration": 5,
    "start_time": "2021-06-25T10:32:25.002Z"
   },
   {
    "duration": 16,
    "start_time": "2021-06-25T10:32:25.010Z"
   },
   {
    "duration": 42,
    "start_time": "2021-06-25T10:32:25.029Z"
   },
   {
    "duration": 1513,
    "start_time": "2021-06-25T10:32:25.074Z"
   },
   {
    "duration": 1553,
    "start_time": "2021-06-25T10:32:26.589Z"
   },
   {
    "duration": 1485,
    "start_time": "2021-06-25T10:32:28.145Z"
   },
   {
    "duration": 5,
    "start_time": "2021-06-25T10:32:29.632Z"
   },
   {
    "duration": 6,
    "start_time": "2021-06-25T10:32:29.640Z"
   },
   {
    "duration": 22,
    "start_time": "2021-06-25T10:32:29.648Z"
   },
   {
    "duration": 1355,
    "start_time": "2021-06-25T10:33:36.138Z"
   },
   {
    "duration": 560,
    "start_time": "2021-06-25T10:33:37.495Z"
   },
   {
    "duration": 23,
    "start_time": "2021-06-25T10:33:38.058Z"
   },
   {
    "duration": 5,
    "start_time": "2021-06-25T10:33:38.084Z"
   },
   {
    "duration": 11,
    "start_time": "2021-06-25T10:33:38.091Z"
   },
   {
    "duration": 11,
    "start_time": "2021-06-25T10:33:38.104Z"
   },
   {
    "duration": 7,
    "start_time": "2021-06-25T10:33:38.117Z"
   },
   {
    "duration": 4,
    "start_time": "2021-06-25T10:33:38.128Z"
   },
   {
    "duration": 3,
    "start_time": "2021-06-25T10:33:38.168Z"
   },
   {
    "duration": 21,
    "start_time": "2021-06-25T10:33:38.173Z"
   },
   {
    "duration": 19,
    "start_time": "2021-06-25T10:33:38.196Z"
   },
   {
    "duration": 19,
    "start_time": "2021-06-25T10:33:38.217Z"
   },
   {
    "duration": 5,
    "start_time": "2021-06-25T10:33:38.268Z"
   },
   {
    "duration": 9,
    "start_time": "2021-06-25T10:33:38.275Z"
   },
   {
    "duration": 7,
    "start_time": "2021-06-25T10:33:38.286Z"
   },
   {
    "duration": 47,
    "start_time": "2021-06-25T10:33:38.295Z"
   },
   {
    "duration": 32,
    "start_time": "2021-06-25T10:33:38.345Z"
   },
   {
    "duration": 190,
    "start_time": "2021-06-25T10:33:38.379Z"
   },
   {
    "duration": 200,
    "start_time": "2021-06-25T10:33:38.572Z"
   },
   {
    "duration": 103,
    "start_time": "2021-06-25T10:33:38.774Z"
   },
   {
    "duration": 89,
    "start_time": "2021-06-25T10:33:38.880Z"
   },
   {
    "duration": 6,
    "start_time": "2021-06-25T10:33:38.971Z"
   },
   {
    "duration": 6,
    "start_time": "2021-06-25T10:33:38.981Z"
   },
   {
    "duration": 7,
    "start_time": "2021-06-25T10:33:38.989Z"
   },
   {
    "duration": 14,
    "start_time": "2021-06-25T10:33:38.998Z"
   },
   {
    "duration": 5,
    "start_time": "2021-06-25T10:33:39.014Z"
   },
   {
    "duration": 54,
    "start_time": "2021-06-25T10:33:39.021Z"
   },
   {
    "duration": 7,
    "start_time": "2021-06-25T10:33:39.078Z"
   },
   {
    "duration": 1519,
    "start_time": "2021-06-25T10:33:39.087Z"
   },
   {
    "duration": 1502,
    "start_time": "2021-06-25T10:33:40.608Z"
   },
   {
    "duration": 1510,
    "start_time": "2021-06-25T10:33:42.112Z"
   },
   {
    "duration": 6,
    "start_time": "2021-06-25T10:33:43.625Z"
   },
   {
    "duration": 33,
    "start_time": "2021-06-25T10:33:43.634Z"
   },
   {
    "duration": 6,
    "start_time": "2021-06-25T10:33:43.670Z"
   },
   {
    "duration": 37,
    "start_time": "2021-06-25T11:02:12.137Z"
   },
   {
    "duration": 2227,
    "start_time": "2021-06-25T11:02:52.098Z"
   },
   {
    "duration": 474,
    "start_time": "2021-06-25T11:02:54.328Z"
   },
   {
    "duration": 24,
    "start_time": "2021-06-25T11:02:54.805Z"
   },
   {
    "duration": 6,
    "start_time": "2021-06-25T11:02:54.831Z"
   },
   {
    "duration": 29,
    "start_time": "2021-06-25T11:02:54.839Z"
   },
   {
    "duration": 9,
    "start_time": "2021-06-25T11:02:54.871Z"
   },
   {
    "duration": 8,
    "start_time": "2021-06-25T11:02:54.882Z"
   },
   {
    "duration": 7,
    "start_time": "2021-06-25T11:02:54.893Z"
   },
   {
    "duration": 7,
    "start_time": "2021-06-25T11:02:54.903Z"
   },
   {
    "duration": 20,
    "start_time": "2021-06-25T11:02:54.912Z"
   },
   {
    "duration": 45,
    "start_time": "2021-06-25T11:02:54.934Z"
   },
   {
    "duration": 21,
    "start_time": "2021-06-25T11:02:54.982Z"
   },
   {
    "duration": 5,
    "start_time": "2021-06-25T11:02:55.006Z"
   },
   {
    "duration": 5,
    "start_time": "2021-06-25T11:02:55.014Z"
   },
   {
    "duration": 48,
    "start_time": "2021-06-25T11:02:55.022Z"
   },
   {
    "duration": 49,
    "start_time": "2021-06-25T11:02:55.073Z"
   },
   {
    "duration": 50,
    "start_time": "2021-06-25T11:02:55.125Z"
   },
   {
    "duration": 15,
    "start_time": "2021-06-25T11:02:55.178Z"
   },
   {
    "duration": 176,
    "start_time": "2021-06-25T11:02:55.196Z"
   },
   {
    "duration": 100,
    "start_time": "2021-06-25T11:02:55.374Z"
   },
   {
    "duration": 195,
    "start_time": "2021-06-25T11:02:55.477Z"
   },
   {
    "duration": 93,
    "start_time": "2021-06-25T11:02:55.675Z"
   },
   {
    "duration": 3,
    "start_time": "2021-06-25T11:02:55.774Z"
   },
   {
    "duration": 8,
    "start_time": "2021-06-25T11:02:55.780Z"
   },
   {
    "duration": 8,
    "start_time": "2021-06-25T11:02:55.790Z"
   },
   {
    "duration": 17,
    "start_time": "2021-06-25T11:02:55.800Z"
   },
   {
    "duration": 5,
    "start_time": "2021-06-25T11:02:55.819Z"
   },
   {
    "duration": 45,
    "start_time": "2021-06-25T11:02:55.826Z"
   },
   {
    "duration": 11,
    "start_time": "2021-06-25T11:02:55.874Z"
   },
   {
    "duration": 1569,
    "start_time": "2021-06-25T11:02:55.888Z"
   },
   {
    "duration": 1584,
    "start_time": "2021-06-25T11:02:57.460Z"
   },
   {
    "duration": 1493,
    "start_time": "2021-06-25T11:02:59.047Z"
   },
   {
    "duration": 6,
    "start_time": "2021-06-25T11:03:00.543Z"
   },
   {
    "duration": 11,
    "start_time": "2021-06-25T11:03:00.568Z"
   },
   {
    "duration": 26,
    "start_time": "2021-06-25T11:03:00.582Z"
   },
   {
    "duration": 1413,
    "start_time": "2021-06-25T17:53:21.521Z"
   },
   {
    "duration": 476,
    "start_time": "2021-06-25T17:53:22.937Z"
   },
   {
    "duration": 27,
    "start_time": "2021-06-25T17:53:23.417Z"
   },
   {
    "duration": 7,
    "start_time": "2021-06-25T17:53:23.447Z"
   },
   {
    "duration": 10,
    "start_time": "2021-06-25T17:53:23.457Z"
   },
   {
    "duration": 45,
    "start_time": "2021-06-25T17:53:23.470Z"
   },
   {
    "duration": 7,
    "start_time": "2021-06-25T17:53:23.518Z"
   },
   {
    "duration": 6,
    "start_time": "2021-06-25T17:53:23.530Z"
   },
   {
    "duration": 3,
    "start_time": "2021-06-25T17:53:23.540Z"
   },
   {
    "duration": 63,
    "start_time": "2021-06-25T17:53:23.546Z"
   },
   {
    "duration": 20,
    "start_time": "2021-06-25T17:53:23.611Z"
   },
   {
    "duration": 18,
    "start_time": "2021-06-25T17:53:23.634Z"
   },
   {
    "duration": 4,
    "start_time": "2021-06-25T17:53:23.655Z"
   },
   {
    "duration": 6,
    "start_time": "2021-06-25T17:53:23.662Z"
   },
   {
    "duration": 39,
    "start_time": "2021-06-25T17:53:23.670Z"
   },
   {
    "duration": 61,
    "start_time": "2021-06-25T17:53:23.712Z"
   },
   {
    "duration": 11,
    "start_time": "2021-06-25T17:53:23.775Z"
   },
   {
    "duration": 125,
    "start_time": "2021-06-25T17:53:23.789Z"
   },
   {
    "duration": 199,
    "start_time": "2021-06-25T17:53:23.917Z"
   },
   {
    "duration": 292,
    "start_time": "2021-06-25T17:53:24.119Z"
   },
   {
    "duration": 4,
    "start_time": "2021-06-25T17:53:24.413Z"
   },
   {
    "duration": 18,
    "start_time": "2021-06-25T17:53:24.419Z"
   },
   {
    "duration": 12,
    "start_time": "2021-06-25T17:53:24.442Z"
   },
   {
    "duration": 12,
    "start_time": "2021-06-25T17:53:24.457Z"
   },
   {
    "duration": 24,
    "start_time": "2021-06-25T17:53:24.471Z"
   },
   {
    "duration": 13,
    "start_time": "2021-06-25T17:53:24.498Z"
   },
   {
    "duration": 15,
    "start_time": "2021-06-25T17:53:24.513Z"
   },
   {
    "duration": 8,
    "start_time": "2021-06-25T17:53:24.530Z"
   },
   {
    "duration": 1513,
    "start_time": "2021-06-25T17:53:24.541Z"
   },
   {
    "duration": 1755,
    "start_time": "2021-06-25T17:53:26.056Z"
   },
   {
    "duration": 1611,
    "start_time": "2021-06-25T17:53:27.813Z"
   },
   {
    "duration": 5,
    "start_time": "2021-06-25T17:53:29.427Z"
   },
   {
    "duration": 7,
    "start_time": "2021-06-25T17:53:29.435Z"
   },
   {
    "duration": 18,
    "start_time": "2021-06-25T17:53:29.444Z"
   },
   {
    "duration": 133,
    "start_time": "2021-06-25T17:54:23.246Z"
   },
   {
    "duration": 117,
    "start_time": "2021-06-25T17:54:41.596Z"
   },
   {
    "duration": 122,
    "start_time": "2021-06-25T17:55:14.533Z"
   },
   {
    "duration": 112,
    "start_time": "2021-06-25T17:55:36.200Z"
   },
   {
    "duration": 1455,
    "start_time": "2021-06-25T17:56:41.271Z"
   },
   {
    "duration": 481,
    "start_time": "2021-06-25T17:56:42.729Z"
   },
   {
    "duration": 26,
    "start_time": "2021-06-25T17:56:43.213Z"
   },
   {
    "duration": 15,
    "start_time": "2021-06-25T17:56:43.242Z"
   },
   {
    "duration": 19,
    "start_time": "2021-06-25T17:56:43.260Z"
   },
   {
    "duration": 29,
    "start_time": "2021-06-25T17:56:43.281Z"
   },
   {
    "duration": 15,
    "start_time": "2021-06-25T17:56:43.313Z"
   },
   {
    "duration": 12,
    "start_time": "2021-06-25T17:56:43.332Z"
   },
   {
    "duration": 6,
    "start_time": "2021-06-25T17:56:43.347Z"
   },
   {
    "duration": 32,
    "start_time": "2021-06-25T17:56:43.355Z"
   },
   {
    "duration": 27,
    "start_time": "2021-06-25T17:56:43.390Z"
   },
   {
    "duration": 19,
    "start_time": "2021-06-25T17:56:43.420Z"
   },
   {
    "duration": 5,
    "start_time": "2021-06-25T17:56:43.441Z"
   },
   {
    "duration": 7,
    "start_time": "2021-06-25T17:56:43.449Z"
   },
   {
    "duration": 8,
    "start_time": "2021-06-25T17:56:43.458Z"
   },
   {
    "duration": 93,
    "start_time": "2021-06-25T17:56:43.468Z"
   },
   {
    "duration": 12,
    "start_time": "2021-06-25T17:56:43.563Z"
   },
   {
    "duration": 44,
    "start_time": "2021-06-25T17:56:43.577Z"
   },
   {
    "duration": 204,
    "start_time": "2021-06-25T17:56:43.708Z"
   },
   {
    "duration": 100,
    "start_time": "2021-06-25T17:56:43.915Z"
   },
   {
    "duration": 91,
    "start_time": "2021-06-25T17:56:44.018Z"
   },
   {
    "duration": 6,
    "start_time": "2021-06-25T17:56:44.112Z"
   },
   {
    "duration": 9,
    "start_time": "2021-06-25T17:56:44.122Z"
   },
   {
    "duration": 6,
    "start_time": "2021-06-25T17:56:44.133Z"
   },
   {
    "duration": 21,
    "start_time": "2021-06-25T17:56:44.141Z"
   },
   {
    "duration": 4,
    "start_time": "2021-06-25T17:56:44.165Z"
   },
   {
    "duration": 43,
    "start_time": "2021-06-25T17:56:44.171Z"
   },
   {
    "duration": 9,
    "start_time": "2021-06-25T17:56:44.216Z"
   },
   {
    "duration": 1621,
    "start_time": "2021-06-25T17:56:44.228Z"
   },
   {
    "duration": 1589,
    "start_time": "2021-06-25T17:56:45.852Z"
   },
   {
    "duration": 1623,
    "start_time": "2021-06-25T17:56:47.443Z"
   },
   {
    "duration": 5,
    "start_time": "2021-06-25T17:56:49.068Z"
   },
   {
    "duration": 22,
    "start_time": "2021-06-25T17:56:49.075Z"
   },
   {
    "duration": 30,
    "start_time": "2021-06-25T17:56:49.099Z"
   },
   {
    "duration": 1005,
    "start_time": "2021-07-07T08:36:11.783Z"
   },
   {
    "duration": 1012,
    "start_time": "2021-07-07T08:36:20.073Z"
   },
   {
    "duration": 331,
    "start_time": "2021-07-07T08:36:21.087Z"
   },
   {
    "duration": 13,
    "start_time": "2021-07-07T08:36:21.420Z"
   },
   {
    "duration": 8,
    "start_time": "2021-07-07T08:36:21.434Z"
   },
   {
    "duration": 8,
    "start_time": "2021-07-07T08:36:21.443Z"
   },
   {
    "duration": 8,
    "start_time": "2021-07-07T08:36:21.453Z"
   },
   {
    "duration": 9,
    "start_time": "2021-07-07T08:36:21.463Z"
   },
   {
    "duration": 6,
    "start_time": "2021-07-07T08:36:21.474Z"
   },
   {
    "duration": 19,
    "start_time": "2021-07-07T08:36:21.482Z"
   },
   {
    "duration": 14,
    "start_time": "2021-07-07T08:36:21.502Z"
   },
   {
    "duration": 13,
    "start_time": "2021-07-07T08:36:21.517Z"
   },
   {
    "duration": 3,
    "start_time": "2021-07-07T08:36:21.532Z"
   },
   {
    "duration": 8,
    "start_time": "2021-07-07T08:36:21.536Z"
   },
   {
    "duration": 10,
    "start_time": "2021-07-07T08:36:21.546Z"
   },
   {
    "duration": 49,
    "start_time": "2021-07-07T08:36:21.558Z"
   },
   {
    "duration": 6,
    "start_time": "2021-07-07T08:36:21.609Z"
   },
   {
    "duration": 80,
    "start_time": "2021-07-07T08:36:21.617Z"
   },
   {
    "duration": 108,
    "start_time": "2021-07-07T08:36:21.699Z"
   },
   {
    "duration": 192,
    "start_time": "2021-07-07T08:36:21.809Z"
   },
   {
    "duration": 3,
    "start_time": "2021-07-07T08:36:22.091Z"
   },
   {
    "duration": 8,
    "start_time": "2021-07-07T08:36:22.095Z"
   },
   {
    "duration": 14,
    "start_time": "2021-07-07T08:36:22.104Z"
   },
   {
    "duration": 4,
    "start_time": "2021-07-07T08:36:22.120Z"
   },
   {
    "duration": 13,
    "start_time": "2021-07-07T08:36:22.126Z"
   },
   {
    "duration": 5,
    "start_time": "2021-07-07T08:36:22.141Z"
   },
   {
    "duration": 16,
    "start_time": "2021-07-07T08:36:22.147Z"
   },
   {
    "duration": 9,
    "start_time": "2021-07-07T08:36:22.164Z"
   },
   {
    "duration": 1031,
    "start_time": "2021-07-07T08:36:22.175Z"
   },
   {
    "duration": 809,
    "start_time": "2021-07-07T08:36:23.207Z"
   },
   {
    "duration": 792,
    "start_time": "2021-07-07T08:36:24.017Z"
   },
   {
    "duration": 3,
    "start_time": "2021-07-07T08:36:24.811Z"
   },
   {
    "duration": 8,
    "start_time": "2021-07-07T08:36:24.815Z"
   },
   {
    "duration": 7,
    "start_time": "2021-07-07T08:36:24.824Z"
   },
   {
    "duration": 33,
    "start_time": "2021-07-07T08:36:42.662Z"
   },
   {
    "duration": 9,
    "start_time": "2021-07-07T08:36:47.019Z"
   }
  ],
  "kernelspec": {
   "display_name": "Python 3 (ipykernel)",
   "language": "python",
   "name": "python3"
  },
  "language_info": {
   "codemirror_mode": {
    "name": "ipython",
    "version": 3
   },
   "file_extension": ".py",
   "mimetype": "text/x-python",
   "name": "python",
   "nbconvert_exporter": "python",
   "pygments_lexer": "ipython3",
   "version": "3.9.7"
  },
  "toc": {
   "base_numbering": 1,
   "nav_menu": {},
   "number_sections": true,
   "sideBar": true,
   "skip_h1_title": true,
   "title_cell": "Table of Contents",
   "title_sidebar": "Contents",
   "toc_cell": false,
   "toc_position": {},
   "toc_section_display": true,
   "toc_window_display": false
  }
 },
 "nbformat": 4,
 "nbformat_minor": 2
}
